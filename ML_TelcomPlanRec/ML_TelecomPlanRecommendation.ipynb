{
 "cells": [
  {
   "cell_type": "code",
   "execution_count": 1,
   "metadata": {},
   "outputs": [],
   "source": [
    "# import necessary libraries\n",
    "import pandas as pd\n",
    "from sklearn.metrics import accuracy_score, confusion_matrix, classification_report\n",
    "from sklearn.model_selection import train_test_split, GridSearchCV\n",
    "from sklearn.tree import DecisionTreeClassifier\n",
    "from sklearn.ensemble import RandomForestClassifier\n",
    "from sklearn.linear_model import LogisticRegression\n",
    "import warnings\n",
    "warnings.filterwarnings('ignore')"
   ]
  },
  {
   "cell_type": "markdown",
   "metadata": {},
   "source": [
    "## Introduction\n",
    "\n",
    "__This is a predictive ML model development project for a mobile carrier (Megaline) to help assist their customers in picking one of their new coverage plans: \"Smart\" (0) or \"Ultra\" (1).  We will look at 3 possible classifier models and optimize each's hyperparameters to select the most accurate model. Using plan data that I have previously analyzed and processed, which includes call count, call minutes, messages, and megabytes used, we will split up indiviual training, validation, and test sets to train and test the chosen, optimized model. Each users data is classified by their plan. Choosing the most accurate option, the model must have a minimum accuracy threshold of at least 75%. Finally, we will evalute the model with a confusion matrix, and look at a classification report on the model's efficacy.__ "
   ]
  },
  {
   "cell_type": "code",
   "execution_count": 2,
   "metadata": {},
   "outputs": [],
   "source": [
    "# read in csv to dataframe\n",
    "df = pd.read_csv('/datasets/users_behavior.csv')"
   ]
  },
  {
   "cell_type": "code",
   "execution_count": 3,
   "metadata": {},
   "outputs": [
    {
     "name": "stdout",
     "output_type": "stream",
     "text": [
      "<class 'pandas.core.frame.DataFrame'>\n",
      "RangeIndex: 3214 entries, 0 to 3213\n",
      "Data columns (total 5 columns):\n",
      " #   Column    Non-Null Count  Dtype  \n",
      "---  ------    --------------  -----  \n",
      " 0   calls     3214 non-null   float64\n",
      " 1   minutes   3214 non-null   float64\n",
      " 2   messages  3214 non-null   float64\n",
      " 3   mb_used   3214 non-null   float64\n",
      " 4   is_ultra  3214 non-null   int64  \n",
      "dtypes: float64(4), int64(1)\n",
      "memory usage: 125.7 KB\n"
     ]
    }
   ],
   "source": [
    "# get dataframe info\n",
    "df.info()"
   ]
  },
  {
   "cell_type": "code",
   "execution_count": 4,
   "metadata": {},
   "outputs": [
    {
     "data": {
      "text/plain": [
       "(3214, 5)"
      ]
     },
     "execution_count": 4,
     "metadata": {},
     "output_type": "execute_result"
    }
   ],
   "source": [
    "# get dataframe shape\n",
    "df.shape"
   ]
  },
  {
   "cell_type": "code",
   "execution_count": 5,
   "metadata": {
    "scrolled": false
   },
   "outputs": [
    {
     "data": {
      "text/html": [
       "<div>\n",
       "<style scoped>\n",
       "    .dataframe tbody tr th:only-of-type {\n",
       "        vertical-align: middle;\n",
       "    }\n",
       "\n",
       "    .dataframe tbody tr th {\n",
       "        vertical-align: top;\n",
       "    }\n",
       "\n",
       "    .dataframe thead th {\n",
       "        text-align: right;\n",
       "    }\n",
       "</style>\n",
       "<table border=\"1\" class=\"dataframe\">\n",
       "  <thead>\n",
       "    <tr style=\"text-align: right;\">\n",
       "      <th></th>\n",
       "      <th>calls</th>\n",
       "      <th>minutes</th>\n",
       "      <th>messages</th>\n",
       "      <th>mb_used</th>\n",
       "      <th>is_ultra</th>\n",
       "    </tr>\n",
       "  </thead>\n",
       "  <tbody>\n",
       "    <tr>\n",
       "      <th>1233</th>\n",
       "      <td>88.0</td>\n",
       "      <td>580.46</td>\n",
       "      <td>75.0</td>\n",
       "      <td>7325.36</td>\n",
       "      <td>1</td>\n",
       "    </tr>\n",
       "    <tr>\n",
       "      <th>177</th>\n",
       "      <td>110.0</td>\n",
       "      <td>801.62</td>\n",
       "      <td>37.0</td>\n",
       "      <td>5426.56</td>\n",
       "      <td>1</td>\n",
       "    </tr>\n",
       "    <tr>\n",
       "      <th>2306</th>\n",
       "      <td>54.0</td>\n",
       "      <td>366.17</td>\n",
       "      <td>59.0</td>\n",
       "      <td>19497.32</td>\n",
       "      <td>0</td>\n",
       "    </tr>\n",
       "    <tr>\n",
       "      <th>1980</th>\n",
       "      <td>47.0</td>\n",
       "      <td>367.09</td>\n",
       "      <td>42.0</td>\n",
       "      <td>22329.28</td>\n",
       "      <td>0</td>\n",
       "    </tr>\n",
       "    <tr>\n",
       "      <th>355</th>\n",
       "      <td>29.0</td>\n",
       "      <td>203.90</td>\n",
       "      <td>0.0</td>\n",
       "      <td>39969.14</td>\n",
       "      <td>1</td>\n",
       "    </tr>\n",
       "    <tr>\n",
       "      <th>1655</th>\n",
       "      <td>48.0</td>\n",
       "      <td>313.96</td>\n",
       "      <td>37.0</td>\n",
       "      <td>17915.92</td>\n",
       "      <td>0</td>\n",
       "    </tr>\n",
       "    <tr>\n",
       "      <th>2910</th>\n",
       "      <td>30.0</td>\n",
       "      <td>227.70</td>\n",
       "      <td>0.0</td>\n",
       "      <td>29555.11</td>\n",
       "      <td>1</td>\n",
       "    </tr>\n",
       "    <tr>\n",
       "      <th>591</th>\n",
       "      <td>60.0</td>\n",
       "      <td>419.02</td>\n",
       "      <td>21.0</td>\n",
       "      <td>11407.52</td>\n",
       "      <td>1</td>\n",
       "    </tr>\n",
       "    <tr>\n",
       "      <th>2081</th>\n",
       "      <td>76.0</td>\n",
       "      <td>535.01</td>\n",
       "      <td>20.0</td>\n",
       "      <td>12272.83</td>\n",
       "      <td>0</td>\n",
       "    </tr>\n",
       "    <tr>\n",
       "      <th>1806</th>\n",
       "      <td>62.0</td>\n",
       "      <td>364.31</td>\n",
       "      <td>0.0</td>\n",
       "      <td>13259.50</td>\n",
       "      <td>0</td>\n",
       "    </tr>\n",
       "  </tbody>\n",
       "</table>\n",
       "</div>"
      ],
      "text/plain": [
       "      calls  minutes  messages   mb_used  is_ultra\n",
       "1233   88.0   580.46      75.0   7325.36         1\n",
       "177   110.0   801.62      37.0   5426.56         1\n",
       "2306   54.0   366.17      59.0  19497.32         0\n",
       "1980   47.0   367.09      42.0  22329.28         0\n",
       "355    29.0   203.90       0.0  39969.14         1\n",
       "1655   48.0   313.96      37.0  17915.92         0\n",
       "2910   30.0   227.70       0.0  29555.11         1\n",
       "591    60.0   419.02      21.0  11407.52         1\n",
       "2081   76.0   535.01      20.0  12272.83         0\n",
       "1806   62.0   364.31       0.0  13259.50         0"
      ]
     },
     "execution_count": 5,
     "metadata": {},
     "output_type": "execute_result"
    }
   ],
   "source": [
    "# observe a random slice of the dataframe\n",
    "df.sample(10)"
   ]
  },
  {
   "cell_type": "code",
   "execution_count": 6,
   "metadata": {},
   "outputs": [],
   "source": [
    "# define model features and target, where 0 = 'Smart' and 1 = 'Ultra'\n",
    "features = df.drop(['is_ultra'], axis=1)\n",
    "target = df['is_ultra']"
   ]
  },
  {
   "cell_type": "markdown",
   "metadata": {},
   "source": [
    "## Split the data into train, validation, and test sets\n",
    "\n",
    "Since we don't have a separate test set of data, I'll use a roughly 3:1:1 split ratio to split 75% of the data into the training set, with 20% each for both the validation and test sets."
   ]
  },
  {
   "cell_type": "code",
   "execution_count": 7,
   "metadata": {
    "scrolled": true
   },
   "outputs": [
    {
     "name": "stdout",
     "output_type": "stream",
     "text": [
      "(2410, 4)\n",
      "(2410,)\n",
      "(402, 4)\n",
      "(402,)\n",
      "(402, 4)\n",
      "(402,)\n"
     ]
    }
   ],
   "source": [
    "# split the data into train(75%), test(20%), and validation(20%) sets. A 3:1:1 ratio for Train, Validation, and Test sets.\n",
    "train_ratio = 0.75\n",
    "test_ratio = 0.20\n",
    "validation_ratio = 0.20\n",
    "# training set\n",
    "feature_train, feature_test, target_train, target_test = train_test_split(features, target, test_size=1-train_ratio, random_state=12345)\n",
    "# test and validation sets\n",
    "feature_valid, test_feature, target_valid, test_target = train_test_split(feature_test, target_test, test_size=test_ratio/(test_ratio+validation_ratio))\n",
    "print(feature_train.shape)\n",
    "print(target_train.shape)\n",
    "print(feature_valid.shape)\n",
    "print(target_valid.shape)\n",
    "print(test_feature.shape)\n",
    "print(test_target.shape)"
   ]
  },
  {
   "cell_type": "markdown",
   "metadata": {},
   "source": [
    "## Tune model hyperparameters\n",
    "\n",
    "Tuning the hyperparameters on the random forest, decision tree, and logistic regression models, using GridSearchCV to optimize and select the most accurate one."
   ]
  },
  {
   "cell_type": "code",
   "execution_count": 54,
   "metadata": {},
   "outputs": [
    {
     "name": "stdout",
     "output_type": "stream",
     "text": [
      "{'max_depth': 9, 'max_features': 'auto', 'n_estimators': 34}\n",
      "0.821161825726141\n"
     ]
    }
   ],
   "source": [
    "# tune hyperparameters on random forest classifier\n",
    "rfc = RandomForestClassifier(random_state=12345)\n",
    "forest_params = [{'max_depth': list(range(1, 14)), 'max_features': ['auto', 'sqrt'], 'n_estimators': list(range(1, 50))}] # signify which hyperparameters to target\n",
    "clf = GridSearchCV(rfc, forest_params, cv=10, scoring='accuracy')\n",
    "clf.fit(feature_train, target_train)\n",
    "print(clf.best_params_)\n",
    "print(clf.best_score_)"
   ]
  },
  {
   "cell_type": "code",
   "execution_count": 55,
   "metadata": {},
   "outputs": [
    {
     "name": "stdout",
     "output_type": "stream",
     "text": [
      "{'criterion': 'gini', 'max_depth': 9}\n",
      "0.8004149377593361\n"
     ]
    }
   ],
   "source": [
    "# tune hyperparameters on decision tree classifier\n",
    "dtc = DecisionTreeClassifier(random_state=12345)\n",
    "tree_params = [{'max_depth': list(range(1, 14)), 'criterion': ['entropy', 'gini']}] # signify which hyperparameters to target\n",
    "clf_a = GridSearchCV(dtc, tree_params, cv=10, scoring='accuracy')\n",
    "clf_a.fit(feature_train, target_train)\n",
    "print(clf_a.best_params_)\n",
    "print(clf_a.best_score_)"
   ]
  },
  {
   "cell_type": "code",
   "execution_count": 56,
   "metadata": {},
   "outputs": [
    {
     "name": "stdout",
     "output_type": "stream",
     "text": [
      "{'C': 0.01, 'penalty': 'none', 'solver': 'newton-cg'}\n",
      "0.74149377593361\n"
     ]
    }
   ],
   "source": [
    "# tune hyperparameters on logistic regression classifier\n",
    "lrc = LogisticRegression(random_state=12345)\n",
    "lr_params = [{'solver': ['newton-cg', 'lbfgs', 'liblinear', 'sag', 'saga'], 'penalty': ['none', 'elasticnet', 'l1', 'l2'], 'C': [0.01, 0.05, 0.10, 0.50, 0.75, 1.00]}] # signify which hyperparameters to target\n",
    "clf_b = GridSearchCV(lrc, lr_params, cv=10, scoring='accuracy')\n",
    "clf_b.fit(feature_train, target_train)\n",
    "print(clf_b.best_params_)\n",
    "print(clf_b.best_score_)"
   ]
  },
  {
   "cell_type": "markdown",
   "metadata": {},
   "source": [
    "## Train and test the final model\n",
    "Based on the above accuracy scores, I'm choosing to incorporate an optimized random forest classifier model to help predict the right plan for individual megaline customers as it has the highest accuracy at 82%. The random forest classifier incorporates an ensemble of trees rather than just one, and it minimizes the possiblity of overfitting."
   ]
  },
  {
   "cell_type": "code",
   "execution_count": 9,
   "metadata": {},
   "outputs": [],
   "source": [
    "# run the test features through the final, optimized random forest classifier model to analyze accuracy\n",
    "final_model = RandomForestClassifier(random_state=12345, max_depth=9, max_features='auto', n_estimators=34)\n",
    "final_model.fit(feature_train, target_train)\n",
    "train_predictions = final_model.predict(feature_train)\n",
    "test_predictions = final_model.predict(test_feature)"
   ]
  },
  {
   "cell_type": "markdown",
   "metadata": {},
   "source": [
    "## Get accuracy score\n",
    "\n",
    "Calculate and compare the accuracy scores for both the training and test data sets.  The training set accuracy comes out at about 88%. Given the test set accuracy is at 81%, well above the 75% threshold for this model's development, we can move forward with evaluating the model."
   ]
  },
  {
   "cell_type": "code",
   "execution_count": 10,
   "metadata": {},
   "outputs": [
    {
     "name": "stdout",
     "output_type": "stream",
     "text": [
      "Training set accuracy: 0.8771784232365145\n"
     ]
    }
   ],
   "source": [
    "# test the accuracy of the train set\n",
    "train_accuracy = accuracy_score(target_train, train_predictions)\n",
    "print(\"Training set accuracy:\", train_accuracy)"
   ]
  },
  {
   "cell_type": "code",
   "execution_count": 11,
   "metadata": {},
   "outputs": [
    {
     "name": "stdout",
     "output_type": "stream",
     "text": [
      "Test set accuracy: 0.8109452736318408\n"
     ]
    }
   ],
   "source": [
    "# test the accuracy of the test set\n",
    "test_accuracy = accuracy_score(test_target, test_predictions)\n",
    "print(\"Test set accuracy:\", test_accuracy)"
   ]
  },
  {
   "cell_type": "markdown",
   "metadata": {},
   "source": [
    "## Evaluate the model\n",
    "\n",
    "Using a confusion matrix in conjuction with a classification report, we will evalute the model's error percentage, as well as it's precision and recall.  The values on the diagonal axis (top left to bottom right) of the the matrix show the number of times the model predicted correctly vs the times it didn't.  Precision is equated to the number of times the model predicted the coverage plan correctly divided by the total number of times the model selected the coverage plan overall, correctly or incorrectly.  The recall equates to the number of each plan the model predicted correctly divided by the total number of members that plan."
   ]
  },
  {
   "cell_type": "code",
   "execution_count": 19,
   "metadata": {
    "scrolled": true
   },
   "outputs": [
    {
     "name": "stdout",
     "output_type": "stream",
     "text": [
      "[[253  16]\n",
      " [ 60  73]]\n"
     ]
    }
   ],
   "source": [
    "# evaluate the random forest model with a confusion matrix\n",
    "matrix = confusion_matrix(test_target, test_predictions)\n",
    "print(matrix)"
   ]
  },
  {
   "cell_type": "code",
   "execution_count": 24,
   "metadata": {},
   "outputs": [
    {
     "data": {
      "image/png": "[encoded data removed]",
      "text/plain": [
       "<Figure size 1600x700 with 2 Axes>"
      ]
     },
     "metadata": {},
     "output_type": "display_data"
    }
   ],
   "source": [
    "plt.figure(figsize=(16,7))\n",
    "sns.set(font_scale=1.4)\n",
    "sns.heatmap(matrix, annot=True, annot_kws={'size':10},\n",
    "            cmap='Purples', linewidths=0.2)\n",
    "plt.xlabel('Predicted')\n",
    "plt.ylabel('True')\n",
    "plt.title('Confusion Matrix for Random Forest Model predicting users coverage plan')\n",
    "plt.show()"
   ]
  },
  {
   "cell_type": "code",
   "execution_count": 16,
   "metadata": {},
   "outputs": [
    {
     "name": "stdout",
     "output_type": "stream",
     "text": [
      "              precision    recall  f1-score   support\n",
      "\n",
      "           0       0.81      0.94      0.87       269\n",
      "           1       0.82      0.55      0.66       133\n",
      "\n",
      "    accuracy                           0.81       402\n",
      "   macro avg       0.81      0.74      0.76       402\n",
      "weighted avg       0.81      0.81      0.80       402\n",
      "\n"
     ]
    }
   ],
   "source": [
    "# print a classification report on the random forest model test set and predictions\n",
    "print(classification_report(test_target, test_predictions))"
   ]
  },
  {
   "cell_type": "markdown",
   "metadata": {},
   "source": [
    "## Conclusion\n",
    "Overall, our random forest final model's accuracy was 81% in predicting the correct coverage plan for each Megaline customer.  It chose the \"Smart\" plan correctly 253 times and the \"Ultra\" plan correctly 73 times. The precision score of our model in reference to each plan was 81% for \"Smart\" and 82% for \"Ultra\", which means the model was pretty good at not matching plans incorrectly.  However, the recall score for the \"Ultra\" plans was relatively low, meaning that the model may be misidentifying the \"Ultra\" plans because it's being too careful in it's classification. The F1 score reflects this imbalance at 66%, as it's a combination of both the precision and recall scores.  Overall, the model, while not perfect, performs well above the overall accuracy threshold of 75% and can be used to predict users' new coverage plans to an above 80% precision.  Combining more data with perhaps more features to the training and test sets when available, will help to improve this models classification accuracy and overall efficacy in pridicting plans for users moving forward."
   ]
  }
 ],
 "metadata": {
  "ExecuteTimeLog": [
   {
    "duration": 462,
    "start_time": "2024-05-29T18:02:01.314Z"
   },
   {
    "duration": 21,
    "start_time": "2024-05-29T18:02:01.780Z"
   },
   {
    "duration": 16,
    "start_time": "2024-05-29T18:02:01.805Z"
   },
   {
    "duration": 25,
    "start_time": "2024-05-29T18:02:01.824Z"
   },
   {
    "duration": 352,
    "start_time": "2024-05-29T18:29:22.986Z"
   },
   {
    "duration": 744,
    "start_time": "2024-05-29T18:29:31.855Z"
   },
   {
    "duration": 12,
    "start_time": "2024-05-29T18:29:32.605Z"
   },
   {
    "duration": 14,
    "start_time": "2024-05-29T18:29:32.620Z"
   },
   {
    "duration": 111,
    "start_time": "2024-05-29T18:29:32.637Z"
   },
   {
    "duration": 24,
    "start_time": "2024-05-29T18:29:49.421Z"
   },
   {
    "duration": 5,
    "start_time": "2024-05-29T18:29:59.667Z"
   },
   {
    "duration": 457,
    "start_time": "2024-05-30T17:12:47.736Z"
   },
   {
    "duration": 1307,
    "start_time": "2024-05-30T17:12:55.233Z"
   },
   {
    "duration": 20,
    "start_time": "2024-05-30T17:12:56.545Z"
   },
   {
    "duration": 16,
    "start_time": "2024-05-30T17:12:56.568Z"
   },
   {
    "duration": 9,
    "start_time": "2024-05-30T17:12:56.587Z"
   },
   {
    "duration": 44,
    "start_time": "2024-05-30T17:12:56.601Z"
   },
   {
    "duration": 6,
    "start_time": "2024-05-30T17:12:56.648Z"
   },
   {
    "duration": 31,
    "start_time": "2024-05-30T17:12:56.657Z"
   },
   {
    "duration": 20,
    "start_time": "2024-05-30T17:13:15.405Z"
   },
   {
    "duration": 21,
    "start_time": "2024-05-30T17:18:09.626Z"
   },
   {
    "duration": 22,
    "start_time": "2024-05-30T17:18:20.222Z"
   },
   {
    "duration": 12,
    "start_time": "2024-05-30T17:25:14.239Z"
   },
   {
    "duration": 5,
    "start_time": "2024-05-30T21:27:40.959Z"
   },
   {
    "duration": 13,
    "start_time": "2024-05-30T21:27:40.969Z"
   },
   {
    "duration": 14,
    "start_time": "2024-05-30T21:27:40.986Z"
   },
   {
    "duration": 6,
    "start_time": "2024-05-30T21:27:41.004Z"
   },
   {
    "duration": 30,
    "start_time": "2024-05-30T21:27:41.014Z"
   },
   {
    "duration": 5,
    "start_time": "2024-05-30T21:27:41.047Z"
   },
   {
    "duration": 11,
    "start_time": "2024-05-30T21:27:41.054Z"
   },
   {
    "duration": 47472,
    "start_time": "2024-05-30T21:27:41.068Z"
   },
   {
    "duration": 46092,
    "start_time": "2024-05-30T21:30:11.642Z"
   },
   {
    "duration": 5,
    "start_time": "2024-05-30T21:48:27.540Z"
   },
   {
    "duration": 12,
    "start_time": "2024-05-30T21:48:27.549Z"
   },
   {
    "duration": 14,
    "start_time": "2024-05-30T21:48:27.564Z"
   },
   {
    "duration": 6,
    "start_time": "2024-05-30T21:48:27.581Z"
   },
   {
    "duration": 50,
    "start_time": "2024-05-30T21:48:27.593Z"
   },
   {
    "duration": 5,
    "start_time": "2024-05-30T21:48:27.646Z"
   },
   {
    "duration": 9,
    "start_time": "2024-05-30T21:48:27.654Z"
   },
   {
    "duration": 47778,
    "start_time": "2024-05-30T21:48:27.666Z"
   },
   {
    "duration": 133,
    "start_time": "2024-05-30T21:49:15.447Z"
   },
   {
    "duration": 842,
    "start_time": "2024-05-30T21:49:15.583Z"
   },
   {
    "duration": 0,
    "start_time": "2024-05-30T21:49:16.430Z"
   },
   {
    "duration": 5,
    "start_time": "2024-05-30T21:53:35.453Z"
   },
   {
    "duration": 12,
    "start_time": "2024-05-30T21:53:35.462Z"
   },
   {
    "duration": 13,
    "start_time": "2024-05-30T21:53:35.479Z"
   },
   {
    "duration": 5,
    "start_time": "2024-05-30T21:53:35.495Z"
   },
   {
    "duration": 32,
    "start_time": "2024-05-30T21:53:35.504Z"
   },
   {
    "duration": 5,
    "start_time": "2024-05-30T21:53:35.540Z"
   },
   {
    "duration": 9,
    "start_time": "2024-05-30T21:53:35.549Z"
   },
   {
    "duration": 47814,
    "start_time": "2024-05-30T21:53:35.560Z"
   },
   {
    "duration": 130,
    "start_time": "2024-05-30T21:54:23.377Z"
   },
   {
    "duration": 111,
    "start_time": "2024-05-30T21:54:23.510Z"
   },
   {
    "duration": 0,
    "start_time": "2024-05-30T21:54:23.624Z"
   },
   {
    "duration": 6,
    "start_time": "2024-05-30T22:01:06.940Z"
   },
   {
    "duration": 4,
    "start_time": "2024-05-30T22:04:41.917Z"
   },
   {
    "duration": 12,
    "start_time": "2024-05-30T22:04:41.926Z"
   },
   {
    "duration": 14,
    "start_time": "2024-05-30T22:04:41.940Z"
   },
   {
    "duration": 6,
    "start_time": "2024-05-30T22:04:41.957Z"
   },
   {
    "duration": 15,
    "start_time": "2024-05-30T22:04:41.968Z"
   },
   {
    "duration": 5,
    "start_time": "2024-05-30T22:04:41.987Z"
   },
   {
    "duration": 19,
    "start_time": "2024-05-30T22:04:42.032Z"
   },
   {
    "duration": 48770,
    "start_time": "2024-05-30T22:04:42.054Z"
   },
   {
    "duration": 129,
    "start_time": "2024-05-30T22:05:30.831Z"
   },
   {
    "duration": 5,
    "start_time": "2024-05-30T22:05:30.963Z"
   },
   {
    "duration": 135,
    "start_time": "2024-05-30T22:05:30.972Z"
   },
   {
    "duration": 4,
    "start_time": "2024-05-30T22:14:25.655Z"
   },
   {
    "duration": 12,
    "start_time": "2024-05-30T22:14:25.664Z"
   },
   {
    "duration": 15,
    "start_time": "2024-05-30T22:14:25.678Z"
   },
   {
    "duration": 6,
    "start_time": "2024-05-30T22:14:25.696Z"
   },
   {
    "duration": 32,
    "start_time": "2024-05-30T22:14:25.706Z"
   },
   {
    "duration": 5,
    "start_time": "2024-05-30T22:14:25.742Z"
   },
   {
    "duration": 9,
    "start_time": "2024-05-30T22:14:25.751Z"
   },
   {
    "duration": 46450,
    "start_time": "2024-05-30T22:14:25.763Z"
   },
   {
    "duration": 143,
    "start_time": "2024-05-30T22:15:12.216Z"
   },
   {
    "duration": 269,
    "start_time": "2024-05-30T22:15:12.362Z"
   },
   {
    "duration": 0,
    "start_time": "2024-05-30T22:15:12.636Z"
   },
   {
    "duration": 12,
    "start_time": "2024-05-30T22:20:14.285Z"
   },
   {
    "duration": 4,
    "start_time": "2024-05-30T22:26:00.498Z"
   },
   {
    "duration": 12,
    "start_time": "2024-05-30T22:26:00.506Z"
   },
   {
    "duration": 14,
    "start_time": "2024-05-30T22:26:00.521Z"
   },
   {
    "duration": 6,
    "start_time": "2024-05-30T22:26:00.538Z"
   },
   {
    "duration": 15,
    "start_time": "2024-05-30T22:26:00.548Z"
   },
   {
    "duration": 5,
    "start_time": "2024-05-30T22:26:00.566Z"
   },
   {
    "duration": 57,
    "start_time": "2024-05-30T22:26:00.574Z"
   },
   {
    "duration": 46288,
    "start_time": "2024-05-30T22:26:00.634Z"
   },
   {
    "duration": 37,
    "start_time": "2024-05-30T22:26:46.925Z"
   },
   {
    "duration": 80,
    "start_time": "2024-05-30T22:26:46.964Z"
   },
   {
    "duration": 0,
    "start_time": "2024-05-30T22:26:47.047Z"
   },
   {
    "duration": 5,
    "start_time": "2024-05-30T22:27:31.995Z"
   },
   {
    "duration": 14,
    "start_time": "2024-05-30T22:27:32.004Z"
   },
   {
    "duration": 22,
    "start_time": "2024-05-30T22:27:32.021Z"
   },
   {
    "duration": 6,
    "start_time": "2024-05-30T22:27:32.050Z"
   },
   {
    "duration": 18,
    "start_time": "2024-05-30T22:27:32.059Z"
   },
   {
    "duration": 5,
    "start_time": "2024-05-30T22:27:32.080Z"
   },
   {
    "duration": 45,
    "start_time": "2024-05-30T22:27:32.088Z"
   },
   {
    "duration": 46215,
    "start_time": "2024-05-30T22:27:32.137Z"
   },
   {
    "duration": 75,
    "start_time": "2024-05-30T22:28:18.355Z"
   },
   {
    "duration": 24,
    "start_time": "2024-05-30T22:28:18.435Z"
   },
   {
    "duration": 0,
    "start_time": "2024-05-30T22:28:18.461Z"
   },
   {
    "duration": 4,
    "start_time": "2024-05-30T22:28:26.280Z"
   },
   {
    "duration": 12,
    "start_time": "2024-05-30T22:28:26.289Z"
   },
   {
    "duration": 16,
    "start_time": "2024-05-30T22:28:26.304Z"
   },
   {
    "duration": 7,
    "start_time": "2024-05-30T22:28:26.323Z"
   },
   {
    "duration": 16,
    "start_time": "2024-05-30T22:28:26.334Z"
   },
   {
    "duration": 6,
    "start_time": "2024-05-30T22:28:26.354Z"
   },
   {
    "duration": 11,
    "start_time": "2024-05-30T22:28:26.364Z"
   },
   {
    "duration": 46367,
    "start_time": "2024-05-30T22:28:26.378Z"
   },
   {
    "duration": 48,
    "start_time": "2024-05-30T22:29:12.748Z"
   },
   {
    "duration": 32,
    "start_time": "2024-05-30T22:29:12.799Z"
   },
   {
    "duration": 8,
    "start_time": "2024-05-30T22:29:12.834Z"
   },
   {
    "duration": 4,
    "start_time": "2024-05-30T22:30:27.586Z"
   },
   {
    "duration": 13,
    "start_time": "2024-05-30T22:30:27.594Z"
   },
   {
    "duration": 16,
    "start_time": "2024-05-30T22:30:27.610Z"
   },
   {
    "duration": 6,
    "start_time": "2024-05-30T22:30:27.631Z"
   },
   {
    "duration": 16,
    "start_time": "2024-05-30T22:30:27.642Z"
   },
   {
    "duration": 6,
    "start_time": "2024-05-30T22:30:27.660Z"
   },
   {
    "duration": 12,
    "start_time": "2024-05-30T22:30:27.669Z"
   },
   {
    "duration": 46485,
    "start_time": "2024-05-30T22:30:27.684Z"
   },
   {
    "duration": 118,
    "start_time": "2024-05-30T22:31:14.172Z"
   },
   {
    "duration": 6,
    "start_time": "2024-05-30T22:31:14.293Z"
   },
   {
    "duration": 6,
    "start_time": "2024-05-30T22:31:14.302Z"
   },
   {
    "duration": 1195,
    "start_time": "2024-05-31T22:12:58.850Z"
   },
   {
    "duration": 17,
    "start_time": "2024-05-31T22:13:00.048Z"
   },
   {
    "duration": 25,
    "start_time": "2024-05-31T22:13:00.069Z"
   },
   {
    "duration": 9,
    "start_time": "2024-05-31T22:13:00.099Z"
   },
   {
    "duration": 19,
    "start_time": "2024-05-31T22:13:00.111Z"
   },
   {
    "duration": 6,
    "start_time": "2024-05-31T22:13:00.133Z"
   },
   {
    "duration": 53,
    "start_time": "2024-05-31T22:13:00.142Z"
   },
   {
    "duration": 1248,
    "start_time": "2024-05-31T22:16:15.807Z"
   },
   {
    "duration": 12,
    "start_time": "2024-05-31T22:16:17.060Z"
   },
   {
    "duration": 31,
    "start_time": "2024-05-31T22:16:17.075Z"
   },
   {
    "duration": 9,
    "start_time": "2024-05-31T22:16:17.110Z"
   },
   {
    "duration": 20,
    "start_time": "2024-05-31T22:16:17.126Z"
   },
   {
    "duration": 42,
    "start_time": "2024-05-31T22:16:17.149Z"
   },
   {
    "duration": 11,
    "start_time": "2024-05-31T22:16:17.195Z"
   },
   {
    "duration": 208310,
    "start_time": "2024-05-31T22:16:17.209Z"
   },
   {
    "duration": 0,
    "start_time": "2024-05-31T22:19:45.523Z"
   },
   {
    "duration": 0,
    "start_time": "2024-05-31T22:19:45.526Z"
   },
   {
    "duration": 0,
    "start_time": "2024-05-31T22:19:45.528Z"
   },
   {
    "duration": 0,
    "start_time": "2024-05-31T22:19:45.531Z"
   },
   {
    "duration": 0,
    "start_time": "2024-05-31T22:19:45.534Z"
   },
   {
    "duration": 209797,
    "start_time": "2024-05-31T22:21:28.215Z"
   },
   {
    "duration": 110236,
    "start_time": "2024-05-31T22:30:48.163Z"
   },
   {
    "duration": 105447,
    "start_time": "2024-05-31T23:14:10.549Z"
   },
   {
    "duration": 105066,
    "start_time": "2024-05-31T23:16:37.569Z"
   },
   {
    "duration": 1240,
    "start_time": "2024-05-31T23:39:33.933Z"
   },
   {
    "duration": 20,
    "start_time": "2024-05-31T23:39:35.177Z"
   },
   {
    "duration": 17,
    "start_time": "2024-05-31T23:39:35.200Z"
   },
   {
    "duration": 9,
    "start_time": "2024-05-31T23:39:35.221Z"
   },
   {
    "duration": 18,
    "start_time": "2024-05-31T23:39:35.234Z"
   },
   {
    "duration": 37,
    "start_time": "2024-05-31T23:39:35.255Z"
   },
   {
    "duration": 12,
    "start_time": "2024-05-31T23:39:35.295Z"
   },
   {
    "duration": 71632,
    "start_time": "2024-05-31T23:39:35.310Z"
   },
   {
    "duration": 10,
    "start_time": "2024-05-31T23:40:46.947Z"
   },
   {
    "duration": 0,
    "start_time": "2024-05-31T23:40:46.961Z"
   },
   {
    "duration": 0,
    "start_time": "2024-05-31T23:40:46.964Z"
   },
   {
    "duration": 0,
    "start_time": "2024-05-31T23:40:46.967Z"
   },
   {
    "duration": 0,
    "start_time": "2024-05-31T23:40:46.991Z"
   },
   {
    "duration": 5,
    "start_time": "2024-06-01T00:33:21.537Z"
   },
   {
    "duration": 13,
    "start_time": "2024-06-01T00:33:21.546Z"
   },
   {
    "duration": 14,
    "start_time": "2024-06-01T00:33:21.562Z"
   },
   {
    "duration": 6,
    "start_time": "2024-06-01T00:33:21.579Z"
   },
   {
    "duration": 17,
    "start_time": "2024-06-01T00:33:21.590Z"
   },
   {
    "duration": 5,
    "start_time": "2024-06-01T00:33:21.610Z"
   },
   {
    "duration": 10,
    "start_time": "2024-06-01T00:33:21.619Z"
   },
   {
    "duration": 24069,
    "start_time": "2024-06-01T00:33:21.632Z"
   },
   {
    "duration": 0,
    "start_time": "2024-06-01T00:33:45.704Z"
   },
   {
    "duration": 0,
    "start_time": "2024-06-01T00:33:45.706Z"
   },
   {
    "duration": 4,
    "start_time": "2024-06-01T00:34:16.700Z"
   },
   {
    "duration": 11,
    "start_time": "2024-06-01T00:34:16.708Z"
   },
   {
    "duration": 13,
    "start_time": "2024-06-01T00:34:16.722Z"
   },
   {
    "duration": 8,
    "start_time": "2024-06-01T00:34:16.739Z"
   },
   {
    "duration": 50,
    "start_time": "2024-06-01T00:34:16.752Z"
   },
   {
    "duration": 6,
    "start_time": "2024-06-01T00:34:16.805Z"
   },
   {
    "duration": 11,
    "start_time": "2024-06-01T00:34:16.814Z"
   },
   {
    "duration": 897648,
    "start_time": "2024-06-01T00:34:16.829Z"
   },
   {
    "duration": 31,
    "start_time": "2024-06-01T00:49:14.481Z"
   },
   {
    "duration": 0,
    "start_time": "2024-06-01T00:49:14.515Z"
   },
   {
    "duration": 5,
    "start_time": "2024-06-01T00:53:21.988Z"
   },
   {
    "duration": 11,
    "start_time": "2024-06-01T00:53:21.998Z"
   },
   {
    "duration": 16,
    "start_time": "2024-06-01T00:53:22.011Z"
   },
   {
    "duration": 6,
    "start_time": "2024-06-01T00:53:22.031Z"
   },
   {
    "duration": 60,
    "start_time": "2024-06-01T00:53:22.041Z"
   },
   {
    "duration": 4,
    "start_time": "2024-06-01T00:53:22.105Z"
   },
   {
    "duration": 11,
    "start_time": "2024-06-01T00:53:22.112Z"
   },
   {
    "duration": 896893,
    "start_time": "2024-06-01T00:53:22.126Z"
   },
   {
    "duration": 2268,
    "start_time": "2024-06-01T01:08:19.022Z"
   },
   {
    "duration": 28,
    "start_time": "2024-06-01T01:08:21.294Z"
   },
   {
    "duration": 5,
    "start_time": "2024-06-01T01:11:05.709Z"
   },
   {
    "duration": 11,
    "start_time": "2024-06-01T01:11:05.719Z"
   },
   {
    "duration": 15,
    "start_time": "2024-06-01T01:11:05.732Z"
   },
   {
    "duration": 7,
    "start_time": "2024-06-01T01:11:05.750Z"
   },
   {
    "duration": 15,
    "start_time": "2024-06-01T01:11:05.790Z"
   },
   {
    "duration": 5,
    "start_time": "2024-06-01T01:11:05.808Z"
   },
   {
    "duration": 14,
    "start_time": "2024-06-01T01:11:05.817Z"
   },
   {
    "duration": 1299545,
    "start_time": "2024-06-01T01:11:05.833Z"
   },
   {
    "duration": 3394,
    "start_time": "2024-06-01T01:32:45.381Z"
   },
   {
    "duration": 2461,
    "start_time": "2024-06-01T01:32:48.777Z"
   },
   {
    "duration": 5,
    "start_time": "2024-06-01T01:47:04.825Z"
   },
   {
    "duration": 12,
    "start_time": "2024-06-01T01:47:04.834Z"
   },
   {
    "duration": 15,
    "start_time": "2024-06-01T01:47:04.848Z"
   },
   {
    "duration": 6,
    "start_time": "2024-06-01T01:47:04.865Z"
   },
   {
    "duration": 26,
    "start_time": "2024-06-01T01:47:04.876Z"
   },
   {
    "duration": 5,
    "start_time": "2024-06-01T01:47:04.905Z"
   },
   {
    "duration": 12,
    "start_time": "2024-06-01T01:47:04.913Z"
   },
   {
    "duration": 1284994,
    "start_time": "2024-06-01T01:47:04.928Z"
   },
   {
    "duration": 3422,
    "start_time": "2024-06-01T02:08:29.926Z"
   },
   {
    "duration": 38163,
    "start_time": "2024-06-01T02:08:33.352Z"
   },
   {
    "duration": 6006,
    "start_time": "2024-06-02T20:26:24.622Z"
   },
   {
    "duration": 19,
    "start_time": "2024-06-02T20:26:30.631Z"
   },
   {
    "duration": 18,
    "start_time": "2024-06-02T20:26:30.652Z"
   },
   {
    "duration": 7,
    "start_time": "2024-06-02T20:26:32.942Z"
   },
   {
    "duration": 19,
    "start_time": "2024-06-02T20:26:36.520Z"
   },
   {
    "duration": 5,
    "start_time": "2024-06-02T20:26:40.257Z"
   },
   {
    "duration": 12,
    "start_time": "2024-06-02T20:26:42.662Z"
   },
   {
    "duration": 564,
    "start_time": "2024-06-02T20:41:53.658Z"
   },
   {
    "duration": 187,
    "start_time": "2024-06-02T20:42:01.356Z"
   },
   {
    "duration": 5,
    "start_time": "2024-06-02T20:42:02.913Z"
   },
   {
    "duration": 7,
    "start_time": "2024-06-02T20:42:05.382Z"
   },
   {
    "duration": 8,
    "start_time": "2024-06-02T20:42:11.937Z"
   },
   {
    "duration": 442,
    "start_time": "2024-06-02T20:53:36.293Z"
   },
   {
    "duration": 383,
    "start_time": "2024-06-02T20:54:47.833Z"
   },
   {
    "duration": 13,
    "start_time": "2024-06-02T21:36:16.271Z"
   },
   {
    "duration": 11,
    "start_time": "2024-06-02T21:36:40.831Z"
   },
   {
    "duration": 7,
    "start_time": "2024-06-02T21:37:07.769Z"
   },
   {
    "duration": 10,
    "start_time": "2024-06-02T21:37:16.422Z"
   },
   {
    "duration": 7,
    "start_time": "2024-06-02T21:37:22.925Z"
   },
   {
    "duration": 454,
    "start_time": "2024-06-02T22:47:27.328Z"
   },
   {
    "duration": 29,
    "start_time": "2024-06-02T22:48:36.962Z"
   },
   {
    "duration": 464,
    "start_time": "2024-06-02T22:48:46.483Z"
   },
   {
    "duration": 1399,
    "start_time": "2024-06-02T23:23:14.481Z"
   },
   {
    "duration": 432,
    "start_time": "2024-06-02T23:24:45.312Z"
   }
  ],
  "kernelspec": {
   "display_name": "Python 3 (ipykernel)",
   "language": "python",
   "name": "python3"
  },
  "language_info": {
   "codemirror_mode": {
    "name": "ipython",
    "version": 3
   },
   "file_extension": ".py",
   "mimetype": "text/x-python",
   "name": "python",
   "nbconvert_exporter": "python",
   "pygments_lexer": "ipython3",
   "version": "3.9.19"
  },
  "toc": {
   "base_numbering": 1,
   "nav_menu": {},
   "number_sections": true,
   "sideBar": true,
   "skip_h1_title": true,
   "title_cell": "Table of Contents",
   "title_sidebar": "Contents",
   "toc_cell": false,
   "toc_position": {},
   "toc_section_display": true,
   "toc_window_display": false
  }
 },
 "nbformat": 4,
 "nbformat_minor": 2
}
