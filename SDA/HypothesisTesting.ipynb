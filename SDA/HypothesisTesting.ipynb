{
 "cells": [
  {
   "cell_type": "markdown",
   "metadata": {},
   "source": [
    "# Which one is a better plan?\n",
    "\n",
    "You work as an analyst for the telecom operator Megaline. The company offers its clients two prepaid plans, Surf and Ultimate. The commercial department wants to know which of the plans brings in more revenue in order to adjust the advertising budget.\n",
    "\n",
    "You are going to carry out a preliminary analysis of the plans based on a relatively small client selection. You'll have the data on 500 Megaline clients: who the clients are, where they're from, which plan they use, and the number of calls they made and text messages they sent in 2018. Your job is to analyze the clients' behavior and determine which prepaid plan brings in more revenue."
   ]
  },
  {
   "cell_type": "markdown",
   "metadata": {},
   "source": [
    "## Project Intro:\n",
    "\n",
    "Megaline telecommunication company offers its clients two prepaid plans, Surf and Ultimate.  I'll conduct a comparative analysis of the plans based on the data from 500 Megaline clients natinwide to establish which plan brings in more revenue for the purposes of adusting the company's advertizing strategies and budget.  Among the client data is information about who the clients are, where they're from, which plan they use, and the number of calls they made and text messages they sent in 2018.  Using the data from five csv files (megaline_calls.csv, megaline_internet.csv, megaline_messages.csv, megaline_plans.csv, megaline_users.csv) I'll utilize the usage data and plan conditions to calculate the company's monthly revenue for each user in their respective plans, and then analyze user behavior month-over-month to establish whether revenue significantly differs between the plans."
   ]
  },
  {
   "cell_type": "markdown",
   "metadata": {},
   "source": [
    "## Initialization"
   ]
  },
  {
   "cell_type": "markdown",
   "metadata": {},
   "source": []
  },
  {
   "cell_type": "code",
   "execution_count": 1,
   "metadata": {},
   "outputs": [],
   "source": [
    "# Loading all the libraries\n",
    "import pandas as pd \n",
    "import numpy as np\n",
    "import datetime as dt\n",
    "\n",
    "import matplotlib.pyplot as plt\n",
    "import seaborn as sns\n",
    "\n",
    "from scipy import stats as st"
   ]
  },
  {
   "cell_type": "markdown",
   "metadata": {},
   "source": [
    "## Load data"
   ]
  },
  {
   "cell_type": "code",
   "execution_count": 2,
   "metadata": {},
   "outputs": [],
   "source": [
    "calls = pd.read_csv('/datasets/megaline_calls.csv')# Load the data files into different DataFrames"
   ]
  },
  {
   "cell_type": "code",
   "execution_count": 3,
   "metadata": {},
   "outputs": [],
   "source": [
    "internet = pd.read_csv('/datasets/megaline_internet.csv')"
   ]
  },
  {
   "cell_type": "code",
   "execution_count": 4,
   "metadata": {},
   "outputs": [],
   "source": [
    "messages = pd.read_csv('/datasets/megaline_messages.csv')"
   ]
  },
  {
   "cell_type": "code",
   "execution_count": 5,
   "metadata": {},
   "outputs": [],
   "source": [
    "plans = pd.read_csv('/datasets/megaline_plans.csv')"
   ]
  },
  {
   "cell_type": "code",
   "execution_count": 6,
   "metadata": {},
   "outputs": [],
   "source": [
    "users = pd.read_csv('/datasets/megaline_users.csv')"
   ]
  },
  {
   "cell_type": "markdown",
   "metadata": {},
   "source": [
    "## Prepare the data"
   ]
  },
  {
   "cell_type": "markdown",
   "metadata": {},
   "source": [
    "## Plans"
   ]
  },
  {
   "cell_type": "code",
   "execution_count": 7,
   "metadata": {},
   "outputs": [
    {
     "name": "stdout",
     "output_type": "stream",
     "text": [
      "<class 'pandas.core.frame.DataFrame'>\n",
      "RangeIndex: 2 entries, 0 to 1\n",
      "Data columns (total 8 columns):\n",
      " #   Column                 Non-Null Count  Dtype  \n",
      "---  ------                 --------------  -----  \n",
      " 0   messages_included      2 non-null      int64  \n",
      " 1   mb_per_month_included  2 non-null      int64  \n",
      " 2   minutes_included       2 non-null      int64  \n",
      " 3   usd_monthly_pay        2 non-null      int64  \n",
      " 4   usd_per_gb             2 non-null      int64  \n",
      " 5   usd_per_message        2 non-null      float64\n",
      " 6   usd_per_minute         2 non-null      float64\n",
      " 7   plan_name              2 non-null      object \n",
      "dtypes: float64(2), int64(5), object(1)\n",
      "memory usage: 256.0+ bytes\n"
     ]
    }
   ],
   "source": [
    "# Print the general/summary information about the plans' DataFrame\n",
    "plans.info()"
   ]
  },
  {
   "cell_type": "code",
   "execution_count": 8,
   "metadata": {},
   "outputs": [
    {
     "data": {
      "text/html": [
       "<div>\n",
       "<style scoped>\n",
       "    .dataframe tbody tr th:only-of-type {\n",
       "        vertical-align: middle;\n",
       "    }\n",
       "\n",
       "    .dataframe tbody tr th {\n",
       "        vertical-align: top;\n",
       "    }\n",
       "\n",
       "    .dataframe thead th {\n",
       "        text-align: right;\n",
       "    }\n",
       "</style>\n",
       "<table border=\"1\" class=\"dataframe\">\n",
       "  <thead>\n",
       "    <tr style=\"text-align: right;\">\n",
       "      <th></th>\n",
       "      <th>messages_included</th>\n",
       "      <th>mb_per_month_included</th>\n",
       "      <th>minutes_included</th>\n",
       "      <th>usd_monthly_pay</th>\n",
       "      <th>usd_per_gb</th>\n",
       "      <th>usd_per_message</th>\n",
       "      <th>usd_per_minute</th>\n",
       "      <th>plan_name</th>\n",
       "    </tr>\n",
       "  </thead>\n",
       "  <tbody>\n",
       "    <tr>\n",
       "      <th>0</th>\n",
       "      <td>50</td>\n",
       "      <td>15360</td>\n",
       "      <td>500</td>\n",
       "      <td>20</td>\n",
       "      <td>10</td>\n",
       "      <td>0.03</td>\n",
       "      <td>0.03</td>\n",
       "      <td>surf</td>\n",
       "    </tr>\n",
       "    <tr>\n",
       "      <th>1</th>\n",
       "      <td>1000</td>\n",
       "      <td>30720</td>\n",
       "      <td>3000</td>\n",
       "      <td>70</td>\n",
       "      <td>7</td>\n",
       "      <td>0.01</td>\n",
       "      <td>0.01</td>\n",
       "      <td>ultimate</td>\n",
       "    </tr>\n",
       "  </tbody>\n",
       "</table>\n",
       "</div>"
      ],
      "text/plain": [
       "   messages_included  mb_per_month_included  minutes_included  \\\n",
       "0                 50                  15360               500   \n",
       "1               1000                  30720              3000   \n",
       "\n",
       "   usd_monthly_pay  usd_per_gb  usd_per_message  usd_per_minute plan_name  \n",
       "0               20          10             0.03            0.03      surf  \n",
       "1               70           7             0.01            0.01  ultimate  "
      ]
     },
     "execution_count": 8,
     "metadata": {},
     "output_type": "execute_result"
    }
   ],
   "source": [
    "# Print a sample of data for plans\n",
    "plans\n",
    "\n"
   ]
  },
  {
   "cell_type": "markdown",
   "metadata": {},
   "source": [
    "I will convert 'mb_per_month_included' to 'gb_per_month_included' and drop the decimal, since the total number of megabytes for the month is rounded up to gigabytes regardless of actual total usage."
   ]
  },
  {
   "cell_type": "markdown",
   "metadata": {},
   "source": [
    "## Fix data"
   ]
  },
  {
   "cell_type": "code",
   "execution_count": 9,
   "metadata": {},
   "outputs": [
    {
     "data": {
      "text/html": [
       "<div>\n",
       "<style scoped>\n",
       "    .dataframe tbody tr th:only-of-type {\n",
       "        vertical-align: middle;\n",
       "    }\n",
       "\n",
       "    .dataframe tbody tr th {\n",
       "        vertical-align: top;\n",
       "    }\n",
       "\n",
       "    .dataframe thead th {\n",
       "        text-align: right;\n",
       "    }\n",
       "</style>\n",
       "<table border=\"1\" class=\"dataframe\">\n",
       "  <thead>\n",
       "    <tr style=\"text-align: right;\">\n",
       "      <th></th>\n",
       "      <th>messages_included</th>\n",
       "      <th>minutes_included</th>\n",
       "      <th>usd_monthly_pay</th>\n",
       "      <th>usd_per_gb</th>\n",
       "      <th>usd_per_message</th>\n",
       "      <th>usd_per_minute</th>\n",
       "      <th>plan</th>\n",
       "      <th>gb_per_month_included</th>\n",
       "    </tr>\n",
       "  </thead>\n",
       "  <tbody>\n",
       "    <tr>\n",
       "      <th>0</th>\n",
       "      <td>50</td>\n",
       "      <td>500</td>\n",
       "      <td>20</td>\n",
       "      <td>10</td>\n",
       "      <td>0.03</td>\n",
       "      <td>0.03</td>\n",
       "      <td>surf</td>\n",
       "      <td>15</td>\n",
       "    </tr>\n",
       "    <tr>\n",
       "      <th>1</th>\n",
       "      <td>1000</td>\n",
       "      <td>3000</td>\n",
       "      <td>70</td>\n",
       "      <td>7</td>\n",
       "      <td>0.01</td>\n",
       "      <td>0.01</td>\n",
       "      <td>ultimate</td>\n",
       "      <td>30</td>\n",
       "    </tr>\n",
       "  </tbody>\n",
       "</table>\n",
       "</div>"
      ],
      "text/plain": [
       "   messages_included  minutes_included  usd_monthly_pay  usd_per_gb  \\\n",
       "0                 50               500               20          10   \n",
       "1               1000              3000               70           7   \n",
       "\n",
       "   usd_per_message  usd_per_minute      plan  gb_per_month_included  \n",
       "0             0.03            0.03      surf                     15  \n",
       "1             0.01            0.01  ultimate                     30  "
      ]
     },
     "execution_count": 9,
     "metadata": {},
     "output_type": "execute_result"
    }
   ],
   "source": [
    "plans['gb_per_month_included'] = plans['mb_per_month_included'] / 1024\n",
    "plans['gb_per_month_included'] = plans['gb_per_month_included'].astype('int64')\n",
    "plans.drop('mb_per_month_included', axis=1, inplace=True)\n",
    "plans.rename(columns={'plan_name': 'plan'}, inplace=True)\n",
    "plans"
   ]
  },
  {
   "cell_type": "markdown",
   "metadata": {},
   "source": [
    "## Users"
   ]
  },
  {
   "cell_type": "code",
   "execution_count": 10,
   "metadata": {},
   "outputs": [
    {
     "name": "stdout",
     "output_type": "stream",
     "text": [
      "<class 'pandas.core.frame.DataFrame'>\n",
      "RangeIndex: 500 entries, 0 to 499\n",
      "Data columns (total 8 columns):\n",
      " #   Column      Non-Null Count  Dtype \n",
      "---  ------      --------------  ----- \n",
      " 0   user_id     500 non-null    int64 \n",
      " 1   first_name  500 non-null    object\n",
      " 2   last_name   500 non-null    object\n",
      " 3   age         500 non-null    int64 \n",
      " 4   city        500 non-null    object\n",
      " 5   reg_date    500 non-null    object\n",
      " 6   plan        500 non-null    object\n",
      " 7   churn_date  34 non-null     object\n",
      "dtypes: int64(2), object(6)\n",
      "memory usage: 31.4+ KB\n"
     ]
    }
   ],
   "source": [
    "# Print the general/summary information about the users' DataFrame\n",
    "users.info()"
   ]
  },
  {
   "cell_type": "code",
   "execution_count": 11,
   "metadata": {},
   "outputs": [
    {
     "data": {
      "text/html": [
       "<div>\n",
       "<style scoped>\n",
       "    .dataframe tbody tr th:only-of-type {\n",
       "        vertical-align: middle;\n",
       "    }\n",
       "\n",
       "    .dataframe tbody tr th {\n",
       "        vertical-align: top;\n",
       "    }\n",
       "\n",
       "    .dataframe thead th {\n",
       "        text-align: right;\n",
       "    }\n",
       "</style>\n",
       "<table border=\"1\" class=\"dataframe\">\n",
       "  <thead>\n",
       "    <tr style=\"text-align: right;\">\n",
       "      <th></th>\n",
       "      <th>user_id</th>\n",
       "      <th>first_name</th>\n",
       "      <th>last_name</th>\n",
       "      <th>age</th>\n",
       "      <th>city</th>\n",
       "      <th>reg_date</th>\n",
       "      <th>plan</th>\n",
       "      <th>churn_date</th>\n",
       "    </tr>\n",
       "  </thead>\n",
       "  <tbody>\n",
       "    <tr>\n",
       "      <th>288</th>\n",
       "      <td>1288</td>\n",
       "      <td>Jenette</td>\n",
       "      <td>Rush</td>\n",
       "      <td>60</td>\n",
       "      <td>Las Vegas-Henderson-Paradise, NV MSA</td>\n",
       "      <td>2018-07-18</td>\n",
       "      <td>surf</td>\n",
       "      <td>NaN</td>\n",
       "    </tr>\n",
       "    <tr>\n",
       "      <th>346</th>\n",
       "      <td>1346</td>\n",
       "      <td>Emmie</td>\n",
       "      <td>Gonzalez</td>\n",
       "      <td>59</td>\n",
       "      <td>Tucson, AZ MSA</td>\n",
       "      <td>2018-04-26</td>\n",
       "      <td>ultimate</td>\n",
       "      <td>NaN</td>\n",
       "    </tr>\n",
       "    <tr>\n",
       "      <th>321</th>\n",
       "      <td>1321</td>\n",
       "      <td>Karlyn</td>\n",
       "      <td>Jimenez</td>\n",
       "      <td>19</td>\n",
       "      <td>North Port-Sarasota-Bradenton, FL MSA</td>\n",
       "      <td>2018-05-31</td>\n",
       "      <td>surf</td>\n",
       "      <td>NaN</td>\n",
       "    </tr>\n",
       "    <tr>\n",
       "      <th>464</th>\n",
       "      <td>1464</td>\n",
       "      <td>Burt</td>\n",
       "      <td>Burke</td>\n",
       "      <td>70</td>\n",
       "      <td>Providence-Warwick, RI-MA MSA</td>\n",
       "      <td>2018-11-07</td>\n",
       "      <td>surf</td>\n",
       "      <td>NaN</td>\n",
       "    </tr>\n",
       "    <tr>\n",
       "      <th>488</th>\n",
       "      <td>1488</td>\n",
       "      <td>Shirley</td>\n",
       "      <td>Jones</td>\n",
       "      <td>29</td>\n",
       "      <td>Baton Rouge, LA MSA</td>\n",
       "      <td>2018-05-15</td>\n",
       "      <td>surf</td>\n",
       "      <td>NaN</td>\n",
       "    </tr>\n",
       "    <tr>\n",
       "      <th>436</th>\n",
       "      <td>1436</td>\n",
       "      <td>Jennine</td>\n",
       "      <td>Kinney</td>\n",
       "      <td>69</td>\n",
       "      <td>Philadelphia-Camden-Wilmington, PA-NJ-DE-MD MSA</td>\n",
       "      <td>2018-08-26</td>\n",
       "      <td>ultimate</td>\n",
       "      <td>NaN</td>\n",
       "    </tr>\n",
       "    <tr>\n",
       "      <th>439</th>\n",
       "      <td>1439</td>\n",
       "      <td>Moses</td>\n",
       "      <td>Cabrera</td>\n",
       "      <td>28</td>\n",
       "      <td>Riverside-San Bernardino-Ontario, CA MSA</td>\n",
       "      <td>2018-01-04</td>\n",
       "      <td>surf</td>\n",
       "      <td>NaN</td>\n",
       "    </tr>\n",
       "    <tr>\n",
       "      <th>164</th>\n",
       "      <td>1164</td>\n",
       "      <td>Kam</td>\n",
       "      <td>Macias</td>\n",
       "      <td>31</td>\n",
       "      <td>Chicago-Naperville-Elgin, IL-IN-WI MSA</td>\n",
       "      <td>2018-02-17</td>\n",
       "      <td>ultimate</td>\n",
       "      <td>NaN</td>\n",
       "    </tr>\n",
       "    <tr>\n",
       "      <th>180</th>\n",
       "      <td>1180</td>\n",
       "      <td>Wonda</td>\n",
       "      <td>Hays</td>\n",
       "      <td>24</td>\n",
       "      <td>New York-Newark-Jersey City, NY-NJ-PA MSA</td>\n",
       "      <td>2018-12-01</td>\n",
       "      <td>surf</td>\n",
       "      <td>2018-12-22</td>\n",
       "    </tr>\n",
       "    <tr>\n",
       "      <th>483</th>\n",
       "      <td>1483</td>\n",
       "      <td>Miguel</td>\n",
       "      <td>Farrell</td>\n",
       "      <td>35</td>\n",
       "      <td>Chicago-Naperville-Elgin, IL-IN-WI MSA</td>\n",
       "      <td>2018-04-25</td>\n",
       "      <td>surf</td>\n",
       "      <td>NaN</td>\n",
       "    </tr>\n",
       "  </tbody>\n",
       "</table>\n",
       "</div>"
      ],
      "text/plain": [
       "     user_id first_name last_name  age  \\\n",
       "288     1288    Jenette      Rush   60   \n",
       "346     1346      Emmie  Gonzalez   59   \n",
       "321     1321     Karlyn   Jimenez   19   \n",
       "464     1464       Burt     Burke   70   \n",
       "488     1488    Shirley     Jones   29   \n",
       "436     1436    Jennine    Kinney   69   \n",
       "439     1439      Moses   Cabrera   28   \n",
       "164     1164        Kam    Macias   31   \n",
       "180     1180      Wonda      Hays   24   \n",
       "483     1483     Miguel   Farrell   35   \n",
       "\n",
       "                                                city    reg_date      plan  \\\n",
       "288             Las Vegas-Henderson-Paradise, NV MSA  2018-07-18      surf   \n",
       "346                                   Tucson, AZ MSA  2018-04-26  ultimate   \n",
       "321            North Port-Sarasota-Bradenton, FL MSA  2018-05-31      surf   \n",
       "464                    Providence-Warwick, RI-MA MSA  2018-11-07      surf   \n",
       "488                              Baton Rouge, LA MSA  2018-05-15      surf   \n",
       "436  Philadelphia-Camden-Wilmington, PA-NJ-DE-MD MSA  2018-08-26  ultimate   \n",
       "439         Riverside-San Bernardino-Ontario, CA MSA  2018-01-04      surf   \n",
       "164           Chicago-Naperville-Elgin, IL-IN-WI MSA  2018-02-17  ultimate   \n",
       "180        New York-Newark-Jersey City, NY-NJ-PA MSA  2018-12-01      surf   \n",
       "483           Chicago-Naperville-Elgin, IL-IN-WI MSA  2018-04-25      surf   \n",
       "\n",
       "     churn_date  \n",
       "288         NaN  \n",
       "346         NaN  \n",
       "321         NaN  \n",
       "464         NaN  \n",
       "488         NaN  \n",
       "436         NaN  \n",
       "439         NaN  \n",
       "164         NaN  \n",
       "180  2018-12-22  \n",
       "483         NaN  "
      ]
     },
     "execution_count": 11,
     "metadata": {},
     "output_type": "execute_result"
    }
   ],
   "source": [
    "# Print a sample of data for users\n",
    "users.sample(10)"
   ]
  },
  {
   "cell_type": "markdown",
   "metadata": {},
   "source": [
    "I will convert the 'reg_date' and 'churn_date' types from object to a datetime format to make it easier to analyze monthly usage later on."
   ]
  },
  {
   "cell_type": "markdown",
   "metadata": {},
   "source": [
    "### Fix Data"
   ]
  },
  {
   "cell_type": "code",
   "execution_count": 12,
   "metadata": {
    "scrolled": true
   },
   "outputs": [
    {
     "name": "stdout",
     "output_type": "stream",
     "text": [
      "<class 'pandas.core.frame.DataFrame'>\n",
      "RangeIndex: 500 entries, 0 to 499\n",
      "Data columns (total 8 columns):\n",
      " #   Column      Non-Null Count  Dtype         \n",
      "---  ------      --------------  -----         \n",
      " 0   user_id     500 non-null    int64         \n",
      " 1   first_name  500 non-null    object        \n",
      " 2   last_name   500 non-null    object        \n",
      " 3   age         500 non-null    int64         \n",
      " 4   city        500 non-null    object        \n",
      " 5   reg_date    500 non-null    datetime64[ns]\n",
      " 6   plan        500 non-null    object        \n",
      " 7   churn_date  500 non-null    object        \n",
      "dtypes: datetime64[ns](1), int64(2), object(5)\n",
      "memory usage: 31.4+ KB\n"
     ]
    }
   ],
   "source": [
    "users['reg_date'] = pd.to_datetime(users['reg_date'])\n",
    "users['churn_date'] = pd.to_datetime(users['churn_date'])\n",
    "users['churn_date'].fillna('active', inplace=True)\n",
    "users.info()"
   ]
  },
  {
   "cell_type": "markdown",
   "metadata": {},
   "source": [
    "## Calls"
   ]
  },
  {
   "cell_type": "code",
   "execution_count": 13,
   "metadata": {},
   "outputs": [
    {
     "name": "stdout",
     "output_type": "stream",
     "text": [
      "<class 'pandas.core.frame.DataFrame'>\n",
      "RangeIndex: 137735 entries, 0 to 137734\n",
      "Data columns (total 4 columns):\n",
      " #   Column     Non-Null Count   Dtype  \n",
      "---  ------     --------------   -----  \n",
      " 0   id         137735 non-null  object \n",
      " 1   user_id    137735 non-null  int64  \n",
      " 2   call_date  137735 non-null  object \n",
      " 3   duration   137735 non-null  float64\n",
      "dtypes: float64(1), int64(1), object(2)\n",
      "memory usage: 4.2+ MB\n"
     ]
    }
   ],
   "source": [
    "# Print the general/summary information about the calls' DataFrame\n",
    "calls.info()\n"
   ]
  },
  {
   "cell_type": "code",
   "execution_count": 14,
   "metadata": {},
   "outputs": [
    {
     "data": {
      "text/html": [
       "<div>\n",
       "<style scoped>\n",
       "    .dataframe tbody tr th:only-of-type {\n",
       "        vertical-align: middle;\n",
       "    }\n",
       "\n",
       "    .dataframe tbody tr th {\n",
       "        vertical-align: top;\n",
       "    }\n",
       "\n",
       "    .dataframe thead th {\n",
       "        text-align: right;\n",
       "    }\n",
       "</style>\n",
       "<table border=\"1\" class=\"dataframe\">\n",
       "  <thead>\n",
       "    <tr style=\"text-align: right;\">\n",
       "      <th></th>\n",
       "      <th>id</th>\n",
       "      <th>user_id</th>\n",
       "      <th>call_date</th>\n",
       "      <th>duration</th>\n",
       "    </tr>\n",
       "  </thead>\n",
       "  <tbody>\n",
       "    <tr>\n",
       "      <th>27802</th>\n",
       "      <td>1106_60</td>\n",
       "      <td>1106</td>\n",
       "      <td>2018-06-19</td>\n",
       "      <td>4.42</td>\n",
       "    </tr>\n",
       "    <tr>\n",
       "      <th>101072</th>\n",
       "      <td>1361_174</td>\n",
       "      <td>1361</td>\n",
       "      <td>2018-09-09</td>\n",
       "      <td>13.18</td>\n",
       "    </tr>\n",
       "    <tr>\n",
       "      <th>125400</th>\n",
       "      <td>1443_62</td>\n",
       "      <td>1443</td>\n",
       "      <td>2018-11-25</td>\n",
       "      <td>0.54</td>\n",
       "    </tr>\n",
       "    <tr>\n",
       "      <th>28377</th>\n",
       "      <td>1109_4</td>\n",
       "      <td>1109</td>\n",
       "      <td>2018-08-31</td>\n",
       "      <td>0.00</td>\n",
       "    </tr>\n",
       "    <tr>\n",
       "      <th>38135</th>\n",
       "      <td>1144_14</td>\n",
       "      <td>1144</td>\n",
       "      <td>2018-06-28</td>\n",
       "      <td>6.09</td>\n",
       "    </tr>\n",
       "    <tr>\n",
       "      <th>68178</th>\n",
       "      <td>1246_197</td>\n",
       "      <td>1246</td>\n",
       "      <td>2018-02-24</td>\n",
       "      <td>13.35</td>\n",
       "    </tr>\n",
       "    <tr>\n",
       "      <th>66314</th>\n",
       "      <td>1240_172</td>\n",
       "      <td>1240</td>\n",
       "      <td>2018-11-01</td>\n",
       "      <td>3.73</td>\n",
       "    </tr>\n",
       "    <tr>\n",
       "      <th>123762</th>\n",
       "      <td>1436_727</td>\n",
       "      <td>1436</td>\n",
       "      <td>2018-12-10</td>\n",
       "      <td>4.62</td>\n",
       "    </tr>\n",
       "    <tr>\n",
       "      <th>120246</th>\n",
       "      <td>1418_130</td>\n",
       "      <td>1418</td>\n",
       "      <td>2018-12-13</td>\n",
       "      <td>6.98</td>\n",
       "    </tr>\n",
       "    <tr>\n",
       "      <th>130674</th>\n",
       "      <td>1470_123</td>\n",
       "      <td>1470</td>\n",
       "      <td>2018-10-13</td>\n",
       "      <td>0.00</td>\n",
       "    </tr>\n",
       "  </tbody>\n",
       "</table>\n",
       "</div>"
      ],
      "text/plain": [
       "              id  user_id   call_date  duration\n",
       "27802    1106_60     1106  2018-06-19      4.42\n",
       "101072  1361_174     1361  2018-09-09     13.18\n",
       "125400   1443_62     1443  2018-11-25      0.54\n",
       "28377     1109_4     1109  2018-08-31      0.00\n",
       "38135    1144_14     1144  2018-06-28      6.09\n",
       "68178   1246_197     1246  2018-02-24     13.35\n",
       "66314   1240_172     1240  2018-11-01      3.73\n",
       "123762  1436_727     1436  2018-12-10      4.62\n",
       "120246  1418_130     1418  2018-12-13      6.98\n",
       "130674  1470_123     1470  2018-10-13      0.00"
      ]
     },
     "execution_count": 14,
     "metadata": {},
     "output_type": "execute_result"
    }
   ],
   "source": [
    "# Print a sample of data for calls\n",
    "calls.sample(10)\n",
    "\n"
   ]
  },
  {
   "cell_type": "markdown",
   "metadata": {},
   "source": [
    "I will remove the underscore in 'id' and change the data type to int64.  I will also change the 'call_date' type to datetime64 to make monthly analysis easier later on. Once the data is aggregated monthly, we can round it up to the nearest minute and convert the data to int64."
   ]
  },
  {
   "cell_type": "markdown",
   "metadata": {},
   "source": [
    "### Fix data"
   ]
  },
  {
   "cell_type": "code",
   "execution_count": 15,
   "metadata": {},
   "outputs": [],
   "source": [
    "calls['id'] = calls['id'].replace('_', '').astype('int64')\n",
    "calls['call_date'] = pd.to_datetime(calls['call_date'], format='%Y-%m-%d')"
   ]
  },
  {
   "cell_type": "markdown",
   "metadata": {},
   "source": [
    "## Messages"
   ]
  },
  {
   "cell_type": "code",
   "execution_count": 16,
   "metadata": {},
   "outputs": [
    {
     "name": "stdout",
     "output_type": "stream",
     "text": [
      "<class 'pandas.core.frame.DataFrame'>\n",
      "RangeIndex: 76051 entries, 0 to 76050\n",
      "Data columns (total 3 columns):\n",
      " #   Column        Non-Null Count  Dtype \n",
      "---  ------        --------------  ----- \n",
      " 0   id            76051 non-null  object\n",
      " 1   user_id       76051 non-null  int64 \n",
      " 2   message_date  76051 non-null  object\n",
      "dtypes: int64(1), object(2)\n",
      "memory usage: 1.7+ MB\n"
     ]
    }
   ],
   "source": [
    "# Print the general/summary information about the messages' DataFrame\n",
    "messages.info()\n",
    "\n"
   ]
  },
  {
   "cell_type": "code",
   "execution_count": 17,
   "metadata": {},
   "outputs": [
    {
     "data": {
      "text/html": [
       "<div>\n",
       "<style scoped>\n",
       "    .dataframe tbody tr th:only-of-type {\n",
       "        vertical-align: middle;\n",
       "    }\n",
       "\n",
       "    .dataframe tbody tr th {\n",
       "        vertical-align: top;\n",
       "    }\n",
       "\n",
       "    .dataframe thead th {\n",
       "        text-align: right;\n",
       "    }\n",
       "</style>\n",
       "<table border=\"1\" class=\"dataframe\">\n",
       "  <thead>\n",
       "    <tr style=\"text-align: right;\">\n",
       "      <th></th>\n",
       "      <th>id</th>\n",
       "      <th>user_id</th>\n",
       "      <th>message_date</th>\n",
       "    </tr>\n",
       "  </thead>\n",
       "  <tbody>\n",
       "    <tr>\n",
       "      <th>67459</th>\n",
       "      <td>1438_25</td>\n",
       "      <td>1438</td>\n",
       "      <td>2018-12-06</td>\n",
       "    </tr>\n",
       "    <tr>\n",
       "      <th>49174</th>\n",
       "      <td>1328_132</td>\n",
       "      <td>1328</td>\n",
       "      <td>2018-10-28</td>\n",
       "    </tr>\n",
       "    <tr>\n",
       "      <th>66276</th>\n",
       "      <td>1433_216</td>\n",
       "      <td>1433</td>\n",
       "      <td>2018-11-21</td>\n",
       "    </tr>\n",
       "    <tr>\n",
       "      <th>70148</th>\n",
       "      <td>1456_15</td>\n",
       "      <td>1456</td>\n",
       "      <td>2018-09-06</td>\n",
       "    </tr>\n",
       "    <tr>\n",
       "      <th>44219</th>\n",
       "      <td>1294_0</td>\n",
       "      <td>1294</td>\n",
       "      <td>2018-10-27</td>\n",
       "    </tr>\n",
       "    <tr>\n",
       "      <th>75207</th>\n",
       "      <td>1489_282</td>\n",
       "      <td>1489</td>\n",
       "      <td>2018-09-12</td>\n",
       "    </tr>\n",
       "    <tr>\n",
       "      <th>10263</th>\n",
       "      <td>1076_607</td>\n",
       "      <td>1076</td>\n",
       "      <td>2018-12-08</td>\n",
       "    </tr>\n",
       "    <tr>\n",
       "      <th>59296</th>\n",
       "      <td>1374_470</td>\n",
       "      <td>1374</td>\n",
       "      <td>2018-09-11</td>\n",
       "    </tr>\n",
       "    <tr>\n",
       "      <th>27338</th>\n",
       "      <td>1167_295</td>\n",
       "      <td>1167</td>\n",
       "      <td>2018-08-24</td>\n",
       "    </tr>\n",
       "    <tr>\n",
       "      <th>12792</th>\n",
       "      <td>1084_32</td>\n",
       "      <td>1084</td>\n",
       "      <td>2018-11-24</td>\n",
       "    </tr>\n",
       "  </tbody>\n",
       "</table>\n",
       "</div>"
      ],
      "text/plain": [
       "             id  user_id message_date\n",
       "67459   1438_25     1438   2018-12-06\n",
       "49174  1328_132     1328   2018-10-28\n",
       "66276  1433_216     1433   2018-11-21\n",
       "70148   1456_15     1456   2018-09-06\n",
       "44219    1294_0     1294   2018-10-27\n",
       "75207  1489_282     1489   2018-09-12\n",
       "10263  1076_607     1076   2018-12-08\n",
       "59296  1374_470     1374   2018-09-11\n",
       "27338  1167_295     1167   2018-08-24\n",
       "12792   1084_32     1084   2018-11-24"
      ]
     },
     "execution_count": 17,
     "metadata": {},
     "output_type": "execute_result"
    }
   ],
   "source": [
    "# Print a sample of data for messages\n",
    "messages.sample(10)\n",
    "\n"
   ]
  },
  {
   "cell_type": "markdown",
   "metadata": {},
   "source": [
    "As above I will change the 'message_date' type to datetime64 to make monthly analysis easier later on and fix the 'id' column."
   ]
  },
  {
   "cell_type": "markdown",
   "metadata": {},
   "source": [
    "### Fix data"
   ]
  },
  {
   "cell_type": "code",
   "execution_count": 18,
   "metadata": {},
   "outputs": [],
   "source": [
    "messages['id'] = messages['id'].replace('_', '').astype('int64')\n",
    "messages['message_date'] = pd.to_datetime(messages['message_date'], format='%Y-%m-%d')\n"
   ]
  },
  {
   "cell_type": "markdown",
   "metadata": {},
   "source": [
    "## Internet"
   ]
  },
  {
   "cell_type": "code",
   "execution_count": 19,
   "metadata": {},
   "outputs": [
    {
     "name": "stdout",
     "output_type": "stream",
     "text": [
      "<class 'pandas.core.frame.DataFrame'>\n",
      "RangeIndex: 104825 entries, 0 to 104824\n",
      "Data columns (total 4 columns):\n",
      " #   Column        Non-Null Count   Dtype  \n",
      "---  ------        --------------   -----  \n",
      " 0   id            104825 non-null  object \n",
      " 1   user_id       104825 non-null  int64  \n",
      " 2   session_date  104825 non-null  object \n",
      " 3   mb_used       104825 non-null  float64\n",
      "dtypes: float64(1), int64(1), object(2)\n",
      "memory usage: 3.2+ MB\n"
     ]
    }
   ],
   "source": [
    "# Print the general/summary information about the internet DataFrame\n",
    "internet.info()\n",
    "\n"
   ]
  },
  {
   "cell_type": "code",
   "execution_count": 20,
   "metadata": {},
   "outputs": [
    {
     "data": {
      "text/html": [
       "<div>\n",
       "<style scoped>\n",
       "    .dataframe tbody tr th:only-of-type {\n",
       "        vertical-align: middle;\n",
       "    }\n",
       "\n",
       "    .dataframe tbody tr th {\n",
       "        vertical-align: top;\n",
       "    }\n",
       "\n",
       "    .dataframe thead th {\n",
       "        text-align: right;\n",
       "    }\n",
       "</style>\n",
       "<table border=\"1\" class=\"dataframe\">\n",
       "  <thead>\n",
       "    <tr style=\"text-align: right;\">\n",
       "      <th></th>\n",
       "      <th>id</th>\n",
       "      <th>user_id</th>\n",
       "      <th>session_date</th>\n",
       "      <th>mb_used</th>\n",
       "    </tr>\n",
       "  </thead>\n",
       "  <tbody>\n",
       "    <tr>\n",
       "      <th>98878</th>\n",
       "      <td>1467_15</td>\n",
       "      <td>1467</td>\n",
       "      <td>2018-06-24</td>\n",
       "      <td>305.55</td>\n",
       "    </tr>\n",
       "    <tr>\n",
       "      <th>25672</th>\n",
       "      <td>1120_197</td>\n",
       "      <td>1120</td>\n",
       "      <td>2018-04-06</td>\n",
       "      <td>0.00</td>\n",
       "    </tr>\n",
       "    <tr>\n",
       "      <th>88471</th>\n",
       "      <td>1408_190</td>\n",
       "      <td>1408</td>\n",
       "      <td>2018-05-14</td>\n",
       "      <td>253.20</td>\n",
       "    </tr>\n",
       "    <tr>\n",
       "      <th>35003</th>\n",
       "      <td>1157_90</td>\n",
       "      <td>1157</td>\n",
       "      <td>2018-11-18</td>\n",
       "      <td>423.97</td>\n",
       "    </tr>\n",
       "    <tr>\n",
       "      <th>27281</th>\n",
       "      <td>1126_407</td>\n",
       "      <td>1126</td>\n",
       "      <td>2018-11-30</td>\n",
       "      <td>410.14</td>\n",
       "    </tr>\n",
       "    <tr>\n",
       "      <th>96809</th>\n",
       "      <td>1456_51</td>\n",
       "      <td>1456</td>\n",
       "      <td>2018-11-02</td>\n",
       "      <td>491.76</td>\n",
       "    </tr>\n",
       "    <tr>\n",
       "      <th>12792</th>\n",
       "      <td>1061_289</td>\n",
       "      <td>1061</td>\n",
       "      <td>2018-05-03</td>\n",
       "      <td>144.16</td>\n",
       "    </tr>\n",
       "    <tr>\n",
       "      <th>2739</th>\n",
       "      <td>1013_69</td>\n",
       "      <td>1013</td>\n",
       "      <td>2018-12-23</td>\n",
       "      <td>330.89</td>\n",
       "    </tr>\n",
       "    <tr>\n",
       "      <th>91907</th>\n",
       "      <td>1426_1</td>\n",
       "      <td>1426</td>\n",
       "      <td>2018-12-28</td>\n",
       "      <td>539.85</td>\n",
       "    </tr>\n",
       "    <tr>\n",
       "      <th>48448</th>\n",
       "      <td>1215_170</td>\n",
       "      <td>1215</td>\n",
       "      <td>2018-10-20</td>\n",
       "      <td>0.00</td>\n",
       "    </tr>\n",
       "  </tbody>\n",
       "</table>\n",
       "</div>"
      ],
      "text/plain": [
       "             id  user_id session_date  mb_used\n",
       "98878   1467_15     1467   2018-06-24   305.55\n",
       "25672  1120_197     1120   2018-04-06     0.00\n",
       "88471  1408_190     1408   2018-05-14   253.20\n",
       "35003   1157_90     1157   2018-11-18   423.97\n",
       "27281  1126_407     1126   2018-11-30   410.14\n",
       "96809   1456_51     1456   2018-11-02   491.76\n",
       "12792  1061_289     1061   2018-05-03   144.16\n",
       "2739    1013_69     1013   2018-12-23   330.89\n",
       "91907    1426_1     1426   2018-12-28   539.85\n",
       "48448  1215_170     1215   2018-10-20     0.00"
      ]
     },
     "execution_count": 20,
     "metadata": {},
     "output_type": "execute_result"
    }
   ],
   "source": [
    "# Print a sample of data for the internet traffic\n",
    "internet.sample(10)\n",
    "\n"
   ]
  },
  {
   "cell_type": "markdown",
   "metadata": {},
   "source": [
    "Again, I will change the 'message_date' type to datetime64 to make monthly analysis easier later on, and address the 'id' column. Once the data is aggregated monthly, I will convert and replace the 'mb_used' column to 'gb_used'."
   ]
  },
  {
   "cell_type": "markdown",
   "metadata": {},
   "source": [
    "### Fix data"
   ]
  },
  {
   "cell_type": "markdown",
   "metadata": {},
   "source": [
    "[Fix obvious issues with the data given the initial observations.]"
   ]
  },
  {
   "cell_type": "code",
   "execution_count": 21,
   "metadata": {},
   "outputs": [],
   "source": [
    "internet['id'] = internet['id'].replace('_', '').astype('int64')\n",
    "internet['session_date'] = pd.to_datetime(internet['session_date'], format='%Y-%m-%d')"
   ]
  },
  {
   "cell_type": "markdown",
   "metadata": {},
   "source": [
    "## Study plan conditions"
   ]
  },
  {
   "cell_type": "markdown",
   "metadata": {},
   "source": [
    "I print the 'plans' dataframe again to clearly view the conditions once again before Aggregating the data."
   ]
  },
  {
   "cell_type": "code",
   "execution_count": 22,
   "metadata": {},
   "outputs": [
    {
     "data": {
      "text/html": [
       "<div>\n",
       "<style scoped>\n",
       "    .dataframe tbody tr th:only-of-type {\n",
       "        vertical-align: middle;\n",
       "    }\n",
       "\n",
       "    .dataframe tbody tr th {\n",
       "        vertical-align: top;\n",
       "    }\n",
       "\n",
       "    .dataframe thead th {\n",
       "        text-align: right;\n",
       "    }\n",
       "</style>\n",
       "<table border=\"1\" class=\"dataframe\">\n",
       "  <thead>\n",
       "    <tr style=\"text-align: right;\">\n",
       "      <th></th>\n",
       "      <th>messages_included</th>\n",
       "      <th>minutes_included</th>\n",
       "      <th>usd_monthly_pay</th>\n",
       "      <th>usd_per_gb</th>\n",
       "      <th>usd_per_message</th>\n",
       "      <th>usd_per_minute</th>\n",
       "      <th>plan</th>\n",
       "      <th>gb_per_month_included</th>\n",
       "    </tr>\n",
       "  </thead>\n",
       "  <tbody>\n",
       "    <tr>\n",
       "      <th>0</th>\n",
       "      <td>50</td>\n",
       "      <td>500</td>\n",
       "      <td>20</td>\n",
       "      <td>10</td>\n",
       "      <td>0.03</td>\n",
       "      <td>0.03</td>\n",
       "      <td>surf</td>\n",
       "      <td>15</td>\n",
       "    </tr>\n",
       "    <tr>\n",
       "      <th>1</th>\n",
       "      <td>1000</td>\n",
       "      <td>3000</td>\n",
       "      <td>70</td>\n",
       "      <td>7</td>\n",
       "      <td>0.01</td>\n",
       "      <td>0.01</td>\n",
       "      <td>ultimate</td>\n",
       "      <td>30</td>\n",
       "    </tr>\n",
       "  </tbody>\n",
       "</table>\n",
       "</div>"
      ],
      "text/plain": [
       "   messages_included  minutes_included  usd_monthly_pay  usd_per_gb  \\\n",
       "0                 50               500               20          10   \n",
       "1               1000              3000               70           7   \n",
       "\n",
       "   usd_per_message  usd_per_minute      plan  gb_per_month_included  \n",
       "0             0.03            0.03      surf                     15  \n",
       "1             0.01            0.01  ultimate                     30  "
      ]
     },
     "execution_count": 22,
     "metadata": {},
     "output_type": "execute_result"
    }
   ],
   "source": [
    "plans\n"
   ]
  },
  {
   "cell_type": "markdown",
   "metadata": {},
   "source": [
    "## Aggregate data per user\n",
    "\n",
    "I will group the 'calls', 'minutes', 'messages', and 'internet' DataFrames by month and user id to get the monthly call count for each user.  Additionally, I will convert and address the month by name moving forward on each subsequent DataFrame."
   ]
  },
  {
   "cell_type": "code",
   "execution_count": 23,
   "metadata": {},
   "outputs": [
    {
     "data": {
      "text/html": [
       "<div>\n",
       "<style scoped>\n",
       "    .dataframe tbody tr th:only-of-type {\n",
       "        vertical-align: middle;\n",
       "    }\n",
       "\n",
       "    .dataframe tbody tr th {\n",
       "        vertical-align: top;\n",
       "    }\n",
       "\n",
       "    .dataframe thead th {\n",
       "        text-align: right;\n",
       "    }\n",
       "</style>\n",
       "<table border=\"1\" class=\"dataframe\">\n",
       "  <thead>\n",
       "    <tr style=\"text-align: right;\">\n",
       "      <th></th>\n",
       "      <th>month</th>\n",
       "      <th>user_id</th>\n",
       "      <th>call_count</th>\n",
       "    </tr>\n",
       "  </thead>\n",
       "  <tbody>\n",
       "    <tr>\n",
       "      <th>0</th>\n",
       "      <td>April</td>\n",
       "      <td>1010</td>\n",
       "      <td>90</td>\n",
       "    </tr>\n",
       "    <tr>\n",
       "      <th>1</th>\n",
       "      <td>April</td>\n",
       "      <td>1028</td>\n",
       "      <td>7</td>\n",
       "    </tr>\n",
       "    <tr>\n",
       "      <th>2</th>\n",
       "      <td>April</td>\n",
       "      <td>1041</td>\n",
       "      <td>60</td>\n",
       "    </tr>\n",
       "    <tr>\n",
       "      <th>3</th>\n",
       "      <td>April</td>\n",
       "      <td>1042</td>\n",
       "      <td>44</td>\n",
       "    </tr>\n",
       "    <tr>\n",
       "      <th>4</th>\n",
       "      <td>April</td>\n",
       "      <td>1049</td>\n",
       "      <td>30</td>\n",
       "    </tr>\n",
       "    <tr>\n",
       "      <th>...</th>\n",
       "      <td>...</td>\n",
       "      <td>...</td>\n",
       "      <td>...</td>\n",
       "    </tr>\n",
       "    <tr>\n",
       "      <th>2253</th>\n",
       "      <td>September</td>\n",
       "      <td>1494</td>\n",
       "      <td>67</td>\n",
       "    </tr>\n",
       "    <tr>\n",
       "      <th>2254</th>\n",
       "      <td>September</td>\n",
       "      <td>1495</td>\n",
       "      <td>52</td>\n",
       "    </tr>\n",
       "    <tr>\n",
       "      <th>2255</th>\n",
       "      <td>September</td>\n",
       "      <td>1496</td>\n",
       "      <td>52</td>\n",
       "    </tr>\n",
       "    <tr>\n",
       "      <th>2256</th>\n",
       "      <td>September</td>\n",
       "      <td>1498</td>\n",
       "      <td>45</td>\n",
       "    </tr>\n",
       "    <tr>\n",
       "      <th>2257</th>\n",
       "      <td>September</td>\n",
       "      <td>1499</td>\n",
       "      <td>41</td>\n",
       "    </tr>\n",
       "  </tbody>\n",
       "</table>\n",
       "<p>2258 rows × 3 columns</p>\n",
       "</div>"
      ],
      "text/plain": [
       "          month  user_id  call_count\n",
       "0         April     1010          90\n",
       "1         April     1028           7\n",
       "2         April     1041          60\n",
       "3         April     1042          44\n",
       "4         April     1049          30\n",
       "...         ...      ...         ...\n",
       "2253  September     1494          67\n",
       "2254  September     1495          52\n",
       "2255  September     1496          52\n",
       "2256  September     1498          45\n",
       "2257  September     1499          41\n",
       "\n",
       "[2258 rows x 3 columns]"
      ]
     },
     "execution_count": 23,
     "metadata": {},
     "output_type": "execute_result"
    }
   ],
   "source": [
    "monthly_calls = calls.groupby([calls['call_date'].dt.strftime('%B'), 'user_id']).size().reset_index()# Calculate the number of calls made by each user per month. Save the result.\n",
    "monthly_calls.rename(columns={'call_date': 'month', 0: 'call_count'}, inplace=True)\n",
    "monthly_calls"
   ]
  },
  {
   "cell_type": "code",
   "execution_count": 24,
   "metadata": {},
   "outputs": [
    {
     "data": {
      "text/html": [
       "<div>\n",
       "<style scoped>\n",
       "    .dataframe tbody tr th:only-of-type {\n",
       "        vertical-align: middle;\n",
       "    }\n",
       "\n",
       "    .dataframe tbody tr th {\n",
       "        vertical-align: top;\n",
       "    }\n",
       "\n",
       "    .dataframe thead th {\n",
       "        text-align: right;\n",
       "    }\n",
       "</style>\n",
       "<table border=\"1\" class=\"dataframe\">\n",
       "  <thead>\n",
       "    <tr style=\"text-align: right;\">\n",
       "      <th></th>\n",
       "      <th>month</th>\n",
       "      <th>user_id</th>\n",
       "      <th>minutes_per_month</th>\n",
       "    </tr>\n",
       "  </thead>\n",
       "  <tbody>\n",
       "    <tr>\n",
       "      <th>0</th>\n",
       "      <td>April</td>\n",
       "      <td>1010</td>\n",
       "      <td>619.0</td>\n",
       "    </tr>\n",
       "    <tr>\n",
       "      <th>1</th>\n",
       "      <td>April</td>\n",
       "      <td>1028</td>\n",
       "      <td>50.0</td>\n",
       "    </tr>\n",
       "    <tr>\n",
       "      <th>2</th>\n",
       "      <td>April</td>\n",
       "      <td>1041</td>\n",
       "      <td>425.0</td>\n",
       "    </tr>\n",
       "    <tr>\n",
       "      <th>3</th>\n",
       "      <td>April</td>\n",
       "      <td>1042</td>\n",
       "      <td>265.0</td>\n",
       "    </tr>\n",
       "    <tr>\n",
       "      <th>4</th>\n",
       "      <td>April</td>\n",
       "      <td>1049</td>\n",
       "      <td>225.0</td>\n",
       "    </tr>\n",
       "    <tr>\n",
       "      <th>...</th>\n",
       "      <td>...</td>\n",
       "      <td>...</td>\n",
       "      <td>...</td>\n",
       "    </tr>\n",
       "    <tr>\n",
       "      <th>2253</th>\n",
       "      <td>September</td>\n",
       "      <td>1494</td>\n",
       "      <td>460.0</td>\n",
       "    </tr>\n",
       "    <tr>\n",
       "      <th>2254</th>\n",
       "      <td>September</td>\n",
       "      <td>1495</td>\n",
       "      <td>284.0</td>\n",
       "    </tr>\n",
       "    <tr>\n",
       "      <th>2255</th>\n",
       "      <td>September</td>\n",
       "      <td>1496</td>\n",
       "      <td>390.0</td>\n",
       "    </tr>\n",
       "    <tr>\n",
       "      <th>2256</th>\n",
       "      <td>September</td>\n",
       "      <td>1498</td>\n",
       "      <td>345.0</td>\n",
       "    </tr>\n",
       "    <tr>\n",
       "      <th>2257</th>\n",
       "      <td>September</td>\n",
       "      <td>1499</td>\n",
       "      <td>331.0</td>\n",
       "    </tr>\n",
       "  </tbody>\n",
       "</table>\n",
       "<p>2258 rows × 3 columns</p>\n",
       "</div>"
      ],
      "text/plain": [
       "          month  user_id  minutes_per_month\n",
       "0         April     1010              619.0\n",
       "1         April     1028               50.0\n",
       "2         April     1041              425.0\n",
       "3         April     1042              265.0\n",
       "4         April     1049              225.0\n",
       "...         ...      ...                ...\n",
       "2253  September     1494              460.0\n",
       "2254  September     1495              284.0\n",
       "2255  September     1496              390.0\n",
       "2256  September     1498              345.0\n",
       "2257  September     1499              331.0\n",
       "\n",
       "[2258 rows x 3 columns]"
      ]
     },
     "execution_count": 24,
     "metadata": {},
     "output_type": "execute_result"
    }
   ],
   "source": [
    "monthly_minutes = calls.groupby([calls['call_date'].dt.strftime('%B'), 'user_id'])['duration'].sum().reset_index() # Calculate the amount of minutes spent by each user per month. Save the result.\n",
    "monthly_minutes.rename(columns={'call_date': 'month', 'duration': 'minutes_per_month'}, inplace=True) \n",
    "monthly_minutes['minutes_per_month'] = monthly_minutes['minutes_per_month'].apply(np.ceil)\n",
    "monthly_minutes"
   ]
  },
  {
   "cell_type": "code",
   "execution_count": 25,
   "metadata": {},
   "outputs": [
    {
     "data": {
      "text/html": [
       "<div>\n",
       "<style scoped>\n",
       "    .dataframe tbody tr th:only-of-type {\n",
       "        vertical-align: middle;\n",
       "    }\n",
       "\n",
       "    .dataframe tbody tr th {\n",
       "        vertical-align: top;\n",
       "    }\n",
       "\n",
       "    .dataframe thead th {\n",
       "        text-align: right;\n",
       "    }\n",
       "</style>\n",
       "<table border=\"1\" class=\"dataframe\">\n",
       "  <thead>\n",
       "    <tr style=\"text-align: right;\">\n",
       "      <th></th>\n",
       "      <th>month</th>\n",
       "      <th>user_id</th>\n",
       "      <th>message_count</th>\n",
       "    </tr>\n",
       "  </thead>\n",
       "  <tbody>\n",
       "    <tr>\n",
       "      <th>0</th>\n",
       "      <td>April</td>\n",
       "      <td>1028</td>\n",
       "      <td>77</td>\n",
       "    </tr>\n",
       "    <tr>\n",
       "      <th>1</th>\n",
       "      <td>April</td>\n",
       "      <td>1054</td>\n",
       "      <td>6</td>\n",
       "    </tr>\n",
       "    <tr>\n",
       "      <th>2</th>\n",
       "      <td>April</td>\n",
       "      <td>1059</td>\n",
       "      <td>20</td>\n",
       "    </tr>\n",
       "    <tr>\n",
       "      <th>3</th>\n",
       "      <td>April</td>\n",
       "      <td>1061</td>\n",
       "      <td>17</td>\n",
       "    </tr>\n",
       "    <tr>\n",
       "      <th>4</th>\n",
       "      <td>April</td>\n",
       "      <td>1062</td>\n",
       "      <td>5</td>\n",
       "    </tr>\n",
       "    <tr>\n",
       "      <th>...</th>\n",
       "      <td>...</td>\n",
       "      <td>...</td>\n",
       "      <td>...</td>\n",
       "    </tr>\n",
       "    <tr>\n",
       "      <th>1801</th>\n",
       "      <td>September</td>\n",
       "      <td>1489</td>\n",
       "      <td>59</td>\n",
       "    </tr>\n",
       "    <tr>\n",
       "      <th>1802</th>\n",
       "      <td>September</td>\n",
       "      <td>1491</td>\n",
       "      <td>50</td>\n",
       "    </tr>\n",
       "    <tr>\n",
       "      <th>1803</th>\n",
       "      <td>September</td>\n",
       "      <td>1492</td>\n",
       "      <td>11</td>\n",
       "    </tr>\n",
       "    <tr>\n",
       "      <th>1804</th>\n",
       "      <td>September</td>\n",
       "      <td>1494</td>\n",
       "      <td>21</td>\n",
       "    </tr>\n",
       "    <tr>\n",
       "      <th>1805</th>\n",
       "      <td>September</td>\n",
       "      <td>1496</td>\n",
       "      <td>21</td>\n",
       "    </tr>\n",
       "  </tbody>\n",
       "</table>\n",
       "<p>1806 rows × 3 columns</p>\n",
       "</div>"
      ],
      "text/plain": [
       "          month  user_id  message_count\n",
       "0         April     1028             77\n",
       "1         April     1054              6\n",
       "2         April     1059             20\n",
       "3         April     1061             17\n",
       "4         April     1062              5\n",
       "...         ...      ...            ...\n",
       "1801  September     1489             59\n",
       "1802  September     1491             50\n",
       "1803  September     1492             11\n",
       "1804  September     1494             21\n",
       "1805  September     1496             21\n",
       "\n",
       "[1806 rows x 3 columns]"
      ]
     },
     "execution_count": 25,
     "metadata": {},
     "output_type": "execute_result"
    }
   ],
   "source": [
    "monthly_messages = messages.groupby([messages['message_date'].dt.strftime('%B'), 'user_id']).size().reset_index()# Calculate the number of messages sent by each user per month. Save the result.\n",
    "monthly_messages.rename(columns={'message_date': 'month', 0: 'message_count'}, inplace=True)\n",
    "monthly_messages"
   ]
  },
  {
   "cell_type": "markdown",
   "metadata": {},
   "source": [
    "I will convert the 'mb_sum' here to 'gb_sum' to better align with plan conditions."
   ]
  },
  {
   "cell_type": "code",
   "execution_count": 26,
   "metadata": {},
   "outputs": [
    {
     "data": {
      "text/html": [
       "<div>\n",
       "<style scoped>\n",
       "    .dataframe tbody tr th:only-of-type {\n",
       "        vertical-align: middle;\n",
       "    }\n",
       "\n",
       "    .dataframe tbody tr th {\n",
       "        vertical-align: top;\n",
       "    }\n",
       "\n",
       "    .dataframe thead th {\n",
       "        text-align: right;\n",
       "    }\n",
       "</style>\n",
       "<table border=\"1\" class=\"dataframe\">\n",
       "  <thead>\n",
       "    <tr style=\"text-align: right;\">\n",
       "      <th></th>\n",
       "      <th>month</th>\n",
       "      <th>user_id</th>\n",
       "      <th>mb_sum</th>\n",
       "      <th>gb_sum</th>\n",
       "    </tr>\n",
       "  </thead>\n",
       "  <tbody>\n",
       "    <tr>\n",
       "      <th>0</th>\n",
       "      <td>April</td>\n",
       "      <td>1010</td>\n",
       "      <td>19722.34</td>\n",
       "      <td>20</td>\n",
       "    </tr>\n",
       "    <tr>\n",
       "      <th>1</th>\n",
       "      <td>April</td>\n",
       "      <td>1028</td>\n",
       "      <td>37761.59</td>\n",
       "      <td>38</td>\n",
       "    </tr>\n",
       "    <tr>\n",
       "      <th>2</th>\n",
       "      <td>April</td>\n",
       "      <td>1041</td>\n",
       "      <td>20601.58</td>\n",
       "      <td>21</td>\n",
       "    </tr>\n",
       "    <tr>\n",
       "      <th>3</th>\n",
       "      <td>April</td>\n",
       "      <td>1042</td>\n",
       "      <td>7102.40</td>\n",
       "      <td>8</td>\n",
       "    </tr>\n",
       "    <tr>\n",
       "      <th>4</th>\n",
       "      <td>April</td>\n",
       "      <td>1049</td>\n",
       "      <td>5374.00</td>\n",
       "      <td>6</td>\n",
       "    </tr>\n",
       "    <tr>\n",
       "      <th>...</th>\n",
       "      <td>...</td>\n",
       "      <td>...</td>\n",
       "      <td>...</td>\n",
       "      <td>...</td>\n",
       "    </tr>\n",
       "    <tr>\n",
       "      <th>2272</th>\n",
       "      <td>September</td>\n",
       "      <td>1494</td>\n",
       "      <td>16181.14</td>\n",
       "      <td>17</td>\n",
       "    </tr>\n",
       "    <tr>\n",
       "      <th>2273</th>\n",
       "      <td>September</td>\n",
       "      <td>1495</td>\n",
       "      <td>22981.37</td>\n",
       "      <td>23</td>\n",
       "    </tr>\n",
       "    <tr>\n",
       "      <th>2274</th>\n",
       "      <td>September</td>\n",
       "      <td>1496</td>\n",
       "      <td>16389.27</td>\n",
       "      <td>17</td>\n",
       "    </tr>\n",
       "    <tr>\n",
       "      <th>2275</th>\n",
       "      <td>September</td>\n",
       "      <td>1498</td>\n",
       "      <td>22827.28</td>\n",
       "      <td>23</td>\n",
       "    </tr>\n",
       "    <tr>\n",
       "      <th>2276</th>\n",
       "      <td>September</td>\n",
       "      <td>1499</td>\n",
       "      <td>12984.76</td>\n",
       "      <td>13</td>\n",
       "    </tr>\n",
       "  </tbody>\n",
       "</table>\n",
       "<p>2277 rows × 4 columns</p>\n",
       "</div>"
      ],
      "text/plain": [
       "          month  user_id    mb_sum  gb_sum\n",
       "0         April     1010  19722.34      20\n",
       "1         April     1028  37761.59      38\n",
       "2         April     1041  20601.58      21\n",
       "3         April     1042   7102.40       8\n",
       "4         April     1049   5374.00       6\n",
       "...         ...      ...       ...     ...\n",
       "2272  September     1494  16181.14      17\n",
       "2273  September     1495  22981.37      23\n",
       "2274  September     1496  16389.27      17\n",
       "2275  September     1498  22827.28      23\n",
       "2276  September     1499  12984.76      13\n",
       "\n",
       "[2277 rows x 4 columns]"
      ]
     },
     "execution_count": 26,
     "metadata": {},
     "output_type": "execute_result"
    }
   ],
   "source": [
    "monthly_traffic = internet.groupby([internet['session_date'].dt.strftime('%B'), 'user_id'])['mb_used'].sum().reset_index()# Calculate the volume of internet traffic used by each user per month. Save the result.\n",
    "monthly_traffic.rename(columns={'session_date': 'month', 'mb_used': 'mb_sum'}, inplace=True)\n",
    "monthly_traffic['gb_sum'] = monthly_traffic['mb_sum'] / 1000\n",
    "monthly_traffic['gb_sum'] = np.ceil(monthly_traffic['gb_sum']).astype('int64')\n",
    "monthly_traffic"
   ]
  },
  {
   "cell_type": "markdown",
   "metadata": {},
   "source": [
    "I will merge each smaller DataFrame into one DataFrame, so that one record in it will represent what a unique user consumed in a given month."
   ]
  },
  {
   "cell_type": "code",
   "execution_count": 27,
   "metadata": {},
   "outputs": [
    {
     "data": {
      "text/html": [
       "<div>\n",
       "<style scoped>\n",
       "    .dataframe tbody tr th:only-of-type {\n",
       "        vertical-align: middle;\n",
       "    }\n",
       "\n",
       "    .dataframe tbody tr th {\n",
       "        vertical-align: top;\n",
       "    }\n",
       "\n",
       "    .dataframe thead th {\n",
       "        text-align: right;\n",
       "    }\n",
       "</style>\n",
       "<table border=\"1\" class=\"dataframe\">\n",
       "  <thead>\n",
       "    <tr style=\"text-align: right;\">\n",
       "      <th></th>\n",
       "      <th>month</th>\n",
       "      <th>user_id</th>\n",
       "      <th>call_count</th>\n",
       "      <th>minutes_per_month</th>\n",
       "      <th>message_count</th>\n",
       "      <th>mb_sum</th>\n",
       "      <th>gb_sum</th>\n",
       "    </tr>\n",
       "  </thead>\n",
       "  <tbody>\n",
       "    <tr>\n",
       "      <th>0</th>\n",
       "      <td>April</td>\n",
       "      <td>1010</td>\n",
       "      <td>90.0</td>\n",
       "      <td>619.0</td>\n",
       "      <td>NaN</td>\n",
       "      <td>19722.34</td>\n",
       "      <td>20.0</td>\n",
       "    </tr>\n",
       "    <tr>\n",
       "      <th>1</th>\n",
       "      <td>April</td>\n",
       "      <td>1334</td>\n",
       "      <td>104.0</td>\n",
       "      <td>753.0</td>\n",
       "      <td>14.0</td>\n",
       "      <td>15474.76</td>\n",
       "      <td>16.0</td>\n",
       "    </tr>\n",
       "    <tr>\n",
       "      <th>2</th>\n",
       "      <td>April</td>\n",
       "      <td>1328</td>\n",
       "      <td>19.0</td>\n",
       "      <td>117.0</td>\n",
       "      <td>21.0</td>\n",
       "      <td>2749.33</td>\n",
       "      <td>3.0</td>\n",
       "    </tr>\n",
       "    <tr>\n",
       "      <th>3</th>\n",
       "      <td>April</td>\n",
       "      <td>1324</td>\n",
       "      <td>129.0</td>\n",
       "      <td>992.0</td>\n",
       "      <td>120.0</td>\n",
       "      <td>14162.32</td>\n",
       "      <td>15.0</td>\n",
       "    </tr>\n",
       "    <tr>\n",
       "      <th>4</th>\n",
       "      <td>April</td>\n",
       "      <td>1320</td>\n",
       "      <td>71.0</td>\n",
       "      <td>423.0</td>\n",
       "      <td>27.0</td>\n",
       "      <td>8356.98</td>\n",
       "      <td>9.0</td>\n",
       "    </tr>\n",
       "    <tr>\n",
       "      <th>...</th>\n",
       "      <td>...</td>\n",
       "      <td>...</td>\n",
       "      <td>...</td>\n",
       "      <td>...</td>\n",
       "      <td>...</td>\n",
       "      <td>...</td>\n",
       "      <td>...</td>\n",
       "    </tr>\n",
       "    <tr>\n",
       "      <th>2288</th>\n",
       "      <td>September</td>\n",
       "      <td>1181</td>\n",
       "      <td>89.0</td>\n",
       "      <td>605.0</td>\n",
       "      <td>30.0</td>\n",
       "      <td>19238.08</td>\n",
       "      <td>20.0</td>\n",
       "    </tr>\n",
       "    <tr>\n",
       "      <th>2289</th>\n",
       "      <td>September</td>\n",
       "      <td>1179</td>\n",
       "      <td>64.0</td>\n",
       "      <td>437.0</td>\n",
       "      <td>21.0</td>\n",
       "      <td>13842.13</td>\n",
       "      <td>14.0</td>\n",
       "    </tr>\n",
       "    <tr>\n",
       "      <th>2290</th>\n",
       "      <td>September</td>\n",
       "      <td>1174</td>\n",
       "      <td>87.0</td>\n",
       "      <td>665.0</td>\n",
       "      <td>66.0</td>\n",
       "      <td>16506.98</td>\n",
       "      <td>17.0</td>\n",
       "    </tr>\n",
       "    <tr>\n",
       "      <th>2291</th>\n",
       "      <td>September</td>\n",
       "      <td>1189</td>\n",
       "      <td>13.0</td>\n",
       "      <td>115.0</td>\n",
       "      <td>6.0</td>\n",
       "      <td>4255.45</td>\n",
       "      <td>5.0</td>\n",
       "    </tr>\n",
       "    <tr>\n",
       "      <th>2292</th>\n",
       "      <td>September</td>\n",
       "      <td>1145</td>\n",
       "      <td>70.0</td>\n",
       "      <td>493.0</td>\n",
       "      <td>55.0</td>\n",
       "      <td>17330.79</td>\n",
       "      <td>18.0</td>\n",
       "    </tr>\n",
       "  </tbody>\n",
       "</table>\n",
       "<p>2293 rows × 7 columns</p>\n",
       "</div>"
      ],
      "text/plain": [
       "          month  user_id  call_count  minutes_per_month  message_count  \\\n",
       "0         April     1010        90.0              619.0            NaN   \n",
       "1         April     1334       104.0              753.0           14.0   \n",
       "2         April     1328        19.0              117.0           21.0   \n",
       "3         April     1324       129.0              992.0          120.0   \n",
       "4         April     1320        71.0              423.0           27.0   \n",
       "...         ...      ...         ...                ...            ...   \n",
       "2288  September     1181        89.0              605.0           30.0   \n",
       "2289  September     1179        64.0              437.0           21.0   \n",
       "2290  September     1174        87.0              665.0           66.0   \n",
       "2291  September     1189        13.0              115.0            6.0   \n",
       "2292  September     1145        70.0              493.0           55.0   \n",
       "\n",
       "        mb_sum  gb_sum  \n",
       "0     19722.34    20.0  \n",
       "1     15474.76    16.0  \n",
       "2      2749.33     3.0  \n",
       "3     14162.32    15.0  \n",
       "4      8356.98     9.0  \n",
       "...        ...     ...  \n",
       "2288  19238.08    20.0  \n",
       "2289  13842.13    14.0  \n",
       "2290  16506.98    17.0  \n",
       "2291   4255.45     5.0  \n",
       "2292  17330.79    18.0  \n",
       "\n",
       "[2293 rows x 7 columns]"
      ]
     },
     "execution_count": 27,
     "metadata": {},
     "output_type": "execute_result"
    }
   ],
   "source": [
    "usage_merged = pd.merge(monthly_calls, monthly_minutes, on=['month', 'user_id'], how='outer').merge(monthly_messages, on=['month', 'user_id'], how='outer').merge(monthly_traffic, on=['month', 'user_id'], how='outer')# Merge the data for calls, minutes, messages, internet based on user_id and month\n",
    "usage_merged = usage_merged.sort_values(by='month').reset_index(drop=True)\n",
    "usage_merged"
   ]
  },
  {
   "cell_type": "code",
   "execution_count": 28,
   "metadata": {
    "scrolled": false
   },
   "outputs": [
    {
     "data": {
      "text/html": [
       "<div>\n",
       "<style scoped>\n",
       "    .dataframe tbody tr th:only-of-type {\n",
       "        vertical-align: middle;\n",
       "    }\n",
       "\n",
       "    .dataframe tbody tr th {\n",
       "        vertical-align: top;\n",
       "    }\n",
       "\n",
       "    .dataframe thead th {\n",
       "        text-align: right;\n",
       "    }\n",
       "</style>\n",
       "<table border=\"1\" class=\"dataframe\">\n",
       "  <thead>\n",
       "    <tr style=\"text-align: right;\">\n",
       "      <th></th>\n",
       "      <th>month</th>\n",
       "      <th>user_id</th>\n",
       "      <th>call_count</th>\n",
       "      <th>minutes_per_month</th>\n",
       "      <th>message_count</th>\n",
       "      <th>gb_sum</th>\n",
       "      <th>first_name</th>\n",
       "      <th>last_name</th>\n",
       "      <th>age</th>\n",
       "      <th>city</th>\n",
       "      <th>reg_date</th>\n",
       "      <th>plan</th>\n",
       "      <th>churn_date</th>\n",
       "      <th>messages_included</th>\n",
       "      <th>minutes_included</th>\n",
       "      <th>usd_monthly_pay</th>\n",
       "      <th>usd_per_gb</th>\n",
       "      <th>usd_per_message</th>\n",
       "      <th>usd_per_minute</th>\n",
       "      <th>gb_per_month_included</th>\n",
       "    </tr>\n",
       "  </thead>\n",
       "  <tbody>\n",
       "    <tr>\n",
       "      <th>0</th>\n",
       "      <td>April</td>\n",
       "      <td>1010</td>\n",
       "      <td>90</td>\n",
       "      <td>619</td>\n",
       "      <td>0</td>\n",
       "      <td>20</td>\n",
       "      <td>Wilber</td>\n",
       "      <td>Blair</td>\n",
       "      <td>52</td>\n",
       "      <td>Dallas-Fort Worth-Arlington, TX MSA</td>\n",
       "      <td>2018-03-09</td>\n",
       "      <td>surf</td>\n",
       "      <td>active</td>\n",
       "      <td>50</td>\n",
       "      <td>500</td>\n",
       "      <td>20</td>\n",
       "      <td>10</td>\n",
       "      <td>0.03</td>\n",
       "      <td>0.03</td>\n",
       "      <td>15</td>\n",
       "    </tr>\n",
       "    <tr>\n",
       "      <th>1</th>\n",
       "      <td>August</td>\n",
       "      <td>1010</td>\n",
       "      <td>93</td>\n",
       "      <td>599</td>\n",
       "      <td>0</td>\n",
       "      <td>20</td>\n",
       "      <td>Wilber</td>\n",
       "      <td>Blair</td>\n",
       "      <td>52</td>\n",
       "      <td>Dallas-Fort Worth-Arlington, TX MSA</td>\n",
       "      <td>2018-03-09</td>\n",
       "      <td>surf</td>\n",
       "      <td>active</td>\n",
       "      <td>50</td>\n",
       "      <td>500</td>\n",
       "      <td>20</td>\n",
       "      <td>10</td>\n",
       "      <td>0.03</td>\n",
       "      <td>0.03</td>\n",
       "      <td>15</td>\n",
       "    </tr>\n",
       "    <tr>\n",
       "      <th>2</th>\n",
       "      <td>July</td>\n",
       "      <td>1010</td>\n",
       "      <td>101</td>\n",
       "      <td>659</td>\n",
       "      <td>0</td>\n",
       "      <td>13</td>\n",
       "      <td>Wilber</td>\n",
       "      <td>Blair</td>\n",
       "      <td>52</td>\n",
       "      <td>Dallas-Fort Worth-Arlington, TX MSA</td>\n",
       "      <td>2018-03-09</td>\n",
       "      <td>surf</td>\n",
       "      <td>active</td>\n",
       "      <td>50</td>\n",
       "      <td>500</td>\n",
       "      <td>20</td>\n",
       "      <td>10</td>\n",
       "      <td>0.03</td>\n",
       "      <td>0.03</td>\n",
       "      <td>15</td>\n",
       "    </tr>\n",
       "    <tr>\n",
       "      <th>3</th>\n",
       "      <td>June</td>\n",
       "      <td>1010</td>\n",
       "      <td>77</td>\n",
       "      <td>525</td>\n",
       "      <td>0</td>\n",
       "      <td>17</td>\n",
       "      <td>Wilber</td>\n",
       "      <td>Blair</td>\n",
       "      <td>52</td>\n",
       "      <td>Dallas-Fort Worth-Arlington, TX MSA</td>\n",
       "      <td>2018-03-09</td>\n",
       "      <td>surf</td>\n",
       "      <td>active</td>\n",
       "      <td>50</td>\n",
       "      <td>500</td>\n",
       "      <td>20</td>\n",
       "      <td>10</td>\n",
       "      <td>0.03</td>\n",
       "      <td>0.03</td>\n",
       "      <td>15</td>\n",
       "    </tr>\n",
       "    <tr>\n",
       "      <th>4</th>\n",
       "      <td>March</td>\n",
       "      <td>1010</td>\n",
       "      <td>63</td>\n",
       "      <td>409</td>\n",
       "      <td>0</td>\n",
       "      <td>11</td>\n",
       "      <td>Wilber</td>\n",
       "      <td>Blair</td>\n",
       "      <td>52</td>\n",
       "      <td>Dallas-Fort Worth-Arlington, TX MSA</td>\n",
       "      <td>2018-03-09</td>\n",
       "      <td>surf</td>\n",
       "      <td>active</td>\n",
       "      <td>50</td>\n",
       "      <td>500</td>\n",
       "      <td>20</td>\n",
       "      <td>10</td>\n",
       "      <td>0.03</td>\n",
       "      <td>0.03</td>\n",
       "      <td>15</td>\n",
       "    </tr>\n",
       "  </tbody>\n",
       "</table>\n",
       "</div>"
      ],
      "text/plain": [
       "    month  user_id  call_count  minutes_per_month  message_count  gb_sum  \\\n",
       "0   April     1010          90                619              0      20   \n",
       "1  August     1010          93                599              0      20   \n",
       "2    July     1010         101                659              0      13   \n",
       "3    June     1010          77                525              0      17   \n",
       "4   March     1010          63                409              0      11   \n",
       "\n",
       "  first_name last_name  age                                 city   reg_date  \\\n",
       "0     Wilber     Blair   52  Dallas-Fort Worth-Arlington, TX MSA 2018-03-09   \n",
       "1     Wilber     Blair   52  Dallas-Fort Worth-Arlington, TX MSA 2018-03-09   \n",
       "2     Wilber     Blair   52  Dallas-Fort Worth-Arlington, TX MSA 2018-03-09   \n",
       "3     Wilber     Blair   52  Dallas-Fort Worth-Arlington, TX MSA 2018-03-09   \n",
       "4     Wilber     Blair   52  Dallas-Fort Worth-Arlington, TX MSA 2018-03-09   \n",
       "\n",
       "   plan churn_date  messages_included  minutes_included  usd_monthly_pay  \\\n",
       "0  surf     active                 50               500               20   \n",
       "1  surf     active                 50               500               20   \n",
       "2  surf     active                 50               500               20   \n",
       "3  surf     active                 50               500               20   \n",
       "4  surf     active                 50               500               20   \n",
       "\n",
       "   usd_per_gb  usd_per_message  usd_per_minute  gb_per_month_included  \n",
       "0          10             0.03            0.03                     15  \n",
       "1          10             0.03            0.03                     15  \n",
       "2          10             0.03            0.03                     15  \n",
       "3          10             0.03            0.03                     15  \n",
       "4          10             0.03            0.03                     15  "
      ]
     },
     "execution_count": 28,
     "metadata": {},
     "output_type": "execute_result"
    }
   ],
   "source": [
    "users_merged = pd.merge(usage_merged, users, on='user_id', how='outer')# Add the plan information\n",
    "users_plan = pd.merge(users_merged, plans, on='plan', how='outer')\n",
    "users_plan.drop('mb_sum', axis=1, inplace=True)\n",
    "users_plan.fillna(0, inplace=True)\n",
    "users_plan = users_plan.astype({'call_count': 'int64', 'minutes_per_month': 'int64', 'message_count': 'int64', 'gb_sum': 'int64'})\n",
    "pd.set_option('display.max_columns', None)\n",
    "users_plan.head()"
   ]
  },
  {
   "cell_type": "markdown",
   "metadata": {},
   "source": [
    "I will call nunique on the newly aggregated 'users_plan' DataFrame for each plan, to see how many users subscribe to each plan."
   ]
  },
  {
   "cell_type": "code",
   "execution_count": 29,
   "metadata": {
    "scrolled": true
   },
   "outputs": [
    {
     "data": {
      "text/plain": [
       "339"
      ]
     },
     "execution_count": 29,
     "metadata": {},
     "output_type": "execute_result"
    }
   ],
   "source": [
    "users_plan[users_plan['plan'] == 'surf']['user_id'].nunique()"
   ]
  },
  {
   "cell_type": "code",
   "execution_count": 30,
   "metadata": {},
   "outputs": [
    {
     "data": {
      "text/plain": [
       "161"
      ]
     },
     "execution_count": 30,
     "metadata": {},
     "output_type": "execute_result"
    }
   ],
   "source": [
    "users_plan[users_plan['plan'] == 'ultimate']['user_id'].nunique()"
   ]
  },
  {
   "cell_type": "markdown",
   "metadata": {},
   "source": [
    "I will use this 'calc_revenue' function to calculate the monthly revenue from each user by subtracting the free package limit from the total number of calls/text messages/data, then multiply the result by the calling plan value and finally, add the monthly charge depending on the calling plan. I will then add the resulting values to a new column called 'user_monthly_rev'."
   ]
  },
  {
   "cell_type": "code",
   "execution_count": 31,
   "metadata": {
    "scrolled": true
   },
   "outputs": [
    {
     "data": {
      "text/html": [
       "<div>\n",
       "<style scoped>\n",
       "    .dataframe tbody tr th:only-of-type {\n",
       "        vertical-align: middle;\n",
       "    }\n",
       "\n",
       "    .dataframe tbody tr th {\n",
       "        vertical-align: top;\n",
       "    }\n",
       "\n",
       "    .dataframe thead th {\n",
       "        text-align: right;\n",
       "    }\n",
       "</style>\n",
       "<table border=\"1\" class=\"dataframe\">\n",
       "  <thead>\n",
       "    <tr style=\"text-align: right;\">\n",
       "      <th></th>\n",
       "      <th>month</th>\n",
       "      <th>user_id</th>\n",
       "      <th>call_count</th>\n",
       "      <th>minutes_per_month</th>\n",
       "      <th>message_count</th>\n",
       "      <th>gb_sum</th>\n",
       "      <th>first_name</th>\n",
       "      <th>last_name</th>\n",
       "      <th>age</th>\n",
       "      <th>city</th>\n",
       "      <th>reg_date</th>\n",
       "      <th>plan</th>\n",
       "      <th>churn_date</th>\n",
       "      <th>messages_included</th>\n",
       "      <th>minutes_included</th>\n",
       "      <th>usd_monthly_pay</th>\n",
       "      <th>usd_per_gb</th>\n",
       "      <th>usd_per_message</th>\n",
       "      <th>usd_per_minute</th>\n",
       "      <th>gb_per_month_included</th>\n",
       "      <th>user_monthly_rev</th>\n",
       "    </tr>\n",
       "  </thead>\n",
       "  <tbody>\n",
       "    <tr>\n",
       "      <th>0</th>\n",
       "      <td>April</td>\n",
       "      <td>1010</td>\n",
       "      <td>90</td>\n",
       "      <td>619</td>\n",
       "      <td>0</td>\n",
       "      <td>20</td>\n",
       "      <td>Wilber</td>\n",
       "      <td>Blair</td>\n",
       "      <td>52</td>\n",
       "      <td>Dallas-Fort Worth-Arlington, TX MSA</td>\n",
       "      <td>2018-03-09</td>\n",
       "      <td>surf</td>\n",
       "      <td>active</td>\n",
       "      <td>50</td>\n",
       "      <td>500</td>\n",
       "      <td>20</td>\n",
       "      <td>10</td>\n",
       "      <td>0.03</td>\n",
       "      <td>0.03</td>\n",
       "      <td>15</td>\n",
       "      <td>73.57</td>\n",
       "    </tr>\n",
       "    <tr>\n",
       "      <th>1</th>\n",
       "      <td>August</td>\n",
       "      <td>1010</td>\n",
       "      <td>93</td>\n",
       "      <td>599</td>\n",
       "      <td>0</td>\n",
       "      <td>20</td>\n",
       "      <td>Wilber</td>\n",
       "      <td>Blair</td>\n",
       "      <td>52</td>\n",
       "      <td>Dallas-Fort Worth-Arlington, TX MSA</td>\n",
       "      <td>2018-03-09</td>\n",
       "      <td>surf</td>\n",
       "      <td>active</td>\n",
       "      <td>50</td>\n",
       "      <td>500</td>\n",
       "      <td>20</td>\n",
       "      <td>10</td>\n",
       "      <td>0.03</td>\n",
       "      <td>0.03</td>\n",
       "      <td>15</td>\n",
       "      <td>72.97</td>\n",
       "    </tr>\n",
       "    <tr>\n",
       "      <th>2</th>\n",
       "      <td>July</td>\n",
       "      <td>1010</td>\n",
       "      <td>101</td>\n",
       "      <td>659</td>\n",
       "      <td>0</td>\n",
       "      <td>13</td>\n",
       "      <td>Wilber</td>\n",
       "      <td>Blair</td>\n",
       "      <td>52</td>\n",
       "      <td>Dallas-Fort Worth-Arlington, TX MSA</td>\n",
       "      <td>2018-03-09</td>\n",
       "      <td>surf</td>\n",
       "      <td>active</td>\n",
       "      <td>50</td>\n",
       "      <td>500</td>\n",
       "      <td>20</td>\n",
       "      <td>10</td>\n",
       "      <td>0.03</td>\n",
       "      <td>0.03</td>\n",
       "      <td>15</td>\n",
       "      <td>24.77</td>\n",
       "    </tr>\n",
       "    <tr>\n",
       "      <th>3</th>\n",
       "      <td>June</td>\n",
       "      <td>1010</td>\n",
       "      <td>77</td>\n",
       "      <td>525</td>\n",
       "      <td>0</td>\n",
       "      <td>17</td>\n",
       "      <td>Wilber</td>\n",
       "      <td>Blair</td>\n",
       "      <td>52</td>\n",
       "      <td>Dallas-Fort Worth-Arlington, TX MSA</td>\n",
       "      <td>2018-03-09</td>\n",
       "      <td>surf</td>\n",
       "      <td>active</td>\n",
       "      <td>50</td>\n",
       "      <td>500</td>\n",
       "      <td>20</td>\n",
       "      <td>10</td>\n",
       "      <td>0.03</td>\n",
       "      <td>0.03</td>\n",
       "      <td>15</td>\n",
       "      <td>40.75</td>\n",
       "    </tr>\n",
       "    <tr>\n",
       "      <th>4</th>\n",
       "      <td>March</td>\n",
       "      <td>1010</td>\n",
       "      <td>63</td>\n",
       "      <td>409</td>\n",
       "      <td>0</td>\n",
       "      <td>11</td>\n",
       "      <td>Wilber</td>\n",
       "      <td>Blair</td>\n",
       "      <td>52</td>\n",
       "      <td>Dallas-Fort Worth-Arlington, TX MSA</td>\n",
       "      <td>2018-03-09</td>\n",
       "      <td>surf</td>\n",
       "      <td>active</td>\n",
       "      <td>50</td>\n",
       "      <td>500</td>\n",
       "      <td>20</td>\n",
       "      <td>10</td>\n",
       "      <td>0.03</td>\n",
       "      <td>0.03</td>\n",
       "      <td>15</td>\n",
       "      <td>20.00</td>\n",
       "    </tr>\n",
       "    <tr>\n",
       "      <th>5</th>\n",
       "      <td>May</td>\n",
       "      <td>1010</td>\n",
       "      <td>81</td>\n",
       "      <td>498</td>\n",
       "      <td>0</td>\n",
       "      <td>16</td>\n",
       "      <td>Wilber</td>\n",
       "      <td>Blair</td>\n",
       "      <td>52</td>\n",
       "      <td>Dallas-Fort Worth-Arlington, TX MSA</td>\n",
       "      <td>2018-03-09</td>\n",
       "      <td>surf</td>\n",
       "      <td>active</td>\n",
       "      <td>50</td>\n",
       "      <td>500</td>\n",
       "      <td>20</td>\n",
       "      <td>10</td>\n",
       "      <td>0.03</td>\n",
       "      <td>0.03</td>\n",
       "      <td>15</td>\n",
       "      <td>30.00</td>\n",
       "    </tr>\n",
       "    <tr>\n",
       "      <th>6</th>\n",
       "      <td>November</td>\n",
       "      <td>1010</td>\n",
       "      <td>30</td>\n",
       "      <td>246</td>\n",
       "      <td>0</td>\n",
       "      <td>8</td>\n",
       "      <td>Wilber</td>\n",
       "      <td>Blair</td>\n",
       "      <td>52</td>\n",
       "      <td>Dallas-Fort Worth-Arlington, TX MSA</td>\n",
       "      <td>2018-03-09</td>\n",
       "      <td>surf</td>\n",
       "      <td>active</td>\n",
       "      <td>50</td>\n",
       "      <td>500</td>\n",
       "      <td>20</td>\n",
       "      <td>10</td>\n",
       "      <td>0.03</td>\n",
       "      <td>0.03</td>\n",
       "      <td>15</td>\n",
       "      <td>20.00</td>\n",
       "    </tr>\n",
       "    <tr>\n",
       "      <th>7</th>\n",
       "      <td>October</td>\n",
       "      <td>1010</td>\n",
       "      <td>95</td>\n",
       "      <td>669</td>\n",
       "      <td>0</td>\n",
       "      <td>17</td>\n",
       "      <td>Wilber</td>\n",
       "      <td>Blair</td>\n",
       "      <td>52</td>\n",
       "      <td>Dallas-Fort Worth-Arlington, TX MSA</td>\n",
       "      <td>2018-03-09</td>\n",
       "      <td>surf</td>\n",
       "      <td>active</td>\n",
       "      <td>50</td>\n",
       "      <td>500</td>\n",
       "      <td>20</td>\n",
       "      <td>10</td>\n",
       "      <td>0.03</td>\n",
       "      <td>0.03</td>\n",
       "      <td>15</td>\n",
       "      <td>45.07</td>\n",
       "    </tr>\n",
       "    <tr>\n",
       "      <th>8</th>\n",
       "      <td>September</td>\n",
       "      <td>1010</td>\n",
       "      <td>83</td>\n",
       "      <td>569</td>\n",
       "      <td>0</td>\n",
       "      <td>17</td>\n",
       "      <td>Wilber</td>\n",
       "      <td>Blair</td>\n",
       "      <td>52</td>\n",
       "      <td>Dallas-Fort Worth-Arlington, TX MSA</td>\n",
       "      <td>2018-03-09</td>\n",
       "      <td>surf</td>\n",
       "      <td>active</td>\n",
       "      <td>50</td>\n",
       "      <td>500</td>\n",
       "      <td>20</td>\n",
       "      <td>10</td>\n",
       "      <td>0.03</td>\n",
       "      <td>0.03</td>\n",
       "      <td>15</td>\n",
       "      <td>42.07</td>\n",
       "    </tr>\n",
       "    <tr>\n",
       "      <th>9</th>\n",
       "      <td>April</td>\n",
       "      <td>1334</td>\n",
       "      <td>104</td>\n",
       "      <td>753</td>\n",
       "      <td>14</td>\n",
       "      <td>16</td>\n",
       "      <td>Donovan</td>\n",
       "      <td>Horton</td>\n",
       "      <td>34</td>\n",
       "      <td>Seattle-Tacoma-Bellevue, WA MSA</td>\n",
       "      <td>2018-03-08</td>\n",
       "      <td>surf</td>\n",
       "      <td>active</td>\n",
       "      <td>50</td>\n",
       "      <td>500</td>\n",
       "      <td>20</td>\n",
       "      <td>10</td>\n",
       "      <td>0.03</td>\n",
       "      <td>0.03</td>\n",
       "      <td>15</td>\n",
       "      <td>37.59</td>\n",
       "    </tr>\n",
       "  </tbody>\n",
       "</table>\n",
       "</div>"
      ],
      "text/plain": [
       "       month  user_id  call_count  minutes_per_month  message_count  gb_sum  \\\n",
       "0      April     1010          90                619              0      20   \n",
       "1     August     1010          93                599              0      20   \n",
       "2       July     1010         101                659              0      13   \n",
       "3       June     1010          77                525              0      17   \n",
       "4      March     1010          63                409              0      11   \n",
       "5        May     1010          81                498              0      16   \n",
       "6   November     1010          30                246              0       8   \n",
       "7    October     1010          95                669              0      17   \n",
       "8  September     1010          83                569              0      17   \n",
       "9      April     1334         104                753             14      16   \n",
       "\n",
       "  first_name last_name  age                                 city   reg_date  \\\n",
       "0     Wilber     Blair   52  Dallas-Fort Worth-Arlington, TX MSA 2018-03-09   \n",
       "1     Wilber     Blair   52  Dallas-Fort Worth-Arlington, TX MSA 2018-03-09   \n",
       "2     Wilber     Blair   52  Dallas-Fort Worth-Arlington, TX MSA 2018-03-09   \n",
       "3     Wilber     Blair   52  Dallas-Fort Worth-Arlington, TX MSA 2018-03-09   \n",
       "4     Wilber     Blair   52  Dallas-Fort Worth-Arlington, TX MSA 2018-03-09   \n",
       "5     Wilber     Blair   52  Dallas-Fort Worth-Arlington, TX MSA 2018-03-09   \n",
       "6     Wilber     Blair   52  Dallas-Fort Worth-Arlington, TX MSA 2018-03-09   \n",
       "7     Wilber     Blair   52  Dallas-Fort Worth-Arlington, TX MSA 2018-03-09   \n",
       "8     Wilber     Blair   52  Dallas-Fort Worth-Arlington, TX MSA 2018-03-09   \n",
       "9    Donovan    Horton   34      Seattle-Tacoma-Bellevue, WA MSA 2018-03-08   \n",
       "\n",
       "   plan churn_date  messages_included  minutes_included  usd_monthly_pay  \\\n",
       "0  surf     active                 50               500               20   \n",
       "1  surf     active                 50               500               20   \n",
       "2  surf     active                 50               500               20   \n",
       "3  surf     active                 50               500               20   \n",
       "4  surf     active                 50               500               20   \n",
       "5  surf     active                 50               500               20   \n",
       "6  surf     active                 50               500               20   \n",
       "7  surf     active                 50               500               20   \n",
       "8  surf     active                 50               500               20   \n",
       "9  surf     active                 50               500               20   \n",
       "\n",
       "   usd_per_gb  usd_per_message  usd_per_minute  gb_per_month_included  \\\n",
       "0          10             0.03            0.03                     15   \n",
       "1          10             0.03            0.03                     15   \n",
       "2          10             0.03            0.03                     15   \n",
       "3          10             0.03            0.03                     15   \n",
       "4          10             0.03            0.03                     15   \n",
       "5          10             0.03            0.03                     15   \n",
       "6          10             0.03            0.03                     15   \n",
       "7          10             0.03            0.03                     15   \n",
       "8          10             0.03            0.03                     15   \n",
       "9          10             0.03            0.03                     15   \n",
       "\n",
       "   user_monthly_rev  \n",
       "0             73.57  \n",
       "1             72.97  \n",
       "2             24.77  \n",
       "3             40.75  \n",
       "4             20.00  \n",
       "5             30.00  \n",
       "6             20.00  \n",
       "7             45.07  \n",
       "8             42.07  \n",
       "9             37.59  "
      ]
     },
     "execution_count": 31,
     "metadata": {},
     "output_type": "execute_result"
    }
   ],
   "source": [
    "# Calculate the monthly revenue for each user\n",
    "def calc_revenue(row):\n",
    "\n",
    "    rev = 0\n",
    "    \n",
    "    plan_name = row['plan']\n",
    "    call_min = row['minutes_per_month']\n",
    "    message_count = row['message_count']\n",
    "    gb_sum = row['gb_sum']\n",
    "    \n",
    "    # Difference from the included plan\n",
    "    \n",
    "    min_exceeded = call_min - row['minutes_included']\n",
    "    \n",
    "    msg_exceeded = message_count - row['messages_included']\n",
    "    \n",
    "    gb_exceeded = gb_sum - row['gb_per_month_included']\n",
    "    \n",
    "    # rev if user went over limit\n",
    "    if min_exceeded > 0:\n",
    "        rev += min_exceeded * row['usd_per_minute']\n",
    "    if msg_exceeded > 0:\n",
    "        rev += msg_exceeded * row['usd_per_message']\n",
    "    if gb_exceeded > 0:\n",
    "        rev += gb_exceeded * row['usd_per_gb']\n",
    "    \n",
    "    # summing up all the charges\n",
    "    rev += row['usd_monthly_pay']\n",
    "    \n",
    "    return rev\n",
    "\n",
    "users_plan['user_monthly_rev'] = users_plan.apply(calc_revenue, axis=1)\n",
    "pd.set_option('display.max_columns', None)\n",
    "users_plan.head(10)"
   ]
  },
  {
   "cell_type": "markdown",
   "metadata": {},
   "source": [
    "## Study user behaviour"
   ]
  },
  {
   "cell_type": "markdown",
   "metadata": {},
   "source": [
    "Here, I'll calculate, caputure, and compare user behavior, as well as develop some useful descriptive statistics for the aggregated and merged data. I'll will apply a series of bar and box charts to help visualize the analysis, and help draw some meaningful insight from the data based on the plans. The result should help shine a light on which one is more profitable."
   ]
  },
  {
   "cell_type": "markdown",
   "metadata": {},
   "source": [
    "### Calls"
   ]
  },
  {
   "cell_type": "code",
   "execution_count": 32,
   "metadata": {},
   "outputs": [
    {
     "data": {
      "image/png": "[encoded data removed]",
      "text/plain": [
       "<Figure size 864x576 with 1 Axes>"
      ]
     },
     "metadata": {
      "needs_background": "light"
     },
     "output_type": "display_data"
    }
   ],
   "source": [
    "# Compare average duration of calls per each plan per each distinct month. Plot a bar plot to visualize it.\n",
    "(users_plan.groupby(['month', 'plan'])['minutes_per_month'].mean().T.plot(kind='bar', color=('orange', 'blue'), figsize=(12, 8)))\n",
    "plt.title('Surf vs. Ultimate: Average duration of monthly calls per plan')\n",
    "plt.xlabel('Month, Plan')\n",
    "plt.ylabel('Average minutes')\n",
    "plt.show()"
   ]
  },
  {
   "cell_type": "code",
   "execution_count": 33,
   "metadata": {},
   "outputs": [],
   "source": [
    "# Compare total minutes used per month:\n",
    "sum_monthly_min = users_plan.groupby(['plan', 'month'])['minutes_per_month'].sum().reset_index()"
   ]
  },
  {
   "cell_type": "code",
   "execution_count": 34,
   "metadata": {},
   "outputs": [
    {
     "data": {
      "image/png": "[encoded data removed]",
      "text/plain": [
       "<Figure size 941.75x432 with 1 Axes>"
      ]
     },
     "metadata": {
      "needs_background": "light"
     },
     "output_type": "display_data"
    }
   ],
   "source": [
    "g = sns.catplot(\n",
    "    data=sum_monthly_min, kind=\"bar\",\n",
    "    x=\"month\", y=\"minutes_per_month\", hue=\"plan\",\n",
    "    ci=None, palette=sns.color_palette(['orange', 'blue']), alpha=.9, height=6, aspect=2\n",
    ")\n",
    "g.despine(left=True)\n",
    "g.set_axis_labels(\"Month\", \"Total Minutes Used\")\n",
    "g.legend.set_title(\"Plan\")\n",
    "plt.title(\"Comparison of Total Minutes Used per Plan per Month\")\n",
    "plt.show()"
   ]
  },
  {
   "cell_type": "code",
   "execution_count": 35,
   "metadata": {},
   "outputs": [
    {
     "name": "stdout",
     "output_type": "stream",
     "text": [
      "Monthly Call duration mean: 411.4925863596103\n",
      "Monthly Call duration variance: 48088.30262015758\n",
      "\n",
      "Mean of total calls per month: 60.99867139061116\n",
      "Variance of total calls per month 1009.3881240647639\n"
     ]
    }
   ],
   "source": [
    "# Calculate the mean and the variance of the monthly call duration\n",
    "monthly_calls = calls.groupby(['user_id', calls['call_date'].dt.strftime('%B')]).agg(total_calls=('duration', 'count'), total_duration=('duration', 'sum')).reset_index()\n",
    "# Duration Mean & Variance:                                \n",
    "duration_mean = monthly_calls['total_duration'].mean()\n",
    "duration_variance = monthly_calls['total_duration'].var()\n",
    "# Call Mean & Variance:\n",
    "call_mean = monthly_calls['total_calls'].mean()\n",
    "call_variance = monthly_calls['total_calls'].var()\n",
    "\n",
    "print(\"Monthly Call duration mean:\", duration_mean)\n",
    "print(\"Monthly Call duration variance:\", duration_variance)  \n",
    "print()\n",
    "print(\"Mean of total calls per month:\", call_mean)\n",
    "print(\"Variance of total calls per month\", call_variance)"
   ]
  },
  {
   "cell_type": "code",
   "execution_count": 36,
   "metadata": {},
   "outputs": [
    {
     "data": {
      "image/png": "[encoded data removed]",
      "text/plain": [
       "<Figure size 864x432 with 1 Axes>"
      ]
     },
     "metadata": {
      "needs_background": "light"
     },
     "output_type": "display_data"
    }
   ],
   "source": [
    "# Plot a boxplot to visualize the distribution of the monthly call duration\n",
    "\n",
    "g = sns.catplot(\n",
    "    data=monthly_calls, kind=\"box\",\n",
    "    x=\"call_date\", y=\"total_duration\",\n",
    "    ci=None, palette='summer', height=6, aspect=2\n",
    ")\n",
    "g.despine(left=True)\n",
    "g.set_axis_labels(\"Month\", \"Total Duration\")\n",
    "plt.title(\"Distribution of call duration per Month\")\n",
    "plt.show()\n",
    "\n"
   ]
  },
  {
   "cell_type": "markdown",
   "metadata": {},
   "source": [
    "__The overall average call duration tracks fairly evenly across all months for both plans, except for in February, where call durations separate with ultimate users having a longer average call duration.__  \n",
    "\n",
    "__At the same time, surf users clearly use more total minutes per month. Again however, except in February, and in January where total usage is low and fairly even among both plans. A contributing factor to higher total minutes could be the fact that the surf plan has more than double the amount of users in the sample group.__\n",
    "\n",
    "__December and November have the largest call volume overall, which may be expected as populations tend to connect more over the holiday season.  Right afterward, January and February recorded the lowest overall call volume across all months.__"
   ]
  },
  {
   "cell_type": "markdown",
   "metadata": {},
   "source": [
    "### Messages"
   ]
  },
  {
   "cell_type": "code",
   "execution_count": 37,
   "metadata": {},
   "outputs": [
    {
     "data": {
      "image/png": "[encoded data removed]",
      "text/plain": [
       "<Figure size 864x576 with 1 Axes>"
      ]
     },
     "metadata": {
      "needs_background": "light"
     },
     "output_type": "display_data"
    }
   ],
   "source": [
    "# Compare the number of messages users of each plan tend to send each month. Plot a bar plot to visualize it.\n",
    "(users_plan.groupby(['month', 'plan'])['message_count'].mean().T.plot(kind='bar', color=('orange', 'blue'), figsize=(12, 8)))\n",
    "plt.title('Surf vs. Ultimate: Average monthly messages per plan')\n",
    "plt.xlabel('Month, Plan')\n",
    "plt.ylabel('Average Messages')\n",
    "plt.show()\n"
   ]
  },
  {
   "cell_type": "code",
   "execution_count": 38,
   "metadata": {},
   "outputs": [
    {
     "data": {
      "image/png": "[encoded data removed]",
      "text/plain": [
       "<Figure size 941.75x432 with 1 Axes>"
      ]
     },
     "metadata": {
      "needs_background": "light"
     },
     "output_type": "display_data"
    }
   ],
   "source": [
    "# Compare total messages sent per month:\n",
    "sum_monthly_messages = users_plan.groupby(['plan', 'month'])['message_count'].sum().reset_index()\n",
    "\n",
    "g = sns.catplot(\n",
    "    data=sum_monthly_messages, kind=\"bar\",\n",
    "    x=\"month\", y=\"message_count\", hue=\"plan\",\n",
    "    ci=None, palette=sns.color_palette(['orange', 'blue']), alpha=.9, height=6, aspect=2\n",
    ")\n",
    "g.despine(left=True)\n",
    "g.set_axis_labels(\"Month\", \"Total Messages Sent\")\n",
    "g.legend.set_title(\"Plan\")\n",
    "plt.title(\"Comparison of Total Messages Sent per Plan per Month\")\n",
    "plt.show()"
   ]
  },
  {
   "cell_type": "code",
   "execution_count": 39,
   "metadata": {},
   "outputs": [
    {
     "name": "stdout",
     "output_type": "stream",
     "text": [
      "Mean of total monthly messages sent: 42.110188261351055\n",
      "Variance of total monthly messages: 1097.1285720421004\n"
     ]
    }
   ],
   "source": [
    "# Calculate the mean and the variance of the monthly messages sent\n",
    "total_monthly_messages = monthly_messages.groupby(['user_id', 'month']).agg(total_messages=('message_count', 'sum')).reset_index()\n",
    "# Mean & Variance:                                \n",
    "message_mean = total_monthly_messages['total_messages'].mean()\n",
    "message_variance = total_monthly_messages['total_messages'].var()\n",
    "\n",
    "print(\"Mean of total monthly messages sent:\", message_mean) \n",
    "print(\"Variance of total monthly messages:\", message_variance)            "
   ]
  },
  {
   "cell_type": "code",
   "execution_count": 40,
   "metadata": {},
   "outputs": [
    {
     "data": {
      "image/png": "[encoded data removed]",
      "text/plain": [
       "<Figure size 864x432 with 1 Axes>"
      ]
     },
     "metadata": {
      "needs_background": "light"
     },
     "output_type": "display_data"
    }
   ],
   "source": [
    "# Plot a boxplot to visualize the distribution of the total monthly messages\n",
    "g = sns.catplot(\n",
    "    data=total_monthly_messages, kind=\"box\",\n",
    "    x=\"month\", y=\"total_messages\",\n",
    "    ci=None, palette='summer', height=6, aspect=2\n",
    ")\n",
    "g.despine(left=True)\n",
    "g.set_axis_labels(\"Month\", \"Total Messages\")\n",
    "plt.title(\"Distribution of messaging per Month\")\n",
    "plt.show()\n"
   ]
  },
  {
   "cell_type": "markdown",
   "metadata": {},
   "source": [
    "Ultimate users have the higher average amount of monthly messages across all months. The communication pattern seen in the call charts holds here as well, with December seeing the largest average volume of messages sent among both plans.\n",
    "\n",
    "Again, surf users dominate the total messages sent per month, except in February and January. Similarly, the larger amount of users could be a contributing factor here too.\n",
    "\n",
    "December and November continue to have the largest overall message volume, with January and February recording the least. There are some clear outliers to note among the users, which could be a factor pulling averages."
   ]
  },
  {
   "cell_type": "markdown",
   "metadata": {},
   "source": [
    "### Internet"
   ]
  },
  {
   "cell_type": "code",
   "execution_count": 41,
   "metadata": {},
   "outputs": [
    {
     "data": {
      "image/png": "[encoded data removed]",
      "text/plain": [
       "<Figure size 864x576 with 1 Axes>"
      ]
     },
     "metadata": {
      "needs_background": "light"
     },
     "output_type": "display_data"
    }
   ],
   "source": [
    "# Compare the average amount of internet traffic consumed by users per plan\n",
    "(users_plan.groupby(['month', 'plan'])['gb_sum'].mean().T.plot(kind='bar', color=('orange', 'blue'), figsize=(12, 8)))\n",
    "plt.title('Surf vs. Ultimate: Average monthly gigabytes consumed per plan')\n",
    "plt.xlabel('Month, Plan')\n",
    "plt.ylabel('Average GB')\n",
    "plt.show()\n",
    "\n"
   ]
  },
  {
   "cell_type": "code",
   "execution_count": 42,
   "metadata": {},
   "outputs": [
    {
     "data": {
      "image/png": "[encoded data removed]",
      "text/plain": [
       "<Figure size 941.75x432 with 1 Axes>"
      ]
     },
     "metadata": {
      "needs_background": "light"
     },
     "output_type": "display_data"
    }
   ],
   "source": [
    "# Compare total GB consumed per month by users of each plan:\n",
    "sum_monthly_gb_used = users_plan.groupby(['plan', 'month'])['gb_sum'].sum().reset_index()\n",
    "\n",
    "g = sns.catplot(\n",
    "    data=sum_monthly_gb_used, kind=\"bar\",\n",
    "    x=\"month\", y=\"gb_sum\", hue=\"plan\",\n",
    "    ci=None, palette=sns.color_palette(['orange', 'blue']), alpha=.9, height=6, aspect=2\n",
    ")\n",
    "g.despine(left=True)\n",
    "g.set_axis_labels(\"Month\", \"Total GB consumed\")\n",
    "g.legend.set_title(\"Plan\")\n",
    "plt.title(\"Comparison of Total GB consumed per Plan per Month\")\n",
    "plt.show()"
   ]
  },
  {
   "cell_type": "code",
   "execution_count": 43,
   "metadata": {},
   "outputs": [
    {
     "name": "stdout",
     "output_type": "stream",
     "text": [
      "Mean of total monthly GB consumed: 17.372859025032938\n",
      "Variance of total monthly GB consumed: 61.92198712115424\n"
     ]
    }
   ],
   "source": [
    "# Calculate the mean and the variance of the monthly messages sent\n",
    "total_monthly_gb = monthly_traffic.groupby(['user_id', 'month']).agg(total_gb=('gb_sum', 'sum')).reset_index()\n",
    "# Mean & Variance:                                \n",
    "gb_mean = total_monthly_gb['total_gb'].mean()\n",
    "gb_variance = total_monthly_gb['total_gb'].var()\n",
    "\n",
    "print(\"Mean of total monthly GB consumed:\", gb_mean) \n",
    "print(\"Variance of total monthly GB consumed:\", gb_variance) "
   ]
  },
  {
   "cell_type": "code",
   "execution_count": 44,
   "metadata": {},
   "outputs": [
    {
     "data": {
      "image/png": "[encoded data removed]",
      "text/plain": [
       "<Figure size 864x432 with 1 Axes>"
      ]
     },
     "metadata": {
      "needs_background": "light"
     },
     "output_type": "display_data"
    }
   ],
   "source": [
    "# Plot a boxplot to visualize the distribution of the total monthly GB consumed\n",
    "g = sns.catplot(\n",
    "    data=total_monthly_gb, kind=\"box\",\n",
    "    x=\"month\", y=\"total_gb\",\n",
    "    ci=None, palette='summer', height=6, aspect=2\n",
    ")\n",
    "g.despine(left=True)\n",
    "g.set_axis_labels(\"Month\", \"Total GB consumed\")\n",
    "plt.title(\"Distribution of GB consumed per Month\")\n",
    "plt.show()"
   ]
  },
  {
   "cell_type": "markdown",
   "metadata": {},
   "source": [
    "Average GB usage tracks fairly evenly across most months with the exception of April, February, and March, where Ultimate users' average consumption is noticably higher. The monthy usages pattern continues reliably.\n",
    "\n",
    "Once again, surf users dominate the total GB usage, where volume from both plans is low. likewise, the larger amount of users could be a contributing factor here too.\n",
    "\n",
    "December and November continue to have the largest overall usage volume, with January and February recording the least. Here too, there are some clear outliers to note, especially in December, which could be a factor pulling averages."
   ]
  },
  {
   "cell_type": "markdown",
   "metadata": {},
   "source": [
    "## Revenue"
   ]
  },
  {
   "cell_type": "code",
   "execution_count": 45,
   "metadata": {},
   "outputs": [
    {
     "data": {
      "image/png": "[encoded data removed]",
      "text/plain": [
       "<Figure size 864x576 with 1 Axes>"
      ]
     },
     "metadata": {
      "needs_background": "light"
     },
     "output_type": "display_data"
    }
   ],
   "source": [
    "# Compare the average monthly revenue per plan:\n",
    "(users_plan.groupby(['month', 'plan'])['user_monthly_rev'].mean().T.plot(kind='bar', color=('gold', 'lime'), figsize=(12, 8)))\n",
    "plt.title('Surf vs. Ultimate: Average monthly revenue per plan')\n",
    "plt.xlabel('Month, Plan')\n",
    "plt.ylabel('Average monthly revenue')\n",
    "plt.show()"
   ]
  },
  {
   "cell_type": "code",
   "execution_count": 46,
   "metadata": {},
   "outputs": [
    {
     "data": {
      "image/png": "[encoded data removed]",
      "text/plain": [
       "<Figure size 941.75x432 with 1 Axes>"
      ]
     },
     "metadata": {
      "needs_background": "light"
     },
     "output_type": "display_data"
    }
   ],
   "source": [
    "# Compare total monthly revenue by users of each plan:\n",
    "sum_monthly_rev = users_plan.groupby(['plan', 'month'])['user_monthly_rev'].sum().reset_index()\n",
    "\n",
    "g = sns.catplot(\n",
    "    data=sum_monthly_rev, kind=\"bar\",\n",
    "    x=\"month\", y=\"user_monthly_rev\", hue=\"plan\",\n",
    "    ci=None, palette=sns.color_palette(['gold', 'lime']), alpha=.9, height=6, aspect=2\n",
    ")\n",
    "g.despine(left=True)\n",
    "g.set_axis_labels(\"Month\", \"Total Revenue\")\n",
    "g.legend.set_title(\"Plan\")\n",
    "plt.title(\"Comparison of Total Revenue per Plan per Month\")\n",
    "plt.show()"
   ]
  },
  {
   "cell_type": "code",
   "execution_count": 47,
   "metadata": {},
   "outputs": [
    {
     "name": "stdout",
     "output_type": "stream",
     "text": [
      "Total revenue mean: 66.09558402084238\n",
      "Total revenue variance: 2315.7521244089885\n"
     ]
    }
   ],
   "source": [
    "# Calculate the mean and the variance of the monthly messages sent\n",
    "total_monthly_rev = users_plan.groupby(['user_id', 'month']).agg(total_rev=('user_monthly_rev', 'sum')).reset_index()\n",
    "# Mean & Variance:                                \n",
    "total_rev_mean = total_monthly_rev['total_rev'].mean()\n",
    "total_rev_variance = total_monthly_rev['total_rev'].var()\n",
    "\n",
    "print(\"Total revenue mean:\", total_rev_mean) \n",
    "print(\"Total revenue variance:\", total_rev_variance)"
   ]
  },
  {
   "cell_type": "code",
   "execution_count": 48,
   "metadata": {},
   "outputs": [
    {
     "data": {
      "image/png": "[encoded data removed]",
      "text/plain": [
       "<Figure size 864x432 with 1 Axes>"
      ]
     },
     "metadata": {
      "needs_background": "light"
     },
     "output_type": "display_data"
    }
   ],
   "source": [
    "# Plot a boxplot to visualize the distribution of the total monthly GB consumed\n",
    "g = sns.catplot(\n",
    "    data=total_monthly_rev, kind=\"box\",\n",
    "    x=\"month\", y=\"total_rev\",\n",
    "    ci=None, palette='cool', height=6, aspect=2\n",
    ")\n",
    "g.despine(left=True)\n",
    "g.set_axis_labels(\"Month\", \"Total GB consumed\")\n",
    "plt.title(\"Distribution of GB consumed per Month\")\n",
    "plt.show()"
   ]
  },
  {
   "cell_type": "markdown",
   "metadata": {},
   "source": [
    "__The average monthly revenue from surf users shows that more of them exceed the plan base cost than those using the ultimate plan. However, the ultimate users show a higher average monthly revenue across all months.  The higher base cost of the ultimate plan may make up for having less users than the less expensive surf plan.  I expect that there is little difference in revenue between the two plans due to mainly to this.__\n",
    "\n",
    "__In order to test this hypothesis, I will statistically compare the average revenue generated among both plans to see if they if they differ outside a 5% margin of each other.__"
   ]
  },
  {
   "cell_type": "markdown",
   "metadata": {},
   "source": [
    "## Test statistical hypotheses"
   ]
  },
  {
   "cell_type": "markdown",
   "metadata": {},
   "source": [
    "### Surf vs. Ultimate: Does average revenue differ?"
   ]
  },
  {
   "cell_type": "markdown",
   "metadata": {},
   "source": [
    "__Null & Alternative Hypotheses:__\n",
    "\n",
    "__H0__ : _The average revenue from users of the Ultimate and Surf calling plans do not differ_\n",
    "\n",
    "__H1__ : _The average revenue from users of the Ultimate and Surf calling plans differ_"
   ]
  },
  {
   "cell_type": "code",
   "execution_count": 49,
   "metadata": {},
   "outputs": [
    {
     "name": "stdout",
     "output_type": "stream",
     "text": [
      "Can't Reject H0\n",
      "\n",
      "p-value = 8.205703388152599e-06\n"
     ]
    }
   ],
   "source": [
    "# Test the hypotheses\n",
    "surf_sample = users_plan[users_plan['plan'] == 'surf']['user_monthly_rev']\n",
    "ultimate_sample = users_plan[users_plan['plan'] == 'ultimate']['user_monthly_rev']\n",
    "\n",
    "results = st.ttest_ind(surf_sample, ultimate_sample)\n",
    "alpha = 0.05\n",
    "\n",
    "if results.pvalue > alpha:\n",
    "    print(\"Reject H0\")\n",
    "else:\n",
    "    print(\"Can't Reject H0\")\n",
    "print()\n",
    "print(\"p-value =\", results.pvalue)"
   ]
  },
  {
   "cell_type": "markdown",
   "metadata": {},
   "source": [
    "### NY-NJ Average Revenue vs. The rest of the country"
   ]
  },
  {
   "cell_type": "markdown",
   "metadata": {},
   "source": [
    "__Null & Alternative Hypotheses:__\n",
    "\n",
    "__H0__ : _The average revenue from users in the NY-NJ area does not differ from the rest of the country_\n",
    "\n",
    "__H1__ : _The average revenue from users in the NY-NJ area differs from the rest of the country_"
   ]
  },
  {
   "cell_type": "code",
   "execution_count": 50,
   "metadata": {},
   "outputs": [
    {
     "name": "stdout",
     "output_type": "stream",
     "text": [
      "Reject H0\n",
      "\n",
      "p-value = 0.10581023634857656\n"
     ]
    }
   ],
   "source": [
    "# Test the hypotheses\n",
    "ny_nj_sample = users_plan[users_plan['city'] == 'New York-Newark-Jersey City, NY-NJ-PA MSA']['user_monthly_rev']\n",
    "other_regions_sample = users_plan[users_plan['city'] != 'New York-Newark-Jersey City, NY-NJ-PA MSA']['user_monthly_rev']\n",
    "results = st.ttest_ind(ny_nj_sample, other_regions_sample) \n",
    "alpha = 0.05\n",
    "\n",
    "if results.pvalue > alpha:\n",
    "    print(\"Reject H0\")\n",
    "else:\n",
    "    print(\"Can't reject H0\")\n",
    "print()\n",
    "print(\"p-value =\", results.pvalue)\n"
   ]
  },
  {
   "cell_type": "markdown",
   "metadata": {},
   "source": [
    "## General conclusion\n",
    "\n",
    "The assumption based on all the call, message, internet, and revenue data was that there was little difference in revenue between the two plans. That assumption is statistically affirmed to within a 5% margin of error. Thus, we can reject the null hypothesis that the average revenue between the two plans differs.  However, regionally we can't confidently assert that revenue does not differ from the region to region.  It may be more lucrative to conentrate marketing resources regionally, than nationwide by plan\n",
    "\n",
    "Running this analysis in multitude with more individual, large random sample groups from both plans will assist to further identify any meaningful differences in revenue across plans and regions to a higher degree of certainty.  Furthermore, it could be insightful to localize the individual sample groups amongst clustered geographical regions in order to help confidently assess where to target marketing. "
   ]
  }
 ],
 "metadata": {
  "ExecuteTimeLog": [
   {
    "duration": 828,
    "start_time": "2021-11-16T09:21:11.304Z"
   },
   {
    "duration": 893,
    "start_time": "2021-11-16T09:21:17.728Z"
   },
   {
    "duration": 1150,
    "start_time": "2021-11-16T09:21:29.568Z"
   },
   {
    "duration": 3,
    "start_time": "2021-11-16T09:24:14.495Z"
   },
   {
    "duration": 120,
    "start_time": "2021-11-16T09:24:46.630Z"
   },
   {
    "duration": 3,
    "start_time": "2021-11-16T09:28:27.882Z"
   },
   {
    "duration": 4,
    "start_time": "2021-11-16T09:29:54.281Z"
   },
   {
    "duration": 3,
    "start_time": "2021-11-16T09:30:45.936Z"
   },
   {
    "duration": 4,
    "start_time": "2021-11-16T09:31:06.300Z"
   },
   {
    "duration": 113,
    "start_time": "2021-11-16T09:31:37.208Z"
   },
   {
    "duration": 143,
    "start_time": "2021-11-16T09:31:48.656Z"
   },
   {
    "duration": 98,
    "start_time": "2021-11-16T09:31:55.678Z"
   },
   {
    "duration": 3,
    "start_time": "2021-11-16T09:32:08.535Z"
   },
   {
    "duration": 111,
    "start_time": "2021-11-16T09:32:10.120Z"
   },
   {
    "duration": 3,
    "start_time": "2021-11-16T09:32:15.732Z"
   },
   {
    "duration": 4,
    "start_time": "2021-11-16T09:32:29.423Z"
   },
   {
    "duration": 3,
    "start_time": "2021-11-16T10:03:03.074Z"
   },
   {
    "duration": 3,
    "start_time": "2021-11-16T10:10:01.288Z"
   },
   {
    "duration": 3,
    "start_time": "2021-11-16T10:10:46.923Z"
   },
   {
    "duration": 121,
    "start_time": "2021-11-16T10:37:46.494Z"
   },
   {
    "duration": 125,
    "start_time": "2021-11-16T10:38:20.632Z"
   },
   {
    "duration": 112,
    "start_time": "2021-11-16T10:46:53.001Z"
   },
   {
    "duration": 110,
    "start_time": "2021-11-16T10:48:25.775Z"
   },
   {
    "duration": 3,
    "start_time": "2021-11-16T10:50:18.720Z"
   },
   {
    "duration": 4,
    "start_time": "2021-11-16T10:50:37.649Z"
   },
   {
    "duration": 2,
    "start_time": "2021-11-16T10:50:51.884Z"
   },
   {
    "duration": 3,
    "start_time": "2021-11-16T10:51:56.237Z"
   },
   {
    "duration": 101,
    "start_time": "2021-11-16T10:53:13.791Z"
   },
   {
    "duration": 3,
    "start_time": "2021-11-16T10:55:59.186Z"
   },
   {
    "duration": 3,
    "start_time": "2021-11-16T10:56:10.751Z"
   },
   {
    "duration": 3,
    "start_time": "2021-11-16T10:56:49.038Z"
   },
   {
    "duration": 3,
    "start_time": "2021-11-16T10:56:49.174Z"
   },
   {
    "duration": 4,
    "start_time": "2021-11-16T10:56:49.414Z"
   },
   {
    "duration": 3,
    "start_time": "2021-11-16T10:56:49.680Z"
   },
   {
    "duration": 3,
    "start_time": "2021-11-16T10:56:50.370Z"
   },
   {
    "duration": 114,
    "start_time": "2021-11-16T10:59:34.518Z"
   },
   {
    "duration": 3,
    "start_time": "2021-11-16T11:01:41.201Z"
   },
   {
    "duration": 116,
    "start_time": "2021-11-16T11:01:48.754Z"
   },
   {
    "duration": 3,
    "start_time": "2021-11-16T11:02:16.685Z"
   },
   {
    "duration": 3,
    "start_time": "2021-11-16T11:02:19.479Z"
   },
   {
    "duration": 3,
    "start_time": "2021-11-16T11:02:47.067Z"
   },
   {
    "duration": 3,
    "start_time": "2021-11-16T11:02:49.353Z"
   },
   {
    "duration": 3,
    "start_time": "2021-11-16T11:03:07.835Z"
   },
   {
    "duration": 3,
    "start_time": "2021-11-16T11:03:07.953Z"
   },
   {
    "duration": 112,
    "start_time": "2021-11-16T11:07:52.072Z"
   },
   {
    "duration": 187,
    "start_time": "2021-11-16T11:09:23.468Z"
   },
   {
    "duration": 4,
    "start_time": "2021-11-16T11:10:01.455Z"
   },
   {
    "duration": 3,
    "start_time": "2021-11-16T11:10:05.069Z"
   },
   {
    "duration": 4,
    "start_time": "2021-11-16T11:10:13.376Z"
   },
   {
    "duration": 3,
    "start_time": "2021-11-16T11:10:14.434Z"
   },
   {
    "duration": 3,
    "start_time": "2021-11-16T11:10:22.853Z"
   },
   {
    "duration": 4,
    "start_time": "2021-11-16T11:27:29.279Z"
   },
   {
    "duration": 4,
    "start_time": "2021-11-16T11:29:08.919Z"
   },
   {
    "duration": 118,
    "start_time": "2021-11-16T11:29:46.703Z"
   },
   {
    "duration": 437,
    "start_time": "2021-11-16T11:36:02.181Z"
   },
   {
    "duration": 157,
    "start_time": "2021-11-16T11:36:14.388Z"
   },
   {
    "duration": 207,
    "start_time": "2021-11-16T11:47:15.898Z"
   },
   {
    "duration": 3,
    "start_time": "2021-11-16T11:53:52.092Z"
   },
   {
    "duration": 3,
    "start_time": "2021-11-16T11:53:52.236Z"
   },
   {
    "duration": 3,
    "start_time": "2021-11-16T11:59:12.005Z"
   },
   {
    "duration": 112,
    "start_time": "2021-11-16T12:00:33.446Z"
   },
   {
    "duration": 3,
    "start_time": "2021-11-16T12:02:14.453Z"
   },
   {
    "duration": 3,
    "start_time": "2021-11-16T12:02:39.512Z"
   },
   {
    "duration": 106,
    "start_time": "2021-11-16T12:03:03.460Z"
   },
   {
    "duration": 3,
    "start_time": "2021-11-17T20:37:21.139Z"
   },
   {
    "duration": 3,
    "start_time": "2021-11-17T20:37:22.229Z"
   },
   {
    "duration": 3,
    "start_time": "2021-11-17T20:38:38.806Z"
   },
   {
    "duration": 3,
    "start_time": "2021-11-17T20:38:41.958Z"
   },
   {
    "duration": 3,
    "start_time": "2021-11-17T20:43:46.551Z"
   },
   {
    "duration": 4,
    "start_time": "2021-11-17T20:58:21.835Z"
   },
   {
    "duration": 3,
    "start_time": "2021-11-17T20:59:21.872Z"
   },
   {
    "duration": 4,
    "start_time": "2021-11-17T20:59:45.352Z"
   },
   {
    "duration": 4,
    "start_time": "2021-11-17T20:59:49.646Z"
   },
   {
    "duration": 159,
    "start_time": "2021-11-17T21:02:26.949Z"
   },
   {
    "duration": 3,
    "start_time": "2021-11-17T21:03:53.461Z"
   },
   {
    "duration": 3,
    "start_time": "2021-11-17T21:03:53.694Z"
   },
   {
    "duration": 3,
    "start_time": "2021-11-17T21:05:28.145Z"
   },
   {
    "duration": 116,
    "start_time": "2021-11-17T21:05:57.787Z"
   },
   {
    "duration": 3,
    "start_time": "2021-11-17T21:06:37.993Z"
   },
   {
    "duration": 3,
    "start_time": "2021-11-17T21:06:38.261Z"
   },
   {
    "duration": 3,
    "start_time": "2021-11-17T21:11:54.358Z"
   },
   {
    "duration": 3,
    "start_time": "2021-11-17T21:12:43.846Z"
   },
   {
    "duration": 4,
    "start_time": "2021-11-17T21:13:08.773Z"
   },
   {
    "duration": 3,
    "start_time": "2021-11-17T21:14:44.441Z"
   },
   {
    "duration": 3,
    "start_time": "2021-11-17T21:15:42.059Z"
   },
   {
    "duration": 4,
    "start_time": "2021-11-17T21:15:51.995Z"
   },
   {
    "duration": 3,
    "start_time": "2021-11-17T21:15:53.923Z"
   },
   {
    "duration": 3,
    "start_time": "2021-11-17T21:15:55.282Z"
   },
   {
    "duration": 3,
    "start_time": "2021-11-17T21:16:28.492Z"
   },
   {
    "duration": 3,
    "start_time": "2021-11-17T21:16:32.603Z"
   },
   {
    "duration": 3,
    "start_time": "2021-11-17T21:17:06.941Z"
   },
   {
    "duration": 98,
    "start_time": "2021-11-17T21:18:05.733Z"
   },
   {
    "duration": 4,
    "start_time": "2021-11-17T21:21:35.255Z"
   },
   {
    "duration": 3,
    "start_time": "2021-11-17T21:21:37.804Z"
   },
   {
    "duration": 4,
    "start_time": "2021-11-17T21:23:06.071Z"
   },
   {
    "duration": 3,
    "start_time": "2021-11-17T21:23:24.799Z"
   },
   {
    "duration": 3,
    "start_time": "2021-11-17T21:23:32.591Z"
   },
   {
    "duration": 98,
    "start_time": "2021-11-17T21:28:31.559Z"
   },
   {
    "duration": 3,
    "start_time": "2021-11-17T21:28:45.448Z"
   },
   {
    "duration": 3,
    "start_time": "2021-11-17T21:29:17.303Z"
   },
   {
    "duration": 3,
    "start_time": "2021-11-17T21:29:29.617Z"
   },
   {
    "duration": 3,
    "start_time": "2021-11-17T21:29:32.681Z"
   },
   {
    "duration": 3,
    "start_time": "2021-11-17T21:36:11.474Z"
   },
   {
    "duration": 3,
    "start_time": "2021-11-17T21:36:14.791Z"
   },
   {
    "duration": 3,
    "start_time": "2021-11-17T21:36:53.943Z"
   },
   {
    "duration": 3,
    "start_time": "2021-11-17T21:36:56.165Z"
   },
   {
    "duration": 4,
    "start_time": "2021-11-17T21:37:16.590Z"
   },
   {
    "duration": 3,
    "start_time": "2021-11-17T21:37:22.702Z"
   },
   {
    "duration": 4,
    "start_time": "2021-11-17T21:38:03.479Z"
   },
   {
    "duration": 3,
    "start_time": "2021-11-17T21:38:08.601Z"
   },
   {
    "duration": 3,
    "start_time": "2021-11-17T21:38:12.928Z"
   },
   {
    "duration": 3,
    "start_time": "2021-11-17T21:38:48.896Z"
   },
   {
    "duration": 2,
    "start_time": "2021-11-17T21:38:49.171Z"
   },
   {
    "duration": 4,
    "start_time": "2021-11-17T21:39:57.889Z"
   },
   {
    "duration": 3,
    "start_time": "2021-11-17T21:39:58.057Z"
   },
   {
    "duration": 3,
    "start_time": "2021-11-17T21:41:20.108Z"
   },
   {
    "duration": 3,
    "start_time": "2021-11-17T21:41:20.629Z"
   },
   {
    "duration": 3,
    "start_time": "2021-11-17T21:42:49.136Z"
   },
   {
    "duration": 3,
    "start_time": "2021-11-17T21:43:15.137Z"
   },
   {
    "duration": 4,
    "start_time": "2021-11-17T21:43:16.766Z"
   },
   {
    "duration": 4,
    "start_time": "2021-11-17T21:43:31.711Z"
   },
   {
    "duration": 3,
    "start_time": "2021-11-17T21:43:36.312Z"
   },
   {
    "duration": 4,
    "start_time": "2021-11-17T21:45:08.825Z"
   },
   {
    "duration": 4,
    "start_time": "2021-11-17T21:45:10.119Z"
   },
   {
    "duration": 4,
    "start_time": "2021-11-17T21:45:13.748Z"
   },
   {
    "duration": 3,
    "start_time": "2021-11-17T21:45:22.219Z"
   },
   {
    "duration": 3,
    "start_time": "2021-11-17T21:45:33.412Z"
   },
   {
    "duration": 2,
    "start_time": "2021-11-17T21:46:01.885Z"
   },
   {
    "duration": 3,
    "start_time": "2021-11-17T21:46:03.628Z"
   },
   {
    "duration": 107,
    "start_time": "2021-11-17T21:47:32.512Z"
   },
   {
    "duration": 103,
    "start_time": "2021-11-17T21:50:36.243Z"
   },
   {
    "duration": 3,
    "start_time": "2021-11-18T06:28:31.440Z"
   },
   {
    "duration": 3,
    "start_time": "2021-11-18T06:29:00.168Z"
   },
   {
    "duration": 3,
    "start_time": "2021-11-18T06:31:27.008Z"
   },
   {
    "duration": 2,
    "start_time": "2021-11-18T06:35:34.288Z"
   },
   {
    "duration": 2,
    "start_time": "2021-11-18T06:38:04.527Z"
   }
  ],
  "kernelspec": {
   "display_name": "Python 3 (ipykernel)",
   "language": "python",
   "name": "python3"
  },
  "language_info": {
   "codemirror_mode": {
    "name": "ipython",
    "version": 3
   },
   "file_extension": ".py",
   "mimetype": "text/x-python",
   "name": "python",
   "nbconvert_exporter": "python",
   "pygments_lexer": "ipython3",
   "version": "3.9.19"
  },
  "toc": {
   "base_numbering": 1,
   "nav_menu": {},
   "number_sections": true,
   "sideBar": true,
   "skip_h1_title": false,
   "title_cell": "Table of Contents",
   "title_sidebar": "Contents",
   "toc_cell": false,
   "toc_position": {},
   "toc_section_display": true,
   "toc_window_display": false
  }
 },
 "nbformat": 4,
 "nbformat_minor": 2
}
