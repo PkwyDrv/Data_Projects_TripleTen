{
 "cells": [
  {
   "cell_type": "markdown",
   "metadata": {},
   "source": [
    "# OilyGiant site analysis predictive model"
   ]
  },
  {
   "cell_type": "markdown",
   "metadata": {},
   "source": [
    "## Introduction\n",
    "This is a model built to predict the region with the most earning potential for the OilyGiant mining company.  It analyzes oil well parameters using a cross-verified linear regression model to predict volumes of oil reserves.  It then estimates the potential profits based on those volumes.\n",
    "\n",
    "After preprocessing the data and vizualizing the data distribution in each region, we will explore the best 200 points in each region to gain insight into the potential profit and risk of loss within a 95% confidence interval. Taking this risk and potential profit into account, I will select the region most-likely to be fruitful."
   ]
  },
  {
   "cell_type": "code",
   "execution_count": 20,
   "metadata": {},
   "outputs": [],
   "source": [
    "#Import all necessary libraries\n",
    "import pandas as pd\n",
    "import numpy as np\n",
    "import matplotlib.pyplot as plt\n",
    "%matplotlib inline\n",
    "import seaborn as sns\n",
    "from scipy import stats as st\n",
    "from sklearn.model_selection import train_test_split, cross_val_score\n",
    "from sklearn.linear_model import LinearRegression\n",
    "from sklearn.preprocessing import StandardScaler\n",
    "from sklearn.metrics import mean_squared_error, r2_score\n"
   ]
  },
  {
   "cell_type": "markdown",
   "metadata": {},
   "source": [
    "## Data Preprocessing\n",
    "\n",
    "I'll import the data for each region, then loop through each looking at it's overall characteristics to determine how to process it for modeling. "
   ]
  },
  {
   "cell_type": "code",
   "execution_count": 21,
   "metadata": {},
   "outputs": [],
   "source": [
    "data_0 = pd.read_csv('/datasets/geo_data_0.csv')\n",
    "data_1 = pd.read_csv('/datasets/geo_data_1.csv')\n",
    "data_2 = pd.read_csv('/datasets/geo_data_2.csv')"
   ]
  },
  {
   "cell_type": "code",
   "execution_count": 22,
   "metadata": {
    "scrolled": true
   },
   "outputs": [
    {
     "name": "stdout",
     "output_type": "stream",
     "text": [
      "(100000, 5)\n",
      "\n",
      "<class 'pandas.core.frame.DataFrame'>\n",
      "RangeIndex: 100000 entries, 0 to 99999\n",
      "Data columns (total 5 columns):\n",
      " #   Column   Non-Null Count   Dtype  \n",
      "---  ------   --------------   -----  \n",
      " 0   id       100000 non-null  object \n",
      " 1   f0       100000 non-null  float64\n",
      " 2   f1       100000 non-null  float64\n",
      " 3   f2       100000 non-null  float64\n",
      " 4   product  100000 non-null  float64\n",
      "dtypes: float64(4), object(1)\n",
      "memory usage: 3.8+ MB\n",
      "None\n",
      "\n",
      "                  f0             f1             f2        product\n",
      "count  100000.000000  100000.000000  100000.000000  100000.000000\n",
      "mean        0.500419       0.250143       2.502647      92.500000\n",
      "std         0.871832       0.504433       3.248248      44.288691\n",
      "min        -1.408605      -0.848218     -12.088328       0.000000\n",
      "25%        -0.072580      -0.200881       0.287748      56.497507\n",
      "50%         0.502360       0.250252       2.515969      91.849972\n",
      "75%         1.073581       0.700646       4.715088     128.564089\n",
      "max         2.362331       1.343769      16.003790     185.364347\n",
      "\n",
      "(100000, 5)\n",
      "\n",
      "<class 'pandas.core.frame.DataFrame'>\n",
      "RangeIndex: 100000 entries, 0 to 99999\n",
      "Data columns (total 5 columns):\n",
      " #   Column   Non-Null Count   Dtype  \n",
      "---  ------   --------------   -----  \n",
      " 0   id       100000 non-null  object \n",
      " 1   f0       100000 non-null  float64\n",
      " 2   f1       100000 non-null  float64\n",
      " 3   f2       100000 non-null  float64\n",
      " 4   product  100000 non-null  float64\n",
      "dtypes: float64(4), object(1)\n",
      "memory usage: 3.8+ MB\n",
      "None\n",
      "\n",
      "                  f0             f1             f2        product\n",
      "count  100000.000000  100000.000000  100000.000000  100000.000000\n",
      "mean        1.141296      -4.796579       2.494541      68.825000\n",
      "std         8.965932       5.119872       1.703572      45.944423\n",
      "min       -31.609576     -26.358598      -0.018144       0.000000\n",
      "25%        -6.298551      -8.267985       1.000021      26.953261\n",
      "50%         1.153055      -4.813172       2.011479      57.085625\n",
      "75%         8.621015      -1.332816       3.999904     107.813044\n",
      "max        29.421755      18.734063       5.019721     137.945408\n",
      "\n",
      "(100000, 5)\n",
      "\n",
      "<class 'pandas.core.frame.DataFrame'>\n",
      "RangeIndex: 100000 entries, 0 to 99999\n",
      "Data columns (total 5 columns):\n",
      " #   Column   Non-Null Count   Dtype  \n",
      "---  ------   --------------   -----  \n",
      " 0   id       100000 non-null  object \n",
      " 1   f0       100000 non-null  float64\n",
      " 2   f1       100000 non-null  float64\n",
      " 3   f2       100000 non-null  float64\n",
      " 4   product  100000 non-null  float64\n",
      "dtypes: float64(4), object(1)\n",
      "memory usage: 3.8+ MB\n",
      "None\n",
      "\n",
      "                  f0             f1             f2        product\n",
      "count  100000.000000  100000.000000  100000.000000  100000.000000\n",
      "mean        0.002023      -0.002081       2.495128      95.000000\n",
      "std         1.732045       1.730417       3.473445      44.749921\n",
      "min        -8.760004      -7.084020     -11.970335       0.000000\n",
      "25%        -1.162288      -1.174820       0.130359      59.450441\n",
      "50%         0.009424      -0.009482       2.484236      94.925613\n",
      "75%         1.158535       1.163678       4.858794     130.595027\n",
      "max         7.238262       7.844801      16.739402     190.029838\n",
      "\n"
     ]
    }
   ],
   "source": [
    "data_sets = [data_0, data_1, data_2]\n",
    "for data in data_sets:\n",
    "    print(data.shape)\n",
    "    print()\n",
    "    print(data.info())\n",
    "    print()\n",
    "    print(data.describe())\n",
    "    print()"
   ]
  },
  {
   "cell_type": "markdown",
   "metadata": {},
   "source": [
    "There do not appear to be any missing values, and all features appear to be numerical."
   ]
  },
  {
   "cell_type": "markdown",
   "metadata": {},
   "source": [
    "## Check for duplicates\n",
    "\n",
    "There no full row duplicates, however there are a handful of ID's in each region that appear more than once. For our model, we need ID's to be unique, so I'll remove the duplicates. "
   ]
  },
  {
   "cell_type": "code",
   "execution_count": 23,
   "metadata": {
    "scrolled": true
   },
   "outputs": [
    {
     "name": "stdout",
     "output_type": "stream",
     "text": [
      "0\n",
      "10\n",
      "\n",
      "0\n",
      "4\n",
      "\n",
      "0\n",
      "4\n",
      "\n"
     ]
    }
   ],
   "source": [
    "for data in data_sets:\n",
    "    print(data.duplicated().sum())\n",
    "    print(data['id'].duplicated().sum())\n",
    "    print()"
   ]
  },
  {
   "cell_type": "code",
   "execution_count": 24,
   "metadata": {},
   "outputs": [],
   "source": [
    "for data in data_sets:\n",
    "    data.drop_duplicates(subset=['id'], keep='first', inplace=True)"
   ]
  },
  {
   "cell_type": "code",
   "execution_count": 25,
   "metadata": {},
   "outputs": [
    {
     "data": {
      "text/plain": [
       "0"
      ]
     },
     "execution_count": 25,
     "metadata": {},
     "output_type": "execute_result"
    }
   ],
   "source": [
    "# Reviewer's code\n",
    "\n",
    "data['id'].duplicated().sum()"
   ]
  },
  {
   "cell_type": "markdown",
   "metadata": {},
   "source": [
    "## Visualize each region's data\n",
    "\n",
    "Let's look at the distribution of data in each dataset.  Preliminarily, region 1 appears to have the most relational regularity amongst it's numerical data. Let's explore this early visual clue further utilizing a linear regression model."
   ]
  },
  {
   "cell_type": "code",
   "execution_count": 26,
   "metadata": {},
   "outputs": [
    {
     "data": {
      "image/png": "[encoded data removed]",
      "text/plain": [
       "<Figure size 640x480 with 1 Axes>"
      ]
     },
     "metadata": {},
     "output_type": "display_data"
    },
    {
     "data": {
      "image/png": "[encoded data removed]",
      "text/plain": [
       "<Figure size 640x480 with 1 Axes>"
      ]
     },
     "metadata": {},
     "output_type": "display_data"
    },
    {
     "data": {
      "image/png": "[encoded data removed]",
      "text/plain": [
       "<Figure size 640x480 with 1 Axes>"
      ]
     },
     "metadata": {},
     "output_type": "display_data"
    }
   ],
   "source": [
    "i = 0\n",
    "for data in data_sets:\n",
    "    sns.distplot(data.drop(['id'], axis=1), bins=30, hist_kws={'alpha': 1}, kde_kws={'lw': 2, 'color': 'r'})\n",
    "    plt.title(f'Distribution of drilling region - {i} data')\n",
    "    plt.xlabel('Values')\n",
    "    plt.ylabel('Frequency')\n",
    "    plt.show()\n",
    "    i += 1"
   ]
  },
  {
   "cell_type": "markdown",
   "metadata": {},
   "source": [
    "## Train, Test, and Cross-validate a Linear Regression model\n",
    "\n",
    "I'll use the modules from the sklearn library in this function to scale the data and split it into training and testing sets.  I will also use the cross_val_score module from sklearn to cross validate the model, as well as evaluate the model using the root mean squared error (RMSE) and R2 score for each of the 3 regions (0, 1, 2).  As expected from the above distribution charts, region 1 has, by far the best model with an RMSE of almost 90%, and R2 & average model eval of almost 100%. However, region 1's reserve volume is appreciably lower than both regions 0 & 2."
   ]
  },
  {
   "cell_type": "code",
   "execution_count": 27,
   "metadata": {},
   "outputs": [],
   "source": [
    "\n",
    "def loc_model(data):\n",
    "    features = data[['f0', 'f1', 'f2']]\n",
    "    target = data['product']\n",
    "    \n",
    "    features_train, features_test, target_train, target_test = train_test_split(features, target, test_size=0.25, random_state=12345)\n",
    "    \n",
    "    scaler = StandardScaler()\n",
    "    scaler.fit(features_train)\n",
    "    \n",
    "    features_train = scaler.transform(features_train)\n",
    "    features_test = scaler.transform(features_test)\n",
    "    \n",
    "    model = LinearRegression()\n",
    "    model.fit(features_train, target_train)\n",
    "    pred = model.predict(features_test)\n",
    "    \n",
    "    avg_vol = pred.mean()\n",
    "    rmse = mean_squared_error(target_test, pred)**0.5\n",
    "    score = r2_score(target_test, pred)\n",
    "    ans = pd.Series(target_test).reset_index(drop=True)\n",
    "    \n",
    "    \n",
    "    cv_scores = cross_val_score(model, features_train, target_train, cv=5)\n",
    "    final_score = sum(cv_scores)/len(cv_scores)\n",
    "    \n",
    "    print('Average predicted reserve volume:', avg_vol)\n",
    "    print('RMSE:', rmse)\n",
    "    print('R2 score:', score)\n",
    "    print('Average Model Evaluation Score:', final_score)\n",
    "    print()\n",
    "    \n",
    "    return pd.Series(pred), ans, model, avg_vol"
   ]
  },
  {
   "cell_type": "code",
   "execution_count": 28,
   "metadata": {},
   "outputs": [
    {
     "name": "stdout",
     "output_type": "stream",
     "text": [
      "Average predicted reserve volume: 92.78915638280621\n",
      "RMSE: 37.853527328872964\n",
      "R2 score: 0.2723923460817068\n",
      "Average Model Evaluation Score: 0.27659260309400285\n",
      "\n"
     ]
    }
   ],
   "source": [
    "loc0_pred, loc0_ans, loc0_model, loc0_avg_vol = loc_model(data_0)"
   ]
  },
  {
   "cell_type": "code",
   "execution_count": 29,
   "metadata": {},
   "outputs": [
    {
     "name": "stdout",
     "output_type": "stream",
     "text": [
      "Average predicted reserve volume: 69.1783195703043\n",
      "RMSE: 0.8920592647717033\n",
      "R2 score: 0.9996222988190184\n",
      "Average Model Evaluation Score: 0.9996250581117107\n",
      "\n"
     ]
    }
   ],
   "source": [
    "loc1_pred, loc1_ans, loc1_model, loc1_avg_vol = loc_model(data_1)"
   ]
  },
  {
   "cell_type": "code",
   "execution_count": 30,
   "metadata": {
    "scrolled": true
   },
   "outputs": [
    {
     "name": "stdout",
     "output_type": "stream",
     "text": [
      "Average predicted reserve volume: 94.86572480562035\n",
      "RMSE: 40.07585073246016\n",
      "R2 score: 0.19556241810202346\n",
      "Average Model Evaluation Score: 0.19970983177482343\n",
      "\n"
     ]
    }
   ],
   "source": [
    "loc2_pred, loc2_ans, loc2_model, loc2_avg_vol = loc_model(data_2)"
   ]
  },
  {
   "cell_type": "markdown",
   "metadata": {},
   "source": [
    "## Values and volume predictions\n",
    "\n",
    "Each barrel of oil equates to 4.5 USD, and each unit consists of 1000 oil barrels, thus the revenue from each unit of oil = 4500 USD.  The cost to equip a region for oil extraction is 100,000,000 USD.  We see that the minimum volume of oil needed for a region to avoid a potential loss is 22,222 units of oil.  Using the average volumes predicted by our model for 200 sites in each region we see that none of the regions look profitable.  I'll isolate the 200 sites per region with the most volume moving forward, so the profitability should be higher than the averages."
   ]
  },
  {
   "cell_type": "code",
   "execution_count": 31,
   "metadata": {},
   "outputs": [
    {
     "name": "stdout",
     "output_type": "stream",
     "text": [
      "22222\n"
     ]
    }
   ],
   "source": [
    "prod_unit = 4500\n",
    "budget = 10**8\n",
    "\n",
    "no_loss_vol = budget / prod_unit\n",
    "print(int(no_loss_vol))"
   ]
  },
  {
   "cell_type": "code",
   "execution_count": 32,
   "metadata": {},
   "outputs": [
    {
     "name": "stdout",
     "output_type": "stream",
     "text": [
      "Average Reserve Volume Region 0: 18558\n",
      "\n",
      "Average Reserve Volume Region 1: 13836\n",
      "\n",
      "Average Reserve Volume Region 2: 18973\n",
      "\n"
     ]
    }
   ],
   "source": [
    "vol_per_region = [loc0_avg_vol, loc1_avg_vol, loc2_avg_vol]\n",
    "\n",
    "i = 0\n",
    "for region in vol_per_region:\n",
    "    print(f'Average Reserve Volume Region {i}:', round(region*200))\n",
    "    print()\n",
    "    i += 1"
   ]
  },
  {
   "cell_type": "markdown",
   "metadata": {},
   "source": [
    "## Calculate profit\n",
    "\n",
    "Isloting the top 200 sites with the most reserves for each region, I'll use the function below to calculate potential volume and profit.  Now each region shows as potentially profitable, with region 0 having the most potential at an estimated 33 million in operating profit. Also somewhat of a revelation from the previous estimation, region 1, although still maintaining the lowest reserve volume, has caught up to the pack in relation to the other two regions when evaluating it's top 200 sites. "
   ]
  },
  {
   "cell_type": "code",
   "execution_count": 33,
   "metadata": {},
   "outputs": [],
   "source": [
    "def select_well_profits(pred, ans, show='yes'):\n",
    "    top_pred_sites = pred.sort_values(ascending=False).head(200).index\n",
    "    sites_vol = ans[top_pred_sites].sum()\n",
    "    gross_prof = sites_vol * prod_unit\n",
    "    op_prof = gross_prof - budget\n",
    "    if show=='yes':\n",
    "        print('Reserve Volume:', sites_vol)\n",
    "        print('Operating Profit:', op_prof)\n",
    "    return op_prof"
   ]
  },
  {
   "cell_type": "code",
   "execution_count": 34,
   "metadata": {
    "scrolled": true
   },
   "outputs": [
    {
     "name": "stdout",
     "output_type": "stream",
     "text": [
      "Region 0\n",
      "Reserve Volume: 29700.416083778415\n",
      "Operating Profit: 33651872.377002865\n",
      "\n",
      "Region 1\n",
      "Reserve Volume: 27589.081548181137\n",
      "Operating Profit: 24150866.966815114\n",
      "\n",
      "Region 2\n",
      "Reserve Volume: 27780.63078507125\n",
      "Operating Profit: 25012838.532820627\n",
      "\n"
     ]
    }
   ],
   "source": [
    "predictions = [loc0_pred, loc1_pred, loc2_pred]\n",
    "answers = [loc0_ans, loc1_ans, loc2_ans]\n",
    "i = 0\n",
    "for j,k in zip(predictions, answers):\n",
    "    print(f'Region {i}') \n",
    "    select_well_profits(j, k)\n",
    "    print()\n",
    "    \n",
    "    i += 1"
   ]
  },
  {
   "cell_type": "markdown",
   "metadata": {},
   "source": [
    "## Bootstrapping \n",
    "\n",
    "I will further evaluate the efficacy of our linear regression model using the bootstrapping function below.  Propagating values from subsamples of the source set of predictions and answers, I will extract the average profit within a 95% confidence interval, as well as the upper and lower profits at the ends of that interval to then assess a risk percentage of loss in each region."
   ]
  },
  {
   "cell_type": "code",
   "execution_count": 35,
   "metadata": {},
   "outputs": [],
   "source": [
    "#Bootstrap fxn to assess model confidence\n",
    "def bootstrap(pred, ans):\n",
    "    state = np.random.RandomState(12345)\n",
    "\n",
    "    values = []\n",
    "    for i in range(1000):\n",
    "        ans_subsample = ans.sample(n=500, replace=True, random_state=state)\n",
    "        pred_subsample = pred[ans_subsample.index]\n",
    "        prof = select_well_profits(pred_subsample, ans_subsample, show='no')\n",
    "        values.append(prof)\n",
    "    \n",
    "    values = pd.Series(values)\n",
    "    lower = values.quantile(0.025)\n",
    "    upper = values.quantile(0.975)\n",
    "    \n",
    "    mean = values.mean()\n",
    "    \n",
    "    print('Average Profit: $', round(mean))\n",
    "    print('Lower Profit at 95% Confidence: $', round(lower))\n",
    "    print('Upper Profit at 95% Confidence: $', round(upper))\n",
    "    \n",
    "    total_prof = 0\n",
    "    for i in range(1, 100):\n",
    "        prof = values.quantile(i/1000)\n",
    "        if prof >= 0:\n",
    "            total_prof = prof\n",
    "            total_i = i\n",
    "            break\n",
    "    print(f'Risk of Loss: {i/10}%')    "
   ]
  },
  {
   "cell_type": "code",
   "execution_count": 36,
   "metadata": {},
   "outputs": [
    {
     "name": "stdout",
     "output_type": "stream",
     "text": [
      "Region 0\n",
      "Average Profit: $ 5856523\n",
      "Lower Profit at 95% Confidence: $ -58784\n",
      "Upper Profit at 95% Confidence: $ 12792401\n",
      "Risk of Loss: 2.8%\n",
      "\n",
      "Region 1\n",
      "Average Profit: $ 6822983\n",
      "Lower Profit at 95% Confidence: $ 1857996\n",
      "Upper Profit at 95% Confidence: $ 12476845\n",
      "Risk of Loss: 0.3%\n",
      "\n",
      "Region 2\n",
      "Average Profit: $ 5379665\n",
      "Lower Profit at 95% Confidence: $ -696510\n",
      "Upper Profit at 95% Confidence: $ 11679714\n",
      "Risk of Loss: 4.1%\n",
      "\n"
     ]
    }
   ],
   "source": [
    "#Run each region through the bootstrap fxn\n",
    "i = 0\n",
    "for j,k in zip(predictions, answers):\n",
    "    print(f'Region {i}') \n",
    "    bootstrap(j, k)\n",
    "    print()\n",
    "    \n",
    "    i += 1"
   ]
  },
  {
   "cell_type": "markdown",
   "metadata": {},
   "source": [
    "## Conclusion\n",
    "\n",
    "After preprocessing and visualizing our data, training and evaluating our linear regression model, calculating reserve volumes and profits for each region we are ready to look at the outcomes from our bootstrapping efforts.\n",
    "\n",
    "Region 1 has the lowest risk of loss at 0.3%, where the other two regions have risk many times that percentage at 2-4%. Region 1 also has the highest lower interval profit at 1.6 million USD.  While given region 1 does not have the highest possible potential upside, with both other regions holding more than 300,000 USD in additional potential revenue, it's predictability and low propensity for profit loss make it my first reccommendation for OilyGiants next well development.  "
   ]
  }
 ],
 "metadata": {
  "ExecuteTimeLog": [
   {
    "duration": 311,
    "start_time": "2024-06-24T18:41:30.000Z"
   },
   {
    "duration": 1214,
    "start_time": "2024-06-24T18:41:36.126Z"
   },
   {
    "duration": 477,
    "start_time": "2024-06-24T18:41:37.343Z"
   },
   {
    "duration": 153,
    "start_time": "2024-06-24T18:41:37.822Z"
   },
   {
    "duration": 1201,
    "start_time": "2024-06-26T22:29:38.775Z"
   },
   {
    "duration": 512,
    "start_time": "2024-06-26T22:29:39.980Z"
   },
   {
    "duration": 148,
    "start_time": "2024-06-26T22:29:40.495Z"
   },
   {
    "duration": 431,
    "start_time": "2024-06-26T22:29:40.646Z"
   },
   {
    "duration": 1407,
    "start_time": "2024-06-26T22:30:39.284Z"
   },
   {
    "duration": 21,
    "start_time": "2024-06-26T22:31:09.339Z"
   },
   {
    "duration": 169,
    "start_time": "2024-06-26T22:33:57.369Z"
   },
   {
    "duration": 306,
    "start_time": "2024-06-27T03:27:12.479Z"
   },
   {
    "duration": 1166,
    "start_time": "2024-06-27T03:27:23.089Z"
   },
   {
    "duration": 492,
    "start_time": "2024-06-27T03:27:24.260Z"
   },
   {
    "duration": 149,
    "start_time": "2024-06-27T03:27:24.755Z"
   },
   {
    "duration": 118,
    "start_time": "2024-06-27T03:27:24.912Z"
   },
   {
    "duration": 4325,
    "start_time": "2024-06-27T03:28:21.181Z"
   },
   {
    "duration": 26322,
    "start_time": "2024-06-27T03:28:25.510Z"
   },
   {
    "duration": 26314,
    "start_time": "2024-06-27T03:31:19.629Z"
   },
   {
    "duration": 25443,
    "start_time": "2024-06-27T03:32:33.757Z"
   },
   {
    "duration": 981,
    "start_time": "2024-06-27T03:59:03.428Z"
   },
   {
    "duration": 27,
    "start_time": "2024-06-27T03:59:44.416Z"
   },
   {
    "duration": 7,
    "start_time": "2024-06-27T04:09:34.460Z"
   },
   {
    "duration": 5,
    "start_time": "2024-06-27T05:10:24.057Z"
   },
   {
    "duration": 990,
    "start_time": "2024-06-27T05:43:03.323Z"
   },
   {
    "duration": 556,
    "start_time": "2024-06-27T05:51:41.299Z"
   },
   {
    "duration": 160,
    "start_time": "2024-06-27T05:54:36.210Z"
   },
   {
    "duration": 167,
    "start_time": "2024-06-27T05:54:43.794Z"
   },
   {
    "duration": 158,
    "start_time": "2024-06-27T05:54:51.903Z"
   },
   {
    "duration": 59,
    "start_time": "2024-06-27T05:55:16.236Z"
   },
   {
    "duration": 5283,
    "start_time": "2024-07-11T21:17:02.531Z"
   },
   {
    "duration": 568,
    "start_time": "2024-07-11T21:17:07.819Z"
   },
   {
    "duration": 157,
    "start_time": "2024-07-11T21:17:08.390Z"
   },
   {
    "duration": 59,
    "start_time": "2024-07-11T21:17:08.552Z"
   },
   {
    "duration": 1255,
    "start_time": "2024-07-11T21:17:08.615Z"
   },
   {
    "duration": 8246,
    "start_time": "2024-07-11T21:17:49.558Z"
   },
   {
    "duration": 7,
    "start_time": "2024-07-11T21:21:50.540Z"
   },
   {
    "duration": 388,
    "start_time": "2024-07-11T21:21:50.552Z"
   },
   {
    "duration": 149,
    "start_time": "2024-07-11T21:21:50.943Z"
   },
   {
    "duration": 44,
    "start_time": "2024-07-11T21:21:51.097Z"
   },
   {
    "duration": 45,
    "start_time": "2024-07-11T21:21:51.167Z"
   },
   {
    "duration": 8141,
    "start_time": "2024-07-11T21:21:51.215Z"
   },
   {
    "duration": 1024,
    "start_time": "2024-07-11T21:25:54.076Z"
   },
   {
    "duration": 7,
    "start_time": "2024-07-11T21:52:40.704Z"
   },
   {
    "duration": 365,
    "start_time": "2024-07-11T21:52:40.716Z"
   },
   {
    "duration": 147,
    "start_time": "2024-07-11T21:52:41.084Z"
   },
   {
    "duration": 54,
    "start_time": "2024-07-11T21:52:41.234Z"
   },
   {
    "duration": 43,
    "start_time": "2024-07-11T21:52:41.293Z"
   },
   {
    "duration": 7991,
    "start_time": "2024-07-11T21:52:41.339Z"
   },
   {
    "duration": 9,
    "start_time": "2024-07-11T21:52:49.333Z"
   },
   {
    "duration": 166,
    "start_time": "2024-07-11T21:52:59.920Z"
   },
   {
    "duration": 186,
    "start_time": "2024-07-11T21:53:53.689Z"
   },
   {
    "duration": 421,
    "start_time": "2024-07-11T21:53:56.060Z"
   },
   {
    "duration": 11,
    "start_time": "2024-07-12T23:08:01.482Z"
   },
   {
    "duration": 8,
    "start_time": "2024-07-12T23:08:22.642Z"
   },
   {
    "duration": 4,
    "start_time": "2024-07-12T23:08:28.447Z"
   },
   {
    "duration": 307,
    "start_time": "2024-07-12T23:15:11.472Z"
   },
   {
    "duration": 5234,
    "start_time": "2024-07-12T23:15:20.305Z"
   },
   {
    "duration": 534,
    "start_time": "2024-07-12T23:15:25.542Z"
   },
   {
    "duration": 162,
    "start_time": "2024-07-12T23:15:26.079Z"
   },
   {
    "duration": 74,
    "start_time": "2024-07-12T23:15:26.244Z"
   },
   {
    "duration": 80,
    "start_time": "2024-07-12T23:15:26.323Z"
   },
   {
    "duration": 8123,
    "start_time": "2024-07-12T23:15:26.406Z"
   },
   {
    "duration": 15,
    "start_time": "2024-07-12T23:15:34.534Z"
   },
   {
    "duration": 262,
    "start_time": "2024-07-12T23:15:34.554Z"
   },
   {
    "duration": 397,
    "start_time": "2024-07-12T23:15:34.819Z"
   },
   {
    "duration": 386,
    "start_time": "2024-07-12T23:15:35.218Z"
   },
   {
    "duration": 9,
    "start_time": "2024-07-12T23:15:35.611Z"
   },
   {
    "duration": 81,
    "start_time": "2024-07-12T23:15:35.623Z"
   },
   {
    "duration": 5,
    "start_time": "2024-07-12T23:16:03.709Z"
   },
   {
    "duration": 5,
    "start_time": "2024-07-12T23:16:17.676Z"
   },
   {
    "duration": 4,
    "start_time": "2024-07-12T23:16:31.079Z"
   },
   {
    "duration": 4,
    "start_time": "2024-07-12T23:20:18.603Z"
   },
   {
    "duration": 5,
    "start_time": "2024-07-12T23:22:05.096Z"
   },
   {
    "duration": 5,
    "start_time": "2024-07-12T23:22:35.532Z"
   },
   {
    "duration": 5,
    "start_time": "2024-07-12T23:23:10.411Z"
   },
   {
    "duration": 5,
    "start_time": "2024-07-12T23:23:29.557Z"
   },
   {
    "duration": 5,
    "start_time": "2024-07-12T23:24:25.074Z"
   },
   {
    "duration": 6,
    "start_time": "2024-07-12T23:24:39.582Z"
   },
   {
    "duration": 141,
    "start_time": "2024-07-13T00:07:43.484Z"
   },
   {
    "duration": 37,
    "start_time": "2024-07-13T00:08:12.596Z"
   },
   {
    "duration": 29,
    "start_time": "2024-07-13T00:08:44.516Z"
   },
   {
    "duration": 5,
    "start_time": "2024-07-13T00:08:52.068Z"
   },
   {
    "duration": 29,
    "start_time": "2024-07-13T00:08:54.656Z"
   },
   {
    "duration": 28,
    "start_time": "2024-07-13T00:09:07.492Z"
   },
   {
    "duration": 43,
    "start_time": "2024-07-13T00:10:47.989Z"
   },
   {
    "duration": 55,
    "start_time": "2024-07-13T00:12:28.598Z"
   },
   {
    "duration": 4,
    "start_time": "2024-07-13T00:12:30.926Z"
   },
   {
    "duration": 43,
    "start_time": "2024-07-13T00:12:33.774Z"
   },
   {
    "duration": 12,
    "start_time": "2024-07-13T00:12:49.686Z"
   },
   {
    "duration": 43,
    "start_time": "2024-07-13T00:12:52.219Z"
   },
   {
    "duration": 5,
    "start_time": "2024-07-13T00:15:31.085Z"
   },
   {
    "duration": 5,
    "start_time": "2024-07-13T00:15:38.501Z"
   },
   {
    "duration": 5,
    "start_time": "2024-07-13T00:21:23.295Z"
   },
   {
    "duration": 6,
    "start_time": "2024-07-13T00:24:16.855Z"
   },
   {
    "duration": 53,
    "start_time": "2024-07-13T00:24:18.769Z"
   },
   {
    "duration": 36,
    "start_time": "2024-07-13T00:38:50.239Z"
   },
   {
    "duration": 8,
    "start_time": "2024-07-13T00:40:08.608Z"
   },
   {
    "duration": 7,
    "start_time": "2024-07-13T00:40:44.641Z"
   },
   {
    "duration": 7,
    "start_time": "2024-07-13T00:42:41.345Z"
   },
   {
    "duration": 33,
    "start_time": "2024-07-13T00:42:43.810Z"
   },
   {
    "duration": 5,
    "start_time": "2024-07-13T00:42:54.296Z"
   },
   {
    "duration": 5,
    "start_time": "2024-07-13T00:43:19.213Z"
   },
   {
    "duration": 32,
    "start_time": "2024-07-13T00:43:20.568Z"
   },
   {
    "duration": 5,
    "start_time": "2024-07-13T00:43:25.213Z"
   },
   {
    "duration": 5,
    "start_time": "2024-07-13T00:44:19.705Z"
   },
   {
    "duration": 30,
    "start_time": "2024-07-13T00:44:22.077Z"
   },
   {
    "duration": 5,
    "start_time": "2024-07-13T00:45:52.784Z"
   },
   {
    "duration": 17,
    "start_time": "2024-07-13T00:45:55.128Z"
   },
   {
    "duration": 20,
    "start_time": "2024-07-13T00:48:44.094Z"
   },
   {
    "duration": 17,
    "start_time": "2024-07-13T00:49:00.451Z"
   },
   {
    "duration": 18,
    "start_time": "2024-07-13T00:49:32.912Z"
   },
   {
    "duration": 17,
    "start_time": "2024-07-13T00:49:43.335Z"
   },
   {
    "duration": 5,
    "start_time": "2024-07-13T00:50:43.305Z"
   },
   {
    "duration": 134,
    "start_time": "2024-07-13T00:51:09.830Z"
   },
   {
    "duration": 142,
    "start_time": "2024-07-13T00:51:38.363Z"
   },
   {
    "duration": 5379,
    "start_time": "2024-07-13T16:58:29.222Z"
   },
   {
    "duration": 481,
    "start_time": "2024-07-13T16:58:34.604Z"
   },
   {
    "duration": 159,
    "start_time": "2024-07-13T16:58:35.088Z"
   },
   {
    "duration": 48,
    "start_time": "2024-07-13T16:58:35.250Z"
   },
   {
    "duration": 56,
    "start_time": "2024-07-13T16:58:35.303Z"
   },
   {
    "duration": 23572,
    "start_time": "2024-07-13T16:58:35.362Z"
   },
   {
    "duration": 24354,
    "start_time": "2024-07-13T16:59:19.048Z"
   },
   {
    "duration": 8089,
    "start_time": "2024-07-13T17:06:15.937Z"
   },
   {
    "duration": 8065,
    "start_time": "2024-07-13T17:06:55.186Z"
   },
   {
    "duration": 7881,
    "start_time": "2024-07-13T17:08:24.602Z"
   },
   {
    "duration": 8,
    "start_time": "2024-07-13T17:50:06.443Z"
   },
   {
    "duration": 350,
    "start_time": "2024-07-13T17:50:06.456Z"
   },
   {
    "duration": 150,
    "start_time": "2024-07-13T17:50:06.808Z"
   },
   {
    "duration": 40,
    "start_time": "2024-07-13T17:50:06.961Z"
   },
   {
    "duration": 60,
    "start_time": "2024-07-13T17:50:07.007Z"
   },
   {
    "duration": 7837,
    "start_time": "2024-07-13T17:50:07.070Z"
   },
   {
    "duration": 9,
    "start_time": "2024-07-13T17:50:14.910Z"
   },
   {
    "duration": 220,
    "start_time": "2024-07-13T17:50:14.931Z"
   },
   {
    "duration": 314,
    "start_time": "2024-07-13T17:50:15.231Z"
   },
   {
    "duration": 389,
    "start_time": "2024-07-13T17:50:15.548Z"
   },
   {
    "duration": 4,
    "start_time": "2024-07-13T17:50:15.940Z"
   },
   {
    "duration": 5,
    "start_time": "2024-07-13T17:50:15.948Z"
   },
   {
    "duration": 6,
    "start_time": "2024-07-13T17:50:16.032Z"
   },
   {
    "duration": 98,
    "start_time": "2024-07-13T17:50:16.047Z"
   },
   {
    "duration": 10,
    "start_time": "2024-07-13T17:50:16.148Z"
   },
   {
    "duration": 3635,
    "start_time": "2024-07-13T17:50:16.161Z"
   },
   {
    "duration": 9,
    "start_time": "2024-07-13T17:51:21.441Z"
   },
   {
    "duration": 49,
    "start_time": "2024-07-13T17:51:24.182Z"
   },
   {
    "duration": 8,
    "start_time": "2024-07-13T17:52:01.151Z"
   },
   {
    "duration": 360,
    "start_time": "2024-07-13T17:52:01.163Z"
   },
   {
    "duration": 145,
    "start_time": "2024-07-13T17:52:01.529Z"
   },
   {
    "duration": 59,
    "start_time": "2024-07-13T17:52:01.676Z"
   },
   {
    "duration": 70,
    "start_time": "2024-07-13T17:52:01.739Z"
   },
   {
    "duration": 7835,
    "start_time": "2024-07-13T17:52:01.812Z"
   },
   {
    "duration": 9,
    "start_time": "2024-07-13T17:52:09.650Z"
   },
   {
    "duration": 271,
    "start_time": "2024-07-13T17:52:09.662Z"
   },
   {
    "duration": 399,
    "start_time": "2024-07-13T17:52:09.936Z"
   },
   {
    "duration": 510,
    "start_time": "2024-07-13T17:52:10.341Z"
   },
   {
    "duration": 82,
    "start_time": "2024-07-13T17:52:10.856Z"
   },
   {
    "duration": 6,
    "start_time": "2024-07-13T17:52:10.946Z"
   },
   {
    "duration": 77,
    "start_time": "2024-07-13T17:52:10.955Z"
   },
   {
    "duration": 20,
    "start_time": "2024-07-13T17:52:11.039Z"
   },
   {
    "duration": 9,
    "start_time": "2024-07-13T17:52:11.062Z"
   },
   {
    "duration": 2096,
    "start_time": "2024-07-13T17:52:11.074Z"
   },
   {
    "duration": 1858,
    "start_time": "2024-07-13T17:53:44.481Z"
   },
   {
    "duration": 11,
    "start_time": "2024-07-13T17:54:05.512Z"
   },
   {
    "duration": 5510,
    "start_time": "2024-07-13T17:54:07.182Z"
   },
   {
    "duration": 7,
    "start_time": "2024-07-13T17:57:26.847Z"
   },
   {
    "duration": 353,
    "start_time": "2024-07-13T17:57:26.858Z"
   },
   {
    "duration": 149,
    "start_time": "2024-07-13T17:57:27.214Z"
   },
   {
    "duration": 42,
    "start_time": "2024-07-13T17:57:27.366Z"
   },
   {
    "duration": 70,
    "start_time": "2024-07-13T17:57:27.412Z"
   },
   {
    "duration": 7845,
    "start_time": "2024-07-13T17:57:27.485Z"
   },
   {
    "duration": 9,
    "start_time": "2024-07-13T17:57:35.333Z"
   },
   {
    "duration": 293,
    "start_time": "2024-07-13T17:57:35.345Z"
   },
   {
    "duration": 306,
    "start_time": "2024-07-13T17:57:35.641Z"
   },
   {
    "duration": 384,
    "start_time": "2024-07-13T17:57:35.950Z"
   },
   {
    "duration": 5,
    "start_time": "2024-07-13T17:57:36.337Z"
   },
   {
    "duration": 6,
    "start_time": "2024-07-13T17:57:36.344Z"
   },
   {
    "duration": 79,
    "start_time": "2024-07-13T17:57:36.354Z"
   },
   {
    "duration": 20,
    "start_time": "2024-07-13T17:57:36.436Z"
   },
   {
    "duration": 11,
    "start_time": "2024-07-13T17:57:36.534Z"
   },
   {
    "duration": 5378,
    "start_time": "2024-07-13T17:57:36.548Z"
   },
   {
    "duration": 7,
    "start_time": "2024-07-13T17:59:41.961Z"
   },
   {
    "duration": 4276,
    "start_time": "2024-07-13T17:59:43.808Z"
   },
   {
    "duration": 26,
    "start_time": "2024-07-13T18:29:26.494Z"
   },
   {
    "duration": 170,
    "start_time": "2024-07-13T18:30:09.299Z"
   },
   {
    "duration": 170,
    "start_time": "2024-07-13T18:30:56.786Z"
   },
   {
    "duration": 8,
    "start_time": "2024-07-13T20:27:15.547Z"
   },
   {
    "duration": 369,
    "start_time": "2024-07-13T20:27:15.560Z"
   },
   {
    "duration": 144,
    "start_time": "2024-07-13T20:27:15.932Z"
   },
   {
    "duration": 198,
    "start_time": "2024-07-13T20:27:16.079Z"
   },
   {
    "duration": 62,
    "start_time": "2024-07-13T20:27:16.282Z"
   },
   {
    "duration": 7785,
    "start_time": "2024-07-13T20:27:16.348Z"
   },
   {
    "duration": 9,
    "start_time": "2024-07-13T20:27:24.136Z"
   },
   {
    "duration": 285,
    "start_time": "2024-07-13T20:27:24.148Z"
   },
   {
    "duration": 308,
    "start_time": "2024-07-13T20:27:24.437Z"
   },
   {
    "duration": 398,
    "start_time": "2024-07-13T20:27:24.748Z"
   },
   {
    "duration": 4,
    "start_time": "2024-07-13T20:27:25.148Z"
   },
   {
    "duration": 79,
    "start_time": "2024-07-13T20:27:25.253Z"
   },
   {
    "duration": 6,
    "start_time": "2024-07-13T20:27:25.335Z"
   },
   {
    "duration": 18,
    "start_time": "2024-07-13T20:27:25.347Z"
   },
   {
    "duration": 8,
    "start_time": "2024-07-13T20:27:25.368Z"
   },
   {
    "duration": 4157,
    "start_time": "2024-07-13T20:27:25.430Z"
   },
   {
    "duration": 5232,
    "start_time": "2024-07-14T06:28:02.330Z"
   },
   {
    "duration": 545,
    "start_time": "2024-07-14T06:28:07.566Z"
   },
   {
    "duration": 176,
    "start_time": "2024-07-14T06:28:08.114Z"
   },
   {
    "duration": 200,
    "start_time": "2024-07-14T06:28:08.302Z"
   },
   {
    "duration": 64,
    "start_time": "2024-07-14T06:28:08.506Z"
   },
   {
    "duration": 36,
    "start_time": "2024-07-14T06:28:08.573Z"
   },
   {
    "duration": 5,
    "start_time": "2024-07-14T07:07:44.553Z"
   },
   {
    "duration": 5481,
    "start_time": "2024-07-15T18:38:50.477Z"
   },
   {
    "duration": 530,
    "start_time": "2024-07-15T18:38:55.962Z"
   },
   {
    "duration": 174,
    "start_time": "2024-07-15T18:38:56.495Z"
   },
   {
    "duration": 199,
    "start_time": "2024-07-15T18:38:56.675Z"
   },
   {
    "duration": 92,
    "start_time": "2024-07-15T18:38:56.877Z"
   },
   {
    "duration": 19,
    "start_time": "2024-07-15T18:38:56.972Z"
   },
   {
    "duration": 79,
    "start_time": "2024-07-15T18:39:21.106Z"
   },
   {
    "duration": 21,
    "start_time": "2024-07-15T18:39:24.201Z"
   },
   {
    "duration": 468,
    "start_time": "2024-07-15T18:40:31.189Z"
   },
   {
    "duration": 922,
    "start_time": "2024-07-15T18:41:04.083Z"
   },
   {
    "duration": 81,
    "start_time": "2024-07-15T18:43:48.737Z"
   },
   {
    "duration": 16,
    "start_time": "2024-07-15T18:43:51.882Z"
   },
   {
    "duration": 79,
    "start_time": "2024-07-15T18:45:05.553Z"
   },
   {
    "duration": 19,
    "start_time": "2024-07-15T18:45:08.392Z"
   },
   {
    "duration": 100,
    "start_time": "2024-07-15T18:46:59.220Z"
   },
   {
    "duration": 17,
    "start_time": "2024-07-15T18:47:02.116Z"
   },
   {
    "duration": 9169,
    "start_time": "2024-07-15T18:50:42.071Z"
   },
   {
    "duration": 8668,
    "start_time": "2024-07-15T18:52:08.876Z"
   },
   {
    "duration": 8433,
    "start_time": "2024-07-15T18:52:22.401Z"
   },
   {
    "duration": 8,
    "start_time": "2024-07-15T18:58:30.109Z"
   },
   {
    "duration": 426,
    "start_time": "2024-07-15T18:58:30.122Z"
   },
   {
    "duration": 176,
    "start_time": "2024-07-15T18:58:30.551Z"
   },
   {
    "duration": 226,
    "start_time": "2024-07-15T18:58:30.735Z"
   },
   {
    "duration": 117,
    "start_time": "2024-07-15T18:58:30.965Z"
   },
   {
    "duration": 27,
    "start_time": "2024-07-15T18:58:31.086Z"
   },
   {
    "duration": 8708,
    "start_time": "2024-07-15T18:58:31.117Z"
   },
   {
    "duration": 14,
    "start_time": "2024-07-15T18:58:39.827Z"
   },
   {
    "duration": 198,
    "start_time": "2024-07-15T18:58:39.849Z"
   },
   {
    "duration": 318,
    "start_time": "2024-07-15T18:58:40.055Z"
   },
   {
    "duration": 451,
    "start_time": "2024-07-15T18:58:40.390Z"
   },
   {
    "duration": 31,
    "start_time": "2024-07-15T18:58:40.854Z"
   },
   {
    "duration": 11,
    "start_time": "2024-07-15T18:58:40.938Z"
   },
   {
    "duration": 7,
    "start_time": "2024-07-15T18:58:40.962Z"
   },
   {
    "duration": 21,
    "start_time": "2024-07-15T18:58:40.978Z"
   },
   {
    "duration": 9,
    "start_time": "2024-07-15T18:58:41.002Z"
   },
   {
    "duration": 4875,
    "start_time": "2024-07-15T18:58:41.014Z"
   }
  ],
  "kernelspec": {
   "display_name": "Python 3 (ipykernel)",
   "language": "python",
   "name": "python3"
  },
  "language_info": {
   "codemirror_mode": {
    "name": "ipython",
    "version": 3
   },
   "file_extension": ".py",
   "mimetype": "text/x-python",
   "name": "python",
   "nbconvert_exporter": "python",
   "pygments_lexer": "ipython3",
   "version": "3.9.19"
  },
  "toc": {
   "base_numbering": 1,
   "nav_menu": {},
   "number_sections": true,
   "sideBar": true,
   "skip_h1_title": true,
   "title_cell": "Table of Contents",
   "title_sidebar": "Contents",
   "toc_cell": false,
   "toc_position": {},
   "toc_section_display": true,
   "toc_window_display": false
  }
 },
 "nbformat": 4,
 "nbformat_minor": 2
}
