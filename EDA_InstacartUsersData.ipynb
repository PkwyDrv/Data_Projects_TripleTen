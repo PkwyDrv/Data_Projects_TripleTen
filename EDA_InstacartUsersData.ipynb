{
 "cells": [
  {
   "cell_type": "markdown",
   "id": "569eb92a",
   "metadata": {},
   "source": [
    "<div style=\"border-radius: 15px; border: 3px solid indigo; padding: 15px;\">\n",
    "<b> Reviewer's comment</b>\n",
    "    \n",
    "Hello, my name is Sveta, and I am going to review this project. \n",
    "    \n",
    "\n",
    "Before we start, I want to pay your attention to the color marking:\n",
    "    \n",
    "<div class=\"alert alert-success\" style=\"border-radius: 15px; box-shadow: 4px 4px 4px; border: 1px solid \">\n",
    "<b> Reviewer's comment ✔️</b>\n",
    "    \n",
    "Great solutions and ideas that can and should be used in the future are in green comments.   \n",
    "</div>    \n",
    "    \n",
    "    \n",
    "<div class=\"alert alert-warning\" style=\"border-radius: 15px; box-shadow: 4px 4px 4px; border: 1px solid \">\n",
    "<b> Reviewer's comment ⚠️</b>\n",
    "\n",
    "Yellow color indicates what should be optimized. This is not necessary, but it will be great if you make changes to this project.\n",
    "</div>      \n",
    "    \n",
    "    \n",
    "<div class=\"alert alert-danger\" style=\"border-radius: 15px; box-shadow: 4px 4px 4px; border: 1px solid \">\n",
    "<b> Reviewer's comment ❌</b>\n",
    "\n",
    "Issues that need to be corrected to get right results are indicated in red comments. Note that the project cannot be accepted until these issues are resolved.\n",
    "</div>    \n",
    "\n",
    "<hr>\n",
    "    \n",
    "**Please, use some color other than those listed to highlight answers to my comments.**\n",
    "I would also ask you **not to change, move or delete my comments** so that it would be easier for me to navigate during the next review.\n",
    "    \n",
    "In addition, my comments are defined as headings. \n",
    "They can mess up the content; however, they are convenient, since you can immediately go to them. I will remove the headings from my comments in the next review. \n",
    "   \n",
    "    \n",
    "    \n",
    "<hr>\n",
    "    \n",
    "<font color='dodgerblue'>**A few words about the project:**</font> you did a good job, everything is clear and neat. The project is easy to read, which is definitely a plus. There are a lot graphs. It is good, visualization never hurts. I still have some questions that I've written in my comments. I've also left there some recommendations for improving the project.\n",
    "    \n",
    "    \n",
    "I will wait for the project for a second review :)\n",
    "    \n",
    "    \n",
    "    \n",
    "📌 Here are some hints that may help you with Markdown cells:    \n",
    "<hr style=\"border-top: 3px solid purple; \"></hr>\n",
    "\n",
    "You can leave comments using this code inside a Markdown cell:\n",
    "    \n",
    "    \n",
    "    <div class=\"alert alert-info\">\n",
    "    <h2> Student's comment</h2>\n",
    "\n",
    "    Your text here. \n",
    "    </div>\n",
    "\n",
    "    \n",
    "    \n",
    "    <font color='red'> This code is used to change text color. </font>     \n",
    "\n",
    "<font color='red'> It will look like this. </font> \n",
    "    \n",
    "If you don't want your comments to be headings, replace **h2** with **b** or just add `<a class=\"tocSkip\">` after the phrase *Student's comment*.\n",
    "\n",
    "\n",
    "You can find out how to **format text** in a Markdown cell or how to **add links** [here](https://sqlbak.com/blog/jupyter-notebook-markdown-cheatsheet) и [and here](https://medium.com/analytics-vidhya/the-ultimate-markdown-guide-for-jupyter-notebook-d5e5abf728fd).\n",
    "</div>"
   ]
  },
  {
   "cell_type": "markdown",
   "id": "49e8ae21",
   "metadata": {},
   "source": [
    "\n",
    "<div style=\"border-radius: 15px; border: 3px solid indigo; padding: 15px;\">\n",
    "<b> Reviewer's comment 2</b>\n",
    "\n",
    "\n",
    "Thank you for sending a new version of the project 😊 I've left a few comments titled as **Reviewer's comment 2**. Please take a look :) \n",
    "\n",
    "    \n",
    "\n",
    "    \n",
    "</div>\n",
    "<hr>\n",
    "\n",
    "<div style=\"border-radius: 15px; border: 3px solid indigo; padding: 15px;\">\n",
    "<b> Reviewer's comment 3</b>\n",
    "\n",
    "\n",
    "This time I left more detailed comments that should help you finish the tasks :)\n",
    "    \n",
    "</div>\n",
    "<hr>\n",
    "\n",
    "<div style=\"border-radius: 15px; border: 3px solid indigo; padding: 15px;\">\n",
    "<b> Reviewer's comment 4</b>\n",
    "\n",
    "\n",
    "One last question :)    \n",
    "</div>"
   ]
  },
  {
   "cell_type": "markdown",
   "id": "e89887cc",
   "metadata": {},
   "source": [
    "\n",
    "<div style=\"border-radius: 15px; border: 3px solid indigo; padding: 15px;\">\n",
    "<b> Reviewer's comment 5 </b>\n",
    "\n",
    "\n",
    "Everything is great, thank you so much! I did not leave any new comments this time. Your project has passed code review. Congratulations 😊\n",
    "    \n",
    "\n",
    "    \n",
    "This is a good [article](https://www.kaggle.com/ramprakasism/pandas-75-exercises-with-solutions/notebook) with 75 pandas exercises and solutions. You can go along the exercises and compare your solution with the solution in the article.\n",
    "\n",
    "    \n",
    "    \n",
    "Good luck! 😊 \n",
    "    \n",
    "    \n",
    "    \n",
    "<hr>\n",
    "    \n",
    "    \n",
    "Best regards,\n",
    "    \n",
    "Sveta\n",
    "    \n",
    "</div>"
   ]
  },
  {
   "cell_type": "markdown",
   "id": "5d3ea843",
   "metadata": {},
   "source": [
    "<div class=\"alert alert-danger\" style=\"border-radius: 15px; box-shadow: 4px 4px 4px; border: 1px solid \">\n",
    "<b>   Reviewer's comment ❌</b>\n",
    "    \n",
    "First things first. The introduction is the initial paragraph that each project, each essay or any article should have. It is important to write an introductory part, because it gives an idea about the content of the project. Please, add project and data descriptions. \n",
    "\n",
    "</div>\n",
    "<div class=\"alert alert-success\" style=\"border-radius: 15px; box-shadow: 4px 4px 4px; border: 1px solid \">\n",
    "<h2> Reviewer's comment 2 ✔️</h2>\n",
    "    \n",
    "Great! :) It's a good habit actually. I have about 200 notebooks on my laptop with different tasks. Without a good intro it would be hard to remember what a particular notebook is about.\n",
    "\n",
    "</div>"
   ]
  },
  {
   "cell_type": "markdown",
   "id": "fcceb2e2",
   "metadata": {},
   "source": [
    "<div class=\"alert alert-info\">\n",
    "<h2> Student's comment</h2>\n",
    "\n",
    "Hi Sveta! Thank you for kindly reviewing my project and sharing both your valuable time and knowledge in doing so. I appreciate the clarification that a breif introductory summary is expected.  I included one below. \n",
    "</div>\n",
    "\n",
    "\n",
    "\n",
    "<font color='blue'> </font>     \n"
   ]
  },
  {
   "cell_type": "markdown",
   "id": "76f501e1",
   "metadata": {},
   "source": [
    "\n",
    "<b> Exploratory data analysis on Instacart user data</b>\n",
    "\n",
    "The aim of this project is to clean, analyze, and gain insight from the raw data collected about Instacart user habits.  Using five different .csv files containing information about Instacart order details, reorders, products, aisles, and departments, we will derive meaningful insights about user shopping habits.  We will use the extracted DataFrames in conjunction with Histograms to assist in visualizing the story that our data tells.  \n",
    "\n",
    "\n",
    "\n",
    "\n",
    " \n"
   ]
  },
  {
   "cell_type": "code",
   "execution_count": 71,
   "id": "fbf1adab",
   "metadata": {},
   "outputs": [],
   "source": [
    "import pandas as pd #import pandas library\n",
    "from matplotlib import pyplot as plt #import pyplot from matplotlib library for data visualizations\n",
    "import numpy as np\n",
    "\n"
   ]
  },
  {
   "cell_type": "code",
   "execution_count": 72,
   "id": "ad36396d",
   "metadata": {},
   "outputs": [
    {
     "name": "stdout",
     "output_type": "stream",
     "text": [
      "<class 'pandas.core.frame.DataFrame'>\n",
      "RangeIndex: 478967 entries, 0 to 478966\n",
      "Data columns (total 6 columns):\n",
      " #   Column                  Non-Null Count   Dtype  \n",
      "---  ------                  --------------   -----  \n",
      " 0   order_id                478967 non-null  int64  \n",
      " 1   user_id                 478967 non-null  int64  \n",
      " 2   order_number            478967 non-null  int64  \n",
      " 3   order_dow               478967 non-null  int64  \n",
      " 4   order_hour_of_day       478967 non-null  int64  \n",
      " 5   days_since_prior_order  450148 non-null  float64\n",
      "dtypes: float64(1), int64(5)\n",
      "memory usage: 21.9 MB\n"
     ]
    },
    {
     "data": {
      "text/html": [
       "<div>\n",
       "<style scoped>\n",
       "    .dataframe tbody tr th:only-of-type {\n",
       "        vertical-align: middle;\n",
       "    }\n",
       "\n",
       "    .dataframe tbody tr th {\n",
       "        vertical-align: top;\n",
       "    }\n",
       "\n",
       "    .dataframe thead th {\n",
       "        text-align: right;\n",
       "    }\n",
       "</style>\n",
       "<table border=\"1\" class=\"dataframe\">\n",
       "  <thead>\n",
       "    <tr style=\"text-align: right;\">\n",
       "      <th></th>\n",
       "      <th>order_id</th>\n",
       "      <th>user_id</th>\n",
       "      <th>order_number</th>\n",
       "      <th>order_dow</th>\n",
       "      <th>order_hour_of_day</th>\n",
       "      <th>days_since_prior_order</th>\n",
       "    </tr>\n",
       "  </thead>\n",
       "  <tbody>\n",
       "    <tr>\n",
       "      <th>358336</th>\n",
       "      <td>1765884</td>\n",
       "      <td>57135</td>\n",
       "      <td>7</td>\n",
       "      <td>6</td>\n",
       "      <td>11</td>\n",
       "      <td>1.0</td>\n",
       "    </tr>\n",
       "    <tr>\n",
       "      <th>306380</th>\n",
       "      <td>2227628</td>\n",
       "      <td>25347</td>\n",
       "      <td>71</td>\n",
       "      <td>4</td>\n",
       "      <td>16</td>\n",
       "      <td>3.0</td>\n",
       "    </tr>\n",
       "    <tr>\n",
       "      <th>111741</th>\n",
       "      <td>74445</td>\n",
       "      <td>154861</td>\n",
       "      <td>5</td>\n",
       "      <td>1</td>\n",
       "      <td>16</td>\n",
       "      <td>4.0</td>\n",
       "    </tr>\n",
       "    <tr>\n",
       "      <th>236726</th>\n",
       "      <td>1548769</td>\n",
       "      <td>196212</td>\n",
       "      <td>2</td>\n",
       "      <td>2</td>\n",
       "      <td>15</td>\n",
       "      <td>22.0</td>\n",
       "    </tr>\n",
       "    <tr>\n",
       "      <th>144456</th>\n",
       "      <td>625043</td>\n",
       "      <td>36891</td>\n",
       "      <td>1</td>\n",
       "      <td>6</td>\n",
       "      <td>13</td>\n",
       "      <td>NaN</td>\n",
       "    </tr>\n",
       "  </tbody>\n",
       "</table>\n",
       "</div>"
      ],
      "text/plain": [
       "        order_id  user_id  order_number  order_dow  order_hour_of_day  \\\n",
       "358336   1765884    57135             7          6                 11   \n",
       "306380   2227628    25347            71          4                 16   \n",
       "111741     74445   154861             5          1                 16   \n",
       "236726   1548769   196212             2          2                 15   \n",
       "144456    625043    36891             1          6                 13   \n",
       "\n",
       "        days_since_prior_order  \n",
       "358336                     1.0  \n",
       "306380                     3.0  \n",
       "111741                     4.0  \n",
       "236726                    22.0  \n",
       "144456                     NaN  "
      ]
     },
     "execution_count": 72,
     "metadata": {},
     "output_type": "execute_result"
    }
   ],
   "source": [
    "df_ic_orders = pd.read_csv('/datasets/instacart_orders.csv', sep=';') #open and separate data instacart_orders dataframe\n",
    "\n",
    "df_ic_orders.info() #check dataframe for columns, and datatypes\n",
    "\n",
    "df_ic_orders.sample(5) #checking random indexes from the data frame in groups of 5\n",
    "\n",
    "\n"
   ]
  },
  {
   "cell_type": "markdown",
   "id": "7aa52a4d",
   "metadata": {},
   "source": [
    "Identified the likely reason for missing values in the 'days_since_prior_order' as users who never placed an order (non-customers), and therefore not significant to analysis of customer data. Identifed with info() and value_counts().\n"
   ]
  },
  {
   "cell_type": "code",
   "execution_count": 73,
   "id": "ad6a1efa",
   "metadata": {},
   "outputs": [
    {
     "name": "stdout",
     "output_type": "stream",
     "text": [
      "<class 'pandas.core.frame.DataFrame'>\n",
      "RangeIndex: 49694 entries, 0 to 49693\n",
      "Data columns (total 4 columns):\n",
      " #   Column         Non-Null Count  Dtype \n",
      "---  ------         --------------  ----- \n",
      " 0   product_id     49694 non-null  int64 \n",
      " 1   product_name   48436 non-null  object\n",
      " 2   aisle_id       49694 non-null  int64 \n",
      " 3   department_id  49694 non-null  int64 \n",
      "dtypes: int64(3), object(1)\n",
      "memory usage: 1.5+ MB\n"
     ]
    },
    {
     "data": {
      "text/html": [
       "<div>\n",
       "<style scoped>\n",
       "    .dataframe tbody tr th:only-of-type {\n",
       "        vertical-align: middle;\n",
       "    }\n",
       "\n",
       "    .dataframe tbody tr th {\n",
       "        vertical-align: top;\n",
       "    }\n",
       "\n",
       "    .dataframe thead th {\n",
       "        text-align: right;\n",
       "    }\n",
       "</style>\n",
       "<table border=\"1\" class=\"dataframe\">\n",
       "  <thead>\n",
       "    <tr style=\"text-align: right;\">\n",
       "      <th></th>\n",
       "      <th>product_id</th>\n",
       "      <th>product_name</th>\n",
       "      <th>aisle_id</th>\n",
       "      <th>department_id</th>\n",
       "    </tr>\n",
       "  </thead>\n",
       "  <tbody>\n",
       "    <tr>\n",
       "      <th>15649</th>\n",
       "      <td>15650</td>\n",
       "      <td>Crunchy Peanut Butter Granola</td>\n",
       "      <td>3</td>\n",
       "      <td>19</td>\n",
       "    </tr>\n",
       "    <tr>\n",
       "      <th>36837</th>\n",
       "      <td>36838</td>\n",
       "      <td>Original Triple Chocolate Protein Energy Bar</td>\n",
       "      <td>3</td>\n",
       "      <td>19</td>\n",
       "    </tr>\n",
       "    <tr>\n",
       "      <th>15682</th>\n",
       "      <td>15683</td>\n",
       "      <td>Caribbean Coconut Gelato</td>\n",
       "      <td>37</td>\n",
       "      <td>1</td>\n",
       "    </tr>\n",
       "    <tr>\n",
       "      <th>3793</th>\n",
       "      <td>3794</td>\n",
       "      <td>Pimiento Stuffed Spanish Olives</td>\n",
       "      <td>110</td>\n",
       "      <td>13</td>\n",
       "    </tr>\n",
       "    <tr>\n",
       "      <th>23106</th>\n",
       "      <td>23107</td>\n",
       "      <td>Tempeh- Sesame Garlic</td>\n",
       "      <td>4</td>\n",
       "      <td>9</td>\n",
       "    </tr>\n",
       "  </tbody>\n",
       "</table>\n",
       "</div>"
      ],
      "text/plain": [
       "       product_id                                  product_name  aisle_id  \\\n",
       "15649       15650                 Crunchy Peanut Butter Granola         3   \n",
       "36837       36838  Original Triple Chocolate Protein Energy Bar         3   \n",
       "15682       15683                      Caribbean Coconut Gelato        37   \n",
       "3793         3794               Pimiento Stuffed Spanish Olives       110   \n",
       "23106       23107                         Tempeh- Sesame Garlic         4   \n",
       "\n",
       "       department_id  \n",
       "15649             19  \n",
       "36837             19  \n",
       "15682              1  \n",
       "3793              13  \n",
       "23106              9  "
      ]
     },
     "execution_count": 73,
     "metadata": {},
     "output_type": "execute_result"
    }
   ],
   "source": [
    "df_products = pd.read_csv('/datasets/products.csv', sep=';')  \n",
    "df_products.info()\n",
    "df_products.sample(5)"
   ]
  },
  {
   "cell_type": "markdown",
   "id": "4c55ec56",
   "metadata": {},
   "source": [
    "The likely reason for missing values here is for items either discontinued or no longer being restocked/reordered, and thus not impactful for making future shopping decisons.  Identified with info() and value_counts(). \n"
   ]
  },
  {
   "cell_type": "code",
   "execution_count": 74,
   "id": "5130e05e",
   "metadata": {},
   "outputs": [
    {
     "name": "stdout",
     "output_type": "stream",
     "text": [
      "<class 'pandas.core.frame.DataFrame'>\n",
      "RangeIndex: 134 entries, 0 to 133\n",
      "Data columns (total 2 columns):\n",
      " #   Column    Non-Null Count  Dtype \n",
      "---  ------    --------------  ----- \n",
      " 0   aisle_id  134 non-null    int64 \n",
      " 1   aisle     134 non-null    object\n",
      "dtypes: int64(1), object(1)\n",
      "memory usage: 2.2+ KB\n"
     ]
    },
    {
     "data": {
      "text/html": [
       "<div>\n",
       "<style scoped>\n",
       "    .dataframe tbody tr th:only-of-type {\n",
       "        vertical-align: middle;\n",
       "    }\n",
       "\n",
       "    .dataframe tbody tr th {\n",
       "        vertical-align: top;\n",
       "    }\n",
       "\n",
       "    .dataframe thead th {\n",
       "        text-align: right;\n",
       "    }\n",
       "</style>\n",
       "<table border=\"1\" class=\"dataframe\">\n",
       "  <thead>\n",
       "    <tr style=\"text-align: right;\">\n",
       "      <th></th>\n",
       "      <th>aisle_id</th>\n",
       "      <th>aisle</th>\n",
       "    </tr>\n",
       "  </thead>\n",
       "  <tbody>\n",
       "    <tr>\n",
       "      <th>88</th>\n",
       "      <td>89</td>\n",
       "      <td>salad dressing toppings</td>\n",
       "    </tr>\n",
       "    <tr>\n",
       "      <th>93</th>\n",
       "      <td>94</td>\n",
       "      <td>tea</td>\n",
       "    </tr>\n",
       "    <tr>\n",
       "      <th>130</th>\n",
       "      <td>131</td>\n",
       "      <td>dry pasta</td>\n",
       "    </tr>\n",
       "    <tr>\n",
       "      <th>70</th>\n",
       "      <td>71</td>\n",
       "      <td>refrigerated pudding desserts</td>\n",
       "    </tr>\n",
       "    <tr>\n",
       "      <th>94</th>\n",
       "      <td>95</td>\n",
       "      <td>canned meat seafood</td>\n",
       "    </tr>\n",
       "  </tbody>\n",
       "</table>\n",
       "</div>"
      ],
      "text/plain": [
       "     aisle_id                          aisle\n",
       "88         89        salad dressing toppings\n",
       "93         94                            tea\n",
       "130       131                      dry pasta\n",
       "70         71  refrigerated pudding desserts\n",
       "94         95            canned meat seafood"
      ]
     },
     "execution_count": 74,
     "metadata": {},
     "output_type": "execute_result"
    }
   ],
   "source": [
    "df_aisles = pd.read_csv('/datasets/aisles.csv', sep=';')\n",
    "df_aisles.info()\n",
    "\n",
    "df_aisles.sample(5)"
   ]
  },
  {
   "cell_type": "code",
   "execution_count": 75,
   "id": "d8370c05",
   "metadata": {},
   "outputs": [
    {
     "name": "stdout",
     "output_type": "stream",
     "text": [
      "<class 'pandas.core.frame.DataFrame'>\n",
      "RangeIndex: 21 entries, 0 to 20\n",
      "Data columns (total 2 columns):\n",
      " #   Column         Non-Null Count  Dtype \n",
      "---  ------         --------------  ----- \n",
      " 0   department_id  21 non-null     int64 \n",
      " 1   department     21 non-null     object\n",
      "dtypes: int64(1), object(1)\n",
      "memory usage: 464.0+ bytes\n"
     ]
    },
    {
     "data": {
      "text/html": [
       "<div>\n",
       "<style scoped>\n",
       "    .dataframe tbody tr th:only-of-type {\n",
       "        vertical-align: middle;\n",
       "    }\n",
       "\n",
       "    .dataframe tbody tr th {\n",
       "        vertical-align: top;\n",
       "    }\n",
       "\n",
       "    .dataframe thead th {\n",
       "        text-align: right;\n",
       "    }\n",
       "</style>\n",
       "<table border=\"1\" class=\"dataframe\">\n",
       "  <thead>\n",
       "    <tr style=\"text-align: right;\">\n",
       "      <th></th>\n",
       "      <th>department_id</th>\n",
       "      <th>department</th>\n",
       "    </tr>\n",
       "  </thead>\n",
       "  <tbody>\n",
       "    <tr>\n",
       "      <th>6</th>\n",
       "      <td>7</td>\n",
       "      <td>beverages</td>\n",
       "    </tr>\n",
       "    <tr>\n",
       "      <th>5</th>\n",
       "      <td>6</td>\n",
       "      <td>international</td>\n",
       "    </tr>\n",
       "    <tr>\n",
       "      <th>7</th>\n",
       "      <td>8</td>\n",
       "      <td>pets</td>\n",
       "    </tr>\n",
       "    <tr>\n",
       "      <th>8</th>\n",
       "      <td>9</td>\n",
       "      <td>dry goods pasta</td>\n",
       "    </tr>\n",
       "    <tr>\n",
       "      <th>12</th>\n",
       "      <td>13</td>\n",
       "      <td>pantry</td>\n",
       "    </tr>\n",
       "  </tbody>\n",
       "</table>\n",
       "</div>"
      ],
      "text/plain": [
       "    department_id       department\n",
       "6               7        beverages\n",
       "5               6    international\n",
       "7               8             pets\n",
       "8               9  dry goods pasta\n",
       "12             13           pantry"
      ]
     },
     "execution_count": 75,
     "metadata": {},
     "output_type": "execute_result"
    }
   ],
   "source": [
    "df_departments = pd.read_csv('/datasets/departments.csv', sep=';')\n",
    "df_departments.info()\n",
    "\n",
    "df_departments.sample(5)"
   ]
  },
  {
   "cell_type": "code",
   "execution_count": 76,
   "id": "59e2090f",
   "metadata": {},
   "outputs": [
    {
     "name": "stdout",
     "output_type": "stream",
     "text": [
      "<class 'pandas.core.frame.DataFrame'>\n",
      "RangeIndex: 4545007 entries, 0 to 4545006\n",
      "Data columns (total 4 columns):\n",
      " #   Column             Non-Null Count    Dtype  \n",
      "---  ------             --------------    -----  \n",
      " 0   order_id           4545007 non-null  int64  \n",
      " 1   product_id         4545007 non-null  int64  \n",
      " 2   add_to_cart_order  4544171 non-null  float64\n",
      " 3   reordered          4545007 non-null  int64  \n",
      "dtypes: float64(1), int64(3)\n",
      "memory usage: 138.7 MB\n"
     ]
    },
    {
     "data": {
      "text/html": [
       "<div>\n",
       "<style scoped>\n",
       "    .dataframe tbody tr th:only-of-type {\n",
       "        vertical-align: middle;\n",
       "    }\n",
       "\n",
       "    .dataframe tbody tr th {\n",
       "        vertical-align: top;\n",
       "    }\n",
       "\n",
       "    .dataframe thead th {\n",
       "        text-align: right;\n",
       "    }\n",
       "</style>\n",
       "<table border=\"1\" class=\"dataframe\">\n",
       "  <thead>\n",
       "    <tr style=\"text-align: right;\">\n",
       "      <th></th>\n",
       "      <th>order_id</th>\n",
       "      <th>product_id</th>\n",
       "      <th>add_to_cart_order</th>\n",
       "      <th>reordered</th>\n",
       "    </tr>\n",
       "  </thead>\n",
       "  <tbody>\n",
       "    <tr>\n",
       "      <th>3211826</th>\n",
       "      <td>2691973</td>\n",
       "      <td>13176</td>\n",
       "      <td>4.0</td>\n",
       "      <td>1</td>\n",
       "    </tr>\n",
       "    <tr>\n",
       "      <th>4292340</th>\n",
       "      <td>3325573</td>\n",
       "      <td>36557</td>\n",
       "      <td>4.0</td>\n",
       "      <td>0</td>\n",
       "    </tr>\n",
       "    <tr>\n",
       "      <th>1968842</th>\n",
       "      <td>387822</td>\n",
       "      <td>5450</td>\n",
       "      <td>10.0</td>\n",
       "      <td>1</td>\n",
       "    </tr>\n",
       "    <tr>\n",
       "      <th>931564</th>\n",
       "      <td>1180011</td>\n",
       "      <td>24954</td>\n",
       "      <td>2.0</td>\n",
       "      <td>0</td>\n",
       "    </tr>\n",
       "    <tr>\n",
       "      <th>743446</th>\n",
       "      <td>208132</td>\n",
       "      <td>17915</td>\n",
       "      <td>2.0</td>\n",
       "      <td>1</td>\n",
       "    </tr>\n",
       "    <tr>\n",
       "      <th>3948444</th>\n",
       "      <td>3369809</td>\n",
       "      <td>45448</td>\n",
       "      <td>7.0</td>\n",
       "      <td>1</td>\n",
       "    </tr>\n",
       "    <tr>\n",
       "      <th>198691</th>\n",
       "      <td>1649489</td>\n",
       "      <td>39475</td>\n",
       "      <td>3.0</td>\n",
       "      <td>1</td>\n",
       "    </tr>\n",
       "    <tr>\n",
       "      <th>51620</th>\n",
       "      <td>2177009</td>\n",
       "      <td>21903</td>\n",
       "      <td>1.0</td>\n",
       "      <td>0</td>\n",
       "    </tr>\n",
       "    <tr>\n",
       "      <th>771916</th>\n",
       "      <td>1416463</td>\n",
       "      <td>13176</td>\n",
       "      <td>5.0</td>\n",
       "      <td>1</td>\n",
       "    </tr>\n",
       "    <tr>\n",
       "      <th>1358682</th>\n",
       "      <td>413540</td>\n",
       "      <td>24499</td>\n",
       "      <td>7.0</td>\n",
       "      <td>1</td>\n",
       "    </tr>\n",
       "  </tbody>\n",
       "</table>\n",
       "</div>"
      ],
      "text/plain": [
       "         order_id  product_id  add_to_cart_order  reordered\n",
       "3211826   2691973       13176                4.0          1\n",
       "4292340   3325573       36557                4.0          0\n",
       "1968842    387822        5450               10.0          1\n",
       "931564    1180011       24954                2.0          0\n",
       "743446     208132       17915                2.0          1\n",
       "3948444   3369809       45448                7.0          1\n",
       "198691    1649489       39475                3.0          1\n",
       "51620     2177009       21903                1.0          0\n",
       "771916    1416463       13176                5.0          1\n",
       "1358682    413540       24499                7.0          1"
      ]
     },
     "execution_count": 76,
     "metadata": {},
     "output_type": "execute_result"
    }
   ],
   "source": [
    "df_order_products = pd.read_csv('/datasets/order_products.csv', sep=';')\n",
    "\n",
    "df_order_products.info(show_counts=True)\n",
    "\n",
    "df_order_products.sample(10)"
   ]
  },
  {
   "cell_type": "markdown",
   "id": "db2d5475",
   "metadata": {},
   "source": [
    "null values in 'add_to_cart_order' represent < 1% of the values and will not have a significant change on the overall data analysis. Identified using isnull() and info(). \n"
   ]
  },
  {
   "cell_type": "markdown",
   "id": "2d5808d8",
   "metadata": {},
   "source": [
    "<div class=\"alert alert-success\" style=\"border-radius: 15px; box-shadow: 4px 4px 4px; border: 1px solid \">\n",
    "<h2>   Reviewer's comment ✔️</h2>\n",
    "    \n",
    "Nice introductory part. \n",
    "    \n",
    "</div>"
   ]
  },
  {
   "cell_type": "markdown",
   "id": "07357848-dc64-4156-9cc3-01ff4365226d",
   "metadata": {},
   "source": [
    "## Find and remove duplicate values (and describe why you make your choices)"
   ]
  },
  {
   "cell_type": "markdown",
   "id": "f179f0a9",
   "metadata": {},
   "source": [
    "### `orders` data frame"
   ]
  },
  {
   "cell_type": "code",
   "execution_count": 77,
   "id": "b99297a5-405a-463d-8535-9adc3da4ad74",
   "metadata": {},
   "outputs": [
    {
     "data": {
      "text/plain": [
       "15"
      ]
     },
     "execution_count": 77,
     "metadata": {},
     "output_type": "execute_result"
    }
   ],
   "source": [
    "df_ic_orders.duplicated().sum() # Check for duplicated orders\n"
   ]
  },
  {
   "cell_type": "markdown",
   "id": "a66a2dfd",
   "metadata": {},
   "source": [
    "I chose duplicated().sum() to see the number of duplicate rows in the DataFrame.  I chose to do it this way to eliminate any doubt that the duplicate orders were the same both in order_number and user_id as well as hour_of_day and order_dow.\n"
   ]
  },
  {
   "cell_type": "code",
   "execution_count": 78,
   "id": "0d44de5d",
   "metadata": {},
   "outputs": [
    {
     "data": {
      "text/html": [
       "<div>\n",
       "<style scoped>\n",
       "    .dataframe tbody tr th:only-of-type {\n",
       "        vertical-align: middle;\n",
       "    }\n",
       "\n",
       "    .dataframe tbody tr th {\n",
       "        vertical-align: top;\n",
       "    }\n",
       "\n",
       "    .dataframe thead th {\n",
       "        text-align: right;\n",
       "    }\n",
       "</style>\n",
       "<table border=\"1\" class=\"dataframe\">\n",
       "  <thead>\n",
       "    <tr style=\"text-align: right;\">\n",
       "      <th></th>\n",
       "      <th>order_id</th>\n",
       "      <th>user_id</th>\n",
       "      <th>order_number</th>\n",
       "      <th>order_dow</th>\n",
       "      <th>order_hour_of_day</th>\n",
       "      <th>days_since_prior_order</th>\n",
       "    </tr>\n",
       "  </thead>\n",
       "  <tbody>\n",
       "    <tr>\n",
       "      <th>1295</th>\n",
       "      <td>1474941</td>\n",
       "      <td>115569</td>\n",
       "      <td>5</td>\n",
       "      <td>2</td>\n",
       "      <td>2</td>\n",
       "      <td>28.0</td>\n",
       "    </tr>\n",
       "    <tr>\n",
       "      <th>2391</th>\n",
       "      <td>1640269</td>\n",
       "      <td>173965</td>\n",
       "      <td>15</td>\n",
       "      <td>2</td>\n",
       "      <td>2</td>\n",
       "      <td>2.0</td>\n",
       "    </tr>\n",
       "    <tr>\n",
       "      <th>2550</th>\n",
       "      <td>1223696</td>\n",
       "      <td>55276</td>\n",
       "      <td>11</td>\n",
       "      <td>2</td>\n",
       "      <td>2</td>\n",
       "      <td>30.0</td>\n",
       "    </tr>\n",
       "    <tr>\n",
       "      <th>5965</th>\n",
       "      <td>579194</td>\n",
       "      <td>85018</td>\n",
       "      <td>14</td>\n",
       "      <td>2</td>\n",
       "      <td>2</td>\n",
       "      <td>11.0</td>\n",
       "    </tr>\n",
       "    <tr>\n",
       "      <th>17680</th>\n",
       "      <td>2004230</td>\n",
       "      <td>203121</td>\n",
       "      <td>4</td>\n",
       "      <td>2</td>\n",
       "      <td>2</td>\n",
       "      <td>8.0</td>\n",
       "    </tr>\n",
       "    <tr>\n",
       "      <th>...</th>\n",
       "      <td>...</td>\n",
       "      <td>...</td>\n",
       "      <td>...</td>\n",
       "      <td>...</td>\n",
       "      <td>...</td>\n",
       "      <td>...</td>\n",
       "    </tr>\n",
       "    <tr>\n",
       "      <th>457660</th>\n",
       "      <td>1562381</td>\n",
       "      <td>19378</td>\n",
       "      <td>5</td>\n",
       "      <td>2</td>\n",
       "      <td>2</td>\n",
       "      <td>6.0</td>\n",
       "    </tr>\n",
       "    <tr>\n",
       "      <th>460316</th>\n",
       "      <td>1986084</td>\n",
       "      <td>117453</td>\n",
       "      <td>81</td>\n",
       "      <td>2</td>\n",
       "      <td>2</td>\n",
       "      <td>8.0</td>\n",
       "    </tr>\n",
       "    <tr>\n",
       "      <th>462676</th>\n",
       "      <td>1362113</td>\n",
       "      <td>19654</td>\n",
       "      <td>20</td>\n",
       "      <td>2</td>\n",
       "      <td>2</td>\n",
       "      <td>21.0</td>\n",
       "    </tr>\n",
       "    <tr>\n",
       "      <th>472800</th>\n",
       "      <td>1746383</td>\n",
       "      <td>88484</td>\n",
       "      <td>19</td>\n",
       "      <td>2</td>\n",
       "      <td>2</td>\n",
       "      <td>5.0</td>\n",
       "    </tr>\n",
       "    <tr>\n",
       "      <th>472923</th>\n",
       "      <td>1519815</td>\n",
       "      <td>149345</td>\n",
       "      <td>1</td>\n",
       "      <td>2</td>\n",
       "      <td>2</td>\n",
       "      <td>NaN</td>\n",
       "    </tr>\n",
       "  </tbody>\n",
       "</table>\n",
       "<p>136 rows × 6 columns</p>\n",
       "</div>"
      ],
      "text/plain": [
       "        order_id  user_id  order_number  order_dow  order_hour_of_day  \\\n",
       "1295     1474941   115569             5          2                  2   \n",
       "2391     1640269   173965            15          2                  2   \n",
       "2550     1223696    55276            11          2                  2   \n",
       "5965      579194    85018            14          2                  2   \n",
       "17680    2004230   203121             4          2                  2   \n",
       "...          ...      ...           ...        ...                ...   \n",
       "457660   1562381    19378             5          2                  2   \n",
       "460316   1986084   117453            81          2                  2   \n",
       "462676   1362113    19654            20          2                  2   \n",
       "472800   1746383    88484            19          2                  2   \n",
       "472923   1519815   149345             1          2                  2   \n",
       "\n",
       "        days_since_prior_order  \n",
       "1295                      28.0  \n",
       "2391                       2.0  \n",
       "2550                      30.0  \n",
       "5965                      11.0  \n",
       "17680                      8.0  \n",
       "...                        ...  \n",
       "457660                     6.0  \n",
       "460316                     8.0  \n",
       "462676                    21.0  \n",
       "472800                     5.0  \n",
       "472923                     NaN  \n",
       "\n",
       "[136 rows x 6 columns]"
      ]
     },
     "execution_count": 78,
     "metadata": {},
     "output_type": "execute_result"
    }
   ],
   "source": [
    "df_ic_orders[(df_ic_orders['order_dow'] == 2) & (df_ic_orders['order_hour_of_day'] == 2)]# Check for all orders placed Wednesday at 2:00 AM\n"
   ]
  },
  {
   "cell_type": "code",
   "execution_count": 79,
   "id": "480563c7",
   "metadata": {},
   "outputs": [],
   "source": [
    "df_ic_orders = df_ic_orders.drop_duplicates()# Remove duplicate orders\n"
   ]
  },
  {
   "cell_type": "code",
   "execution_count": 80,
   "id": "0b2396a2",
   "metadata": {},
   "outputs": [
    {
     "data": {
      "text/plain": [
       "0"
      ]
     },
     "execution_count": 80,
     "metadata": {},
     "output_type": "execute_result"
    }
   ],
   "source": [
    "df_ic_orders.duplicated().sum()# Double check for duplicate rows\n"
   ]
  },
  {
   "cell_type": "code",
   "execution_count": 81,
   "id": "f6113ef1",
   "metadata": {},
   "outputs": [
    {
     "data": {
      "text/plain": [
       "0"
      ]
     },
     "execution_count": 81,
     "metadata": {},
     "output_type": "execute_result"
    }
   ],
   "source": [
    "df_ic_orders.duplicated(subset='order_id').sum()# Double check for duplicate order IDs only\n"
   ]
  },
  {
   "cell_type": "markdown",
   "id": "68102363",
   "metadata": {},
   "source": [
    "I removed the duplicates with drop_duplicates() to address all duplicated rows.  I double checked that the duplicate rows were removed the same way I addressed the initial query, with duplicated(), using the subset= parameter to check the 'order_id' column.\n"
   ]
  },
  {
   "cell_type": "markdown",
   "id": "5e8905ae",
   "metadata": {},
   "source": [
    "<div class=\"alert alert-success\" style=\"border-radius: 15px; box-shadow: 4px 4px 4px; border: 1px solid \">\n",
    "<h2>   Reviewer's comment ✔️</h2>\n",
    "    \n",
    "Correct. \n",
    "    \n",
    "</div>"
   ]
  },
  {
   "cell_type": "markdown",
   "id": "45e6bc46",
   "metadata": {},
   "source": [
    "### `products` data frame"
   ]
  },
  {
   "cell_type": "code",
   "execution_count": 82,
   "id": "5f526b5b-8175-46fa-a0fd-441767d50e64",
   "metadata": {},
   "outputs": [
    {
     "data": {
      "text/plain": [
       "0"
      ]
     },
     "execution_count": 82,
     "metadata": {},
     "output_type": "execute_result"
    }
   ],
   "source": [
    "df_products.duplicated().sum()# Check for fully duplicate rows\n"
   ]
  },
  {
   "cell_type": "code",
   "execution_count": 83,
   "id": "88daa4f4",
   "metadata": {},
   "outputs": [
    {
     "data": {
      "text/plain": [
       "0"
      ]
     },
     "execution_count": 83,
     "metadata": {},
     "output_type": "execute_result"
    }
   ],
   "source": [
    "df_products['product_id'].duplicated().sum()# Check for just duplicate product IDs\n"
   ]
  },
  {
   "cell_type": "code",
   "execution_count": 84,
   "id": "c773f0bf",
   "metadata": {},
   "outputs": [
    {
     "data": {
      "text/plain": [
       "1361"
      ]
     },
     "execution_count": 84,
     "metadata": {},
     "output_type": "execute_result"
    }
   ],
   "source": [
    "df_products['product_name'].str.lower().duplicated().sum()# Check for just duplicate product names (convert names to lowercase to compare better)\n"
   ]
  },
  {
   "cell_type": "code",
   "execution_count": 85,
   "id": "01efd02e",
   "metadata": {},
   "outputs": [
    {
     "data": {
      "text/plain": [
       "104"
      ]
     },
     "execution_count": 85,
     "metadata": {},
     "output_type": "execute_result"
    }
   ],
   "source": [
    "df_products['product_name'].str.lower().dropna().duplicated().sum()# Check for duplicate product names that aren't missing\n"
   ]
  },
  {
   "cell_type": "markdown",
   "id": "8d5cf150",
   "metadata": {},
   "source": [
    "I addressed the missing values in product names using str.lower() and dropna(). Then checked all remaining duplicates using duplicated().sum(). Around 92% of the duplicated values are null values.\n"
   ]
  },
  {
   "cell_type": "markdown",
   "id": "9da8d293",
   "metadata": {},
   "source": [
    "<div class=\"alert alert-danger\" style=\"border-radius: 15px; box-shadow: 4px 4px 4px; border: 1px solid \">\n",
    "<b> Reviewer's comment  ❌</b>\n",
    "    \n",
    "- A missing value is not an empty row. \n",
    "\n",
    "\n",
    "- So, what can you say about these duplicates? \n",
    "\n",
    "</div>\n",
    "<div class=\"alert alert-success\" style=\"border-radius: 15px; box-shadow: 4px 4px 4px; border: 1px solid \">\n",
    "<h2>Reviewer's comment 2  ✔️</h2>\n",
    "    \n",
    "\n",
    "They may have different `product_id`, so I am not sure whether we should treat them as duplicates. \n",
    "    \n",
    "    \n",
    "</div>"
   ]
  },
  {
   "cell_type": "markdown",
   "id": "1314f5ff",
   "metadata": {},
   "source": [
    "<div class=\"alert alert-info\">\n",
    "<h2> Student's comment</h2>\n",
    "\n",
    "Nice catch.  I changed the last line of code to target 'product_name' directly, the same way as above, adding dropna() to leave only non-null values in the count. \n",
    "</div>\n",
    "\n",
    "\n",
    "\n",
    "<font color='blue'> </font>     \n"
   ]
  },
  {
   "cell_type": "markdown",
   "id": "60f30db1",
   "metadata": {},
   "source": [
    "### `departments` data frame"
   ]
  },
  {
   "cell_type": "code",
   "execution_count": 86,
   "id": "fb410ad4-0fbf-4b80-bb09-23fdea79afe3",
   "metadata": {},
   "outputs": [
    {
     "data": {
      "text/plain": [
       "0"
      ]
     },
     "execution_count": 86,
     "metadata": {},
     "output_type": "execute_result"
    }
   ],
   "source": [
    "df_departments['department'].str.lower().duplicated().sum()"
   ]
  },
  {
   "cell_type": "code",
   "execution_count": 87,
   "id": "332b12bb",
   "metadata": {},
   "outputs": [
    {
     "data": {
      "text/plain": [
       "0"
      ]
     },
     "execution_count": 87,
     "metadata": {},
     "output_type": "execute_result"
    }
   ],
   "source": [
    "df_departments['department_id'].duplicated().sum()"
   ]
  },
  {
   "cell_type": "markdown",
   "id": "bd30d78e",
   "metadata": {},
   "source": [
    "<div class=\"alert alert-danger\" style=\"border-radius: 15px; box-shadow: 4px 4px 4px; border: 1px solid \">\n",
    "<b> Reviewer's comment  ❌</b>\n",
    "    \n",
    "Are there any duplicates in `department_id`? \n",
    "\n",
    "</div>\n",
    "<div class=\"alert alert-success\" style=\"border-radius: 15px; box-shadow: 4px 4px 4px; border: 1px solid \">\n",
    "<h2>Reviewer's comment 2 ✔️</h2>\n",
    "    \n",
    "\n",
    "Correct.    \n",
    "    \n",
    "</div>"
   ]
  },
  {
   "cell_type": "markdown",
   "id": "a7ac275b",
   "metadata": {},
   "source": [
    "<div class=\"alert alert-info\">\n",
    "<h2> Student's comment</h2>\n",
    "\n",
    "I changed the code to check both columns of df_departments individually.  If it's correct, there does not appear to be any duplicates.\n",
    "</div>\n",
    "\n",
    "\n",
    "\n",
    "<font color='blue'> </font>     \n"
   ]
  },
  {
   "cell_type": "markdown",
   "id": "889349c1",
   "metadata": {},
   "source": [
    "### `aisles` data frame"
   ]
  },
  {
   "cell_type": "code",
   "execution_count": 88,
   "id": "9da89fb9-4679-40f5-ad0d-c34df753a3f8",
   "metadata": {},
   "outputs": [
    {
     "data": {
      "text/plain": [
       "0"
      ]
     },
     "execution_count": 88,
     "metadata": {},
     "output_type": "execute_result"
    }
   ],
   "source": [
    "df_aisles['aisle'].str.lower().duplicated().sum()"
   ]
  },
  {
   "cell_type": "code",
   "execution_count": 89,
   "id": "da7c2822",
   "metadata": {},
   "outputs": [
    {
     "data": {
      "text/plain": [
       "0"
      ]
     },
     "execution_count": 89,
     "metadata": {},
     "output_type": "execute_result"
    }
   ],
   "source": [
    "df_aisles['aisle_id'].duplicated().sum()"
   ]
  },
  {
   "cell_type": "markdown",
   "id": "ac63826f",
   "metadata": {},
   "source": [
    "<div class=\"alert alert-danger\" style=\"border-radius: 15px; box-shadow: 4px 4px 4px; border: 1px solid \">\n",
    "<b> Reviewer's comment  ❌</b>\n",
    "    \n",
    "Are there any duplicates in `aisle_id`? \n",
    "\n",
    "</div>\n",
    "<div class=\"alert alert-success\" style=\"border-radius: 15px; box-shadow: 4px 4px 4px; border: 1px solid \">\n",
    "<h2>Reviewer's comment 2 ✔️</h2>\n",
    "    \n",
    "\n",
    "Very good. \n",
    "    \n",
    "</div>"
   ]
  },
  {
   "cell_type": "markdown",
   "id": "68026e8a",
   "metadata": {},
   "source": [
    "<div class=\"alert alert-info\">\n",
    "<h2> Student's comment</h2>\n",
    "\n",
    "Using the same method as with df_departments to check the df_aisles dataframe, there does not appear to be any duplicates. \n",
    "</div>\n",
    "\n",
    "\n",
    "\n",
    "<font color='blue'> </font>     \n"
   ]
  },
  {
   "cell_type": "markdown",
   "id": "274cd06a",
   "metadata": {},
   "source": [
    "### `order_products` data frame"
   ]
  },
  {
   "cell_type": "code",
   "execution_count": 90,
   "id": "52326689-84a8-4b8f-a881-7c68780f62c9",
   "metadata": {},
   "outputs": [
    {
     "data": {
      "text/plain": [
       "0"
      ]
     },
     "execution_count": 90,
     "metadata": {},
     "output_type": "execute_result"
    }
   ],
   "source": [
    "df_order_products.duplicated().sum()# Check for fullly duplicate rows\n"
   ]
  },
  {
   "cell_type": "code",
   "execution_count": 91,
   "id": "7b861391",
   "metadata": {},
   "outputs": [
    {
     "data": {
      "text/plain": [
       "4545005"
      ]
     },
     "execution_count": 91,
     "metadata": {},
     "output_type": "execute_result"
    }
   ],
   "source": [
    "df_order_products['reordered'].duplicated().sum()# Double check for any other tricky duplicates\n"
   ]
  },
  {
   "cell_type": "code",
   "execution_count": 92,
   "id": "d92459ce",
   "metadata": {},
   "outputs": [
    {
     "data": {
      "text/plain": [
       "4094961"
      ]
     },
     "execution_count": 92,
     "metadata": {},
     "output_type": "execute_result"
    }
   ],
   "source": [
    "df_order_products['order_id'].duplicated().sum()"
   ]
  },
  {
   "cell_type": "code",
   "execution_count": 93,
   "id": "4d16b200",
   "metadata": {},
   "outputs": [
    {
     "data": {
      "text/plain": [
       "4499434"
      ]
     },
     "execution_count": 93,
     "metadata": {},
     "output_type": "execute_result"
    }
   ],
   "source": [
    "df_order_products['product_id'].duplicated().sum()"
   ]
  },
  {
   "cell_type": "code",
   "execution_count": 94,
   "id": "e7adbb66",
   "metadata": {},
   "outputs": [
    {
     "data": {
      "text/plain": [
       "0"
      ]
     },
     "execution_count": 94,
     "metadata": {},
     "output_type": "execute_result"
    }
   ],
   "source": [
    "combo_repeats = df_order_products.filter(['order_id', 'product_id'])\n",
    "combo_repeats.duplicated().sum()"
   ]
  },
  {
   "cell_type": "markdown",
   "id": "a89ae46b",
   "metadata": {},
   "source": [
    "I checked to see if the 'reordered' column duplicates matched the DataFrame index length (minus the original 1 and 0)  to ensure no erroneous entries occured. Additionally, I checked the 'order_id' and 'product_id' columns for duplicates.  As expected, there are multiple product_ids and order_ids, as orders can have more than one product attached to them, and those products can repeat across multiple orders.  Furthermore, some orders are reordered, while others are not.\n"
   ]
  },
  {
   "cell_type": "markdown",
   "id": "2d409393",
   "metadata": {},
   "source": [
    "<div class=\"alert alert-danger\" style=\"border-radius: 15px; box-shadow: 4px 4px 4px; border: 1px solid \">\n",
    "<b> Reviewer's comment  ❌</b>\n",
    "    \n",
    "How do you know that there are no duplicates in the second output? Is it possible that in 10th row we can see 2 or 3 instead of 1? Can we make a conclusion based on the first and last 5 rows only? \n",
    "    \n",
    "</div>\n",
    "<div class=\"alert alert-danger\" style=\"border-radius: 15px; box-shadow: 4px 4px 4px; border: 1px solid \">\n",
    "<b> Reviewer's comment 2 ❌</b>\n",
    "    \n",
    "Are there any `'order_id'` - `'product_id'` duplicates?\n",
    "</div>\n",
    "<div class=\"alert alert-danger\" style=\"border-radius: 15px; box-shadow: 4px 4px 4px; border: 1px solid \">\n",
    "<b> Reviewer's comment  3 ❌</b>\n",
    "    \n",
    "Imagine you are looking for the duplicates in the dataframe: \n",
    "\n",
    "```python\n",
    "    \n",
    "John Smith 35\n",
    "    \n",
    "John Smith 8\n",
    "    \n",
    "John Adams 21\n",
    "```\n",
    "\n",
    "\n",
    "There are three columns: first name, last name, and age. If we apply `duplicated` to this dataframe, we will not find any duplicates, since at least one of the values differs. However, if we try to find `'first name' - 'last name'` duplicates, we will notice that there are two people with the same full name, John Smith. \n",
    "\n",
    "\n",
    "Apply the same logic and try to look for the `'order_id'` - `'product_id'` duplicates. </div>"
   ]
  },
  {
   "cell_type": "markdown",
   "id": "aadd8ce7",
   "metadata": {},
   "source": [
    "<div class=\"alert alert-info\">\n",
    "<h2> Student's comment 3</h2>\n",
    "\n",
    "I added a line to filter by 'order_id' and 'product_id'. Then checked for duplicates. \n",
    "</div>\n",
    "\n",
    "\n",
    "\n",
    "<font color='blue'> </font>"
   ]
  },
  {
   "cell_type": "markdown",
   "id": "a18a6a48",
   "metadata": {},
   "source": [
    "<div class=\"alert alert-success\" style=\"border-radius: 15px; box-shadow: 4px 4px 4px; border: 1px solid \">\n",
    "<h2> Reviewer's comment 4 ✔️</h2>\n",
    "    \n",
    "Excellent! \n",
    "    \n",
    "</div>"
   ]
  },
  {
   "cell_type": "markdown",
   "id": "d57e36ec",
   "metadata": {},
   "source": [
    "<div class=\"alert alert-info\">\n",
    "<h2> Student's comment 2</h2>\n",
    "\n",
    "Thank you for pointing that out. My assumption that repeats should be obvious in those columns tainted my output. I revised the code and expanded on this section's conclusion. \n",
    "</div>\n",
    "\n",
    "\n",
    "\n",
    "<font color='blue'> </font>"
   ]
  },
  {
   "cell_type": "markdown",
   "id": "16134f8f",
   "metadata": {},
   "source": [
    "<div class=\"alert alert-info\">\n",
    "<h2> Student's comment</h2>\n",
    "\n",
    "My inferrence from your comment above is that I should check 'reordered' for values other than 0 or 1.  I adjusted the code to do that. Is this correct? \n",
    "</div>\n",
    "\n",
    "\n",
    "\n",
    "<font color='blue'> </font>  "
   ]
  },
  {
   "cell_type": "markdown",
   "id": "b68a06b1",
   "metadata": {},
   "source": [
    "<div class=\"alert alert-success\" style=\"border-radius: 15px; box-shadow: 4px 4px 4px; border: 1px solid \">\n",
    "<h2>   Reviewer's comment 2 ✔️</h2>\n",
    "    \n",
    "If you `value_counts()`, it may be reasonable to print the unique values then.    \n",
    "</div>"
   ]
  },
  {
   "cell_type": "code",
   "execution_count": null,
   "id": "9137debc",
   "metadata": {},
   "outputs": [],
   "source": []
  },
  {
   "cell_type": "markdown",
   "id": "0b890492",
   "metadata": {},
   "source": []
  },
  {
   "cell_type": "markdown",
   "id": "1e46de76",
   "metadata": {},
   "source": [
    "## Find and remove missing values\n"
   ]
  },
  {
   "cell_type": "markdown",
   "id": "c0aebd78",
   "metadata": {},
   "source": [
    "### `products` data frame"
   ]
  },
  {
   "cell_type": "markdown",
   "id": "36f3deb1",
   "metadata": {},
   "source": [
    "<div class=\"alert alert-danger\" style=\"border-radius: 15px; box-shadow: 4px 4px 4px; border: 1px solid \">\n",
    "<b> Reviewer's comment  ❌</b>\n",
    "    \n",
    "Are there any missing values? Let's print their number.\n",
    "    \n",
    "    \n",
    "</div>\n",
    "<div class=\"alert alert-success\" style=\"border-radius: 15px; box-shadow: 4px 4px 4px; border: 1px solid \">\n",
    "<h2>   Reviewer's comment 2 ✔️</h2>\n",
    "    \n",
    "Good.\n",
    "    \n",
    "</div>"
   ]
  },
  {
   "cell_type": "code",
   "execution_count": 95,
   "id": "47665f9f",
   "metadata": {},
   "outputs": [
    {
     "data": {
      "text/plain": [
       "1258"
      ]
     },
     "execution_count": 95,
     "metadata": {},
     "output_type": "execute_result"
    }
   ],
   "source": [
    "df_products['product_name'].isnull().sum()"
   ]
  },
  {
   "cell_type": "code",
   "execution_count": 96,
   "id": "e96167bc",
   "metadata": {},
   "outputs": [
    {
     "data": {
      "text/plain": [
       "1258"
      ]
     },
     "execution_count": 96,
     "metadata": {},
     "output_type": "execute_result"
    }
   ],
   "source": [
    "(df_products['aisle_id'] == 100).sum()# Are all of the missing product names associated with aisle ID 100?"
   ]
  },
  {
   "cell_type": "code",
   "execution_count": 97,
   "id": "884eed55",
   "metadata": {},
   "outputs": [
    {
     "data": {
      "text/plain": [
       "1258"
      ]
     },
     "execution_count": 97,
     "metadata": {},
     "output_type": "execute_result"
    }
   ],
   "source": [
    "(df_products['department_id'] == 21).sum()# Are all of the missing product names associated with department ID 21?"
   ]
  },
  {
   "cell_type": "markdown",
   "id": "30627203",
   "metadata": {},
   "source": [
    "The number of rows for 'department_id' 21, and 'aisle_id' 100 are correlated exactly with the number of rows containing missing values in the data frame.\n"
   ]
  },
  {
   "cell_type": "markdown",
   "id": "54435cc3",
   "metadata": {},
   "source": [
    "<div class=\"alert alert-danger\" style=\"border-radius: 15px; box-shadow: 4px 4px 4px; border: 1px solid \">\n",
    "<b> Reviewer's comment  ❌</b>\n",
    "    \n",
    "- So, how do we answer the questions? Remember that we learn here to make a project for others. For this reason, it has to be clear for a reader. \n",
    "    \n",
    "\n",
    "- I recommend that you check them separately because `|` means `OR`. In other words, it is enough for one condition to be true. If we have aisle_id=100 in each row of the dataframe above, but department_id=21 in 50 rows only, we will still have the output above. \n",
    "\n",
    "</div>\n",
    "<div class=\"alert alert-success\" style=\"border-radius: 15px; box-shadow: 4px 4px 4px; border: 1px solid \">\n",
    "<h2>   Reviewer's comment 2 ✔️</h2>\n",
    "    \n",
    "Correct!     \n",
    "</div>"
   ]
  },
  {
   "cell_type": "markdown",
   "id": "2c6c8d47",
   "metadata": {},
   "source": [
    "<div class=\"alert alert-info\">\n",
    "<h2> Student's comment</h2>\n",
    "\n",
    "Thank you for clarifying that '|' will not gather all the requise information needed to draw an accurate conclusion. I split the code for each aisle/department, and added a line above to count the null values as well. \n",
    "</div>\n",
    "\n",
    "\n",
    "\n",
    "<font color='blue'> </font>"
   ]
  },
  {
   "cell_type": "code",
   "execution_count": 98,
   "id": "325c3464",
   "metadata": {},
   "outputs": [
    {
     "data": {
      "text/html": [
       "<div>\n",
       "<style scoped>\n",
       "    .dataframe tbody tr th:only-of-type {\n",
       "        vertical-align: middle;\n",
       "    }\n",
       "\n",
       "    .dataframe tbody tr th {\n",
       "        vertical-align: top;\n",
       "    }\n",
       "\n",
       "    .dataframe thead th {\n",
       "        text-align: right;\n",
       "    }\n",
       "</style>\n",
       "<table border=\"1\" class=\"dataframe\">\n",
       "  <thead>\n",
       "    <tr style=\"text-align: right;\">\n",
       "      <th></th>\n",
       "      <th>department_id</th>\n",
       "      <th>department</th>\n",
       "      <th>aisle_id</th>\n",
       "      <th>aisle</th>\n",
       "    </tr>\n",
       "  </thead>\n",
       "  <tbody>\n",
       "    <tr>\n",
       "      <th>20</th>\n",
       "      <td>21.0</td>\n",
       "      <td>missing</td>\n",
       "      <td>NaN</td>\n",
       "      <td>NaN</td>\n",
       "    </tr>\n",
       "    <tr>\n",
       "      <th>99</th>\n",
       "      <td>NaN</td>\n",
       "      <td>NaN</td>\n",
       "      <td>100.0</td>\n",
       "      <td>missing</td>\n",
       "    </tr>\n",
       "  </tbody>\n",
       "</table>\n",
       "</div>"
      ],
      "text/plain": [
       "    department_id department  aisle_id    aisle\n",
       "20           21.0    missing       NaN      NaN\n",
       "99            NaN        NaN     100.0  missing"
      ]
     },
     "execution_count": 98,
     "metadata": {},
     "output_type": "execute_result"
    }
   ],
   "source": [
    "df_dept = df_departments[df_departments['department_id'] == 21]# What is this ailse and department?\n",
    "df_aisle = df_aisles[df_aisles['aisle_id'] == 100]\n",
    "df_list = pd.concat([df_dept, df_aisle])\n",
    "\n",
    "df_list"
   ]
  },
  {
   "cell_type": "markdown",
   "id": "8d7be139",
   "metadata": {},
   "source": [
    "'department 21' and 'aisle 100' are both labeled 'missing'\n"
   ]
  },
  {
   "cell_type": "markdown",
   "id": "534ba68a",
   "metadata": {},
   "source": [
    "<div class=\"alert alert-danger\" style=\"border-radius: 15px; box-shadow: 4px 4px 4px; border: 1px solid \">\n",
    "<b> Reviewer's comment  ❌</b>\n",
    "    \n",
    "What is this ailse and department? Please answer the questions explicitly.     \n",
    "</div>\n",
    "<div class=\"alert alert-success\" style=\"border-radius: 15px; box-shadow: 4px 4px 4px; border: 1px solid \">\n",
    "<h2> Reviewer's comment 2 ✔️</h2>\n",
    "    \n",
    "Yes, each missing product name has a `'missing'` label. \n",
    "</div>"
   ]
  },
  {
   "cell_type": "code",
   "execution_count": 99,
   "id": "6b295120",
   "metadata": {},
   "outputs": [],
   "source": [
    "df_products['product_name'] = df_products['product_name'].fillna('Unknown')# Fill missing product names with 'Unknown'\n"
   ]
  },
  {
   "cell_type": "markdown",
   "id": "2933fe2d",
   "metadata": {},
   "source": [
    "To start, I filtered df_products on the conditions where aisle_id = 100 and department_id = 21 to see all the product names associated with both. Then, I concatenated df_departments and df_aisles on the same filters to find the aisle name and department name that were associated with them. I then used fillna() to insert \"Unknown\" into the rows where \"product_name\" had missing values.\n"
   ]
  },
  {
   "cell_type": "markdown",
   "id": "fc70e5ad",
   "metadata": {},
   "source": [
    "<div class=\"alert alert-warning\" style=\"border-radius: 15px; box-shadow: 4px 4px 4px; border: 1px solid \">\n",
    "<h2> Reviewer's comment ⚠️</h2>\n",
    "    \n",
    "A missing value is not en empty row. Empty row may indicate someting, while missing value is the absence of any value. \n",
    "\n",
    "</div>"
   ]
  },
  {
   "cell_type": "markdown",
   "id": "a8d82351",
   "metadata": {},
   "source": [
    "<div class=\"alert alert-info\">\n",
    "<h2> Student's comment</h2>\n",
    "\n",
    "I removed \"replace('', 'Unknown')\" from the code, as to not alter any empty rows. \n",
    "</div>\n",
    "\n",
    "\n",
    "\n",
    "<font color='blue'> </font>"
   ]
  },
  {
   "cell_type": "markdown",
   "id": "39b2f42d",
   "metadata": {},
   "source": [
    "<div class=\"alert alert-success\" style=\"border-radius: 15px; box-shadow: 4px 4px 4px; border: 1px solid \">\n",
    "<h2> Reviewer's comment 2  ✔️</h2>\n",
    "    \n",
    "Good. \n",
    "    \n",
    "</div>"
   ]
  },
  {
   "cell_type": "markdown",
   "id": "7eb45c86",
   "metadata": {},
   "source": [
    "### `orders` data frame"
   ]
  },
  {
   "cell_type": "markdown",
   "id": "0dd7b529",
   "metadata": {},
   "source": [
    "<div class=\"alert alert-danger\" style=\"border-radius: 15px; box-shadow: 4px 4px 4px; border: 1px solid \">\n",
    "<b> Reviewer's comment  ❌</b>\n",
    "    \n",
    "Check for the missing values please. \n",
    "    \n",
    "</div>"
   ]
  },
  {
   "cell_type": "code",
   "execution_count": 100,
   "id": "55d2f9e4",
   "metadata": {},
   "outputs": [
    {
     "data": {
      "text/plain": [
       "order_id                      0\n",
       "user_id                       0\n",
       "order_number                  0\n",
       "order_dow                     0\n",
       "order_hour_of_day             0\n",
       "days_since_prior_order    28817\n",
       "dtype: int64"
      ]
     },
     "execution_count": 100,
     "metadata": {},
     "output_type": "execute_result"
    }
   ],
   "source": [
    "df_ic_orders.isnull().sum()"
   ]
  },
  {
   "cell_type": "markdown",
   "id": "af3e9951",
   "metadata": {},
   "source": [
    "'days_since_prior_order' contains 28817 missing values. These are likely for users who have not placed an order.\n",
    "</div>\n",
    "\n",
    "<font color='orange'> </font>"
   ]
  },
  {
   "cell_type": "markdown",
   "id": "4934d87c",
   "metadata": {},
   "source": [
    "<div class=\"alert alert-info\">\n",
    "<h2> Student's comment</h2>\n",
    "\n",
    "I think the line below does check for missing values pertaining to non-first orders?  I added a line above to check the entire unaltered dataframe for missing values, in case that's what you meant. I changed isna() to isnull() to be consistent, but I believe they do the same thing. I'm a little confused here, because comment 23 says \"correct.\" \n",
    "</div>\n",
    "\n",
    "\n",
    "\n",
    "<font color='blue'> </font>"
   ]
  },
  {
   "cell_type": "markdown",
   "id": "2d2f1fa7",
   "metadata": {},
   "source": [
    "<div class=\"alert alert-success\" style=\"border-radius: 15px; box-shadow: 4px 4px 4px; border: 1px solid \">\n",
    "<h2> Reviewer's comment 2  ✔️</h2>\n",
    "    \n",
    "The section is called \"Find a remove missing values\", so it makes sense to check each dataframe for the missing values first. \n",
    "    \n",
    "</div>"
   ]
  },
  {
   "cell_type": "code",
   "execution_count": 101,
   "id": "166e5a86",
   "metadata": {
    "scrolled": true
   },
   "outputs": [
    {
     "data": {
      "text/plain": [
       "order_id                  0\n",
       "user_id                   0\n",
       "order_number              0\n",
       "order_dow                 0\n",
       "order_hour_of_day         0\n",
       "days_since_prior_order    0\n",
       "dtype: int64"
      ]
     },
     "execution_count": 101,
     "metadata": {},
     "output_type": "execute_result"
    }
   ],
   "source": [
    "df_ic_orders[(df_ic_orders['order_number'] != 1)].isnull().sum()# Are there any missing values where it's not a customer's first order?\n"
   ]
  },
  {
   "cell_type": "markdown",
   "id": "a1764d6b",
   "metadata": {},
   "source": [
    "I called isnull().sum() on df_ic_orders with the condition that \"order_number\" does not equal 1 to check for missing values for customers with multiple orders.\n"
   ]
  },
  {
   "cell_type": "markdown",
   "id": "4e23d089",
   "metadata": {},
   "source": [
    "<div class=\"alert alert-success\" style=\"border-radius: 15px; box-shadow: 4px 4px 4px; border: 1px solid \">\n",
    "<h2>   Reviewer's comment ✔️</h2>\n",
    "    \n",
    "Correct.\n",
    "\n",
    "</div>"
   ]
  },
  {
   "cell_type": "markdown",
   "id": "69dc9ca4",
   "metadata": {},
   "source": [
    "### `order_products` data frame"
   ]
  },
  {
   "cell_type": "markdown",
   "id": "f693e271",
   "metadata": {},
   "source": [
    "<div class=\"alert alert-danger\" style=\"border-radius: 15px; box-shadow: 4px 4px 4px; border: 1px solid \">\n",
    "<b> Reviewer's comment ❌</b>\n",
    "    \n",
    "Are there any missing values? \n",
    "    \n",
    "</div>"
   ]
  },
  {
   "cell_type": "code",
   "execution_count": 102,
   "id": "8bc6eae4",
   "metadata": {},
   "outputs": [
    {
     "data": {
      "text/plain": [
       "order_id               0\n",
       "product_id             0\n",
       "add_to_cart_order    836\n",
       "reordered              0\n",
       "dtype: int64"
      ]
     },
     "execution_count": 102,
     "metadata": {},
     "output_type": "execute_result"
    }
   ],
   "source": [
    "df_order_products.isnull().sum()"
   ]
  },
  {
   "cell_type": "code",
   "execution_count": 103,
   "id": "9a78e5ee",
   "metadata": {},
   "outputs": [
    {
     "data": {
      "text/plain": [
       "(1.0, 64.0)"
      ]
     },
     "execution_count": 103,
     "metadata": {},
     "output_type": "execute_result"
    }
   ],
   "source": [
    "ord_prod_min = df_order_products['add_to_cart_order'].min()# What are the min and max values in this column?\n",
    "ord_prod_max = df_order_products['add_to_cart_order'].max()\n",
    "ord_prod_min, ord_prod_max"
   ]
  },
  {
   "cell_type": "code",
   "execution_count": 104,
   "id": "ab9d0c2b",
   "metadata": {},
   "outputs": [
    {
     "data": {
      "text/html": [
       "<div>\n",
       "<style scoped>\n",
       "    .dataframe tbody tr th:only-of-type {\n",
       "        vertical-align: middle;\n",
       "    }\n",
       "\n",
       "    .dataframe tbody tr th {\n",
       "        vertical-align: top;\n",
       "    }\n",
       "\n",
       "    .dataframe thead th {\n",
       "        text-align: right;\n",
       "    }\n",
       "</style>\n",
       "<table border=\"1\" class=\"dataframe\">\n",
       "  <thead>\n",
       "    <tr style=\"text-align: right;\">\n",
       "      <th></th>\n",
       "      <th>product_id</th>\n",
       "      <th>add_to_cart_order</th>\n",
       "      <th>reordered</th>\n",
       "    </tr>\n",
       "    <tr>\n",
       "      <th>order_id</th>\n",
       "      <th></th>\n",
       "      <th></th>\n",
       "      <th></th>\n",
       "    </tr>\n",
       "  </thead>\n",
       "  <tbody>\n",
       "    <tr>\n",
       "      <th>9310</th>\n",
       "      <td>65</td>\n",
       "      <td>64</td>\n",
       "      <td>65</td>\n",
       "    </tr>\n",
       "    <tr>\n",
       "      <th>747668</th>\n",
       "      <td>65</td>\n",
       "      <td>64</td>\n",
       "      <td>65</td>\n",
       "    </tr>\n",
       "    <tr>\n",
       "      <th>1598369</th>\n",
       "      <td>65</td>\n",
       "      <td>64</td>\n",
       "      <td>65</td>\n",
       "    </tr>\n",
       "    <tr>\n",
       "      <th>1677118</th>\n",
       "      <td>65</td>\n",
       "      <td>64</td>\n",
       "      <td>65</td>\n",
       "    </tr>\n",
       "    <tr>\n",
       "      <th>2170451</th>\n",
       "      <td>65</td>\n",
       "      <td>64</td>\n",
       "      <td>65</td>\n",
       "    </tr>\n",
       "    <tr>\n",
       "      <th>...</th>\n",
       "      <td>...</td>\n",
       "      <td>...</td>\n",
       "      <td>...</td>\n",
       "    </tr>\n",
       "    <tr>\n",
       "      <th>1959075</th>\n",
       "      <td>98</td>\n",
       "      <td>64</td>\n",
       "      <td>98</td>\n",
       "    </tr>\n",
       "    <tr>\n",
       "      <th>171934</th>\n",
       "      <td>104</td>\n",
       "      <td>64</td>\n",
       "      <td>104</td>\n",
       "    </tr>\n",
       "    <tr>\n",
       "      <th>2136777</th>\n",
       "      <td>108</td>\n",
       "      <td>64</td>\n",
       "      <td>108</td>\n",
       "    </tr>\n",
       "    <tr>\n",
       "      <th>3308010</th>\n",
       "      <td>115</td>\n",
       "      <td>64</td>\n",
       "      <td>115</td>\n",
       "    </tr>\n",
       "    <tr>\n",
       "      <th>61355</th>\n",
       "      <td>127</td>\n",
       "      <td>64</td>\n",
       "      <td>127</td>\n",
       "    </tr>\n",
       "  </tbody>\n",
       "</table>\n",
       "<p>70 rows × 3 columns</p>\n",
       "</div>"
      ],
      "text/plain": [
       "          product_id  add_to_cart_order  reordered\n",
       "order_id                                          \n",
       "9310              65                 64         65\n",
       "747668            65                 64         65\n",
       "1598369           65                 64         65\n",
       "1677118           65                 64         65\n",
       "2170451           65                 64         65\n",
       "...              ...                ...        ...\n",
       "1959075           98                 64         98\n",
       "171934           104                 64        104\n",
       "2136777          108                 64        108\n",
       "3308010          115                 64        115\n",
       "61355            127                 64        127\n",
       "\n",
       "[70 rows x 3 columns]"
      ]
     },
     "execution_count": 104,
     "metadata": {},
     "output_type": "execute_result"
    }
   ],
   "source": [
    "order_missing = df_order_products[df_order_products['add_to_cart_order'].isna() == True]# Save all order IDs with at least one missing value in 'add_to_cart_order'\n",
    "orders = order_missing.order_id.unique()\n",
    "match_orders = df_order_products[df_order_products['order_id'].isin(orders)]\n",
    "order_unique = match_orders.groupby('order_id').count()\n",
    "order_unique.sort_values(by='reordered')\n"
   ]
  },
  {
   "cell_type": "markdown",
   "id": "4f84d0e0",
   "metadata": {},
   "source": [
    "<div class=\"alert alert-danger\" style=\"border-radius: 15px; box-shadow: 4px 4px 4px; border: 1px solid \">\n",
    "<b> Reviewer's comment ❌</b>\n",
    "    \n",
    "Does this answer the question? :) \n",
    "    \n",
    "</div>\n",
    "<div class=\"alert alert-danger\" style=\"border-radius: 15px; box-shadow: 4px 4px 4px; border: 1px solid \">\n",
    "<b> Reviewer's comment 2 ❌</b>\n",
    "    \n",
    "Reconsider this solution please. First, take unique `order_id` values from the dataframe where `add_to_cart_order` are Nan-s. Then find rows in the `order_products` dataframe where `order_id` is in the list of unique values found before. Then group by `order_id` and count. \n",
    "\n",
    "</div>\n",
    "<div class=\"alert alert-danger\" style=\"border-radius: 15px; box-shadow: 4px 4px 4px; border: 1px solid \">\n",
    "<b> Reviewer's comment 3 ❌</b>\n",
    "    \n",
    "Just follow these instructions step by step :) \n",
    "</div>"
   ]
  },
  {
   "cell_type": "markdown",
   "id": "78bffe1e",
   "metadata": {},
   "source": [
    "<div class=\"alert alert-info\">\n",
    "<h2> Student's comment 2</h2>\n",
    "\n",
    "Thank you for the guidance here. I added additional code to try to achieve what you suggested above.  I hope this is along those lines.\n",
    "</div>\n",
    "\n",
    "\n",
    "\n",
    "<font color='blue'> </font>"
   ]
  },
  {
   "cell_type": "markdown",
   "id": "ce91079b",
   "metadata": {},
   "source": [
    "<div class=\"alert alert-info\">\n",
    "<h2> Student's comment</h2>\n",
    "\n",
    "Third time's the charm... I attempted to follow your instructions as explicitly as I could.  Is this is what you were looking for? 🤞🏼 \n",
    "</div>\n",
    "\n",
    "\n",
    "\n",
    "<font color='blue'> </font>"
   ]
  },
  {
   "cell_type": "markdown",
   "id": "e8e6a134",
   "metadata": {},
   "source": [
    "<div class=\"alert alert-danger\" style=\"border-radius: 15px; box-shadow: 4px 4px 4px; border: 1px solid \">\n",
    "<b>   Reviewer's comment 4 ❌</b>\n",
    "    \n",
    "This is not what I am looking for but what the task asks us about :) Now, we need to answer the question. How can we do that? Well, we can either sort the result to take a look at the minimum value of the `reordered` column or we can just print the minimum value. Don't look at the `add_to_cart_order` colum. It had some Nans, which could be the reason why we have 64 there. \n",
    "</div>"
   ]
  },
  {
   "cell_type": "markdown",
   "id": "5e17cd6f",
   "metadata": {},
   "source": [
    "<div class=\"alert alert-info\">\n",
    "<h2> Student's comment</h2>\n",
    "\n",
    "Fourth time's the charm :) Thank you Sveta! \n",
    "</div>\n",
    "\n",
    "\n",
    "\n",
    "<font color='blue'> </font> "
   ]
  },
  {
   "cell_type": "code",
   "execution_count": 105,
   "id": "7a987d08",
   "metadata": {},
   "outputs": [],
   "source": [
    "df_order_products['add_to_cart_order'] = df_order_products['add_to_cart_order'].fillna(999).astype(np.int64)# Replace missing values with 999 and convert column to integer type\n"
   ]
  },
  {
   "cell_type": "markdown",
   "id": "d8d328df",
   "metadata": {},
   "source": [
    "I identified the order_id's with at least one missing value by using the condition isna() = True on the add_to_cart_order column, then filtered the dataframe to locate the unique order id's. I circled back to the initial dataframe to match the initial order_id's to the unique ones, and grouped by them. There are 70 order id's with at least one missing value. I sorted the 'reordered' values in ascending order to find the minimum amount beginning at 65. Orders reordered more than 64 times were automatically entered as 'Nan' in the 'add_to_cart_order' column. I filled the missing order data with '999' and changed the data type to int64, using fillna() and astype().\n"
   ]
  },
  {
   "cell_type": "markdown",
   "id": "fea4bcc7",
   "metadata": {},
   "source": [
    "<div class=\"alert alert-success\" style=\"border-radius: 15px; box-shadow: 4px 4px 4px; border: 1px solid \">\n",
    "<h2> Reviewer's comment ✔️</h2>\n",
    "    \n",
    "Great! Now we are ready for the exploratory data analysis. \n",
    "\n",
    "</div>"
   ]
  },
  {
   "cell_type": "markdown",
   "id": "turkish-kidney",
   "metadata": {},
   "source": [
    "# [A] Easy (must complete all to pass)"
   ]
  },
  {
   "cell_type": "markdown",
   "id": "short-capability",
   "metadata": {},
   "source": [
    "### [A1] Verify that the `'order_hour_of_day'` and `'order_dow'` values in the `orders` tables are sensible (i.e. `'order_hour_of_day'` ranges from 0 to 23 and `'order_dow'` ranges from 0 to 6)"
   ]
  },
  {
   "cell_type": "code",
   "execution_count": 36,
   "id": "growing-fruit",
   "metadata": {},
   "outputs": [
    {
     "data": {
      "text/plain": [
       "(0, 23)"
      ]
     },
     "execution_count": 36,
     "metadata": {},
     "output_type": "execute_result"
    }
   ],
   "source": [
    "ohod_min = df_ic_orders['order_hour_of_day'].min()\n",
    "ohod_max = df_ic_orders['order_hour_of_day'].max()\n",
    "ohod_min, ohod_max"
   ]
  },
  {
   "cell_type": "code",
   "execution_count": 37,
   "id": "48214cd2",
   "metadata": {},
   "outputs": [
    {
     "data": {
      "text/plain": [
       "(0, 6)"
      ]
     },
     "execution_count": 37,
     "metadata": {},
     "output_type": "execute_result"
    }
   ],
   "source": [
    "odow_min = df_ic_orders['order_dow'].min()\n",
    "odow_max = df_ic_orders['order_dow'].max()\n",
    "odow_min, odow_max"
   ]
  },
  {
   "cell_type": "markdown",
   "id": "4241e3d4",
   "metadata": {},
   "source": [
    "\n",
    "It makes sense that order_hour_of_day range from 0 to 23 to correspond with 24 hours in a day. Similarly, 'order_dow' ranges from 0 to 6 to correspond with 7 days of the week. Above, it is verified that 0 is the minimum value recorded in both columns, and 23 is the maximum value recorded for 'order_hour_of_day', while 6 is the maximum value recorded for 'order_dow'.\n",
    "</div>\n",
    "\n",
    "<font color='orange'> </font>"
   ]
  },
  {
   "cell_type": "markdown",
   "id": "ac3579bd",
   "metadata": {},
   "source": [
    "<div class=\"alert alert-danger\" style=\"border-radius: 15px; box-shadow: 4px 4px 4px; border: 1px solid \">\n",
    "<b> Reviewer's comment  ❌</b>\n",
    "    \n",
    "> Verified\n",
    "    \n",
    "    \n",
    "Elaborate on this please :) Any reader must understand what is going on in your projects without analyzing the code. \n",
    "    \n",
    "</div>\n",
    "<div class=\"alert alert-success\" style=\"border-radius: 15px; box-shadow: 4px 4px 4px; border: 1px solid \">\n",
    "<h2> Reviewer's comment 2 ✔️</h2>\n",
    "    \n",
    "Great! \n",
    "\n",
    "</div>"
   ]
  },
  {
   "cell_type": "markdown",
   "id": "a6743a70",
   "metadata": {},
   "source": [
    "### [A2] What time of day do people shop for groceries?"
   ]
  },
  {
   "cell_type": "code",
   "execution_count": 38,
   "id": "a36cca27",
   "metadata": {},
   "outputs": [
    {
     "data": {
      "image/png": "[encoded data removed]",
      "text/plain": [
       "<Figure size 864x648 with 1 Axes>"
      ]
     },
     "metadata": {
      "needs_background": "light"
     },
     "output_type": "display_data"
    }
   ],
   "source": [
    "\n",
    "df_ic_orders['order_hour_of_day'].plot(kind='hist', \n",
    "                                       bins=24, \n",
    "                                       edgecolor='white', \n",
    "                                       figsize=(12, 9),  \n",
    "                                       title='Hourly Shopping proportions')\n",
    "\n",
    "plt.xlabel(\"Time of Day\")\n",
    "plt.ylabel(\"Shopping Volume\")\n",
    "plt.show()"
   ]
  },
  {
   "cell_type": "markdown",
   "id": "7192e7da",
   "metadata": {},
   "source": [
    "The histogram shows the hourly shopping proportions over 24 hours. Hours are on the x-axis, and shopping volume on the y-axis. The majority of shopping begins to ramp up in the late morning around 9am, peaking at 10am and remainging over 35,000 orders until about 2pm, where the action begins to taper off thereafter."
   ]
  },
  {
   "cell_type": "markdown",
   "id": "11270eed",
   "metadata": {},
   "source": [
    "<div class=\"alert alert-danger\" style=\"border-radius: 15px; box-shadow: 4px 4px 4px; border: 1px solid \">\n",
    "<b> Reviewer's comment  ❌</b>\n",
    "    \n",
    "Does the average tell us enough about user's behavior? Try to display the distribution here.     \n",
    "</div>\n",
    "<div class=\"alert alert-success\" style=\"border-radius: 15px; box-shadow: 4px 4px 4px; border: 1px solid \">\n",
    "<h2> Reviewer's comment 2 ✔️</h2>\n",
    "    \n",
    "    \n",
    "Very good chart 👍 So, most orders occur between 9 AM and 5 PM.\n",
    "\n",
    "\n",
    "</div>"
   ]
  },
  {
   "cell_type": "markdown",
   "id": "documented-command",
   "metadata": {},
   "source": [
    "### [A3] What day of the week do people shop for groceries?"
   ]
  },
  {
   "cell_type": "code",
   "execution_count": 39,
   "id": "chief-digit",
   "metadata": {},
   "outputs": [
    {
     "data": {
      "image/png": "[encoded data removed]",
      "text/plain": [
       "<Figure size 864x648 with 1 Axes>"
      ]
     },
     "metadata": {
      "needs_background": "light"
     },
     "output_type": "display_data"
    }
   ],
   "source": [
    "df_ic_orders['order_dow'].plot(kind='hist', \n",
    "                               figsize=(12, 9), \n",
    "                               title='Daily Shopping proportions',\n",
    "                               edgecolor='white')\n",
    "plt.xlabel(\"Day of the Week\")\n",
    "plt.ylabel(\"Shopping Volume\")\n",
    "plt.show()"
   ]
  },
  {
   "cell_type": "markdown",
   "id": "d3db2c6f",
   "metadata": {},
   "source": [
    "The histogram portrays daily shopping proportions Monday through Sunday.  Monday and Tuesday having the most shopping volume with both over 80,000 orders. The shopping volume tapers over the rest of the week hovering around  60,000 orders."
   ]
  },
  {
   "cell_type": "markdown",
   "id": "dominant-lightning",
   "metadata": {},
   "source": [
    "<div class=\"alert alert-danger\" style=\"border-radius: 15px; box-shadow: 4px 4px 4px; border: 1px solid \">\n",
    "<b> Reviewer's comment  ❌</b>\n",
    "    \n",
    "Same issue. \n",
    "    \n",
    "</div>\n",
    "<div class=\"alert alert-success\" style=\"border-radius: 15px; box-shadow: 4px 4px 4px; border: 1px solid \">\n",
    "<h2> Reviewer's comment 2 ✔️</h2>\n",
    "    \n",
    "    \n",
    "Correct.     \n",
    "</div>\n",
    "<div class=\"alert alert-warning\" style=\"border-radius: 15px; box-shadow: 4px 4px 4px; border: 1px solid \">\n",
    "<h2>  Reviewer's comment 2 ⚠️</h2>\n",
    "    \n",
    "\n",
    "Since we have less than 20-30 values, a simple bar chart would be a better choice. \n",
    "    \n",
    "</div>"
   ]
  },
  {
   "cell_type": "markdown",
   "id": "cutting-concert",
   "metadata": {},
   "source": [
    "### [A4] How long do people wait until placing another order?"
   ]
  },
  {
   "cell_type": "code",
   "execution_count": 40,
   "id": "c231f523",
   "metadata": {},
   "outputs": [
    {
     "data": {
      "image/png": "[encoded data removed]",
      "text/plain": [
       "<Figure size 864x648 with 1 Axes>"
      ]
     },
     "metadata": {
      "needs_background": "light"
     },
     "output_type": "display_data"
    }
   ],
   "source": [
    "df_ic_orders['days_since_prior_order'].plot(kind='hist', \n",
    "                                            bins=31, \n",
    "                                            edgecolor='white', \n",
    "                                            figsize=(12, 9), \n",
    "                                            title='Time between orders')\n",
    "plt.xlabel(\"Days\")\n",
    "plt.ylabel(\"Shoppers\")\n",
    "plt.show()"
   ]
  },
  {
   "cell_type": "markdown",
   "id": "discrete-vertex",
   "metadata": {},
   "source": [
    "The histogram shows most users space orders about a month or more apart. While 7 to 8 day spacing looks to be the most popular span among more frequent shoppers."
   ]
  },
  {
   "cell_type": "markdown",
   "id": "31c3c762",
   "metadata": {},
   "source": [
    "<div class=\"alert alert-danger\" style=\"border-radius: 15px; box-shadow: 4px 4px 4px; border: 1px solid \">\n",
    "<b> Reviewer's comment  ❌</b>\n",
    "    \n",
    "Same issue here as well. \n",
    "    \n",
    "</div>\n",
    "<div class=\"alert alert-success\" style=\"border-radius: 15px; box-shadow: 4px 4px 4px; border: 1px solid \">\n",
    "<h2> Reviewer's comment 2 ✔️</h2>\n",
    "    \n",
    "    \n",
    "Some people may make an order once a month.   \n",
    "</div>"
   ]
  },
  {
   "cell_type": "markdown",
   "id": "8d926614",
   "metadata": {},
   "source": []
  },
  {
   "cell_type": "markdown",
   "id": "tight-staff",
   "metadata": {},
   "source": [
    "# [B] Medium (must complete all to pass)"
   ]
  },
  {
   "cell_type": "markdown",
   "id": "packed-classic",
   "metadata": {},
   "source": [
    "### [B1] Is there a difference in `'order_hour_of_day'` distributions on Wednesdays and Saturdays? Plot the histograms for both days and describe the differences that you see."
   ]
  },
  {
   "cell_type": "code",
   "execution_count": 41,
   "id": "d89b8403",
   "metadata": {},
   "outputs": [
    {
     "data": {
      "image/png": "[encoded data removed]",
      "text/plain": [
       "<Figure size 720x576 with 1 Axes>"
      ]
     },
     "metadata": {
      "needs_background": "light"
     },
     "output_type": "display_data"
    }
   ],
   "source": [
    "df_ic_orders[df_ic_orders['order_dow'] == 2]['order_hour_of_day'].plot(kind='hist', \n",
    "                                                                       bins=45, \n",
    "                                                                       figsize=(10, 8), \n",
    "                                                                       title='Orders: Wednesdays vs Saturdays')\n",
    "df_ic_orders[df_ic_orders['order_dow'] == 5]['order_hour_of_day'].plot(kind='hist', bins=45, \n",
    "                                                                       figsize=(10, 8), alpha=0.6, \n",
    "                                                                       title='Orders: Wednesdays vs Saturdays')\n",
    "plt.legend(['Wednesday', 'Saturday'])\n",
    "plt.xlabel(\"Hour of Day\")\n",
    "plt.ylabel(\"Placed Orders\")\n",
    "plt.show()"
   ]
  },
  {
   "cell_type": "markdown",
   "id": "85f87bcd",
   "metadata": {},
   "source": [
    "note a very similar pattern for both Wednesday and Saturday, with Wednesday having slightly more order frequency most hours from 8am to 11pm."
   ]
  },
  {
   "cell_type": "markdown",
   "id": "3d9bb1f5",
   "metadata": {},
   "source": [
    "<div class=\"alert alert-success\" style=\"border-radius: 15px; box-shadow: 4px 4px 4px; border: 1px solid \">\n",
    "<h2> Reviewer's comment ✔️</h2>\n",
    "    \n",
    "    \n",
    "Very good. \n",
    "\n",
    "</div>\n",
    "<div class=\"alert alert-warning\" style=\"border-radius: 15px; box-shadow: 4px 4px 4px; border: 1px solid \">\n",
    "<b>  Reviewer's comment ⚠️</b>\n",
    "    \n",
    "\n",
    "By the way, add `plt.show()` or semicolon at the end of the code to get rid of the row above the graph.\n",
    "</div>\n",
    "<div class=\"alert alert-danger\" style=\"border-radius: 15px; box-shadow: 4px 4px 4px; border: 1px solid \">\n",
    "<b> Reviewer's comment ❌</b>\n",
    "    \n",
    "\n",
    "- `Frequency` label may seem unclear for a reader. Please make sure that each chart has lucid labels and titles. \n",
    "\n",
    "\n",
    "- Add X-axis label please.\n",
    "\n",
    "</div>\n",
    "<div class=\"alert alert-success\" style=\"border-radius: 15px; box-shadow: 4px 4px 4px; border: 1px solid \">\n",
    "<h2> Reviewer's comment 2 ✔️</h2>\n",
    "    \n",
    "    \n",
    "Looks great! \n",
    "</div>"
   ]
  },
  {
   "cell_type": "markdown",
   "id": "0f7f49fe",
   "metadata": {},
   "source": [
    "<div class=\"alert alert-info\">\n",
    "<h2> Student's comment</h2>\n",
    "\n",
    "Thank you for the pointed guidance here.  I added and figured out how to modify all the charts above.  It should be noted though, that the method taught in the data visualizualization lesson for labeling the axes does not work here. I had to use plt.xlabel()/plt.ylabel() vs the taught method which was \"df.plot(xlabel=\"X\", ylabel=\"Y\"...)\n",
    "</div>\n",
    "\n",
    "\n",
    "\n",
    "<font color='blue'> </font>"
   ]
  },
  {
   "cell_type": "markdown",
   "id": "007bdf11",
   "metadata": {},
   "source": [
    "<div class=\"alert alert-success\" style=\"border-radius: 15px; box-shadow: 4px 4px 4px; border: 1px solid \">\n",
    "<h2> Reviewer's comment 2 ✔️</h2>\n",
    "    \n",
    "    \n",
    "Yes, with the histograms this method may not work, so just define them explicitly.\n",
    "\n",
    "</div>"
   ]
  },
  {
   "cell_type": "markdown",
   "id": "charitable-congo",
   "metadata": {},
   "source": []
  },
  {
   "cell_type": "markdown",
   "id": "e3891143",
   "metadata": {},
   "source": [
    "### [B2] What's the distribution for the number of orders per customer?"
   ]
  },
  {
   "cell_type": "code",
   "execution_count": 42,
   "id": "d8c26c23",
   "metadata": {},
   "outputs": [
    {
     "data": {
      "text/plain": [
       "user_id\n",
       "2         2\n",
       "4         2\n",
       "5         1\n",
       "6         2\n",
       "7         2\n",
       "         ..\n",
       "206203    1\n",
       "206206    7\n",
       "206207    5\n",
       "206208    9\n",
       "206209    2\n",
       "Name: order_id, Length: 157437, dtype: int64"
      ]
     },
     "execution_count": 42,
     "metadata": {},
     "output_type": "execute_result"
    }
   ],
   "source": [
    "customer_order_dist = df_ic_orders.groupby('user_id')['order_id'].nunique()\n",
    "customer_order_dist"
   ]
  },
  {
   "cell_type": "code",
   "execution_count": 43,
   "id": "00e69a66",
   "metadata": {},
   "outputs": [
    {
     "data": {
      "image/png": "[encoded data removed]",
      "text/plain": [
       "<Figure size 720x576 with 1 Axes>"
      ]
     },
     "metadata": {
      "needs_background": "light"
     },
     "output_type": "display_data"
    }
   ],
   "source": [
    "customer_order_dist.plot(kind='hist', \n",
    "                         bins=28, \n",
    "                         title='Number of orders per customer',\n",
    "                         figsize=(10,8),\n",
    "                         edgecolor='white')\n",
    "plt.xlabel(\"Orders\")\n",
    "plt.ylabel(\"# of Users\")\n",
    "plt.show()"
   ]
  },
  {
   "cell_type": "markdown",
   "id": "a8bc5700",
   "metadata": {},
   "source": [
    "The histogram portrays most users have placed about 2-3 orders, tapering off as order number ascends. "
   ]
  },
  {
   "cell_type": "markdown",
   "id": "d2eff7d5",
   "metadata": {},
   "source": [
    "<div class=\"alert alert-danger\" style=\"border-radius: 15px; box-shadow: 4px 4px 4px; border: 1px solid \">\n",
    "<b> Reviewer's comment ❌</b>\n",
    "    \n",
    "\n",
    "Don't forget to add a conclusion and update labels here. \n",
    "    \n",
    "\n",
    "</div>\n",
    "<div class=\"alert alert-success\" style=\"border-radius: 15px; box-shadow: 4px 4px 4px; border: 1px solid \">\n",
    "<h2> Reviewer's comment 2 ✔️</h2>\n",
    "    \n",
    "    \n",
    "Good. \n",
    "\n",
    "</div>"
   ]
  },
  {
   "cell_type": "markdown",
   "id": "54a0319c",
   "metadata": {},
   "source": [
    "### [B3] What are the top 20 popular products (display their id and name)?"
   ]
  },
  {
   "cell_type": "code",
   "execution_count": 44,
   "id": "exterior-arizona",
   "metadata": {
    "scrolled": true
   },
   "outputs": [],
   "source": [
    "all_prod = df_order_products.merge(df_products, on='product_id')"
   ]
  },
  {
   "cell_type": "code",
   "execution_count": 45,
   "id": "universal-facial",
   "metadata": {},
   "outputs": [],
   "source": [
    "top_prod = all_prod.groupby(['product_id', 'product_name']).size().reset_index()"
   ]
  },
  {
   "cell_type": "code",
   "execution_count": 46,
   "id": "bbcdd20b",
   "metadata": {
    "scrolled": true
   },
   "outputs": [
    {
     "data": {
      "text/html": [
       "<div>\n",
       "<style scoped>\n",
       "    .dataframe tbody tr th:only-of-type {\n",
       "        vertical-align: middle;\n",
       "    }\n",
       "\n",
       "    .dataframe tbody tr th {\n",
       "        vertical-align: top;\n",
       "    }\n",
       "\n",
       "    .dataframe thead th {\n",
       "        text-align: right;\n",
       "    }\n",
       "</style>\n",
       "<table border=\"1\" class=\"dataframe\">\n",
       "  <thead>\n",
       "    <tr style=\"text-align: right;\">\n",
       "      <th></th>\n",
       "      <th>product_id</th>\n",
       "      <th>product_name</th>\n",
       "      <th>total_orders</th>\n",
       "    </tr>\n",
       "  </thead>\n",
       "  <tbody>\n",
       "    <tr>\n",
       "      <th>0</th>\n",
       "      <td>24852</td>\n",
       "      <td>Banana</td>\n",
       "      <td>66050</td>\n",
       "    </tr>\n",
       "    <tr>\n",
       "      <th>1</th>\n",
       "      <td>13176</td>\n",
       "      <td>Bag of Organic Bananas</td>\n",
       "      <td>53297</td>\n",
       "    </tr>\n",
       "    <tr>\n",
       "      <th>2</th>\n",
       "      <td>21137</td>\n",
       "      <td>Organic Strawberries</td>\n",
       "      <td>37039</td>\n",
       "    </tr>\n",
       "    <tr>\n",
       "      <th>3</th>\n",
       "      <td>21903</td>\n",
       "      <td>Organic Baby Spinach</td>\n",
       "      <td>33971</td>\n",
       "    </tr>\n",
       "    <tr>\n",
       "      <th>4</th>\n",
       "      <td>47209</td>\n",
       "      <td>Organic Hass Avocado</td>\n",
       "      <td>29773</td>\n",
       "    </tr>\n",
       "    <tr>\n",
       "      <th>5</th>\n",
       "      <td>47766</td>\n",
       "      <td>Organic Avocado</td>\n",
       "      <td>24689</td>\n",
       "    </tr>\n",
       "    <tr>\n",
       "      <th>6</th>\n",
       "      <td>47626</td>\n",
       "      <td>Large Lemon</td>\n",
       "      <td>21495</td>\n",
       "    </tr>\n",
       "    <tr>\n",
       "      <th>7</th>\n",
       "      <td>16797</td>\n",
       "      <td>Strawberries</td>\n",
       "      <td>20018</td>\n",
       "    </tr>\n",
       "    <tr>\n",
       "      <th>8</th>\n",
       "      <td>26209</td>\n",
       "      <td>Limes</td>\n",
       "      <td>19690</td>\n",
       "    </tr>\n",
       "    <tr>\n",
       "      <th>9</th>\n",
       "      <td>27845</td>\n",
       "      <td>Organic Whole Milk</td>\n",
       "      <td>19600</td>\n",
       "    </tr>\n",
       "    <tr>\n",
       "      <th>10</th>\n",
       "      <td>27966</td>\n",
       "      <td>Organic Raspberries</td>\n",
       "      <td>19197</td>\n",
       "    </tr>\n",
       "    <tr>\n",
       "      <th>11</th>\n",
       "      <td>22935</td>\n",
       "      <td>Organic Yellow Onion</td>\n",
       "      <td>15898</td>\n",
       "    </tr>\n",
       "    <tr>\n",
       "      <th>12</th>\n",
       "      <td>24964</td>\n",
       "      <td>Organic Garlic</td>\n",
       "      <td>15292</td>\n",
       "    </tr>\n",
       "    <tr>\n",
       "      <th>13</th>\n",
       "      <td>45007</td>\n",
       "      <td>Organic Zucchini</td>\n",
       "      <td>14584</td>\n",
       "    </tr>\n",
       "    <tr>\n",
       "      <th>14</th>\n",
       "      <td>39275</td>\n",
       "      <td>Organic Blueberries</td>\n",
       "      <td>13879</td>\n",
       "    </tr>\n",
       "    <tr>\n",
       "      <th>15</th>\n",
       "      <td>49683</td>\n",
       "      <td>Cucumber Kirby</td>\n",
       "      <td>13675</td>\n",
       "    </tr>\n",
       "    <tr>\n",
       "      <th>16</th>\n",
       "      <td>28204</td>\n",
       "      <td>Organic Fuji Apple</td>\n",
       "      <td>12544</td>\n",
       "    </tr>\n",
       "    <tr>\n",
       "      <th>17</th>\n",
       "      <td>5876</td>\n",
       "      <td>Organic Lemon</td>\n",
       "      <td>12232</td>\n",
       "    </tr>\n",
       "    <tr>\n",
       "      <th>18</th>\n",
       "      <td>8277</td>\n",
       "      <td>Apple Honeycrisp Organic</td>\n",
       "      <td>11993</td>\n",
       "    </tr>\n",
       "    <tr>\n",
       "      <th>19</th>\n",
       "      <td>40706</td>\n",
       "      <td>Organic Grape Tomatoes</td>\n",
       "      <td>11781</td>\n",
       "    </tr>\n",
       "  </tbody>\n",
       "</table>\n",
       "</div>"
      ],
      "text/plain": [
       "    product_id              product_name  total_orders\n",
       "0        24852                    Banana         66050\n",
       "1        13176    Bag of Organic Bananas         53297\n",
       "2        21137      Organic Strawberries         37039\n",
       "3        21903      Organic Baby Spinach         33971\n",
       "4        47209      Organic Hass Avocado         29773\n",
       "5        47766           Organic Avocado         24689\n",
       "6        47626               Large Lemon         21495\n",
       "7        16797              Strawberries         20018\n",
       "8        26209                     Limes         19690\n",
       "9        27845        Organic Whole Milk         19600\n",
       "10       27966       Organic Raspberries         19197\n",
       "11       22935      Organic Yellow Onion         15898\n",
       "12       24964            Organic Garlic         15292\n",
       "13       45007          Organic Zucchini         14584\n",
       "14       39275       Organic Blueberries         13879\n",
       "15       49683            Cucumber Kirby         13675\n",
       "16       28204        Organic Fuji Apple         12544\n",
       "17        5876             Organic Lemon         12232\n",
       "18        8277  Apple Honeycrisp Organic         11993\n",
       "19       40706    Organic Grape Tomatoes         11781"
      ]
     },
     "execution_count": 46,
     "metadata": {},
     "output_type": "execute_result"
    }
   ],
   "source": [
    "most_ordered_prod = top_prod.sort_values(by= 0, ascending=False)\n",
    "most_ordered_prod.rename(columns= {0: 'total_orders'}, inplace = True)\n",
    "most_ordered_prod.head(20).reset_index().drop(axis=1, columns='index')\n"
   ]
  },
  {
   "cell_type": "code",
   "execution_count": 47,
   "id": "93c5df62",
   "metadata": {
    "scrolled": true
   },
   "outputs": [
    {
     "data": {
      "image/png": "[encoded data removed]",
      "text/plain": [
       "<Figure size 1008x720 with 1 Axes>"
      ]
     },
     "metadata": {
      "needs_background": "light"
     },
     "output_type": "display_data"
    }
   ],
   "source": [
    "top_20 = most_ordered_prod.filter(['product_name', 'total_orders']).head(20)\n",
    "top_20.plot(kind='bar',\n",
    "            figsize=(14,10),\n",
    "            legend=False)\n",
    "plt.xticks(ticks=range(0, 20), labels=top_20['product_name'].to_list()) \n",
    "plt.xlabel(\"Products\")\n",
    "plt.ylabel(\"Number of Orders\")\n",
    "plt.show()"
   ]
  },
  {
   "cell_type": "markdown",
   "id": "e7e46a6d",
   "metadata": {},
   "source": [
    "The top 20 most popular products consist of 100% organic and non-organic produce, with bananas (non-organic & bag of organic) as the top two most popular products by far. Instacart users go bananas for bananas ;P"
   ]
  },
  {
   "cell_type": "markdown",
   "id": "7df00f47",
   "metadata": {},
   "source": [
    "\n",
    "<div class=\"alert alert-success\" style=\"border-radius: 15px; box-shadow: 4px 4px 4px; border: 1px solid \">\n",
    "<h2> Reviewer's comment ✔️</h2>\n",
    "    \n",
    "    \n",
    "Good! \n",
    "\n",
    "</div>\n",
    "<div class=\"alert alert-warning\" style=\"border-radius: 15px; box-shadow: 4px 4px 4px; border: 1px solid \">\n",
    "<b> Reviewer's comment  ⚠️</b>\n",
    "    \n",
    "\n",
    "You can also add a graph here. \n",
    "</div>\n",
    "<div class=\"alert alert-danger\" style=\"border-radius: 15px; box-shadow: 4px 4px 4px; border: 1px solid \">\n",
    "<b> Reviewer's comment ❌</b>\n",
    "    \n",
    "\n",
    "Any conclusion? :) \n",
    "\n",
    "</div>\n",
    "<div class=\"alert alert-success\" style=\"border-radius: 15px; box-shadow: 4px 4px 4px; border: 1px solid \">\n",
    "<h2> Reviewer's comment 2 ✔️</h2>\n",
    "    \n",
    "    \n",
    "Good job!  \n",
    "\n",
    "</div>"
   ]
  },
  {
   "cell_type": "markdown",
   "id": "60fd7ad3",
   "metadata": {},
   "source": [
    "<div class=\"alert alert-info\">\n",
    "<h2> Student's comment</h2>\n",
    "\n",
    "Reformatted, and added conclusion above. \n",
    "</div>\n",
    "\n",
    "\n",
    "\n",
    "<font color='blue'> </font>"
   ]
  },
  {
   "cell_type": "markdown",
   "id": "gross-theme",
   "metadata": {},
   "source": [
    "# [C] Hard (must complete at least two to pass)"
   ]
  },
  {
   "cell_type": "markdown",
   "id": "romantic-deposit",
   "metadata": {},
   "source": [
    "### [C1] How many items do people typically buy in one order? What does the distribution look like?"
   ]
  },
  {
   "cell_type": "code",
   "execution_count": 48,
   "id": "virtual-punch",
   "metadata": {},
   "outputs": [
    {
     "data": {
      "text/html": [
       "<div>\n",
       "<style scoped>\n",
       "    .dataframe tbody tr th:only-of-type {\n",
       "        vertical-align: middle;\n",
       "    }\n",
       "\n",
       "    .dataframe tbody tr th {\n",
       "        vertical-align: top;\n",
       "    }\n",
       "\n",
       "    .dataframe thead th {\n",
       "        text-align: right;\n",
       "    }\n",
       "</style>\n",
       "<table border=\"1\" class=\"dataframe\">\n",
       "  <thead>\n",
       "    <tr style=\"text-align: right;\">\n",
       "      <th></th>\n",
       "      <th>product_id</th>\n",
       "    </tr>\n",
       "    <tr>\n",
       "      <th>order_id</th>\n",
       "      <th></th>\n",
       "    </tr>\n",
       "  </thead>\n",
       "  <tbody>\n",
       "    <tr>\n",
       "      <th>4</th>\n",
       "      <td>13</td>\n",
       "    </tr>\n",
       "    <tr>\n",
       "      <th>9</th>\n",
       "      <td>15</td>\n",
       "    </tr>\n",
       "    <tr>\n",
       "      <th>11</th>\n",
       "      <td>5</td>\n",
       "    </tr>\n",
       "    <tr>\n",
       "      <th>19</th>\n",
       "      <td>3</td>\n",
       "    </tr>\n",
       "    <tr>\n",
       "      <th>20</th>\n",
       "      <td>8</td>\n",
       "    </tr>\n",
       "    <tr>\n",
       "      <th>...</th>\n",
       "      <td>...</td>\n",
       "    </tr>\n",
       "    <tr>\n",
       "      <th>3421034</th>\n",
       "      <td>17</td>\n",
       "    </tr>\n",
       "    <tr>\n",
       "      <th>3421053</th>\n",
       "      <td>9</td>\n",
       "    </tr>\n",
       "    <tr>\n",
       "      <th>3421071</th>\n",
       "      <td>5</td>\n",
       "    </tr>\n",
       "    <tr>\n",
       "      <th>3421077</th>\n",
       "      <td>4</td>\n",
       "    </tr>\n",
       "    <tr>\n",
       "      <th>3421079</th>\n",
       "      <td>1</td>\n",
       "    </tr>\n",
       "  </tbody>\n",
       "</table>\n",
       "<p>450046 rows × 1 columns</p>\n",
       "</div>"
      ],
      "text/plain": [
       "          product_id\n",
       "order_id            \n",
       "4                 13\n",
       "9                 15\n",
       "11                 5\n",
       "19                 3\n",
       "20                 8\n",
       "...              ...\n",
       "3421034           17\n",
       "3421053            9\n",
       "3421071            5\n",
       "3421077            4\n",
       "3421079            1\n",
       "\n",
       "[450046 rows x 1 columns]"
      ]
     },
     "execution_count": 48,
     "metadata": {},
     "output_type": "execute_result"
    }
   ],
   "source": [
    "orders_items = pd.pivot_table(df_order_products, index=['order_id'], values=['product_id'], aggfunc='count')\n",
    "orders_items"
   ]
  },
  {
   "cell_type": "code",
   "execution_count": 49,
   "id": "completed-frank",
   "metadata": {},
   "outputs": [
    {
     "data": {
      "image/png": "[encoded data removed]",
      "text/plain": [
       "<Figure size 720x576 with 1 Axes>"
      ]
     },
     "metadata": {
      "needs_background": "light"
     },
     "output_type": "display_data"
    }
   ],
   "source": [
    "orders_items.plot(kind='hist', \n",
    "                  bins=41, \n",
    "                  title='Items per order', \n",
    "                  figsize=(10,8),\n",
    "                  xlim = (0, 60),\n",
    "                  legend=False,\n",
    "                  edgecolor='white')\n",
    "\n",
    "plt.xlabel('Items')\n",
    "plt.ylabel('Orders')\n",
    "plt.show()"
   ]
  },
  {
   "cell_type": "markdown",
   "id": "68362802",
   "metadata": {},
   "source": [
    "The histogram shows us that the amount of items per order is typically between 1 to 5 items."
   ]
  },
  {
   "cell_type": "markdown",
   "id": "designed-mortality",
   "metadata": {},
   "source": [
    "<div class=\"alert alert-success\" style=\"border-radius: 15px; box-shadow: 4px 4px 4px; border: 1px solid \">\n",
    "<h2> Reviewer's comment ✔️</h2>\n",
    "    \n",
    "\n",
    "Yes, a simple hist is a good solution here. \n",
    "\n",
    "</div>\n",
    "<div class=\"alert alert-warning\" style=\"border-radius: 15px; box-shadow: 4px 4px 4px; border: 1px solid \">\n",
    "<h2> Reviewer's comment ⚠️</h2>\n",
    "    \n",
    "\n",
    "Legend can be removed.\n",
    "\n",
    "</div>\n",
    "<div class=\"alert alert-danger\" style=\"border-radius: 15px; box-shadow: 4px 4px 4px; border: 1px solid \">\n",
    "<b> Reviewer's comment ❌</b>\n",
    "    \n",
    "Conclusion and labels :) \n",
    "    \n",
    "    \n",
    "</div>"
   ]
  },
  {
   "cell_type": "markdown",
   "id": "5e6b5537",
   "metadata": {},
   "source": [
    "### [C2] What are the top 20 items that are reordered most frequently (display their names and product IDs)?"
   ]
  },
  {
   "cell_type": "code",
   "execution_count": 50,
   "id": "9374e55a",
   "metadata": {},
   "outputs": [],
   "source": [
    "reorder_names = df_order_products.merge(df_products, on='product_id')\n",
    "count_id = reorder_names.filter(['product_id', 'product_name', 'reordered'])\n",
    "count_id = count_id[count_id['reordered'] == 1]"
   ]
  },
  {
   "cell_type": "code",
   "execution_count": 51,
   "id": "possible-change",
   "metadata": {
    "scrolled": true
   },
   "outputs": [],
   "source": [
    "count_id = pd.pivot_table(count_id, index=['product_id', 'product_name'], values=['product_id'], aggfunc='count')"
   ]
  },
  {
   "cell_type": "code",
   "execution_count": 52,
   "id": "professional-surfing",
   "metadata": {
    "scrolled": false
   },
   "outputs": [
    {
     "data": {
      "text/html": [
       "<div>\n",
       "<style scoped>\n",
       "    .dataframe tbody tr th:only-of-type {\n",
       "        vertical-align: middle;\n",
       "    }\n",
       "\n",
       "    .dataframe tbody tr th {\n",
       "        vertical-align: top;\n",
       "    }\n",
       "\n",
       "    .dataframe thead th {\n",
       "        text-align: right;\n",
       "    }\n",
       "</style>\n",
       "<table border=\"1\" class=\"dataframe\">\n",
       "  <thead>\n",
       "    <tr style=\"text-align: right;\">\n",
       "      <th></th>\n",
       "      <th></th>\n",
       "      <th>reordered</th>\n",
       "    </tr>\n",
       "    <tr>\n",
       "      <th>product_id</th>\n",
       "      <th>product_name</th>\n",
       "      <th></th>\n",
       "    </tr>\n",
       "  </thead>\n",
       "  <tbody>\n",
       "    <tr>\n",
       "      <th>24852</th>\n",
       "      <th>Banana</th>\n",
       "      <td>55763</td>\n",
       "    </tr>\n",
       "    <tr>\n",
       "      <th>13176</th>\n",
       "      <th>Bag of Organic Bananas</th>\n",
       "      <td>44450</td>\n",
       "    </tr>\n",
       "    <tr>\n",
       "      <th>21137</th>\n",
       "      <th>Organic Strawberries</th>\n",
       "      <td>28639</td>\n",
       "    </tr>\n",
       "    <tr>\n",
       "      <th>21903</th>\n",
       "      <th>Organic Baby Spinach</th>\n",
       "      <td>26233</td>\n",
       "    </tr>\n",
       "    <tr>\n",
       "      <th>47209</th>\n",
       "      <th>Organic Hass Avocado</th>\n",
       "      <td>23629</td>\n",
       "    </tr>\n",
       "    <tr>\n",
       "      <th>47766</th>\n",
       "      <th>Organic Avocado</th>\n",
       "      <td>18743</td>\n",
       "    </tr>\n",
       "    <tr>\n",
       "      <th>27845</th>\n",
       "      <th>Organic Whole Milk</th>\n",
       "      <td>16251</td>\n",
       "    </tr>\n",
       "    <tr>\n",
       "      <th>47626</th>\n",
       "      <th>Large Lemon</th>\n",
       "      <td>15044</td>\n",
       "    </tr>\n",
       "    <tr>\n",
       "      <th>27966</th>\n",
       "      <th>Organic Raspberries</th>\n",
       "      <td>14748</td>\n",
       "    </tr>\n",
       "    <tr>\n",
       "      <th>16797</th>\n",
       "      <th>Strawberries</th>\n",
       "      <td>13945</td>\n",
       "    </tr>\n",
       "    <tr>\n",
       "      <th>26209</th>\n",
       "      <th>Limes</th>\n",
       "      <td>13327</td>\n",
       "    </tr>\n",
       "    <tr>\n",
       "      <th>22935</th>\n",
       "      <th>Organic Yellow Onion</th>\n",
       "      <td>11145</td>\n",
       "    </tr>\n",
       "    <tr>\n",
       "      <th>24964</th>\n",
       "      <th>Organic Garlic</th>\n",
       "      <td>10411</td>\n",
       "    </tr>\n",
       "    <tr>\n",
       "      <th>45007</th>\n",
       "      <th>Organic Zucchini</th>\n",
       "      <td>10076</td>\n",
       "    </tr>\n",
       "    <tr>\n",
       "      <th>49683</th>\n",
       "      <th>Cucumber Kirby</th>\n",
       "      <td>9538</td>\n",
       "    </tr>\n",
       "    <tr>\n",
       "      <th>28204</th>\n",
       "      <th>Organic Fuji Apple</th>\n",
       "      <td>8989</td>\n",
       "    </tr>\n",
       "    <tr>\n",
       "      <th>8277</th>\n",
       "      <th>Apple Honeycrisp Organic</th>\n",
       "      <td>8836</td>\n",
       "    </tr>\n",
       "    <tr>\n",
       "      <th>39275</th>\n",
       "      <th>Organic Blueberries</th>\n",
       "      <td>8799</td>\n",
       "    </tr>\n",
       "    <tr>\n",
       "      <th>5876</th>\n",
       "      <th>Organic Lemon</th>\n",
       "      <td>8412</td>\n",
       "    </tr>\n",
       "    <tr>\n",
       "      <th>49235</th>\n",
       "      <th>Organic Half &amp; Half</th>\n",
       "      <td>8389</td>\n",
       "    </tr>\n",
       "  </tbody>\n",
       "</table>\n",
       "</div>"
      ],
      "text/plain": [
       "                                     reordered\n",
       "product_id product_name                       \n",
       "24852      Banana                        55763\n",
       "13176      Bag of Organic Bananas        44450\n",
       "21137      Organic Strawberries          28639\n",
       "21903      Organic Baby Spinach          26233\n",
       "47209      Organic Hass Avocado          23629\n",
       "47766      Organic Avocado               18743\n",
       "27845      Organic Whole Milk            16251\n",
       "47626      Large Lemon                   15044\n",
       "27966      Organic Raspberries           14748\n",
       "16797      Strawberries                  13945\n",
       "26209      Limes                         13327\n",
       "22935      Organic Yellow Onion          11145\n",
       "24964      Organic Garlic                10411\n",
       "45007      Organic Zucchini              10076\n",
       "49683      Cucumber Kirby                 9538\n",
       "28204      Organic Fuji Apple             8989\n",
       "8277       Apple Honeycrisp Organic       8836\n",
       "39275      Organic Blueberries            8799\n",
       "5876       Organic Lemon                  8412\n",
       "49235      Organic Half & Half            8389"
      ]
     },
     "execution_count": 52,
     "metadata": {},
     "output_type": "execute_result"
    }
   ],
   "source": [
    "top_reorders = count_id.reindex(count_id.sort_values(by='reordered', ascending=False).index)\n",
    "top_reorders = top_reorders.drop_duplicates()\n",
    "top_reorders.head(20)"
   ]
  },
  {
   "cell_type": "code",
   "execution_count": 53,
   "id": "efa81c5f",
   "metadata": {},
   "outputs": [
    {
     "data": {
      "text/plain": [
       "reordered    1145\n",
       "dtype: int64"
      ]
     },
     "execution_count": 53,
     "metadata": {},
     "output_type": "execute_result"
    }
   ],
   "source": [
    "top_reorders.nunique()"
   ]
  },
  {
   "cell_type": "markdown",
   "id": "ddf511f8",
   "metadata": {},
   "source": [
    "The top 20 items reorderd most frequently is nearly identical to the top 20 most popular products list.  Many of the products listed here have a relatively limited shelf life."
   ]
  },
  {
   "cell_type": "markdown",
   "id": "11717b54",
   "metadata": {},
   "source": [
    "<div class=\"alert alert-danger\" style=\"border-radius: 15px; box-shadow: 4px 4px 4px; border: 1px solid \">\n",
    "<b> Reviewer's comment ❌</b>\n",
    "    \n",
    "Second column is not the number of reorders. \n",
    "\n",
    "</div>"
   ]
  },
  {
   "cell_type": "markdown",
   "id": "80e70c74",
   "metadata": {},
   "source": [
    "<div class=\"alert alert-success\" style=\"border-radius: 15px; box-shadow: 4px 4px 4px; border: 1px solid \">\n",
    "<h2> Reviewer's comment ✔️</h2>\n",
    "    \n",
    "\n",
    "It means you are conducting some heavy calculations. For instance, if you try to plot a bar chart without grouping a dataframe that has hundreds of rows, the kernel will die because it cannot plot so many bars. \n",
    "    \n",
    "    \n",
    "However, I do not see kernel dying when I run your code. Try to restart it and run again.\n",
    "    \n",
    "</div>"
   ]
  },
  {
   "cell_type": "markdown",
   "id": "66ebd396",
   "metadata": {},
   "source": [
    "<div class=\"alert alert-info\">\n",
    "<h2> Student's comment</h2>\n",
    "\n",
    "Thank you for explaining. I revised the code above, and it fixed the initial problem.\n",
    "</div>\n",
    "\n",
    "\n",
    "\n",
    "<font color='blue'> </font> "
   ]
  },
  {
   "cell_type": "markdown",
   "id": "6ccac377",
   "metadata": {},
   "source": [
    "<div class=\"alert alert-success\" style=\"border-radius: 15px; box-shadow: 4px 4px 4px; border: 1px solid \">\n",
    "<h2> Reviewer's comment 2 ✔️</h2>\n",
    "    \n",
    "    \n",
    "Glad to help! \n",
    "</div>"
   ]
  },
  {
   "cell_type": "markdown",
   "id": "9d312b14",
   "metadata": {},
   "source": [
    "### [C3] For each product, what proportion of its orders are reorders?"
   ]
  },
  {
   "cell_type": "code",
   "execution_count": 54,
   "id": "8ae9f4b1",
   "metadata": {},
   "outputs": [],
   "source": [
    "prop_prod_reordered = top_reorders.merge(most_ordered_prod, on='product_name')"
   ]
  },
  {
   "cell_type": "code",
   "execution_count": 55,
   "id": "31363a25",
   "metadata": {},
   "outputs": [
    {
     "data": {
      "text/html": [
       "<div>\n",
       "<style scoped>\n",
       "    .dataframe tbody tr th:only-of-type {\n",
       "        vertical-align: middle;\n",
       "    }\n",
       "\n",
       "    .dataframe tbody tr th {\n",
       "        vertical-align: top;\n",
       "    }\n",
       "\n",
       "    .dataframe thead th {\n",
       "        text-align: right;\n",
       "    }\n",
       "</style>\n",
       "<table border=\"1\" class=\"dataframe\">\n",
       "  <thead>\n",
       "    <tr style=\"text-align: right;\">\n",
       "      <th></th>\n",
       "      <th>product_name</th>\n",
       "      <th>reorder_percent</th>\n",
       "    </tr>\n",
       "  </thead>\n",
       "  <tbody>\n",
       "    <tr>\n",
       "      <th>0</th>\n",
       "      <td>Banana</td>\n",
       "      <td>0.844254</td>\n",
       "    </tr>\n",
       "    <tr>\n",
       "      <th>1</th>\n",
       "      <td>Bag of Organic Bananas</td>\n",
       "      <td>0.834006</td>\n",
       "    </tr>\n",
       "    <tr>\n",
       "      <th>2</th>\n",
       "      <td>Organic Strawberries</td>\n",
       "      <td>0.773212</td>\n",
       "    </tr>\n",
       "    <tr>\n",
       "      <th>3</th>\n",
       "      <td>Organic Baby Spinach</td>\n",
       "      <td>0.772217</td>\n",
       "    </tr>\n",
       "    <tr>\n",
       "      <th>4</th>\n",
       "      <td>Organic Hass Avocado</td>\n",
       "      <td>0.793639</td>\n",
       "    </tr>\n",
       "    <tr>\n",
       "      <th>...</th>\n",
       "      <td>...</td>\n",
       "      <td>...</td>\n",
       "    </tr>\n",
       "    <tr>\n",
       "      <th>1140</th>\n",
       "      <td>White Stevia Powder</td>\n",
       "      <td>0.714286</td>\n",
       "    </tr>\n",
       "    <tr>\n",
       "      <th>1141</th>\n",
       "      <td>Size 4 Diapers</td>\n",
       "      <td>0.210526</td>\n",
       "    </tr>\n",
       "    <tr>\n",
       "      <th>1142</th>\n",
       "      <td>Whole Bean Medium Roast Decaf Coffee</td>\n",
       "      <td>0.750000</td>\n",
       "    </tr>\n",
       "    <tr>\n",
       "      <th>1143</th>\n",
       "      <td>Lemon And Shallot Vinaigrette</td>\n",
       "      <td>0.250000</td>\n",
       "    </tr>\n",
       "    <tr>\n",
       "      <th>1144</th>\n",
       "      <td>Chocolate Decorating Decors</td>\n",
       "      <td>0.333333</td>\n",
       "    </tr>\n",
       "  </tbody>\n",
       "</table>\n",
       "<p>1145 rows × 2 columns</p>\n",
       "</div>"
      ],
      "text/plain": [
       "                              product_name  reorder_percent\n",
       "0                                   Banana         0.844254\n",
       "1                   Bag of Organic Bananas         0.834006\n",
       "2                     Organic Strawberries         0.773212\n",
       "3                     Organic Baby Spinach         0.772217\n",
       "4                     Organic Hass Avocado         0.793639\n",
       "...                                    ...              ...\n",
       "1140                   White Stevia Powder         0.714286\n",
       "1141                        Size 4 Diapers         0.210526\n",
       "1142  Whole Bean Medium Roast Decaf Coffee         0.750000\n",
       "1143         Lemon And Shallot Vinaigrette         0.250000\n",
       "1144           Chocolate Decorating Decors         0.333333\n",
       "\n",
       "[1145 rows x 2 columns]"
      ]
     },
     "execution_count": 55,
     "metadata": {},
     "output_type": "execute_result"
    }
   ],
   "source": [
    "prop_prod_reordered['reorder_percent'] = prop_prod_reordered['reordered'] / prop_prod_reordered['total_orders']\n",
    "prop_prod_reordered.filter(['product_name', 'reorder_percent'])"
   ]
  },
  {
   "cell_type": "markdown",
   "id": "107993e6",
   "metadata": {},
   "source": [
    "<div class=\"alert alert-danger\" style=\"border-radius: 15px; box-shadow: 4px 4px 4px; border: 1px solid \">\n",
    "<b> Reviewer's comment  ❌</b>\n",
    "    \n",
    "- Why are you taking `top_prod` if we are not asked to conduct the analysis among the top 20 products? \n",
    "\n",
    "\n",
    "- After you fix the issue in the section above, the result will change. \n",
    "\n",
    "</div>\n",
    "<div class=\"alert alert-success\" style=\"border-radius: 15px; box-shadow: 4px 4px 4px; border: 1px solid \">\n",
    "<h2> Reviewer's comment 2 ✔️</h2>\n",
    "    \n",
    "    \n",
    "It's correct. \n",
    "\n",
    "</div>"
   ]
  },
  {
   "cell_type": "markdown",
   "id": "subject-boxing",
   "metadata": {},
   "source": [
    "### [C4] For each customer, what proportion of their products ordered are reorders?"
   ]
  },
  {
   "cell_type": "code",
   "execution_count": 56,
   "id": "medical-couple",
   "metadata": {
    "scrolled": true
   },
   "outputs": [
    {
     "data": {
      "text/html": [
       "<div>\n",
       "<style scoped>\n",
       "    .dataframe tbody tr th:only-of-type {\n",
       "        vertical-align: middle;\n",
       "    }\n",
       "\n",
       "    .dataframe tbody tr th {\n",
       "        vertical-align: top;\n",
       "    }\n",
       "\n",
       "    .dataframe thead th {\n",
       "        text-align: right;\n",
       "    }\n",
       "</style>\n",
       "<table border=\"1\" class=\"dataframe\">\n",
       "  <thead>\n",
       "    <tr style=\"text-align: right;\">\n",
       "      <th>reordered</th>\n",
       "      <th>0</th>\n",
       "      <th>1</th>\n",
       "      <th>all_orders</th>\n",
       "      <th>reorder_proportions</th>\n",
       "    </tr>\n",
       "    <tr>\n",
       "      <th>user_id</th>\n",
       "      <th></th>\n",
       "      <th></th>\n",
       "      <th></th>\n",
       "      <th></th>\n",
       "    </tr>\n",
       "  </thead>\n",
       "  <tbody>\n",
       "    <tr>\n",
       "      <th>2</th>\n",
       "      <td>25.0</td>\n",
       "      <td>1.0</td>\n",
       "      <td>26.0</td>\n",
       "      <td>0.038462</td>\n",
       "    </tr>\n",
       "    <tr>\n",
       "      <th>5</th>\n",
       "      <td>4.0</td>\n",
       "      <td>8.0</td>\n",
       "      <td>12.0</td>\n",
       "      <td>0.666667</td>\n",
       "    </tr>\n",
       "    <tr>\n",
       "      <th>7</th>\n",
       "      <td>1.0</td>\n",
       "      <td>13.0</td>\n",
       "      <td>14.0</td>\n",
       "      <td>0.928571</td>\n",
       "    </tr>\n",
       "    <tr>\n",
       "      <th>11</th>\n",
       "      <td>12.0</td>\n",
       "      <td>3.0</td>\n",
       "      <td>15.0</td>\n",
       "      <td>0.200000</td>\n",
       "    </tr>\n",
       "    <tr>\n",
       "      <th>12</th>\n",
       "      <td>9.0</td>\n",
       "      <td>3.0</td>\n",
       "      <td>12.0</td>\n",
       "      <td>0.250000</td>\n",
       "    </tr>\n",
       "    <tr>\n",
       "      <th>...</th>\n",
       "      <td>...</td>\n",
       "      <td>...</td>\n",
       "      <td>...</td>\n",
       "      <td>...</td>\n",
       "    </tr>\n",
       "    <tr>\n",
       "      <th>206203</th>\n",
       "      <td>21.0</td>\n",
       "      <td>6.0</td>\n",
       "      <td>27.0</td>\n",
       "      <td>0.222222</td>\n",
       "    </tr>\n",
       "    <tr>\n",
       "      <th>206206</th>\n",
       "      <td>6.0</td>\n",
       "      <td>15.0</td>\n",
       "      <td>21.0</td>\n",
       "      <td>0.714286</td>\n",
       "    </tr>\n",
       "    <tr>\n",
       "      <th>206207</th>\n",
       "      <td>5.0</td>\n",
       "      <td>41.0</td>\n",
       "      <td>46.0</td>\n",
       "      <td>0.891304</td>\n",
       "    </tr>\n",
       "    <tr>\n",
       "      <th>206208</th>\n",
       "      <td>38.0</td>\n",
       "      <td>87.0</td>\n",
       "      <td>125.0</td>\n",
       "      <td>0.696000</td>\n",
       "    </tr>\n",
       "    <tr>\n",
       "      <th>206209</th>\n",
       "      <td>17.0</td>\n",
       "      <td>8.0</td>\n",
       "      <td>25.0</td>\n",
       "      <td>0.320000</td>\n",
       "    </tr>\n",
       "  </tbody>\n",
       "</table>\n",
       "<p>124889 rows × 4 columns</p>\n",
       "</div>"
      ],
      "text/plain": [
       "reordered     0     1  all_orders  reorder_proportions\n",
       "user_id                                               \n",
       "2          25.0   1.0        26.0             0.038462\n",
       "5           4.0   8.0        12.0             0.666667\n",
       "7           1.0  13.0        14.0             0.928571\n",
       "11         12.0   3.0        15.0             0.200000\n",
       "12          9.0   3.0        12.0             0.250000\n",
       "...         ...   ...         ...                  ...\n",
       "206203     21.0   6.0        27.0             0.222222\n",
       "206206      6.0  15.0        21.0             0.714286\n",
       "206207      5.0  41.0        46.0             0.891304\n",
       "206208     38.0  87.0       125.0             0.696000\n",
       "206209     17.0   8.0        25.0             0.320000\n",
       "\n",
       "[124889 rows x 4 columns]"
      ]
     },
     "execution_count": 56,
     "metadata": {},
     "output_type": "execute_result"
    }
   ],
   "source": [
    "df_order_id = df_ic_orders.merge(df_order_products, on='order_id')\n",
    "user_num = df_order_id.groupby(['user_id', 'reordered']).size().reset_index()\n",
    "user_num.rename(columns= {0: 're/order_totals'}, inplace = True)\n",
    "user_proportions = pd.pivot_table(user_num, values='re/order_totals', index='user_id', columns='reordered')\n",
    "user_proportions['all_orders'] = user_proportions[1] + user_proportions[0]\n",
    "user_proportions['reorder_proportions'] = user_proportions[1] / user_proportions['all_orders']\n",
    "user_proportions.dropna()"
   ]
  },
  {
   "cell_type": "markdown",
   "id": "22b42b2d",
   "metadata": {},
   "source": [
    " <div class=\"alert alert-danger\" style=\"border-radius: 15px; box-shadow: 4px 4px 4px; border: 1px solid \">\n",
    "<b> Reviewer's comment ❌</b>\n",
    "    \n",
    "We are supposed to find a proportionn for each user, not product. One user - one row - one proportion value.  \n",
    "    \n",
    "\n",
    "</div>\n",
    "<div class=\"alert alert-success\" style=\"border-radius: 15px; box-shadow: 4px 4px 4px; border: 1px solid \">\n",
    "<h2> Reviewer's comment 2 ✔️</h2>\n",
    "    \n",
    "    \n",
    "By the way, you can use `mean` :) \n",
    "</div>"
   ]
  },
  {
   "cell_type": "markdown",
   "id": "92d35137",
   "metadata": {},
   "source": [
    "### [C5] What are the top 20 items that people put in their carts first? "
   ]
  },
  {
   "cell_type": "code",
   "execution_count": 57,
   "id": "0ae57274",
   "metadata": {
    "scrolled": true
   },
   "outputs": [
    {
     "data": {
      "text/html": [
       "<div>\n",
       "<style scoped>\n",
       "    .dataframe tbody tr th:only-of-type {\n",
       "        vertical-align: middle;\n",
       "    }\n",
       "\n",
       "    .dataframe tbody tr th {\n",
       "        vertical-align: top;\n",
       "    }\n",
       "\n",
       "    .dataframe thead th {\n",
       "        text-align: right;\n",
       "    }\n",
       "</style>\n",
       "<table border=\"1\" class=\"dataframe\">\n",
       "  <thead>\n",
       "    <tr style=\"text-align: right;\">\n",
       "      <th></th>\n",
       "      <th>index</th>\n",
       "      <th>product_id</th>\n",
       "      <th>add_to_cart_order</th>\n",
       "      <th>product_name</th>\n",
       "      <th>first_additions</th>\n",
       "    </tr>\n",
       "  </thead>\n",
       "  <tbody>\n",
       "    <tr>\n",
       "      <th>0</th>\n",
       "      <td>13414</td>\n",
       "      <td>24852</td>\n",
       "      <td>1</td>\n",
       "      <td>Banana</td>\n",
       "      <td>15562</td>\n",
       "    </tr>\n",
       "    <tr>\n",
       "      <th>1</th>\n",
       "      <td>7127</td>\n",
       "      <td>13176</td>\n",
       "      <td>1</td>\n",
       "      <td>Bag of Organic Bananas</td>\n",
       "      <td>11026</td>\n",
       "    </tr>\n",
       "    <tr>\n",
       "      <th>2</th>\n",
       "      <td>15028</td>\n",
       "      <td>27845</td>\n",
       "      <td>1</td>\n",
       "      <td>Organic Whole Milk</td>\n",
       "      <td>4363</td>\n",
       "    </tr>\n",
       "    <tr>\n",
       "      <th>3</th>\n",
       "      <td>11384</td>\n",
       "      <td>21137</td>\n",
       "      <td>1</td>\n",
       "      <td>Organic Strawberries</td>\n",
       "      <td>3946</td>\n",
       "    </tr>\n",
       "    <tr>\n",
       "      <th>4</th>\n",
       "      <td>25439</td>\n",
       "      <td>47209</td>\n",
       "      <td>1</td>\n",
       "      <td>Organic Hass Avocado</td>\n",
       "      <td>3390</td>\n",
       "    </tr>\n",
       "    <tr>\n",
       "      <th>5</th>\n",
       "      <td>11786</td>\n",
       "      <td>21903</td>\n",
       "      <td>1</td>\n",
       "      <td>Organic Baby Spinach</td>\n",
       "      <td>3336</td>\n",
       "    </tr>\n",
       "    <tr>\n",
       "      <th>6</th>\n",
       "      <td>25732</td>\n",
       "      <td>47766</td>\n",
       "      <td>1</td>\n",
       "      <td>Organic Avocado</td>\n",
       "      <td>3044</td>\n",
       "    </tr>\n",
       "    <tr>\n",
       "      <th>7</th>\n",
       "      <td>10622</td>\n",
       "      <td>19660</td>\n",
       "      <td>1</td>\n",
       "      <td>Spring Water</td>\n",
       "      <td>2336</td>\n",
       "    </tr>\n",
       "    <tr>\n",
       "      <th>8</th>\n",
       "      <td>9050</td>\n",
       "      <td>16797</td>\n",
       "      <td>1</td>\n",
       "      <td>Strawberries</td>\n",
       "      <td>2308</td>\n",
       "    </tr>\n",
       "    <tr>\n",
       "      <th>9</th>\n",
       "      <td>15102</td>\n",
       "      <td>27966</td>\n",
       "      <td>1</td>\n",
       "      <td>Organic Raspberries</td>\n",
       "      <td>2024</td>\n",
       "    </tr>\n",
       "    <tr>\n",
       "      <th>10</th>\n",
       "      <td>24024</td>\n",
       "      <td>44632</td>\n",
       "      <td>1</td>\n",
       "      <td>Sparkling Water Grapefruit</td>\n",
       "      <td>1914</td>\n",
       "    </tr>\n",
       "    <tr>\n",
       "      <th>11</th>\n",
       "      <td>26519</td>\n",
       "      <td>49235</td>\n",
       "      <td>1</td>\n",
       "      <td>Organic Half &amp; Half</td>\n",
       "      <td>1797</td>\n",
       "    </tr>\n",
       "    <tr>\n",
       "      <th>12</th>\n",
       "      <td>25658</td>\n",
       "      <td>47626</td>\n",
       "      <td>1</td>\n",
       "      <td>Large Lemon</td>\n",
       "      <td>1737</td>\n",
       "    </tr>\n",
       "    <tr>\n",
       "      <th>13</th>\n",
       "      <td>115</td>\n",
       "      <td>196</td>\n",
       "      <td>1</td>\n",
       "      <td>Soda</td>\n",
       "      <td>1733</td>\n",
       "    </tr>\n",
       "    <tr>\n",
       "      <th>14</th>\n",
       "      <td>20853</td>\n",
       "      <td>38689</td>\n",
       "      <td>1</td>\n",
       "      <td>Organic Reduced Fat Milk</td>\n",
       "      <td>1397</td>\n",
       "    </tr>\n",
       "    <tr>\n",
       "      <th>15</th>\n",
       "      <td>14158</td>\n",
       "      <td>26209</td>\n",
       "      <td>1</td>\n",
       "      <td>Limes</td>\n",
       "      <td>1370</td>\n",
       "    </tr>\n",
       "    <tr>\n",
       "      <th>16</th>\n",
       "      <td>6660</td>\n",
       "      <td>12341</td>\n",
       "      <td>1</td>\n",
       "      <td>Hass Avocados</td>\n",
       "      <td>1340</td>\n",
       "    </tr>\n",
       "    <tr>\n",
       "      <th>17</th>\n",
       "      <td>3153</td>\n",
       "      <td>5785</td>\n",
       "      <td>1</td>\n",
       "      <td>Organic Reduced Fat 2% Milk</td>\n",
       "      <td>1310</td>\n",
       "    </tr>\n",
       "    <tr>\n",
       "      <th>18</th>\n",
       "      <td>14639</td>\n",
       "      <td>27086</td>\n",
       "      <td>1</td>\n",
       "      <td>Half &amp; Half</td>\n",
       "      <td>1309</td>\n",
       "    </tr>\n",
       "    <tr>\n",
       "      <th>19</th>\n",
       "      <td>23335</td>\n",
       "      <td>43352</td>\n",
       "      <td>1</td>\n",
       "      <td>Raspberries</td>\n",
       "      <td>1246</td>\n",
       "    </tr>\n",
       "  </tbody>\n",
       "</table>\n",
       "</div>"
      ],
      "text/plain": [
       "    index  product_id  add_to_cart_order                 product_name  \\\n",
       "0   13414       24852                  1                       Banana   \n",
       "1    7127       13176                  1       Bag of Organic Bananas   \n",
       "2   15028       27845                  1           Organic Whole Milk   \n",
       "3   11384       21137                  1         Organic Strawberries   \n",
       "4   25439       47209                  1         Organic Hass Avocado   \n",
       "5   11786       21903                  1         Organic Baby Spinach   \n",
       "6   25732       47766                  1              Organic Avocado   \n",
       "7   10622       19660                  1                 Spring Water   \n",
       "8    9050       16797                  1                 Strawberries   \n",
       "9   15102       27966                  1          Organic Raspberries   \n",
       "10  24024       44632                  1   Sparkling Water Grapefruit   \n",
       "11  26519       49235                  1          Organic Half & Half   \n",
       "12  25658       47626                  1                  Large Lemon   \n",
       "13    115         196                  1                         Soda   \n",
       "14  20853       38689                  1     Organic Reduced Fat Milk   \n",
       "15  14158       26209                  1                        Limes   \n",
       "16   6660       12341                  1                Hass Avocados   \n",
       "17   3153        5785                  1  Organic Reduced Fat 2% Milk   \n",
       "18  14639       27086                  1                  Half & Half   \n",
       "19  23335       43352                  1                  Raspberries   \n",
       "\n",
       "    first_additions  \n",
       "0             15562  \n",
       "1             11026  \n",
       "2              4363  \n",
       "3              3946  \n",
       "4              3390  \n",
       "5              3336  \n",
       "6              3044  \n",
       "7              2336  \n",
       "8              2308  \n",
       "9              2024  \n",
       "10             1914  \n",
       "11             1797  \n",
       "12             1737  \n",
       "13             1733  \n",
       "14             1397  \n",
       "15             1370  \n",
       "16             1340  \n",
       "17             1310  \n",
       "18             1309  \n",
       "19             1246  "
      ]
     },
     "execution_count": 57,
     "metadata": {},
     "output_type": "execute_result"
    }
   ],
   "source": [
    "new_df = df_order_products.merge(df_products, on='product_id')\n",
    "first_adds = new_df[new_df['add_to_cart_order'] == 1.0]\n",
    "reset_adds = first_adds.groupby(['product_id', 'add_to_cart_order', 'product_name']).size().reset_index()\n",
    "top_adds = reset_adds.sort_values(by= 0, ascending=False)\n",
    "top_adds.rename(columns= {0: 'first_additions'}, inplace = True)\n",
    "top_adds.merge(most_ordered_prod, on='product_id').drop('total_orders', axis=1)\n",
    "top_adds.head(20).reset_index()"
   ]
  },
  {
   "cell_type": "markdown",
   "id": "a9e0049b",
   "metadata": {},
   "source": [
    "<div class=\"alert alert-danger\" style=\"border-radius: 15px; box-shadow: 4px 4px 4px; border: 1px solid \">\n",
    "<b> Reviewer's comment  ❌</b>\n",
    "\n",
    "\n",
    "If we have to find top items, are we supposed to see duplicates there? :) \n",
    "\n",
    "</div>"
   ]
  },
  {
   "cell_type": "markdown",
   "id": "13185720",
   "metadata": {},
   "source": [
    "<div class=\"alert alert-info\">\n",
    "<h2> Student's comment</h2>\n",
    "\n",
    "I recoded the above cell, removing any duplicates 👍🏻\n",
    "</div>\n",
    "\n",
    "\n",
    "\n",
    "<font color='blue'> </font>"
   ]
  },
  {
   "cell_type": "markdown",
   "id": "28ce9872",
   "metadata": {},
   "source": [
    "<div class=\"alert alert-success\" style=\"border-radius: 15px; box-shadow: 4px 4px 4px; border: 1px solid \">\n",
    "<h2> Reviewer's comment 2 ✔️</h2>\n",
    "    \n",
    "    \n",
    "Very good! \n",
    "</div>"
   ]
  },
  {
   "cell_type": "markdown",
   "id": "bf168954",
   "metadata": {},
   "source": [
    "I was all over the place toward the end. Be gentle 🙏🏼"
   ]
  },
  {
   "cell_type": "markdown",
   "id": "5b9ae2d6",
   "metadata": {},
   "source": [
    "<div class=\"alert alert-success\" style=\"border-radius: 15px; box-shadow: 4px 4px 4px; border: 1px solid \">\n",
    "<h2> Reviewer's comment ✔️</h2>\n",
    "    \n",
    "No worries! You did a very good job here. \n",
    "    \n",
    "</div>\n",
    "<div class=\"alert alert-danger\" style=\"border-radius: 15px; box-shadow: 4px 4px 4px; border: 1px solid \">\n",
    "<b> Reviewer's comment  ❌</b>\n",
    "    \n",
    "- Please don't forget to add the overall conclusion to your project: what has been done and what can be inferred from the results. \n",
    "\n",
    "\n",
    "- Make sure comments are placed in the Markdown cells.  </div>"
   ]
  },
  {
   "cell_type": "markdown",
   "id": "78583cf2",
   "metadata": {},
   "source": [
    "<div class=\"alert alert-info\">\n",
    "<h2> Student's comment</h2>\n",
    "\n",
    "Thank you! I have a better feeling for the revisions, and overall project this time around. I hope I addressed all your comments in the revisions 🤙🏼 \n",
    "</div>\n",
    "\n",
    "\n",
    "\n",
    "<font color='blue'> </font>"
   ]
  },
  {
   "cell_type": "markdown",
   "id": "b134b78d",
   "metadata": {},
   "source": [
    "<div class=\"alert alert-success\" style=\"border-radius: 15px; box-shadow: 4px 4px 4px; border: 1px solid \">\n",
    "<h2> Reviewer's comment 2 ✔️</h2>\n",
    "    \n",
    "    \n",
    "You did a great job here! \n",
    "</div>"
   ]
  },
  {
   "cell_type": "markdown",
   "id": "f78790f6",
   "metadata": {},
   "source": [
    "<b> Conclusion </b>\n",
    "\n",
    "Reshaping and revisualizing this raw Instacart data utilizing a combination of the python, pandas, numpy, and matplotlib libraries has revealed some useful insights about user shopping behaviors.  Among these insights are what time of day, what day of the week, and what products users like to shop the most.  In addition, we explored the correlation between the most popular products, the most reordered products, and top products users add to their cart first. Fresh produce dominates the top spots across the board, likely because of it's relatively limited shelf life necessitating more a more frequent purchase rate.  It would be interesting to explore more of this data regionally, and see if the correlations hold up across multiple different regions.  The numbers don't lie, Instacarters are bananas for bananas!"
   ]
  },
  {
   "cell_type": "markdown",
   "id": "5fbb390a",
   "metadata": {},
   "source": [
    "<div class=\"alert alert-success\" style=\"border-radius: 15px; box-shadow: 4px 4px 4px; border: 1px solid \">\n",
    "<h2> Reviewer's comment 2 ✔️</h2>\n",
    "    \n",
    "    \n",
    "Excellent! \n",
    "</div>"
   ]
  }
 ],
 "metadata": {
  "kernelspec": {
   "display_name": "Python 3 (ipykernel)",
   "language": "python",
   "name": "python3"
  },
  "language_info": {
   "codemirror_mode": {
    "name": "ipython",
    "version": 3
   },
   "file_extension": ".py",
   "mimetype": "text/x-python",
   "name": "python",
   "nbconvert_exporter": "python",
   "pygments_lexer": "ipython3",
   "version": "3.9.19"
  },
  "toc": {
   "base_numbering": 1,
   "nav_menu": {},
   "number_sections": true,
   "sideBar": true,
   "skip_h1_title": true,
   "title_cell": "Table of Contents",
   "title_sidebar": "Contents",
   "toc_cell": false,
   "toc_position": {
    "height": "calc(100% - 180px)",
    "left": "10px",
    "top": "150px",
    "width": "320px"
   },
   "toc_section_display": true,
   "toc_window_display": true
  },
  "vscode": {
   "interpreter": {
    "hash": "01a7be9ec63e704a62cefc5fe7a4756944464ee731be31632bdf42a4cb4688cf"
   }
  }
 },
 "nbformat": 4,
 "nbformat_minor": 5
}
