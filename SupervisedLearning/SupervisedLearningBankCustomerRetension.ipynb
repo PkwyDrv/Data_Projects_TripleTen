{
 "cells": [
  {
   "cell_type": "markdown",
   "metadata": {},
   "source": [
    "## Introduction\n",
    "This is a predictive model built on customer data from \"Beta Bank\".  It's aim is to predict whether a customer is likely to leave \"Beta Bank\" soon, based on past client's behavior. Our minimum model threshold is an F1 score (the weighted harmonic mean of the precision and recall scores) of 0.59 or greater.  Additionally, we will measure the AUC-ROC (Area Under the Receiver Operating Characteristic curve) metric both graphically and numerically, as well as sanity check the model against a predictive constant model that assumes no customer exits, to ensure our model is better than random chance."
   ]
  },
  {
   "cell_type": "code",
   "execution_count": 1,
   "metadata": {},
   "outputs": [],
   "source": [
    "import pandas as pd\n",
    "import matplotlib.pyplot as plt\n",
    "from sklearn.model_selection import train_test_split, GridSearchCV\n",
    "from sklearn.metrics import f1_score, roc_curve, roc_auc_score, accuracy_score\n",
    "from sklearn.preprocessing import StandardScaler, OneHotEncoder\n",
    "from sklearn.utils import shuffle\n",
    "from sklearn.tree import DecisionTreeClassifier\n",
    "from sklearn.ensemble import RandomForestClassifier\n",
    "from sklearn.linear_model import LogisticRegression\n",
    "import warnings\n",
    "warnings.filterwarnings('ignore')"
   ]
  },
  {
   "cell_type": "markdown",
   "metadata": {},
   "source": [
    "## Preprocess customer data\n",
    "Let's first get an overview of our data, and check it for any missing or duplicate values, and class imbalances.  We will drop any duplicate rows, or rows with missing data.  Looking at our target data we see that there is a clear class imbalance between customers who exit the banking institution, and those who don't. Almost, 80% of our target class remain with the bank."
   ]
  },
  {
   "cell_type": "code",
   "execution_count": 2,
   "metadata": {
    "scrolled": false
   },
   "outputs": [
    {
     "data": {
      "text/html": [
       "<div>\n",
       "<style scoped>\n",
       "    .dataframe tbody tr th:only-of-type {\n",
       "        vertical-align: middle;\n",
       "    }\n",
       "\n",
       "    .dataframe tbody tr th {\n",
       "        vertical-align: top;\n",
       "    }\n",
       "\n",
       "    .dataframe thead th {\n",
       "        text-align: right;\n",
       "    }\n",
       "</style>\n",
       "<table border=\"1\" class=\"dataframe\">\n",
       "  <thead>\n",
       "    <tr style=\"text-align: right;\">\n",
       "      <th></th>\n",
       "      <th>RowNumber</th>\n",
       "      <th>CustomerId</th>\n",
       "      <th>Surname</th>\n",
       "      <th>CreditScore</th>\n",
       "      <th>Geography</th>\n",
       "      <th>Gender</th>\n",
       "      <th>Age</th>\n",
       "      <th>Tenure</th>\n",
       "      <th>Balance</th>\n",
       "      <th>NumOfProducts</th>\n",
       "      <th>HasCrCard</th>\n",
       "      <th>IsActiveMember</th>\n",
       "      <th>EstimatedSalary</th>\n",
       "      <th>Exited</th>\n",
       "    </tr>\n",
       "  </thead>\n",
       "  <tbody>\n",
       "    <tr>\n",
       "      <th>0</th>\n",
       "      <td>1</td>\n",
       "      <td>15634602</td>\n",
       "      <td>Hargrave</td>\n",
       "      <td>619</td>\n",
       "      <td>France</td>\n",
       "      <td>Female</td>\n",
       "      <td>42</td>\n",
       "      <td>2.0</td>\n",
       "      <td>0.00</td>\n",
       "      <td>1</td>\n",
       "      <td>1</td>\n",
       "      <td>1</td>\n",
       "      <td>101348.88</td>\n",
       "      <td>1</td>\n",
       "    </tr>\n",
       "    <tr>\n",
       "      <th>1</th>\n",
       "      <td>2</td>\n",
       "      <td>15647311</td>\n",
       "      <td>Hill</td>\n",
       "      <td>608</td>\n",
       "      <td>Spain</td>\n",
       "      <td>Female</td>\n",
       "      <td>41</td>\n",
       "      <td>1.0</td>\n",
       "      <td>83807.86</td>\n",
       "      <td>1</td>\n",
       "      <td>0</td>\n",
       "      <td>1</td>\n",
       "      <td>112542.58</td>\n",
       "      <td>0</td>\n",
       "    </tr>\n",
       "    <tr>\n",
       "      <th>2</th>\n",
       "      <td>3</td>\n",
       "      <td>15619304</td>\n",
       "      <td>Onio</td>\n",
       "      <td>502</td>\n",
       "      <td>France</td>\n",
       "      <td>Female</td>\n",
       "      <td>42</td>\n",
       "      <td>8.0</td>\n",
       "      <td>159660.80</td>\n",
       "      <td>3</td>\n",
       "      <td>1</td>\n",
       "      <td>0</td>\n",
       "      <td>113931.57</td>\n",
       "      <td>1</td>\n",
       "    </tr>\n",
       "    <tr>\n",
       "      <th>3</th>\n",
       "      <td>4</td>\n",
       "      <td>15701354</td>\n",
       "      <td>Boni</td>\n",
       "      <td>699</td>\n",
       "      <td>France</td>\n",
       "      <td>Female</td>\n",
       "      <td>39</td>\n",
       "      <td>1.0</td>\n",
       "      <td>0.00</td>\n",
       "      <td>2</td>\n",
       "      <td>0</td>\n",
       "      <td>0</td>\n",
       "      <td>93826.63</td>\n",
       "      <td>0</td>\n",
       "    </tr>\n",
       "    <tr>\n",
       "      <th>4</th>\n",
       "      <td>5</td>\n",
       "      <td>15737888</td>\n",
       "      <td>Mitchell</td>\n",
       "      <td>850</td>\n",
       "      <td>Spain</td>\n",
       "      <td>Female</td>\n",
       "      <td>43</td>\n",
       "      <td>2.0</td>\n",
       "      <td>125510.82</td>\n",
       "      <td>1</td>\n",
       "      <td>1</td>\n",
       "      <td>1</td>\n",
       "      <td>79084.10</td>\n",
       "      <td>0</td>\n",
       "    </tr>\n",
       "  </tbody>\n",
       "</table>\n",
       "</div>"
      ],
      "text/plain": [
       "   RowNumber  CustomerId   Surname  CreditScore Geography  Gender  Age  \\\n",
       "0          1    15634602  Hargrave          619    France  Female   42   \n",
       "1          2    15647311      Hill          608     Spain  Female   41   \n",
       "2          3    15619304      Onio          502    France  Female   42   \n",
       "3          4    15701354      Boni          699    France  Female   39   \n",
       "4          5    15737888  Mitchell          850     Spain  Female   43   \n",
       "\n",
       "   Tenure    Balance  NumOfProducts  HasCrCard  IsActiveMember  \\\n",
       "0     2.0       0.00              1          1               1   \n",
       "1     1.0   83807.86              1          0               1   \n",
       "2     8.0  159660.80              3          1               0   \n",
       "3     1.0       0.00              2          0               0   \n",
       "4     2.0  125510.82              1          1               1   \n",
       "\n",
       "   EstimatedSalary  Exited  \n",
       "0        101348.88       1  \n",
       "1        112542.58       0  \n",
       "2        113931.57       1  \n",
       "3         93826.63       0  \n",
       "4         79084.10       0  "
      ]
     },
     "execution_count": 2,
     "metadata": {},
     "output_type": "execute_result"
    }
   ],
   "source": [
    "df = pd.read_csv('/datasets/Churn.csv') # read in churn data\n",
    "df.head()"
   ]
  },
  {
   "cell_type": "code",
   "execution_count": 3,
   "metadata": {
    "scrolled": true
   },
   "outputs": [
    {
     "name": "stdout",
     "output_type": "stream",
     "text": [
      "<class 'pandas.core.frame.DataFrame'>\n",
      "RangeIndex: 10000 entries, 0 to 9999\n",
      "Data columns (total 14 columns):\n",
      " #   Column           Non-Null Count  Dtype  \n",
      "---  ------           --------------  -----  \n",
      " 0   RowNumber        10000 non-null  int64  \n",
      " 1   CustomerId       10000 non-null  int64  \n",
      " 2   Surname          10000 non-null  object \n",
      " 3   CreditScore      10000 non-null  int64  \n",
      " 4   Geography        10000 non-null  object \n",
      " 5   Gender           10000 non-null  object \n",
      " 6   Age              10000 non-null  int64  \n",
      " 7   Tenure           9091 non-null   float64\n",
      " 8   Balance          10000 non-null  float64\n",
      " 9   NumOfProducts    10000 non-null  int64  \n",
      " 10  HasCrCard        10000 non-null  int64  \n",
      " 11  IsActiveMember   10000 non-null  int64  \n",
      " 12  EstimatedSalary  10000 non-null  float64\n",
      " 13  Exited           10000 non-null  int64  \n",
      "dtypes: float64(3), int64(8), object(3)\n",
      "memory usage: 1.1+ MB\n"
     ]
    }
   ],
   "source": [
    "df.info() # get dataframe info"
   ]
  },
  {
   "cell_type": "code",
   "execution_count": 4,
   "metadata": {},
   "outputs": [],
   "source": [
    "df = df.dropna() # drop rows with Nan values"
   ]
  },
  {
   "cell_type": "code",
   "execution_count": 5,
   "metadata": {},
   "outputs": [
    {
     "data": {
      "text/plain": [
       "RowNumber            int64\n",
       "CustomerId           int64\n",
       "Surname             object\n",
       "CreditScore          int64\n",
       "Geography           object\n",
       "Gender              object\n",
       "Age                  int64\n",
       "Tenure             float64\n",
       "Balance            float64\n",
       "NumOfProducts        int64\n",
       "HasCrCard            int64\n",
       "IsActiveMember       int64\n",
       "EstimatedSalary    float64\n",
       "Exited               int64\n",
       "dtype: object"
      ]
     },
     "execution_count": 5,
     "metadata": {},
     "output_type": "execute_result"
    }
   ],
   "source": [
    "df.dtypes # get data types for all features"
   ]
  },
  {
   "cell_type": "code",
   "execution_count": 6,
   "metadata": {},
   "outputs": [
    {
     "data": {
      "text/html": [
       "<div>\n",
       "<style scoped>\n",
       "    .dataframe tbody tr th:only-of-type {\n",
       "        vertical-align: middle;\n",
       "    }\n",
       "\n",
       "    .dataframe tbody tr th {\n",
       "        vertical-align: top;\n",
       "    }\n",
       "\n",
       "    .dataframe thead th {\n",
       "        text-align: right;\n",
       "    }\n",
       "</style>\n",
       "<table border=\"1\" class=\"dataframe\">\n",
       "  <thead>\n",
       "    <tr style=\"text-align: right;\">\n",
       "      <th></th>\n",
       "      <th>RowNumber</th>\n",
       "      <th>CustomerId</th>\n",
       "      <th>CreditScore</th>\n",
       "      <th>Age</th>\n",
       "      <th>Tenure</th>\n",
       "      <th>Balance</th>\n",
       "      <th>NumOfProducts</th>\n",
       "      <th>HasCrCard</th>\n",
       "      <th>IsActiveMember</th>\n",
       "      <th>EstimatedSalary</th>\n",
       "      <th>Exited</th>\n",
       "    </tr>\n",
       "  </thead>\n",
       "  <tbody>\n",
       "    <tr>\n",
       "      <th>count</th>\n",
       "      <td>9091.000000</td>\n",
       "      <td>9.091000e+03</td>\n",
       "      <td>9091.000000</td>\n",
       "      <td>9091.000000</td>\n",
       "      <td>9091.000000</td>\n",
       "      <td>9091.000000</td>\n",
       "      <td>9091.000000</td>\n",
       "      <td>9091.000000</td>\n",
       "      <td>9091.000000</td>\n",
       "      <td>9091.000000</td>\n",
       "      <td>9091.000000</td>\n",
       "    </tr>\n",
       "    <tr>\n",
       "      <th>mean</th>\n",
       "      <td>5013.909911</td>\n",
       "      <td>1.569105e+07</td>\n",
       "      <td>650.736553</td>\n",
       "      <td>38.949181</td>\n",
       "      <td>4.997690</td>\n",
       "      <td>76522.740015</td>\n",
       "      <td>1.530195</td>\n",
       "      <td>0.704983</td>\n",
       "      <td>0.515565</td>\n",
       "      <td>100181.214924</td>\n",
       "      <td>0.203938</td>\n",
       "    </tr>\n",
       "    <tr>\n",
       "      <th>std</th>\n",
       "      <td>2884.433466</td>\n",
       "      <td>7.161419e+04</td>\n",
       "      <td>96.410471</td>\n",
       "      <td>10.555581</td>\n",
       "      <td>2.894723</td>\n",
       "      <td>62329.528576</td>\n",
       "      <td>0.581003</td>\n",
       "      <td>0.456076</td>\n",
       "      <td>0.499785</td>\n",
       "      <td>57624.755647</td>\n",
       "      <td>0.402946</td>\n",
       "    </tr>\n",
       "    <tr>\n",
       "      <th>min</th>\n",
       "      <td>1.000000</td>\n",
       "      <td>1.556570e+07</td>\n",
       "      <td>350.000000</td>\n",
       "      <td>18.000000</td>\n",
       "      <td>0.000000</td>\n",
       "      <td>0.000000</td>\n",
       "      <td>1.000000</td>\n",
       "      <td>0.000000</td>\n",
       "      <td>0.000000</td>\n",
       "      <td>11.580000</td>\n",
       "      <td>0.000000</td>\n",
       "    </tr>\n",
       "    <tr>\n",
       "      <th>25%</th>\n",
       "      <td>2521.500000</td>\n",
       "      <td>1.562899e+07</td>\n",
       "      <td>584.000000</td>\n",
       "      <td>32.000000</td>\n",
       "      <td>2.000000</td>\n",
       "      <td>0.000000</td>\n",
       "      <td>1.000000</td>\n",
       "      <td>0.000000</td>\n",
       "      <td>0.000000</td>\n",
       "      <td>51227.745000</td>\n",
       "      <td>0.000000</td>\n",
       "    </tr>\n",
       "    <tr>\n",
       "      <th>50%</th>\n",
       "      <td>5019.000000</td>\n",
       "      <td>1.569106e+07</td>\n",
       "      <td>652.000000</td>\n",
       "      <td>37.000000</td>\n",
       "      <td>5.000000</td>\n",
       "      <td>97318.250000</td>\n",
       "      <td>1.000000</td>\n",
       "      <td>1.000000</td>\n",
       "      <td>1.000000</td>\n",
       "      <td>100240.200000</td>\n",
       "      <td>0.000000</td>\n",
       "    </tr>\n",
       "    <tr>\n",
       "      <th>75%</th>\n",
       "      <td>7511.500000</td>\n",
       "      <td>1.575285e+07</td>\n",
       "      <td>717.000000</td>\n",
       "      <td>44.000000</td>\n",
       "      <td>7.000000</td>\n",
       "      <td>127561.890000</td>\n",
       "      <td>2.000000</td>\n",
       "      <td>1.000000</td>\n",
       "      <td>1.000000</td>\n",
       "      <td>149567.210000</td>\n",
       "      <td>0.000000</td>\n",
       "    </tr>\n",
       "    <tr>\n",
       "      <th>max</th>\n",
       "      <td>9999.000000</td>\n",
       "      <td>1.581566e+07</td>\n",
       "      <td>850.000000</td>\n",
       "      <td>92.000000</td>\n",
       "      <td>10.000000</td>\n",
       "      <td>250898.090000</td>\n",
       "      <td>4.000000</td>\n",
       "      <td>1.000000</td>\n",
       "      <td>1.000000</td>\n",
       "      <td>199992.480000</td>\n",
       "      <td>1.000000</td>\n",
       "    </tr>\n",
       "  </tbody>\n",
       "</table>\n",
       "</div>"
      ],
      "text/plain": [
       "         RowNumber    CustomerId  CreditScore          Age       Tenure  \\\n",
       "count  9091.000000  9.091000e+03  9091.000000  9091.000000  9091.000000   \n",
       "mean   5013.909911  1.569105e+07   650.736553    38.949181     4.997690   \n",
       "std    2884.433466  7.161419e+04    96.410471    10.555581     2.894723   \n",
       "min       1.000000  1.556570e+07   350.000000    18.000000     0.000000   \n",
       "25%    2521.500000  1.562899e+07   584.000000    32.000000     2.000000   \n",
       "50%    5019.000000  1.569106e+07   652.000000    37.000000     5.000000   \n",
       "75%    7511.500000  1.575285e+07   717.000000    44.000000     7.000000   \n",
       "max    9999.000000  1.581566e+07   850.000000    92.000000    10.000000   \n",
       "\n",
       "             Balance  NumOfProducts    HasCrCard  IsActiveMember  \\\n",
       "count    9091.000000    9091.000000  9091.000000     9091.000000   \n",
       "mean    76522.740015       1.530195     0.704983        0.515565   \n",
       "std     62329.528576       0.581003     0.456076        0.499785   \n",
       "min         0.000000       1.000000     0.000000        0.000000   \n",
       "25%         0.000000       1.000000     0.000000        0.000000   \n",
       "50%     97318.250000       1.000000     1.000000        1.000000   \n",
       "75%    127561.890000       2.000000     1.000000        1.000000   \n",
       "max    250898.090000       4.000000     1.000000        1.000000   \n",
       "\n",
       "       EstimatedSalary       Exited  \n",
       "count      9091.000000  9091.000000  \n",
       "mean     100181.214924     0.203938  \n",
       "std       57624.755647     0.402946  \n",
       "min          11.580000     0.000000  \n",
       "25%       51227.745000     0.000000  \n",
       "50%      100240.200000     0.000000  \n",
       "75%      149567.210000     0.000000  \n",
       "max      199992.480000     1.000000  "
      ]
     },
     "execution_count": 6,
     "metadata": {},
     "output_type": "execute_result"
    }
   ],
   "source": [
    "df.describe() # get a general overview of all the data in the dataframe"
   ]
  },
  {
   "cell_type": "code",
   "execution_count": 7,
   "metadata": {},
   "outputs": [
    {
     "data": {
      "text/plain": [
       "0"
      ]
     },
     "execution_count": 7,
     "metadata": {},
     "output_type": "execute_result"
    }
   ],
   "source": [
    "df.duplicated().sum() # check the dataframe for duplicate rows"
   ]
  },
  {
   "cell_type": "code",
   "execution_count": 8,
   "metadata": {},
   "outputs": [
    {
     "data": {
      "text/plain": [
       "0"
      ]
     },
     "execution_count": 8,
     "metadata": {},
     "output_type": "execute_result"
    }
   ],
   "source": [
    "df['CustomerId'].duplicated().sum() # check CustomerId column for duplicates"
   ]
  },
  {
   "cell_type": "code",
   "execution_count": 9,
   "metadata": {},
   "outputs": [
    {
     "data": {
      "text/html": [
       "<div>\n",
       "<style scoped>\n",
       "    .dataframe tbody tr th:only-of-type {\n",
       "        vertical-align: middle;\n",
       "    }\n",
       "\n",
       "    .dataframe tbody tr th {\n",
       "        vertical-align: top;\n",
       "    }\n",
       "\n",
       "    .dataframe thead th {\n",
       "        text-align: right;\n",
       "    }\n",
       "</style>\n",
       "<table border=\"1\" class=\"dataframe\">\n",
       "  <thead>\n",
       "    <tr style=\"text-align: right;\">\n",
       "      <th></th>\n",
       "      <th>Exited</th>\n",
       "    </tr>\n",
       "  </thead>\n",
       "  <tbody>\n",
       "    <tr>\n",
       "      <th>0</th>\n",
       "      <td>7237</td>\n",
       "    </tr>\n",
       "    <tr>\n",
       "      <th>1</th>\n",
       "      <td>1854</td>\n",
       "    </tr>\n",
       "  </tbody>\n",
       "</table>\n",
       "</div>"
      ],
      "text/plain": [
       "   Exited\n",
       "0    7237\n",
       "1    1854"
      ]
     },
     "execution_count": 9,
     "metadata": {},
     "output_type": "execute_result"
    }
   ],
   "source": [
    "df['Exited'].value_counts().to_frame() # check for an class imbalance of customers who have exited vs. those who remain customers"
   ]
  },
  {
   "cell_type": "code",
   "execution_count": 10,
   "metadata": {},
   "outputs": [
    {
     "name": "stdout",
     "output_type": "stream",
     "text": [
      "Exit percent: 20.39%\n"
     ]
    }
   ],
   "source": [
    "print('Exit percent: {:.2%}'.format(df['Exited'].mean())) # express the class imbalance as a percent"
   ]
  },
  {
   "cell_type": "code",
   "execution_count": 11,
   "metadata": {
    "scrolled": false
   },
   "outputs": [
    {
     "data": {
      "image/png": "[encoded data removed]",
      "text/plain": [
       "<Figure size 2000x1500 with 12 Axes>"
      ]
     },
     "metadata": {},
     "output_type": "display_data"
    }
   ],
   "source": [
    "df.hist(bins=50, figsize=(20, 15), edgecolor='black', linewidth=1.5) # a graphical look at all columns in the dataframe\n",
    "plt.suptitle('Figure Distributions', x=0.5, y=1.0, ha='center', fontsize='xx-large')\n",
    "plt.tight_layout()\n",
    "plt.show()"
   ]
  },
  {
   "cell_type": "markdown",
   "metadata": {},
   "source": [
    "## Split the data and prepare the features\n",
    "To get our data ready to model, we will first split it into our features and target sets, eliminating any erroneous columns. Then split those sets into 20% for testing, and 80% for training our model. We will then transform our categorical features (gender and geography) by One-Hot encoding them into numerical ones, and replacing the categorical columns in our data set for our model to better analyze. Furthermore, we will standardize any large-scale numerical data, such as balance and estimated salary, to help our model process those features. We will then use GridSearchCV to cross validate our models for final training."
   ]
  },
  {
   "cell_type": "code",
   "execution_count": 12,
   "metadata": {},
   "outputs": [
    {
     "name": "stdout",
     "output_type": "stream",
     "text": [
      "(9091,)\n",
      "(9091, 10)\n"
     ]
    }
   ],
   "source": [
    "target = df['Exited'] # isolate the target set\n",
    "features = df.drop(columns=['RowNumber', 'CustomerId', 'Surname', 'Exited']) # isolate the features set\n",
    "print(target.shape)\n",
    "print(features.shape) # get data shapes of each set"
   ]
  },
  {
   "cell_type": "code",
   "execution_count": 13,
   "metadata": {},
   "outputs": [
    {
     "data": {
      "text/html": [
       "<div>\n",
       "<style scoped>\n",
       "    .dataframe tbody tr th:only-of-type {\n",
       "        vertical-align: middle;\n",
       "    }\n",
       "\n",
       "    .dataframe tbody tr th {\n",
       "        vertical-align: top;\n",
       "    }\n",
       "\n",
       "    .dataframe thead th {\n",
       "        text-align: right;\n",
       "    }\n",
       "</style>\n",
       "<table border=\"1\" class=\"dataframe\">\n",
       "  <thead>\n",
       "    <tr style=\"text-align: right;\">\n",
       "      <th></th>\n",
       "      <th>CreditScore</th>\n",
       "      <th>Age</th>\n",
       "      <th>Tenure</th>\n",
       "      <th>Balance</th>\n",
       "      <th>NumOfProducts</th>\n",
       "      <th>HasCrCard</th>\n",
       "      <th>IsActiveMember</th>\n",
       "      <th>EstimatedSalary</th>\n",
       "      <th>Male</th>\n",
       "      <th>Germany</th>\n",
       "      <th>Spain</th>\n",
       "    </tr>\n",
       "  </thead>\n",
       "  <tbody>\n",
       "    <tr>\n",
       "      <th>0</th>\n",
       "      <td>619</td>\n",
       "      <td>42</td>\n",
       "      <td>2.0</td>\n",
       "      <td>0.00</td>\n",
       "      <td>1</td>\n",
       "      <td>1</td>\n",
       "      <td>1</td>\n",
       "      <td>101348.88</td>\n",
       "      <td>0</td>\n",
       "      <td>0</td>\n",
       "      <td>0</td>\n",
       "    </tr>\n",
       "    <tr>\n",
       "      <th>1</th>\n",
       "      <td>608</td>\n",
       "      <td>41</td>\n",
       "      <td>1.0</td>\n",
       "      <td>83807.86</td>\n",
       "      <td>1</td>\n",
       "      <td>0</td>\n",
       "      <td>1</td>\n",
       "      <td>112542.58</td>\n",
       "      <td>0</td>\n",
       "      <td>0</td>\n",
       "      <td>1</td>\n",
       "    </tr>\n",
       "    <tr>\n",
       "      <th>2</th>\n",
       "      <td>502</td>\n",
       "      <td>42</td>\n",
       "      <td>8.0</td>\n",
       "      <td>159660.80</td>\n",
       "      <td>3</td>\n",
       "      <td>1</td>\n",
       "      <td>0</td>\n",
       "      <td>113931.57</td>\n",
       "      <td>0</td>\n",
       "      <td>0</td>\n",
       "      <td>0</td>\n",
       "    </tr>\n",
       "    <tr>\n",
       "      <th>3</th>\n",
       "      <td>699</td>\n",
       "      <td>39</td>\n",
       "      <td>1.0</td>\n",
       "      <td>0.00</td>\n",
       "      <td>2</td>\n",
       "      <td>0</td>\n",
       "      <td>0</td>\n",
       "      <td>93826.63</td>\n",
       "      <td>0</td>\n",
       "      <td>0</td>\n",
       "      <td>0</td>\n",
       "    </tr>\n",
       "    <tr>\n",
       "      <th>4</th>\n",
       "      <td>850</td>\n",
       "      <td>43</td>\n",
       "      <td>2.0</td>\n",
       "      <td>125510.82</td>\n",
       "      <td>1</td>\n",
       "      <td>1</td>\n",
       "      <td>1</td>\n",
       "      <td>79084.10</td>\n",
       "      <td>0</td>\n",
       "      <td>0</td>\n",
       "      <td>1</td>\n",
       "    </tr>\n",
       "  </tbody>\n",
       "</table>\n",
       "</div>"
      ],
      "text/plain": [
       "   CreditScore  Age  Tenure    Balance  NumOfProducts  HasCrCard  \\\n",
       "0          619   42     2.0       0.00              1          1   \n",
       "1          608   41     1.0   83807.86              1          0   \n",
       "2          502   42     8.0  159660.80              3          1   \n",
       "3          699   39     1.0       0.00              2          0   \n",
       "4          850   43     2.0  125510.82              1          1   \n",
       "\n",
       "   IsActiveMember  EstimatedSalary  Male  Germany  Spain  \n",
       "0               1        101348.88     0        0      0  \n",
       "1               1        112542.58     0        0      1  \n",
       "2               0        113931.57     0        0      0  \n",
       "3               0         93826.63     0        0      0  \n",
       "4               1         79084.10     0        0      1  "
      ]
     },
     "execution_count": 13,
     "metadata": {},
     "output_type": "execute_result"
    }
   ],
   "source": [
    "gender_ohe = pd.get_dummies(features['Gender'], drop_first=True) # one hot encode the gender feature\n",
    "geography_ohe = pd.get_dummies(features['Geography'], drop_first=True) # one hot encode the geography feature\n",
    "\n",
    "features.drop(['Gender', 'Geography'], axis=1, inplace=True) # drop the former categorical columns\n",
    "\n",
    "features_ohe = pd.concat([features, gender_ohe, geography_ohe], axis=1) # add the encoded binary columns\n",
    "\n",
    "features_ohe.head()"
   ]
  },
  {
   "cell_type": "code",
   "execution_count": 14,
   "metadata": {},
   "outputs": [
    {
     "name": "stdout",
     "output_type": "stream",
     "text": [
      "(7272, 8)\n",
      "(7272,)\n",
      "(1819, 8)\n",
      "(1819,)\n"
     ]
    }
   ],
   "source": [
    "# split the data into train(80%), test(20%)\n",
    "# training and test sets\n",
    "features_train, features_test, target_train, target_test = train_test_split(features, target, test_size=0.20, random_state=12345)\n",
    "\n",
    "print(features_train.shape)\n",
    "print(target_train.shape)\n",
    "print(features_test.shape)\n",
    "print(target_test.shape)"
   ]
  },
  {
   "cell_type": "code",
   "execution_count": 15,
   "metadata": {},
   "outputs": [
    {
     "data": {
      "text/html": [
       "<div>\n",
       "<style scoped>\n",
       "    .dataframe tbody tr th:only-of-type {\n",
       "        vertical-align: middle;\n",
       "    }\n",
       "\n",
       "    .dataframe tbody tr th {\n",
       "        vertical-align: top;\n",
       "    }\n",
       "\n",
       "    .dataframe thead th {\n",
       "        text-align: right;\n",
       "    }\n",
       "</style>\n",
       "<table border=\"1\" class=\"dataframe\">\n",
       "  <thead>\n",
       "    <tr style=\"text-align: right;\">\n",
       "      <th></th>\n",
       "      <th>CreditScore</th>\n",
       "      <th>Age</th>\n",
       "      <th>Tenure</th>\n",
       "      <th>Balance</th>\n",
       "      <th>NumOfProducts</th>\n",
       "      <th>HasCrCard</th>\n",
       "      <th>IsActiveMember</th>\n",
       "      <th>EstimatedSalary</th>\n",
       "    </tr>\n",
       "  </thead>\n",
       "  <tbody>\n",
       "    <tr>\n",
       "      <th>7702</th>\n",
       "      <td>2.074009</td>\n",
       "      <td>-0.755896</td>\n",
       "      <td>1.032080</td>\n",
       "      <td>-1.235435</td>\n",
       "      <td>2</td>\n",
       "      <td>1</td>\n",
       "      <td>0</td>\n",
       "      <td>1.351774</td>\n",
       "    </tr>\n",
       "    <tr>\n",
       "      <th>4303</th>\n",
       "      <td>-0.790263</td>\n",
       "      <td>1.609084</td>\n",
       "      <td>-0.688132</td>\n",
       "      <td>1.249209</td>\n",
       "      <td>1</td>\n",
       "      <td>0</td>\n",
       "      <td>1</td>\n",
       "      <td>0.257662</td>\n",
       "    </tr>\n",
       "    <tr>\n",
       "      <th>7470</th>\n",
       "      <td>2.074009</td>\n",
       "      <td>0.757691</td>\n",
       "      <td>-0.344090</td>\n",
       "      <td>0.358445</td>\n",
       "      <td>2</td>\n",
       "      <td>1</td>\n",
       "      <td>1</td>\n",
       "      <td>0.373276</td>\n",
       "    </tr>\n",
       "    <tr>\n",
       "      <th>5189</th>\n",
       "      <td>1.825841</td>\n",
       "      <td>0.190096</td>\n",
       "      <td>-0.000047</td>\n",
       "      <td>1.117429</td>\n",
       "      <td>2</td>\n",
       "      <td>0</td>\n",
       "      <td>0</td>\n",
       "      <td>1.391016</td>\n",
       "    </tr>\n",
       "    <tr>\n",
       "      <th>699</th>\n",
       "      <td>0.957253</td>\n",
       "      <td>-0.566697</td>\n",
       "      <td>-1.720259</td>\n",
       "      <td>1.682729</td>\n",
       "      <td>1</td>\n",
       "      <td>1</td>\n",
       "      <td>1</td>\n",
       "      <td>0.122738</td>\n",
       "    </tr>\n",
       "  </tbody>\n",
       "</table>\n",
       "</div>"
      ],
      "text/plain": [
       "      CreditScore       Age    Tenure   Balance  NumOfProducts  HasCrCard  \\\n",
       "7702     2.074009 -0.755896  1.032080 -1.235435              2          1   \n",
       "4303    -0.790263  1.609084 -0.688132  1.249209              1          0   \n",
       "7470     2.074009  0.757691 -0.344090  0.358445              2          1   \n",
       "5189     1.825841  0.190096 -0.000047  1.117429              2          0   \n",
       "699      0.957253 -0.566697 -1.720259  1.682729              1          1   \n",
       "\n",
       "      IsActiveMember  EstimatedSalary  \n",
       "7702               0         1.351774  \n",
       "4303               1         0.257662  \n",
       "7470               1         0.373276  \n",
       "5189               0         1.391016  \n",
       "699                1         0.122738  "
      ]
     },
     "execution_count": 15,
     "metadata": {},
     "output_type": "execute_result"
    }
   ],
   "source": [
    "numeric = ['CreditScore', 'Age', 'Tenure', 'Balance', 'EstimatedSalary']\n",
    "\n",
    "scaler = StandardScaler()\n",
    "scaler.fit(features_train[numeric])\n",
    "\n",
    "features_train[numeric] = scaler.transform(features_train[numeric]) # scale the training features with a large range of numeric values\n",
    "features_test[numeric] = scaler.transform(features_test[numeric]) # scale the test features with a large range of numeric values\n",
    "features_train.head()"
   ]
  },
  {
   "cell_type": "markdown",
   "metadata": {},
   "source": [
    "## Selecting and training a model w/o resampling\n",
    "\n",
    "Let's first look at selecting and training our model without balancing the class_weight parameter, and then with class_weight='balanced' to see how each performs without any resampling of the data.  We will cross validate and optimize the hyperparameters of three different classification models: Random Forrest, Decision Tree, and Logistic Regression.  As it turns out, the Random Forrest and Decision Tree models perform almost comparably well with the unresampled data. All models here perform best with the 'balanced' class_weight. The Random Forrest has a slightly better F1 score, so we will utilize it for training and testing our preliminary model."
   ]
  },
  {
   "cell_type": "code",
   "execution_count": null,
   "metadata": {},
   "outputs": [],
   "source": [
    "# tune hyperparameters on random forest classifier\n",
    "rfc = RandomForestClassifier(random_state=12345)\n",
    "forest_params = [{'max_depth': list(range(1, 14)), 'n_estimators': list(range(1, 50)), 'class_weight': [None, 'balanced']}] # signify which hyperparameters to target\n",
    "clf = GridSearchCV(rfc, forest_params, cv=10, scoring='f1')\n",
    "clf.fit(features_train, target_train)\n",
    "print(clf.best_params_)\n",
    "print(clf.best_score_)"
   ]
  },
  {
   "cell_type": "code",
   "execution_count": null,
   "metadata": {},
   "outputs": [],
   "source": [
    "# tune hyperparameters on decision tree classifier\n",
    "dtc = DecisionTreeClassifier(random_state=12345)\n",
    "tree_params = [{'max_depth': list(range(1, 14)), 'criterion': ['gini', 'entropy'], 'class_weight': [None, 'balanced']}] # signify which hyperparameters to target\n",
    "clf_a = GridSearchCV(dtc, tree_params, cv=10, scoring='f1')\n",
    "clf_a.fit(features_train, target_train)\n",
    "print(clf_a.best_params_)\n",
    "print(clf_a.best_score_)"
   ]
  },
  {
   "cell_type": "code",
   "execution_count": null,
   "metadata": {},
   "outputs": [],
   "source": [
    "# tune hyperparameters on logistic regression classifier\n",
    "lrc = LogisticRegression(random_state=12345)\n",
    "lr_params = [{'solver': ['newton-cg', 'liblinear'], 'C': [0.01, 0.05, 0.10, 0.50, 0.75, 1.00], 'class_weight': [None, 'balanced']}] # signify which hyperparameters to target\n",
    "clf_b = GridSearchCV(lrc, lr_params, cv=10, scoring='f1')\n",
    "clf_b.fit(features_train, target_train)\n",
    "print(clf_b.best_params_)\n",
    "print(clf_b.best_score_)"
   ]
  },
  {
   "cell_type": "markdown",
   "metadata": {},
   "source": [
    "## Train and test the Random Forrest Classifier model\n",
    "Using our optimized hyperparameters, we will train our random forrest on our training set and test it's ability to predict customer exits using the test set we isolated earlier.  Doing so gives an Accuracy score of 0.80, and on testing gives us an F1 score of 0.58, below our miniumum allowable standard of 0.59 "
   ]
  },
  {
   "cell_type": "code",
   "execution_count": 16,
   "metadata": {},
   "outputs": [
    {
     "name": "stdout",
     "output_type": "stream",
     "text": [
      "F1 Unresampled Trained Score: 0.6485061511423551\n",
      "F1 Unresampled Test Score: 0.5804935370152761\n",
      "Accuracy Unresampled Test Score: 0.8037383177570093\n"
     ]
    }
   ],
   "source": [
    "# run the test features through the first random forest classifier model with unresampled data to analyze F1 and accuracy\n",
    "rfc1_model = RandomForestClassifier(random_state=12345, max_depth=8, max_features='auto', n_estimators=43, class_weight='balanced')\n",
    "rfc1_model.fit(features_train, target_train)\n",
    "train_predictions = rfc1_model.predict(features_train)\n",
    "test_predictions = rfc1_model.predict(features_test)\n",
    "print('F1 Unresampled Trained Score:', f1_score(target_train, train_predictions))\n",
    "print('F1 Unresampled Test Score:', f1_score(target_test, test_predictions))\n",
    "print('Accuracy Unresampled Test Score:', accuracy_score(target_test, test_predictions))"
   ]
  },
  {
   "cell_type": "markdown",
   "metadata": {},
   "source": [
    "## Calculate and plot the unbalanced AUC-ROC curve\n",
    "Here we see a nice curve above random with a score of 0.84, indicating \"moderate-good\" model quality.  However, this could be an overly optimistic assesment based on our unbalanced data in which the negative class far outweighs the positive class, making the FPR (False Positive Rate) in our curve less sensitive to changes in predictions of the minority class.  Let's balance the classes and take another look to verify."
   ]
  },
  {
   "cell_type": "code",
   "execution_count": 17,
   "metadata": {},
   "outputs": [
    {
     "data": {
      "image/png": "[encoded data removed]",
      "text/plain": [
       "<Figure size 640x480 with 1 Axes>"
      ]
     },
     "metadata": {},
     "output_type": "display_data"
    }
   ],
   "source": [
    "probabilities_test = rfc1_model.predict_proba(features_test)\n",
    "probabilities_one_test = probabilities_test[:, 1]\n",
    "\n",
    "fpr, tpr, thresholds = roc_curve(target_test, probabilities_one_test)\n",
    "\n",
    "plt.figure()\n",
    "plt.plot(fpr, tpr)\n",
    "plt.plot([0, 1], [0, 1], linestyle='--')\n",
    "plt.xlim([0.0, 1.0])\n",
    "plt.ylim([0.0, 1.0])\n",
    "plt.xlabel('False Positive Rate')\n",
    "plt.ylabel('True Positive Rate')\n",
    "plt.title('Unresampled Model ROC curve')\n",
    "plt.show()"
   ]
  },
  {
   "cell_type": "code",
   "execution_count": 18,
   "metadata": {},
   "outputs": [
    {
     "name": "stdout",
     "output_type": "stream",
     "text": [
      "ROC AUC Score: 0.8395402298850575\n"
     ]
    }
   ],
   "source": [
    "auc_roc = roc_auc_score(target_test, probabilities_one_test) # calculate the Area Under Curve Receiver Operating Characteristic score \n",
    "print('ROC AUC Score:', auc_roc)"
   ]
  },
  {
   "cell_type": "markdown",
   "metadata": {},
   "source": [
    "## Upsample the data\n",
    "Let's even out the class imbalance by writing a function to upsample, as well as downsample our data. This should help balance the weights of our positive and negative classes."
   ]
  },
  {
   "cell_type": "code",
   "execution_count": 19,
   "metadata": {},
   "outputs": [
    {
     "name": "stdout",
     "output_type": "stream",
     "text": [
      "(10242, 8)\n",
      "(10242,)\n"
     ]
    }
   ],
   "source": [
    "# function to balance the classes utilizing upsampling\n",
    "def upsample(features, target, repeat):\n",
    "    features_zeros = features[target == 0]\n",
    "    features_ones = features[target == 1]\n",
    "    target_zeros = target[target == 0]\n",
    "    target_ones = target[target == 1]\n",
    "\n",
    "    features_upsampled = pd.concat([features_zeros] + [features_ones] * repeat)\n",
    "    target_upsampled = pd.concat([target_zeros] + [target_ones] * repeat)\n",
    "\n",
    "    features_upsampled, target_upsampled = shuffle(\n",
    "        features_upsampled, target_upsampled, random_state=12345\n",
    "    )\n",
    "\n",
    "    return features_upsampled, target_upsampled\n",
    "\n",
    "features_upsampled, target_upsampled = upsample(features_train, target_train, 3)\n",
    "print(features_upsampled.shape)\n",
    "print(target_upsampled.shape)"
   ]
  },
  {
   "cell_type": "markdown",
   "metadata": {},
   "source": [
    "## Re-select and train our model\n",
    "Let's again cross validate and tune our classifier models to select the appropriate one, first with the upsampled data, and next with the downsampled data.  Again, the Random Forrest model is the top performer with the upsampled data, this time with an F1 of 0.93, better than both the decision tree and logistic regression models. However, the random forrest and decision tree models performed about equally when given the downsampled data. The models tuned on both the upsampled and downsampled data show much better F1's all around when compared to the same models tuned and trained on unresampled data."
   ]
  },
  {
   "cell_type": "code",
   "execution_count": null,
   "metadata": {},
   "outputs": [],
   "source": [
    "# tune hyperparameters on random forest classifier\n",
    "rfc = RandomForestClassifier(random_state=12345)\n",
    "forest_params = [{'max_depth': list(range(4, 30)), 'n_estimators': list(range(10, 60)), 'max_features': ['auto'], 'min_samples_split': list(range(5, 15))}] # signify which hyperparameters to target\n",
    "clf_c = GridSearchCV(rfc, forest_params, cv=10, scoring='f1')\n",
    "clf_c.fit(features_upsampled, target_upsampled)\n",
    "print(clf_c.best_params_)\n",
    "print(clf_c.best_score_)"
   ]
  },
  {
   "cell_type": "code",
   "execution_count": null,
   "metadata": {},
   "outputs": [],
   "source": [
    "# tune hyperparameters on decision tree classifier\n",
    "dtc = DecisionTreeClassifier(random_state=12345)\n",
    "tree_params = [{'max_depth': list(range(1, 14)), 'criterion': ['gini', 'entropy']}] # signify which hyperparameters to target\n",
    "clf_d = GridSearchCV(dtc, tree_params, cv=10, scoring='f1')\n",
    "clf_d.fit(features_upsampled, target_upsampled)\n",
    "print(clf_d.best_params_)\n",
    "print(clf_d.best_score_)"
   ]
  },
  {
   "cell_type": "code",
   "execution_count": null,
   "metadata": {},
   "outputs": [],
   "source": [
    "# tune hyperparameters on logistic regression classifier\n",
    "lrc = LogisticRegression(random_state=12345)\n",
    "lr_params = [{'solver': ['newton-cg', 'liblinear'], 'C': [0.01, 0.05, 0.10, 0.50, 0.75, 1.00]}] # signify which hyperparameters to target\n",
    "clf_e = GridSearchCV(lrc, lr_params, cv=10, scoring='f1')\n",
    "clf_e.fit(features_upsampled, target_upsampled)\n",
    "print(clf_e.best_params_)\n",
    "print(clf_e.best_score_)"
   ]
  },
  {
   "cell_type": "code",
   "execution_count": 20,
   "metadata": {},
   "outputs": [
    {
     "name": "stdout",
     "output_type": "stream",
     "text": [
      "(2064, 8)\n",
      "(2064,)\n"
     ]
    }
   ],
   "source": [
    "def downsample(features, target, fraction):\n",
    "    features_zeros = features[target == 0]\n",
    "    features_ones = features[target == 1]\n",
    "    target_zeros = target[target == 0]\n",
    "    target_ones = target[target == 1]\n",
    "\n",
    "    features_downsampled = pd.concat(\n",
    "        [features_zeros.sample(frac=fraction, random_state=12345)]\n",
    "        + [features_ones])\n",
    "    \n",
    "    target_downsampled = pd.concat(\n",
    "        [target_zeros.sample(frac=fraction, random_state=12345)]\n",
    "        + [target_ones])\n",
    "\n",
    "    features_downsampled, target_downsampled = shuffle(\n",
    "        features_downsampled, target_downsampled, random_state=12345)\n",
    "\n",
    "    return features_downsampled, target_downsampled\n",
    "\n",
    "\n",
    "features_downsampled, target_downsampled = downsample(features_train, target_train, 0.1)\n",
    "print(features_downsampled.shape)\n",
    "print(target_downsampled.shape)"
   ]
  },
  {
   "cell_type": "code",
   "execution_count": null,
   "metadata": {},
   "outputs": [],
   "source": [
    "# tune hyperparameters on random forest classifier\n",
    "rfc = RandomForestClassifier(random_state=12345)\n",
    "forest_params = [{'max_depth': list(range(1, 14)), 'n_estimators': list(range(1, 50))}] # signify which hyperparameters to target\n",
    "clf_f = GridSearchCV(rfc, forest_params, cv=10, scoring='f1')\n",
    "clf_f.fit(features_downsampled, target_downsampled)\n",
    "print(clf_f.best_params_)\n",
    "print(clf_f.best_score_)"
   ]
  },
  {
   "cell_type": "code",
   "execution_count": null,
   "metadata": {},
   "outputs": [],
   "source": [
    "# tune hyperparameters on decision tree classifier\n",
    "dtc = DecisionTreeClassifier(random_state=12345)\n",
    "tree_params = [{'max_depth': list(range(1, 14)), 'criterion': ['gini', 'entropy']}] # signify which hyperparameters to target\n",
    "clf_g = GridSearchCV(dtc, tree_params, cv=10, scoring='f1')\n",
    "clf_g.fit(features_downsampled, target_downsampled)\n",
    "print(clf_g.best_params_)\n",
    "print(clf_g.best_score_)"
   ]
  },
  {
   "cell_type": "code",
   "execution_count": null,
   "metadata": {},
   "outputs": [],
   "source": [
    "# tune hyperparameters on logistic regression classifier\n",
    "lrc = LogisticRegression(random_state=12345)\n",
    "lr_params = [{'solver': ['newton-cg','liblinear'], 'C': [0.01, 0.05, 0.10, 0.50, 0.75, 1.00]}] # signify which hyperparameters to target\n",
    "clf_h = GridSearchCV(lrc, lr_params, cv=10, scoring='f1')\n",
    "clf_h.fit(features_downsampled, target_downsampled)\n",
    "print(clf_h.best_params_)\n",
    "print(clf_h.best_score_)"
   ]
  },
  {
   "cell_type": "markdown",
   "metadata": {},
   "source": [
    "## Re-train and re-test the Random Forrest model\n",
    "Using the upsampled and downsampled data, and reoptimized hyperparameters let's test the model again and examine the differences.  Doing so gets us an accuracy score of 0.84 up from 0.81 with the unresampled set, and a F1 on the test set of 0.60, which puts our Random Forest model trained on the upsampled data above the pre-prescribed F1 of 0.59. Let's also look at a Random Forest model trained on the downsampled data as well. It appears to have faired much worse, with a test F1 of 0.44, and accuracy score of just 0.53.  Upsampled data wins the day!"
   ]
  },
  {
   "cell_type": "code",
   "execution_count": 21,
   "metadata": {},
   "outputs": [
    {
     "name": "stdout",
     "output_type": "stream",
     "text": [
      "F1 Upsampled Trained Score: 0.9220945083014047\n",
      "F1 Upsampled Test Score; 0.5986206896551723\n",
      "Accuracy Balanced Test Score: 0.840021990104453\n"
     ]
    }
   ],
   "source": [
    "rfc2_model = RandomForestClassifier(random_state=12345, max_depth=24, n_estimators=43, max_features='auto', min_samples_split=15)\n",
    "rfc2_model.fit(features_upsampled, target_upsampled)\n",
    "upsamp_train_predictions = rfc2_model.predict(features_train)\n",
    "upsamp_test_predictions = rfc2_model.predict(features_test)\n",
    "print('F1 Upsampled Trained Score:', f1_score(target_train, upsamp_train_predictions))\n",
    "print('F1 Upsampled Test Score;', f1_score(target_test, upsamp_test_predictions))\n",
    "print('Accuracy Balanced Test Score:', accuracy_score(target_test, upsamp_test_predictions))"
   ]
  },
  {
   "cell_type": "code",
   "execution_count": 22,
   "metadata": {},
   "outputs": [
    {
     "name": "stdout",
     "output_type": "stream",
     "text": [
      "F1 Downsampled Trained Score: 0.48047650562541366\n",
      "F1 Downsampled Test Score; 0.4480731548007838\n",
      "Accuracy Balanced Test Score: 0.5354590434304562\n"
     ]
    }
   ],
   "source": [
    "# run the downsampled test features through the final, optimized random forest classifier model to analyze F1 and accuracy\n",
    "rfc3_model = RandomForestClassifier(random_state=12345, max_depth=9, max_features='auto', n_estimators=32)\n",
    "rfc3_model.fit(features_downsampled, target_downsampled)\n",
    "downsamp_train_predictions = rfc3_model.predict(features_train)\n",
    "downsamp_test_predictions = rfc3_model.predict(features_test)\n",
    "print('F1 Downsampled Trained Score:', f1_score(target_train, downsamp_train_predictions))\n",
    "print('F1 Downsampled Test Score;', f1_score(target_test, downsamp_test_predictions))\n",
    "print('Accuracy Balanced Test Score:', accuracy_score(target_test, downsamp_test_predictions))"
   ]
  },
  {
   "cell_type": "markdown",
   "metadata": {},
   "source": [
    "## Calculate and plot the balanced AUC-ROC curve\n",
    "Here we get another nice curve above random with a AUC-ROC score of 0.83 indicating \"moderate-good\" model quaility again, however this time we can be more secure knowing that the FPR is less biased after balancing the classes."
   ]
  },
  {
   "cell_type": "code",
   "execution_count": 23,
   "metadata": {},
   "outputs": [
    {
     "data": {
      "image/png": "[encoded data removed]",
      "text/plain": [
       "<Figure size 640x480 with 1 Axes>"
      ]
     },
     "metadata": {},
     "output_type": "display_data"
    }
   ],
   "source": [
    "probabilities_test_b = rfc2_model.predict_proba(features_test) # calculate the class probabilities on the test set \n",
    "probabilities_one_test_b = probabilities_test_b[:, 1]\n",
    "\n",
    "fpr_b, tpr_b, thresholds_b = roc_curve(target_test, probabilities_one_test_b)\n",
    "\n",
    "plt.figure()\n",
    "plt.plot(fpr_b, tpr_b)\n",
    "plt.plot([0, 1], [0, 1], linestyle='--')\n",
    "plt.xlim([0.0, 1.0])\n",
    "plt.ylim([0.0, 1.0])\n",
    "plt.xlabel('False Positive Rate')\n",
    "plt.ylabel('True Positive Rate')\n",
    "plt.title('Unbalanced Model ROC curve')\n",
    "plt.show()"
   ]
  },
  {
   "cell_type": "code",
   "execution_count": 24,
   "metadata": {
    "scrolled": false
   },
   "outputs": [
    {
     "name": "stdout",
     "output_type": "stream",
     "text": [
      "Balanced ROC AUC Score: 0.843068872068031\n"
     ]
    }
   ],
   "source": [
    "auc_roc_bal = roc_auc_score(target_test, probabilities_one_test_b) # calculate the Area Under Curve Receiver Operating Characteristic score \n",
    "print('Balanced ROC AUC Score:', auc_roc_bal)"
   ]
  },
  {
   "cell_type": "markdown",
   "metadata": {},
   "source": [
    "## Sanity Check\n",
    "Let's perform a final sanity check on our model to ensure it's accurate beyond random using a constant model that predicts no customer exits.  Here we see an accuracy score of 0.80, below how our final model tested on the balanced dataset at 0.84.  This means our model is better than random."
   ]
  },
  {
   "cell_type": "code",
   "execution_count": 25,
   "metadata": {},
   "outputs": [
    {
     "name": "stdout",
     "output_type": "stream",
     "text": [
      "Constant Model Accuracy: 0.7960620393796062\n"
     ]
    }
   ],
   "source": [
    "target_pred_constant = pd.Series(0, index=target.index) # compare the accuracy of a constant model that predicts '0' 100% of the time\n",
    "print('Constant Model Accuracy:', accuracy_score(target, target_pred_constant))"
   ]
  },
  {
   "cell_type": "markdown",
   "metadata": {},
   "source": [
    "## Conclusion\n",
    "Utilizing past customer data from \"Beta Bank\" to tune and test Random Forest, Decision Tree, and Logistic Regression classification models on both the unbalanced, and resampled versions of the data, it became apparent that the Random Forrest Classifier model was the best option for this particular dataset. Training and testing the final optimized Random Forest model on the upsampled data, the new algorithm's F1 score is 0.60, which adheres to the minimum required threshold of 0.59. Additionally, the model's AUC-ROC score is well above random, signaling overall good performance. We now have a model that is able to analyze and predict customer turnover.  This model will help \"Beta Bank\" pinpoint potential customer exits before they happen, and allow them to react in order to retain exisiting customers moving forward."
   ]
  }
 ],
 "metadata": {
  "ExecuteTimeLog": [
   {
    "duration": 323,
    "start_time": "2024-06-11T22:49:23.783Z"
   },
   {
    "duration": 5033,
    "start_time": "2024-06-11T22:49:30.923Z"
   },
   {
    "duration": 45,
    "start_time": "2024-06-11T22:49:35.964Z"
   },
   {
    "duration": 9,
    "start_time": "2024-06-11T22:49:36.012Z"
   },
   {
    "duration": 40,
    "start_time": "2024-06-11T23:01:07.920Z"
   },
   {
    "duration": 38,
    "start_time": "2024-06-11T23:01:15.667Z"
   },
   {
    "duration": 42,
    "start_time": "2024-06-12T00:34:47.200Z"
   },
   {
    "duration": 38,
    "start_time": "2024-06-12T00:35:00.121Z"
   },
   {
    "duration": 1429,
    "start_time": "2024-06-12T00:37:29.396Z"
   },
   {
    "duration": 36,
    "start_time": "2024-06-12T00:38:04.855Z"
   },
   {
    "duration": 73,
    "start_time": "2024-06-12T00:38:17.361Z"
   },
   {
    "duration": 91,
    "start_time": "2024-06-12T00:39:12.563Z"
   },
   {
    "duration": 28,
    "start_time": "2024-06-12T00:40:39.420Z"
   },
   {
    "duration": 164,
    "start_time": "2024-06-12T00:41:00.421Z"
   },
   {
    "duration": 81,
    "start_time": "2024-06-12T00:42:21.112Z"
   },
   {
    "duration": 4,
    "start_time": "2024-06-12T00:42:53.525Z"
   },
   {
    "duration": 37,
    "start_time": "2024-06-12T00:42:53.533Z"
   },
   {
    "duration": 7,
    "start_time": "2024-06-12T00:42:53.573Z"
   },
   {
    "duration": 6,
    "start_time": "2024-06-12T00:57:43.749Z"
   },
   {
    "duration": 43,
    "start_time": "2024-06-12T00:57:43.762Z"
   },
   {
    "duration": 45,
    "start_time": "2024-06-12T00:57:43.808Z"
   },
   {
    "duration": 0,
    "start_time": "2024-06-12T00:57:43.856Z"
   },
   {
    "duration": 4,
    "start_time": "2024-06-12T00:58:02.523Z"
   },
   {
    "duration": 37,
    "start_time": "2024-06-12T00:58:02.532Z"
   },
   {
    "duration": 455,
    "start_time": "2024-06-12T00:58:02.573Z"
   },
   {
    "duration": 0,
    "start_time": "2024-06-12T00:58:03.031Z"
   },
   {
    "duration": 41,
    "start_time": "2024-06-12T01:02:35.629Z"
   },
   {
    "duration": 6,
    "start_time": "2024-06-12T01:04:10.810Z"
   },
   {
    "duration": 38,
    "start_time": "2024-06-12T01:04:10.819Z"
   },
   {
    "duration": 141,
    "start_time": "2024-06-12T01:04:10.860Z"
   },
   {
    "duration": 0,
    "start_time": "2024-06-12T01:04:11.004Z"
   },
   {
    "duration": 23,
    "start_time": "2024-06-12T01:15:08.293Z"
   },
   {
    "duration": 17,
    "start_time": "2024-06-12T01:15:38.273Z"
   },
   {
    "duration": 23,
    "start_time": "2024-06-12T01:17:41.867Z"
   },
   {
    "duration": 18,
    "start_time": "2024-06-12T01:18:36.230Z"
   },
   {
    "duration": 5366,
    "start_time": "2024-06-12T17:32:31.520Z"
   },
   {
    "duration": 53,
    "start_time": "2024-06-12T17:32:36.890Z"
   },
   {
    "duration": 19,
    "start_time": "2024-06-12T17:32:36.946Z"
   },
   {
    "duration": 450,
    "start_time": "2024-06-12T17:32:36.968Z"
   },
   {
    "duration": 4,
    "start_time": "2024-06-12T17:32:59.100Z"
   },
   {
    "duration": 39,
    "start_time": "2024-06-12T17:32:59.108Z"
   },
   {
    "duration": 16,
    "start_time": "2024-06-12T17:32:59.150Z"
   },
   {
    "duration": 1497,
    "start_time": "2024-06-12T17:32:59.169Z"
   },
   {
    "duration": 5,
    "start_time": "2024-06-12T17:33:33.640Z"
   },
   {
    "duration": 42,
    "start_time": "2024-06-12T17:33:33.649Z"
   },
   {
    "duration": 29,
    "start_time": "2024-06-12T17:33:33.695Z"
   },
   {
    "duration": 8,
    "start_time": "2024-06-12T17:33:33.727Z"
   },
   {
    "duration": 4,
    "start_time": "2024-06-12T17:41:04.579Z"
   },
   {
    "duration": 40,
    "start_time": "2024-06-12T17:41:04.588Z"
   },
   {
    "duration": 17,
    "start_time": "2024-06-12T17:41:04.632Z"
   },
   {
    "duration": 8,
    "start_time": "2024-06-12T17:41:04.652Z"
   },
   {
    "duration": 9,
    "start_time": "2024-06-12T17:41:04.665Z"
   },
   {
    "duration": 79,
    "start_time": "2024-06-12T17:41:04.678Z"
   },
   {
    "duration": 9,
    "start_time": "2024-06-12T17:44:44.588Z"
   },
   {
    "duration": 53,
    "start_time": "2024-06-12T17:45:54.705Z"
   },
   {
    "duration": 11,
    "start_time": "2024-06-12T17:47:52.745Z"
   },
   {
    "duration": 5,
    "start_time": "2024-06-12T17:51:14.404Z"
   },
   {
    "duration": 15,
    "start_time": "2024-06-12T17:52:59.892Z"
   },
   {
    "duration": 32,
    "start_time": "2024-06-12T19:31:23.454Z"
   },
   {
    "duration": 6,
    "start_time": "2024-06-12T19:31:29.693Z"
   },
   {
    "duration": 56,
    "start_time": "2024-06-12T19:31:29.704Z"
   },
   {
    "duration": 17,
    "start_time": "2024-06-12T19:31:29.764Z"
   },
   {
    "duration": 9,
    "start_time": "2024-06-12T19:31:29.786Z"
   },
   {
    "duration": 58,
    "start_time": "2024-06-12T19:31:29.827Z"
   },
   {
    "duration": 48,
    "start_time": "2024-06-12T19:31:29.888Z"
   },
   {
    "duration": 11,
    "start_time": "2024-06-12T19:31:29.939Z"
   },
   {
    "duration": 6,
    "start_time": "2024-06-12T19:31:29.953Z"
   },
   {
    "duration": 8,
    "start_time": "2024-06-12T19:31:29.966Z"
   },
   {
    "duration": 54,
    "start_time": "2024-06-12T19:31:29.977Z"
   },
   {
    "duration": 45,
    "start_time": "2024-06-12T19:31:30.034Z"
   },
   {
    "duration": 159,
    "start_time": "2024-06-12T19:31:30.083Z"
   },
   {
    "duration": 351,
    "start_time": "2024-06-12T19:31:46.207Z"
   },
   {
    "duration": 115,
    "start_time": "2024-06-12T19:35:32.865Z"
   },
   {
    "duration": 170,
    "start_time": "2024-06-12T19:36:09.669Z"
   },
   {
    "duration": 5,
    "start_time": "2024-06-12T19:36:16.322Z"
   },
   {
    "duration": 40,
    "start_time": "2024-06-12T19:36:16.337Z"
   },
   {
    "duration": 43,
    "start_time": "2024-06-12T19:36:16.381Z"
   },
   {
    "duration": 10,
    "start_time": "2024-06-12T19:36:16.428Z"
   },
   {
    "duration": 90,
    "start_time": "2024-06-12T19:36:16.444Z"
   },
   {
    "duration": 21,
    "start_time": "2024-06-12T19:36:16.538Z"
   },
   {
    "duration": 19,
    "start_time": "2024-06-12T19:36:16.567Z"
   },
   {
    "duration": 36,
    "start_time": "2024-06-12T19:36:16.590Z"
   },
   {
    "duration": 18,
    "start_time": "2024-06-12T19:36:16.632Z"
   },
   {
    "duration": 175,
    "start_time": "2024-06-12T19:36:16.657Z"
   },
   {
    "duration": 0,
    "start_time": "2024-06-12T19:36:16.837Z"
   },
   {
    "duration": 66,
    "start_time": "2024-06-12T19:38:47.462Z"
   },
   {
    "duration": 74,
    "start_time": "2024-06-12T21:10:19.815Z"
   },
   {
    "duration": 26,
    "start_time": "2024-06-12T21:19:36.641Z"
   },
   {
    "duration": 6,
    "start_time": "2024-06-12T21:21:21.772Z"
   },
   {
    "duration": 42,
    "start_time": "2024-06-12T21:21:21.784Z"
   },
   {
    "duration": 18,
    "start_time": "2024-06-12T21:21:21.829Z"
   },
   {
    "duration": 8,
    "start_time": "2024-06-12T21:21:21.851Z"
   },
   {
    "duration": 92,
    "start_time": "2024-06-12T21:21:21.864Z"
   },
   {
    "duration": 21,
    "start_time": "2024-06-12T21:21:21.959Z"
   },
   {
    "duration": 39,
    "start_time": "2024-06-12T21:21:21.984Z"
   },
   {
    "duration": 5,
    "start_time": "2024-06-12T21:21:22.027Z"
   },
   {
    "duration": 8,
    "start_time": "2024-06-12T21:21:22.036Z"
   },
   {
    "duration": 29,
    "start_time": "2024-06-12T21:21:22.048Z"
   },
   {
    "duration": 48,
    "start_time": "2024-06-12T21:21:22.081Z"
   },
   {
    "duration": 42,
    "start_time": "2024-06-12T21:21:22.132Z"
   },
   {
    "duration": 5081,
    "start_time": "2024-06-13T22:38:02.284Z"
   },
   {
    "duration": 70,
    "start_time": "2024-06-13T22:38:07.370Z"
   },
   {
    "duration": 20,
    "start_time": "2024-06-13T22:38:07.443Z"
   },
   {
    "duration": 9,
    "start_time": "2024-06-13T22:38:07.469Z"
   },
   {
    "duration": 94,
    "start_time": "2024-06-13T22:38:07.483Z"
   },
   {
    "duration": 15,
    "start_time": "2024-06-13T22:38:07.581Z"
   },
   {
    "duration": 32,
    "start_time": "2024-06-13T22:38:07.600Z"
   },
   {
    "duration": 5,
    "start_time": "2024-06-13T22:38:07.636Z"
   },
   {
    "duration": 8,
    "start_time": "2024-06-13T22:38:07.645Z"
   },
   {
    "duration": 72,
    "start_time": "2024-06-13T22:38:07.657Z"
   },
   {
    "duration": 13,
    "start_time": "2024-06-13T22:38:07.732Z"
   },
   {
    "duration": 44,
    "start_time": "2024-06-13T22:38:07.747Z"
   },
   {
    "duration": 466,
    "start_time": "2024-06-13T22:38:07.795Z"
   },
   {
    "duration": 0,
    "start_time": "2024-06-13T22:38:08.265Z"
   },
   {
    "duration": 0,
    "start_time": "2024-06-13T22:38:08.268Z"
   },
   {
    "duration": 125,
    "start_time": "2024-06-13T22:40:40.589Z"
   },
   {
    "duration": 6,
    "start_time": "2024-06-13T22:40:50.612Z"
   },
   {
    "duration": 39,
    "start_time": "2024-06-13T22:40:50.622Z"
   },
   {
    "duration": 18,
    "start_time": "2024-06-13T22:40:50.664Z"
   },
   {
    "duration": 41,
    "start_time": "2024-06-13T22:40:50.685Z"
   },
   {
    "duration": 57,
    "start_time": "2024-06-13T22:40:50.733Z"
   },
   {
    "duration": 40,
    "start_time": "2024-06-13T22:40:50.793Z"
   },
   {
    "duration": 12,
    "start_time": "2024-06-13T22:40:50.837Z"
   },
   {
    "duration": 7,
    "start_time": "2024-06-13T22:40:50.853Z"
   },
   {
    "duration": 8,
    "start_time": "2024-06-13T22:40:50.865Z"
   },
   {
    "duration": 75,
    "start_time": "2024-06-13T22:40:50.876Z"
   },
   {
    "duration": 10,
    "start_time": "2024-06-13T22:40:50.955Z"
   },
   {
    "duration": 77,
    "start_time": "2024-06-13T22:40:50.968Z"
   },
   {
    "duration": 56518,
    "start_time": "2024-06-13T22:40:51.049Z"
   },
   {
    "duration": 0,
    "start_time": "2024-06-13T22:41:47.570Z"
   },
   {
    "duration": 0,
    "start_time": "2024-06-13T22:41:47.572Z"
   },
   {
    "duration": 8,
    "start_time": "2024-06-13T22:45:37.590Z"
   },
   {
    "duration": 48,
    "start_time": "2024-06-13T22:45:37.603Z"
   },
   {
    "duration": 17,
    "start_time": "2024-06-13T22:45:37.654Z"
   },
   {
    "duration": 18,
    "start_time": "2024-06-13T22:45:37.674Z"
   },
   {
    "duration": 28,
    "start_time": "2024-06-13T22:45:37.697Z"
   },
   {
    "duration": 53,
    "start_time": "2024-06-13T22:45:37.728Z"
   },
   {
    "duration": 42,
    "start_time": "2024-06-13T22:45:37.784Z"
   },
   {
    "duration": 13,
    "start_time": "2024-06-13T22:45:37.829Z"
   },
   {
    "duration": 6,
    "start_time": "2024-06-13T22:45:37.845Z"
   },
   {
    "duration": 7,
    "start_time": "2024-06-13T22:45:37.855Z"
   },
   {
    "duration": 68,
    "start_time": "2024-06-13T22:45:37.866Z"
   },
   {
    "duration": 11,
    "start_time": "2024-06-13T22:45:37.938Z"
   },
   {
    "duration": 41,
    "start_time": "2024-06-13T22:45:37.955Z"
   },
   {
    "duration": 2078581,
    "start_time": "2024-06-13T22:45:38.030Z"
   },
   {
    "duration": 8265,
    "start_time": "2024-06-13T23:20:16.614Z"
   },
   {
    "duration": 49959,
    "start_time": "2024-06-13T23:20:24.882Z"
   },
   {
    "duration": 267,
    "start_time": "2024-06-13T23:34:54.465Z"
   },
   {
    "duration": 267,
    "start_time": "2024-06-13T23:36:09.275Z"
   },
   {
    "duration": 42,
    "start_time": "2024-06-13T23:56:04.525Z"
   },
   {
    "duration": 6,
    "start_time": "2024-06-13T23:56:34.308Z"
   },
   {
    "duration": 234,
    "start_time": "2024-06-13T23:56:39.231Z"
   },
   {
    "duration": 196,
    "start_time": "2024-06-13T23:57:27.261Z"
   },
   {
    "duration": 25,
    "start_time": "2024-06-13T23:58:42.550Z"
   },
   {
    "duration": 8,
    "start_time": "2024-06-13T23:59:07.713Z"
   },
   {
    "duration": 333,
    "start_time": "2024-06-14T18:57:24.336Z"
   },
   {
    "duration": 5145,
    "start_time": "2024-06-14T18:57:49.716Z"
   },
   {
    "duration": 48,
    "start_time": "2024-06-14T18:57:54.865Z"
   },
   {
    "duration": 18,
    "start_time": "2024-06-14T18:57:54.916Z"
   },
   {
    "duration": 10,
    "start_time": "2024-06-14T18:57:54.937Z"
   },
   {
    "duration": 7,
    "start_time": "2024-06-14T18:57:54.952Z"
   },
   {
    "duration": 90,
    "start_time": "2024-06-14T18:57:54.962Z"
   },
   {
    "duration": 15,
    "start_time": "2024-06-14T18:57:55.055Z"
   },
   {
    "duration": 10,
    "start_time": "2024-06-14T18:57:55.074Z"
   },
   {
    "duration": 5,
    "start_time": "2024-06-14T18:57:55.113Z"
   },
   {
    "duration": 7,
    "start_time": "2024-06-14T18:57:55.122Z"
   },
   {
    "duration": 23,
    "start_time": "2024-06-14T18:57:55.133Z"
   },
   {
    "duration": 54,
    "start_time": "2024-06-14T18:57:55.159Z"
   },
   {
    "duration": 38,
    "start_time": "2024-06-14T18:57:55.215Z"
   },
   {
    "duration": 17,
    "start_time": "2024-06-14T18:58:10.131Z"
   },
   {
    "duration": 6,
    "start_time": "2024-06-14T19:04:15.289Z"
   },
   {
    "duration": 40,
    "start_time": "2024-06-14T19:04:15.300Z"
   },
   {
    "duration": 19,
    "start_time": "2024-06-14T19:04:15.342Z"
   },
   {
    "duration": 10,
    "start_time": "2024-06-14T19:04:15.364Z"
   },
   {
    "duration": 39,
    "start_time": "2024-06-14T19:04:15.378Z"
   },
   {
    "duration": 60,
    "start_time": "2024-06-14T19:04:15.421Z"
   },
   {
    "duration": 40,
    "start_time": "2024-06-14T19:04:15.484Z"
   },
   {
    "duration": 11,
    "start_time": "2024-06-14T19:04:15.526Z"
   },
   {
    "duration": 5,
    "start_time": "2024-06-14T19:04:15.540Z"
   },
   {
    "duration": 7,
    "start_time": "2024-06-14T19:04:15.548Z"
   },
   {
    "duration": 67,
    "start_time": "2024-06-14T19:04:15.559Z"
   },
   {
    "duration": 9,
    "start_time": "2024-06-14T19:04:15.628Z"
   },
   {
    "duration": 72,
    "start_time": "2024-06-14T19:04:15.640Z"
   },
   {
    "duration": 5473,
    "start_time": "2024-06-14T22:43:27.114Z"
   },
   {
    "duration": 488,
    "start_time": "2024-06-14T22:43:58.259Z"
   },
   {
    "duration": 26,
    "start_time": "2024-06-14T22:44:05.785Z"
   },
   {
    "duration": 27,
    "start_time": "2024-06-14T22:44:10.511Z"
   },
   {
    "duration": 25,
    "start_time": "2024-06-14T22:44:12.739Z"
   },
   {
    "duration": 61,
    "start_time": "2024-06-14T22:44:17.174Z"
   },
   {
    "duration": 19,
    "start_time": "2024-06-14T22:44:19.869Z"
   },
   {
    "duration": 11,
    "start_time": "2024-06-14T22:44:22.336Z"
   },
   {
    "duration": 17,
    "start_time": "2024-06-14T22:44:24.820Z"
   },
   {
    "duration": 53,
    "start_time": "2024-06-14T22:44:27.420Z"
   },
   {
    "duration": 21,
    "start_time": "2024-06-14T22:44:30.995Z"
   },
   {
    "duration": 10,
    "start_time": "2024-06-14T22:44:33.270Z"
   },
   {
    "duration": 5,
    "start_time": "2024-06-14T22:44:36.217Z"
   },
   {
    "duration": 7,
    "start_time": "2024-06-14T22:44:38.691Z"
   },
   {
    "duration": 7,
    "start_time": "2024-06-14T22:44:53.483Z"
   },
   {
    "duration": 24,
    "start_time": "2024-06-14T22:45:02.733Z"
   },
   {
    "duration": 10,
    "start_time": "2024-06-14T22:45:05.690Z"
   },
   {
    "duration": 39,
    "start_time": "2024-06-14T22:45:10.276Z"
   },
   {
    "duration": 261,
    "start_time": "2024-06-14T22:45:15.345Z"
   },
   {
    "duration": 211,
    "start_time": "2024-06-14T22:45:23.421Z"
   },
   {
    "duration": 9,
    "start_time": "2024-06-14T22:45:27.069Z"
   },
   {
    "duration": 19,
    "start_time": "2024-06-14T22:45:29.583Z"
   },
   {
    "duration": 3128741,
    "start_time": "2024-06-14T22:45:41.417Z"
   },
   {
    "duration": 11687,
    "start_time": "2024-06-14T23:37:50.162Z"
   },
   {
    "duration": 129270,
    "start_time": "2024-06-14T23:38:01.852Z"
   },
   {
    "duration": 364,
    "start_time": "2024-06-14T23:44:58.622Z"
   },
   {
    "duration": 756,
    "start_time": "2024-06-14T23:45:51.836Z"
   },
   {
    "duration": 208,
    "start_time": "2024-06-14T23:46:31.419Z"
   },
   {
    "duration": 8,
    "start_time": "2024-06-14T23:46:35.741Z"
   },
   {
    "duration": 8,
    "start_time": "2024-06-14T23:47:05.339Z"
   },
   {
    "duration": 9,
    "start_time": "2024-06-14T23:47:28.355Z"
   },
   {
    "duration": 6,
    "start_time": "2024-06-15T00:21:47.083Z"
   },
   {
    "duration": 6,
    "start_time": "2024-06-15T00:21:51.559Z"
   },
   {
    "duration": 769,
    "start_time": "2024-06-15T00:35:16.448Z"
   },
   {
    "duration": 258,
    "start_time": "2024-06-15T00:36:41.214Z"
   },
   {
    "duration": 209,
    "start_time": "2024-06-15T01:28:07.906Z"
   },
   {
    "duration": 8,
    "start_time": "2024-06-15T01:28:37.369Z"
   },
   {
    "duration": 335,
    "start_time": "2024-06-16T16:32:09.647Z"
   },
   {
    "duration": 5217,
    "start_time": "2024-06-16T16:32:19.981Z"
   },
   {
    "duration": 68,
    "start_time": "2024-06-16T16:32:25.205Z"
   },
   {
    "duration": 5,
    "start_time": "2024-06-16T16:32:38.595Z"
   },
   {
    "duration": 37,
    "start_time": "2024-06-16T16:32:38.605Z"
   },
   {
    "duration": 98,
    "start_time": "2024-06-16T16:32:38.645Z"
   },
   {
    "duration": 11,
    "start_time": "2024-06-16T16:32:38.746Z"
   },
   {
    "duration": 8,
    "start_time": "2024-06-16T16:32:38.761Z"
   },
   {
    "duration": 85,
    "start_time": "2024-06-16T16:32:38.772Z"
   },
   {
    "duration": 17,
    "start_time": "2024-06-16T16:32:38.860Z"
   },
   {
    "duration": 11,
    "start_time": "2024-06-16T16:32:38.880Z"
   },
   {
    "duration": 39,
    "start_time": "2024-06-16T16:32:38.894Z"
   },
   {
    "duration": 7,
    "start_time": "2024-06-16T16:32:38.936Z"
   },
   {
    "duration": 24,
    "start_time": "2024-06-16T16:32:38.947Z"
   },
   {
    "duration": 9,
    "start_time": "2024-06-16T16:32:38.974Z"
   },
   {
    "duration": 77,
    "start_time": "2024-06-16T16:32:38.986Z"
   },
   {
    "duration": 7,
    "start_time": "2024-06-16T16:32:43.831Z"
   },
   {
    "duration": 5059,
    "start_time": "2024-06-17T09:00:38.988Z"
   },
   {
    "duration": 55,
    "start_time": "2024-06-17T09:00:44.051Z"
   },
   {
    "duration": 22,
    "start_time": "2024-06-17T09:00:44.109Z"
   },
   {
    "duration": 10,
    "start_time": "2024-06-17T09:00:44.134Z"
   },
   {
    "duration": 7,
    "start_time": "2024-06-17T09:00:44.149Z"
   },
   {
    "duration": 81,
    "start_time": "2024-06-17T09:00:44.159Z"
   },
   {
    "duration": 15,
    "start_time": "2024-06-17T09:00:44.243Z"
   },
   {
    "duration": 10,
    "start_time": "2024-06-17T09:00:44.261Z"
   },
   {
    "duration": 7,
    "start_time": "2024-06-17T09:00:44.274Z"
   },
   {
    "duration": 44,
    "start_time": "2024-06-17T09:00:44.284Z"
   },
   {
    "duration": 24,
    "start_time": "2024-06-17T09:00:44.331Z"
   },
   {
    "duration": 9,
    "start_time": "2024-06-17T09:00:44.358Z"
   },
   {
    "duration": 83,
    "start_time": "2024-06-17T09:00:44.370Z"
   },
   {
    "duration": 491114,
    "start_time": "2024-06-17T09:00:44.460Z"
   },
   {
    "duration": 0,
    "start_time": "2024-06-17T09:08:55.577Z"
   },
   {
    "duration": 0,
    "start_time": "2024-06-17T09:08:55.579Z"
   },
   {
    "duration": 0,
    "start_time": "2024-06-17T09:08:55.582Z"
   },
   {
    "duration": 0,
    "start_time": "2024-06-17T09:08:55.584Z"
   },
   {
    "duration": 0,
    "start_time": "2024-06-17T09:08:55.586Z"
   },
   {
    "duration": 0,
    "start_time": "2024-06-17T09:08:55.588Z"
   },
   {
    "duration": 0,
    "start_time": "2024-06-17T09:08:55.590Z"
   },
   {
    "duration": 0,
    "start_time": "2024-06-17T09:08:55.592Z"
   },
   {
    "duration": 0,
    "start_time": "2024-06-17T09:08:55.623Z"
   },
   {
    "duration": 0,
    "start_time": "2024-06-17T09:08:55.625Z"
   },
   {
    "duration": 0,
    "start_time": "2024-06-17T09:08:55.627Z"
   },
   {
    "duration": 0,
    "start_time": "2024-06-17T09:08:55.628Z"
   },
   {
    "duration": 0,
    "start_time": "2024-06-17T09:08:55.630Z"
   },
   {
    "duration": 5238,
    "start_time": "2024-06-17T17:07:30.432Z"
   },
   {
    "duration": 56,
    "start_time": "2024-06-17T17:07:35.674Z"
   },
   {
    "duration": 18,
    "start_time": "2024-06-17T17:07:35.733Z"
   },
   {
    "duration": 12,
    "start_time": "2024-06-17T17:07:35.754Z"
   },
   {
    "duration": 37,
    "start_time": "2024-06-17T17:07:35.771Z"
   },
   {
    "duration": 52,
    "start_time": "2024-06-17T17:07:35.811Z"
   },
   {
    "duration": 47,
    "start_time": "2024-06-17T17:07:35.865Z"
   },
   {
    "duration": 1309,
    "start_time": "2024-06-17T17:07:35.915Z"
   },
   {
    "duration": 7,
    "start_time": "2024-06-17T17:07:53.802Z"
   },
   {
    "duration": 33,
    "start_time": "2024-06-17T17:23:30.565Z"
   },
   {
    "duration": 6,
    "start_time": "2024-06-17T17:23:50.947Z"
   },
   {
    "duration": 39,
    "start_time": "2024-06-17T17:23:50.958Z"
   },
   {
    "duration": 17,
    "start_time": "2024-06-17T17:23:51.000Z"
   },
   {
    "duration": 12,
    "start_time": "2024-06-17T17:23:51.021Z"
   },
   {
    "duration": 8,
    "start_time": "2024-06-17T17:23:51.036Z"
   },
   {
    "duration": 87,
    "start_time": "2024-06-17T17:23:51.048Z"
   },
   {
    "duration": 16,
    "start_time": "2024-06-17T17:23:51.137Z"
   },
   {
    "duration": 8,
    "start_time": "2024-06-17T17:23:51.155Z"
   },
   {
    "duration": 42,
    "start_time": "2024-06-17T17:23:51.166Z"
   },
   {
    "duration": 5,
    "start_time": "2024-06-17T17:23:51.213Z"
   },
   {
    "duration": 7,
    "start_time": "2024-06-17T17:23:51.221Z"
   },
   {
    "duration": 25,
    "start_time": "2024-06-17T17:23:51.231Z"
   },
   {
    "duration": 53,
    "start_time": "2024-06-17T17:23:51.260Z"
   },
   {
    "duration": 2974,
    "start_time": "2024-06-17T17:26:36.084Z"
   },
   {
    "duration": 2987,
    "start_time": "2024-06-17T17:26:47.982Z"
   },
   {
    "duration": 741,
    "start_time": "2024-06-17T17:39:13.944Z"
   },
   {
    "duration": 45,
    "start_time": "2024-06-17T17:39:36.771Z"
   },
   {
    "duration": 5,
    "start_time": "2024-06-17T17:42:49.085Z"
   },
   {
    "duration": 36,
    "start_time": "2024-06-17T17:42:49.095Z"
   },
   {
    "duration": 16,
    "start_time": "2024-06-17T17:42:49.135Z"
   },
   {
    "duration": 7,
    "start_time": "2024-06-17T17:42:49.155Z"
   },
   {
    "duration": 87,
    "start_time": "2024-06-17T17:42:49.166Z"
   },
   {
    "duration": 17,
    "start_time": "2024-06-17T17:42:49.256Z"
   },
   {
    "duration": 7,
    "start_time": "2024-06-17T17:42:49.301Z"
   },
   {
    "duration": 11,
    "start_time": "2024-06-17T17:42:49.311Z"
   },
   {
    "duration": 4,
    "start_time": "2024-06-17T17:42:49.328Z"
   },
   {
    "duration": 3029,
    "start_time": "2024-06-17T17:42:49.336Z"
   },
   {
    "duration": 8,
    "start_time": "2024-06-17T17:42:52.368Z"
   },
   {
    "duration": 42,
    "start_time": "2024-06-17T17:42:52.379Z"
   },
   {
    "duration": 12,
    "start_time": "2024-06-17T17:42:52.424Z"
   },
   {
    "duration": 71,
    "start_time": "2024-06-17T17:42:52.439Z"
   },
   {
    "duration": 3047,
    "start_time": "2024-06-17T17:52:05.602Z"
   },
   {
    "duration": 3121,
    "start_time": "2024-06-17T17:58:14.559Z"
   },
   {
    "duration": 314,
    "start_time": "2024-06-17T20:10:08.675Z"
   },
   {
    "duration": 5088,
    "start_time": "2024-06-17T20:10:15.297Z"
   },
   {
    "duration": 57,
    "start_time": "2024-06-17T20:10:20.389Z"
   },
   {
    "duration": 20,
    "start_time": "2024-06-17T20:10:20.450Z"
   },
   {
    "duration": 10,
    "start_time": "2024-06-17T20:10:20.474Z"
   },
   {
    "duration": 79,
    "start_time": "2024-06-17T20:10:20.488Z"
   },
   {
    "duration": 42,
    "start_time": "2024-06-17T20:10:20.571Z"
   },
   {
    "duration": 8,
    "start_time": "2024-06-17T20:10:20.617Z"
   },
   {
    "duration": 12,
    "start_time": "2024-06-17T20:10:20.629Z"
   },
   {
    "duration": 6,
    "start_time": "2024-06-17T20:10:20.644Z"
   },
   {
    "duration": 3195,
    "start_time": "2024-06-17T20:10:20.655Z"
   },
   {
    "duration": 253,
    "start_time": "2024-06-17T20:11:54.800Z"
   },
   {
    "duration": 2870,
    "start_time": "2024-06-17T20:18:04.349Z"
   },
   {
    "duration": 2978,
    "start_time": "2024-06-17T20:18:59.498Z"
   },
   {
    "duration": 2977,
    "start_time": "2024-06-17T20:22:36.315Z"
   },
   {
    "duration": 2080,
    "start_time": "2024-06-17T20:33:55.832Z"
   },
   {
    "duration": 2992,
    "start_time": "2024-06-17T20:36:40.450Z"
   },
   {
    "duration": 34,
    "start_time": "2024-06-17T20:41:37.777Z"
   },
   {
    "duration": 30,
    "start_time": "2024-06-17T20:42:05.737Z"
   },
   {
    "duration": 6,
    "start_time": "2024-06-17T20:42:17.208Z"
   },
   {
    "duration": 36,
    "start_time": "2024-06-17T20:42:17.218Z"
   },
   {
    "duration": 18,
    "start_time": "2024-06-17T20:42:17.257Z"
   },
   {
    "duration": 40,
    "start_time": "2024-06-17T20:42:17.278Z"
   },
   {
    "duration": 50,
    "start_time": "2024-06-17T20:42:17.321Z"
   },
   {
    "duration": 45,
    "start_time": "2024-06-17T20:42:17.375Z"
   },
   {
    "duration": 7,
    "start_time": "2024-06-17T20:42:17.423Z"
   },
   {
    "duration": 11,
    "start_time": "2024-06-17T20:42:17.433Z"
   },
   {
    "duration": 5,
    "start_time": "2024-06-17T20:42:17.449Z"
   },
   {
    "duration": 3021,
    "start_time": "2024-06-17T20:42:17.457Z"
   },
   {
    "duration": 7,
    "start_time": "2024-06-17T20:42:20.481Z"
   },
   {
    "duration": 42,
    "start_time": "2024-06-17T20:42:20.491Z"
   },
   {
    "duration": 13,
    "start_time": "2024-06-17T20:42:20.536Z"
   },
   {
    "duration": 75,
    "start_time": "2024-06-17T20:42:20.552Z"
   },
   {
    "duration": 16,
    "start_time": "2024-06-17T20:42:33.134Z"
   },
   {
    "duration": 17,
    "start_time": "2024-06-17T20:42:48.492Z"
   },
   {
    "duration": 3047,
    "start_time": "2024-06-17T20:46:49.613Z"
   },
   {
    "duration": 3424,
    "start_time": "2024-06-17T20:47:08.437Z"
   },
   {
    "duration": 3669,
    "start_time": "2024-06-17T20:47:41.951Z"
   },
   {
    "duration": 3093,
    "start_time": "2024-06-17T20:49:39.771Z"
   },
   {
    "duration": 3712,
    "start_time": "2024-06-17T20:54:29.000Z"
   },
   {
    "duration": 3889,
    "start_time": "2024-06-17T20:59:29.551Z"
   },
   {
    "duration": 3903,
    "start_time": "2024-06-17T21:01:00.884Z"
   },
   {
    "duration": 3685,
    "start_time": "2024-06-17T21:03:35.474Z"
   },
   {
    "duration": 4483,
    "start_time": "2024-06-17T21:05:24.797Z"
   },
   {
    "duration": 3775,
    "start_time": "2024-06-17T21:05:39.738Z"
   },
   {
    "duration": 3145,
    "start_time": "2024-06-17T21:07:15.655Z"
   },
   {
    "duration": 3627,
    "start_time": "2024-06-17T21:13:58.968Z"
   },
   {
    "duration": 225,
    "start_time": "2024-06-17T21:36:26.906Z"
   },
   {
    "duration": 29,
    "start_time": "2024-06-17T21:38:17.883Z"
   },
   {
    "duration": 27,
    "start_time": "2024-06-17T21:39:38.916Z"
   },
   {
    "duration": 1362,
    "start_time": "2024-06-17T21:41:58.961Z"
   },
   {
    "duration": 45,
    "start_time": "2024-06-17T21:42:00.326Z"
   },
   {
    "duration": 44,
    "start_time": "2024-06-17T21:42:00.375Z"
   },
   {
    "duration": 8,
    "start_time": "2024-06-17T21:42:00.422Z"
   },
   {
    "duration": 127,
    "start_time": "2024-06-17T21:42:00.434Z"
   },
   {
    "duration": 15,
    "start_time": "2024-06-17T21:42:00.564Z"
   },
   {
    "duration": 32,
    "start_time": "2024-06-17T21:42:00.582Z"
   },
   {
    "duration": 11,
    "start_time": "2024-06-17T21:42:00.617Z"
   },
   {
    "duration": 5,
    "start_time": "2024-06-17T21:42:00.631Z"
   },
   {
    "duration": 58889,
    "start_time": "2024-06-17T21:42:00.639Z"
   },
   {
    "duration": 478,
    "start_time": "2024-06-17T21:46:55.261Z"
   },
   {
    "duration": 3455,
    "start_time": "2024-06-17T21:47:08.258Z"
   },
   {
    "duration": 3643,
    "start_time": "2024-06-17T21:47:28.929Z"
   },
   {
    "duration": 447,
    "start_time": "2024-06-17T21:54:34.084Z"
   },
   {
    "duration": 6,
    "start_time": "2024-06-17T21:54:42.683Z"
   },
   {
    "duration": 38,
    "start_time": "2024-06-17T21:54:42.693Z"
   },
   {
    "duration": 17,
    "start_time": "2024-06-17T21:54:42.734Z"
   },
   {
    "duration": 7,
    "start_time": "2024-06-17T21:54:42.755Z"
   },
   {
    "duration": 82,
    "start_time": "2024-06-17T21:54:42.766Z"
   },
   {
    "duration": 16,
    "start_time": "2024-06-17T21:54:42.851Z"
   },
   {
    "duration": 13,
    "start_time": "2024-06-17T21:54:42.870Z"
   },
   {
    "duration": 35,
    "start_time": "2024-06-17T21:54:42.889Z"
   },
   {
    "duration": 5,
    "start_time": "2024-06-17T21:54:42.931Z"
   },
   {
    "duration": 3751,
    "start_time": "2024-06-17T21:54:42.940Z"
   },
   {
    "duration": 18,
    "start_time": "2024-06-17T21:54:46.695Z"
   },
   {
    "duration": 26,
    "start_time": "2024-06-17T21:54:46.717Z"
   },
   {
    "duration": 10,
    "start_time": "2024-06-17T21:54:46.745Z"
   },
   {
    "duration": 3648,
    "start_time": "2024-06-17T22:28:47.347Z"
   },
   {
    "duration": 3708,
    "start_time": "2024-06-17T22:37:11.622Z"
   },
   {
    "duration": 3712,
    "start_time": "2024-06-17T22:37:30.123Z"
   },
   {
    "duration": 3679,
    "start_time": "2024-06-17T22:38:14.759Z"
   },
   {
    "duration": 3677,
    "start_time": "2024-06-17T22:38:31.190Z"
   },
   {
    "duration": 3703,
    "start_time": "2024-06-17T22:38:44.462Z"
   },
   {
    "duration": 1396,
    "start_time": "2024-06-17T23:19:47.065Z"
   },
   {
    "duration": 60,
    "start_time": "2024-06-17T23:19:48.465Z"
   },
   {
    "duration": 20,
    "start_time": "2024-06-17T23:19:48.529Z"
   },
   {
    "duration": 9,
    "start_time": "2024-06-17T23:19:48.554Z"
   },
   {
    "duration": 155,
    "start_time": "2024-06-17T23:19:48.568Z"
   },
   {
    "duration": 14,
    "start_time": "2024-06-17T23:19:48.728Z"
   },
   {
    "duration": 7,
    "start_time": "2024-06-17T23:19:48.744Z"
   },
   {
    "duration": 15,
    "start_time": "2024-06-17T23:19:48.753Z"
   },
   {
    "duration": 6,
    "start_time": "2024-06-17T23:19:48.771Z"
   },
   {
    "duration": 3545,
    "start_time": "2024-06-17T23:19:48.816Z"
   },
   {
    "duration": 7,
    "start_time": "2024-06-17T23:19:52.364Z"
   },
   {
    "duration": 24,
    "start_time": "2024-06-17T23:19:52.374Z"
   },
   {
    "duration": 19,
    "start_time": "2024-06-17T23:19:52.401Z"
   },
   {
    "duration": 462,
    "start_time": "2024-06-17T23:19:52.422Z"
   },
   {
    "duration": 0,
    "start_time": "2024-06-17T23:19:52.887Z"
   },
   {
    "duration": 0,
    "start_time": "2024-06-17T23:19:52.890Z"
   },
   {
    "duration": 0,
    "start_time": "2024-06-17T23:19:52.892Z"
   },
   {
    "duration": 0,
    "start_time": "2024-06-17T23:19:52.894Z"
   },
   {
    "duration": 0,
    "start_time": "2024-06-17T23:19:52.912Z"
   },
   {
    "duration": 0,
    "start_time": "2024-06-17T23:19:52.915Z"
   },
   {
    "duration": 0,
    "start_time": "2024-06-17T23:19:52.917Z"
   },
   {
    "duration": 0,
    "start_time": "2024-06-17T23:19:52.919Z"
   },
   {
    "duration": 0,
    "start_time": "2024-06-17T23:19:52.922Z"
   },
   {
    "duration": 0,
    "start_time": "2024-06-17T23:19:52.924Z"
   },
   {
    "duration": 0,
    "start_time": "2024-06-17T23:19:52.926Z"
   },
   {
    "duration": 0,
    "start_time": "2024-06-17T23:19:52.927Z"
   },
   {
    "duration": 0,
    "start_time": "2024-06-17T23:19:52.930Z"
   },
   {
    "duration": 0,
    "start_time": "2024-06-17T23:19:52.932Z"
   },
   {
    "duration": 0,
    "start_time": "2024-06-17T23:19:52.935Z"
   },
   {
    "duration": 0,
    "start_time": "2024-06-17T23:19:52.938Z"
   },
   {
    "duration": 0,
    "start_time": "2024-06-17T23:19:52.940Z"
   },
   {
    "duration": 0,
    "start_time": "2024-06-17T23:19:52.942Z"
   },
   {
    "duration": 46,
    "start_time": "2024-06-17T23:21:26.116Z"
   },
   {
    "duration": 5,
    "start_time": "2024-06-17T23:21:57.180Z"
   },
   {
    "duration": 41,
    "start_time": "2024-06-17T23:21:57.190Z"
   },
   {
    "duration": 16,
    "start_time": "2024-06-17T23:21:57.234Z"
   },
   {
    "duration": 8,
    "start_time": "2024-06-17T23:21:57.254Z"
   },
   {
    "duration": 98,
    "start_time": "2024-06-17T23:21:57.265Z"
   },
   {
    "duration": 15,
    "start_time": "2024-06-17T23:21:57.366Z"
   },
   {
    "duration": 30,
    "start_time": "2024-06-17T23:21:57.384Z"
   },
   {
    "duration": 10,
    "start_time": "2024-06-17T23:21:57.417Z"
   },
   {
    "duration": 5,
    "start_time": "2024-06-17T23:21:57.434Z"
   },
   {
    "duration": 3760,
    "start_time": "2024-06-17T23:21:57.442Z"
   },
   {
    "duration": 7,
    "start_time": "2024-06-17T23:22:01.212Z"
   },
   {
    "duration": 25,
    "start_time": "2024-06-17T23:22:01.222Z"
   },
   {
    "duration": 10,
    "start_time": "2024-06-17T23:22:01.250Z"
   },
   {
    "duration": 74,
    "start_time": "2024-06-17T23:22:01.263Z"
   },
   {
    "duration": 48338,
    "start_time": "2024-06-17T23:22:01.339Z"
   },
   {
    "duration": 0,
    "start_time": "2024-06-17T23:22:49.682Z"
   },
   {
    "duration": 0,
    "start_time": "2024-06-17T23:22:49.683Z"
   },
   {
    "duration": 0,
    "start_time": "2024-06-17T23:22:49.688Z"
   },
   {
    "duration": 0,
    "start_time": "2024-06-17T23:22:49.696Z"
   },
   {
    "duration": 0,
    "start_time": "2024-06-17T23:22:49.700Z"
   },
   {
    "duration": 0,
    "start_time": "2024-06-17T23:22:49.713Z"
   },
   {
    "duration": 0,
    "start_time": "2024-06-17T23:22:49.715Z"
   },
   {
    "duration": 0,
    "start_time": "2024-06-17T23:22:49.717Z"
   },
   {
    "duration": 0,
    "start_time": "2024-06-17T23:22:49.720Z"
   },
   {
    "duration": 0,
    "start_time": "2024-06-17T23:22:49.722Z"
   },
   {
    "duration": 0,
    "start_time": "2024-06-17T23:22:49.724Z"
   },
   {
    "duration": 0,
    "start_time": "2024-06-17T23:22:49.726Z"
   },
   {
    "duration": 0,
    "start_time": "2024-06-17T23:22:49.728Z"
   },
   {
    "duration": 0,
    "start_time": "2024-06-17T23:22:49.730Z"
   },
   {
    "duration": 0,
    "start_time": "2024-06-17T23:22:49.732Z"
   },
   {
    "duration": 0,
    "start_time": "2024-06-17T23:22:49.734Z"
   },
   {
    "duration": 0,
    "start_time": "2024-06-17T23:22:49.736Z"
   },
   {
    "duration": 5,
    "start_time": "2024-06-17T23:23:33.868Z"
   },
   {
    "duration": 36,
    "start_time": "2024-06-17T23:23:33.878Z"
   },
   {
    "duration": 16,
    "start_time": "2024-06-17T23:23:33.920Z"
   },
   {
    "duration": 17,
    "start_time": "2024-06-17T23:23:33.939Z"
   },
   {
    "duration": 8,
    "start_time": "2024-06-17T23:23:33.961Z"
   },
   {
    "duration": 88,
    "start_time": "2024-06-17T23:23:33.972Z"
   },
   {
    "duration": 14,
    "start_time": "2024-06-17T23:23:34.063Z"
   },
   {
    "duration": 34,
    "start_time": "2024-06-17T23:23:34.080Z"
   },
   {
    "duration": 10,
    "start_time": "2024-06-17T23:23:34.117Z"
   },
   {
    "duration": 6,
    "start_time": "2024-06-17T23:23:34.131Z"
   },
   {
    "duration": 3549,
    "start_time": "2024-06-17T23:23:34.142Z"
   },
   {
    "duration": 19,
    "start_time": "2024-06-17T23:23:37.695Z"
   },
   {
    "duration": 27,
    "start_time": "2024-06-17T23:23:37.719Z"
   },
   {
    "duration": 11,
    "start_time": "2024-06-17T23:23:37.753Z"
   },
   {
    "duration": 76,
    "start_time": "2024-06-17T23:23:37.768Z"
   },
   {
    "duration": 965033,
    "start_time": "2024-06-17T23:23:37.847Z"
   },
   {
    "duration": 0,
    "start_time": "2024-06-17T23:39:42.884Z"
   },
   {
    "duration": 0,
    "start_time": "2024-06-17T23:39:42.885Z"
   },
   {
    "duration": 0,
    "start_time": "2024-06-17T23:39:42.888Z"
   },
   {
    "duration": 0,
    "start_time": "2024-06-17T23:39:42.890Z"
   },
   {
    "duration": 0,
    "start_time": "2024-06-17T23:39:42.892Z"
   },
   {
    "duration": 0,
    "start_time": "2024-06-17T23:39:42.913Z"
   },
   {
    "duration": 0,
    "start_time": "2024-06-17T23:39:42.915Z"
   },
   {
    "duration": 0,
    "start_time": "2024-06-17T23:39:42.918Z"
   },
   {
    "duration": 0,
    "start_time": "2024-06-17T23:39:42.920Z"
   },
   {
    "duration": 0,
    "start_time": "2024-06-17T23:39:42.924Z"
   },
   {
    "duration": 0,
    "start_time": "2024-06-17T23:39:42.926Z"
   },
   {
    "duration": 0,
    "start_time": "2024-06-17T23:39:42.928Z"
   },
   {
    "duration": 0,
    "start_time": "2024-06-17T23:39:42.931Z"
   },
   {
    "duration": 0,
    "start_time": "2024-06-17T23:39:42.934Z"
   },
   {
    "duration": 0,
    "start_time": "2024-06-17T23:39:42.936Z"
   },
   {
    "duration": 0,
    "start_time": "2024-06-17T23:39:42.939Z"
   },
   {
    "duration": 0,
    "start_time": "2024-06-17T23:39:42.941Z"
   },
   {
    "duration": 5,
    "start_time": "2024-06-17T23:55:42.544Z"
   },
   {
    "duration": 38,
    "start_time": "2024-06-17T23:55:42.553Z"
   },
   {
    "duration": 20,
    "start_time": "2024-06-17T23:55:42.594Z"
   },
   {
    "duration": 10,
    "start_time": "2024-06-17T23:55:42.618Z"
   },
   {
    "duration": 8,
    "start_time": "2024-06-17T23:55:42.630Z"
   },
   {
    "duration": 85,
    "start_time": "2024-06-17T23:55:42.641Z"
   },
   {
    "duration": 15,
    "start_time": "2024-06-17T23:55:42.729Z"
   },
   {
    "duration": 7,
    "start_time": "2024-06-17T23:55:42.747Z"
   },
   {
    "duration": 10,
    "start_time": "2024-06-17T23:55:42.761Z"
   },
   {
    "duration": 5,
    "start_time": "2024-06-17T23:55:42.812Z"
   },
   {
    "duration": 3614,
    "start_time": "2024-06-17T23:55:42.820Z"
   },
   {
    "duration": 6,
    "start_time": "2024-06-17T23:55:46.437Z"
   },
   {
    "duration": 23,
    "start_time": "2024-06-17T23:55:46.447Z"
   },
   {
    "duration": 43,
    "start_time": "2024-06-17T23:55:46.473Z"
   },
   {
    "duration": 43,
    "start_time": "2024-06-17T23:55:46.520Z"
   },
   {
    "duration": 934371,
    "start_time": "2024-06-17T23:55:46.566Z"
   },
   {
    "duration": 83,
    "start_time": "2024-06-18T00:11:20.940Z"
   },
   {
    "duration": 0,
    "start_time": "2024-06-18T00:11:21.027Z"
   },
   {
    "duration": 0,
    "start_time": "2024-06-18T00:11:21.030Z"
   },
   {
    "duration": 0,
    "start_time": "2024-06-18T00:11:21.032Z"
   },
   {
    "duration": 0,
    "start_time": "2024-06-18T00:11:21.035Z"
   },
   {
    "duration": 0,
    "start_time": "2024-06-18T00:11:21.036Z"
   },
   {
    "duration": 0,
    "start_time": "2024-06-18T00:11:21.039Z"
   },
   {
    "duration": 0,
    "start_time": "2024-06-18T00:11:21.041Z"
   },
   {
    "duration": 0,
    "start_time": "2024-06-18T00:11:21.043Z"
   },
   {
    "duration": 0,
    "start_time": "2024-06-18T00:11:21.046Z"
   },
   {
    "duration": 0,
    "start_time": "2024-06-18T00:11:21.049Z"
   },
   {
    "duration": 0,
    "start_time": "2024-06-18T00:11:21.051Z"
   },
   {
    "duration": 0,
    "start_time": "2024-06-18T00:11:21.054Z"
   },
   {
    "duration": 0,
    "start_time": "2024-06-18T00:11:21.056Z"
   },
   {
    "duration": 0,
    "start_time": "2024-06-18T00:11:21.059Z"
   },
   {
    "duration": 0,
    "start_time": "2024-06-18T00:11:21.112Z"
   },
   {
    "duration": 0,
    "start_time": "2024-06-18T00:11:21.114Z"
   },
   {
    "duration": 0,
    "start_time": "2024-06-18T00:11:21.116Z"
   },
   {
    "duration": 0,
    "start_time": "2024-06-18T00:11:21.118Z"
   },
   {
    "duration": 0,
    "start_time": "2024-06-18T00:11:21.120Z"
   },
   {
    "duration": 932078,
    "start_time": "2024-06-18T00:13:58.916Z"
   },
   {
    "duration": 947204,
    "start_time": "2024-06-18T00:29:30.998Z"
   },
   {
    "duration": 62,
    "start_time": "2024-06-18T00:45:18.211Z"
   },
   {
    "duration": 0,
    "start_time": "2024-06-18T00:45:18.278Z"
   },
   {
    "duration": 0,
    "start_time": "2024-06-18T00:45:18.281Z"
   },
   {
    "duration": 0,
    "start_time": "2024-06-18T00:45:18.284Z"
   },
   {
    "duration": 0,
    "start_time": "2024-06-18T00:45:18.287Z"
   },
   {
    "duration": 0,
    "start_time": "2024-06-18T00:45:18.314Z"
   },
   {
    "duration": 0,
    "start_time": "2024-06-18T00:45:18.316Z"
   },
   {
    "duration": 0,
    "start_time": "2024-06-18T00:45:18.318Z"
   },
   {
    "duration": 0,
    "start_time": "2024-06-18T00:45:18.321Z"
   },
   {
    "duration": 0,
    "start_time": "2024-06-18T00:45:18.323Z"
   },
   {
    "duration": 0,
    "start_time": "2024-06-18T00:45:18.325Z"
   },
   {
    "duration": 0,
    "start_time": "2024-06-18T00:45:18.329Z"
   },
   {
    "duration": 0,
    "start_time": "2024-06-18T00:45:18.331Z"
   },
   {
    "duration": 0,
    "start_time": "2024-06-18T00:45:18.333Z"
   },
   {
    "duration": 0,
    "start_time": "2024-06-18T00:45:18.336Z"
   },
   {
    "duration": 0,
    "start_time": "2024-06-18T00:45:18.338Z"
   },
   {
    "duration": 0,
    "start_time": "2024-06-18T00:45:18.341Z"
   },
   {
    "duration": 0,
    "start_time": "2024-06-18T00:45:18.343Z"
   },
   {
    "duration": 0,
    "start_time": "2024-06-18T00:45:18.346Z"
   },
   {
    "duration": 6,
    "start_time": "2024-06-18T00:52:22.443Z"
   },
   {
    "duration": 39,
    "start_time": "2024-06-18T00:52:22.453Z"
   },
   {
    "duration": 24,
    "start_time": "2024-06-18T00:52:22.495Z"
   },
   {
    "duration": 10,
    "start_time": "2024-06-18T00:52:22.523Z"
   },
   {
    "duration": 7,
    "start_time": "2024-06-18T00:52:22.536Z"
   },
   {
    "duration": 89,
    "start_time": "2024-06-18T00:52:22.547Z"
   },
   {
    "duration": 15,
    "start_time": "2024-06-18T00:52:22.639Z"
   },
   {
    "duration": 7,
    "start_time": "2024-06-18T00:52:22.657Z"
   },
   {
    "duration": 44,
    "start_time": "2024-06-18T00:52:22.668Z"
   },
   {
    "duration": 5,
    "start_time": "2024-06-18T00:52:22.718Z"
   },
   {
    "duration": 3560,
    "start_time": "2024-06-18T00:52:22.726Z"
   },
   {
    "duration": 7,
    "start_time": "2024-06-18T00:52:26.289Z"
   },
   {
    "duration": 24,
    "start_time": "2024-06-18T00:52:26.314Z"
   },
   {
    "duration": 10,
    "start_time": "2024-06-18T00:52:26.341Z"
   },
   {
    "duration": 74,
    "start_time": "2024-06-18T00:52:26.354Z"
   },
   {
    "duration": 69663,
    "start_time": "2024-06-18T00:52:26.431Z"
   },
   {
    "duration": 0,
    "start_time": "2024-06-18T00:53:36.098Z"
   },
   {
    "duration": 0,
    "start_time": "2024-06-18T00:53:36.101Z"
   },
   {
    "duration": 0,
    "start_time": "2024-06-18T00:53:36.114Z"
   },
   {
    "duration": 0,
    "start_time": "2024-06-18T00:53:36.116Z"
   },
   {
    "duration": 0,
    "start_time": "2024-06-18T00:53:36.118Z"
   },
   {
    "duration": 0,
    "start_time": "2024-06-18T00:53:36.120Z"
   },
   {
    "duration": 0,
    "start_time": "2024-06-18T00:53:36.122Z"
   },
   {
    "duration": 0,
    "start_time": "2024-06-18T00:53:36.124Z"
   },
   {
    "duration": 0,
    "start_time": "2024-06-18T00:53:36.126Z"
   },
   {
    "duration": 0,
    "start_time": "2024-06-18T00:53:36.128Z"
   },
   {
    "duration": 0,
    "start_time": "2024-06-18T00:53:36.130Z"
   },
   {
    "duration": 0,
    "start_time": "2024-06-18T00:53:36.131Z"
   },
   {
    "duration": 0,
    "start_time": "2024-06-18T00:53:36.133Z"
   },
   {
    "duration": 0,
    "start_time": "2024-06-18T00:53:36.135Z"
   },
   {
    "duration": 0,
    "start_time": "2024-06-18T00:53:36.137Z"
   },
   {
    "duration": 0,
    "start_time": "2024-06-18T00:53:36.139Z"
   },
   {
    "duration": 0,
    "start_time": "2024-06-18T00:53:36.142Z"
   },
   {
    "duration": 0,
    "start_time": "2024-06-18T00:53:36.144Z"
   },
   {
    "duration": 0,
    "start_time": "2024-06-18T00:53:36.147Z"
   },
   {
    "duration": 0,
    "start_time": "2024-06-18T00:53:36.149Z"
   },
   {
    "duration": 5,
    "start_time": "2024-06-18T01:01:08.387Z"
   },
   {
    "duration": 36,
    "start_time": "2024-06-18T01:01:08.397Z"
   },
   {
    "duration": 17,
    "start_time": "2024-06-18T01:01:08.436Z"
   },
   {
    "duration": 10,
    "start_time": "2024-06-18T01:01:08.456Z"
   },
   {
    "duration": 44,
    "start_time": "2024-06-18T01:01:08.470Z"
   },
   {
    "duration": 52,
    "start_time": "2024-06-18T01:01:08.517Z"
   },
   {
    "duration": 44,
    "start_time": "2024-06-18T01:01:08.572Z"
   },
   {
    "duration": 22,
    "start_time": "2024-06-18T01:01:08.618Z"
   },
   {
    "duration": 10,
    "start_time": "2024-06-18T01:01:08.644Z"
   },
   {
    "duration": 5,
    "start_time": "2024-06-18T01:01:08.657Z"
   },
   {
    "duration": 3577,
    "start_time": "2024-06-18T01:01:08.670Z"
   },
   {
    "duration": 8,
    "start_time": "2024-06-18T01:01:12.251Z"
   },
   {
    "duration": 56,
    "start_time": "2024-06-18T01:01:12.264Z"
   },
   {
    "duration": 10,
    "start_time": "2024-06-18T01:01:12.323Z"
   },
   {
    "duration": 37,
    "start_time": "2024-06-18T01:01:12.336Z"
   },
   {
    "duration": 1867177,
    "start_time": "2024-06-18T01:01:12.376Z"
   },
   {
    "duration": 16044,
    "start_time": "2024-06-18T01:32:19.557Z"
   },
   {
    "duration": 19764,
    "start_time": "2024-06-18T01:32:35.612Z"
   },
   {
    "duration": 247,
    "start_time": "2024-06-18T01:32:55.378Z"
   },
   {
    "duration": 210,
    "start_time": "2024-06-18T01:32:55.628Z"
   },
   {
    "duration": 9,
    "start_time": "2024-06-18T01:32:55.840Z"
   },
   {
    "duration": 16,
    "start_time": "2024-06-18T01:32:55.852Z"
   },
   {
    "duration": 2825498,
    "start_time": "2024-06-18T01:32:55.871Z"
   },
   {
    "duration": 22085,
    "start_time": "2024-06-18T02:20:01.372Z"
   },
   {
    "duration": 37767,
    "start_time": "2024-06-18T02:20:23.460Z"
   },
   {
    "duration": 101,
    "start_time": "2024-06-18T02:21:01.230Z"
   },
   {
    "duration": 917741,
    "start_time": "2024-06-18T02:21:01.337Z"
   },
   {
    "duration": 6889,
    "start_time": "2024-06-18T02:36:19.081Z"
   },
   {
    "duration": 12785,
    "start_time": "2024-06-18T02:36:25.977Z"
   },
   {
    "duration": 792,
    "start_time": "2024-06-18T02:36:38.812Z"
   },
   {
    "duration": 221,
    "start_time": "2024-06-18T02:36:39.606Z"
   },
   {
    "duration": 9,
    "start_time": "2024-06-18T02:36:39.831Z"
   },
   {
    "duration": 7,
    "start_time": "2024-06-18T02:36:39.843Z"
   },
   {
    "duration": 718,
    "start_time": "2024-06-18T02:44:23.810Z"
   },
   {
    "duration": 704,
    "start_time": "2024-06-18T02:47:48.140Z"
   },
   {
    "duration": 709,
    "start_time": "2024-06-18T02:50:21.292Z"
   },
   {
    "duration": 155,
    "start_time": "2024-06-18T02:51:55.098Z"
   },
   {
    "duration": 154,
    "start_time": "2024-06-18T02:54:05.494Z"
   },
   {
    "duration": 20,
    "start_time": "2024-06-18T02:57:40.162Z"
   },
   {
    "duration": 3827346,
    "start_time": "2024-06-18T03:02:09.267Z"
   },
   {
    "duration": 28061,
    "start_time": "2024-06-18T04:05:56.617Z"
   },
   {
    "duration": 53352,
    "start_time": "2024-06-18T04:06:24.681Z"
   },
   {
    "duration": 958,
    "start_time": "2024-06-18T04:08:33.609Z"
   },
   {
    "duration": 986,
    "start_time": "2024-06-18T04:09:13.463Z"
   },
   {
    "duration": 970,
    "start_time": "2024-06-18T04:11:58.434Z"
   },
   {
    "duration": 9,
    "start_time": "2024-06-18T04:14:21.070Z"
   },
   {
    "duration": 21,
    "start_time": "2024-06-18T04:14:29.702Z"
   },
   {
    "duration": 977,
    "start_time": "2024-06-18T04:14:47.235Z"
   },
   {
    "duration": 987,
    "start_time": "2024-06-18T04:15:12.753Z"
   },
   {
    "duration": 966,
    "start_time": "2024-06-18T04:17:41.919Z"
   },
   {
    "duration": 21,
    "start_time": "2024-06-18T04:18:30.720Z"
   },
   {
    "duration": 974,
    "start_time": "2024-06-18T04:18:51.700Z"
   },
   {
    "duration": 1424,
    "start_time": "2024-06-18T04:19:42.126Z"
   },
   {
    "duration": 44,
    "start_time": "2024-06-18T04:19:43.555Z"
   },
   {
    "duration": 20,
    "start_time": "2024-06-18T04:19:43.612Z"
   },
   {
    "duration": 12,
    "start_time": "2024-06-18T04:19:43.635Z"
   },
   {
    "duration": 8,
    "start_time": "2024-06-18T04:19:43.652Z"
   },
   {
    "duration": 163,
    "start_time": "2024-06-18T04:19:43.663Z"
   },
   {
    "duration": 15,
    "start_time": "2024-06-18T04:19:43.829Z"
   },
   {
    "duration": 7,
    "start_time": "2024-06-18T04:19:43.847Z"
   },
   {
    "duration": 11,
    "start_time": "2024-06-18T04:19:43.858Z"
   },
   {
    "duration": 8,
    "start_time": "2024-06-18T04:19:43.912Z"
   },
   {
    "duration": 3538,
    "start_time": "2024-06-18T04:19:43.923Z"
   },
   {
    "duration": 7,
    "start_time": "2024-06-18T04:19:47.464Z"
   },
   {
    "duration": 26,
    "start_time": "2024-06-18T04:19:47.474Z"
   },
   {
    "duration": 10,
    "start_time": "2024-06-18T04:19:47.511Z"
   },
   {
    "duration": 38,
    "start_time": "2024-06-18T04:19:47.525Z"
   },
   {
    "duration": 419,
    "start_time": "2024-06-18T04:20:02.400Z"
   },
   {
    "duration": 350,
    "start_time": "2024-06-18T04:21:09.396Z"
   },
   {
    "duration": 195,
    "start_time": "2024-06-18T04:21:29.072Z"
   },
   {
    "duration": 7,
    "start_time": "2024-06-18T04:21:33.880Z"
   },
   {
    "duration": 19,
    "start_time": "2024-06-18T04:21:39.181Z"
   },
   {
    "duration": 15,
    "start_time": "2024-06-18T04:21:47.723Z"
   },
   {
    "duration": 969,
    "start_time": "2024-06-18T04:21:54.293Z"
   },
   {
    "duration": 158,
    "start_time": "2024-06-18T04:22:00.104Z"
   },
   {
    "duration": 90,
    "start_time": "2024-06-18T04:30:10.740Z"
   },
   {
    "duration": 5128,
    "start_time": "2024-06-18T15:47:04.968Z"
   },
   {
    "duration": 54,
    "start_time": "2024-06-18T15:47:10.100Z"
   },
   {
    "duration": 18,
    "start_time": "2024-06-18T15:47:10.157Z"
   },
   {
    "duration": 11,
    "start_time": "2024-06-18T15:47:10.178Z"
   },
   {
    "duration": 39,
    "start_time": "2024-06-18T15:47:10.194Z"
   },
   {
    "duration": 52,
    "start_time": "2024-06-18T15:47:10.236Z"
   },
   {
    "duration": 42,
    "start_time": "2024-06-18T15:47:10.291Z"
   },
   {
    "duration": 8,
    "start_time": "2024-06-18T15:47:10.336Z"
   },
   {
    "duration": 10,
    "start_time": "2024-06-18T15:47:10.347Z"
   },
   {
    "duration": 5,
    "start_time": "2024-06-18T15:47:10.361Z"
   },
   {
    "duration": 3703,
    "start_time": "2024-06-18T15:47:10.370Z"
   },
   {
    "duration": 13,
    "start_time": "2024-06-18T15:47:14.077Z"
   },
   {
    "duration": 32,
    "start_time": "2024-06-18T15:47:14.094Z"
   },
   {
    "duration": 15,
    "start_time": "2024-06-18T15:47:14.138Z"
   },
   {
    "duration": 51,
    "start_time": "2024-06-18T15:47:14.156Z"
   },
   {
    "duration": 20,
    "start_time": "2024-06-18T15:47:48.589Z"
   },
   {
    "duration": 1367,
    "start_time": "2024-06-18T18:31:53.469Z"
   },
   {
    "duration": 42,
    "start_time": "2024-06-18T18:31:54.840Z"
   },
   {
    "duration": 18,
    "start_time": "2024-06-18T18:31:54.885Z"
   },
   {
    "duration": 34,
    "start_time": "2024-06-18T18:31:54.906Z"
   },
   {
    "duration": 8,
    "start_time": "2024-06-18T18:31:54.944Z"
   },
   {
    "duration": 133,
    "start_time": "2024-06-18T18:31:54.955Z"
   },
   {
    "duration": 15,
    "start_time": "2024-06-18T18:31:55.091Z"
   },
   {
    "duration": 28,
    "start_time": "2024-06-18T18:31:55.109Z"
   },
   {
    "duration": 9,
    "start_time": "2024-06-18T18:31:55.140Z"
   },
   {
    "duration": 5,
    "start_time": "2024-06-18T18:31:55.153Z"
   },
   {
    "duration": 3567,
    "start_time": "2024-06-18T18:31:55.162Z"
   },
   {
    "duration": 6,
    "start_time": "2024-06-18T18:31:58.733Z"
   },
   {
    "duration": 28,
    "start_time": "2024-06-18T18:31:58.743Z"
   },
   {
    "duration": 11,
    "start_time": "2024-06-18T18:31:58.775Z"
   },
   {
    "duration": 74,
    "start_time": "2024-06-18T18:31:58.790Z"
   },
   {
    "duration": 19,
    "start_time": "2024-06-18T18:32:08.020Z"
   },
   {
    "duration": 5130,
    "start_time": "2024-06-18T22:30:03.093Z"
   },
   {
    "duration": 47,
    "start_time": "2024-06-18T22:30:08.227Z"
   },
   {
    "duration": 18,
    "start_time": "2024-06-18T22:30:08.277Z"
   },
   {
    "duration": 31,
    "start_time": "2024-06-18T22:30:08.299Z"
   },
   {
    "duration": 7,
    "start_time": "2024-06-18T22:30:08.333Z"
   },
   {
    "duration": 52,
    "start_time": "2024-06-18T22:30:08.343Z"
   },
   {
    "duration": 15,
    "start_time": "2024-06-18T22:30:08.430Z"
   },
   {
    "duration": 8,
    "start_time": "2024-06-18T22:30:08.447Z"
   },
   {
    "duration": 11,
    "start_time": "2024-06-18T22:30:08.458Z"
   },
   {
    "duration": 5,
    "start_time": "2024-06-18T22:30:08.475Z"
   },
   {
    "duration": 3712,
    "start_time": "2024-06-18T22:30:08.483Z"
   },
   {
    "duration": 7,
    "start_time": "2024-06-18T22:30:12.199Z"
   },
   {
    "duration": 37,
    "start_time": "2024-06-18T22:30:12.209Z"
   },
   {
    "duration": 10,
    "start_time": "2024-06-18T22:30:12.251Z"
   },
   {
    "duration": 39,
    "start_time": "2024-06-18T22:30:12.264Z"
   },
   {
    "duration": 21,
    "start_time": "2024-06-18T22:31:08.843Z"
   },
   {
    "duration": 16087562,
    "start_time": "2024-06-18T22:33:57.828Z"
   },
   {
    "duration": 0,
    "start_time": "2024-06-19T03:02:05.393Z"
   },
   {
    "duration": 1156,
    "start_time": "2024-06-19T03:02:40.000Z"
   },
   {
    "duration": 1058,
    "start_time": "2024-06-19T03:03:02.752Z"
   },
   {
    "duration": 1090,
    "start_time": "2024-06-19T03:03:10.892Z"
   },
   {
    "duration": 1081,
    "start_time": "2024-06-19T03:03:17.666Z"
   },
   {
    "duration": 1110,
    "start_time": "2024-06-19T03:03:24.440Z"
   },
   {
    "duration": 1112,
    "start_time": "2024-06-19T03:03:32.702Z"
   },
   {
    "duration": 1161,
    "start_time": "2024-06-19T03:03:42.534Z"
   },
   {
    "duration": 1085,
    "start_time": "2024-06-19T03:03:50.701Z"
   },
   {
    "duration": 1092,
    "start_time": "2024-06-19T03:03:57.234Z"
   },
   {
    "duration": 1085,
    "start_time": "2024-06-19T03:04:04.446Z"
   },
   {
    "duration": 1119,
    "start_time": "2024-06-19T03:04:12.281Z"
   },
   {
    "duration": 1102,
    "start_time": "2024-06-19T03:04:19.209Z"
   },
   {
    "duration": 1042,
    "start_time": "2024-06-19T03:04:27.746Z"
   },
   {
    "duration": 1031,
    "start_time": "2024-06-19T03:04:54.599Z"
   },
   {
    "duration": 1035,
    "start_time": "2024-06-19T03:05:42.568Z"
   },
   {
    "duration": 1043,
    "start_time": "2024-06-19T03:05:49.920Z"
   },
   {
    "duration": 1055,
    "start_time": "2024-06-19T03:05:59.469Z"
   },
   {
    "duration": 1002,
    "start_time": "2024-06-19T03:06:07.095Z"
   },
   {
    "duration": 1056,
    "start_time": "2024-06-19T03:06:14.633Z"
   },
   {
    "duration": 1046,
    "start_time": "2024-06-19T03:06:26.736Z"
   },
   {
    "duration": 1041,
    "start_time": "2024-06-19T03:06:35.946Z"
   },
   {
    "duration": 1005,
    "start_time": "2024-06-19T03:06:47.085Z"
   },
   {
    "duration": 992,
    "start_time": "2024-06-19T03:06:52.617Z"
   },
   {
    "duration": 994,
    "start_time": "2024-06-19T03:06:58.855Z"
   },
   {
    "duration": 996,
    "start_time": "2024-06-19T03:07:04.725Z"
   },
   {
    "duration": 1011,
    "start_time": "2024-06-19T03:07:09.849Z"
   },
   {
    "duration": 991,
    "start_time": "2024-06-19T03:07:14.801Z"
   },
   {
    "duration": 1041,
    "start_time": "2024-06-19T03:07:30.958Z"
   },
   {
    "duration": 1012,
    "start_time": "2024-06-19T03:07:38.609Z"
   },
   {
    "duration": 1046,
    "start_time": "2024-06-19T03:07:43.789Z"
   },
   {
    "duration": 1013,
    "start_time": "2024-06-19T03:07:48.414Z"
   },
   {
    "duration": 1022,
    "start_time": "2024-06-19T03:07:53.876Z"
   },
   {
    "duration": 1068,
    "start_time": "2024-06-19T03:08:01.427Z"
   },
   {
    "duration": 1025,
    "start_time": "2024-06-19T03:08:40.205Z"
   },
   {
    "duration": 1105,
    "start_time": "2024-06-19T03:08:48.829Z"
   },
   {
    "duration": 1158,
    "start_time": "2024-06-19T03:11:04.061Z"
   },
   {
    "duration": 1200,
    "start_time": "2024-06-19T03:11:12.205Z"
   },
   {
    "duration": 1195,
    "start_time": "2024-06-19T03:11:17.083Z"
   },
   {
    "duration": 1192,
    "start_time": "2024-06-19T03:11:24.388Z"
   },
   {
    "duration": 1224,
    "start_time": "2024-06-19T03:11:30.394Z"
   },
   {
    "duration": 1254,
    "start_time": "2024-06-19T03:11:36.036Z"
   },
   {
    "duration": 1298,
    "start_time": "2024-06-19T03:11:41.349Z"
   },
   {
    "duration": 1300,
    "start_time": "2024-06-19T03:13:14.041Z"
   },
   {
    "duration": 1295,
    "start_time": "2024-06-19T03:13:23.195Z"
   },
   {
    "duration": 1310,
    "start_time": "2024-06-19T03:13:29.755Z"
   },
   {
    "duration": 1319,
    "start_time": "2024-06-19T03:13:40.204Z"
   },
   {
    "duration": 317,
    "start_time": "2024-06-19T03:13:48.284Z"
   },
   {
    "duration": 1078,
    "start_time": "2024-06-19T03:13:55.401Z"
   },
   {
    "duration": 1115,
    "start_time": "2024-06-19T03:14:11.687Z"
   },
   {
    "duration": 1070,
    "start_time": "2024-06-19T03:14:17.437Z"
   },
   {
    "duration": 1092,
    "start_time": "2024-06-19T03:14:23.048Z"
   },
   {
    "duration": 1072,
    "start_time": "2024-06-19T03:14:30.539Z"
   },
   {
    "duration": 985,
    "start_time": "2024-06-19T03:14:42.778Z"
   },
   {
    "duration": 1061,
    "start_time": "2024-06-19T03:14:52.860Z"
   },
   {
    "duration": 1098,
    "start_time": "2024-06-19T03:15:01.032Z"
   },
   {
    "duration": 1070,
    "start_time": "2024-06-19T03:15:10.430Z"
   },
   {
    "duration": 1068,
    "start_time": "2024-06-19T03:15:58.409Z"
   },
   {
    "duration": 1086,
    "start_time": "2024-06-19T03:16:05.200Z"
   },
   {
    "duration": 1065,
    "start_time": "2024-06-19T03:16:14.169Z"
   },
   {
    "duration": 1080,
    "start_time": "2024-06-19T03:17:25.000Z"
   },
   {
    "duration": 1095,
    "start_time": "2024-06-19T03:17:35.185Z"
   },
   {
    "duration": 1208,
    "start_time": "2024-06-19T03:25:50.178Z"
   },
   {
    "duration": 1244,
    "start_time": "2024-06-19T03:25:57.137Z"
   },
   {
    "duration": 1243,
    "start_time": "2024-06-19T03:26:03.276Z"
   },
   {
    "duration": 1324,
    "start_time": "2024-06-19T03:26:26.281Z"
   },
   {
    "duration": 1278,
    "start_time": "2024-06-19T03:26:34.398Z"
   },
   {
    "duration": 6,
    "start_time": "2024-06-19T03:28:26.648Z"
   },
   {
    "duration": 37,
    "start_time": "2024-06-19T03:28:26.657Z"
   },
   {
    "duration": 15,
    "start_time": "2024-06-19T03:28:26.699Z"
   },
   {
    "duration": 9,
    "start_time": "2024-06-19T03:28:26.731Z"
   },
   {
    "duration": 7,
    "start_time": "2024-06-19T03:28:26.745Z"
   },
   {
    "duration": 76,
    "start_time": "2024-06-19T03:28:26.756Z"
   },
   {
    "duration": 14,
    "start_time": "2024-06-19T03:28:26.835Z"
   },
   {
    "duration": 7,
    "start_time": "2024-06-19T03:28:26.852Z"
   },
   {
    "duration": 10,
    "start_time": "2024-06-19T03:28:26.862Z"
   },
   {
    "duration": 7,
    "start_time": "2024-06-19T03:28:26.875Z"
   },
   {
    "duration": 3528,
    "start_time": "2024-06-19T03:28:26.932Z"
   },
   {
    "duration": 7,
    "start_time": "2024-06-19T03:28:30.464Z"
   },
   {
    "duration": 24,
    "start_time": "2024-06-19T03:28:30.476Z"
   },
   {
    "duration": 36,
    "start_time": "2024-06-19T03:28:30.503Z"
   },
   {
    "duration": 37,
    "start_time": "2024-06-19T03:28:30.543Z"
   },
   {
    "duration": 20,
    "start_time": "2024-06-19T03:28:42.420Z"
   },
   {
    "duration": 17,
    "start_time": "2024-06-19T03:28:50.429Z"
   },
   {
    "duration": 1005,
    "start_time": "2024-06-19T03:29:00.964Z"
   },
   {
    "duration": 7637,
    "start_time": "2024-06-19T03:29:30.505Z"
   },
   {
    "duration": 764,
    "start_time": "2024-06-19T03:29:46.062Z"
   },
   {
    "duration": 912,
    "start_time": "2024-06-19T03:29:55.946Z"
   },
   {
    "duration": 887,
    "start_time": "2024-06-19T03:30:06.974Z"
   },
   {
    "duration": 967,
    "start_time": "2024-06-19T03:30:15.188Z"
   },
   {
    "duration": 981,
    "start_time": "2024-06-19T03:30:22.356Z"
   },
   {
    "duration": 930,
    "start_time": "2024-06-19T03:30:35.010Z"
   },
   {
    "duration": 932,
    "start_time": "2024-06-19T03:30:42.685Z"
   },
   {
    "duration": 905,
    "start_time": "2024-06-19T03:31:25.474Z"
   },
   {
    "duration": 920,
    "start_time": "2024-06-19T03:31:33.851Z"
   },
   {
    "duration": 908,
    "start_time": "2024-06-19T03:32:28.156Z"
   },
   {
    "duration": 1016,
    "start_time": "2024-06-19T03:32:34.170Z"
   },
   {
    "duration": 1037,
    "start_time": "2024-06-19T03:32:39.306Z"
   },
   {
    "duration": 1021,
    "start_time": "2024-06-19T03:32:44.317Z"
   },
   {
    "duration": 1036,
    "start_time": "2024-06-19T03:32:50.703Z"
   },
   {
    "duration": 1063,
    "start_time": "2024-06-19T03:33:00.447Z"
   },
   {
    "duration": 1058,
    "start_time": "2024-06-19T03:33:06.394Z"
   },
   {
    "duration": 1050,
    "start_time": "2024-06-19T03:33:15.027Z"
   },
   {
    "duration": 1077,
    "start_time": "2024-06-19T03:33:30.208Z"
   },
   {
    "duration": 1104,
    "start_time": "2024-06-19T03:33:37.289Z"
   },
   {
    "duration": 1191,
    "start_time": "2024-06-19T03:33:43.460Z"
   },
   {
    "duration": 1184,
    "start_time": "2024-06-19T03:33:52.883Z"
   },
   {
    "duration": 1177,
    "start_time": "2024-06-19T03:33:58.247Z"
   },
   {
    "duration": 854,
    "start_time": "2024-06-19T03:34:04.872Z"
   },
   {
    "duration": 842,
    "start_time": "2024-06-19T03:34:12.146Z"
   },
   {
    "duration": 853,
    "start_time": "2024-06-19T03:34:22.051Z"
   },
   {
    "duration": 819,
    "start_time": "2024-06-19T03:34:28.642Z"
   },
   {
    "duration": 623,
    "start_time": "2024-06-19T03:34:35.861Z"
   },
   {
    "duration": 633,
    "start_time": "2024-06-19T03:34:40.790Z"
   },
   {
    "duration": 819,
    "start_time": "2024-06-19T03:34:46.117Z"
   },
   {
    "duration": 857,
    "start_time": "2024-06-19T03:34:52.071Z"
   },
   {
    "duration": 873,
    "start_time": "2024-06-19T03:34:58.182Z"
   },
   {
    "duration": 879,
    "start_time": "2024-06-19T03:35:06.831Z"
   },
   {
    "duration": 943,
    "start_time": "2024-06-19T03:35:12.039Z"
   },
   {
    "duration": 857,
    "start_time": "2024-06-19T03:35:18.776Z"
   },
   {
    "duration": 863,
    "start_time": "2024-06-19T03:35:23.228Z"
   },
   {
    "duration": 885,
    "start_time": "2024-06-19T03:35:27.953Z"
   },
   {
    "duration": 867,
    "start_time": "2024-06-19T03:35:32.904Z"
   },
   {
    "duration": 886,
    "start_time": "2024-06-19T03:37:32.232Z"
   },
   {
    "duration": 863,
    "start_time": "2024-06-19T03:37:40.567Z"
   },
   {
    "duration": 1055,
    "start_time": "2024-06-19T03:37:47.579Z"
   },
   {
    "duration": 860,
    "start_time": "2024-06-19T03:37:54.356Z"
   },
   {
    "duration": 864,
    "start_time": "2024-06-19T03:37:57.169Z"
   },
   {
    "duration": 918,
    "start_time": "2024-06-19T03:38:02.076Z"
   },
   {
    "duration": 862,
    "start_time": "2024-06-19T03:38:08.096Z"
   },
   {
    "duration": 860,
    "start_time": "2024-06-19T03:38:15.107Z"
   },
   {
    "duration": 877,
    "start_time": "2024-06-19T03:38:19.950Z"
   },
   {
    "duration": 855,
    "start_time": "2024-06-19T03:38:25.292Z"
   },
   {
    "duration": 862,
    "start_time": "2024-06-19T03:38:35.974Z"
   },
   {
    "duration": 821,
    "start_time": "2024-06-19T03:38:44.523Z"
   },
   {
    "duration": 860,
    "start_time": "2024-06-19T03:38:51.070Z"
   },
   {
    "duration": 866,
    "start_time": "2024-06-19T03:38:56.834Z"
   },
   {
    "duration": 885,
    "start_time": "2024-06-19T03:39:01.880Z"
   },
   {
    "duration": 868,
    "start_time": "2024-06-19T03:39:06.249Z"
   },
   {
    "duration": 892,
    "start_time": "2024-06-19T03:39:11.238Z"
   },
   {
    "duration": 894,
    "start_time": "2024-06-19T03:39:16.127Z"
   },
   {
    "duration": 882,
    "start_time": "2024-06-19T03:39:22.605Z"
   },
   {
    "duration": 880,
    "start_time": "2024-06-19T03:39:28.493Z"
   },
   {
    "duration": 881,
    "start_time": "2024-06-19T03:39:34.467Z"
   },
   {
    "duration": 862,
    "start_time": "2024-06-19T03:39:40.277Z"
   },
   {
    "duration": 866,
    "start_time": "2024-06-19T03:39:44.636Z"
   },
   {
    "duration": 876,
    "start_time": "2024-06-19T03:39:52.864Z"
   },
   {
    "duration": 921,
    "start_time": "2024-06-19T03:39:59.658Z"
   },
   {
    "duration": 983,
    "start_time": "2024-06-19T03:40:04.907Z"
   },
   {
    "duration": 1030,
    "start_time": "2024-06-19T03:40:10.640Z"
   },
   {
    "duration": 1043,
    "start_time": "2024-06-19T03:40:16.894Z"
   },
   {
    "duration": 1179,
    "start_time": "2024-06-19T03:40:22.210Z"
   },
   {
    "duration": 1196,
    "start_time": "2024-06-19T03:40:29.258Z"
   },
   {
    "duration": 1864,
    "start_time": "2024-06-19T03:40:35.428Z"
   },
   {
    "duration": 1668,
    "start_time": "2024-06-19T03:40:42.617Z"
   },
   {
    "duration": 1505,
    "start_time": "2024-06-19T03:40:51.413Z"
   },
   {
    "duration": 1400,
    "start_time": "2024-06-19T03:40:58.731Z"
   },
   {
    "duration": 1298,
    "start_time": "2024-06-19T03:41:05.991Z"
   },
   {
    "duration": 1382,
    "start_time": "2024-06-19T03:41:11.743Z"
   },
   {
    "duration": 1261,
    "start_time": "2024-06-19T03:41:20.387Z"
   },
   {
    "duration": 1248,
    "start_time": "2024-06-19T03:41:26.617Z"
   },
   {
    "duration": 842,
    "start_time": "2024-06-19T03:41:36.818Z"
   },
   {
    "duration": 896,
    "start_time": "2024-06-19T03:41:44.812Z"
   },
   {
    "duration": 850,
    "start_time": "2024-06-19T03:41:49.435Z"
   },
   {
    "duration": 867,
    "start_time": "2024-06-19T03:41:55.597Z"
   },
   {
    "duration": 883,
    "start_time": "2024-06-19T03:42:00.620Z"
   },
   {
    "duration": 855,
    "start_time": "2024-06-19T03:42:06.026Z"
   },
   {
    "duration": 843,
    "start_time": "2024-06-19T03:42:10.438Z"
   },
   {
    "duration": 842,
    "start_time": "2024-06-19T03:42:14.410Z"
   },
   {
    "duration": 856,
    "start_time": "2024-06-19T03:42:18.778Z"
   },
   {
    "duration": 856,
    "start_time": "2024-06-19T03:42:33.570Z"
   },
   {
    "duration": 840,
    "start_time": "2024-06-19T03:42:44.581Z"
   },
   {
    "duration": 846,
    "start_time": "2024-06-19T03:42:50.441Z"
   },
   {
    "duration": 836,
    "start_time": "2024-06-19T03:42:57.858Z"
   },
   {
    "duration": 847,
    "start_time": "2024-06-19T03:43:03.678Z"
   },
   {
    "duration": 872,
    "start_time": "2024-06-19T03:43:09.464Z"
   },
   {
    "duration": 862,
    "start_time": "2024-06-19T03:43:15.717Z"
   },
   {
    "duration": 859,
    "start_time": "2024-06-19T03:43:22.560Z"
   },
   {
    "duration": 862,
    "start_time": "2024-06-19T03:43:30.993Z"
   },
   {
    "duration": 851,
    "start_time": "2024-06-19T03:43:37.447Z"
   },
   {
    "duration": 883,
    "start_time": "2024-06-19T03:43:45.719Z"
   },
   {
    "duration": 838,
    "start_time": "2024-06-19T03:43:55.248Z"
   },
   {
    "duration": 815,
    "start_time": "2024-06-19T03:44:10.566Z"
   },
   {
    "duration": 812,
    "start_time": "2024-06-19T03:44:16.207Z"
   },
   {
    "duration": 818,
    "start_time": "2024-06-19T03:44:21.712Z"
   },
   {
    "duration": 852,
    "start_time": "2024-06-19T03:44:28.248Z"
   },
   {
    "duration": 839,
    "start_time": "2024-06-19T03:45:58.778Z"
   },
   {
    "duration": 7,
    "start_time": "2024-06-19T03:46:20.742Z"
   },
   {
    "duration": 1243,
    "start_time": "2024-06-19T03:46:24.407Z"
   },
   {
    "duration": 1060,
    "start_time": "2024-06-19T03:46:29.970Z"
   },
   {
    "duration": 660,
    "start_time": "2024-06-19T03:46:34.445Z"
   },
   {
    "duration": 660,
    "start_time": "2024-06-19T03:46:54.535Z"
   },
   {
    "duration": 649,
    "start_time": "2024-06-19T03:47:00.475Z"
   },
   {
    "duration": 670,
    "start_time": "2024-06-19T03:47:05.012Z"
   },
   {
    "duration": 681,
    "start_time": "2024-06-19T03:47:10.593Z"
   },
   {
    "duration": 653,
    "start_time": "2024-06-19T03:47:15.748Z"
   },
   {
    "duration": 656,
    "start_time": "2024-06-19T03:47:30.358Z"
   },
   {
    "duration": 659,
    "start_time": "2024-06-19T03:47:36.407Z"
   },
   {
    "duration": 665,
    "start_time": "2024-06-19T03:47:42.324Z"
   },
   {
    "duration": 851,
    "start_time": "2024-06-19T03:47:48.825Z"
   },
   {
    "duration": 18,
    "start_time": "2024-06-19T03:52:16.376Z"
   },
   {
    "duration": 785,
    "start_time": "2024-06-19T03:52:43.057Z"
   },
   {
    "duration": 18,
    "start_time": "2024-06-19T03:52:54.941Z"
   },
   {
    "duration": 895,
    "start_time": "2024-06-19T03:53:17.391Z"
   },
   {
    "duration": 16,
    "start_time": "2024-06-19T03:53:32.361Z"
   },
   {
    "duration": 857,
    "start_time": "2024-06-19T03:53:39.263Z"
   },
   {
    "duration": 17,
    "start_time": "2024-06-19T03:59:54.783Z"
   },
   {
    "duration": 966,
    "start_time": "2024-06-19T04:00:10.931Z"
   },
   {
    "duration": 964,
    "start_time": "2024-06-19T04:09:04.743Z"
   },
   {
    "duration": 15,
    "start_time": "2024-06-19T04:09:20.251Z"
   },
   {
    "duration": 700,
    "start_time": "2024-06-19T04:09:36.343Z"
   },
   {
    "duration": 673,
    "start_time": "2024-06-19T04:09:43.285Z"
   },
   {
    "duration": 670,
    "start_time": "2024-06-19T04:09:50.003Z"
   },
   {
    "duration": 647,
    "start_time": "2024-06-19T04:09:58.626Z"
   },
   {
    "duration": 673,
    "start_time": "2024-06-19T04:11:13.282Z"
   },
   {
    "duration": 656,
    "start_time": "2024-06-19T04:11:18.038Z"
   },
   {
    "duration": 580,
    "start_time": "2024-06-19T04:11:24.073Z"
   },
   {
    "duration": 597,
    "start_time": "2024-06-19T04:11:28.138Z"
   },
   {
    "duration": 603,
    "start_time": "2024-06-19T04:11:33.482Z"
   },
   {
    "duration": 612,
    "start_time": "2024-06-19T04:11:37.902Z"
   },
   {
    "duration": 622,
    "start_time": "2024-06-19T04:13:14.773Z"
   },
   {
    "duration": 604,
    "start_time": "2024-06-19T04:13:19.612Z"
   },
   {
    "duration": 614,
    "start_time": "2024-06-19T04:13:25.448Z"
   },
   {
    "duration": 635,
    "start_time": "2024-06-19T04:15:52.004Z"
   },
   {
    "duration": 640,
    "start_time": "2024-06-19T04:15:59.297Z"
   },
   {
    "duration": 638,
    "start_time": "2024-06-19T04:16:04.556Z"
   },
   {
    "duration": 653,
    "start_time": "2024-06-19T04:16:10.282Z"
   },
   {
    "duration": 662,
    "start_time": "2024-06-19T04:16:15.397Z"
   },
   {
    "duration": 675,
    "start_time": "2024-06-19T04:16:23.884Z"
   },
   {
    "duration": 691,
    "start_time": "2024-06-19T04:16:28.955Z"
   },
   {
    "duration": 710,
    "start_time": "2024-06-19T04:16:35.989Z"
   },
   {
    "duration": 678,
    "start_time": "2024-06-19T04:16:41.856Z"
   },
   {
    "duration": 676,
    "start_time": "2024-06-19T04:16:46.021Z"
   },
   {
    "duration": 692,
    "start_time": "2024-06-19T04:16:51.586Z"
   },
   {
    "duration": 656,
    "start_time": "2024-06-19T04:16:56.219Z"
   },
   {
    "duration": 666,
    "start_time": "2024-06-19T04:17:00.530Z"
   },
   {
    "duration": 687,
    "start_time": "2024-06-19T04:17:05.605Z"
   },
   {
    "duration": 668,
    "start_time": "2024-06-19T04:17:10.463Z"
   },
   {
    "duration": 669,
    "start_time": "2024-06-19T04:17:14.785Z"
   },
   {
    "duration": 654,
    "start_time": "2024-06-19T04:17:19.638Z"
   },
   {
    "duration": 669,
    "start_time": "2024-06-19T04:18:27.336Z"
   },
   {
    "duration": 687,
    "start_time": "2024-06-19T04:18:32.518Z"
   },
   {
    "duration": 669,
    "start_time": "2024-06-19T04:18:36.973Z"
   },
   {
    "duration": 681,
    "start_time": "2024-06-19T04:18:41.031Z"
   },
   {
    "duration": 653,
    "start_time": "2024-06-19T04:18:55.496Z"
   },
   {
    "duration": 619,
    "start_time": "2024-06-19T04:19:03.948Z"
   },
   {
    "duration": 671,
    "start_time": "2024-06-19T04:19:10.322Z"
   },
   {
    "duration": 662,
    "start_time": "2024-06-19T04:19:45.200Z"
   },
   {
    "duration": 654,
    "start_time": "2024-06-19T04:19:49.688Z"
   },
   {
    "duration": 665,
    "start_time": "2024-06-19T04:20:01.301Z"
   },
   {
    "duration": 655,
    "start_time": "2024-06-19T04:20:06.258Z"
   },
   {
    "duration": 652,
    "start_time": "2024-06-19T04:20:14.316Z"
   },
   {
    "duration": 653,
    "start_time": "2024-06-19T04:20:18.792Z"
   },
   {
    "duration": 666,
    "start_time": "2024-06-19T04:20:26.093Z"
   },
   {
    "duration": 654,
    "start_time": "2024-06-19T04:20:30.108Z"
   },
   {
    "duration": 661,
    "start_time": "2024-06-19T04:20:50.586Z"
   },
   {
    "duration": 674,
    "start_time": "2024-06-19T04:20:58.026Z"
   },
   {
    "duration": 675,
    "start_time": "2024-06-19T04:21:03.144Z"
   },
   {
    "duration": 697,
    "start_time": "2024-06-19T04:21:07.768Z"
   },
   {
    "duration": 671,
    "start_time": "2024-06-19T04:21:12.783Z"
   },
   {
    "duration": 682,
    "start_time": "2024-06-19T04:21:18.124Z"
   },
   {
    "duration": 669,
    "start_time": "2024-06-19T04:21:22.814Z"
   },
   {
    "duration": 673,
    "start_time": "2024-06-19T04:21:27.672Z"
   },
   {
    "duration": 700,
    "start_time": "2024-06-19T04:21:32.019Z"
   },
   {
    "duration": 447,
    "start_time": "2024-06-19T04:22:25.484Z"
   },
   {
    "duration": 29,
    "start_time": "2024-06-19T04:39:20.101Z"
   },
   {
    "duration": 209,
    "start_time": "2024-06-19T04:39:55.704Z"
   },
   {
    "duration": 7,
    "start_time": "2024-06-19T04:40:42.002Z"
   },
   {
    "duration": 10,
    "start_time": "2024-06-19T04:57:24.182Z"
   },
   {
    "duration": 378,
    "start_time": "2024-06-19T04:57:43.065Z"
   },
   {
    "duration": 196,
    "start_time": "2024-06-19T04:58:30.858Z"
   },
   {
    "duration": 7,
    "start_time": "2024-06-19T04:58:34.418Z"
   },
   {
    "duration": 17,
    "start_time": "2024-06-19T04:59:09.036Z"
   },
   {
    "duration": 703,
    "start_time": "2024-06-19T04:59:45.756Z"
   },
   {
    "duration": 723,
    "start_time": "2024-06-19T04:59:58.336Z"
   },
   {
    "duration": 732,
    "start_time": "2024-06-19T05:00:05.135Z"
   },
   {
    "duration": 710,
    "start_time": "2024-06-19T05:00:10.647Z"
   },
   {
    "duration": 712,
    "start_time": "2024-06-19T05:00:15.206Z"
   },
   {
    "duration": 718,
    "start_time": "2024-06-19T05:00:20.299Z"
   },
   {
    "duration": 708,
    "start_time": "2024-06-19T05:00:26.439Z"
   },
   {
    "duration": 738,
    "start_time": "2024-06-19T05:00:32.052Z"
   },
   {
    "duration": 743,
    "start_time": "2024-06-19T05:00:39.036Z"
   },
   {
    "duration": 689,
    "start_time": "2024-06-19T05:00:44.290Z"
   },
   {
    "duration": 685,
    "start_time": "2024-06-19T05:00:49.467Z"
   },
   {
    "duration": 672,
    "start_time": "2024-06-19T05:00:53.874Z"
   },
   {
    "duration": 684,
    "start_time": "2024-06-19T05:01:01.222Z"
   },
   {
    "duration": 659,
    "start_time": "2024-06-19T05:01:06.002Z"
   },
   {
    "duration": 641,
    "start_time": "2024-06-19T05:01:14.630Z"
   },
   {
    "duration": 611,
    "start_time": "2024-06-19T05:01:20.662Z"
   },
   {
    "duration": 620,
    "start_time": "2024-06-19T05:01:25.792Z"
   },
   {
    "duration": 610,
    "start_time": "2024-06-19T05:01:41.111Z"
   },
   {
    "duration": 524,
    "start_time": "2024-06-19T05:01:45.944Z"
   },
   {
    "duration": 496,
    "start_time": "2024-06-19T05:01:50.530Z"
   },
   {
    "duration": 653,
    "start_time": "2024-06-19T05:01:57.538Z"
   },
   {
    "duration": 641,
    "start_time": "2024-06-19T05:02:03.267Z"
   },
   {
    "duration": 647,
    "start_time": "2024-06-19T05:02:07.745Z"
   },
   {
    "duration": 657,
    "start_time": "2024-06-19T05:02:12.327Z"
   },
   {
    "duration": 638,
    "start_time": "2024-06-19T05:02:16.560Z"
   },
   {
    "duration": 633,
    "start_time": "2024-06-19T05:02:22.997Z"
   },
   {
    "duration": 672,
    "start_time": "2024-06-19T05:02:27.218Z"
   },
   {
    "duration": 667,
    "start_time": "2024-06-19T05:02:32.994Z"
   },
   {
    "duration": 653,
    "start_time": "2024-06-19T05:02:58.846Z"
   },
   {
    "duration": 647,
    "start_time": "2024-06-19T05:03:03.638Z"
   },
   {
    "duration": 649,
    "start_time": "2024-06-19T05:03:07.555Z"
   },
   {
    "duration": 29,
    "start_time": "2024-06-19T05:04:00.784Z"
   },
   {
    "duration": 18,
    "start_time": "2024-06-19T05:04:08.371Z"
   },
   {
    "duration": 175,
    "start_time": "2024-06-19T05:04:13.414Z"
   },
   {
    "duration": 215,
    "start_time": "2024-06-19T05:04:56.325Z"
   },
   {
    "duration": 6,
    "start_time": "2024-06-19T05:05:08.240Z"
   },
   {
    "duration": 7,
    "start_time": "2024-06-19T05:10:12.833Z"
   },
   {
    "duration": 40,
    "start_time": "2024-06-19T05:10:12.843Z"
   },
   {
    "duration": 47,
    "start_time": "2024-06-19T05:10:12.886Z"
   },
   {
    "duration": 13,
    "start_time": "2024-06-19T05:10:12.937Z"
   },
   {
    "duration": 8,
    "start_time": "2024-06-19T05:10:12.953Z"
   },
   {
    "duration": 249,
    "start_time": "2024-06-19T05:10:12.965Z"
   },
   {
    "duration": 26,
    "start_time": "2024-06-19T05:10:13.217Z"
   },
   {
    "duration": 6,
    "start_time": "2024-06-19T05:10:13.246Z"
   },
   {
    "duration": 9,
    "start_time": "2024-06-19T05:10:13.258Z"
   },
   {
    "duration": 5,
    "start_time": "2024-06-19T05:10:13.270Z"
   },
   {
    "duration": 3424,
    "start_time": "2024-06-19T05:10:13.278Z"
   },
   {
    "duration": 6,
    "start_time": "2024-06-19T05:10:16.705Z"
   },
   {
    "duration": 23,
    "start_time": "2024-06-19T05:10:16.732Z"
   },
   {
    "duration": 9,
    "start_time": "2024-06-19T05:10:16.758Z"
   },
   {
    "duration": 66,
    "start_time": "2024-06-19T05:10:16.770Z"
   },
   {
    "duration": 1484,
    "start_time": "2024-06-19T16:49:31.974Z"
   },
   {
    "duration": 53,
    "start_time": "2024-06-19T16:49:33.461Z"
   },
   {
    "duration": 18,
    "start_time": "2024-06-19T16:49:33.517Z"
   },
   {
    "duration": 10,
    "start_time": "2024-06-19T16:49:33.538Z"
   },
   {
    "duration": 8,
    "start_time": "2024-06-19T16:49:33.552Z"
   },
   {
    "duration": 160,
    "start_time": "2024-06-19T16:49:33.562Z"
   },
   {
    "duration": 16,
    "start_time": "2024-06-19T16:49:33.732Z"
   },
   {
    "duration": 7,
    "start_time": "2024-06-19T16:49:33.753Z"
   },
   {
    "duration": 10,
    "start_time": "2024-06-19T16:49:33.763Z"
   },
   {
    "duration": 7,
    "start_time": "2024-06-19T16:49:33.776Z"
   },
   {
    "duration": 3661,
    "start_time": "2024-06-19T16:49:33.830Z"
   },
   {
    "duration": 7,
    "start_time": "2024-06-19T16:49:37.494Z"
   },
   {
    "duration": 37,
    "start_time": "2024-06-19T16:49:37.504Z"
   },
   {
    "duration": 11,
    "start_time": "2024-06-19T16:49:37.547Z"
   },
   {
    "duration": 37,
    "start_time": "2024-06-19T16:49:37.561Z"
   },
   {
    "duration": 5166,
    "start_time": "2024-06-19T17:55:05.053Z"
   },
   {
    "duration": 49,
    "start_time": "2024-06-19T17:55:10.225Z"
   },
   {
    "duration": 18,
    "start_time": "2024-06-19T17:55:10.277Z"
   },
   {
    "duration": 30,
    "start_time": "2024-06-19T17:55:10.300Z"
   },
   {
    "duration": 8,
    "start_time": "2024-06-19T17:55:10.333Z"
   },
   {
    "duration": 50,
    "start_time": "2024-06-19T17:55:10.344Z"
   },
   {
    "duration": 44,
    "start_time": "2024-06-19T17:55:10.397Z"
   },
   {
    "duration": 7,
    "start_time": "2024-06-19T17:55:10.443Z"
   },
   {
    "duration": 10,
    "start_time": "2024-06-19T17:55:10.453Z"
   },
   {
    "duration": 5,
    "start_time": "2024-06-19T17:55:10.469Z"
   },
   {
    "duration": 3649,
    "start_time": "2024-06-19T17:55:10.478Z"
   },
   {
    "duration": 8,
    "start_time": "2024-06-19T17:55:14.132Z"
   },
   {
    "duration": 30,
    "start_time": "2024-06-19T17:55:14.143Z"
   },
   {
    "duration": 11,
    "start_time": "2024-06-19T17:55:14.176Z"
   },
   {
    "duration": 79,
    "start_time": "2024-06-19T17:55:14.190Z"
   },
   {
    "duration": 379,
    "start_time": "2024-06-19T17:55:22.820Z"
   },
   {
    "duration": 196,
    "start_time": "2024-06-19T17:55:38.464Z"
   },
   {
    "duration": 8,
    "start_time": "2024-06-19T17:55:42.357Z"
   },
   {
    "duration": 17,
    "start_time": "2024-06-19T17:55:54.125Z"
   },
   {
    "duration": 20,
    "start_time": "2024-06-19T17:56:02.405Z"
   },
   {
    "duration": 661,
    "start_time": "2024-06-19T17:56:08.424Z"
   },
   {
    "duration": 160,
    "start_time": "2024-06-19T17:56:13.563Z"
   },
   {
    "duration": 207,
    "start_time": "2024-06-19T17:56:18.699Z"
   },
   {
    "duration": 7,
    "start_time": "2024-06-19T17:56:21.934Z"
   },
   {
    "duration": 7,
    "start_time": "2024-06-19T17:56:26.667Z"
   }
  ],
  "kernelspec": {
   "display_name": "Python 3 (ipykernel)",
   "language": "python",
   "name": "python3"
  },
  "language_info": {
   "codemirror_mode": {
    "name": "ipython",
    "version": 3
   },
   "file_extension": ".py",
   "mimetype": "text/x-python",
   "name": "python",
   "nbconvert_exporter": "python",
   "pygments_lexer": "ipython3",
   "version": "3.9.19"
  },
  "toc": {
   "base_numbering": 1,
   "nav_menu": {},
   "number_sections": true,
   "sideBar": true,
   "skip_h1_title": true,
   "title_cell": "Table of Contents",
   "title_sidebar": "Contents",
   "toc_cell": false,
   "toc_position": {},
   "toc_section_display": true,
   "toc_window_display": true
  }
 },
 "nbformat": 4,
 "nbformat_minor": 2
}
