{
 "cells": [
  {
   "cell_type": "markdown",
   "metadata": {},
   "source": [
    "## Introduction:\n",
    "\n",
    "This is an analysis of taxi pickup and dropoff data from Chicago in November of 2017 for Chicago ride-share startup \"Zuber\".  Specifically, we are seeking to understand the impact of external factors, namely weather, on rides to O'Hare airport from the surrounding neighborhoods.  I scraped the weather data from 'http://slava-public-access.s3-website-eu-west-1.amazonaws.com/' and parsed it into 'Good' and 'Bad' weather categories based on if it was raining at the time of pickup, or not.  Additionally, we look at rides by taxi company, as well as the top 10 dropoff neighborhoods to understand where the majority of demand comes from."
   ]
  },
  {
   "cell_type": "code",
   "execution_count": 116,
   "metadata": {},
   "outputs": [],
   "source": [
    "# import pertinent libraries\n",
    "import pandas as pd\n",
    "import numpy as np\n",
    "import matplotlib.pyplot as plt\n",
    "import seaborn as sns\n",
    "from scipy import stats as st"
   ]
  },
  {
   "cell_type": "code",
   "execution_count": 117,
   "metadata": {},
   "outputs": [],
   "source": [
    "# read in all csv's from our previous SQL inquiries \n",
    "company_trips_df = pd.read_csv('/datasets/project_sql_result_01.csv')\n",
    "avg_dropoff_loc_df = pd.read_csv('/datasets/project_sql_result_04.csv')\n",
    "airport_weather_df = pd.read_csv('/datasets/project_sql_result_07.csv')"
   ]
  },
  {
   "cell_type": "markdown",
   "metadata": {},
   "source": [
    "### Study the data for company trips and average dropoff locations and make sure data types are compatible"
   ]
  },
  {
   "cell_type": "code",
   "execution_count": 118,
   "metadata": {},
   "outputs": [
    {
     "data": {
      "text/html": [
       "<div>\n",
       "<style scoped>\n",
       "    .dataframe tbody tr th:only-of-type {\n",
       "        vertical-align: middle;\n",
       "    }\n",
       "\n",
       "    .dataframe tbody tr th {\n",
       "        vertical-align: top;\n",
       "    }\n",
       "\n",
       "    .dataframe thead th {\n",
       "        text-align: right;\n",
       "    }\n",
       "</style>\n",
       "<table border=\"1\" class=\"dataframe\">\n",
       "  <thead>\n",
       "    <tr style=\"text-align: right;\">\n",
       "      <th></th>\n",
       "      <th>company_name</th>\n",
       "      <th>trips_amount</th>\n",
       "    </tr>\n",
       "  </thead>\n",
       "  <tbody>\n",
       "    <tr>\n",
       "      <th>0</th>\n",
       "      <td>Flash Cab</td>\n",
       "      <td>19558</td>\n",
       "    </tr>\n",
       "    <tr>\n",
       "      <th>1</th>\n",
       "      <td>Taxi Affiliation Services</td>\n",
       "      <td>11422</td>\n",
       "    </tr>\n",
       "    <tr>\n",
       "      <th>2</th>\n",
       "      <td>Medallion Leasing</td>\n",
       "      <td>10367</td>\n",
       "    </tr>\n",
       "    <tr>\n",
       "      <th>3</th>\n",
       "      <td>Yellow Cab</td>\n",
       "      <td>9888</td>\n",
       "    </tr>\n",
       "    <tr>\n",
       "      <th>4</th>\n",
       "      <td>Taxi Affiliation Service Yellow</td>\n",
       "      <td>9299</td>\n",
       "    </tr>\n",
       "  </tbody>\n",
       "</table>\n",
       "</div>"
      ],
      "text/plain": [
       "                      company_name  trips_amount\n",
       "0                        Flash Cab         19558\n",
       "1        Taxi Affiliation Services         11422\n",
       "2                Medallion Leasing         10367\n",
       "3                       Yellow Cab          9888\n",
       "4  Taxi Affiliation Service Yellow          9299"
      ]
     },
     "execution_count": 118,
     "metadata": {},
     "output_type": "execute_result"
    }
   ],
   "source": [
    "# Company trips...\n",
    "company_trips_df.head()"
   ]
  },
  {
   "cell_type": "code",
   "execution_count": 119,
   "metadata": {},
   "outputs": [
    {
     "data": {
      "text/html": [
       "<div>\n",
       "<style scoped>\n",
       "    .dataframe tbody tr th:only-of-type {\n",
       "        vertical-align: middle;\n",
       "    }\n",
       "\n",
       "    .dataframe tbody tr th {\n",
       "        vertical-align: top;\n",
       "    }\n",
       "\n",
       "    .dataframe thead th {\n",
       "        text-align: right;\n",
       "    }\n",
       "</style>\n",
       "<table border=\"1\" class=\"dataframe\">\n",
       "  <thead>\n",
       "    <tr style=\"text-align: right;\">\n",
       "      <th></th>\n",
       "      <th>company_name</th>\n",
       "      <th>trips_amount</th>\n",
       "    </tr>\n",
       "  </thead>\n",
       "  <tbody>\n",
       "    <tr>\n",
       "      <th>50</th>\n",
       "      <td>2823 - 73307 Lee Express Inc</td>\n",
       "      <td>15</td>\n",
       "    </tr>\n",
       "    <tr>\n",
       "      <th>51</th>\n",
       "      <td>4623 - 27290 Jay Kim</td>\n",
       "      <td>15</td>\n",
       "    </tr>\n",
       "    <tr>\n",
       "      <th>31</th>\n",
       "      <td>American United Taxi Affiliation</td>\n",
       "      <td>210</td>\n",
       "    </tr>\n",
       "    <tr>\n",
       "      <th>59</th>\n",
       "      <td>4053 - 40193 Adwar H. Nikola</td>\n",
       "      <td>7</td>\n",
       "    </tr>\n",
       "    <tr>\n",
       "      <th>55</th>\n",
       "      <td>6057 - 24657 Richard Addo</td>\n",
       "      <td>13</td>\n",
       "    </tr>\n",
       "    <tr>\n",
       "      <th>21</th>\n",
       "      <td>American United</td>\n",
       "      <td>1404</td>\n",
       "    </tr>\n",
       "    <tr>\n",
       "      <th>32</th>\n",
       "      <td>Leonard Cab Co</td>\n",
       "      <td>147</td>\n",
       "    </tr>\n",
       "    <tr>\n",
       "      <th>4</th>\n",
       "      <td>Taxi Affiliation Service Yellow</td>\n",
       "      <td>9299</td>\n",
       "    </tr>\n",
       "    <tr>\n",
       "      <th>56</th>\n",
       "      <td>5997 - 65283 AW Services Inc.</td>\n",
       "      <td>12</td>\n",
       "    </tr>\n",
       "    <tr>\n",
       "      <th>17</th>\n",
       "      <td>Chicago Medallion Management</td>\n",
       "      <td>1955</td>\n",
       "    </tr>\n",
       "  </tbody>\n",
       "</table>\n",
       "</div>"
      ],
      "text/plain": [
       "                        company_name  trips_amount\n",
       "50      2823 - 73307 Lee Express Inc            15\n",
       "51              4623 - 27290 Jay Kim            15\n",
       "31  American United Taxi Affiliation           210\n",
       "59      4053 - 40193 Adwar H. Nikola             7\n",
       "55         6057 - 24657 Richard Addo            13\n",
       "21                   American United          1404\n",
       "32                    Leonard Cab Co           147\n",
       "4    Taxi Affiliation Service Yellow          9299\n",
       "56     5997 - 65283 AW Services Inc.            12\n",
       "17      Chicago Medallion Management          1955"
      ]
     },
     "execution_count": 119,
     "metadata": {},
     "output_type": "execute_result"
    }
   ],
   "source": [
    "company_trips_df.sample(10)"
   ]
  },
  {
   "cell_type": "code",
   "execution_count": 120,
   "metadata": {},
   "outputs": [
    {
     "name": "stdout",
     "output_type": "stream",
     "text": [
      "<class 'pandas.core.frame.DataFrame'>\n",
      "RangeIndex: 64 entries, 0 to 63\n",
      "Data columns (total 2 columns):\n",
      " #   Column        Non-Null Count  Dtype \n",
      "---  ------        --------------  ----- \n",
      " 0   company_name  64 non-null     object\n",
      " 1   trips_amount  64 non-null     int64 \n",
      "dtypes: int64(1), object(1)\n",
      "memory usage: 1.1+ KB\n"
     ]
    }
   ],
   "source": [
    "company_trips_df.info()"
   ]
  },
  {
   "cell_type": "code",
   "execution_count": 121,
   "metadata": {},
   "outputs": [
    {
     "data": {
      "text/html": [
       "<div>\n",
       "<style scoped>\n",
       "    .dataframe tbody tr th:only-of-type {\n",
       "        vertical-align: middle;\n",
       "    }\n",
       "\n",
       "    .dataframe tbody tr th {\n",
       "        vertical-align: top;\n",
       "    }\n",
       "\n",
       "    .dataframe thead th {\n",
       "        text-align: right;\n",
       "    }\n",
       "</style>\n",
       "<table border=\"1\" class=\"dataframe\">\n",
       "  <thead>\n",
       "    <tr style=\"text-align: right;\">\n",
       "      <th></th>\n",
       "      <th>trips_amount</th>\n",
       "    </tr>\n",
       "  </thead>\n",
       "  <tbody>\n",
       "    <tr>\n",
       "      <th>count</th>\n",
       "      <td>64.000000</td>\n",
       "    </tr>\n",
       "    <tr>\n",
       "      <th>mean</th>\n",
       "      <td>2145.484375</td>\n",
       "    </tr>\n",
       "    <tr>\n",
       "      <th>std</th>\n",
       "      <td>3812.310186</td>\n",
       "    </tr>\n",
       "    <tr>\n",
       "      <th>min</th>\n",
       "      <td>2.000000</td>\n",
       "    </tr>\n",
       "    <tr>\n",
       "      <th>25%</th>\n",
       "      <td>20.750000</td>\n",
       "    </tr>\n",
       "    <tr>\n",
       "      <th>50%</th>\n",
       "      <td>178.500000</td>\n",
       "    </tr>\n",
       "    <tr>\n",
       "      <th>75%</th>\n",
       "      <td>2106.500000</td>\n",
       "    </tr>\n",
       "    <tr>\n",
       "      <th>max</th>\n",
       "      <td>19558.000000</td>\n",
       "    </tr>\n",
       "  </tbody>\n",
       "</table>\n",
       "</div>"
      ],
      "text/plain": [
       "       trips_amount\n",
       "count     64.000000\n",
       "mean    2145.484375\n",
       "std     3812.310186\n",
       "min        2.000000\n",
       "25%       20.750000\n",
       "50%      178.500000\n",
       "75%     2106.500000\n",
       "max    19558.000000"
      ]
     },
     "execution_count": 121,
     "metadata": {},
     "output_type": "execute_result"
    }
   ],
   "source": [
    "company_trips_df.describe()"
   ]
  },
  {
   "cell_type": "code",
   "execution_count": 122,
   "metadata": {},
   "outputs": [
    {
     "data": {
      "text/plain": [
       "0"
      ]
     },
     "execution_count": 122,
     "metadata": {},
     "output_type": "execute_result"
    }
   ],
   "source": [
    "# check dataframe for duplicates\n",
    "company_trips_df.duplicated().sum()"
   ]
  },
  {
   "cell_type": "code",
   "execution_count": 123,
   "metadata": {},
   "outputs": [
    {
     "data": {
      "text/html": [
       "<div>\n",
       "<style scoped>\n",
       "    .dataframe tbody tr th:only-of-type {\n",
       "        vertical-align: middle;\n",
       "    }\n",
       "\n",
       "    .dataframe tbody tr th {\n",
       "        vertical-align: top;\n",
       "    }\n",
       "\n",
       "    .dataframe thead th {\n",
       "        text-align: right;\n",
       "    }\n",
       "</style>\n",
       "<table border=\"1\" class=\"dataframe\">\n",
       "  <thead>\n",
       "    <tr style=\"text-align: right;\">\n",
       "      <th></th>\n",
       "      <th>company_name</th>\n",
       "      <th>trips_amount</th>\n",
       "    </tr>\n",
       "  </thead>\n",
       "  <tbody>\n",
       "    <tr>\n",
       "      <th>0</th>\n",
       "      <td>Flash Cab</td>\n",
       "      <td>19558</td>\n",
       "    </tr>\n",
       "    <tr>\n",
       "      <th>1</th>\n",
       "      <td>Taxi Affiliation Services</td>\n",
       "      <td>11422</td>\n",
       "    </tr>\n",
       "    <tr>\n",
       "      <th>2</th>\n",
       "      <td>Medallion Leasing</td>\n",
       "      <td>10367</td>\n",
       "    </tr>\n",
       "    <tr>\n",
       "      <th>3</th>\n",
       "      <td>Yellow Cab</td>\n",
       "      <td>9888</td>\n",
       "    </tr>\n",
       "    <tr>\n",
       "      <th>4</th>\n",
       "      <td>Taxi Affiliation Service Yellow</td>\n",
       "      <td>9299</td>\n",
       "    </tr>\n",
       "    <tr>\n",
       "      <th>5</th>\n",
       "      <td>Chicago Carriage Cab Corp</td>\n",
       "      <td>9181</td>\n",
       "    </tr>\n",
       "    <tr>\n",
       "      <th>6</th>\n",
       "      <td>City Service</td>\n",
       "      <td>8448</td>\n",
       "    </tr>\n",
       "    <tr>\n",
       "      <th>7</th>\n",
       "      <td>Sun Taxi</td>\n",
       "      <td>7701</td>\n",
       "    </tr>\n",
       "    <tr>\n",
       "      <th>8</th>\n",
       "      <td>Star North Management LLC</td>\n",
       "      <td>7455</td>\n",
       "    </tr>\n",
       "    <tr>\n",
       "      <th>9</th>\n",
       "      <td>Blue Ribbon Taxi Association Inc.</td>\n",
       "      <td>5953</td>\n",
       "    </tr>\n",
       "  </tbody>\n",
       "</table>\n",
       "</div>"
      ],
      "text/plain": [
       "                        company_name  trips_amount\n",
       "0                          Flash Cab         19558\n",
       "1          Taxi Affiliation Services         11422\n",
       "2                  Medallion Leasing         10367\n",
       "3                         Yellow Cab          9888\n",
       "4    Taxi Affiliation Service Yellow          9299\n",
       "5          Chicago Carriage Cab Corp          9181\n",
       "6                       City Service          8448\n",
       "7                           Sun Taxi          7701\n",
       "8          Star North Management LLC          7455\n",
       "9  Blue Ribbon Taxi Association Inc.          5953"
      ]
     },
     "execution_count": 123,
     "metadata": {},
     "output_type": "execute_result"
    }
   ],
   "source": [
    "company_trips_sorted_df = company_trips_df.sort_values(by='trips_amount', ascending=False).reset_index(drop=True)\n",
    "company_trips_sorted_df.head(10)"
   ]
  },
  {
   "cell_type": "code",
   "execution_count": 124,
   "metadata": {},
   "outputs": [
    {
     "data": {
      "text/html": [
       "<div>\n",
       "<style scoped>\n",
       "    .dataframe tbody tr th:only-of-type {\n",
       "        vertical-align: middle;\n",
       "    }\n",
       "\n",
       "    .dataframe tbody tr th {\n",
       "        vertical-align: top;\n",
       "    }\n",
       "\n",
       "    .dataframe thead th {\n",
       "        text-align: right;\n",
       "    }\n",
       "</style>\n",
       "<table border=\"1\" class=\"dataframe\">\n",
       "  <thead>\n",
       "    <tr style=\"text-align: right;\">\n",
       "      <th></th>\n",
       "      <th>dropoff_location_name</th>\n",
       "      <th>average_trips</th>\n",
       "    </tr>\n",
       "  </thead>\n",
       "  <tbody>\n",
       "    <tr>\n",
       "      <th>0</th>\n",
       "      <td>Loop</td>\n",
       "      <td>10727.466667</td>\n",
       "    </tr>\n",
       "    <tr>\n",
       "      <th>1</th>\n",
       "      <td>River North</td>\n",
       "      <td>9523.666667</td>\n",
       "    </tr>\n",
       "    <tr>\n",
       "      <th>2</th>\n",
       "      <td>Streeterville</td>\n",
       "      <td>6664.666667</td>\n",
       "    </tr>\n",
       "    <tr>\n",
       "      <th>3</th>\n",
       "      <td>West Loop</td>\n",
       "      <td>5163.666667</td>\n",
       "    </tr>\n",
       "    <tr>\n",
       "      <th>4</th>\n",
       "      <td>O'Hare</td>\n",
       "      <td>2546.900000</td>\n",
       "    </tr>\n",
       "  </tbody>\n",
       "</table>\n",
       "</div>"
      ],
      "text/plain": [
       "  dropoff_location_name  average_trips\n",
       "0                  Loop   10727.466667\n",
       "1           River North    9523.666667\n",
       "2         Streeterville    6664.666667\n",
       "3             West Loop    5163.666667\n",
       "4                O'Hare    2546.900000"
      ]
     },
     "execution_count": 124,
     "metadata": {},
     "output_type": "execute_result"
    }
   ],
   "source": [
    "# Average dropoff locations...\n",
    "avg_dropoff_loc_df.head()"
   ]
  },
  {
   "cell_type": "code",
   "execution_count": 125,
   "metadata": {},
   "outputs": [
    {
     "data": {
      "text/html": [
       "<div>\n",
       "<style scoped>\n",
       "    .dataframe tbody tr th:only-of-type {\n",
       "        vertical-align: middle;\n",
       "    }\n",
       "\n",
       "    .dataframe tbody tr th {\n",
       "        vertical-align: top;\n",
       "    }\n",
       "\n",
       "    .dataframe thead th {\n",
       "        text-align: right;\n",
       "    }\n",
       "</style>\n",
       "<table border=\"1\" class=\"dataframe\">\n",
       "  <thead>\n",
       "    <tr style=\"text-align: right;\">\n",
       "      <th></th>\n",
       "      <th>dropoff_location_name</th>\n",
       "      <th>average_trips</th>\n",
       "    </tr>\n",
       "  </thead>\n",
       "  <tbody>\n",
       "    <tr>\n",
       "      <th>28</th>\n",
       "      <td>Wicker Park</td>\n",
       "      <td>182.600000</td>\n",
       "    </tr>\n",
       "    <tr>\n",
       "      <th>25</th>\n",
       "      <td>Irving Park</td>\n",
       "      <td>296.566667</td>\n",
       "    </tr>\n",
       "    <tr>\n",
       "      <th>53</th>\n",
       "      <td>Jackson Park</td>\n",
       "      <td>33.103448</td>\n",
       "    </tr>\n",
       "    <tr>\n",
       "      <th>10</th>\n",
       "      <td>Lincoln Park</td>\n",
       "      <td>1246.533333</td>\n",
       "    </tr>\n",
       "    <tr>\n",
       "      <th>41</th>\n",
       "      <td>North Park</td>\n",
       "      <td>67.833333</td>\n",
       "    </tr>\n",
       "    <tr>\n",
       "      <th>63</th>\n",
       "      <td>Andersonville</td>\n",
       "      <td>16.866667</td>\n",
       "    </tr>\n",
       "    <tr>\n",
       "      <th>29</th>\n",
       "      <td>Albany Park</td>\n",
       "      <td>180.900000</td>\n",
       "    </tr>\n",
       "    <tr>\n",
       "      <th>65</th>\n",
       "      <td>Ashburn</td>\n",
       "      <td>16.133333</td>\n",
       "    </tr>\n",
       "    <tr>\n",
       "      <th>62</th>\n",
       "      <td>Brighton Park</td>\n",
       "      <td>19.466667</td>\n",
       "    </tr>\n",
       "    <tr>\n",
       "      <th>18</th>\n",
       "      <td>West Town</td>\n",
       "      <td>516.400000</td>\n",
       "    </tr>\n",
       "  </tbody>\n",
       "</table>\n",
       "</div>"
      ],
      "text/plain": [
       "   dropoff_location_name  average_trips\n",
       "28           Wicker Park     182.600000\n",
       "25           Irving Park     296.566667\n",
       "53          Jackson Park      33.103448\n",
       "10          Lincoln Park    1246.533333\n",
       "41            North Park      67.833333\n",
       "63         Andersonville      16.866667\n",
       "29           Albany Park     180.900000\n",
       "65               Ashburn      16.133333\n",
       "62         Brighton Park      19.466667\n",
       "18             West Town     516.400000"
      ]
     },
     "execution_count": 125,
     "metadata": {},
     "output_type": "execute_result"
    }
   ],
   "source": [
    "avg_dropoff_loc_df.sample(10)"
   ]
  },
  {
   "cell_type": "code",
   "execution_count": 126,
   "metadata": {},
   "outputs": [
    {
     "name": "stdout",
     "output_type": "stream",
     "text": [
      "<class 'pandas.core.frame.DataFrame'>\n",
      "RangeIndex: 94 entries, 0 to 93\n",
      "Data columns (total 2 columns):\n",
      " #   Column                 Non-Null Count  Dtype  \n",
      "---  ------                 --------------  -----  \n",
      " 0   dropoff_location_name  94 non-null     object \n",
      " 1   average_trips          94 non-null     float64\n",
      "dtypes: float64(1), object(1)\n",
      "memory usage: 1.6+ KB\n"
     ]
    }
   ],
   "source": [
    "avg_dropoff_loc_df.info()"
   ]
  },
  {
   "cell_type": "code",
   "execution_count": 127,
   "metadata": {},
   "outputs": [
    {
     "data": {
      "text/html": [
       "<div>\n",
       "<style scoped>\n",
       "    .dataframe tbody tr th:only-of-type {\n",
       "        vertical-align: middle;\n",
       "    }\n",
       "\n",
       "    .dataframe tbody tr th {\n",
       "        vertical-align: top;\n",
       "    }\n",
       "\n",
       "    .dataframe thead th {\n",
       "        text-align: right;\n",
       "    }\n",
       "</style>\n",
       "<table border=\"1\" class=\"dataframe\">\n",
       "  <thead>\n",
       "    <tr style=\"text-align: right;\">\n",
       "      <th></th>\n",
       "      <th>average_trips</th>\n",
       "    </tr>\n",
       "  </thead>\n",
       "  <tbody>\n",
       "    <tr>\n",
       "      <th>count</th>\n",
       "      <td>94.000000</td>\n",
       "    </tr>\n",
       "    <tr>\n",
       "      <th>mean</th>\n",
       "      <td>599.953728</td>\n",
       "    </tr>\n",
       "    <tr>\n",
       "      <th>std</th>\n",
       "      <td>1714.591098</td>\n",
       "    </tr>\n",
       "    <tr>\n",
       "      <th>min</th>\n",
       "      <td>1.800000</td>\n",
       "    </tr>\n",
       "    <tr>\n",
       "      <th>25%</th>\n",
       "      <td>14.266667</td>\n",
       "    </tr>\n",
       "    <tr>\n",
       "      <th>50%</th>\n",
       "      <td>52.016667</td>\n",
       "    </tr>\n",
       "    <tr>\n",
       "      <th>75%</th>\n",
       "      <td>298.858333</td>\n",
       "    </tr>\n",
       "    <tr>\n",
       "      <th>max</th>\n",
       "      <td>10727.466667</td>\n",
       "    </tr>\n",
       "  </tbody>\n",
       "</table>\n",
       "</div>"
      ],
      "text/plain": [
       "       average_trips\n",
       "count      94.000000\n",
       "mean      599.953728\n",
       "std      1714.591098\n",
       "min         1.800000\n",
       "25%        14.266667\n",
       "50%        52.016667\n",
       "75%       298.858333\n",
       "max     10727.466667"
      ]
     },
     "execution_count": 127,
     "metadata": {},
     "output_type": "execute_result"
    }
   ],
   "source": [
    "avg_dropoff_loc_df.describe()"
   ]
  },
  {
   "cell_type": "code",
   "execution_count": 128,
   "metadata": {},
   "outputs": [
    {
     "data": {
      "text/plain": [
       "0"
      ]
     },
     "execution_count": 128,
     "metadata": {},
     "output_type": "execute_result"
    }
   ],
   "source": [
    "avg_dropoff_loc_df.duplicated().sum()"
   ]
  },
  {
   "cell_type": "code",
   "execution_count": 129,
   "metadata": {
    "scrolled": true
   },
   "outputs": [
    {
     "data": {
      "text/plain": [
       "197"
      ]
     },
     "execution_count": 129,
     "metadata": {},
     "output_type": "execute_result"
    }
   ],
   "source": [
    "airport_weather_df.duplicated().sum()"
   ]
  },
  {
   "cell_type": "code",
   "execution_count": 130,
   "metadata": {},
   "outputs": [
    {
     "data": {
      "text/plain": [
       "0       False\n",
       "1       False\n",
       "2       False\n",
       "3       False\n",
       "4       False\n",
       "        ...  \n",
       "1063    False\n",
       "1064    False\n",
       "1065     True\n",
       "1066     True\n",
       "1067    False\n",
       "Length: 1068, dtype: bool"
      ]
     },
     "execution_count": 130,
     "metadata": {},
     "output_type": "execute_result"
    }
   ],
   "source": [
    "airport_weather_df.duplicated()"
   ]
  },
  {
   "cell_type": "code",
   "execution_count": 131,
   "metadata": {},
   "outputs": [
    {
     "data": {
      "text/html": [
       "<div>\n",
       "<style scoped>\n",
       "    .dataframe tbody tr th:only-of-type {\n",
       "        vertical-align: middle;\n",
       "    }\n",
       "\n",
       "    .dataframe tbody tr th {\n",
       "        vertical-align: top;\n",
       "    }\n",
       "\n",
       "    .dataframe thead th {\n",
       "        text-align: right;\n",
       "    }\n",
       "</style>\n",
       "<table border=\"1\" class=\"dataframe\">\n",
       "  <thead>\n",
       "    <tr style=\"text-align: right;\">\n",
       "      <th></th>\n",
       "      <th>start_ts</th>\n",
       "      <th>weather_conditions</th>\n",
       "      <th>duration_seconds</th>\n",
       "    </tr>\n",
       "  </thead>\n",
       "  <tbody>\n",
       "    <tr>\n",
       "      <th>1063</th>\n",
       "      <td>2017-11-25 11:00:00</td>\n",
       "      <td>Good</td>\n",
       "      <td>0.0</td>\n",
       "    </tr>\n",
       "    <tr>\n",
       "      <th>1064</th>\n",
       "      <td>2017-11-11 10:00:00</td>\n",
       "      <td>Good</td>\n",
       "      <td>1318.0</td>\n",
       "    </tr>\n",
       "    <tr>\n",
       "      <th>1065</th>\n",
       "      <td>2017-11-11 13:00:00</td>\n",
       "      <td>Good</td>\n",
       "      <td>2100.0</td>\n",
       "    </tr>\n",
       "    <tr>\n",
       "      <th>1066</th>\n",
       "      <td>2017-11-11 08:00:00</td>\n",
       "      <td>Good</td>\n",
       "      <td>1380.0</td>\n",
       "    </tr>\n",
       "    <tr>\n",
       "      <th>1067</th>\n",
       "      <td>2017-11-04 16:00:00</td>\n",
       "      <td>Bad</td>\n",
       "      <td>2834.0</td>\n",
       "    </tr>\n",
       "  </tbody>\n",
       "</table>\n",
       "</div>"
      ],
      "text/plain": [
       "                 start_ts weather_conditions  duration_seconds\n",
       "1063  2017-11-25 11:00:00               Good               0.0\n",
       "1064  2017-11-11 10:00:00               Good            1318.0\n",
       "1065  2017-11-11 13:00:00               Good            2100.0\n",
       "1066  2017-11-11 08:00:00               Good            1380.0\n",
       "1067  2017-11-04 16:00:00                Bad            2834.0"
      ]
     },
     "execution_count": 131,
     "metadata": {},
     "output_type": "execute_result"
    }
   ],
   "source": [
    "airport_weather_df.tail()"
   ]
  },
  {
   "cell_type": "code",
   "execution_count": 132,
   "metadata": {},
   "outputs": [
    {
     "data": {
      "text/html": [
       "<div>\n",
       "<style scoped>\n",
       "    .dataframe tbody tr th:only-of-type {\n",
       "        vertical-align: middle;\n",
       "    }\n",
       "\n",
       "    .dataframe tbody tr th {\n",
       "        vertical-align: top;\n",
       "    }\n",
       "\n",
       "    .dataframe thead th {\n",
       "        text-align: right;\n",
       "    }\n",
       "</style>\n",
       "<table border=\"1\" class=\"dataframe\">\n",
       "  <thead>\n",
       "    <tr style=\"text-align: right;\">\n",
       "      <th></th>\n",
       "      <th>dropoff_location_name</th>\n",
       "      <th>average_trips</th>\n",
       "    </tr>\n",
       "  </thead>\n",
       "  <tbody>\n",
       "    <tr>\n",
       "      <th>0</th>\n",
       "      <td>Loop</td>\n",
       "      <td>10727</td>\n",
       "    </tr>\n",
       "    <tr>\n",
       "      <th>1</th>\n",
       "      <td>River North</td>\n",
       "      <td>9524</td>\n",
       "    </tr>\n",
       "    <tr>\n",
       "      <th>2</th>\n",
       "      <td>Streeterville</td>\n",
       "      <td>6665</td>\n",
       "    </tr>\n",
       "    <tr>\n",
       "      <th>3</th>\n",
       "      <td>West Loop</td>\n",
       "      <td>5164</td>\n",
       "    </tr>\n",
       "    <tr>\n",
       "      <th>4</th>\n",
       "      <td>O'Hare</td>\n",
       "      <td>2547</td>\n",
       "    </tr>\n",
       "  </tbody>\n",
       "</table>\n",
       "</div>"
      ],
      "text/plain": [
       "  dropoff_location_name  average_trips\n",
       "0                  Loop          10727\n",
       "1           River North           9524\n",
       "2         Streeterville           6665\n",
       "3             West Loop           5164\n",
       "4                O'Hare           2547"
      ]
     },
     "execution_count": 132,
     "metadata": {},
     "output_type": "execute_result"
    }
   ],
   "source": [
    "# We will round the average trip to the nearest integer since we are not interested in partial rides\n",
    "avg_dropoff_loc_df['average_trips'] = avg_dropoff_loc_df['average_trips'].round(0).astype(int)\n",
    "avg_dropoff_loc_df.head()"
   ]
  },
  {
   "cell_type": "code",
   "execution_count": 133,
   "metadata": {},
   "outputs": [
    {
     "data": {
      "text/html": [
       "<div>\n",
       "<style scoped>\n",
       "    .dataframe tbody tr th:only-of-type {\n",
       "        vertical-align: middle;\n",
       "    }\n",
       "\n",
       "    .dataframe tbody tr th {\n",
       "        vertical-align: top;\n",
       "    }\n",
       "\n",
       "    .dataframe thead th {\n",
       "        text-align: right;\n",
       "    }\n",
       "</style>\n",
       "<table border=\"1\" class=\"dataframe\">\n",
       "  <thead>\n",
       "    <tr style=\"text-align: right;\">\n",
       "      <th></th>\n",
       "      <th>dropoff_location_name</th>\n",
       "      <th>average_trips</th>\n",
       "    </tr>\n",
       "  </thead>\n",
       "  <tbody>\n",
       "    <tr>\n",
       "      <th>0</th>\n",
       "      <td>Loop</td>\n",
       "      <td>10727</td>\n",
       "    </tr>\n",
       "    <tr>\n",
       "      <th>1</th>\n",
       "      <td>River North</td>\n",
       "      <td>9524</td>\n",
       "    </tr>\n",
       "    <tr>\n",
       "      <th>2</th>\n",
       "      <td>Streeterville</td>\n",
       "      <td>6665</td>\n",
       "    </tr>\n",
       "    <tr>\n",
       "      <th>3</th>\n",
       "      <td>West Loop</td>\n",
       "      <td>5164</td>\n",
       "    </tr>\n",
       "    <tr>\n",
       "      <th>4</th>\n",
       "      <td>O'Hare</td>\n",
       "      <td>2547</td>\n",
       "    </tr>\n",
       "    <tr>\n",
       "      <th>5</th>\n",
       "      <td>Lake View</td>\n",
       "      <td>2421</td>\n",
       "    </tr>\n",
       "    <tr>\n",
       "      <th>6</th>\n",
       "      <td>Grant Park</td>\n",
       "      <td>2069</td>\n",
       "    </tr>\n",
       "    <tr>\n",
       "      <th>7</th>\n",
       "      <td>Museum Campus</td>\n",
       "      <td>1510</td>\n",
       "    </tr>\n",
       "    <tr>\n",
       "      <th>8</th>\n",
       "      <td>Gold Coast</td>\n",
       "      <td>1364</td>\n",
       "    </tr>\n",
       "    <tr>\n",
       "      <th>9</th>\n",
       "      <td>Sheffield &amp; DePaul</td>\n",
       "      <td>1260</td>\n",
       "    </tr>\n",
       "  </tbody>\n",
       "</table>\n",
       "</div>"
      ],
      "text/plain": [
       "  dropoff_location_name  average_trips\n",
       "0                  Loop          10727\n",
       "1           River North           9524\n",
       "2         Streeterville           6665\n",
       "3             West Loop           5164\n",
       "4                O'Hare           2547\n",
       "5             Lake View           2421\n",
       "6            Grant Park           2069\n",
       "7         Museum Campus           1510\n",
       "8            Gold Coast           1364\n",
       "9    Sheffield & DePaul           1260"
      ]
     },
     "execution_count": 133,
     "metadata": {},
     "output_type": "execute_result"
    }
   ],
   "source": [
    "# Identify the top 10 dropoff neighborhoods\n",
    "top_10_dropoff_hoods = avg_dropoff_loc_df.sort_values(by='average_trips', ascending=False).reset_index(drop=True)\n",
    "top_10_dropoff_hoods.head(10)"
   ]
  },
  {
   "cell_type": "markdown",
   "metadata": {},
   "source": [
    "### Graph company trips and top 10 dropoff neighborhood dataframes\n",
    "\n",
    "The bar chart below refelects the top 35 companies based on number of rides in November 2017.  We can see that Flash Cab has the largest share of rides in the taxi space, by far, followed distantly by Taxi Affiliation Services and Medallion Leasing respectively.  All other companies have less than 10,000 rides in November, moving down into very insignificant numbers past the top 35 performing companies. "
   ]
  },
  {
   "cell_type": "code",
   "execution_count": 134,
   "metadata": {},
   "outputs": [
    {
     "data": {
      "image/png": "[encoded data removed]",
      "text/plain": [
       "<Figure size 1500x1000 with 1 Axes>"
      ]
     },
     "metadata": {},
     "output_type": "display_data"
    }
   ],
   "source": [
    "# bar chart showing the number of rides per company for the top 35 active companies\n",
    "plt.figure(figsize=(15,10))\n",
    "plt.rcParams.update({'font.size': 14})\n",
    "sns.barplot(data=company_trips_sorted_df[:35], x='trips_amount', y='company_name', edgecolor='black', palette='GnBu_r')\n",
    "plt.title('Number of Rides per Company: Top 35')\n",
    "plt.xlabel('Total Trips')\n",
    "plt.ylabel('Company')\n",
    "plt.show()"
   ]
  },
  {
   "cell_type": "markdown",
   "metadata": {},
   "source": [
    "This next bar chart shows the top 10 neighborhoods by dropoffs.  The two top neighborhood destinations via Taxi in November 2017 were the Loop and River North neighborhoods.  The next closest neighborhood, Streeterville, had a few thousand less dropoffs, with the rest of the pack dropping sharply from there.  I would surmise the top neighborhoods may likely be social hubs that include city centers, event venues, eateries, and other culturally significant establishments."
   ]
  },
  {
   "cell_type": "code",
   "execution_count": 135,
   "metadata": {
    "scrolled": false
   },
   "outputs": [
    {
     "data": {
      "image/png": "[encoded data removed]",
      "text/plain": [
       "<Figure size 1500x1000 with 1 Axes>"
      ]
     },
     "metadata": {},
     "output_type": "display_data"
    }
   ],
   "source": [
    "plt.figure(figsize=(15,10))\n",
    "plt.rcParams.update({'font.size': 14})\n",
    "sns.barplot(data=top_10_dropoff_hoods[:10], x='average_trips', y='dropoff_location_name', edgecolor='black', palette='autumn')\n",
    "plt.title('Top 10 Neighborhoods By Dropoff')\n",
    "plt.xlabel('Average Dropoffs')\n",
    "plt.ylabel('Neighborhood')\n",
    "plt.show()"
   ]
  },
  {
   "cell_type": "markdown",
   "metadata": {},
   "source": [
    "Let's test the hypothesis that the average duration of rides from the Loop neighborhood to O'Hare International Airport changes on rainy Saturdays. For this we will use the airport_weather_df we acquired from the 'project_sql_result_07.csv' obtained from the SQL inquiries, since it's already been parsed into 'Good' and 'Bad' weeather on Saturdays in November 2017.  We will use alpha=0.05, as it is a widely agreed upon critical threshold for statisitcal significance, to determine weather ride times equate.  Our null hypothesis asserts that the ride time is equal, while our alternative hypothesis asserts that ride times are not equal.\n"
   ]
  },
  {
   "cell_type": "markdown",
   "metadata": {},
   "source": [
    "## Test Hypothesis:\n",
    "\n",
    "__H0 = The average ride time from Loop to O'Hare International Airport on rainy Saturdays equals the average ride                     time on non-rainy Saturdays__\n",
    "\n",
    "__H1 = The average ride time from Loop to O'Hare International Airport on rainy Saturdays does not equal the                             average ride time on non-rainy Saturdays__"
   ]
  },
  {
   "cell_type": "code",
   "execution_count": 136,
   "metadata": {},
   "outputs": [],
   "source": [
    "# parse dataframe by 'Good' (non-rainy), and 'Bad' (rainy) conditions\n",
    "rainy = airport_weather_df[(airport_weather_df['weather_conditions'] == 'Bad')]\n",
    "non_rainy = airport_weather_df[airport_weather_df['weather_conditions'] == 'Good']\n",
    "# list all ride durations for both conditions\n",
    "rainy_durations = rainy['duration_seconds'].tolist()\n",
    "non_rainy_durations = non_rainy['duration_seconds'].tolist()"
   ]
  },
  {
   "cell_type": "code",
   "execution_count": 137,
   "metadata": {
    "scrolled": true
   },
   "outputs": [
    {
     "data": {
      "text/plain": [
       "(duration_seconds    517403.563302\n",
       " dtype: float64,\n",
       " duration_seconds    575732.93085\n",
       " dtype: float64)"
      ]
     },
     "execution_count": 137,
     "metadata": {},
     "output_type": "execute_result"
    }
   ],
   "source": [
    "# Look at the variance in ride duration for both conditions\n",
    "rainy_durations_var = np.var(rainy)\n",
    "non_rainy_durations_var = np.var(non_rainy)\n",
    "rainy_durations_var, non_rainy_durations_var"
   ]
  },
  {
   "cell_type": "code",
   "execution_count": 138,
   "metadata": {},
   "outputs": [
    {
     "name": "stdout",
     "output_type": "stream",
     "text": [
      "P-value: 6.738994326108734e-12\n",
      "We reject the null hypothesis\n"
     ]
    }
   ],
   "source": [
    "alpha = 0.05 # critical statistical significance level\n",
    "\n",
    "results = st.ttest_ind(rainy_durations, non_rainy_durations, equal_var=False) # test the equality of rides based on rain\n",
    "\n",
    "print('P-value:', results.pvalue)\n",
    "# compare the p-value with the significance level\n",
    "if results.pvalue < alpha:\n",
    "    print('We reject the null hypothesis')\n",
    "else:\n",
    "    print('We cannot reject the null hypothesis')"
   ]
  },
  {
   "cell_type": "markdown",
   "metadata": {},
   "source": [
    "## Conclusion:\n",
    "\n",
    "The findings based on our variances and ttest show that ride times on rainy Saturdays to O'Hare International Airport from the Loop neighborhood are not equal to those on non-rainy Saturdays.  This could be due to increased traffic, increased caution leading to slower driving, or more rides in general overall during \"Bad\" weather.  Whatever the case, 'Bad' rainy weather tends to increase ride time, which increases revenue for ride-sharing ventures.\n",
    "\n",
    "Most of these rides were likely from Flash Cab, as we can infer from how many rides they were responsible for in November, as well as the Loop neighborhood being the No. 1 neighborhood for dropoffs in November as well. Thus, I see Flash Cab as Zuber's main competitor in the Chicago ride-sharing space.\n",
    "\n",
    "With ride-share demand seemingly high in the Loop and River North neighboorhoods, it would be a good place to concentrate first efforts of a ride-sharing platform such as Zuber, especially on rainy days."
   ]
  }
 ],
 "metadata": {
  "ExecuteTimeLog": [
   {
    "duration": 324,
    "start_time": "2024-05-16T17:40:01.638Z"
   },
   {
    "duration": 4792,
    "start_time": "2024-05-16T17:40:14.789Z"
   },
   {
    "duration": 29,
    "start_time": "2024-05-16T17:40:19.585Z"
   },
   {
    "duration": 18,
    "start_time": "2024-05-16T17:40:19.616Z"
   },
   {
    "duration": 11,
    "start_time": "2024-05-16T17:40:19.637Z"
   },
   {
    "duration": 16,
    "start_time": "2024-05-16T17:40:19.653Z"
   },
   {
    "duration": 16,
    "start_time": "2024-05-16T17:40:19.673Z"
   },
   {
    "duration": 10,
    "start_time": "2024-05-16T17:40:19.732Z"
   },
   {
    "duration": 11,
    "start_time": "2024-05-16T17:40:19.745Z"
   },
   {
    "duration": 14,
    "start_time": "2024-05-16T17:40:19.760Z"
   },
   {
    "duration": 59,
    "start_time": "2024-05-16T17:40:19.777Z"
   },
   {
    "duration": 11,
    "start_time": "2024-05-16T17:40:19.840Z"
   },
   {
    "duration": 12,
    "start_time": "2024-05-16T17:40:19.854Z"
   },
   {
    "duration": 581,
    "start_time": "2024-05-16T17:40:19.870Z"
   },
   {
    "duration": 5,
    "start_time": "2024-05-16T17:45:05.505Z"
   },
   {
    "duration": 15,
    "start_time": "2024-05-16T17:45:05.514Z"
   },
   {
    "duration": 10,
    "start_time": "2024-05-16T17:45:05.532Z"
   },
   {
    "duration": 10,
    "start_time": "2024-05-16T17:45:05.545Z"
   },
   {
    "duration": 13,
    "start_time": "2024-05-16T17:45:05.560Z"
   },
   {
    "duration": 55,
    "start_time": "2024-05-16T17:45:05.576Z"
   },
   {
    "duration": 14,
    "start_time": "2024-05-16T17:45:05.636Z"
   },
   {
    "duration": 22,
    "start_time": "2024-05-16T17:45:05.654Z"
   },
   {
    "duration": 21,
    "start_time": "2024-05-16T17:45:05.680Z"
   },
   {
    "duration": 40,
    "start_time": "2024-05-16T17:45:05.704Z"
   },
   {
    "duration": 10,
    "start_time": "2024-05-16T17:45:05.747Z"
   },
   {
    "duration": 13,
    "start_time": "2024-05-16T17:45:05.760Z"
   },
   {
    "duration": 459,
    "start_time": "2024-05-16T17:45:05.777Z"
   },
   {
    "duration": 4,
    "start_time": "2024-05-16T17:46:03.150Z"
   },
   {
    "duration": 14,
    "start_time": "2024-05-16T17:46:03.160Z"
   },
   {
    "duration": 9,
    "start_time": "2024-05-16T17:46:03.177Z"
   },
   {
    "duration": 10,
    "start_time": "2024-05-16T17:46:03.189Z"
   },
   {
    "duration": 37,
    "start_time": "2024-05-16T17:46:03.206Z"
   },
   {
    "duration": 15,
    "start_time": "2024-05-16T17:46:03.247Z"
   },
   {
    "duration": 12,
    "start_time": "2024-05-16T17:46:03.266Z"
   },
   {
    "duration": 52,
    "start_time": "2024-05-16T17:46:03.281Z"
   },
   {
    "duration": 17,
    "start_time": "2024-05-16T17:46:03.338Z"
   },
   {
    "duration": 17,
    "start_time": "2024-05-16T17:46:03.359Z"
   },
   {
    "duration": 52,
    "start_time": "2024-05-16T17:46:03.379Z"
   },
   {
    "duration": 11,
    "start_time": "2024-05-16T17:46:03.435Z"
   },
   {
    "duration": 455,
    "start_time": "2024-05-16T17:46:03.449Z"
   },
   {
    "duration": 4,
    "start_time": "2024-05-16T17:53:26.311Z"
   },
   {
    "duration": 16,
    "start_time": "2024-05-16T17:53:26.319Z"
   },
   {
    "duration": 10,
    "start_time": "2024-05-16T17:53:26.337Z"
   },
   {
    "duration": 11,
    "start_time": "2024-05-16T17:53:26.350Z"
   },
   {
    "duration": 15,
    "start_time": "2024-05-16T17:53:26.365Z"
   },
   {
    "duration": 53,
    "start_time": "2024-05-16T17:53:26.384Z"
   },
   {
    "duration": 10,
    "start_time": "2024-05-16T17:53:26.443Z"
   },
   {
    "duration": 10,
    "start_time": "2024-05-16T17:53:26.456Z"
   },
   {
    "duration": 11,
    "start_time": "2024-05-16T17:53:26.469Z"
   },
   {
    "duration": 55,
    "start_time": "2024-05-16T17:53:26.483Z"
   },
   {
    "duration": 15,
    "start_time": "2024-05-16T17:53:26.541Z"
   },
   {
    "duration": 10,
    "start_time": "2024-05-16T17:53:26.560Z"
   },
   {
    "duration": 11,
    "start_time": "2024-05-16T17:53:26.574Z"
   },
   {
    "duration": 409,
    "start_time": "2024-05-16T17:53:26.631Z"
   },
   {
    "duration": 3,
    "start_time": "2024-05-16T17:57:24.143Z"
   },
   {
    "duration": 17,
    "start_time": "2024-05-16T17:57:24.151Z"
   },
   {
    "duration": 9,
    "start_time": "2024-05-16T17:57:24.171Z"
   },
   {
    "duration": 10,
    "start_time": "2024-05-16T17:57:24.184Z"
   },
   {
    "duration": 16,
    "start_time": "2024-05-16T17:57:24.231Z"
   },
   {
    "duration": 15,
    "start_time": "2024-05-16T17:57:24.251Z"
   },
   {
    "duration": 13,
    "start_time": "2024-05-16T17:57:24.270Z"
   },
   {
    "duration": 46,
    "start_time": "2024-05-16T17:57:24.287Z"
   },
   {
    "duration": 14,
    "start_time": "2024-05-16T17:57:24.337Z"
   },
   {
    "duration": 16,
    "start_time": "2024-05-16T17:57:24.354Z"
   },
   {
    "duration": 57,
    "start_time": "2024-05-16T17:57:24.377Z"
   },
   {
    "duration": 10,
    "start_time": "2024-05-16T17:57:24.438Z"
   },
   {
    "duration": 11,
    "start_time": "2024-05-16T17:57:24.452Z"
   },
   {
    "duration": 2130,
    "start_time": "2024-05-16T17:57:24.466Z"
   },
   {
    "duration": 417,
    "start_time": "2024-05-16T17:57:26.600Z"
   },
   {
    "duration": 4,
    "start_time": "2024-05-16T17:59:33.158Z"
   },
   {
    "duration": 17,
    "start_time": "2024-05-16T17:59:33.166Z"
   },
   {
    "duration": 9,
    "start_time": "2024-05-16T17:59:33.186Z"
   },
   {
    "duration": 11,
    "start_time": "2024-05-16T17:59:33.199Z"
   },
   {
    "duration": 27,
    "start_time": "2024-05-16T17:59:33.213Z"
   },
   {
    "duration": 18,
    "start_time": "2024-05-16T17:59:33.243Z"
   },
   {
    "duration": 13,
    "start_time": "2024-05-16T17:59:33.264Z"
   },
   {
    "duration": 10,
    "start_time": "2024-05-16T17:59:33.280Z"
   },
   {
    "duration": 11,
    "start_time": "2024-05-16T17:59:33.334Z"
   },
   {
    "duration": 17,
    "start_time": "2024-05-16T17:59:33.349Z"
   },
   {
    "duration": 16,
    "start_time": "2024-05-16T17:59:33.370Z"
   },
   {
    "duration": 148,
    "start_time": "2024-05-16T17:59:33.390Z"
   },
   {
    "duration": 11,
    "start_time": "2024-05-16T17:59:33.542Z"
   },
   {
    "duration": 2023,
    "start_time": "2024-05-16T17:59:33.556Z"
   },
   {
    "duration": 465,
    "start_time": "2024-05-16T17:59:35.582Z"
   },
   {
    "duration": 4,
    "start_time": "2024-05-16T18:01:12.409Z"
   },
   {
    "duration": 23,
    "start_time": "2024-05-16T18:01:12.417Z"
   },
   {
    "duration": 9,
    "start_time": "2024-05-16T18:01:12.443Z"
   },
   {
    "duration": 13,
    "start_time": "2024-05-16T18:01:12.455Z"
   },
   {
    "duration": 14,
    "start_time": "2024-05-16T18:01:12.475Z"
   },
   {
    "duration": 45,
    "start_time": "2024-05-16T18:01:12.492Z"
   },
   {
    "duration": 13,
    "start_time": "2024-05-16T18:01:12.540Z"
   },
   {
    "duration": 10,
    "start_time": "2024-05-16T18:01:12.556Z"
   },
   {
    "duration": 12,
    "start_time": "2024-05-16T18:01:12.570Z"
   },
   {
    "duration": 63,
    "start_time": "2024-05-16T18:01:12.584Z"
   },
   {
    "duration": 16,
    "start_time": "2024-05-16T18:01:12.651Z"
   },
   {
    "duration": 12,
    "start_time": "2024-05-16T18:01:12.670Z"
   },
   {
    "duration": 50,
    "start_time": "2024-05-16T18:01:12.686Z"
   },
   {
    "duration": 841,
    "start_time": "2024-05-16T18:01:12.741Z"
   },
   {
    "duration": 403,
    "start_time": "2024-05-16T18:01:13.585Z"
   },
   {
    "duration": 4,
    "start_time": "2024-05-16T18:03:47.771Z"
   },
   {
    "duration": 16,
    "start_time": "2024-05-16T18:03:47.780Z"
   },
   {
    "duration": 9,
    "start_time": "2024-05-16T18:03:47.799Z"
   },
   {
    "duration": 10,
    "start_time": "2024-05-16T18:03:47.812Z"
   },
   {
    "duration": 14,
    "start_time": "2024-05-16T18:03:47.827Z"
   },
   {
    "duration": 15,
    "start_time": "2024-05-16T18:03:47.844Z"
   },
   {
    "duration": 11,
    "start_time": "2024-05-16T18:03:47.862Z"
   },
   {
    "duration": 10,
    "start_time": "2024-05-16T18:03:47.876Z"
   },
   {
    "duration": 11,
    "start_time": "2024-05-16T18:03:47.932Z"
   },
   {
    "duration": 13,
    "start_time": "2024-05-16T18:03:47.946Z"
   },
   {
    "duration": 17,
    "start_time": "2024-05-16T18:03:47.962Z"
   },
   {
    "duration": 50,
    "start_time": "2024-05-16T18:03:47.982Z"
   },
   {
    "duration": 11,
    "start_time": "2024-05-16T18:03:48.035Z"
   },
   {
    "duration": 826,
    "start_time": "2024-05-16T18:03:48.052Z"
   },
   {
    "duration": 411,
    "start_time": "2024-05-16T18:03:48.881Z"
   },
   {
    "duration": 14,
    "start_time": "2024-05-16T19:46:50.832Z"
   },
   {
    "duration": 8,
    "start_time": "2024-05-16T20:00:02.583Z"
   },
   {
    "duration": 12,
    "start_time": "2024-05-16T20:00:25.643Z"
   },
   {
    "duration": 17,
    "start_time": "2024-05-16T20:01:20.240Z"
   },
   {
    "duration": 11,
    "start_time": "2024-05-16T20:02:21.977Z"
   },
   {
    "duration": 30,
    "start_time": "2024-05-16T20:02:37.390Z"
   },
   {
    "duration": 14,
    "start_time": "2024-05-16T20:02:42.711Z"
   },
   {
    "duration": 19,
    "start_time": "2024-05-16T20:03:29.977Z"
   },
   {
    "duration": 10,
    "start_time": "2024-05-16T20:07:56.659Z"
   },
   {
    "duration": 5,
    "start_time": "2024-05-16T20:14:25.850Z"
   },
   {
    "duration": 28,
    "start_time": "2024-05-16T20:14:25.858Z"
   },
   {
    "duration": 9,
    "start_time": "2024-05-16T20:14:25.889Z"
   },
   {
    "duration": 10,
    "start_time": "2024-05-16T20:14:25.902Z"
   },
   {
    "duration": 23,
    "start_time": "2024-05-16T20:14:25.918Z"
   },
   {
    "duration": 16,
    "start_time": "2024-05-16T20:14:25.944Z"
   },
   {
    "duration": 11,
    "start_time": "2024-05-16T20:14:25.963Z"
   },
   {
    "duration": 10,
    "start_time": "2024-05-16T20:14:25.976Z"
   },
   {
    "duration": 11,
    "start_time": "2024-05-16T20:14:26.032Z"
   },
   {
    "duration": 12,
    "start_time": "2024-05-16T20:14:26.047Z"
   },
   {
    "duration": 15,
    "start_time": "2024-05-16T20:14:26.062Z"
   },
   {
    "duration": 51,
    "start_time": "2024-05-16T20:14:26.080Z"
   },
   {
    "duration": 12,
    "start_time": "2024-05-16T20:14:26.134Z"
   },
   {
    "duration": 951,
    "start_time": "2024-05-16T20:14:26.151Z"
   },
   {
    "duration": 435,
    "start_time": "2024-05-16T20:14:27.105Z"
   },
   {
    "duration": 9,
    "start_time": "2024-05-16T20:14:27.543Z"
   },
   {
    "duration": 11,
    "start_time": "2024-05-16T20:14:27.555Z"
   },
   {
    "duration": 8,
    "start_time": "2024-05-16T20:14:27.569Z"
   },
   {
    "duration": 332,
    "start_time": "2024-05-17T18:07:54.645Z"
   },
   {
    "duration": 4948,
    "start_time": "2024-05-17T18:08:00.335Z"
   },
   {
    "duration": 24,
    "start_time": "2024-05-17T18:08:05.286Z"
   },
   {
    "duration": 22,
    "start_time": "2024-05-17T18:08:05.312Z"
   },
   {
    "duration": 10,
    "start_time": "2024-05-17T18:08:05.338Z"
   },
   {
    "duration": 14,
    "start_time": "2024-05-17T18:08:05.353Z"
   },
   {
    "duration": 16,
    "start_time": "2024-05-17T18:08:05.370Z"
   },
   {
    "duration": 52,
    "start_time": "2024-05-17T18:08:05.389Z"
   },
   {
    "duration": 11,
    "start_time": "2024-05-17T18:08:05.444Z"
   },
   {
    "duration": 12,
    "start_time": "2024-05-17T18:08:05.458Z"
   },
   {
    "duration": 62,
    "start_time": "2024-05-17T18:08:05.474Z"
   },
   {
    "duration": 14,
    "start_time": "2024-05-17T18:08:05.539Z"
   },
   {
    "duration": 11,
    "start_time": "2024-05-17T18:08:05.556Z"
   },
   {
    "duration": 11,
    "start_time": "2024-05-17T18:08:05.570Z"
   },
   {
    "duration": 955,
    "start_time": "2024-05-17T18:08:05.588Z"
   },
   {
    "duration": 395,
    "start_time": "2024-05-17T18:08:06.546Z"
   },
   {
    "duration": 12,
    "start_time": "2024-05-17T18:08:06.944Z"
   },
   {
    "duration": 11,
    "start_time": "2024-05-17T18:08:06.959Z"
   },
   {
    "duration": 13,
    "start_time": "2024-05-17T18:08:06.974Z"
   },
   {
    "duration": 46,
    "start_time": "2024-05-17T18:08:06.990Z"
   },
   {
    "duration": 4,
    "start_time": "2024-05-17T18:18:46.420Z"
   },
   {
    "duration": 19,
    "start_time": "2024-05-17T18:18:46.428Z"
   },
   {
    "duration": 9,
    "start_time": "2024-05-17T18:18:46.450Z"
   },
   {
    "duration": 11,
    "start_time": "2024-05-17T18:18:46.463Z"
   },
   {
    "duration": 13,
    "start_time": "2024-05-17T18:18:46.479Z"
   },
   {
    "duration": 47,
    "start_time": "2024-05-17T18:18:46.495Z"
   },
   {
    "duration": 13,
    "start_time": "2024-05-17T18:18:46.545Z"
   },
   {
    "duration": 10,
    "start_time": "2024-05-17T18:18:46.561Z"
   },
   {
    "duration": 10,
    "start_time": "2024-05-17T18:18:46.574Z"
   },
   {
    "duration": 105,
    "start_time": "2024-05-17T18:18:46.632Z"
   },
   {
    "duration": 15,
    "start_time": "2024-05-17T18:18:46.740Z"
   },
   {
    "duration": 10,
    "start_time": "2024-05-17T18:18:46.758Z"
   },
   {
    "duration": 11,
    "start_time": "2024-05-17T18:18:46.772Z"
   },
   {
    "duration": 852,
    "start_time": "2024-05-17T18:18:46.789Z"
   },
   {
    "duration": 411,
    "start_time": "2024-05-17T18:18:47.644Z"
   },
   {
    "duration": 11,
    "start_time": "2024-05-17T18:18:48.058Z"
   },
   {
    "duration": 7,
    "start_time": "2024-05-17T18:18:48.072Z"
   },
   {
    "duration": 0,
    "start_time": "2024-05-17T18:18:48.082Z"
   },
   {
    "duration": 4,
    "start_time": "2024-05-17T18:19:55.228Z"
   },
   {
    "duration": 17,
    "start_time": "2024-05-17T18:19:55.236Z"
   },
   {
    "duration": 10,
    "start_time": "2024-05-17T18:19:55.256Z"
   },
   {
    "duration": 13,
    "start_time": "2024-05-17T18:19:55.268Z"
   },
   {
    "duration": 50,
    "start_time": "2024-05-17T18:19:55.287Z"
   },
   {
    "duration": 14,
    "start_time": "2024-05-17T18:19:55.340Z"
   },
   {
    "duration": 12,
    "start_time": "2024-05-17T18:19:55.357Z"
   },
   {
    "duration": 10,
    "start_time": "2024-05-17T18:19:55.372Z"
   },
   {
    "duration": 55,
    "start_time": "2024-05-17T18:19:55.385Z"
   },
   {
    "duration": 14,
    "start_time": "2024-05-17T18:19:55.443Z"
   },
   {
    "duration": 16,
    "start_time": "2024-05-17T18:19:55.461Z"
   },
   {
    "duration": 51,
    "start_time": "2024-05-17T18:19:55.480Z"
   },
   {
    "duration": 16,
    "start_time": "2024-05-17T18:19:55.536Z"
   },
   {
    "duration": 816,
    "start_time": "2024-05-17T18:19:55.558Z"
   },
   {
    "duration": 426,
    "start_time": "2024-05-17T18:19:56.377Z"
   },
   {
    "duration": 10,
    "start_time": "2024-05-17T18:19:56.807Z"
   },
   {
    "duration": 137,
    "start_time": "2024-05-17T18:19:56.830Z"
   },
   {
    "duration": 0,
    "start_time": "2024-05-17T18:19:56.970Z"
   },
   {
    "duration": 4,
    "start_time": "2024-05-17T18:25:44.121Z"
   },
   {
    "duration": 17,
    "start_time": "2024-05-17T18:25:44.130Z"
   },
   {
    "duration": 9,
    "start_time": "2024-05-17T18:25:44.150Z"
   },
   {
    "duration": 10,
    "start_time": "2024-05-17T18:25:44.163Z"
   },
   {
    "duration": 52,
    "start_time": "2024-05-17T18:25:44.179Z"
   },
   {
    "duration": 16,
    "start_time": "2024-05-17T18:25:44.234Z"
   },
   {
    "duration": 11,
    "start_time": "2024-05-17T18:25:44.253Z"
   },
   {
    "duration": 10,
    "start_time": "2024-05-17T18:25:44.268Z"
   },
   {
    "duration": 57,
    "start_time": "2024-05-17T18:25:44.282Z"
   },
   {
    "duration": 14,
    "start_time": "2024-05-17T18:25:44.342Z"
   },
   {
    "duration": 15,
    "start_time": "2024-05-17T18:25:44.360Z"
   },
   {
    "duration": 52,
    "start_time": "2024-05-17T18:25:44.378Z"
   },
   {
    "duration": 11,
    "start_time": "2024-05-17T18:25:44.434Z"
   },
   {
    "duration": 802,
    "start_time": "2024-05-17T18:25:44.450Z"
   },
   {
    "duration": 410,
    "start_time": "2024-05-17T18:25:45.256Z"
   },
   {
    "duration": 12,
    "start_time": "2024-05-17T18:25:45.669Z"
   },
   {
    "duration": 23,
    "start_time": "2024-05-17T18:25:45.684Z"
   },
   {
    "duration": 0,
    "start_time": "2024-05-17T18:25:45.732Z"
   },
   {
    "duration": 5,
    "start_time": "2024-05-17T18:31:28.751Z"
   },
   {
    "duration": 15,
    "start_time": "2024-05-17T18:31:28.760Z"
   },
   {
    "duration": 9,
    "start_time": "2024-05-17T18:31:28.778Z"
   },
   {
    "duration": 10,
    "start_time": "2024-05-17T18:31:28.790Z"
   },
   {
    "duration": 13,
    "start_time": "2024-05-17T18:31:28.830Z"
   },
   {
    "duration": 15,
    "start_time": "2024-05-17T18:31:28.846Z"
   },
   {
    "duration": 12,
    "start_time": "2024-05-17T18:31:28.864Z"
   },
   {
    "duration": 52,
    "start_time": "2024-05-17T18:31:28.879Z"
   },
   {
    "duration": 10,
    "start_time": "2024-05-17T18:31:28.934Z"
   },
   {
    "duration": 14,
    "start_time": "2024-05-17T18:31:28.947Z"
   },
   {
    "duration": 16,
    "start_time": "2024-05-17T18:31:28.964Z"
   },
   {
    "duration": 51,
    "start_time": "2024-05-17T18:31:28.983Z"
   },
   {
    "duration": 15,
    "start_time": "2024-05-17T18:31:29.037Z"
   },
   {
    "duration": 801,
    "start_time": "2024-05-17T18:31:29.057Z"
   },
   {
    "duration": 517,
    "start_time": "2024-05-17T18:31:29.862Z"
   },
   {
    "duration": 550,
    "start_time": "2024-05-17T18:31:30.383Z"
   },
   {
    "duration": 13,
    "start_time": "2024-05-17T18:33:43.435Z"
   },
   {
    "duration": 10,
    "start_time": "2024-05-17T18:37:25.333Z"
   },
   {
    "duration": 4,
    "start_time": "2024-05-17T18:38:42.364Z"
   },
   {
    "duration": 19,
    "start_time": "2024-05-17T18:38:42.373Z"
   },
   {
    "duration": 8,
    "start_time": "2024-05-17T18:38:42.396Z"
   },
   {
    "duration": 11,
    "start_time": "2024-05-17T18:38:42.407Z"
   },
   {
    "duration": 20,
    "start_time": "2024-05-17T18:38:42.422Z"
   },
   {
    "duration": 15,
    "start_time": "2024-05-17T18:38:42.445Z"
   },
   {
    "duration": 13,
    "start_time": "2024-05-17T18:38:42.464Z"
   },
   {
    "duration": 51,
    "start_time": "2024-05-17T18:38:42.480Z"
   },
   {
    "duration": 14,
    "start_time": "2024-05-17T18:38:42.535Z"
   },
   {
    "duration": 15,
    "start_time": "2024-05-17T18:38:42.552Z"
   },
   {
    "duration": 15,
    "start_time": "2024-05-17T18:38:42.570Z"
   },
   {
    "duration": 49,
    "start_time": "2024-05-17T18:38:42.589Z"
   },
   {
    "duration": 11,
    "start_time": "2024-05-17T18:38:42.642Z"
   },
   {
    "duration": 843,
    "start_time": "2024-05-17T18:38:42.659Z"
   },
   {
    "duration": 501,
    "start_time": "2024-05-17T18:38:43.506Z"
   },
   {
    "duration": 22,
    "start_time": "2024-05-17T18:38:44.009Z"
   },
   {
    "duration": 17,
    "start_time": "2024-05-17T18:38:44.034Z"
   },
   {
    "duration": 17,
    "start_time": "2024-05-17T18:39:09.045Z"
   },
   {
    "duration": 5,
    "start_time": "2024-05-17T18:40:23.187Z"
   },
   {
    "duration": 16,
    "start_time": "2024-05-17T18:40:23.196Z"
   },
   {
    "duration": 9,
    "start_time": "2024-05-17T18:40:23.214Z"
   },
   {
    "duration": 11,
    "start_time": "2024-05-17T18:40:23.227Z"
   },
   {
    "duration": 15,
    "start_time": "2024-05-17T18:40:23.244Z"
   },
   {
    "duration": 15,
    "start_time": "2024-05-17T18:40:23.262Z"
   },
   {
    "duration": 51,
    "start_time": "2024-05-17T18:40:23.280Z"
   },
   {
    "duration": 9,
    "start_time": "2024-05-17T18:40:23.334Z"
   },
   {
    "duration": 12,
    "start_time": "2024-05-17T18:40:23.346Z"
   },
   {
    "duration": 14,
    "start_time": "2024-05-17T18:40:23.361Z"
   },
   {
    "duration": 55,
    "start_time": "2024-05-17T18:40:23.377Z"
   },
   {
    "duration": 10,
    "start_time": "2024-05-17T18:40:23.435Z"
   },
   {
    "duration": 12,
    "start_time": "2024-05-17T18:40:23.448Z"
   },
   {
    "duration": 813,
    "start_time": "2024-05-17T18:40:23.465Z"
   },
   {
    "duration": 481,
    "start_time": "2024-05-17T18:40:24.281Z"
   },
   {
    "duration": 9,
    "start_time": "2024-05-17T18:40:24.767Z"
   },
   {
    "duration": 14,
    "start_time": "2024-05-17T18:40:24.780Z"
   },
   {
    "duration": 45,
    "start_time": "2024-05-17T18:40:24.797Z"
   },
   {
    "duration": 8,
    "start_time": "2024-05-17T18:40:24.845Z"
   },
   {
    "duration": 4,
    "start_time": "2024-05-17T18:50:57.390Z"
   },
   {
    "duration": 19,
    "start_time": "2024-05-17T18:50:57.398Z"
   },
   {
    "duration": 10,
    "start_time": "2024-05-17T18:50:57.419Z"
   },
   {
    "duration": 10,
    "start_time": "2024-05-17T18:50:57.432Z"
   },
   {
    "duration": 13,
    "start_time": "2024-05-17T18:50:57.447Z"
   },
   {
    "duration": 14,
    "start_time": "2024-05-17T18:50:57.463Z"
   },
   {
    "duration": 51,
    "start_time": "2024-05-17T18:50:57.481Z"
   },
   {
    "duration": 10,
    "start_time": "2024-05-17T18:50:57.536Z"
   },
   {
    "duration": 11,
    "start_time": "2024-05-17T18:50:57.550Z"
   },
   {
    "duration": 15,
    "start_time": "2024-05-17T18:50:57.564Z"
   },
   {
    "duration": 59,
    "start_time": "2024-05-17T18:50:57.582Z"
   },
   {
    "duration": 10,
    "start_time": "2024-05-17T18:50:57.644Z"
   },
   {
    "duration": 12,
    "start_time": "2024-05-17T18:50:57.657Z"
   },
   {
    "duration": 819,
    "start_time": "2024-05-17T18:50:57.677Z"
   },
   {
    "duration": 404,
    "start_time": "2024-05-17T18:50:58.499Z"
   },
   {
    "duration": 24,
    "start_time": "2024-05-17T18:50:58.906Z"
   },
   {
    "duration": 12,
    "start_time": "2024-05-17T18:50:58.933Z"
   },
   {
    "duration": 7,
    "start_time": "2024-05-17T18:50:58.948Z"
   },
   {
    "duration": 1189,
    "start_time": "2024-05-17T19:20:09.382Z"
   },
   {
    "duration": 20,
    "start_time": "2024-05-17T19:20:10.575Z"
   },
   {
    "duration": 14,
    "start_time": "2024-05-17T19:20:10.597Z"
   },
   {
    "duration": 11,
    "start_time": "2024-05-17T19:20:10.630Z"
   },
   {
    "duration": 15,
    "start_time": "2024-05-17T19:20:10.646Z"
   },
   {
    "duration": 18,
    "start_time": "2024-05-17T19:20:10.664Z"
   },
   {
    "duration": 53,
    "start_time": "2024-05-17T19:20:10.685Z"
   },
   {
    "duration": 10,
    "start_time": "2024-05-17T19:20:10.741Z"
   },
   {
    "duration": 11,
    "start_time": "2024-05-17T19:20:10.754Z"
   },
   {
    "duration": 14,
    "start_time": "2024-05-17T19:20:10.768Z"
   },
   {
    "duration": 15,
    "start_time": "2024-05-17T19:20:10.831Z"
   },
   {
    "duration": 11,
    "start_time": "2024-05-17T19:20:10.849Z"
   },
   {
    "duration": 11,
    "start_time": "2024-05-17T19:20:10.864Z"
   },
   {
    "duration": 887,
    "start_time": "2024-05-17T19:20:10.880Z"
   },
   {
    "duration": 481,
    "start_time": "2024-05-17T19:20:11.770Z"
   },
   {
    "duration": 7,
    "start_time": "2024-05-17T19:20:12.257Z"
   },
   {
    "duration": 12,
    "start_time": "2024-05-17T19:20:12.267Z"
   },
   {
    "duration": 7,
    "start_time": "2024-05-17T19:20:12.282Z"
   },
   {
    "duration": 4985,
    "start_time": "2024-05-18T00:59:10.253Z"
   },
   {
    "duration": 23,
    "start_time": "2024-05-18T00:59:15.242Z"
   },
   {
    "duration": 14,
    "start_time": "2024-05-18T00:59:15.268Z"
   },
   {
    "duration": 29,
    "start_time": "2024-05-18T00:59:15.285Z"
   },
   {
    "duration": 15,
    "start_time": "2024-05-18T00:59:15.320Z"
   },
   {
    "duration": 16,
    "start_time": "2024-05-18T00:59:15.338Z"
   },
   {
    "duration": 8,
    "start_time": "2024-05-18T00:59:15.358Z"
   },
   {
    "duration": 14,
    "start_time": "2024-05-18T00:59:15.408Z"
   },
   {
    "duration": 12,
    "start_time": "2024-05-18T00:59:15.426Z"
   },
   {
    "duration": 11,
    "start_time": "2024-05-18T00:59:15.440Z"
   },
   {
    "duration": 15,
    "start_time": "2024-05-18T00:59:15.454Z"
   },
   {
    "duration": 16,
    "start_time": "2024-05-18T00:59:15.512Z"
   },
   {
    "duration": 7,
    "start_time": "2024-05-18T00:59:15.531Z"
   },
   {
    "duration": 8,
    "start_time": "2024-05-18T01:37:56.796Z"
   },
   {
    "duration": 12,
    "start_time": "2024-05-18T01:38:52.574Z"
   },
   {
    "duration": 10,
    "start_time": "2024-05-18T01:39:55.022Z"
   },
   {
    "duration": 11,
    "start_time": "2024-05-18T01:40:12.458Z"
   },
   {
    "duration": 314,
    "start_time": "2024-05-18T02:11:02.719Z"
   },
   {
    "duration": 4944,
    "start_time": "2024-05-18T02:11:10.055Z"
   },
   {
    "duration": 30,
    "start_time": "2024-05-18T02:11:15.002Z"
   },
   {
    "duration": 14,
    "start_time": "2024-05-18T02:11:15.034Z"
   },
   {
    "duration": 10,
    "start_time": "2024-05-18T02:11:15.051Z"
   },
   {
    "duration": 16,
    "start_time": "2024-05-18T02:11:15.068Z"
   },
   {
    "duration": 52,
    "start_time": "2024-05-18T02:11:15.087Z"
   },
   {
    "duration": 7,
    "start_time": "2024-05-18T02:11:15.143Z"
   },
   {
    "duration": 12,
    "start_time": "2024-05-18T02:11:15.153Z"
   },
   {
    "duration": 9,
    "start_time": "2024-05-18T02:11:15.168Z"
   },
   {
    "duration": 57,
    "start_time": "2024-05-18T02:11:15.181Z"
   },
   {
    "duration": 14,
    "start_time": "2024-05-18T02:11:15.241Z"
   },
   {
    "duration": 15,
    "start_time": "2024-05-18T02:11:15.258Z"
   },
   {
    "duration": 7,
    "start_time": "2024-05-18T02:11:15.276Z"
   },
   {
    "duration": 49,
    "start_time": "2024-05-18T02:11:15.288Z"
   },
   {
    "duration": 10,
    "start_time": "2024-05-18T02:11:15.339Z"
   },
   {
    "duration": 11,
    "start_time": "2024-05-18T02:11:34.458Z"
   },
   {
    "duration": 4,
    "start_time": "2024-05-18T02:15:20.550Z"
   },
   {
    "duration": 17,
    "start_time": "2024-05-18T02:15:20.558Z"
   },
   {
    "duration": 10,
    "start_time": "2024-05-18T02:15:20.577Z"
   },
   {
    "duration": 11,
    "start_time": "2024-05-18T02:15:20.590Z"
   },
   {
    "duration": 35,
    "start_time": "2024-05-18T02:15:20.605Z"
   },
   {
    "duration": 14,
    "start_time": "2024-05-18T02:15:20.643Z"
   },
   {
    "duration": 7,
    "start_time": "2024-05-18T02:15:20.660Z"
   },
   {
    "duration": 11,
    "start_time": "2024-05-18T02:15:20.671Z"
   },
   {
    "duration": 52,
    "start_time": "2024-05-18T02:15:20.685Z"
   },
   {
    "duration": 11,
    "start_time": "2024-05-18T02:15:20.741Z"
   },
   {
    "duration": 14,
    "start_time": "2024-05-18T02:15:20.756Z"
   },
   {
    "duration": 14,
    "start_time": "2024-05-18T02:15:20.773Z"
   },
   {
    "duration": 8,
    "start_time": "2024-05-18T02:15:20.831Z"
   },
   {
    "duration": 8,
    "start_time": "2024-05-18T02:15:20.844Z"
   },
   {
    "duration": 10,
    "start_time": "2024-05-18T02:15:20.855Z"
   },
   {
    "duration": 9,
    "start_time": "2024-05-18T02:17:29.877Z"
   },
   {
    "duration": 11,
    "start_time": "2024-05-18T02:18:15.569Z"
   },
   {
    "duration": 124,
    "start_time": "2024-05-18T02:30:56.848Z"
   },
   {
    "duration": 5,
    "start_time": "2024-05-18T02:31:05.458Z"
   },
   {
    "duration": 24,
    "start_time": "2024-05-18T02:31:05.469Z"
   },
   {
    "duration": 11,
    "start_time": "2024-05-18T02:31:05.496Z"
   },
   {
    "duration": 25,
    "start_time": "2024-05-18T02:31:05.511Z"
   },
   {
    "duration": 17,
    "start_time": "2024-05-18T02:31:05.543Z"
   },
   {
    "duration": 17,
    "start_time": "2024-05-18T02:31:05.564Z"
   },
   {
    "duration": 53,
    "start_time": "2024-05-18T02:31:05.584Z"
   },
   {
    "duration": 19,
    "start_time": "2024-05-18T02:31:05.640Z"
   },
   {
    "duration": 13,
    "start_time": "2024-05-18T02:31:05.663Z"
   },
   {
    "duration": 14,
    "start_time": "2024-05-18T02:31:05.679Z"
   },
   {
    "duration": 15,
    "start_time": "2024-05-18T02:31:05.731Z"
   },
   {
    "duration": 16,
    "start_time": "2024-05-18T02:31:05.749Z"
   },
   {
    "duration": 7,
    "start_time": "2024-05-18T02:31:05.769Z"
   },
   {
    "duration": 10,
    "start_time": "2024-05-18T02:31:05.831Z"
   },
   {
    "duration": 13,
    "start_time": "2024-05-18T02:31:05.844Z"
   },
   {
    "duration": 12,
    "start_time": "2024-05-18T02:31:05.859Z"
   },
   {
    "duration": 11,
    "start_time": "2024-05-18T02:31:05.875Z"
   },
   {
    "duration": 54,
    "start_time": "2024-05-18T02:31:05.889Z"
   },
   {
    "duration": 877,
    "start_time": "2024-05-18T02:31:05.946Z"
   },
   {
    "duration": 468,
    "start_time": "2024-05-18T02:31:06.826Z"
   },
   {
    "duration": 8,
    "start_time": "2024-05-18T02:31:07.299Z"
   },
   {
    "duration": 30,
    "start_time": "2024-05-18T02:31:07.310Z"
   },
   {
    "duration": 8,
    "start_time": "2024-05-18T02:31:07.343Z"
   },
   {
    "duration": 1309,
    "start_time": "2024-05-18T02:36:32.950Z"
   },
   {
    "duration": 18,
    "start_time": "2024-05-18T02:36:34.262Z"
   },
   {
    "duration": 13,
    "start_time": "2024-05-18T02:36:34.283Z"
   },
   {
    "duration": 33,
    "start_time": "2024-05-18T02:36:34.298Z"
   },
   {
    "duration": 15,
    "start_time": "2024-05-18T02:36:34.336Z"
   },
   {
    "duration": 16,
    "start_time": "2024-05-18T02:36:34.354Z"
   },
   {
    "duration": 11,
    "start_time": "2024-05-18T02:36:34.374Z"
   },
   {
    "duration": 51,
    "start_time": "2024-05-18T02:36:34.388Z"
   },
   {
    "duration": 9,
    "start_time": "2024-05-18T02:36:34.442Z"
   },
   {
    "duration": 10,
    "start_time": "2024-05-18T02:36:34.455Z"
   },
   {
    "duration": 16,
    "start_time": "2024-05-18T02:36:34.468Z"
   },
   {
    "duration": 55,
    "start_time": "2024-05-18T02:36:34.486Z"
   },
   {
    "duration": 7,
    "start_time": "2024-05-18T02:36:34.546Z"
   },
   {
    "duration": 8,
    "start_time": "2024-05-18T02:36:34.560Z"
   },
   {
    "duration": 10,
    "start_time": "2024-05-18T02:36:34.571Z"
   },
   {
    "duration": 11,
    "start_time": "2024-05-18T02:36:34.630Z"
   },
   {
    "duration": 12,
    "start_time": "2024-05-18T02:36:34.643Z"
   },
   {
    "duration": 10,
    "start_time": "2024-05-18T02:36:34.659Z"
   },
   {
    "duration": 894,
    "start_time": "2024-05-18T02:36:34.673Z"
   },
   {
    "duration": 473,
    "start_time": "2024-05-18T02:36:35.570Z"
   },
   {
    "duration": 8,
    "start_time": "2024-05-18T02:36:36.045Z"
   },
   {
    "duration": 10,
    "start_time": "2024-05-18T02:36:36.056Z"
   },
   {
    "duration": 8,
    "start_time": "2024-05-18T02:36:36.069Z"
   },
   {
    "duration": 5,
    "start_time": "2024-05-18T02:37:14.060Z"
   },
   {
    "duration": 17,
    "start_time": "2024-05-18T02:37:14.069Z"
   },
   {
    "duration": 10,
    "start_time": "2024-05-18T02:37:14.089Z"
   },
   {
    "duration": 10,
    "start_time": "2024-05-18T02:37:14.102Z"
   },
   {
    "duration": 13,
    "start_time": "2024-05-18T02:37:14.130Z"
   },
   {
    "duration": 14,
    "start_time": "2024-05-18T02:37:14.147Z"
   },
   {
    "duration": 7,
    "start_time": "2024-05-18T02:37:14.164Z"
   },
   {
    "duration": 11,
    "start_time": "2024-05-18T02:37:14.174Z"
   },
   {
    "duration": 11,
    "start_time": "2024-05-18T02:37:14.232Z"
   },
   {
    "duration": 11,
    "start_time": "2024-05-18T02:37:14.246Z"
   },
   {
    "duration": 14,
    "start_time": "2024-05-18T02:37:14.260Z"
   },
   {
    "duration": 55,
    "start_time": "2024-05-18T02:37:14.278Z"
   },
   {
    "duration": 7,
    "start_time": "2024-05-18T02:37:14.336Z"
   },
   {
    "duration": 8,
    "start_time": "2024-05-18T02:37:14.349Z"
   },
   {
    "duration": 9,
    "start_time": "2024-05-18T02:37:14.361Z"
   },
   {
    "duration": 10,
    "start_time": "2024-05-18T02:37:14.373Z"
   },
   {
    "duration": 12,
    "start_time": "2024-05-18T02:37:14.430Z"
   },
   {
    "duration": 11,
    "start_time": "2024-05-18T02:37:14.445Z"
   },
   {
    "duration": 833,
    "start_time": "2024-05-18T02:37:14.459Z"
   },
   {
    "duration": 387,
    "start_time": "2024-05-18T02:37:15.297Z"
   },
   {
    "duration": 9,
    "start_time": "2024-05-18T02:37:15.687Z"
   },
   {
    "duration": 32,
    "start_time": "2024-05-18T02:37:15.700Z"
   },
   {
    "duration": 7,
    "start_time": "2024-05-18T02:37:15.736Z"
   },
   {
    "duration": 3,
    "start_time": "2024-05-18T02:38:53.319Z"
   },
   {
    "duration": 17,
    "start_time": "2024-05-18T02:38:53.327Z"
   },
   {
    "duration": 9,
    "start_time": "2024-05-18T02:38:53.347Z"
   },
   {
    "duration": 10,
    "start_time": "2024-05-18T02:38:53.359Z"
   },
   {
    "duration": 13,
    "start_time": "2024-05-18T02:38:53.374Z"
   },
   {
    "duration": 14,
    "start_time": "2024-05-18T02:38:53.430Z"
   },
   {
    "duration": 8,
    "start_time": "2024-05-18T02:38:53.447Z"
   },
   {
    "duration": 11,
    "start_time": "2024-05-18T02:38:53.459Z"
   },
   {
    "duration": 10,
    "start_time": "2024-05-18T02:38:53.475Z"
   },
   {
    "duration": 10,
    "start_time": "2024-05-18T02:38:53.531Z"
   },
   {
    "duration": 13,
    "start_time": "2024-05-18T02:38:53.544Z"
   },
   {
    "duration": 15,
    "start_time": "2024-05-18T02:38:53.560Z"
   },
   {
    "duration": 8,
    "start_time": "2024-05-18T02:38:53.578Z"
   },
   {
    "duration": 10,
    "start_time": "2024-05-18T02:38:53.635Z"
   },
   {
    "duration": 11,
    "start_time": "2024-05-18T02:38:53.648Z"
   },
   {
    "duration": 11,
    "start_time": "2024-05-18T02:38:53.662Z"
   },
   {
    "duration": 55,
    "start_time": "2024-05-18T02:38:53.676Z"
   },
   {
    "duration": 10,
    "start_time": "2024-05-18T02:38:53.738Z"
   },
   {
    "duration": 760,
    "start_time": "2024-05-18T02:38:53.752Z"
   },
   {
    "duration": 391,
    "start_time": "2024-05-18T02:38:54.514Z"
   },
   {
    "duration": 22,
    "start_time": "2024-05-18T02:38:54.908Z"
   },
   {
    "duration": 12,
    "start_time": "2024-05-18T02:38:54.933Z"
   },
   {
    "duration": 7,
    "start_time": "2024-05-18T02:38:54.948Z"
   },
   {
    "duration": 5,
    "start_time": "2024-05-18T02:39:29.147Z"
   },
   {
    "duration": 19,
    "start_time": "2024-05-18T02:39:29.156Z"
   },
   {
    "duration": 16,
    "start_time": "2024-05-18T02:39:29.177Z"
   },
   {
    "duration": 10,
    "start_time": "2024-05-18T02:39:29.196Z"
   },
   {
    "duration": 15,
    "start_time": "2024-05-18T02:39:29.232Z"
   },
   {
    "duration": 14,
    "start_time": "2024-05-18T02:39:29.250Z"
   },
   {
    "duration": 8,
    "start_time": "2024-05-18T02:39:29.268Z"
   },
   {
    "duration": 53,
    "start_time": "2024-05-18T02:39:29.279Z"
   },
   {
    "duration": 12,
    "start_time": "2024-05-18T02:39:29.335Z"
   },
   {
    "duration": 11,
    "start_time": "2024-05-18T02:39:29.350Z"
   },
   {
    "duration": 14,
    "start_time": "2024-05-18T02:39:29.364Z"
   },
   {
    "duration": 55,
    "start_time": "2024-05-18T02:39:29.381Z"
   },
   {
    "duration": 7,
    "start_time": "2024-05-18T02:39:29.440Z"
   },
   {
    "duration": 8,
    "start_time": "2024-05-18T02:39:29.453Z"
   },
   {
    "duration": 11,
    "start_time": "2024-05-18T02:39:29.463Z"
   },
   {
    "duration": 55,
    "start_time": "2024-05-18T02:39:29.477Z"
   },
   {
    "duration": 12,
    "start_time": "2024-05-18T02:39:29.535Z"
   },
   {
    "duration": 11,
    "start_time": "2024-05-18T02:39:29.549Z"
   },
   {
    "duration": 774,
    "start_time": "2024-05-18T02:39:29.563Z"
   },
   {
    "duration": 400,
    "start_time": "2024-05-18T02:39:30.341Z"
   },
   {
    "duration": 9,
    "start_time": "2024-05-18T02:39:30.745Z"
   },
   {
    "duration": 13,
    "start_time": "2024-05-18T02:39:30.758Z"
   },
   {
    "duration": 9,
    "start_time": "2024-05-18T02:39:30.775Z"
   },
   {
    "duration": 5,
    "start_time": "2024-05-18T02:40:27.725Z"
   },
   {
    "duration": 20,
    "start_time": "2024-05-18T02:40:27.735Z"
   },
   {
    "duration": 10,
    "start_time": "2024-05-18T02:40:27.759Z"
   },
   {
    "duration": 11,
    "start_time": "2024-05-18T02:40:27.775Z"
   },
   {
    "duration": 53,
    "start_time": "2024-05-18T02:40:27.791Z"
   },
   {
    "duration": 17,
    "start_time": "2024-05-18T02:40:27.848Z"
   },
   {
    "duration": 11,
    "start_time": "2024-05-18T02:40:27.868Z"
   },
   {
    "duration": 48,
    "start_time": "2024-05-18T02:40:27.883Z"
   },
   {
    "duration": 12,
    "start_time": "2024-05-18T02:40:27.935Z"
   },
   {
    "duration": 18,
    "start_time": "2024-05-18T02:40:27.952Z"
   },
   {
    "duration": 18,
    "start_time": "2024-05-18T02:40:27.973Z"
   },
   {
    "duration": 16,
    "start_time": "2024-05-18T02:40:28.031Z"
   },
   {
    "duration": 9,
    "start_time": "2024-05-18T02:40:28.052Z"
   },
   {
    "duration": 9,
    "start_time": "2024-05-18T02:40:28.068Z"
   },
   {
    "duration": 53,
    "start_time": "2024-05-18T02:40:28.081Z"
   },
   {
    "duration": 11,
    "start_time": "2024-05-18T02:40:28.140Z"
   },
   {
    "duration": 16,
    "start_time": "2024-05-18T02:40:28.155Z"
   },
   {
    "duration": 14,
    "start_time": "2024-05-18T02:40:28.174Z"
   },
   {
    "duration": 917,
    "start_time": "2024-05-18T02:40:28.191Z"
   },
   {
    "duration": 406,
    "start_time": "2024-05-18T02:40:29.111Z"
   },
   {
    "duration": 11,
    "start_time": "2024-05-18T02:40:29.520Z"
   },
   {
    "duration": 12,
    "start_time": "2024-05-18T02:40:29.534Z"
   },
   {
    "duration": 7,
    "start_time": "2024-05-18T02:40:29.549Z"
   },
   {
    "duration": 4,
    "start_time": "2024-05-18T02:41:32.480Z"
   },
   {
    "duration": 16,
    "start_time": "2024-05-18T02:41:32.488Z"
   },
   {
    "duration": 9,
    "start_time": "2024-05-18T02:41:32.508Z"
   },
   {
    "duration": 13,
    "start_time": "2024-05-18T02:41:32.521Z"
   },
   {
    "duration": 13,
    "start_time": "2024-05-18T02:41:32.539Z"
   },
   {
    "duration": 15,
    "start_time": "2024-05-18T02:41:32.555Z"
   },
   {
    "duration": 7,
    "start_time": "2024-05-18T02:41:32.573Z"
   },
   {
    "duration": 11,
    "start_time": "2024-05-18T02:41:32.583Z"
   },
   {
    "duration": 11,
    "start_time": "2024-05-18T02:41:32.631Z"
   },
   {
    "duration": 12,
    "start_time": "2024-05-18T02:41:32.645Z"
   },
   {
    "duration": 15,
    "start_time": "2024-05-18T02:41:32.664Z"
   },
   {
    "duration": 62,
    "start_time": "2024-05-18T02:41:32.682Z"
   },
   {
    "duration": 7,
    "start_time": "2024-05-18T02:41:32.748Z"
   },
   {
    "duration": 10,
    "start_time": "2024-05-18T02:41:32.758Z"
   },
   {
    "duration": 11,
    "start_time": "2024-05-18T02:41:32.771Z"
   },
   {
    "duration": 48,
    "start_time": "2024-05-18T02:41:32.785Z"
   },
   {
    "duration": 11,
    "start_time": "2024-05-18T02:41:32.841Z"
   },
   {
    "duration": 11,
    "start_time": "2024-05-18T02:41:32.855Z"
   },
   {
    "duration": 766,
    "start_time": "2024-05-18T02:41:32.869Z"
   },
   {
    "duration": 405,
    "start_time": "2024-05-18T02:41:33.638Z"
   },
   {
    "duration": 8,
    "start_time": "2024-05-18T02:41:34.046Z"
   },
   {
    "duration": 11,
    "start_time": "2024-05-18T02:41:34.057Z"
   },
   {
    "duration": 6,
    "start_time": "2024-05-18T02:41:34.074Z"
   }
  ],
  "kernelspec": {
   "display_name": "Python 3 (ipykernel)",
   "language": "python",
   "name": "python3"
  },
  "language_info": {
   "codemirror_mode": {
    "name": "ipython",
    "version": 3
   },
   "file_extension": ".py",
   "mimetype": "text/x-python",
   "name": "python",
   "nbconvert_exporter": "python",
   "pygments_lexer": "ipython3",
   "version": "3.9.19"
  },
  "toc": {
   "base_numbering": 1,
   "nav_menu": {},
   "number_sections": true,
   "sideBar": true,
   "skip_h1_title": true,
   "title_cell": "Table of Contents",
   "title_sidebar": "Contents",
   "toc_cell": false,
   "toc_position": {},
   "toc_section_display": true,
   "toc_window_display": false
  }
 },
 "nbformat": 4,
 "nbformat_minor": 2
}
