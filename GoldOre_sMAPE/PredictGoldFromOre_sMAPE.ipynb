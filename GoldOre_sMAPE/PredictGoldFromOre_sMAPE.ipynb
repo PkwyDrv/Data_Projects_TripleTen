{
 "cells": [
  {
   "cell_type": "markdown",
   "metadata": {},
   "source": [
    "# Machine Learning Model for Gold Recovery"
   ]
  },
  {
   "cell_type": "markdown",
   "metadata": {},
   "source": [
    "## Introduction\n",
    "\n",
    "Zyfra is a company that works to improve efficiency and safety among the mining, chemical, engineering, and oil & gas industries by combining and implementing digital solutions within the industrial production landscape. This project is a predictive machine learning modeling project focused on the mining of precious metals, specifically gold. The goal of this project is to select and optimize a predictive model based on the symmetric mean absolute percentage error(sMAPE) metric with the data collected across various stages of the refinement. The model should predict the amount of gold to be recovered from gold ore.  The fundamental, unprocessed data is contained within the provided csv files: *\"gold_recovery_train.csv\"*, *\"gold_recovery_test.csv\"*, and *\"gold_recovery_full.csv\"*\n",
    "\n",
    "To begin, I will start by inspecting all the data before preprocessing it to make it suitable to train the model.  I'll clean the data by looking for any missing values or duplicate rows that could skew the model shaping, and either replace or remove them entirely. I'll then plot the data to visually check the distribution to identify any outliers, and remove them if necessary. Finally, I'll make sure the training and test sets are uniform in their scope to appropriately analyze potential regression models and shape the final one."
   ]
  },
  {
   "cell_type": "markdown",
   "metadata": {},
   "source": [
    "## Imports"
   ]
  },
  {
   "cell_type": "code",
   "execution_count": 1,
   "metadata": {},
   "outputs": [],
   "source": [
    "#import all necessary libraries\n",
    "import pandas as pd\n",
    "import numpy as np\n",
    "import matplotlib.pyplot as plt\n",
    "import seaborn as sns\n",
    "from sklearn.preprocessing import StandardScaler\n",
    "from sklearn.metrics import mean_absolute_error, make_scorer\n",
    "from sklearn.tree import DecisionTreeRegressor\n",
    "from sklearn.linear_model import LinearRegression\n",
    "from sklearn.ensemble import RandomForestRegressor\n",
    "from sklearn.model_selection import cross_val_score, train_test_split, GridSearchCV\n",
    "from sklearn.dummy import DummyRegressor\n",
    "import warnings\n",
    "pd.set_option('display.max_columns', 100)\n",
    "pd.set_option('display.max_rows', 100)\n",
    "warnings.filterwarnings('ignore')"
   ]
  },
  {
   "cell_type": "markdown",
   "metadata": {},
   "source": [
    "## Read in data sets"
   ]
  },
  {
   "cell_type": "code",
   "execution_count": 2,
   "metadata": {},
   "outputs": [],
   "source": [
    "#import all relevant dataframes\n",
    "df_train = pd.read_csv('/datasets/gold_recovery_train.csv', parse_dates=True)\n",
    "df_test = pd.read_csv('/datasets/gold_recovery_test.csv', parse_dates=True)\n",
    "df_source = pd.read_csv('/datasets/gold_recovery_full.csv', parse_dates=True)\n",
    "\n",
    "all_df = [df_train, df_test, df_source]"
   ]
  },
  {
   "cell_type": "markdown",
   "metadata": {},
   "source": [
    "## Look into data parameters"
   ]
  },
  {
   "cell_type": "code",
   "execution_count": 3,
   "metadata": {},
   "outputs": [
    {
     "data": {
      "text/plain": [
       "((16860, 87), (5856, 53), (22716, 87))"
      ]
     },
     "execution_count": 3,
     "metadata": {},
     "output_type": "execute_result"
    }
   ],
   "source": [
    "#check dataframe shapes\n",
    "df_train.shape, df_test.shape, df_source.shape"
   ]
  },
  {
   "cell_type": "code",
   "execution_count": 4,
   "metadata": {},
   "outputs": [
    {
     "name": "stdout",
     "output_type": "stream",
     "text": [
      "\n"
     ]
    },
    {
     "data": {
      "text/html": [
       "<div>\n",
       "<style scoped>\n",
       "    .dataframe tbody tr th:only-of-type {\n",
       "        vertical-align: middle;\n",
       "    }\n",
       "\n",
       "    .dataframe tbody tr th {\n",
       "        vertical-align: top;\n",
       "    }\n",
       "\n",
       "    .dataframe thead th {\n",
       "        text-align: right;\n",
       "    }\n",
       "</style>\n",
       "<table border=\"1\" class=\"dataframe\">\n",
       "  <thead>\n",
       "    <tr style=\"text-align: right;\">\n",
       "      <th></th>\n",
       "      <th>date</th>\n",
       "      <th>final.output.concentrate_ag</th>\n",
       "      <th>final.output.concentrate_pb</th>\n",
       "      <th>final.output.concentrate_sol</th>\n",
       "      <th>final.output.concentrate_au</th>\n",
       "      <th>final.output.recovery</th>\n",
       "      <th>final.output.tail_ag</th>\n",
       "      <th>final.output.tail_pb</th>\n",
       "      <th>final.output.tail_sol</th>\n",
       "      <th>final.output.tail_au</th>\n",
       "      <th>primary_cleaner.input.sulfate</th>\n",
       "      <th>primary_cleaner.input.depressant</th>\n",
       "      <th>primary_cleaner.input.feed_size</th>\n",
       "      <th>primary_cleaner.input.xanthate</th>\n",
       "      <th>primary_cleaner.output.concentrate_ag</th>\n",
       "      <th>primary_cleaner.output.concentrate_pb</th>\n",
       "      <th>primary_cleaner.output.concentrate_sol</th>\n",
       "      <th>primary_cleaner.output.concentrate_au</th>\n",
       "      <th>primary_cleaner.output.tail_ag</th>\n",
       "      <th>primary_cleaner.output.tail_pb</th>\n",
       "      <th>primary_cleaner.output.tail_sol</th>\n",
       "      <th>primary_cleaner.output.tail_au</th>\n",
       "      <th>primary_cleaner.state.floatbank8_a_air</th>\n",
       "      <th>primary_cleaner.state.floatbank8_a_level</th>\n",
       "      <th>primary_cleaner.state.floatbank8_b_air</th>\n",
       "      <th>primary_cleaner.state.floatbank8_b_level</th>\n",
       "      <th>primary_cleaner.state.floatbank8_c_air</th>\n",
       "      <th>primary_cleaner.state.floatbank8_c_level</th>\n",
       "      <th>primary_cleaner.state.floatbank8_d_air</th>\n",
       "      <th>primary_cleaner.state.floatbank8_d_level</th>\n",
       "      <th>rougher.calculation.sulfate_to_au_concentrate</th>\n",
       "      <th>rougher.calculation.floatbank10_sulfate_to_au_feed</th>\n",
       "      <th>rougher.calculation.floatbank11_sulfate_to_au_feed</th>\n",
       "      <th>rougher.calculation.au_pb_ratio</th>\n",
       "      <th>rougher.input.feed_ag</th>\n",
       "      <th>rougher.input.feed_pb</th>\n",
       "      <th>rougher.input.feed_rate</th>\n",
       "      <th>rougher.input.feed_size</th>\n",
       "      <th>rougher.input.feed_sol</th>\n",
       "      <th>rougher.input.feed_au</th>\n",
       "      <th>rougher.input.floatbank10_sulfate</th>\n",
       "      <th>rougher.input.floatbank10_xanthate</th>\n",
       "      <th>rougher.input.floatbank11_sulfate</th>\n",
       "      <th>rougher.input.floatbank11_xanthate</th>\n",
       "      <th>rougher.output.concentrate_ag</th>\n",
       "      <th>rougher.output.concentrate_pb</th>\n",
       "      <th>rougher.output.concentrate_sol</th>\n",
       "      <th>rougher.output.concentrate_au</th>\n",
       "      <th>rougher.output.recovery</th>\n",
       "      <th>rougher.output.tail_ag</th>\n",
       "      <th>rougher.output.tail_pb</th>\n",
       "      <th>rougher.output.tail_sol</th>\n",
       "      <th>rougher.output.tail_au</th>\n",
       "      <th>rougher.state.floatbank10_a_air</th>\n",
       "      <th>rougher.state.floatbank10_a_level</th>\n",
       "      <th>rougher.state.floatbank10_b_air</th>\n",
       "      <th>rougher.state.floatbank10_b_level</th>\n",
       "      <th>rougher.state.floatbank10_c_air</th>\n",
       "      <th>rougher.state.floatbank10_c_level</th>\n",
       "      <th>rougher.state.floatbank10_d_air</th>\n",
       "      <th>rougher.state.floatbank10_d_level</th>\n",
       "      <th>rougher.state.floatbank10_e_air</th>\n",
       "      <th>rougher.state.floatbank10_e_level</th>\n",
       "      <th>rougher.state.floatbank10_f_air</th>\n",
       "      <th>rougher.state.floatbank10_f_level</th>\n",
       "      <th>secondary_cleaner.output.tail_ag</th>\n",
       "      <th>secondary_cleaner.output.tail_pb</th>\n",
       "      <th>secondary_cleaner.output.tail_sol</th>\n",
       "      <th>secondary_cleaner.output.tail_au</th>\n",
       "      <th>secondary_cleaner.state.floatbank2_a_air</th>\n",
       "      <th>secondary_cleaner.state.floatbank2_a_level</th>\n",
       "      <th>secondary_cleaner.state.floatbank2_b_air</th>\n",
       "      <th>secondary_cleaner.state.floatbank2_b_level</th>\n",
       "      <th>secondary_cleaner.state.floatbank3_a_air</th>\n",
       "      <th>secondary_cleaner.state.floatbank3_a_level</th>\n",
       "      <th>secondary_cleaner.state.floatbank3_b_air</th>\n",
       "      <th>secondary_cleaner.state.floatbank3_b_level</th>\n",
       "      <th>secondary_cleaner.state.floatbank4_a_air</th>\n",
       "      <th>secondary_cleaner.state.floatbank4_a_level</th>\n",
       "      <th>secondary_cleaner.state.floatbank4_b_air</th>\n",
       "      <th>secondary_cleaner.state.floatbank4_b_level</th>\n",
       "      <th>secondary_cleaner.state.floatbank5_a_air</th>\n",
       "      <th>secondary_cleaner.state.floatbank5_a_level</th>\n",
       "      <th>secondary_cleaner.state.floatbank5_b_air</th>\n",
       "      <th>secondary_cleaner.state.floatbank5_b_level</th>\n",
       "      <th>secondary_cleaner.state.floatbank6_a_air</th>\n",
       "      <th>secondary_cleaner.state.floatbank6_a_level</th>\n",
       "    </tr>\n",
       "  </thead>\n",
       "  <tbody>\n",
       "    <tr>\n",
       "      <th>0</th>\n",
       "      <td>2016-01-15 00:00:00</td>\n",
       "      <td>6.055403</td>\n",
       "      <td>9.889648</td>\n",
       "      <td>5.507324</td>\n",
       "      <td>42.192020</td>\n",
       "      <td>70.541216</td>\n",
       "      <td>10.411962</td>\n",
       "      <td>0.895447</td>\n",
       "      <td>16.904297</td>\n",
       "      <td>2.143149</td>\n",
       "      <td>127.092003</td>\n",
       "      <td>10.128295</td>\n",
       "      <td>7.25</td>\n",
       "      <td>0.988759</td>\n",
       "      <td>8.547551</td>\n",
       "      <td>10.389648</td>\n",
       "      <td>19.529297</td>\n",
       "      <td>34.174427</td>\n",
       "      <td>14.936526</td>\n",
       "      <td>2.534912</td>\n",
       "      <td>7.476074</td>\n",
       "      <td>2.106679</td>\n",
       "      <td>1549.775757</td>\n",
       "      <td>-498.912140</td>\n",
       "      <td>1551.434204</td>\n",
       "      <td>-516.403442</td>\n",
       "      <td>1549.873901</td>\n",
       "      <td>-498.666595</td>\n",
       "      <td>1554.367432</td>\n",
       "      <td>-493.428131</td>\n",
       "      <td>41885.707031</td>\n",
       "      <td>3481.779053</td>\n",
       "      <td>3520.337158</td>\n",
       "      <td>2.838687</td>\n",
       "      <td>6.100378</td>\n",
       "      <td>2.284912</td>\n",
       "      <td>523.546326</td>\n",
       "      <td>55.486599</td>\n",
       "      <td>36.808594</td>\n",
       "      <td>6.486150</td>\n",
       "      <td>11.986616</td>\n",
       "      <td>6.007990</td>\n",
       "      <td>11.836743</td>\n",
       "      <td>6.005818</td>\n",
       "      <td>11.500771</td>\n",
       "      <td>7.101074</td>\n",
       "      <td>28.029297</td>\n",
       "      <td>19.793808</td>\n",
       "      <td>87.107763</td>\n",
       "      <td>5.008018</td>\n",
       "      <td>0.508728</td>\n",
       "      <td>19.154297</td>\n",
       "      <td>1.170244</td>\n",
       "      <td>999.706909</td>\n",
       "      <td>-404.066986</td>\n",
       "      <td>1603.011353</td>\n",
       "      <td>-434.715027</td>\n",
       "      <td>1602.375000</td>\n",
       "      <td>-442.204468</td>\n",
       "      <td>1598.937256</td>\n",
       "      <td>-451.294128</td>\n",
       "      <td>1404.472046</td>\n",
       "      <td>-455.462982</td>\n",
       "      <td>1416.354980</td>\n",
       "      <td>-451.939636</td>\n",
       "      <td>14.500184</td>\n",
       "      <td>4.694824</td>\n",
       "      <td>8.764648</td>\n",
       "      <td>2.606185</td>\n",
       "      <td>25.853109</td>\n",
       "      <td>-498.526489</td>\n",
       "      <td>23.893660</td>\n",
       "      <td>-501.406281</td>\n",
       "      <td>23.961798</td>\n",
       "      <td>-495.262817</td>\n",
       "      <td>21.940409</td>\n",
       "      <td>-499.340973</td>\n",
       "      <td>14.016835</td>\n",
       "      <td>-502.488007</td>\n",
       "      <td>12.099931</td>\n",
       "      <td>-504.715942</td>\n",
       "      <td>9.925633</td>\n",
       "      <td>-498.310211</td>\n",
       "      <td>8.079666</td>\n",
       "      <td>-500.470978</td>\n",
       "      <td>14.151341</td>\n",
       "      <td>-605.841980</td>\n",
       "    </tr>\n",
       "    <tr>\n",
       "      <th>1</th>\n",
       "      <td>2016-01-15 01:00:00</td>\n",
       "      <td>6.029369</td>\n",
       "      <td>9.968944</td>\n",
       "      <td>5.257781</td>\n",
       "      <td>42.701629</td>\n",
       "      <td>69.266198</td>\n",
       "      <td>10.462676</td>\n",
       "      <td>0.927452</td>\n",
       "      <td>16.634514</td>\n",
       "      <td>2.224930</td>\n",
       "      <td>125.629232</td>\n",
       "      <td>10.296251</td>\n",
       "      <td>7.25</td>\n",
       "      <td>1.002663</td>\n",
       "      <td>8.558743</td>\n",
       "      <td>10.497069</td>\n",
       "      <td>19.369147</td>\n",
       "      <td>34.118526</td>\n",
       "      <td>16.250511</td>\n",
       "      <td>3.049646</td>\n",
       "      <td>6.733907</td>\n",
       "      <td>2.353017</td>\n",
       "      <td>1576.166671</td>\n",
       "      <td>-500.904965</td>\n",
       "      <td>1575.950626</td>\n",
       "      <td>-499.865889</td>\n",
       "      <td>1575.994189</td>\n",
       "      <td>-499.315107</td>\n",
       "      <td>1574.479259</td>\n",
       "      <td>-498.931665</td>\n",
       "      <td>42050.861809</td>\n",
       "      <td>3498.370979</td>\n",
       "      <td>3489.981857</td>\n",
       "      <td>2.858998</td>\n",
       "      <td>6.161113</td>\n",
       "      <td>2.266033</td>\n",
       "      <td>525.290581</td>\n",
       "      <td>57.278666</td>\n",
       "      <td>35.753385</td>\n",
       "      <td>6.478583</td>\n",
       "      <td>11.971193</td>\n",
       "      <td>6.005766</td>\n",
       "      <td>11.996163</td>\n",
       "      <td>6.012594</td>\n",
       "      <td>11.615865</td>\n",
       "      <td>7.278807</td>\n",
       "      <td>28.067063</td>\n",
       "      <td>20.050975</td>\n",
       "      <td>86.843261</td>\n",
       "      <td>4.955378</td>\n",
       "      <td>0.536689</td>\n",
       "      <td>18.965234</td>\n",
       "      <td>1.184827</td>\n",
       "      <td>1000.286398</td>\n",
       "      <td>-400.065196</td>\n",
       "      <td>1600.754587</td>\n",
       "      <td>-449.953435</td>\n",
       "      <td>1600.479580</td>\n",
       "      <td>-449.830646</td>\n",
       "      <td>1600.527589</td>\n",
       "      <td>-449.953649</td>\n",
       "      <td>1399.227084</td>\n",
       "      <td>-450.869848</td>\n",
       "      <td>1399.719514</td>\n",
       "      <td>-450.119001</td>\n",
       "      <td>14.265474</td>\n",
       "      <td>4.592547</td>\n",
       "      <td>9.001494</td>\n",
       "      <td>2.488248</td>\n",
       "      <td>25.880539</td>\n",
       "      <td>-499.989656</td>\n",
       "      <td>23.889530</td>\n",
       "      <td>-500.372428</td>\n",
       "      <td>23.970550</td>\n",
       "      <td>-500.085473</td>\n",
       "      <td>22.085714</td>\n",
       "      <td>-499.446897</td>\n",
       "      <td>13.992281</td>\n",
       "      <td>-505.503262</td>\n",
       "      <td>11.950531</td>\n",
       "      <td>-501.331529</td>\n",
       "      <td>10.039245</td>\n",
       "      <td>-500.169983</td>\n",
       "      <td>7.984757</td>\n",
       "      <td>-500.582168</td>\n",
       "      <td>13.998353</td>\n",
       "      <td>-599.787184</td>\n",
       "    </tr>\n",
       "    <tr>\n",
       "      <th>2</th>\n",
       "      <td>2016-01-15 02:00:00</td>\n",
       "      <td>6.055926</td>\n",
       "      <td>10.213995</td>\n",
       "      <td>5.383759</td>\n",
       "      <td>42.657501</td>\n",
       "      <td>68.116445</td>\n",
       "      <td>10.507046</td>\n",
       "      <td>0.953716</td>\n",
       "      <td>16.208849</td>\n",
       "      <td>2.257889</td>\n",
       "      <td>123.819808</td>\n",
       "      <td>11.316280</td>\n",
       "      <td>7.25</td>\n",
       "      <td>0.991265</td>\n",
       "      <td>8.603505</td>\n",
       "      <td>10.354494</td>\n",
       "      <td>19.167579</td>\n",
       "      <td>33.969464</td>\n",
       "      <td>16.491823</td>\n",
       "      <td>3.124664</td>\n",
       "      <td>6.471768</td>\n",
       "      <td>2.416800</td>\n",
       "      <td>1601.556163</td>\n",
       "      <td>-499.997791</td>\n",
       "      <td>1600.386685</td>\n",
       "      <td>-500.607762</td>\n",
       "      <td>1602.003542</td>\n",
       "      <td>-500.870069</td>\n",
       "      <td>1599.541515</td>\n",
       "      <td>-499.827444</td>\n",
       "      <td>42018.101184</td>\n",
       "      <td>3495.348910</td>\n",
       "      <td>3502.359819</td>\n",
       "      <td>2.945989</td>\n",
       "      <td>6.116455</td>\n",
       "      <td>2.159622</td>\n",
       "      <td>530.026610</td>\n",
       "      <td>57.510649</td>\n",
       "      <td>35.971630</td>\n",
       "      <td>6.362222</td>\n",
       "      <td>11.920603</td>\n",
       "      <td>6.197377</td>\n",
       "      <td>11.920305</td>\n",
       "      <td>6.204633</td>\n",
       "      <td>11.695753</td>\n",
       "      <td>7.216833</td>\n",
       "      <td>27.454037</td>\n",
       "      <td>19.737170</td>\n",
       "      <td>86.842308</td>\n",
       "      <td>4.843460</td>\n",
       "      <td>0.546416</td>\n",
       "      <td>18.808533</td>\n",
       "      <td>1.162562</td>\n",
       "      <td>999.719565</td>\n",
       "      <td>-400.074028</td>\n",
       "      <td>1599.337330</td>\n",
       "      <td>-450.008530</td>\n",
       "      <td>1599.672797</td>\n",
       "      <td>-449.954491</td>\n",
       "      <td>1599.849325</td>\n",
       "      <td>-449.954185</td>\n",
       "      <td>1399.180945</td>\n",
       "      <td>-449.937588</td>\n",
       "      <td>1400.316682</td>\n",
       "      <td>-450.527147</td>\n",
       "      <td>14.115662</td>\n",
       "      <td>4.624775</td>\n",
       "      <td>8.842896</td>\n",
       "      <td>2.458187</td>\n",
       "      <td>26.005245</td>\n",
       "      <td>-499.929616</td>\n",
       "      <td>23.886657</td>\n",
       "      <td>-499.951928</td>\n",
       "      <td>23.913535</td>\n",
       "      <td>-499.442343</td>\n",
       "      <td>23.957717</td>\n",
       "      <td>-499.901982</td>\n",
       "      <td>14.015015</td>\n",
       "      <td>-502.520901</td>\n",
       "      <td>11.912783</td>\n",
       "      <td>-501.133383</td>\n",
       "      <td>10.070913</td>\n",
       "      <td>-500.129135</td>\n",
       "      <td>8.013877</td>\n",
       "      <td>-500.517572</td>\n",
       "      <td>14.028663</td>\n",
       "      <td>-601.427363</td>\n",
       "    </tr>\n",
       "    <tr>\n",
       "      <th>3</th>\n",
       "      <td>2016-01-15 03:00:00</td>\n",
       "      <td>6.047977</td>\n",
       "      <td>9.977019</td>\n",
       "      <td>4.858634</td>\n",
       "      <td>42.689819</td>\n",
       "      <td>68.347543</td>\n",
       "      <td>10.422762</td>\n",
       "      <td>0.883763</td>\n",
       "      <td>16.532835</td>\n",
       "      <td>2.146849</td>\n",
       "      <td>122.270188</td>\n",
       "      <td>11.322140</td>\n",
       "      <td>7.25</td>\n",
       "      <td>0.996739</td>\n",
       "      <td>7.221879</td>\n",
       "      <td>8.496563</td>\n",
       "      <td>15.978538</td>\n",
       "      <td>28.260743</td>\n",
       "      <td>16.024359</td>\n",
       "      <td>2.960362</td>\n",
       "      <td>6.843791</td>\n",
       "      <td>2.262051</td>\n",
       "      <td>1599.968720</td>\n",
       "      <td>-500.951778</td>\n",
       "      <td>1600.659236</td>\n",
       "      <td>-499.677094</td>\n",
       "      <td>1600.304144</td>\n",
       "      <td>-500.727997</td>\n",
       "      <td>1600.449520</td>\n",
       "      <td>-500.052575</td>\n",
       "      <td>42029.447991</td>\n",
       "      <td>3498.578313</td>\n",
       "      <td>3499.162912</td>\n",
       "      <td>3.002340</td>\n",
       "      <td>6.043309</td>\n",
       "      <td>2.037807</td>\n",
       "      <td>542.590390</td>\n",
       "      <td>57.792734</td>\n",
       "      <td>36.862241</td>\n",
       "      <td>6.118189</td>\n",
       "      <td>11.630094</td>\n",
       "      <td>6.203177</td>\n",
       "      <td>11.692450</td>\n",
       "      <td>6.196578</td>\n",
       "      <td>11.915047</td>\n",
       "      <td>7.175616</td>\n",
       "      <td>27.341277</td>\n",
       "      <td>19.320810</td>\n",
       "      <td>87.226430</td>\n",
       "      <td>4.655288</td>\n",
       "      <td>0.542525</td>\n",
       "      <td>19.330200</td>\n",
       "      <td>1.079755</td>\n",
       "      <td>999.814770</td>\n",
       "      <td>-400.200179</td>\n",
       "      <td>1600.059442</td>\n",
       "      <td>-450.619948</td>\n",
       "      <td>1600.012842</td>\n",
       "      <td>-449.910497</td>\n",
       "      <td>1597.725177</td>\n",
       "      <td>-450.130127</td>\n",
       "      <td>1400.943157</td>\n",
       "      <td>-450.030142</td>\n",
       "      <td>1400.234743</td>\n",
       "      <td>-449.790835</td>\n",
       "      <td>13.732071</td>\n",
       "      <td>4.482453</td>\n",
       "      <td>9.122857</td>\n",
       "      <td>2.322062</td>\n",
       "      <td>25.942508</td>\n",
       "      <td>-499.176749</td>\n",
       "      <td>23.955516</td>\n",
       "      <td>-499.848796</td>\n",
       "      <td>23.966838</td>\n",
       "      <td>-500.008812</td>\n",
       "      <td>23.954443</td>\n",
       "      <td>-499.944710</td>\n",
       "      <td>14.036510</td>\n",
       "      <td>-500.857308</td>\n",
       "      <td>11.999550</td>\n",
       "      <td>-501.193686</td>\n",
       "      <td>9.970366</td>\n",
       "      <td>-499.201640</td>\n",
       "      <td>7.977324</td>\n",
       "      <td>-500.255908</td>\n",
       "      <td>14.005551</td>\n",
       "      <td>-599.996129</td>\n",
       "    </tr>\n",
       "    <tr>\n",
       "      <th>4</th>\n",
       "      <td>2016-01-15 04:00:00</td>\n",
       "      <td>6.148599</td>\n",
       "      <td>10.142511</td>\n",
       "      <td>4.939416</td>\n",
       "      <td>42.774141</td>\n",
       "      <td>66.927016</td>\n",
       "      <td>10.360302</td>\n",
       "      <td>0.792826</td>\n",
       "      <td>16.525686</td>\n",
       "      <td>2.055292</td>\n",
       "      <td>117.988169</td>\n",
       "      <td>11.913613</td>\n",
       "      <td>7.25</td>\n",
       "      <td>1.009869</td>\n",
       "      <td>9.089428</td>\n",
       "      <td>9.986786</td>\n",
       "      <td>19.199864</td>\n",
       "      <td>33.044932</td>\n",
       "      <td>16.480185</td>\n",
       "      <td>3.112100</td>\n",
       "      <td>6.550154</td>\n",
       "      <td>2.277073</td>\n",
       "      <td>1601.339707</td>\n",
       "      <td>-498.975456</td>\n",
       "      <td>1601.437854</td>\n",
       "      <td>-500.323246</td>\n",
       "      <td>1599.581894</td>\n",
       "      <td>-500.888152</td>\n",
       "      <td>1602.649541</td>\n",
       "      <td>-500.593010</td>\n",
       "      <td>42125.354245</td>\n",
       "      <td>3494.800771</td>\n",
       "      <td>3506.679315</td>\n",
       "      <td>3.169615</td>\n",
       "      <td>6.060915</td>\n",
       "      <td>1.786875</td>\n",
       "      <td>540.531893</td>\n",
       "      <td>56.047189</td>\n",
       "      <td>34.347666</td>\n",
       "      <td>5.663707</td>\n",
       "      <td>10.957755</td>\n",
       "      <td>6.198826</td>\n",
       "      <td>10.960521</td>\n",
       "      <td>6.194897</td>\n",
       "      <td>12.411054</td>\n",
       "      <td>7.240205</td>\n",
       "      <td>27.041023</td>\n",
       "      <td>19.216101</td>\n",
       "      <td>86.688794</td>\n",
       "      <td>4.552800</td>\n",
       "      <td>0.515438</td>\n",
       "      <td>19.267422</td>\n",
       "      <td>1.012642</td>\n",
       "      <td>999.678690</td>\n",
       "      <td>-399.752729</td>\n",
       "      <td>1600.208824</td>\n",
       "      <td>-449.599614</td>\n",
       "      <td>1600.357732</td>\n",
       "      <td>-450.034364</td>\n",
       "      <td>1599.759049</td>\n",
       "      <td>-449.909799</td>\n",
       "      <td>1401.560902</td>\n",
       "      <td>-448.877187</td>\n",
       "      <td>1401.160227</td>\n",
       "      <td>-450.407128</td>\n",
       "      <td>14.079996</td>\n",
       "      <td>4.470737</td>\n",
       "      <td>8.871028</td>\n",
       "      <td>2.330448</td>\n",
       "      <td>26.024787</td>\n",
       "      <td>-500.279091</td>\n",
       "      <td>23.955345</td>\n",
       "      <td>-500.593614</td>\n",
       "      <td>23.985703</td>\n",
       "      <td>-500.083811</td>\n",
       "      <td>23.958945</td>\n",
       "      <td>-499.990309</td>\n",
       "      <td>14.027298</td>\n",
       "      <td>-499.838632</td>\n",
       "      <td>11.953070</td>\n",
       "      <td>-501.053894</td>\n",
       "      <td>9.925709</td>\n",
       "      <td>-501.686727</td>\n",
       "      <td>7.894242</td>\n",
       "      <td>-500.356035</td>\n",
       "      <td>13.996647</td>\n",
       "      <td>-601.496691</td>\n",
       "    </tr>\n",
       "  </tbody>\n",
       "</table>\n",
       "</div>"
      ],
      "text/plain": [
       "                  date  final.output.concentrate_ag  \\\n",
       "0  2016-01-15 00:00:00                     6.055403   \n",
       "1  2016-01-15 01:00:00                     6.029369   \n",
       "2  2016-01-15 02:00:00                     6.055926   \n",
       "3  2016-01-15 03:00:00                     6.047977   \n",
       "4  2016-01-15 04:00:00                     6.148599   \n",
       "\n",
       "   final.output.concentrate_pb  final.output.concentrate_sol  \\\n",
       "0                     9.889648                      5.507324   \n",
       "1                     9.968944                      5.257781   \n",
       "2                    10.213995                      5.383759   \n",
       "3                     9.977019                      4.858634   \n",
       "4                    10.142511                      4.939416   \n",
       "\n",
       "   final.output.concentrate_au  final.output.recovery  final.output.tail_ag  \\\n",
       "0                    42.192020              70.541216             10.411962   \n",
       "1                    42.701629              69.266198             10.462676   \n",
       "2                    42.657501              68.116445             10.507046   \n",
       "3                    42.689819              68.347543             10.422762   \n",
       "4                    42.774141              66.927016             10.360302   \n",
       "\n",
       "   final.output.tail_pb  final.output.tail_sol  final.output.tail_au  \\\n",
       "0              0.895447              16.904297              2.143149   \n",
       "1              0.927452              16.634514              2.224930   \n",
       "2              0.953716              16.208849              2.257889   \n",
       "3              0.883763              16.532835              2.146849   \n",
       "4              0.792826              16.525686              2.055292   \n",
       "\n",
       "   primary_cleaner.input.sulfate  primary_cleaner.input.depressant  \\\n",
       "0                     127.092003                         10.128295   \n",
       "1                     125.629232                         10.296251   \n",
       "2                     123.819808                         11.316280   \n",
       "3                     122.270188                         11.322140   \n",
       "4                     117.988169                         11.913613   \n",
       "\n",
       "   primary_cleaner.input.feed_size  primary_cleaner.input.xanthate  \\\n",
       "0                             7.25                        0.988759   \n",
       "1                             7.25                        1.002663   \n",
       "2                             7.25                        0.991265   \n",
       "3                             7.25                        0.996739   \n",
       "4                             7.25                        1.009869   \n",
       "\n",
       "   primary_cleaner.output.concentrate_ag  \\\n",
       "0                               8.547551   \n",
       "1                               8.558743   \n",
       "2                               8.603505   \n",
       "3                               7.221879   \n",
       "4                               9.089428   \n",
       "\n",
       "   primary_cleaner.output.concentrate_pb  \\\n",
       "0                              10.389648   \n",
       "1                              10.497069   \n",
       "2                              10.354494   \n",
       "3                               8.496563   \n",
       "4                               9.986786   \n",
       "\n",
       "   primary_cleaner.output.concentrate_sol  \\\n",
       "0                               19.529297   \n",
       "1                               19.369147   \n",
       "2                               19.167579   \n",
       "3                               15.978538   \n",
       "4                               19.199864   \n",
       "\n",
       "   primary_cleaner.output.concentrate_au  primary_cleaner.output.tail_ag  \\\n",
       "0                              34.174427                       14.936526   \n",
       "1                              34.118526                       16.250511   \n",
       "2                              33.969464                       16.491823   \n",
       "3                              28.260743                       16.024359   \n",
       "4                              33.044932                       16.480185   \n",
       "\n",
       "   primary_cleaner.output.tail_pb  primary_cleaner.output.tail_sol  \\\n",
       "0                        2.534912                         7.476074   \n",
       "1                        3.049646                         6.733907   \n",
       "2                        3.124664                         6.471768   \n",
       "3                        2.960362                         6.843791   \n",
       "4                        3.112100                         6.550154   \n",
       "\n",
       "   primary_cleaner.output.tail_au  primary_cleaner.state.floatbank8_a_air  \\\n",
       "0                        2.106679                             1549.775757   \n",
       "1                        2.353017                             1576.166671   \n",
       "2                        2.416800                             1601.556163   \n",
       "3                        2.262051                             1599.968720   \n",
       "4                        2.277073                             1601.339707   \n",
       "\n",
       "   primary_cleaner.state.floatbank8_a_level  \\\n",
       "0                               -498.912140   \n",
       "1                               -500.904965   \n",
       "2                               -499.997791   \n",
       "3                               -500.951778   \n",
       "4                               -498.975456   \n",
       "\n",
       "   primary_cleaner.state.floatbank8_b_air  \\\n",
       "0                             1551.434204   \n",
       "1                             1575.950626   \n",
       "2                             1600.386685   \n",
       "3                             1600.659236   \n",
       "4                             1601.437854   \n",
       "\n",
       "   primary_cleaner.state.floatbank8_b_level  \\\n",
       "0                               -516.403442   \n",
       "1                               -499.865889   \n",
       "2                               -500.607762   \n",
       "3                               -499.677094   \n",
       "4                               -500.323246   \n",
       "\n",
       "   primary_cleaner.state.floatbank8_c_air  \\\n",
       "0                             1549.873901   \n",
       "1                             1575.994189   \n",
       "2                             1602.003542   \n",
       "3                             1600.304144   \n",
       "4                             1599.581894   \n",
       "\n",
       "   primary_cleaner.state.floatbank8_c_level  \\\n",
       "0                               -498.666595   \n",
       "1                               -499.315107   \n",
       "2                               -500.870069   \n",
       "3                               -500.727997   \n",
       "4                               -500.888152   \n",
       "\n",
       "   primary_cleaner.state.floatbank8_d_air  \\\n",
       "0                             1554.367432   \n",
       "1                             1574.479259   \n",
       "2                             1599.541515   \n",
       "3                             1600.449520   \n",
       "4                             1602.649541   \n",
       "\n",
       "   primary_cleaner.state.floatbank8_d_level  \\\n",
       "0                               -493.428131   \n",
       "1                               -498.931665   \n",
       "2                               -499.827444   \n",
       "3                               -500.052575   \n",
       "4                               -500.593010   \n",
       "\n",
       "   rougher.calculation.sulfate_to_au_concentrate  \\\n",
       "0                                   41885.707031   \n",
       "1                                   42050.861809   \n",
       "2                                   42018.101184   \n",
       "3                                   42029.447991   \n",
       "4                                   42125.354245   \n",
       "\n",
       "   rougher.calculation.floatbank10_sulfate_to_au_feed  \\\n",
       "0                                        3481.779053    \n",
       "1                                        3498.370979    \n",
       "2                                        3495.348910    \n",
       "3                                        3498.578313    \n",
       "4                                        3494.800771    \n",
       "\n",
       "   rougher.calculation.floatbank11_sulfate_to_au_feed  \\\n",
       "0                                        3520.337158    \n",
       "1                                        3489.981857    \n",
       "2                                        3502.359819    \n",
       "3                                        3499.162912    \n",
       "4                                        3506.679315    \n",
       "\n",
       "   rougher.calculation.au_pb_ratio  rougher.input.feed_ag  \\\n",
       "0                         2.838687               6.100378   \n",
       "1                         2.858998               6.161113   \n",
       "2                         2.945989               6.116455   \n",
       "3                         3.002340               6.043309   \n",
       "4                         3.169615               6.060915   \n",
       "\n",
       "   rougher.input.feed_pb  rougher.input.feed_rate  rougher.input.feed_size  \\\n",
       "0               2.284912               523.546326                55.486599   \n",
       "1               2.266033               525.290581                57.278666   \n",
       "2               2.159622               530.026610                57.510649   \n",
       "3               2.037807               542.590390                57.792734   \n",
       "4               1.786875               540.531893                56.047189   \n",
       "\n",
       "   rougher.input.feed_sol  rougher.input.feed_au  \\\n",
       "0               36.808594               6.486150   \n",
       "1               35.753385               6.478583   \n",
       "2               35.971630               6.362222   \n",
       "3               36.862241               6.118189   \n",
       "4               34.347666               5.663707   \n",
       "\n",
       "   rougher.input.floatbank10_sulfate  rougher.input.floatbank10_xanthate  \\\n",
       "0                          11.986616                            6.007990   \n",
       "1                          11.971193                            6.005766   \n",
       "2                          11.920603                            6.197377   \n",
       "3                          11.630094                            6.203177   \n",
       "4                          10.957755                            6.198826   \n",
       "\n",
       "   rougher.input.floatbank11_sulfate  rougher.input.floatbank11_xanthate  \\\n",
       "0                          11.836743                            6.005818   \n",
       "1                          11.996163                            6.012594   \n",
       "2                          11.920305                            6.204633   \n",
       "3                          11.692450                            6.196578   \n",
       "4                          10.960521                            6.194897   \n",
       "\n",
       "   rougher.output.concentrate_ag  rougher.output.concentrate_pb  \\\n",
       "0                      11.500771                       7.101074   \n",
       "1                      11.615865                       7.278807   \n",
       "2                      11.695753                       7.216833   \n",
       "3                      11.915047                       7.175616   \n",
       "4                      12.411054                       7.240205   \n",
       "\n",
       "   rougher.output.concentrate_sol  rougher.output.concentrate_au  \\\n",
       "0                       28.029297                      19.793808   \n",
       "1                       28.067063                      20.050975   \n",
       "2                       27.454037                      19.737170   \n",
       "3                       27.341277                      19.320810   \n",
       "4                       27.041023                      19.216101   \n",
       "\n",
       "   rougher.output.recovery  rougher.output.tail_ag  rougher.output.tail_pb  \\\n",
       "0                87.107763                5.008018                0.508728   \n",
       "1                86.843261                4.955378                0.536689   \n",
       "2                86.842308                4.843460                0.546416   \n",
       "3                87.226430                4.655288                0.542525   \n",
       "4                86.688794                4.552800                0.515438   \n",
       "\n",
       "   rougher.output.tail_sol  rougher.output.tail_au  \\\n",
       "0                19.154297                1.170244   \n",
       "1                18.965234                1.184827   \n",
       "2                18.808533                1.162562   \n",
       "3                19.330200                1.079755   \n",
       "4                19.267422                1.012642   \n",
       "\n",
       "   rougher.state.floatbank10_a_air  rougher.state.floatbank10_a_level  \\\n",
       "0                       999.706909                        -404.066986   \n",
       "1                      1000.286398                        -400.065196   \n",
       "2                       999.719565                        -400.074028   \n",
       "3                       999.814770                        -400.200179   \n",
       "4                       999.678690                        -399.752729   \n",
       "\n",
       "   rougher.state.floatbank10_b_air  rougher.state.floatbank10_b_level  \\\n",
       "0                      1603.011353                        -434.715027   \n",
       "1                      1600.754587                        -449.953435   \n",
       "2                      1599.337330                        -450.008530   \n",
       "3                      1600.059442                        -450.619948   \n",
       "4                      1600.208824                        -449.599614   \n",
       "\n",
       "   rougher.state.floatbank10_c_air  rougher.state.floatbank10_c_level  \\\n",
       "0                      1602.375000                        -442.204468   \n",
       "1                      1600.479580                        -449.830646   \n",
       "2                      1599.672797                        -449.954491   \n",
       "3                      1600.012842                        -449.910497   \n",
       "4                      1600.357732                        -450.034364   \n",
       "\n",
       "   rougher.state.floatbank10_d_air  rougher.state.floatbank10_d_level  \\\n",
       "0                      1598.937256                        -451.294128   \n",
       "1                      1600.527589                        -449.953649   \n",
       "2                      1599.849325                        -449.954185   \n",
       "3                      1597.725177                        -450.130127   \n",
       "4                      1599.759049                        -449.909799   \n",
       "\n",
       "   rougher.state.floatbank10_e_air  rougher.state.floatbank10_e_level  \\\n",
       "0                      1404.472046                        -455.462982   \n",
       "1                      1399.227084                        -450.869848   \n",
       "2                      1399.180945                        -449.937588   \n",
       "3                      1400.943157                        -450.030142   \n",
       "4                      1401.560902                        -448.877187   \n",
       "\n",
       "   rougher.state.floatbank10_f_air  rougher.state.floatbank10_f_level  \\\n",
       "0                      1416.354980                        -451.939636   \n",
       "1                      1399.719514                        -450.119001   \n",
       "2                      1400.316682                        -450.527147   \n",
       "3                      1400.234743                        -449.790835   \n",
       "4                      1401.160227                        -450.407128   \n",
       "\n",
       "   secondary_cleaner.output.tail_ag  secondary_cleaner.output.tail_pb  \\\n",
       "0                         14.500184                          4.694824   \n",
       "1                         14.265474                          4.592547   \n",
       "2                         14.115662                          4.624775   \n",
       "3                         13.732071                          4.482453   \n",
       "4                         14.079996                          4.470737   \n",
       "\n",
       "   secondary_cleaner.output.tail_sol  secondary_cleaner.output.tail_au  \\\n",
       "0                           8.764648                          2.606185   \n",
       "1                           9.001494                          2.488248   \n",
       "2                           8.842896                          2.458187   \n",
       "3                           9.122857                          2.322062   \n",
       "4                           8.871028                          2.330448   \n",
       "\n",
       "   secondary_cleaner.state.floatbank2_a_air  \\\n",
       "0                                 25.853109   \n",
       "1                                 25.880539   \n",
       "2                                 26.005245   \n",
       "3                                 25.942508   \n",
       "4                                 26.024787   \n",
       "\n",
       "   secondary_cleaner.state.floatbank2_a_level  \\\n",
       "0                                 -498.526489   \n",
       "1                                 -499.989656   \n",
       "2                                 -499.929616   \n",
       "3                                 -499.176749   \n",
       "4                                 -500.279091   \n",
       "\n",
       "   secondary_cleaner.state.floatbank2_b_air  \\\n",
       "0                                 23.893660   \n",
       "1                                 23.889530   \n",
       "2                                 23.886657   \n",
       "3                                 23.955516   \n",
       "4                                 23.955345   \n",
       "\n",
       "   secondary_cleaner.state.floatbank2_b_level  \\\n",
       "0                                 -501.406281   \n",
       "1                                 -500.372428   \n",
       "2                                 -499.951928   \n",
       "3                                 -499.848796   \n",
       "4                                 -500.593614   \n",
       "\n",
       "   secondary_cleaner.state.floatbank3_a_air  \\\n",
       "0                                 23.961798   \n",
       "1                                 23.970550   \n",
       "2                                 23.913535   \n",
       "3                                 23.966838   \n",
       "4                                 23.985703   \n",
       "\n",
       "   secondary_cleaner.state.floatbank3_a_level  \\\n",
       "0                                 -495.262817   \n",
       "1                                 -500.085473   \n",
       "2                                 -499.442343   \n",
       "3                                 -500.008812   \n",
       "4                                 -500.083811   \n",
       "\n",
       "   secondary_cleaner.state.floatbank3_b_air  \\\n",
       "0                                 21.940409   \n",
       "1                                 22.085714   \n",
       "2                                 23.957717   \n",
       "3                                 23.954443   \n",
       "4                                 23.958945   \n",
       "\n",
       "   secondary_cleaner.state.floatbank3_b_level  \\\n",
       "0                                 -499.340973   \n",
       "1                                 -499.446897   \n",
       "2                                 -499.901982   \n",
       "3                                 -499.944710   \n",
       "4                                 -499.990309   \n",
       "\n",
       "   secondary_cleaner.state.floatbank4_a_air  \\\n",
       "0                                 14.016835   \n",
       "1                                 13.992281   \n",
       "2                                 14.015015   \n",
       "3                                 14.036510   \n",
       "4                                 14.027298   \n",
       "\n",
       "   secondary_cleaner.state.floatbank4_a_level  \\\n",
       "0                                 -502.488007   \n",
       "1                                 -505.503262   \n",
       "2                                 -502.520901   \n",
       "3                                 -500.857308   \n",
       "4                                 -499.838632   \n",
       "\n",
       "   secondary_cleaner.state.floatbank4_b_air  \\\n",
       "0                                 12.099931   \n",
       "1                                 11.950531   \n",
       "2                                 11.912783   \n",
       "3                                 11.999550   \n",
       "4                                 11.953070   \n",
       "\n",
       "   secondary_cleaner.state.floatbank4_b_level  \\\n",
       "0                                 -504.715942   \n",
       "1                                 -501.331529   \n",
       "2                                 -501.133383   \n",
       "3                                 -501.193686   \n",
       "4                                 -501.053894   \n",
       "\n",
       "   secondary_cleaner.state.floatbank5_a_air  \\\n",
       "0                                  9.925633   \n",
       "1                                 10.039245   \n",
       "2                                 10.070913   \n",
       "3                                  9.970366   \n",
       "4                                  9.925709   \n",
       "\n",
       "   secondary_cleaner.state.floatbank5_a_level  \\\n",
       "0                                 -498.310211   \n",
       "1                                 -500.169983   \n",
       "2                                 -500.129135   \n",
       "3                                 -499.201640   \n",
       "4                                 -501.686727   \n",
       "\n",
       "   secondary_cleaner.state.floatbank5_b_air  \\\n",
       "0                                  8.079666   \n",
       "1                                  7.984757   \n",
       "2                                  8.013877   \n",
       "3                                  7.977324   \n",
       "4                                  7.894242   \n",
       "\n",
       "   secondary_cleaner.state.floatbank5_b_level  \\\n",
       "0                                 -500.470978   \n",
       "1                                 -500.582168   \n",
       "2                                 -500.517572   \n",
       "3                                 -500.255908   \n",
       "4                                 -500.356035   \n",
       "\n",
       "   secondary_cleaner.state.floatbank6_a_air  \\\n",
       "0                                 14.151341   \n",
       "1                                 13.998353   \n",
       "2                                 14.028663   \n",
       "3                                 14.005551   \n",
       "4                                 13.996647   \n",
       "\n",
       "   secondary_cleaner.state.floatbank6_a_level  \n",
       "0                                 -605.841980  \n",
       "1                                 -599.787184  \n",
       "2                                 -601.427363  \n",
       "3                                 -599.996129  \n",
       "4                                 -601.496691  "
      ]
     },
     "metadata": {},
     "output_type": "display_data"
    },
    {
     "name": "stdout",
     "output_type": "stream",
     "text": [
      "\n",
      "<class 'pandas.core.frame.DataFrame'>\n",
      "RangeIndex: 16860 entries, 0 to 16859\n",
      "Data columns (total 87 columns):\n",
      " #   Column                                              Non-Null Count  Dtype  \n",
      "---  ------                                              --------------  -----  \n",
      " 0   date                                                16860 non-null  object \n",
      " 1   final.output.concentrate_ag                         16788 non-null  float64\n",
      " 2   final.output.concentrate_pb                         16788 non-null  float64\n",
      " 3   final.output.concentrate_sol                        16490 non-null  float64\n",
      " 4   final.output.concentrate_au                         16789 non-null  float64\n",
      " 5   final.output.recovery                               15339 non-null  float64\n",
      " 6   final.output.tail_ag                                16794 non-null  float64\n",
      " 7   final.output.tail_pb                                16677 non-null  float64\n",
      " 8   final.output.tail_sol                               16715 non-null  float64\n",
      " 9   final.output.tail_au                                16794 non-null  float64\n",
      " 10  primary_cleaner.input.sulfate                       15553 non-null  float64\n",
      " 11  primary_cleaner.input.depressant                    15598 non-null  float64\n",
      " 12  primary_cleaner.input.feed_size                     16860 non-null  float64\n",
      " 13  primary_cleaner.input.xanthate                      15875 non-null  float64\n",
      " 14  primary_cleaner.output.concentrate_ag               16778 non-null  float64\n",
      " 15  primary_cleaner.output.concentrate_pb               16502 non-null  float64\n",
      " 16  primary_cleaner.output.concentrate_sol              16224 non-null  float64\n",
      " 17  primary_cleaner.output.concentrate_au               16778 non-null  float64\n",
      " 18  primary_cleaner.output.tail_ag                      16777 non-null  float64\n",
      " 19  primary_cleaner.output.tail_pb                      16761 non-null  float64\n",
      " 20  primary_cleaner.output.tail_sol                     16579 non-null  float64\n",
      " 21  primary_cleaner.output.tail_au                      16777 non-null  float64\n",
      " 22  primary_cleaner.state.floatbank8_a_air              16820 non-null  float64\n",
      " 23  primary_cleaner.state.floatbank8_a_level            16827 non-null  float64\n",
      " 24  primary_cleaner.state.floatbank8_b_air              16820 non-null  float64\n",
      " 25  primary_cleaner.state.floatbank8_b_level            16833 non-null  float64\n",
      " 26  primary_cleaner.state.floatbank8_c_air              16822 non-null  float64\n",
      " 27  primary_cleaner.state.floatbank8_c_level            16833 non-null  float64\n",
      " 28  primary_cleaner.state.floatbank8_d_air              16821 non-null  float64\n",
      " 29  primary_cleaner.state.floatbank8_d_level            16833 non-null  float64\n",
      " 30  rougher.calculation.sulfate_to_au_concentrate       16833 non-null  float64\n",
      " 31  rougher.calculation.floatbank10_sulfate_to_au_feed  16833 non-null  float64\n",
      " 32  rougher.calculation.floatbank11_sulfate_to_au_feed  16833 non-null  float64\n",
      " 33  rougher.calculation.au_pb_ratio                     15618 non-null  float64\n",
      " 34  rougher.input.feed_ag                               16778 non-null  float64\n",
      " 35  rougher.input.feed_pb                               16632 non-null  float64\n",
      " 36  rougher.input.feed_rate                             16347 non-null  float64\n",
      " 37  rougher.input.feed_size                             16443 non-null  float64\n",
      " 38  rougher.input.feed_sol                              16568 non-null  float64\n",
      " 39  rougher.input.feed_au                               16777 non-null  float64\n",
      " 40  rougher.input.floatbank10_sulfate                   15816 non-null  float64\n",
      " 41  rougher.input.floatbank10_xanthate                  16514 non-null  float64\n",
      " 42  rougher.input.floatbank11_sulfate                   16237 non-null  float64\n",
      " 43  rougher.input.floatbank11_xanthate                  14956 non-null  float64\n",
      " 44  rougher.output.concentrate_ag                       16778 non-null  float64\n",
      " 45  rougher.output.concentrate_pb                       16778 non-null  float64\n",
      " 46  rougher.output.concentrate_sol                      16698 non-null  float64\n",
      " 47  rougher.output.concentrate_au                       16778 non-null  float64\n",
      " 48  rougher.output.recovery                             14287 non-null  float64\n",
      " 49  rougher.output.tail_ag                              14610 non-null  float64\n",
      " 50  rougher.output.tail_pb                              16778 non-null  float64\n",
      " 51  rougher.output.tail_sol                             14611 non-null  float64\n",
      " 52  rougher.output.tail_au                              14611 non-null  float64\n",
      " 53  rougher.state.floatbank10_a_air                     16807 non-null  float64\n",
      " 54  rougher.state.floatbank10_a_level                   16807 non-null  float64\n",
      " 55  rougher.state.floatbank10_b_air                     16807 non-null  float64\n",
      " 56  rougher.state.floatbank10_b_level                   16807 non-null  float64\n",
      " 57  rougher.state.floatbank10_c_air                     16807 non-null  float64\n",
      " 58  rougher.state.floatbank10_c_level                   16814 non-null  float64\n",
      " 59  rougher.state.floatbank10_d_air                     16802 non-null  float64\n",
      " 60  rougher.state.floatbank10_d_level                   16809 non-null  float64\n",
      " 61  rougher.state.floatbank10_e_air                     16257 non-null  float64\n",
      " 62  rougher.state.floatbank10_e_level                   16809 non-null  float64\n",
      " 63  rougher.state.floatbank10_f_air                     16802 non-null  float64\n",
      " 64  rougher.state.floatbank10_f_level                   16802 non-null  float64\n",
      " 65  secondary_cleaner.output.tail_ag                    16776 non-null  float64\n",
      " 66  secondary_cleaner.output.tail_pb                    16764 non-null  float64\n",
      " 67  secondary_cleaner.output.tail_sol                   14874 non-null  float64\n",
      " 68  secondary_cleaner.output.tail_au                    16778 non-null  float64\n",
      " 69  secondary_cleaner.state.floatbank2_a_air            16497 non-null  float64\n",
      " 70  secondary_cleaner.state.floatbank2_a_level          16751 non-null  float64\n",
      " 71  secondary_cleaner.state.floatbank2_b_air            16705 non-null  float64\n",
      " 72  secondary_cleaner.state.floatbank2_b_level          16748 non-null  float64\n",
      " 73  secondary_cleaner.state.floatbank3_a_air            16763 non-null  float64\n",
      " 74  secondary_cleaner.state.floatbank3_a_level          16747 non-null  float64\n",
      " 75  secondary_cleaner.state.floatbank3_b_air            16752 non-null  float64\n",
      " 76  secondary_cleaner.state.floatbank3_b_level          16750 non-null  float64\n",
      " 77  secondary_cleaner.state.floatbank4_a_air            16731 non-null  float64\n",
      " 78  secondary_cleaner.state.floatbank4_a_level          16747 non-null  float64\n",
      " 79  secondary_cleaner.state.floatbank4_b_air            16768 non-null  float64\n",
      " 80  secondary_cleaner.state.floatbank4_b_level          16767 non-null  float64\n",
      " 81  secondary_cleaner.state.floatbank5_a_air            16775 non-null  float64\n",
      " 82  secondary_cleaner.state.floatbank5_a_level          16775 non-null  float64\n",
      " 83  secondary_cleaner.state.floatbank5_b_air            16775 non-null  float64\n",
      " 84  secondary_cleaner.state.floatbank5_b_level          16776 non-null  float64\n",
      " 85  secondary_cleaner.state.floatbank6_a_air            16757 non-null  float64\n",
      " 86  secondary_cleaner.state.floatbank6_a_level          16775 non-null  float64\n",
      "dtypes: float64(86), object(1)\n",
      "memory usage: 11.2+ MB\n",
      "\n",
      "\n"
     ]
    },
    {
     "data": {
      "text/html": [
       "<div>\n",
       "<style scoped>\n",
       "    .dataframe tbody tr th:only-of-type {\n",
       "        vertical-align: middle;\n",
       "    }\n",
       "\n",
       "    .dataframe tbody tr th {\n",
       "        vertical-align: top;\n",
       "    }\n",
       "\n",
       "    .dataframe thead th {\n",
       "        text-align: right;\n",
       "    }\n",
       "</style>\n",
       "<table border=\"1\" class=\"dataframe\">\n",
       "  <thead>\n",
       "    <tr style=\"text-align: right;\">\n",
       "      <th></th>\n",
       "      <th>date</th>\n",
       "      <th>final.output.concentrate_ag</th>\n",
       "      <th>final.output.concentrate_pb</th>\n",
       "      <th>final.output.concentrate_sol</th>\n",
       "      <th>final.output.concentrate_au</th>\n",
       "      <th>final.output.recovery</th>\n",
       "      <th>final.output.tail_ag</th>\n",
       "      <th>final.output.tail_pb</th>\n",
       "      <th>final.output.tail_sol</th>\n",
       "      <th>final.output.tail_au</th>\n",
       "      <th>primary_cleaner.input.sulfate</th>\n",
       "      <th>primary_cleaner.input.depressant</th>\n",
       "      <th>primary_cleaner.input.feed_size</th>\n",
       "      <th>primary_cleaner.input.xanthate</th>\n",
       "      <th>primary_cleaner.output.concentrate_ag</th>\n",
       "      <th>primary_cleaner.output.concentrate_pb</th>\n",
       "      <th>primary_cleaner.output.concentrate_sol</th>\n",
       "      <th>primary_cleaner.output.concentrate_au</th>\n",
       "      <th>primary_cleaner.output.tail_ag</th>\n",
       "      <th>primary_cleaner.output.tail_pb</th>\n",
       "      <th>primary_cleaner.output.tail_sol</th>\n",
       "      <th>primary_cleaner.output.tail_au</th>\n",
       "      <th>primary_cleaner.state.floatbank8_a_air</th>\n",
       "      <th>primary_cleaner.state.floatbank8_a_level</th>\n",
       "      <th>primary_cleaner.state.floatbank8_b_air</th>\n",
       "      <th>primary_cleaner.state.floatbank8_b_level</th>\n",
       "      <th>primary_cleaner.state.floatbank8_c_air</th>\n",
       "      <th>primary_cleaner.state.floatbank8_c_level</th>\n",
       "      <th>primary_cleaner.state.floatbank8_d_air</th>\n",
       "      <th>primary_cleaner.state.floatbank8_d_level</th>\n",
       "      <th>rougher.calculation.sulfate_to_au_concentrate</th>\n",
       "      <th>rougher.calculation.floatbank10_sulfate_to_au_feed</th>\n",
       "      <th>rougher.calculation.floatbank11_sulfate_to_au_feed</th>\n",
       "      <th>rougher.calculation.au_pb_ratio</th>\n",
       "      <th>rougher.input.feed_ag</th>\n",
       "      <th>rougher.input.feed_pb</th>\n",
       "      <th>rougher.input.feed_rate</th>\n",
       "      <th>rougher.input.feed_size</th>\n",
       "      <th>rougher.input.feed_sol</th>\n",
       "      <th>rougher.input.feed_au</th>\n",
       "      <th>rougher.input.floatbank10_sulfate</th>\n",
       "      <th>rougher.input.floatbank10_xanthate</th>\n",
       "      <th>rougher.input.floatbank11_sulfate</th>\n",
       "      <th>rougher.input.floatbank11_xanthate</th>\n",
       "      <th>rougher.output.concentrate_ag</th>\n",
       "      <th>rougher.output.concentrate_pb</th>\n",
       "      <th>rougher.output.concentrate_sol</th>\n",
       "      <th>rougher.output.concentrate_au</th>\n",
       "      <th>rougher.output.recovery</th>\n",
       "      <th>rougher.output.tail_ag</th>\n",
       "      <th>rougher.output.tail_pb</th>\n",
       "      <th>rougher.output.tail_sol</th>\n",
       "      <th>rougher.output.tail_au</th>\n",
       "      <th>rougher.state.floatbank10_a_air</th>\n",
       "      <th>rougher.state.floatbank10_a_level</th>\n",
       "      <th>rougher.state.floatbank10_b_air</th>\n",
       "      <th>rougher.state.floatbank10_b_level</th>\n",
       "      <th>rougher.state.floatbank10_c_air</th>\n",
       "      <th>rougher.state.floatbank10_c_level</th>\n",
       "      <th>rougher.state.floatbank10_d_air</th>\n",
       "      <th>rougher.state.floatbank10_d_level</th>\n",
       "      <th>rougher.state.floatbank10_e_air</th>\n",
       "      <th>rougher.state.floatbank10_e_level</th>\n",
       "      <th>rougher.state.floatbank10_f_air</th>\n",
       "      <th>rougher.state.floatbank10_f_level</th>\n",
       "      <th>secondary_cleaner.output.tail_ag</th>\n",
       "      <th>secondary_cleaner.output.tail_pb</th>\n",
       "      <th>secondary_cleaner.output.tail_sol</th>\n",
       "      <th>secondary_cleaner.output.tail_au</th>\n",
       "      <th>secondary_cleaner.state.floatbank2_a_air</th>\n",
       "      <th>secondary_cleaner.state.floatbank2_a_level</th>\n",
       "      <th>secondary_cleaner.state.floatbank2_b_air</th>\n",
       "      <th>secondary_cleaner.state.floatbank2_b_level</th>\n",
       "      <th>secondary_cleaner.state.floatbank3_a_air</th>\n",
       "      <th>secondary_cleaner.state.floatbank3_a_level</th>\n",
       "      <th>secondary_cleaner.state.floatbank3_b_air</th>\n",
       "      <th>secondary_cleaner.state.floatbank3_b_level</th>\n",
       "      <th>secondary_cleaner.state.floatbank4_a_air</th>\n",
       "      <th>secondary_cleaner.state.floatbank4_a_level</th>\n",
       "      <th>secondary_cleaner.state.floatbank4_b_air</th>\n",
       "      <th>secondary_cleaner.state.floatbank4_b_level</th>\n",
       "      <th>secondary_cleaner.state.floatbank5_a_air</th>\n",
       "      <th>secondary_cleaner.state.floatbank5_a_level</th>\n",
       "      <th>secondary_cleaner.state.floatbank5_b_air</th>\n",
       "      <th>secondary_cleaner.state.floatbank5_b_level</th>\n",
       "      <th>secondary_cleaner.state.floatbank6_a_air</th>\n",
       "      <th>secondary_cleaner.state.floatbank6_a_level</th>\n",
       "    </tr>\n",
       "  </thead>\n",
       "  <tbody>\n",
       "    <tr>\n",
       "      <th>0</th>\n",
       "      <td>2016-01-15 00:00:00</td>\n",
       "      <td>6.055403</td>\n",
       "      <td>9.889648</td>\n",
       "      <td>5.507324</td>\n",
       "      <td>42.192020</td>\n",
       "      <td>70.541216</td>\n",
       "      <td>10.411962</td>\n",
       "      <td>0.895447</td>\n",
       "      <td>16.904297</td>\n",
       "      <td>2.143149</td>\n",
       "      <td>127.092003</td>\n",
       "      <td>10.128295</td>\n",
       "      <td>7.25</td>\n",
       "      <td>0.988759</td>\n",
       "      <td>8.547551</td>\n",
       "      <td>10.389648</td>\n",
       "      <td>19.529297</td>\n",
       "      <td>34.174427</td>\n",
       "      <td>14.936526</td>\n",
       "      <td>2.534912</td>\n",
       "      <td>7.476074</td>\n",
       "      <td>2.106679</td>\n",
       "      <td>1549.775757</td>\n",
       "      <td>-498.912140</td>\n",
       "      <td>1551.434204</td>\n",
       "      <td>-516.403442</td>\n",
       "      <td>1549.873901</td>\n",
       "      <td>-498.666595</td>\n",
       "      <td>1554.367432</td>\n",
       "      <td>-493.428131</td>\n",
       "      <td>41885.707031</td>\n",
       "      <td>3481.779053</td>\n",
       "      <td>3520.337158</td>\n",
       "      <td>2.838687</td>\n",
       "      <td>6.100378</td>\n",
       "      <td>2.284912</td>\n",
       "      <td>523.546326</td>\n",
       "      <td>55.486599</td>\n",
       "      <td>36.808594</td>\n",
       "      <td>6.486150</td>\n",
       "      <td>11.986616</td>\n",
       "      <td>6.007990</td>\n",
       "      <td>11.836743</td>\n",
       "      <td>6.005818</td>\n",
       "      <td>11.500771</td>\n",
       "      <td>7.101074</td>\n",
       "      <td>28.029297</td>\n",
       "      <td>19.793808</td>\n",
       "      <td>87.107763</td>\n",
       "      <td>5.008018</td>\n",
       "      <td>0.508728</td>\n",
       "      <td>19.154297</td>\n",
       "      <td>1.170244</td>\n",
       "      <td>999.706909</td>\n",
       "      <td>-404.066986</td>\n",
       "      <td>1603.011353</td>\n",
       "      <td>-434.715027</td>\n",
       "      <td>1602.375000</td>\n",
       "      <td>-442.204468</td>\n",
       "      <td>1598.937256</td>\n",
       "      <td>-451.294128</td>\n",
       "      <td>1404.472046</td>\n",
       "      <td>-455.462982</td>\n",
       "      <td>1416.354980</td>\n",
       "      <td>-451.939636</td>\n",
       "      <td>14.500184</td>\n",
       "      <td>4.694824</td>\n",
       "      <td>8.764648</td>\n",
       "      <td>2.606185</td>\n",
       "      <td>25.853109</td>\n",
       "      <td>-498.526489</td>\n",
       "      <td>23.893660</td>\n",
       "      <td>-501.406281</td>\n",
       "      <td>23.961798</td>\n",
       "      <td>-495.262817</td>\n",
       "      <td>21.940409</td>\n",
       "      <td>-499.340973</td>\n",
       "      <td>14.016835</td>\n",
       "      <td>-502.488007</td>\n",
       "      <td>12.099931</td>\n",
       "      <td>-504.715942</td>\n",
       "      <td>9.925633</td>\n",
       "      <td>-498.310211</td>\n",
       "      <td>8.079666</td>\n",
       "      <td>-500.470978</td>\n",
       "      <td>14.151341</td>\n",
       "      <td>-605.841980</td>\n",
       "    </tr>\n",
       "    <tr>\n",
       "      <th>1</th>\n",
       "      <td>2016-01-15 01:00:00</td>\n",
       "      <td>6.029369</td>\n",
       "      <td>9.968944</td>\n",
       "      <td>5.257781</td>\n",
       "      <td>42.701629</td>\n",
       "      <td>69.266198</td>\n",
       "      <td>10.462676</td>\n",
       "      <td>0.927452</td>\n",
       "      <td>16.634514</td>\n",
       "      <td>2.224930</td>\n",
       "      <td>125.629232</td>\n",
       "      <td>10.296251</td>\n",
       "      <td>7.25</td>\n",
       "      <td>1.002663</td>\n",
       "      <td>8.558743</td>\n",
       "      <td>10.497069</td>\n",
       "      <td>19.369147</td>\n",
       "      <td>34.118526</td>\n",
       "      <td>16.250511</td>\n",
       "      <td>3.049646</td>\n",
       "      <td>6.733907</td>\n",
       "      <td>2.353017</td>\n",
       "      <td>1576.166671</td>\n",
       "      <td>-500.904965</td>\n",
       "      <td>1575.950626</td>\n",
       "      <td>-499.865889</td>\n",
       "      <td>1575.994189</td>\n",
       "      <td>-499.315107</td>\n",
       "      <td>1574.479259</td>\n",
       "      <td>-498.931665</td>\n",
       "      <td>42050.861809</td>\n",
       "      <td>3498.370979</td>\n",
       "      <td>3489.981857</td>\n",
       "      <td>2.858998</td>\n",
       "      <td>6.161113</td>\n",
       "      <td>2.266033</td>\n",
       "      <td>525.290581</td>\n",
       "      <td>57.278666</td>\n",
       "      <td>35.753385</td>\n",
       "      <td>6.478583</td>\n",
       "      <td>11.971193</td>\n",
       "      <td>6.005766</td>\n",
       "      <td>11.996163</td>\n",
       "      <td>6.012594</td>\n",
       "      <td>11.615865</td>\n",
       "      <td>7.278807</td>\n",
       "      <td>28.067063</td>\n",
       "      <td>20.050975</td>\n",
       "      <td>86.843261</td>\n",
       "      <td>4.955378</td>\n",
       "      <td>0.536689</td>\n",
       "      <td>18.965234</td>\n",
       "      <td>1.184827</td>\n",
       "      <td>1000.286398</td>\n",
       "      <td>-400.065196</td>\n",
       "      <td>1600.754587</td>\n",
       "      <td>-449.953435</td>\n",
       "      <td>1600.479580</td>\n",
       "      <td>-449.830646</td>\n",
       "      <td>1600.527589</td>\n",
       "      <td>-449.953649</td>\n",
       "      <td>1399.227084</td>\n",
       "      <td>-450.869848</td>\n",
       "      <td>1399.719514</td>\n",
       "      <td>-450.119001</td>\n",
       "      <td>14.265474</td>\n",
       "      <td>4.592547</td>\n",
       "      <td>9.001494</td>\n",
       "      <td>2.488248</td>\n",
       "      <td>25.880539</td>\n",
       "      <td>-499.989656</td>\n",
       "      <td>23.889530</td>\n",
       "      <td>-500.372428</td>\n",
       "      <td>23.970550</td>\n",
       "      <td>-500.085473</td>\n",
       "      <td>22.085714</td>\n",
       "      <td>-499.446897</td>\n",
       "      <td>13.992281</td>\n",
       "      <td>-505.503262</td>\n",
       "      <td>11.950531</td>\n",
       "      <td>-501.331529</td>\n",
       "      <td>10.039245</td>\n",
       "      <td>-500.169983</td>\n",
       "      <td>7.984757</td>\n",
       "      <td>-500.582168</td>\n",
       "      <td>13.998353</td>\n",
       "      <td>-599.787184</td>\n",
       "    </tr>\n",
       "    <tr>\n",
       "      <th>2</th>\n",
       "      <td>2016-01-15 02:00:00</td>\n",
       "      <td>6.055926</td>\n",
       "      <td>10.213995</td>\n",
       "      <td>5.383759</td>\n",
       "      <td>42.657501</td>\n",
       "      <td>68.116445</td>\n",
       "      <td>10.507046</td>\n",
       "      <td>0.953716</td>\n",
       "      <td>16.208849</td>\n",
       "      <td>2.257889</td>\n",
       "      <td>123.819808</td>\n",
       "      <td>11.316280</td>\n",
       "      <td>7.25</td>\n",
       "      <td>0.991265</td>\n",
       "      <td>8.603505</td>\n",
       "      <td>10.354494</td>\n",
       "      <td>19.167579</td>\n",
       "      <td>33.969464</td>\n",
       "      <td>16.491823</td>\n",
       "      <td>3.124664</td>\n",
       "      <td>6.471768</td>\n",
       "      <td>2.416800</td>\n",
       "      <td>1601.556163</td>\n",
       "      <td>-499.997791</td>\n",
       "      <td>1600.386685</td>\n",
       "      <td>-500.607762</td>\n",
       "      <td>1602.003542</td>\n",
       "      <td>-500.870069</td>\n",
       "      <td>1599.541515</td>\n",
       "      <td>-499.827444</td>\n",
       "      <td>42018.101184</td>\n",
       "      <td>3495.348910</td>\n",
       "      <td>3502.359819</td>\n",
       "      <td>2.945989</td>\n",
       "      <td>6.116455</td>\n",
       "      <td>2.159622</td>\n",
       "      <td>530.026610</td>\n",
       "      <td>57.510649</td>\n",
       "      <td>35.971630</td>\n",
       "      <td>6.362222</td>\n",
       "      <td>11.920603</td>\n",
       "      <td>6.197377</td>\n",
       "      <td>11.920305</td>\n",
       "      <td>6.204633</td>\n",
       "      <td>11.695753</td>\n",
       "      <td>7.216833</td>\n",
       "      <td>27.454037</td>\n",
       "      <td>19.737170</td>\n",
       "      <td>86.842308</td>\n",
       "      <td>4.843460</td>\n",
       "      <td>0.546416</td>\n",
       "      <td>18.808533</td>\n",
       "      <td>1.162562</td>\n",
       "      <td>999.719565</td>\n",
       "      <td>-400.074028</td>\n",
       "      <td>1599.337330</td>\n",
       "      <td>-450.008530</td>\n",
       "      <td>1599.672797</td>\n",
       "      <td>-449.954491</td>\n",
       "      <td>1599.849325</td>\n",
       "      <td>-449.954185</td>\n",
       "      <td>1399.180945</td>\n",
       "      <td>-449.937588</td>\n",
       "      <td>1400.316682</td>\n",
       "      <td>-450.527147</td>\n",
       "      <td>14.115662</td>\n",
       "      <td>4.624775</td>\n",
       "      <td>8.842896</td>\n",
       "      <td>2.458187</td>\n",
       "      <td>26.005245</td>\n",
       "      <td>-499.929616</td>\n",
       "      <td>23.886657</td>\n",
       "      <td>-499.951928</td>\n",
       "      <td>23.913535</td>\n",
       "      <td>-499.442343</td>\n",
       "      <td>23.957717</td>\n",
       "      <td>-499.901982</td>\n",
       "      <td>14.015015</td>\n",
       "      <td>-502.520901</td>\n",
       "      <td>11.912783</td>\n",
       "      <td>-501.133383</td>\n",
       "      <td>10.070913</td>\n",
       "      <td>-500.129135</td>\n",
       "      <td>8.013877</td>\n",
       "      <td>-500.517572</td>\n",
       "      <td>14.028663</td>\n",
       "      <td>-601.427363</td>\n",
       "    </tr>\n",
       "    <tr>\n",
       "      <th>3</th>\n",
       "      <td>2016-01-15 03:00:00</td>\n",
       "      <td>6.047977</td>\n",
       "      <td>9.977019</td>\n",
       "      <td>4.858634</td>\n",
       "      <td>42.689819</td>\n",
       "      <td>68.347543</td>\n",
       "      <td>10.422762</td>\n",
       "      <td>0.883763</td>\n",
       "      <td>16.532835</td>\n",
       "      <td>2.146849</td>\n",
       "      <td>122.270188</td>\n",
       "      <td>11.322140</td>\n",
       "      <td>7.25</td>\n",
       "      <td>0.996739</td>\n",
       "      <td>7.221879</td>\n",
       "      <td>8.496563</td>\n",
       "      <td>15.978538</td>\n",
       "      <td>28.260743</td>\n",
       "      <td>16.024359</td>\n",
       "      <td>2.960362</td>\n",
       "      <td>6.843791</td>\n",
       "      <td>2.262051</td>\n",
       "      <td>1599.968720</td>\n",
       "      <td>-500.951778</td>\n",
       "      <td>1600.659236</td>\n",
       "      <td>-499.677094</td>\n",
       "      <td>1600.304144</td>\n",
       "      <td>-500.727997</td>\n",
       "      <td>1600.449520</td>\n",
       "      <td>-500.052575</td>\n",
       "      <td>42029.447991</td>\n",
       "      <td>3498.578313</td>\n",
       "      <td>3499.162912</td>\n",
       "      <td>3.002340</td>\n",
       "      <td>6.043309</td>\n",
       "      <td>2.037807</td>\n",
       "      <td>542.590390</td>\n",
       "      <td>57.792734</td>\n",
       "      <td>36.862241</td>\n",
       "      <td>6.118189</td>\n",
       "      <td>11.630094</td>\n",
       "      <td>6.203177</td>\n",
       "      <td>11.692450</td>\n",
       "      <td>6.196578</td>\n",
       "      <td>11.915047</td>\n",
       "      <td>7.175616</td>\n",
       "      <td>27.341277</td>\n",
       "      <td>19.320810</td>\n",
       "      <td>87.226430</td>\n",
       "      <td>4.655288</td>\n",
       "      <td>0.542525</td>\n",
       "      <td>19.330200</td>\n",
       "      <td>1.079755</td>\n",
       "      <td>999.814770</td>\n",
       "      <td>-400.200179</td>\n",
       "      <td>1600.059442</td>\n",
       "      <td>-450.619948</td>\n",
       "      <td>1600.012842</td>\n",
       "      <td>-449.910497</td>\n",
       "      <td>1597.725177</td>\n",
       "      <td>-450.130127</td>\n",
       "      <td>1400.943157</td>\n",
       "      <td>-450.030142</td>\n",
       "      <td>1400.234743</td>\n",
       "      <td>-449.790835</td>\n",
       "      <td>13.732071</td>\n",
       "      <td>4.482453</td>\n",
       "      <td>9.122857</td>\n",
       "      <td>2.322062</td>\n",
       "      <td>25.942508</td>\n",
       "      <td>-499.176749</td>\n",
       "      <td>23.955516</td>\n",
       "      <td>-499.848796</td>\n",
       "      <td>23.966838</td>\n",
       "      <td>-500.008812</td>\n",
       "      <td>23.954443</td>\n",
       "      <td>-499.944710</td>\n",
       "      <td>14.036510</td>\n",
       "      <td>-500.857308</td>\n",
       "      <td>11.999550</td>\n",
       "      <td>-501.193686</td>\n",
       "      <td>9.970366</td>\n",
       "      <td>-499.201640</td>\n",
       "      <td>7.977324</td>\n",
       "      <td>-500.255908</td>\n",
       "      <td>14.005551</td>\n",
       "      <td>-599.996129</td>\n",
       "    </tr>\n",
       "    <tr>\n",
       "      <th>4</th>\n",
       "      <td>2016-01-15 04:00:00</td>\n",
       "      <td>6.148599</td>\n",
       "      <td>10.142511</td>\n",
       "      <td>4.939416</td>\n",
       "      <td>42.774141</td>\n",
       "      <td>66.927016</td>\n",
       "      <td>10.360302</td>\n",
       "      <td>0.792826</td>\n",
       "      <td>16.525686</td>\n",
       "      <td>2.055292</td>\n",
       "      <td>117.988169</td>\n",
       "      <td>11.913613</td>\n",
       "      <td>7.25</td>\n",
       "      <td>1.009869</td>\n",
       "      <td>9.089428</td>\n",
       "      <td>9.986786</td>\n",
       "      <td>19.199864</td>\n",
       "      <td>33.044932</td>\n",
       "      <td>16.480185</td>\n",
       "      <td>3.112100</td>\n",
       "      <td>6.550154</td>\n",
       "      <td>2.277073</td>\n",
       "      <td>1601.339707</td>\n",
       "      <td>-498.975456</td>\n",
       "      <td>1601.437854</td>\n",
       "      <td>-500.323246</td>\n",
       "      <td>1599.581894</td>\n",
       "      <td>-500.888152</td>\n",
       "      <td>1602.649541</td>\n",
       "      <td>-500.593010</td>\n",
       "      <td>42125.354245</td>\n",
       "      <td>3494.800771</td>\n",
       "      <td>3506.679315</td>\n",
       "      <td>3.169615</td>\n",
       "      <td>6.060915</td>\n",
       "      <td>1.786875</td>\n",
       "      <td>540.531893</td>\n",
       "      <td>56.047189</td>\n",
       "      <td>34.347666</td>\n",
       "      <td>5.663707</td>\n",
       "      <td>10.957755</td>\n",
       "      <td>6.198826</td>\n",
       "      <td>10.960521</td>\n",
       "      <td>6.194897</td>\n",
       "      <td>12.411054</td>\n",
       "      <td>7.240205</td>\n",
       "      <td>27.041023</td>\n",
       "      <td>19.216101</td>\n",
       "      <td>86.688794</td>\n",
       "      <td>4.552800</td>\n",
       "      <td>0.515438</td>\n",
       "      <td>19.267422</td>\n",
       "      <td>1.012642</td>\n",
       "      <td>999.678690</td>\n",
       "      <td>-399.752729</td>\n",
       "      <td>1600.208824</td>\n",
       "      <td>-449.599614</td>\n",
       "      <td>1600.357732</td>\n",
       "      <td>-450.034364</td>\n",
       "      <td>1599.759049</td>\n",
       "      <td>-449.909799</td>\n",
       "      <td>1401.560902</td>\n",
       "      <td>-448.877187</td>\n",
       "      <td>1401.160227</td>\n",
       "      <td>-450.407128</td>\n",
       "      <td>14.079996</td>\n",
       "      <td>4.470737</td>\n",
       "      <td>8.871028</td>\n",
       "      <td>2.330448</td>\n",
       "      <td>26.024787</td>\n",
       "      <td>-500.279091</td>\n",
       "      <td>23.955345</td>\n",
       "      <td>-500.593614</td>\n",
       "      <td>23.985703</td>\n",
       "      <td>-500.083811</td>\n",
       "      <td>23.958945</td>\n",
       "      <td>-499.990309</td>\n",
       "      <td>14.027298</td>\n",
       "      <td>-499.838632</td>\n",
       "      <td>11.953070</td>\n",
       "      <td>-501.053894</td>\n",
       "      <td>9.925709</td>\n",
       "      <td>-501.686727</td>\n",
       "      <td>7.894242</td>\n",
       "      <td>-500.356035</td>\n",
       "      <td>13.996647</td>\n",
       "      <td>-601.496691</td>\n",
       "    </tr>\n",
       "  </tbody>\n",
       "</table>\n",
       "</div>"
      ],
      "text/plain": [
       "                  date  final.output.concentrate_ag  \\\n",
       "0  2016-01-15 00:00:00                     6.055403   \n",
       "1  2016-01-15 01:00:00                     6.029369   \n",
       "2  2016-01-15 02:00:00                     6.055926   \n",
       "3  2016-01-15 03:00:00                     6.047977   \n",
       "4  2016-01-15 04:00:00                     6.148599   \n",
       "\n",
       "   final.output.concentrate_pb  final.output.concentrate_sol  \\\n",
       "0                     9.889648                      5.507324   \n",
       "1                     9.968944                      5.257781   \n",
       "2                    10.213995                      5.383759   \n",
       "3                     9.977019                      4.858634   \n",
       "4                    10.142511                      4.939416   \n",
       "\n",
       "   final.output.concentrate_au  final.output.recovery  final.output.tail_ag  \\\n",
       "0                    42.192020              70.541216             10.411962   \n",
       "1                    42.701629              69.266198             10.462676   \n",
       "2                    42.657501              68.116445             10.507046   \n",
       "3                    42.689819              68.347543             10.422762   \n",
       "4                    42.774141              66.927016             10.360302   \n",
       "\n",
       "   final.output.tail_pb  final.output.tail_sol  final.output.tail_au  \\\n",
       "0              0.895447              16.904297              2.143149   \n",
       "1              0.927452              16.634514              2.224930   \n",
       "2              0.953716              16.208849              2.257889   \n",
       "3              0.883763              16.532835              2.146849   \n",
       "4              0.792826              16.525686              2.055292   \n",
       "\n",
       "   primary_cleaner.input.sulfate  primary_cleaner.input.depressant  \\\n",
       "0                     127.092003                         10.128295   \n",
       "1                     125.629232                         10.296251   \n",
       "2                     123.819808                         11.316280   \n",
       "3                     122.270188                         11.322140   \n",
       "4                     117.988169                         11.913613   \n",
       "\n",
       "   primary_cleaner.input.feed_size  primary_cleaner.input.xanthate  \\\n",
       "0                             7.25                        0.988759   \n",
       "1                             7.25                        1.002663   \n",
       "2                             7.25                        0.991265   \n",
       "3                             7.25                        0.996739   \n",
       "4                             7.25                        1.009869   \n",
       "\n",
       "   primary_cleaner.output.concentrate_ag  \\\n",
       "0                               8.547551   \n",
       "1                               8.558743   \n",
       "2                               8.603505   \n",
       "3                               7.221879   \n",
       "4                               9.089428   \n",
       "\n",
       "   primary_cleaner.output.concentrate_pb  \\\n",
       "0                              10.389648   \n",
       "1                              10.497069   \n",
       "2                              10.354494   \n",
       "3                               8.496563   \n",
       "4                               9.986786   \n",
       "\n",
       "   primary_cleaner.output.concentrate_sol  \\\n",
       "0                               19.529297   \n",
       "1                               19.369147   \n",
       "2                               19.167579   \n",
       "3                               15.978538   \n",
       "4                               19.199864   \n",
       "\n",
       "   primary_cleaner.output.concentrate_au  primary_cleaner.output.tail_ag  \\\n",
       "0                              34.174427                       14.936526   \n",
       "1                              34.118526                       16.250511   \n",
       "2                              33.969464                       16.491823   \n",
       "3                              28.260743                       16.024359   \n",
       "4                              33.044932                       16.480185   \n",
       "\n",
       "   primary_cleaner.output.tail_pb  primary_cleaner.output.tail_sol  \\\n",
       "0                        2.534912                         7.476074   \n",
       "1                        3.049646                         6.733907   \n",
       "2                        3.124664                         6.471768   \n",
       "3                        2.960362                         6.843791   \n",
       "4                        3.112100                         6.550154   \n",
       "\n",
       "   primary_cleaner.output.tail_au  primary_cleaner.state.floatbank8_a_air  \\\n",
       "0                        2.106679                             1549.775757   \n",
       "1                        2.353017                             1576.166671   \n",
       "2                        2.416800                             1601.556163   \n",
       "3                        2.262051                             1599.968720   \n",
       "4                        2.277073                             1601.339707   \n",
       "\n",
       "   primary_cleaner.state.floatbank8_a_level  \\\n",
       "0                               -498.912140   \n",
       "1                               -500.904965   \n",
       "2                               -499.997791   \n",
       "3                               -500.951778   \n",
       "4                               -498.975456   \n",
       "\n",
       "   primary_cleaner.state.floatbank8_b_air  \\\n",
       "0                             1551.434204   \n",
       "1                             1575.950626   \n",
       "2                             1600.386685   \n",
       "3                             1600.659236   \n",
       "4                             1601.437854   \n",
       "\n",
       "   primary_cleaner.state.floatbank8_b_level  \\\n",
       "0                               -516.403442   \n",
       "1                               -499.865889   \n",
       "2                               -500.607762   \n",
       "3                               -499.677094   \n",
       "4                               -500.323246   \n",
       "\n",
       "   primary_cleaner.state.floatbank8_c_air  \\\n",
       "0                             1549.873901   \n",
       "1                             1575.994189   \n",
       "2                             1602.003542   \n",
       "3                             1600.304144   \n",
       "4                             1599.581894   \n",
       "\n",
       "   primary_cleaner.state.floatbank8_c_level  \\\n",
       "0                               -498.666595   \n",
       "1                               -499.315107   \n",
       "2                               -500.870069   \n",
       "3                               -500.727997   \n",
       "4                               -500.888152   \n",
       "\n",
       "   primary_cleaner.state.floatbank8_d_air  \\\n",
       "0                             1554.367432   \n",
       "1                             1574.479259   \n",
       "2                             1599.541515   \n",
       "3                             1600.449520   \n",
       "4                             1602.649541   \n",
       "\n",
       "   primary_cleaner.state.floatbank8_d_level  \\\n",
       "0                               -493.428131   \n",
       "1                               -498.931665   \n",
       "2                               -499.827444   \n",
       "3                               -500.052575   \n",
       "4                               -500.593010   \n",
       "\n",
       "   rougher.calculation.sulfate_to_au_concentrate  \\\n",
       "0                                   41885.707031   \n",
       "1                                   42050.861809   \n",
       "2                                   42018.101184   \n",
       "3                                   42029.447991   \n",
       "4                                   42125.354245   \n",
       "\n",
       "   rougher.calculation.floatbank10_sulfate_to_au_feed  \\\n",
       "0                                        3481.779053    \n",
       "1                                        3498.370979    \n",
       "2                                        3495.348910    \n",
       "3                                        3498.578313    \n",
       "4                                        3494.800771    \n",
       "\n",
       "   rougher.calculation.floatbank11_sulfate_to_au_feed  \\\n",
       "0                                        3520.337158    \n",
       "1                                        3489.981857    \n",
       "2                                        3502.359819    \n",
       "3                                        3499.162912    \n",
       "4                                        3506.679315    \n",
       "\n",
       "   rougher.calculation.au_pb_ratio  rougher.input.feed_ag  \\\n",
       "0                         2.838687               6.100378   \n",
       "1                         2.858998               6.161113   \n",
       "2                         2.945989               6.116455   \n",
       "3                         3.002340               6.043309   \n",
       "4                         3.169615               6.060915   \n",
       "\n",
       "   rougher.input.feed_pb  rougher.input.feed_rate  rougher.input.feed_size  \\\n",
       "0               2.284912               523.546326                55.486599   \n",
       "1               2.266033               525.290581                57.278666   \n",
       "2               2.159622               530.026610                57.510649   \n",
       "3               2.037807               542.590390                57.792734   \n",
       "4               1.786875               540.531893                56.047189   \n",
       "\n",
       "   rougher.input.feed_sol  rougher.input.feed_au  \\\n",
       "0               36.808594               6.486150   \n",
       "1               35.753385               6.478583   \n",
       "2               35.971630               6.362222   \n",
       "3               36.862241               6.118189   \n",
       "4               34.347666               5.663707   \n",
       "\n",
       "   rougher.input.floatbank10_sulfate  rougher.input.floatbank10_xanthate  \\\n",
       "0                          11.986616                            6.007990   \n",
       "1                          11.971193                            6.005766   \n",
       "2                          11.920603                            6.197377   \n",
       "3                          11.630094                            6.203177   \n",
       "4                          10.957755                            6.198826   \n",
       "\n",
       "   rougher.input.floatbank11_sulfate  rougher.input.floatbank11_xanthate  \\\n",
       "0                          11.836743                            6.005818   \n",
       "1                          11.996163                            6.012594   \n",
       "2                          11.920305                            6.204633   \n",
       "3                          11.692450                            6.196578   \n",
       "4                          10.960521                            6.194897   \n",
       "\n",
       "   rougher.output.concentrate_ag  rougher.output.concentrate_pb  \\\n",
       "0                      11.500771                       7.101074   \n",
       "1                      11.615865                       7.278807   \n",
       "2                      11.695753                       7.216833   \n",
       "3                      11.915047                       7.175616   \n",
       "4                      12.411054                       7.240205   \n",
       "\n",
       "   rougher.output.concentrate_sol  rougher.output.concentrate_au  \\\n",
       "0                       28.029297                      19.793808   \n",
       "1                       28.067063                      20.050975   \n",
       "2                       27.454037                      19.737170   \n",
       "3                       27.341277                      19.320810   \n",
       "4                       27.041023                      19.216101   \n",
       "\n",
       "   rougher.output.recovery  rougher.output.tail_ag  rougher.output.tail_pb  \\\n",
       "0                87.107763                5.008018                0.508728   \n",
       "1                86.843261                4.955378                0.536689   \n",
       "2                86.842308                4.843460                0.546416   \n",
       "3                87.226430                4.655288                0.542525   \n",
       "4                86.688794                4.552800                0.515438   \n",
       "\n",
       "   rougher.output.tail_sol  rougher.output.tail_au  \\\n",
       "0                19.154297                1.170244   \n",
       "1                18.965234                1.184827   \n",
       "2                18.808533                1.162562   \n",
       "3                19.330200                1.079755   \n",
       "4                19.267422                1.012642   \n",
       "\n",
       "   rougher.state.floatbank10_a_air  rougher.state.floatbank10_a_level  \\\n",
       "0                       999.706909                        -404.066986   \n",
       "1                      1000.286398                        -400.065196   \n",
       "2                       999.719565                        -400.074028   \n",
       "3                       999.814770                        -400.200179   \n",
       "4                       999.678690                        -399.752729   \n",
       "\n",
       "   rougher.state.floatbank10_b_air  rougher.state.floatbank10_b_level  \\\n",
       "0                      1603.011353                        -434.715027   \n",
       "1                      1600.754587                        -449.953435   \n",
       "2                      1599.337330                        -450.008530   \n",
       "3                      1600.059442                        -450.619948   \n",
       "4                      1600.208824                        -449.599614   \n",
       "\n",
       "   rougher.state.floatbank10_c_air  rougher.state.floatbank10_c_level  \\\n",
       "0                      1602.375000                        -442.204468   \n",
       "1                      1600.479580                        -449.830646   \n",
       "2                      1599.672797                        -449.954491   \n",
       "3                      1600.012842                        -449.910497   \n",
       "4                      1600.357732                        -450.034364   \n",
       "\n",
       "   rougher.state.floatbank10_d_air  rougher.state.floatbank10_d_level  \\\n",
       "0                      1598.937256                        -451.294128   \n",
       "1                      1600.527589                        -449.953649   \n",
       "2                      1599.849325                        -449.954185   \n",
       "3                      1597.725177                        -450.130127   \n",
       "4                      1599.759049                        -449.909799   \n",
       "\n",
       "   rougher.state.floatbank10_e_air  rougher.state.floatbank10_e_level  \\\n",
       "0                      1404.472046                        -455.462982   \n",
       "1                      1399.227084                        -450.869848   \n",
       "2                      1399.180945                        -449.937588   \n",
       "3                      1400.943157                        -450.030142   \n",
       "4                      1401.560902                        -448.877187   \n",
       "\n",
       "   rougher.state.floatbank10_f_air  rougher.state.floatbank10_f_level  \\\n",
       "0                      1416.354980                        -451.939636   \n",
       "1                      1399.719514                        -450.119001   \n",
       "2                      1400.316682                        -450.527147   \n",
       "3                      1400.234743                        -449.790835   \n",
       "4                      1401.160227                        -450.407128   \n",
       "\n",
       "   secondary_cleaner.output.tail_ag  secondary_cleaner.output.tail_pb  \\\n",
       "0                         14.500184                          4.694824   \n",
       "1                         14.265474                          4.592547   \n",
       "2                         14.115662                          4.624775   \n",
       "3                         13.732071                          4.482453   \n",
       "4                         14.079996                          4.470737   \n",
       "\n",
       "   secondary_cleaner.output.tail_sol  secondary_cleaner.output.tail_au  \\\n",
       "0                           8.764648                          2.606185   \n",
       "1                           9.001494                          2.488248   \n",
       "2                           8.842896                          2.458187   \n",
       "3                           9.122857                          2.322062   \n",
       "4                           8.871028                          2.330448   \n",
       "\n",
       "   secondary_cleaner.state.floatbank2_a_air  \\\n",
       "0                                 25.853109   \n",
       "1                                 25.880539   \n",
       "2                                 26.005245   \n",
       "3                                 25.942508   \n",
       "4                                 26.024787   \n",
       "\n",
       "   secondary_cleaner.state.floatbank2_a_level  \\\n",
       "0                                 -498.526489   \n",
       "1                                 -499.989656   \n",
       "2                                 -499.929616   \n",
       "3                                 -499.176749   \n",
       "4                                 -500.279091   \n",
       "\n",
       "   secondary_cleaner.state.floatbank2_b_air  \\\n",
       "0                                 23.893660   \n",
       "1                                 23.889530   \n",
       "2                                 23.886657   \n",
       "3                                 23.955516   \n",
       "4                                 23.955345   \n",
       "\n",
       "   secondary_cleaner.state.floatbank2_b_level  \\\n",
       "0                                 -501.406281   \n",
       "1                                 -500.372428   \n",
       "2                                 -499.951928   \n",
       "3                                 -499.848796   \n",
       "4                                 -500.593614   \n",
       "\n",
       "   secondary_cleaner.state.floatbank3_a_air  \\\n",
       "0                                 23.961798   \n",
       "1                                 23.970550   \n",
       "2                                 23.913535   \n",
       "3                                 23.966838   \n",
       "4                                 23.985703   \n",
       "\n",
       "   secondary_cleaner.state.floatbank3_a_level  \\\n",
       "0                                 -495.262817   \n",
       "1                                 -500.085473   \n",
       "2                                 -499.442343   \n",
       "3                                 -500.008812   \n",
       "4                                 -500.083811   \n",
       "\n",
       "   secondary_cleaner.state.floatbank3_b_air  \\\n",
       "0                                 21.940409   \n",
       "1                                 22.085714   \n",
       "2                                 23.957717   \n",
       "3                                 23.954443   \n",
       "4                                 23.958945   \n",
       "\n",
       "   secondary_cleaner.state.floatbank3_b_level  \\\n",
       "0                                 -499.340973   \n",
       "1                                 -499.446897   \n",
       "2                                 -499.901982   \n",
       "3                                 -499.944710   \n",
       "4                                 -499.990309   \n",
       "\n",
       "   secondary_cleaner.state.floatbank4_a_air  \\\n",
       "0                                 14.016835   \n",
       "1                                 13.992281   \n",
       "2                                 14.015015   \n",
       "3                                 14.036510   \n",
       "4                                 14.027298   \n",
       "\n",
       "   secondary_cleaner.state.floatbank4_a_level  \\\n",
       "0                                 -502.488007   \n",
       "1                                 -505.503262   \n",
       "2                                 -502.520901   \n",
       "3                                 -500.857308   \n",
       "4                                 -499.838632   \n",
       "\n",
       "   secondary_cleaner.state.floatbank4_b_air  \\\n",
       "0                                 12.099931   \n",
       "1                                 11.950531   \n",
       "2                                 11.912783   \n",
       "3                                 11.999550   \n",
       "4                                 11.953070   \n",
       "\n",
       "   secondary_cleaner.state.floatbank4_b_level  \\\n",
       "0                                 -504.715942   \n",
       "1                                 -501.331529   \n",
       "2                                 -501.133383   \n",
       "3                                 -501.193686   \n",
       "4                                 -501.053894   \n",
       "\n",
       "   secondary_cleaner.state.floatbank5_a_air  \\\n",
       "0                                  9.925633   \n",
       "1                                 10.039245   \n",
       "2                                 10.070913   \n",
       "3                                  9.970366   \n",
       "4                                  9.925709   \n",
       "\n",
       "   secondary_cleaner.state.floatbank5_a_level  \\\n",
       "0                                 -498.310211   \n",
       "1                                 -500.169983   \n",
       "2                                 -500.129135   \n",
       "3                                 -499.201640   \n",
       "4                                 -501.686727   \n",
       "\n",
       "   secondary_cleaner.state.floatbank5_b_air  \\\n",
       "0                                  8.079666   \n",
       "1                                  7.984757   \n",
       "2                                  8.013877   \n",
       "3                                  7.977324   \n",
       "4                                  7.894242   \n",
       "\n",
       "   secondary_cleaner.state.floatbank5_b_level  \\\n",
       "0                                 -500.470978   \n",
       "1                                 -500.582168   \n",
       "2                                 -500.517572   \n",
       "3                                 -500.255908   \n",
       "4                                 -500.356035   \n",
       "\n",
       "   secondary_cleaner.state.floatbank6_a_air  \\\n",
       "0                                 14.151341   \n",
       "1                                 13.998353   \n",
       "2                                 14.028663   \n",
       "3                                 14.005551   \n",
       "4                                 13.996647   \n",
       "\n",
       "   secondary_cleaner.state.floatbank6_a_level  \n",
       "0                                 -605.841980  \n",
       "1                                 -599.787184  \n",
       "2                                 -601.427363  \n",
       "3                                 -599.996129  \n",
       "4                                 -601.496691  "
      ]
     },
     "metadata": {},
     "output_type": "display_data"
    },
    {
     "name": "stdout",
     "output_type": "stream",
     "text": [
      "\n",
      "<class 'pandas.core.frame.DataFrame'>\n",
      "RangeIndex: 5856 entries, 0 to 5855\n",
      "Data columns (total 53 columns):\n",
      " #   Column                                      Non-Null Count  Dtype  \n",
      "---  ------                                      --------------  -----  \n",
      " 0   date                                        5856 non-null   object \n",
      " 1   primary_cleaner.input.sulfate               5554 non-null   float64\n",
      " 2   primary_cleaner.input.depressant            5572 non-null   float64\n",
      " 3   primary_cleaner.input.feed_size             5856 non-null   float64\n",
      " 4   primary_cleaner.input.xanthate              5690 non-null   float64\n",
      " 5   primary_cleaner.state.floatbank8_a_air      5840 non-null   float64\n",
      " 6   primary_cleaner.state.floatbank8_a_level    5840 non-null   float64\n",
      " 7   primary_cleaner.state.floatbank8_b_air      5840 non-null   float64\n",
      " 8   primary_cleaner.state.floatbank8_b_level    5840 non-null   float64\n",
      " 9   primary_cleaner.state.floatbank8_c_air      5840 non-null   float64\n",
      " 10  primary_cleaner.state.floatbank8_c_level    5840 non-null   float64\n",
      " 11  primary_cleaner.state.floatbank8_d_air      5840 non-null   float64\n",
      " 12  primary_cleaner.state.floatbank8_d_level    5840 non-null   float64\n",
      " 13  rougher.input.feed_ag                       5840 non-null   float64\n",
      " 14  rougher.input.feed_pb                       5840 non-null   float64\n",
      " 15  rougher.input.feed_rate                     5816 non-null   float64\n",
      " 16  rougher.input.feed_size                     5834 non-null   float64\n",
      " 17  rougher.input.feed_sol                      5789 non-null   float64\n",
      " 18  rougher.input.feed_au                       5840 non-null   float64\n",
      " 19  rougher.input.floatbank10_sulfate           5599 non-null   float64\n",
      " 20  rougher.input.floatbank10_xanthate          5733 non-null   float64\n",
      " 21  rougher.input.floatbank11_sulfate           5801 non-null   float64\n",
      " 22  rougher.input.floatbank11_xanthate          5503 non-null   float64\n",
      " 23  rougher.state.floatbank10_a_air             5839 non-null   float64\n",
      " 24  rougher.state.floatbank10_a_level           5840 non-null   float64\n",
      " 25  rougher.state.floatbank10_b_air             5839 non-null   float64\n",
      " 26  rougher.state.floatbank10_b_level           5840 non-null   float64\n",
      " 27  rougher.state.floatbank10_c_air             5839 non-null   float64\n",
      " 28  rougher.state.floatbank10_c_level           5840 non-null   float64\n",
      " 29  rougher.state.floatbank10_d_air             5839 non-null   float64\n",
      " 30  rougher.state.floatbank10_d_level           5840 non-null   float64\n",
      " 31  rougher.state.floatbank10_e_air             5839 non-null   float64\n",
      " 32  rougher.state.floatbank10_e_level           5840 non-null   float64\n",
      " 33  rougher.state.floatbank10_f_air             5839 non-null   float64\n",
      " 34  rougher.state.floatbank10_f_level           5840 non-null   float64\n",
      " 35  secondary_cleaner.state.floatbank2_a_air    5836 non-null   float64\n",
      " 36  secondary_cleaner.state.floatbank2_a_level  5840 non-null   float64\n",
      " 37  secondary_cleaner.state.floatbank2_b_air    5833 non-null   float64\n",
      " 38  secondary_cleaner.state.floatbank2_b_level  5840 non-null   float64\n",
      " 39  secondary_cleaner.state.floatbank3_a_air    5822 non-null   float64\n",
      " 40  secondary_cleaner.state.floatbank3_a_level  5840 non-null   float64\n",
      " 41  secondary_cleaner.state.floatbank3_b_air    5840 non-null   float64\n",
      " 42  secondary_cleaner.state.floatbank3_b_level  5840 non-null   float64\n",
      " 43  secondary_cleaner.state.floatbank4_a_air    5840 non-null   float64\n",
      " 44  secondary_cleaner.state.floatbank4_a_level  5840 non-null   float64\n",
      " 45  secondary_cleaner.state.floatbank4_b_air    5840 non-null   float64\n",
      " 46  secondary_cleaner.state.floatbank4_b_level  5840 non-null   float64\n",
      " 47  secondary_cleaner.state.floatbank5_a_air    5840 non-null   float64\n",
      " 48  secondary_cleaner.state.floatbank5_a_level  5840 non-null   float64\n",
      " 49  secondary_cleaner.state.floatbank5_b_air    5840 non-null   float64\n",
      " 50  secondary_cleaner.state.floatbank5_b_level  5840 non-null   float64\n",
      " 51  secondary_cleaner.state.floatbank6_a_air    5840 non-null   float64\n",
      " 52  secondary_cleaner.state.floatbank6_a_level  5840 non-null   float64\n",
      "dtypes: float64(52), object(1)\n",
      "memory usage: 2.4+ MB\n",
      "\n",
      "\n"
     ]
    },
    {
     "data": {
      "text/html": [
       "<div>\n",
       "<style scoped>\n",
       "    .dataframe tbody tr th:only-of-type {\n",
       "        vertical-align: middle;\n",
       "    }\n",
       "\n",
       "    .dataframe tbody tr th {\n",
       "        vertical-align: top;\n",
       "    }\n",
       "\n",
       "    .dataframe thead th {\n",
       "        text-align: right;\n",
       "    }\n",
       "</style>\n",
       "<table border=\"1\" class=\"dataframe\">\n",
       "  <thead>\n",
       "    <tr style=\"text-align: right;\">\n",
       "      <th></th>\n",
       "      <th>date</th>\n",
       "      <th>final.output.concentrate_ag</th>\n",
       "      <th>final.output.concentrate_pb</th>\n",
       "      <th>final.output.concentrate_sol</th>\n",
       "      <th>final.output.concentrate_au</th>\n",
       "      <th>final.output.recovery</th>\n",
       "      <th>final.output.tail_ag</th>\n",
       "      <th>final.output.tail_pb</th>\n",
       "      <th>final.output.tail_sol</th>\n",
       "      <th>final.output.tail_au</th>\n",
       "      <th>primary_cleaner.input.sulfate</th>\n",
       "      <th>primary_cleaner.input.depressant</th>\n",
       "      <th>primary_cleaner.input.feed_size</th>\n",
       "      <th>primary_cleaner.input.xanthate</th>\n",
       "      <th>primary_cleaner.output.concentrate_ag</th>\n",
       "      <th>primary_cleaner.output.concentrate_pb</th>\n",
       "      <th>primary_cleaner.output.concentrate_sol</th>\n",
       "      <th>primary_cleaner.output.concentrate_au</th>\n",
       "      <th>primary_cleaner.output.tail_ag</th>\n",
       "      <th>primary_cleaner.output.tail_pb</th>\n",
       "      <th>primary_cleaner.output.tail_sol</th>\n",
       "      <th>primary_cleaner.output.tail_au</th>\n",
       "      <th>primary_cleaner.state.floatbank8_a_air</th>\n",
       "      <th>primary_cleaner.state.floatbank8_a_level</th>\n",
       "      <th>primary_cleaner.state.floatbank8_b_air</th>\n",
       "      <th>primary_cleaner.state.floatbank8_b_level</th>\n",
       "      <th>primary_cleaner.state.floatbank8_c_air</th>\n",
       "      <th>primary_cleaner.state.floatbank8_c_level</th>\n",
       "      <th>primary_cleaner.state.floatbank8_d_air</th>\n",
       "      <th>primary_cleaner.state.floatbank8_d_level</th>\n",
       "      <th>rougher.calculation.sulfate_to_au_concentrate</th>\n",
       "      <th>rougher.calculation.floatbank10_sulfate_to_au_feed</th>\n",
       "      <th>rougher.calculation.floatbank11_sulfate_to_au_feed</th>\n",
       "      <th>rougher.calculation.au_pb_ratio</th>\n",
       "      <th>rougher.input.feed_ag</th>\n",
       "      <th>rougher.input.feed_pb</th>\n",
       "      <th>rougher.input.feed_rate</th>\n",
       "      <th>rougher.input.feed_size</th>\n",
       "      <th>rougher.input.feed_sol</th>\n",
       "      <th>rougher.input.feed_au</th>\n",
       "      <th>rougher.input.floatbank10_sulfate</th>\n",
       "      <th>rougher.input.floatbank10_xanthate</th>\n",
       "      <th>rougher.input.floatbank11_sulfate</th>\n",
       "      <th>rougher.input.floatbank11_xanthate</th>\n",
       "      <th>rougher.output.concentrate_ag</th>\n",
       "      <th>rougher.output.concentrate_pb</th>\n",
       "      <th>rougher.output.concentrate_sol</th>\n",
       "      <th>rougher.output.concentrate_au</th>\n",
       "      <th>rougher.output.recovery</th>\n",
       "      <th>rougher.output.tail_ag</th>\n",
       "      <th>rougher.output.tail_pb</th>\n",
       "      <th>rougher.output.tail_sol</th>\n",
       "      <th>rougher.output.tail_au</th>\n",
       "      <th>rougher.state.floatbank10_a_air</th>\n",
       "      <th>rougher.state.floatbank10_a_level</th>\n",
       "      <th>rougher.state.floatbank10_b_air</th>\n",
       "      <th>rougher.state.floatbank10_b_level</th>\n",
       "      <th>rougher.state.floatbank10_c_air</th>\n",
       "      <th>rougher.state.floatbank10_c_level</th>\n",
       "      <th>rougher.state.floatbank10_d_air</th>\n",
       "      <th>rougher.state.floatbank10_d_level</th>\n",
       "      <th>rougher.state.floatbank10_e_air</th>\n",
       "      <th>rougher.state.floatbank10_e_level</th>\n",
       "      <th>rougher.state.floatbank10_f_air</th>\n",
       "      <th>rougher.state.floatbank10_f_level</th>\n",
       "      <th>secondary_cleaner.output.tail_ag</th>\n",
       "      <th>secondary_cleaner.output.tail_pb</th>\n",
       "      <th>secondary_cleaner.output.tail_sol</th>\n",
       "      <th>secondary_cleaner.output.tail_au</th>\n",
       "      <th>secondary_cleaner.state.floatbank2_a_air</th>\n",
       "      <th>secondary_cleaner.state.floatbank2_a_level</th>\n",
       "      <th>secondary_cleaner.state.floatbank2_b_air</th>\n",
       "      <th>secondary_cleaner.state.floatbank2_b_level</th>\n",
       "      <th>secondary_cleaner.state.floatbank3_a_air</th>\n",
       "      <th>secondary_cleaner.state.floatbank3_a_level</th>\n",
       "      <th>secondary_cleaner.state.floatbank3_b_air</th>\n",
       "      <th>secondary_cleaner.state.floatbank3_b_level</th>\n",
       "      <th>secondary_cleaner.state.floatbank4_a_air</th>\n",
       "      <th>secondary_cleaner.state.floatbank4_a_level</th>\n",
       "      <th>secondary_cleaner.state.floatbank4_b_air</th>\n",
       "      <th>secondary_cleaner.state.floatbank4_b_level</th>\n",
       "      <th>secondary_cleaner.state.floatbank5_a_air</th>\n",
       "      <th>secondary_cleaner.state.floatbank5_a_level</th>\n",
       "      <th>secondary_cleaner.state.floatbank5_b_air</th>\n",
       "      <th>secondary_cleaner.state.floatbank5_b_level</th>\n",
       "      <th>secondary_cleaner.state.floatbank6_a_air</th>\n",
       "      <th>secondary_cleaner.state.floatbank6_a_level</th>\n",
       "    </tr>\n",
       "  </thead>\n",
       "  <tbody>\n",
       "    <tr>\n",
       "      <th>0</th>\n",
       "      <td>2016-01-15 00:00:00</td>\n",
       "      <td>6.055403</td>\n",
       "      <td>9.889648</td>\n",
       "      <td>5.507324</td>\n",
       "      <td>42.192020</td>\n",
       "      <td>70.541216</td>\n",
       "      <td>10.411962</td>\n",
       "      <td>0.895447</td>\n",
       "      <td>16.904297</td>\n",
       "      <td>2.143149</td>\n",
       "      <td>127.092003</td>\n",
       "      <td>10.128295</td>\n",
       "      <td>7.25</td>\n",
       "      <td>0.988759</td>\n",
       "      <td>8.547551</td>\n",
       "      <td>10.389648</td>\n",
       "      <td>19.529297</td>\n",
       "      <td>34.174427</td>\n",
       "      <td>14.936526</td>\n",
       "      <td>2.534912</td>\n",
       "      <td>7.476074</td>\n",
       "      <td>2.106679</td>\n",
       "      <td>1549.775757</td>\n",
       "      <td>-498.912140</td>\n",
       "      <td>1551.434204</td>\n",
       "      <td>-516.403442</td>\n",
       "      <td>1549.873901</td>\n",
       "      <td>-498.666595</td>\n",
       "      <td>1554.367432</td>\n",
       "      <td>-493.428131</td>\n",
       "      <td>41885.707031</td>\n",
       "      <td>3481.779053</td>\n",
       "      <td>3520.337158</td>\n",
       "      <td>2.838687</td>\n",
       "      <td>6.100378</td>\n",
       "      <td>2.284912</td>\n",
       "      <td>523.546326</td>\n",
       "      <td>55.486599</td>\n",
       "      <td>36.808594</td>\n",
       "      <td>6.486150</td>\n",
       "      <td>11.986616</td>\n",
       "      <td>6.007990</td>\n",
       "      <td>11.836743</td>\n",
       "      <td>6.005818</td>\n",
       "      <td>11.500771</td>\n",
       "      <td>7.101074</td>\n",
       "      <td>28.029297</td>\n",
       "      <td>19.793808</td>\n",
       "      <td>87.107763</td>\n",
       "      <td>5.008018</td>\n",
       "      <td>0.508728</td>\n",
       "      <td>19.154297</td>\n",
       "      <td>1.170244</td>\n",
       "      <td>999.706909</td>\n",
       "      <td>-404.066986</td>\n",
       "      <td>1603.011353</td>\n",
       "      <td>-434.715027</td>\n",
       "      <td>1602.375000</td>\n",
       "      <td>-442.204468</td>\n",
       "      <td>1598.937256</td>\n",
       "      <td>-451.294128</td>\n",
       "      <td>1404.472046</td>\n",
       "      <td>-455.462982</td>\n",
       "      <td>1416.354980</td>\n",
       "      <td>-451.939636</td>\n",
       "      <td>14.500184</td>\n",
       "      <td>4.694824</td>\n",
       "      <td>8.764648</td>\n",
       "      <td>2.606185</td>\n",
       "      <td>25.853109</td>\n",
       "      <td>-498.526489</td>\n",
       "      <td>23.893660</td>\n",
       "      <td>-501.406281</td>\n",
       "      <td>23.961798</td>\n",
       "      <td>-495.262817</td>\n",
       "      <td>21.940409</td>\n",
       "      <td>-499.340973</td>\n",
       "      <td>14.016835</td>\n",
       "      <td>-502.488007</td>\n",
       "      <td>12.099931</td>\n",
       "      <td>-504.715942</td>\n",
       "      <td>9.925633</td>\n",
       "      <td>-498.310211</td>\n",
       "      <td>8.079666</td>\n",
       "      <td>-500.470978</td>\n",
       "      <td>14.151341</td>\n",
       "      <td>-605.841980</td>\n",
       "    </tr>\n",
       "    <tr>\n",
       "      <th>1</th>\n",
       "      <td>2016-01-15 01:00:00</td>\n",
       "      <td>6.029369</td>\n",
       "      <td>9.968944</td>\n",
       "      <td>5.257781</td>\n",
       "      <td>42.701629</td>\n",
       "      <td>69.266198</td>\n",
       "      <td>10.462676</td>\n",
       "      <td>0.927452</td>\n",
       "      <td>16.634514</td>\n",
       "      <td>2.224930</td>\n",
       "      <td>125.629232</td>\n",
       "      <td>10.296251</td>\n",
       "      <td>7.25</td>\n",
       "      <td>1.002663</td>\n",
       "      <td>8.558743</td>\n",
       "      <td>10.497069</td>\n",
       "      <td>19.369147</td>\n",
       "      <td>34.118526</td>\n",
       "      <td>16.250511</td>\n",
       "      <td>3.049646</td>\n",
       "      <td>6.733907</td>\n",
       "      <td>2.353017</td>\n",
       "      <td>1576.166671</td>\n",
       "      <td>-500.904965</td>\n",
       "      <td>1575.950626</td>\n",
       "      <td>-499.865889</td>\n",
       "      <td>1575.994189</td>\n",
       "      <td>-499.315107</td>\n",
       "      <td>1574.479259</td>\n",
       "      <td>-498.931665</td>\n",
       "      <td>42050.861809</td>\n",
       "      <td>3498.370979</td>\n",
       "      <td>3489.981857</td>\n",
       "      <td>2.858998</td>\n",
       "      <td>6.161113</td>\n",
       "      <td>2.266033</td>\n",
       "      <td>525.290581</td>\n",
       "      <td>57.278666</td>\n",
       "      <td>35.753385</td>\n",
       "      <td>6.478583</td>\n",
       "      <td>11.971193</td>\n",
       "      <td>6.005766</td>\n",
       "      <td>11.996163</td>\n",
       "      <td>6.012594</td>\n",
       "      <td>11.615865</td>\n",
       "      <td>7.278807</td>\n",
       "      <td>28.067063</td>\n",
       "      <td>20.050975</td>\n",
       "      <td>86.843261</td>\n",
       "      <td>4.955378</td>\n",
       "      <td>0.536689</td>\n",
       "      <td>18.965234</td>\n",
       "      <td>1.184827</td>\n",
       "      <td>1000.286398</td>\n",
       "      <td>-400.065196</td>\n",
       "      <td>1600.754587</td>\n",
       "      <td>-449.953435</td>\n",
       "      <td>1600.479580</td>\n",
       "      <td>-449.830646</td>\n",
       "      <td>1600.527589</td>\n",
       "      <td>-449.953649</td>\n",
       "      <td>1399.227084</td>\n",
       "      <td>-450.869848</td>\n",
       "      <td>1399.719514</td>\n",
       "      <td>-450.119001</td>\n",
       "      <td>14.265474</td>\n",
       "      <td>4.592547</td>\n",
       "      <td>9.001494</td>\n",
       "      <td>2.488248</td>\n",
       "      <td>25.880539</td>\n",
       "      <td>-499.989656</td>\n",
       "      <td>23.889530</td>\n",
       "      <td>-500.372428</td>\n",
       "      <td>23.970550</td>\n",
       "      <td>-500.085473</td>\n",
       "      <td>22.085714</td>\n",
       "      <td>-499.446897</td>\n",
       "      <td>13.992281</td>\n",
       "      <td>-505.503262</td>\n",
       "      <td>11.950531</td>\n",
       "      <td>-501.331529</td>\n",
       "      <td>10.039245</td>\n",
       "      <td>-500.169983</td>\n",
       "      <td>7.984757</td>\n",
       "      <td>-500.582168</td>\n",
       "      <td>13.998353</td>\n",
       "      <td>-599.787184</td>\n",
       "    </tr>\n",
       "    <tr>\n",
       "      <th>2</th>\n",
       "      <td>2016-01-15 02:00:00</td>\n",
       "      <td>6.055926</td>\n",
       "      <td>10.213995</td>\n",
       "      <td>5.383759</td>\n",
       "      <td>42.657501</td>\n",
       "      <td>68.116445</td>\n",
       "      <td>10.507046</td>\n",
       "      <td>0.953716</td>\n",
       "      <td>16.208849</td>\n",
       "      <td>2.257889</td>\n",
       "      <td>123.819808</td>\n",
       "      <td>11.316280</td>\n",
       "      <td>7.25</td>\n",
       "      <td>0.991265</td>\n",
       "      <td>8.603505</td>\n",
       "      <td>10.354494</td>\n",
       "      <td>19.167579</td>\n",
       "      <td>33.969464</td>\n",
       "      <td>16.491823</td>\n",
       "      <td>3.124664</td>\n",
       "      <td>6.471768</td>\n",
       "      <td>2.416800</td>\n",
       "      <td>1601.556163</td>\n",
       "      <td>-499.997791</td>\n",
       "      <td>1600.386685</td>\n",
       "      <td>-500.607762</td>\n",
       "      <td>1602.003542</td>\n",
       "      <td>-500.870069</td>\n",
       "      <td>1599.541515</td>\n",
       "      <td>-499.827444</td>\n",
       "      <td>42018.101184</td>\n",
       "      <td>3495.348910</td>\n",
       "      <td>3502.359819</td>\n",
       "      <td>2.945989</td>\n",
       "      <td>6.116455</td>\n",
       "      <td>2.159622</td>\n",
       "      <td>530.026610</td>\n",
       "      <td>57.510649</td>\n",
       "      <td>35.971630</td>\n",
       "      <td>6.362222</td>\n",
       "      <td>11.920603</td>\n",
       "      <td>6.197377</td>\n",
       "      <td>11.920305</td>\n",
       "      <td>6.204633</td>\n",
       "      <td>11.695753</td>\n",
       "      <td>7.216833</td>\n",
       "      <td>27.454037</td>\n",
       "      <td>19.737170</td>\n",
       "      <td>86.842308</td>\n",
       "      <td>4.843460</td>\n",
       "      <td>0.546416</td>\n",
       "      <td>18.808533</td>\n",
       "      <td>1.162562</td>\n",
       "      <td>999.719565</td>\n",
       "      <td>-400.074028</td>\n",
       "      <td>1599.337330</td>\n",
       "      <td>-450.008530</td>\n",
       "      <td>1599.672797</td>\n",
       "      <td>-449.954491</td>\n",
       "      <td>1599.849325</td>\n",
       "      <td>-449.954185</td>\n",
       "      <td>1399.180945</td>\n",
       "      <td>-449.937588</td>\n",
       "      <td>1400.316682</td>\n",
       "      <td>-450.527147</td>\n",
       "      <td>14.115662</td>\n",
       "      <td>4.624775</td>\n",
       "      <td>8.842896</td>\n",
       "      <td>2.458187</td>\n",
       "      <td>26.005245</td>\n",
       "      <td>-499.929616</td>\n",
       "      <td>23.886657</td>\n",
       "      <td>-499.951928</td>\n",
       "      <td>23.913535</td>\n",
       "      <td>-499.442343</td>\n",
       "      <td>23.957717</td>\n",
       "      <td>-499.901982</td>\n",
       "      <td>14.015015</td>\n",
       "      <td>-502.520901</td>\n",
       "      <td>11.912783</td>\n",
       "      <td>-501.133383</td>\n",
       "      <td>10.070913</td>\n",
       "      <td>-500.129135</td>\n",
       "      <td>8.013877</td>\n",
       "      <td>-500.517572</td>\n",
       "      <td>14.028663</td>\n",
       "      <td>-601.427363</td>\n",
       "    </tr>\n",
       "    <tr>\n",
       "      <th>3</th>\n",
       "      <td>2016-01-15 03:00:00</td>\n",
       "      <td>6.047977</td>\n",
       "      <td>9.977019</td>\n",
       "      <td>4.858634</td>\n",
       "      <td>42.689819</td>\n",
       "      <td>68.347543</td>\n",
       "      <td>10.422762</td>\n",
       "      <td>0.883763</td>\n",
       "      <td>16.532835</td>\n",
       "      <td>2.146849</td>\n",
       "      <td>122.270188</td>\n",
       "      <td>11.322140</td>\n",
       "      <td>7.25</td>\n",
       "      <td>0.996739</td>\n",
       "      <td>7.221879</td>\n",
       "      <td>8.496563</td>\n",
       "      <td>15.978538</td>\n",
       "      <td>28.260743</td>\n",
       "      <td>16.024359</td>\n",
       "      <td>2.960362</td>\n",
       "      <td>6.843791</td>\n",
       "      <td>2.262051</td>\n",
       "      <td>1599.968720</td>\n",
       "      <td>-500.951778</td>\n",
       "      <td>1600.659236</td>\n",
       "      <td>-499.677094</td>\n",
       "      <td>1600.304144</td>\n",
       "      <td>-500.727997</td>\n",
       "      <td>1600.449520</td>\n",
       "      <td>-500.052575</td>\n",
       "      <td>42029.447991</td>\n",
       "      <td>3498.578313</td>\n",
       "      <td>3499.162912</td>\n",
       "      <td>3.002340</td>\n",
       "      <td>6.043309</td>\n",
       "      <td>2.037807</td>\n",
       "      <td>542.590390</td>\n",
       "      <td>57.792734</td>\n",
       "      <td>36.862241</td>\n",
       "      <td>6.118189</td>\n",
       "      <td>11.630094</td>\n",
       "      <td>6.203177</td>\n",
       "      <td>11.692450</td>\n",
       "      <td>6.196578</td>\n",
       "      <td>11.915047</td>\n",
       "      <td>7.175616</td>\n",
       "      <td>27.341277</td>\n",
       "      <td>19.320810</td>\n",
       "      <td>87.226430</td>\n",
       "      <td>4.655288</td>\n",
       "      <td>0.542525</td>\n",
       "      <td>19.330200</td>\n",
       "      <td>1.079755</td>\n",
       "      <td>999.814770</td>\n",
       "      <td>-400.200179</td>\n",
       "      <td>1600.059442</td>\n",
       "      <td>-450.619948</td>\n",
       "      <td>1600.012842</td>\n",
       "      <td>-449.910497</td>\n",
       "      <td>1597.725177</td>\n",
       "      <td>-450.130127</td>\n",
       "      <td>1400.943157</td>\n",
       "      <td>-450.030142</td>\n",
       "      <td>1400.234743</td>\n",
       "      <td>-449.790835</td>\n",
       "      <td>13.732071</td>\n",
       "      <td>4.482453</td>\n",
       "      <td>9.122857</td>\n",
       "      <td>2.322062</td>\n",
       "      <td>25.942508</td>\n",
       "      <td>-499.176749</td>\n",
       "      <td>23.955516</td>\n",
       "      <td>-499.848796</td>\n",
       "      <td>23.966838</td>\n",
       "      <td>-500.008812</td>\n",
       "      <td>23.954443</td>\n",
       "      <td>-499.944710</td>\n",
       "      <td>14.036510</td>\n",
       "      <td>-500.857308</td>\n",
       "      <td>11.999550</td>\n",
       "      <td>-501.193686</td>\n",
       "      <td>9.970366</td>\n",
       "      <td>-499.201640</td>\n",
       "      <td>7.977324</td>\n",
       "      <td>-500.255908</td>\n",
       "      <td>14.005551</td>\n",
       "      <td>-599.996129</td>\n",
       "    </tr>\n",
       "    <tr>\n",
       "      <th>4</th>\n",
       "      <td>2016-01-15 04:00:00</td>\n",
       "      <td>6.148599</td>\n",
       "      <td>10.142511</td>\n",
       "      <td>4.939416</td>\n",
       "      <td>42.774141</td>\n",
       "      <td>66.927016</td>\n",
       "      <td>10.360302</td>\n",
       "      <td>0.792826</td>\n",
       "      <td>16.525686</td>\n",
       "      <td>2.055292</td>\n",
       "      <td>117.988169</td>\n",
       "      <td>11.913613</td>\n",
       "      <td>7.25</td>\n",
       "      <td>1.009869</td>\n",
       "      <td>9.089428</td>\n",
       "      <td>9.986786</td>\n",
       "      <td>19.199864</td>\n",
       "      <td>33.044932</td>\n",
       "      <td>16.480185</td>\n",
       "      <td>3.112100</td>\n",
       "      <td>6.550154</td>\n",
       "      <td>2.277073</td>\n",
       "      <td>1601.339707</td>\n",
       "      <td>-498.975456</td>\n",
       "      <td>1601.437854</td>\n",
       "      <td>-500.323246</td>\n",
       "      <td>1599.581894</td>\n",
       "      <td>-500.888152</td>\n",
       "      <td>1602.649541</td>\n",
       "      <td>-500.593010</td>\n",
       "      <td>42125.354245</td>\n",
       "      <td>3494.800771</td>\n",
       "      <td>3506.679315</td>\n",
       "      <td>3.169615</td>\n",
       "      <td>6.060915</td>\n",
       "      <td>1.786875</td>\n",
       "      <td>540.531893</td>\n",
       "      <td>56.047189</td>\n",
       "      <td>34.347666</td>\n",
       "      <td>5.663707</td>\n",
       "      <td>10.957755</td>\n",
       "      <td>6.198826</td>\n",
       "      <td>10.960521</td>\n",
       "      <td>6.194897</td>\n",
       "      <td>12.411054</td>\n",
       "      <td>7.240205</td>\n",
       "      <td>27.041023</td>\n",
       "      <td>19.216101</td>\n",
       "      <td>86.688794</td>\n",
       "      <td>4.552800</td>\n",
       "      <td>0.515438</td>\n",
       "      <td>19.267422</td>\n",
       "      <td>1.012642</td>\n",
       "      <td>999.678690</td>\n",
       "      <td>-399.752729</td>\n",
       "      <td>1600.208824</td>\n",
       "      <td>-449.599614</td>\n",
       "      <td>1600.357732</td>\n",
       "      <td>-450.034364</td>\n",
       "      <td>1599.759049</td>\n",
       "      <td>-449.909799</td>\n",
       "      <td>1401.560902</td>\n",
       "      <td>-448.877187</td>\n",
       "      <td>1401.160227</td>\n",
       "      <td>-450.407128</td>\n",
       "      <td>14.079996</td>\n",
       "      <td>4.470737</td>\n",
       "      <td>8.871028</td>\n",
       "      <td>2.330448</td>\n",
       "      <td>26.024787</td>\n",
       "      <td>-500.279091</td>\n",
       "      <td>23.955345</td>\n",
       "      <td>-500.593614</td>\n",
       "      <td>23.985703</td>\n",
       "      <td>-500.083811</td>\n",
       "      <td>23.958945</td>\n",
       "      <td>-499.990309</td>\n",
       "      <td>14.027298</td>\n",
       "      <td>-499.838632</td>\n",
       "      <td>11.953070</td>\n",
       "      <td>-501.053894</td>\n",
       "      <td>9.925709</td>\n",
       "      <td>-501.686727</td>\n",
       "      <td>7.894242</td>\n",
       "      <td>-500.356035</td>\n",
       "      <td>13.996647</td>\n",
       "      <td>-601.496691</td>\n",
       "    </tr>\n",
       "  </tbody>\n",
       "</table>\n",
       "</div>"
      ],
      "text/plain": [
       "                  date  final.output.concentrate_ag  \\\n",
       "0  2016-01-15 00:00:00                     6.055403   \n",
       "1  2016-01-15 01:00:00                     6.029369   \n",
       "2  2016-01-15 02:00:00                     6.055926   \n",
       "3  2016-01-15 03:00:00                     6.047977   \n",
       "4  2016-01-15 04:00:00                     6.148599   \n",
       "\n",
       "   final.output.concentrate_pb  final.output.concentrate_sol  \\\n",
       "0                     9.889648                      5.507324   \n",
       "1                     9.968944                      5.257781   \n",
       "2                    10.213995                      5.383759   \n",
       "3                     9.977019                      4.858634   \n",
       "4                    10.142511                      4.939416   \n",
       "\n",
       "   final.output.concentrate_au  final.output.recovery  final.output.tail_ag  \\\n",
       "0                    42.192020              70.541216             10.411962   \n",
       "1                    42.701629              69.266198             10.462676   \n",
       "2                    42.657501              68.116445             10.507046   \n",
       "3                    42.689819              68.347543             10.422762   \n",
       "4                    42.774141              66.927016             10.360302   \n",
       "\n",
       "   final.output.tail_pb  final.output.tail_sol  final.output.tail_au  \\\n",
       "0              0.895447              16.904297              2.143149   \n",
       "1              0.927452              16.634514              2.224930   \n",
       "2              0.953716              16.208849              2.257889   \n",
       "3              0.883763              16.532835              2.146849   \n",
       "4              0.792826              16.525686              2.055292   \n",
       "\n",
       "   primary_cleaner.input.sulfate  primary_cleaner.input.depressant  \\\n",
       "0                     127.092003                         10.128295   \n",
       "1                     125.629232                         10.296251   \n",
       "2                     123.819808                         11.316280   \n",
       "3                     122.270188                         11.322140   \n",
       "4                     117.988169                         11.913613   \n",
       "\n",
       "   primary_cleaner.input.feed_size  primary_cleaner.input.xanthate  \\\n",
       "0                             7.25                        0.988759   \n",
       "1                             7.25                        1.002663   \n",
       "2                             7.25                        0.991265   \n",
       "3                             7.25                        0.996739   \n",
       "4                             7.25                        1.009869   \n",
       "\n",
       "   primary_cleaner.output.concentrate_ag  \\\n",
       "0                               8.547551   \n",
       "1                               8.558743   \n",
       "2                               8.603505   \n",
       "3                               7.221879   \n",
       "4                               9.089428   \n",
       "\n",
       "   primary_cleaner.output.concentrate_pb  \\\n",
       "0                              10.389648   \n",
       "1                              10.497069   \n",
       "2                              10.354494   \n",
       "3                               8.496563   \n",
       "4                               9.986786   \n",
       "\n",
       "   primary_cleaner.output.concentrate_sol  \\\n",
       "0                               19.529297   \n",
       "1                               19.369147   \n",
       "2                               19.167579   \n",
       "3                               15.978538   \n",
       "4                               19.199864   \n",
       "\n",
       "   primary_cleaner.output.concentrate_au  primary_cleaner.output.tail_ag  \\\n",
       "0                              34.174427                       14.936526   \n",
       "1                              34.118526                       16.250511   \n",
       "2                              33.969464                       16.491823   \n",
       "3                              28.260743                       16.024359   \n",
       "4                              33.044932                       16.480185   \n",
       "\n",
       "   primary_cleaner.output.tail_pb  primary_cleaner.output.tail_sol  \\\n",
       "0                        2.534912                         7.476074   \n",
       "1                        3.049646                         6.733907   \n",
       "2                        3.124664                         6.471768   \n",
       "3                        2.960362                         6.843791   \n",
       "4                        3.112100                         6.550154   \n",
       "\n",
       "   primary_cleaner.output.tail_au  primary_cleaner.state.floatbank8_a_air  \\\n",
       "0                        2.106679                             1549.775757   \n",
       "1                        2.353017                             1576.166671   \n",
       "2                        2.416800                             1601.556163   \n",
       "3                        2.262051                             1599.968720   \n",
       "4                        2.277073                             1601.339707   \n",
       "\n",
       "   primary_cleaner.state.floatbank8_a_level  \\\n",
       "0                               -498.912140   \n",
       "1                               -500.904965   \n",
       "2                               -499.997791   \n",
       "3                               -500.951778   \n",
       "4                               -498.975456   \n",
       "\n",
       "   primary_cleaner.state.floatbank8_b_air  \\\n",
       "0                             1551.434204   \n",
       "1                             1575.950626   \n",
       "2                             1600.386685   \n",
       "3                             1600.659236   \n",
       "4                             1601.437854   \n",
       "\n",
       "   primary_cleaner.state.floatbank8_b_level  \\\n",
       "0                               -516.403442   \n",
       "1                               -499.865889   \n",
       "2                               -500.607762   \n",
       "3                               -499.677094   \n",
       "4                               -500.323246   \n",
       "\n",
       "   primary_cleaner.state.floatbank8_c_air  \\\n",
       "0                             1549.873901   \n",
       "1                             1575.994189   \n",
       "2                             1602.003542   \n",
       "3                             1600.304144   \n",
       "4                             1599.581894   \n",
       "\n",
       "   primary_cleaner.state.floatbank8_c_level  \\\n",
       "0                               -498.666595   \n",
       "1                               -499.315107   \n",
       "2                               -500.870069   \n",
       "3                               -500.727997   \n",
       "4                               -500.888152   \n",
       "\n",
       "   primary_cleaner.state.floatbank8_d_air  \\\n",
       "0                             1554.367432   \n",
       "1                             1574.479259   \n",
       "2                             1599.541515   \n",
       "3                             1600.449520   \n",
       "4                             1602.649541   \n",
       "\n",
       "   primary_cleaner.state.floatbank8_d_level  \\\n",
       "0                               -493.428131   \n",
       "1                               -498.931665   \n",
       "2                               -499.827444   \n",
       "3                               -500.052575   \n",
       "4                               -500.593010   \n",
       "\n",
       "   rougher.calculation.sulfate_to_au_concentrate  \\\n",
       "0                                   41885.707031   \n",
       "1                                   42050.861809   \n",
       "2                                   42018.101184   \n",
       "3                                   42029.447991   \n",
       "4                                   42125.354245   \n",
       "\n",
       "   rougher.calculation.floatbank10_sulfate_to_au_feed  \\\n",
       "0                                        3481.779053    \n",
       "1                                        3498.370979    \n",
       "2                                        3495.348910    \n",
       "3                                        3498.578313    \n",
       "4                                        3494.800771    \n",
       "\n",
       "   rougher.calculation.floatbank11_sulfate_to_au_feed  \\\n",
       "0                                        3520.337158    \n",
       "1                                        3489.981857    \n",
       "2                                        3502.359819    \n",
       "3                                        3499.162912    \n",
       "4                                        3506.679315    \n",
       "\n",
       "   rougher.calculation.au_pb_ratio  rougher.input.feed_ag  \\\n",
       "0                         2.838687               6.100378   \n",
       "1                         2.858998               6.161113   \n",
       "2                         2.945989               6.116455   \n",
       "3                         3.002340               6.043309   \n",
       "4                         3.169615               6.060915   \n",
       "\n",
       "   rougher.input.feed_pb  rougher.input.feed_rate  rougher.input.feed_size  \\\n",
       "0               2.284912               523.546326                55.486599   \n",
       "1               2.266033               525.290581                57.278666   \n",
       "2               2.159622               530.026610                57.510649   \n",
       "3               2.037807               542.590390                57.792734   \n",
       "4               1.786875               540.531893                56.047189   \n",
       "\n",
       "   rougher.input.feed_sol  rougher.input.feed_au  \\\n",
       "0               36.808594               6.486150   \n",
       "1               35.753385               6.478583   \n",
       "2               35.971630               6.362222   \n",
       "3               36.862241               6.118189   \n",
       "4               34.347666               5.663707   \n",
       "\n",
       "   rougher.input.floatbank10_sulfate  rougher.input.floatbank10_xanthate  \\\n",
       "0                          11.986616                            6.007990   \n",
       "1                          11.971193                            6.005766   \n",
       "2                          11.920603                            6.197377   \n",
       "3                          11.630094                            6.203177   \n",
       "4                          10.957755                            6.198826   \n",
       "\n",
       "   rougher.input.floatbank11_sulfate  rougher.input.floatbank11_xanthate  \\\n",
       "0                          11.836743                            6.005818   \n",
       "1                          11.996163                            6.012594   \n",
       "2                          11.920305                            6.204633   \n",
       "3                          11.692450                            6.196578   \n",
       "4                          10.960521                            6.194897   \n",
       "\n",
       "   rougher.output.concentrate_ag  rougher.output.concentrate_pb  \\\n",
       "0                      11.500771                       7.101074   \n",
       "1                      11.615865                       7.278807   \n",
       "2                      11.695753                       7.216833   \n",
       "3                      11.915047                       7.175616   \n",
       "4                      12.411054                       7.240205   \n",
       "\n",
       "   rougher.output.concentrate_sol  rougher.output.concentrate_au  \\\n",
       "0                       28.029297                      19.793808   \n",
       "1                       28.067063                      20.050975   \n",
       "2                       27.454037                      19.737170   \n",
       "3                       27.341277                      19.320810   \n",
       "4                       27.041023                      19.216101   \n",
       "\n",
       "   rougher.output.recovery  rougher.output.tail_ag  rougher.output.tail_pb  \\\n",
       "0                87.107763                5.008018                0.508728   \n",
       "1                86.843261                4.955378                0.536689   \n",
       "2                86.842308                4.843460                0.546416   \n",
       "3                87.226430                4.655288                0.542525   \n",
       "4                86.688794                4.552800                0.515438   \n",
       "\n",
       "   rougher.output.tail_sol  rougher.output.tail_au  \\\n",
       "0                19.154297                1.170244   \n",
       "1                18.965234                1.184827   \n",
       "2                18.808533                1.162562   \n",
       "3                19.330200                1.079755   \n",
       "4                19.267422                1.012642   \n",
       "\n",
       "   rougher.state.floatbank10_a_air  rougher.state.floatbank10_a_level  \\\n",
       "0                       999.706909                        -404.066986   \n",
       "1                      1000.286398                        -400.065196   \n",
       "2                       999.719565                        -400.074028   \n",
       "3                       999.814770                        -400.200179   \n",
       "4                       999.678690                        -399.752729   \n",
       "\n",
       "   rougher.state.floatbank10_b_air  rougher.state.floatbank10_b_level  \\\n",
       "0                      1603.011353                        -434.715027   \n",
       "1                      1600.754587                        -449.953435   \n",
       "2                      1599.337330                        -450.008530   \n",
       "3                      1600.059442                        -450.619948   \n",
       "4                      1600.208824                        -449.599614   \n",
       "\n",
       "   rougher.state.floatbank10_c_air  rougher.state.floatbank10_c_level  \\\n",
       "0                      1602.375000                        -442.204468   \n",
       "1                      1600.479580                        -449.830646   \n",
       "2                      1599.672797                        -449.954491   \n",
       "3                      1600.012842                        -449.910497   \n",
       "4                      1600.357732                        -450.034364   \n",
       "\n",
       "   rougher.state.floatbank10_d_air  rougher.state.floatbank10_d_level  \\\n",
       "0                      1598.937256                        -451.294128   \n",
       "1                      1600.527589                        -449.953649   \n",
       "2                      1599.849325                        -449.954185   \n",
       "3                      1597.725177                        -450.130127   \n",
       "4                      1599.759049                        -449.909799   \n",
       "\n",
       "   rougher.state.floatbank10_e_air  rougher.state.floatbank10_e_level  \\\n",
       "0                      1404.472046                        -455.462982   \n",
       "1                      1399.227084                        -450.869848   \n",
       "2                      1399.180945                        -449.937588   \n",
       "3                      1400.943157                        -450.030142   \n",
       "4                      1401.560902                        -448.877187   \n",
       "\n",
       "   rougher.state.floatbank10_f_air  rougher.state.floatbank10_f_level  \\\n",
       "0                      1416.354980                        -451.939636   \n",
       "1                      1399.719514                        -450.119001   \n",
       "2                      1400.316682                        -450.527147   \n",
       "3                      1400.234743                        -449.790835   \n",
       "4                      1401.160227                        -450.407128   \n",
       "\n",
       "   secondary_cleaner.output.tail_ag  secondary_cleaner.output.tail_pb  \\\n",
       "0                         14.500184                          4.694824   \n",
       "1                         14.265474                          4.592547   \n",
       "2                         14.115662                          4.624775   \n",
       "3                         13.732071                          4.482453   \n",
       "4                         14.079996                          4.470737   \n",
       "\n",
       "   secondary_cleaner.output.tail_sol  secondary_cleaner.output.tail_au  \\\n",
       "0                           8.764648                          2.606185   \n",
       "1                           9.001494                          2.488248   \n",
       "2                           8.842896                          2.458187   \n",
       "3                           9.122857                          2.322062   \n",
       "4                           8.871028                          2.330448   \n",
       "\n",
       "   secondary_cleaner.state.floatbank2_a_air  \\\n",
       "0                                 25.853109   \n",
       "1                                 25.880539   \n",
       "2                                 26.005245   \n",
       "3                                 25.942508   \n",
       "4                                 26.024787   \n",
       "\n",
       "   secondary_cleaner.state.floatbank2_a_level  \\\n",
       "0                                 -498.526489   \n",
       "1                                 -499.989656   \n",
       "2                                 -499.929616   \n",
       "3                                 -499.176749   \n",
       "4                                 -500.279091   \n",
       "\n",
       "   secondary_cleaner.state.floatbank2_b_air  \\\n",
       "0                                 23.893660   \n",
       "1                                 23.889530   \n",
       "2                                 23.886657   \n",
       "3                                 23.955516   \n",
       "4                                 23.955345   \n",
       "\n",
       "   secondary_cleaner.state.floatbank2_b_level  \\\n",
       "0                                 -501.406281   \n",
       "1                                 -500.372428   \n",
       "2                                 -499.951928   \n",
       "3                                 -499.848796   \n",
       "4                                 -500.593614   \n",
       "\n",
       "   secondary_cleaner.state.floatbank3_a_air  \\\n",
       "0                                 23.961798   \n",
       "1                                 23.970550   \n",
       "2                                 23.913535   \n",
       "3                                 23.966838   \n",
       "4                                 23.985703   \n",
       "\n",
       "   secondary_cleaner.state.floatbank3_a_level  \\\n",
       "0                                 -495.262817   \n",
       "1                                 -500.085473   \n",
       "2                                 -499.442343   \n",
       "3                                 -500.008812   \n",
       "4                                 -500.083811   \n",
       "\n",
       "   secondary_cleaner.state.floatbank3_b_air  \\\n",
       "0                                 21.940409   \n",
       "1                                 22.085714   \n",
       "2                                 23.957717   \n",
       "3                                 23.954443   \n",
       "4                                 23.958945   \n",
       "\n",
       "   secondary_cleaner.state.floatbank3_b_level  \\\n",
       "0                                 -499.340973   \n",
       "1                                 -499.446897   \n",
       "2                                 -499.901982   \n",
       "3                                 -499.944710   \n",
       "4                                 -499.990309   \n",
       "\n",
       "   secondary_cleaner.state.floatbank4_a_air  \\\n",
       "0                                 14.016835   \n",
       "1                                 13.992281   \n",
       "2                                 14.015015   \n",
       "3                                 14.036510   \n",
       "4                                 14.027298   \n",
       "\n",
       "   secondary_cleaner.state.floatbank4_a_level  \\\n",
       "0                                 -502.488007   \n",
       "1                                 -505.503262   \n",
       "2                                 -502.520901   \n",
       "3                                 -500.857308   \n",
       "4                                 -499.838632   \n",
       "\n",
       "   secondary_cleaner.state.floatbank4_b_air  \\\n",
       "0                                 12.099931   \n",
       "1                                 11.950531   \n",
       "2                                 11.912783   \n",
       "3                                 11.999550   \n",
       "4                                 11.953070   \n",
       "\n",
       "   secondary_cleaner.state.floatbank4_b_level  \\\n",
       "0                                 -504.715942   \n",
       "1                                 -501.331529   \n",
       "2                                 -501.133383   \n",
       "3                                 -501.193686   \n",
       "4                                 -501.053894   \n",
       "\n",
       "   secondary_cleaner.state.floatbank5_a_air  \\\n",
       "0                                  9.925633   \n",
       "1                                 10.039245   \n",
       "2                                 10.070913   \n",
       "3                                  9.970366   \n",
       "4                                  9.925709   \n",
       "\n",
       "   secondary_cleaner.state.floatbank5_a_level  \\\n",
       "0                                 -498.310211   \n",
       "1                                 -500.169983   \n",
       "2                                 -500.129135   \n",
       "3                                 -499.201640   \n",
       "4                                 -501.686727   \n",
       "\n",
       "   secondary_cleaner.state.floatbank5_b_air  \\\n",
       "0                                  8.079666   \n",
       "1                                  7.984757   \n",
       "2                                  8.013877   \n",
       "3                                  7.977324   \n",
       "4                                  7.894242   \n",
       "\n",
       "   secondary_cleaner.state.floatbank5_b_level  \\\n",
       "0                                 -500.470978   \n",
       "1                                 -500.582168   \n",
       "2                                 -500.517572   \n",
       "3                                 -500.255908   \n",
       "4                                 -500.356035   \n",
       "\n",
       "   secondary_cleaner.state.floatbank6_a_air  \\\n",
       "0                                 14.151341   \n",
       "1                                 13.998353   \n",
       "2                                 14.028663   \n",
       "3                                 14.005551   \n",
       "4                                 13.996647   \n",
       "\n",
       "   secondary_cleaner.state.floatbank6_a_level  \n",
       "0                                 -605.841980  \n",
       "1                                 -599.787184  \n",
       "2                                 -601.427363  \n",
       "3                                 -599.996129  \n",
       "4                                 -601.496691  "
      ]
     },
     "metadata": {},
     "output_type": "display_data"
    },
    {
     "name": "stdout",
     "output_type": "stream",
     "text": [
      "\n",
      "<class 'pandas.core.frame.DataFrame'>\n",
      "RangeIndex: 22716 entries, 0 to 22715\n",
      "Data columns (total 87 columns):\n",
      " #   Column                                              Non-Null Count  Dtype  \n",
      "---  ------                                              --------------  -----  \n",
      " 0   date                                                22716 non-null  object \n",
      " 1   final.output.concentrate_ag                         22627 non-null  float64\n",
      " 2   final.output.concentrate_pb                         22629 non-null  float64\n",
      " 3   final.output.concentrate_sol                        22331 non-null  float64\n",
      " 4   final.output.concentrate_au                         22630 non-null  float64\n",
      " 5   final.output.recovery                               20753 non-null  float64\n",
      " 6   final.output.tail_ag                                22633 non-null  float64\n",
      " 7   final.output.tail_pb                                22516 non-null  float64\n",
      " 8   final.output.tail_sol                               22445 non-null  float64\n",
      " 9   final.output.tail_au                                22635 non-null  float64\n",
      " 10  primary_cleaner.input.sulfate                       21107 non-null  float64\n",
      " 11  primary_cleaner.input.depressant                    21170 non-null  float64\n",
      " 12  primary_cleaner.input.feed_size                     22716 non-null  float64\n",
      " 13  primary_cleaner.input.xanthate                      21565 non-null  float64\n",
      " 14  primary_cleaner.output.concentrate_ag               22618 non-null  float64\n",
      " 15  primary_cleaner.output.concentrate_pb               22268 non-null  float64\n",
      " 16  primary_cleaner.output.concentrate_sol              21918 non-null  float64\n",
      " 17  primary_cleaner.output.concentrate_au               22618 non-null  float64\n",
      " 18  primary_cleaner.output.tail_ag                      22614 non-null  float64\n",
      " 19  primary_cleaner.output.tail_pb                      22594 non-null  float64\n",
      " 20  primary_cleaner.output.tail_sol                     22365 non-null  float64\n",
      " 21  primary_cleaner.output.tail_au                      22617 non-null  float64\n",
      " 22  primary_cleaner.state.floatbank8_a_air              22660 non-null  float64\n",
      " 23  primary_cleaner.state.floatbank8_a_level            22667 non-null  float64\n",
      " 24  primary_cleaner.state.floatbank8_b_air              22660 non-null  float64\n",
      " 25  primary_cleaner.state.floatbank8_b_level            22673 non-null  float64\n",
      " 26  primary_cleaner.state.floatbank8_c_air              22662 non-null  float64\n",
      " 27  primary_cleaner.state.floatbank8_c_level            22673 non-null  float64\n",
      " 28  primary_cleaner.state.floatbank8_d_air              22661 non-null  float64\n",
      " 29  primary_cleaner.state.floatbank8_d_level            22673 non-null  float64\n",
      " 30  rougher.calculation.sulfate_to_au_concentrate       22672 non-null  float64\n",
      " 31  rougher.calculation.floatbank10_sulfate_to_au_feed  22672 non-null  float64\n",
      " 32  rougher.calculation.floatbank11_sulfate_to_au_feed  22672 non-null  float64\n",
      " 33  rougher.calculation.au_pb_ratio                     21089 non-null  float64\n",
      " 34  rougher.input.feed_ag                               22618 non-null  float64\n",
      " 35  rougher.input.feed_pb                               22472 non-null  float64\n",
      " 36  rougher.input.feed_rate                             22163 non-null  float64\n",
      " 37  rougher.input.feed_size                             22277 non-null  float64\n",
      " 38  rougher.input.feed_sol                              22357 non-null  float64\n",
      " 39  rougher.input.feed_au                               22617 non-null  float64\n",
      " 40  rougher.input.floatbank10_sulfate                   21415 non-null  float64\n",
      " 41  rougher.input.floatbank10_xanthate                  22247 non-null  float64\n",
      " 42  rougher.input.floatbank11_sulfate                   22038 non-null  float64\n",
      " 43  rougher.input.floatbank11_xanthate                  20459 non-null  float64\n",
      " 44  rougher.output.concentrate_ag                       22618 non-null  float64\n",
      " 45  rougher.output.concentrate_pb                       22618 non-null  float64\n",
      " 46  rougher.output.concentrate_sol                      22526 non-null  float64\n",
      " 47  rougher.output.concentrate_au                       22618 non-null  float64\n",
      " 48  rougher.output.recovery                             19597 non-null  float64\n",
      " 49  rougher.output.tail_ag                              19979 non-null  float64\n",
      " 50  rougher.output.tail_pb                              22618 non-null  float64\n",
      " 51  rougher.output.tail_sol                             19980 non-null  float64\n",
      " 52  rougher.output.tail_au                              19980 non-null  float64\n",
      " 53  rougher.state.floatbank10_a_air                     22646 non-null  float64\n",
      " 54  rougher.state.floatbank10_a_level                   22647 non-null  float64\n",
      " 55  rougher.state.floatbank10_b_air                     22646 non-null  float64\n",
      " 56  rougher.state.floatbank10_b_level                   22647 non-null  float64\n",
      " 57  rougher.state.floatbank10_c_air                     22646 non-null  float64\n",
      " 58  rougher.state.floatbank10_c_level                   22654 non-null  float64\n",
      " 59  rougher.state.floatbank10_d_air                     22641 non-null  float64\n",
      " 60  rougher.state.floatbank10_d_level                   22649 non-null  float64\n",
      " 61  rougher.state.floatbank10_e_air                     22096 non-null  float64\n",
      " 62  rougher.state.floatbank10_e_level                   22649 non-null  float64\n",
      " 63  rougher.state.floatbank10_f_air                     22641 non-null  float64\n",
      " 64  rougher.state.floatbank10_f_level                   22642 non-null  float64\n",
      " 65  secondary_cleaner.output.tail_ag                    22616 non-null  float64\n",
      " 66  secondary_cleaner.output.tail_pb                    22600 non-null  float64\n",
      " 67  secondary_cleaner.output.tail_sol                   20501 non-null  float64\n",
      " 68  secondary_cleaner.output.tail_au                    22618 non-null  float64\n",
      " 69  secondary_cleaner.state.floatbank2_a_air            22333 non-null  float64\n",
      " 70  secondary_cleaner.state.floatbank2_a_level          22591 non-null  float64\n",
      " 71  secondary_cleaner.state.floatbank2_b_air            22538 non-null  float64\n",
      " 72  secondary_cleaner.state.floatbank2_b_level          22588 non-null  float64\n",
      " 73  secondary_cleaner.state.floatbank3_a_air            22585 non-null  float64\n",
      " 74  secondary_cleaner.state.floatbank3_a_level          22587 non-null  float64\n",
      " 75  secondary_cleaner.state.floatbank3_b_air            22592 non-null  float64\n",
      " 76  secondary_cleaner.state.floatbank3_b_level          22590 non-null  float64\n",
      " 77  secondary_cleaner.state.floatbank4_a_air            22571 non-null  float64\n",
      " 78  secondary_cleaner.state.floatbank4_a_level          22587 non-null  float64\n",
      " 79  secondary_cleaner.state.floatbank4_b_air            22608 non-null  float64\n",
      " 80  secondary_cleaner.state.floatbank4_b_level          22607 non-null  float64\n",
      " 81  secondary_cleaner.state.floatbank5_a_air            22615 non-null  float64\n",
      " 82  secondary_cleaner.state.floatbank5_a_level          22615 non-null  float64\n",
      " 83  secondary_cleaner.state.floatbank5_b_air            22615 non-null  float64\n",
      " 84  secondary_cleaner.state.floatbank5_b_level          22616 non-null  float64\n",
      " 85  secondary_cleaner.state.floatbank6_a_air            22597 non-null  float64\n",
      " 86  secondary_cleaner.state.floatbank6_a_level          22615 non-null  float64\n",
      "dtypes: float64(86), object(1)\n",
      "memory usage: 15.1+ MB\n",
      "\n"
     ]
    }
   ],
   "source": [
    "#get overview of data in df's\n",
    "for df in all_df:\n",
    "    print()\n",
    "    display(df_train.head())\n",
    "    print()\n",
    "    df.info()\n",
    "    print()"
   ]
  },
  {
   "cell_type": "markdown",
   "metadata": {},
   "source": [
    "All columns of our data set are numeric except for the 'date' column which is of type 'object'. I will change it to datetime data type to make it easier to work with moving forward."
   ]
  },
  {
   "cell_type": "code",
   "execution_count": 5,
   "metadata": {
    "scrolled": true
   },
   "outputs": [
    {
     "name": "stdout",
     "output_type": "stream",
     "text": [
      "datetime64[ns]\n",
      "datetime64[ns]\n",
      "datetime64[ns]\n"
     ]
    }
   ],
   "source": [
    "#convert date datatypes from object to datetime and check conversion\n",
    "for df in all_df:\n",
    "    df['date'] = pd.to_datetime(df['date'], format='%Y-%m-%d %H:%M:%S')\n",
    "    print(df.dtypes['date'])"
   ]
  },
  {
   "cell_type": "markdown",
   "metadata": {},
   "source": [
    "To check if gold recovery was calculated correctly for the target (*rougher.output.recovery*) in the training data set, I have to first simulate the recovery process using this formula to get the percent recovered:\n",
    "\n",
    "$$Recovery=\\frac{Cx(F-T)}{Fx(C-T)}\\times100$$\n",
    "\n",
    "**WHERE:**\n",
    "\n",
    "* **C** — share of gold in the concentrate right after flotation (for finding the rougher concentrate recovery)/after purification (for finding the final concentrate recovery)\n",
    "\n",
    "* **F** — share of gold in the feed before flotation (for finding the rougher concentrate recovery)/in the concentrate right after flotation (for finding the final concentrate recovery)\n",
    "\n",
    "* **T** — share of gold in the rougher tails right after flotation (for finding the rougher concentrate recovery)/after purification (for finding the final concentrate recovery)\n",
    "\n",
    "**To predict the coefficient I need to find the share of gold in the concentrate and the tails, taking into consideration both final and rougher concentrates**\n",
    "\n"
   ]
  },
  {
   "cell_type": "code",
   "execution_count": 6,
   "metadata": {},
   "outputs": [],
   "source": [
    "#function to check if recovery is calculated correctly\n",
    "def calc_recovery(df, C, F, T):\n",
    "    recovery = ((df[C] * (df[F] - df[T])) / (df[F] * (df[C] - df[T]))) * 100\n",
    "    return recovery\n"
   ]
  },
  {
   "cell_type": "code",
   "execution_count": 7,
   "metadata": {},
   "outputs": [
    {
     "name": "stdout",
     "output_type": "stream",
     "text": [
      "Mean Absolute Error: 9.303415616264301e-15\n",
      "Calculated Values Represent Actual Values: True\n"
     ]
    }
   ],
   "source": [
    "#find MAE between the calculated values and actual\n",
    "calc = calc_recovery(df_train.dropna(subset=['rougher.output.recovery']), 'rougher.output.concentrate_au', 'rougher.input.feed_au', 'rougher.output.tail_au', )\n",
    "actual = df_train['rougher.output.recovery'].dropna()\n",
    "mae = mean_absolute_error(actual, calc)\n",
    "close = np.allclose(actual, calc)\n",
    "print('Mean Absolute Error:', mae)\n",
    "print('Calculated Values Represent Actual Values:', close)"
   ]
  },
  {
   "cell_type": "markdown",
   "metadata": {},
   "source": [
    "Let's take a look at the feature discrepancy between the training and test sets and their data types"
   ]
  },
  {
   "cell_type": "code",
   "execution_count": 8,
   "metadata": {
    "scrolled": true
   },
   "outputs": [
    {
     "name": "stdout",
     "output_type": "stream",
     "text": [
      "<class 'pandas.core.frame.DataFrame'>\n",
      "RangeIndex: 16860 entries, 0 to 16859\n",
      "Data columns (total 34 columns):\n",
      " #   Column                                              Non-Null Count  Dtype  \n",
      "---  ------                                              --------------  -----  \n",
      " 0   final.output.concentrate_ag                         16788 non-null  float64\n",
      " 1   final.output.concentrate_pb                         16788 non-null  float64\n",
      " 2   final.output.concentrate_sol                        16490 non-null  float64\n",
      " 3   final.output.concentrate_au                         16789 non-null  float64\n",
      " 4   final.output.recovery                               15339 non-null  float64\n",
      " 5   final.output.tail_ag                                16794 non-null  float64\n",
      " 6   final.output.tail_pb                                16677 non-null  float64\n",
      " 7   final.output.tail_sol                               16715 non-null  float64\n",
      " 8   final.output.tail_au                                16794 non-null  float64\n",
      " 9   primary_cleaner.output.concentrate_ag               16778 non-null  float64\n",
      " 10  primary_cleaner.output.concentrate_pb               16502 non-null  float64\n",
      " 11  primary_cleaner.output.concentrate_sol              16224 non-null  float64\n",
      " 12  primary_cleaner.output.concentrate_au               16778 non-null  float64\n",
      " 13  primary_cleaner.output.tail_ag                      16777 non-null  float64\n",
      " 14  primary_cleaner.output.tail_pb                      16761 non-null  float64\n",
      " 15  primary_cleaner.output.tail_sol                     16579 non-null  float64\n",
      " 16  primary_cleaner.output.tail_au                      16777 non-null  float64\n",
      " 17  rougher.calculation.sulfate_to_au_concentrate       16833 non-null  float64\n",
      " 18  rougher.calculation.floatbank10_sulfate_to_au_feed  16833 non-null  float64\n",
      " 19  rougher.calculation.floatbank11_sulfate_to_au_feed  16833 non-null  float64\n",
      " 20  rougher.calculation.au_pb_ratio                     15618 non-null  float64\n",
      " 21  rougher.output.concentrate_ag                       16778 non-null  float64\n",
      " 22  rougher.output.concentrate_pb                       16778 non-null  float64\n",
      " 23  rougher.output.concentrate_sol                      16698 non-null  float64\n",
      " 24  rougher.output.concentrate_au                       16778 non-null  float64\n",
      " 25  rougher.output.recovery                             14287 non-null  float64\n",
      " 26  rougher.output.tail_ag                              14610 non-null  float64\n",
      " 27  rougher.output.tail_pb                              16778 non-null  float64\n",
      " 28  rougher.output.tail_sol                             14611 non-null  float64\n",
      " 29  rougher.output.tail_au                              14611 non-null  float64\n",
      " 30  secondary_cleaner.output.tail_ag                    16776 non-null  float64\n",
      " 31  secondary_cleaner.output.tail_pb                    16764 non-null  float64\n",
      " 32  secondary_cleaner.output.tail_sol                   14874 non-null  float64\n",
      " 33  secondary_cleaner.output.tail_au                    16778 non-null  float64\n",
      "dtypes: float64(34)\n",
      "memory usage: 4.4 MB\n"
     ]
    }
   ],
   "source": [
    "missing_features = df_train.drop(df_test.columns, axis=1)\n",
    "missing_features.info()"
   ]
  },
  {
   "cell_type": "markdown",
   "metadata": {},
   "source": [
    "There is a 34 feature discrepancy in the test set, including the target feature. These parameters are likely absent from the set due to being measured or calculated at a date after the test set was extracted. All feature data types are float64."
   ]
  },
  {
   "cell_type": "markdown",
   "metadata": {},
   "source": [
    "## Data Preprocessing"
   ]
  },
  {
   "cell_type": "code",
   "execution_count": 9,
   "metadata": {},
   "outputs": [
    {
     "name": "stdout",
     "output_type": "stream",
     "text": [
      "Duplicates: 0\n",
      "\n",
      "Missing:\n",
      "rougher.output.recovery                               2573\n",
      "rougher.output.tail_ag                                2250\n",
      "rougher.output.tail_sol                               2249\n",
      "rougher.output.tail_au                                2249\n",
      "secondary_cleaner.output.tail_sol                     1986\n",
      "rougher.input.floatbank11_xanthate                    1904\n",
      "final.output.recovery                                 1521\n",
      "primary_cleaner.input.sulfate                         1307\n",
      "primary_cleaner.input.depressant                      1262\n",
      "rougher.calculation.au_pb_ratio                       1242\n",
      "rougher.input.floatbank10_sulfate                     1044\n",
      "primary_cleaner.input.xanthate                         985\n",
      "primary_cleaner.output.concentrate_sol                 636\n",
      "rougher.input.floatbank11_sulfate                      623\n",
      "rougher.state.floatbank10_e_air                        603\n",
      "rougher.input.feed_rate                                513\n",
      "rougher.input.feed_size                                417\n",
      "final.output.concentrate_sol                           370\n",
      "secondary_cleaner.state.floatbank2_a_air               363\n",
      "primary_cleaner.output.concentrate_pb                  358\n",
      "rougher.input.floatbank10_xanthate                     346\n",
      "rougher.input.feed_sol                                 292\n",
      "primary_cleaner.output.tail_sol                        281\n",
      "rougher.input.feed_pb                                  228\n",
      "final.output.tail_pb                                   183\n",
      "rougher.output.concentrate_sol                         162\n",
      "secondary_cleaner.state.floatbank2_b_air               155\n",
      "final.output.tail_sol                                  145\n",
      "secondary_cleaner.state.floatbank4_a_air               129\n",
      "secondary_cleaner.state.floatbank3_a_level             113\n",
      "secondary_cleaner.state.floatbank4_a_level             113\n",
      "secondary_cleaner.state.floatbank2_b_level             112\n",
      "secondary_cleaner.state.floatbank3_b_level             110\n",
      "secondary_cleaner.state.floatbank2_a_level             109\n",
      "secondary_cleaner.state.floatbank3_b_air               108\n",
      "secondary_cleaner.state.floatbank6_a_air               103\n",
      "primary_cleaner.output.tail_pb                          99\n",
      "secondary_cleaner.state.floatbank3_a_air                97\n",
      "secondary_cleaner.output.tail_pb                        96\n",
      "secondary_cleaner.state.floatbank4_b_level              93\n",
      "secondary_cleaner.state.floatbank4_b_air                92\n",
      "secondary_cleaner.state.floatbank5_b_air                85\n",
      "secondary_cleaner.state.floatbank5_a_air                85\n",
      "secondary_cleaner.state.floatbank5_a_level              85\n",
      "secondary_cleaner.state.floatbank6_a_level              85\n",
      "secondary_cleaner.state.floatbank5_b_level              84\n",
      "secondary_cleaner.output.tail_ag                        84\n",
      "primary_cleaner.output.tail_ag                          83\n",
      "primary_cleaner.output.tail_au                          83\n",
      "rougher.input.feed_au                                   83\n",
      "rougher.output.concentrate_pb                           82\n",
      "secondary_cleaner.output.tail_au                        82\n",
      "rougher.output.concentrate_ag                           82\n",
      "primary_cleaner.output.concentrate_ag                   82\n",
      "primary_cleaner.output.concentrate_au                   82\n",
      "rougher.output.concentrate_au                           82\n",
      "rougher.output.tail_pb                                  82\n",
      "rougher.input.feed_ag                                   82\n",
      "final.output.concentrate_ag                             72\n",
      "final.output.concentrate_pb                             72\n",
      "final.output.concentrate_au                             71\n",
      "final.output.tail_au                                    66\n",
      "final.output.tail_ag                                    66\n",
      "rougher.state.floatbank10_d_air                         58\n",
      "rougher.state.floatbank10_f_air                         58\n",
      "rougher.state.floatbank10_f_level                       58\n",
      "rougher.state.floatbank10_b_level                       53\n",
      "rougher.state.floatbank10_b_air                         53\n",
      "rougher.state.floatbank10_a_air                         53\n",
      "rougher.state.floatbank10_a_level                       53\n",
      "rougher.state.floatbank10_c_air                         53\n",
      "rougher.state.floatbank10_d_level                       51\n",
      "rougher.state.floatbank10_e_level                       51\n",
      "rougher.state.floatbank10_c_level                       46\n",
      "primary_cleaner.state.floatbank8_b_air                  40\n",
      "primary_cleaner.state.floatbank8_a_air                  40\n",
      "primary_cleaner.state.floatbank8_d_air                  39\n",
      "primary_cleaner.state.floatbank8_c_air                  38\n",
      "primary_cleaner.state.floatbank8_a_level                33\n",
      "rougher.calculation.sulfate_to_au_concentrate           27\n",
      "primary_cleaner.state.floatbank8_b_level                27\n",
      "primary_cleaner.state.floatbank8_c_level                27\n",
      "primary_cleaner.state.floatbank8_d_level                27\n",
      "rougher.calculation.floatbank10_sulfate_to_au_feed      27\n",
      "rougher.calculation.floatbank11_sulfate_to_au_feed      27\n",
      "primary_cleaner.input.feed_size                          0\n",
      "date                                                     0\n",
      "dtype: int64\n",
      "\n",
      "(5843, 87)\n",
      "\n",
      "Duplicates: 0\n",
      "\n",
      "Missing:\n",
      "rougher.input.floatbank11_xanthate            353\n",
      "primary_cleaner.input.sulfate                 302\n",
      "primary_cleaner.input.depressant              284\n",
      "rougher.input.floatbank10_sulfate             257\n",
      "primary_cleaner.input.xanthate                166\n",
      "rougher.input.floatbank10_xanthate            123\n",
      "rougher.input.feed_sol                         67\n",
      "rougher.input.floatbank11_sulfate              55\n",
      "rougher.input.feed_rate                        40\n",
      "secondary_cleaner.state.floatbank3_a_air       34\n",
      "secondary_cleaner.state.floatbank2_b_air       23\n",
      "rougher.input.feed_size                        22\n",
      "secondary_cleaner.state.floatbank2_a_air       20\n",
      "rougher.state.floatbank10_a_air                17\n",
      "rougher.state.floatbank10_c_air                17\n",
      "rougher.state.floatbank10_d_air                17\n",
      "rougher.state.floatbank10_e_air                17\n",
      "rougher.state.floatbank10_b_air                17\n",
      "rougher.state.floatbank10_f_air                17\n",
      "secondary_cleaner.state.floatbank3_a_level     16\n",
      "secondary_cleaner.state.floatbank3_b_air       16\n",
      "secondary_cleaner.state.floatbank3_b_level     16\n",
      "secondary_cleaner.state.floatbank4_a_air       16\n",
      "secondary_cleaner.state.floatbank4_a_level     16\n",
      "secondary_cleaner.state.floatbank4_b_air       16\n",
      "secondary_cleaner.state.floatbank4_b_level     16\n",
      "secondary_cleaner.state.floatbank5_a_air       16\n",
      "secondary_cleaner.state.floatbank5_a_level     16\n",
      "secondary_cleaner.state.floatbank2_b_level     16\n",
      "secondary_cleaner.state.floatbank5_b_air       16\n",
      "secondary_cleaner.state.floatbank5_b_level     16\n",
      "secondary_cleaner.state.floatbank6_a_air       16\n",
      "secondary_cleaner.state.floatbank2_a_level     16\n",
      "rougher.state.floatbank10_b_level              16\n",
      "secondary_cleaner.state.floatbank6_a_level     16\n",
      "rougher.state.floatbank10_f_level              16\n",
      "rougher.state.floatbank10_e_level              16\n",
      "primary_cleaner.state.floatbank8_a_air         16\n",
      "primary_cleaner.state.floatbank8_a_level       16\n",
      "primary_cleaner.state.floatbank8_b_air         16\n",
      "primary_cleaner.state.floatbank8_b_level       16\n",
      "primary_cleaner.state.floatbank8_c_air         16\n",
      "primary_cleaner.state.floatbank8_c_level       16\n",
      "primary_cleaner.state.floatbank8_d_air         16\n",
      "primary_cleaner.state.floatbank8_d_level       16\n",
      "rougher.input.feed_ag                          16\n",
      "rougher.input.feed_pb                          16\n",
      "rougher.input.feed_au                          16\n",
      "rougher.state.floatbank10_a_level              16\n",
      "rougher.state.floatbank10_c_level              16\n",
      "rougher.state.floatbank10_d_level              16\n",
      "primary_cleaner.input.feed_size                 0\n",
      "date                                            0\n",
      "dtype: int64\n",
      "\n",
      "(473, 53)\n",
      "\n",
      "Duplicates: 0\n",
      "\n",
      "Missing:\n",
      "rougher.output.recovery                               3119\n",
      "rougher.output.tail_ag                                2737\n",
      "rougher.output.tail_au                                2736\n",
      "rougher.output.tail_sol                               2736\n",
      "rougher.input.floatbank11_xanthate                    2257\n",
      "secondary_cleaner.output.tail_sol                     2215\n",
      "final.output.recovery                                 1963\n",
      "rougher.calculation.au_pb_ratio                       1627\n",
      "primary_cleaner.input.sulfate                         1609\n",
      "primary_cleaner.input.depressant                      1546\n",
      "rougher.input.floatbank10_sulfate                     1301\n",
      "primary_cleaner.input.xanthate                        1151\n",
      "primary_cleaner.output.concentrate_sol                 798\n",
      "rougher.input.floatbank11_sulfate                      678\n",
      "rougher.state.floatbank10_e_air                        620\n",
      "rougher.input.feed_rate                                553\n",
      "rougher.input.floatbank10_xanthate                     469\n",
      "primary_cleaner.output.concentrate_pb                  448\n",
      "rougher.input.feed_size                                439\n",
      "final.output.concentrate_sol                           385\n",
      "secondary_cleaner.state.floatbank2_a_air               383\n",
      "rougher.input.feed_sol                                 359\n",
      "primary_cleaner.output.tail_sol                        351\n",
      "final.output.tail_sol                                  271\n",
      "rougher.input.feed_pb                                  244\n",
      "final.output.tail_pb                                   200\n",
      "rougher.output.concentrate_sol                         190\n",
      "secondary_cleaner.state.floatbank2_b_air               178\n",
      "secondary_cleaner.state.floatbank4_a_air               145\n",
      "secondary_cleaner.state.floatbank3_a_air               131\n",
      "secondary_cleaner.state.floatbank3_a_level             129\n",
      "secondary_cleaner.state.floatbank4_a_level             129\n",
      "secondary_cleaner.state.floatbank2_b_level             128\n",
      "secondary_cleaner.state.floatbank3_b_level             126\n",
      "secondary_cleaner.state.floatbank2_a_level             125\n",
      "secondary_cleaner.state.floatbank3_b_air               124\n",
      "primary_cleaner.output.tail_pb                         122\n",
      "secondary_cleaner.state.floatbank6_a_air               119\n",
      "secondary_cleaner.output.tail_pb                       116\n",
      "secondary_cleaner.state.floatbank4_b_level             109\n",
      "secondary_cleaner.state.floatbank4_b_air               108\n",
      "primary_cleaner.output.tail_ag                         102\n",
      "secondary_cleaner.state.floatbank5_a_level             101\n",
      "secondary_cleaner.state.floatbank5_b_air               101\n",
      "secondary_cleaner.state.floatbank5_a_air               101\n",
      "secondary_cleaner.state.floatbank6_a_level             101\n",
      "secondary_cleaner.state.floatbank5_b_level             100\n",
      "secondary_cleaner.output.tail_ag                       100\n",
      "primary_cleaner.output.tail_au                          99\n",
      "rougher.input.feed_au                                   99\n",
      "rougher.output.concentrate_pb                           98\n",
      "primary_cleaner.output.concentrate_ag                   98\n",
      "secondary_cleaner.output.tail_au                        98\n",
      "rougher.output.concentrate_au                           98\n",
      "primary_cleaner.output.concentrate_au                   98\n",
      "rougher.output.tail_pb                                  98\n",
      "rougher.input.feed_ag                                   98\n",
      "rougher.output.concentrate_ag                           98\n",
      "final.output.concentrate_ag                             89\n",
      "final.output.concentrate_pb                             87\n",
      "final.output.concentrate_au                             86\n",
      "final.output.tail_ag                                    83\n",
      "final.output.tail_au                                    81\n",
      "rougher.state.floatbank10_d_air                         75\n",
      "rougher.state.floatbank10_f_air                         75\n",
      "rougher.state.floatbank10_f_level                       74\n",
      "rougher.state.floatbank10_b_air                         70\n",
      "rougher.state.floatbank10_a_air                         70\n",
      "rougher.state.floatbank10_c_air                         70\n",
      "rougher.state.floatbank10_b_level                       69\n",
      "rougher.state.floatbank10_a_level                       69\n",
      "rougher.state.floatbank10_d_level                       67\n",
      "rougher.state.floatbank10_e_level                       67\n",
      "rougher.state.floatbank10_c_level                       62\n",
      "primary_cleaner.state.floatbank8_b_air                  56\n",
      "primary_cleaner.state.floatbank8_a_air                  56\n",
      "primary_cleaner.state.floatbank8_d_air                  55\n",
      "primary_cleaner.state.floatbank8_c_air                  54\n",
      "primary_cleaner.state.floatbank8_a_level                49\n",
      "rougher.calculation.floatbank10_sulfate_to_au_feed      44\n",
      "rougher.calculation.sulfate_to_au_concentrate           44\n",
      "rougher.calculation.floatbank11_sulfate_to_au_feed      44\n",
      "primary_cleaner.state.floatbank8_b_level                43\n",
      "primary_cleaner.state.floatbank8_c_level                43\n",
      "primary_cleaner.state.floatbank8_d_level                43\n",
      "primary_cleaner.input.feed_size                          0\n",
      "date                                                     0\n",
      "dtype: int64\n",
      "\n",
      "(6622, 87)\n",
      "\n"
     ]
    }
   ],
   "source": [
    "#check for duplicate rows, columns missing values, and rows missing values \n",
    "for df in all_df:\n",
    "    print('Duplicates:', df.duplicated().sum())\n",
    "    print()\n",
    "    print('Missing:')\n",
    "    print(df.isnull().sum().sort_values(ascending=False))\n",
    "    print()\n",
    "    print(df[df.isnull().sum(axis=1)>0].shape)\n",
    "    print()"
   ]
  },
  {
   "cell_type": "markdown",
   "metadata": {},
   "source": [
    "There are quite a few missing values in the data, however no duplicate rows.  We should remove any rows from the target features (*rougher.output.recovery & final.output.recovery*) with missing values as to not skew our model. However, since a total of 6622 of 22716 rows are missing values, which is close to 30% of all rows, we can't discard all rows missing values. Measurements close in date/time proximity appear to be somewhat similar across all rows, so I'll forward fill some of the missing values based on the time the sample was taken, however any missing values that remain afterward will also have to be dropped.\n"
   ]
  },
  {
   "cell_type": "code",
   "execution_count": 10,
   "metadata": {},
   "outputs": [],
   "source": [
    "def preprocess_df(df):\n",
    "    df = df.groupby(df['date'].dt.date).ffill()\n",
    "    return df.dropna()"
   ]
  },
  {
   "cell_type": "code",
   "execution_count": 11,
   "metadata": {},
   "outputs": [
    {
     "name": "stdout",
     "output_type": "stream",
     "text": [
      "(12927, 87) (5597, 53) (18274, 87)\n"
     ]
    }
   ],
   "source": [
    "# remove null values from the target columns\n",
    "df_train = df_train[df_train['rougher.output.recovery'].notnull() | df_train['final.output.recovery'].notnull()]\n",
    "df_source = df_source[df_source['rougher.output.recovery'].notnull() | df_source['final.output.recovery'].notnull()]\n",
    "\n",
    "#forward fill as many values as possible & drop the remaining missing values\n",
    "df_train = preprocess_df(df_train)\n",
    "df_test = preprocess_df(df_test)\n",
    "df_source = preprocess_df(df_source)\n",
    "\n",
    "print(df_train.shape, df_test.shape, df_source.shape)"
   ]
  },
  {
   "cell_type": "code",
   "execution_count": 12,
   "metadata": {},
   "outputs": [
    {
     "name": "stdout",
     "output_type": "stream",
     "text": [
      "(0, 87) (0, 53) (0, 87)\n"
     ]
    }
   ],
   "source": [
    "#check if all null rows are now removed\n",
    "print(\n",
    "      df_train[df_train.isnull().sum(axis=1)>0].shape, \n",
    "      df_test[df_test.isnull().sum(axis=1)>0].shape, \n",
    "      df_source[df_source.isnull().sum(axis=1)>0].shape\n",
    "    )"
   ]
  },
  {
   "cell_type": "markdown",
   "metadata": {},
   "source": [
    "Now that the missing data has been addressed, I will add the target columns to the test set and align the training set to match the test features in order to make them suitable to select and train our model."
   ]
  },
  {
   "cell_type": "code",
   "execution_count": 13,
   "metadata": {
    "scrolled": true
   },
   "outputs": [
    {
     "name": "stdout",
     "output_type": "stream",
     "text": [
      "(5347, 55)\n",
      "\n",
      "<class 'pandas.core.frame.DataFrame'>\n",
      "Int64Index: 5347 entries, 0 to 5346\n",
      "Data columns (total 55 columns):\n",
      " #   Column                                      Non-Null Count  Dtype         \n",
      "---  ------                                      --------------  -----         \n",
      " 0   date                                        5347 non-null   datetime64[ns]\n",
      " 1   primary_cleaner.input.sulfate               5347 non-null   float64       \n",
      " 2   primary_cleaner.input.depressant            5347 non-null   float64       \n",
      " 3   primary_cleaner.input.feed_size             5347 non-null   float64       \n",
      " 4   primary_cleaner.input.xanthate              5347 non-null   float64       \n",
      " 5   primary_cleaner.state.floatbank8_a_air      5347 non-null   float64       \n",
      " 6   primary_cleaner.state.floatbank8_a_level    5347 non-null   float64       \n",
      " 7   primary_cleaner.state.floatbank8_b_air      5347 non-null   float64       \n",
      " 8   primary_cleaner.state.floatbank8_b_level    5347 non-null   float64       \n",
      " 9   primary_cleaner.state.floatbank8_c_air      5347 non-null   float64       \n",
      " 10  primary_cleaner.state.floatbank8_c_level    5347 non-null   float64       \n",
      " 11  primary_cleaner.state.floatbank8_d_air      5347 non-null   float64       \n",
      " 12  primary_cleaner.state.floatbank8_d_level    5347 non-null   float64       \n",
      " 13  rougher.input.feed_ag                       5347 non-null   float64       \n",
      " 14  rougher.input.feed_pb                       5347 non-null   float64       \n",
      " 15  rougher.input.feed_rate                     5347 non-null   float64       \n",
      " 16  rougher.input.feed_size                     5347 non-null   float64       \n",
      " 17  rougher.input.feed_sol                      5347 non-null   float64       \n",
      " 18  rougher.input.feed_au                       5347 non-null   float64       \n",
      " 19  rougher.input.floatbank10_sulfate           5347 non-null   float64       \n",
      " 20  rougher.input.floatbank10_xanthate          5347 non-null   float64       \n",
      " 21  rougher.input.floatbank11_sulfate           5347 non-null   float64       \n",
      " 22  rougher.input.floatbank11_xanthate          5347 non-null   float64       \n",
      " 23  rougher.state.floatbank10_a_air             5347 non-null   float64       \n",
      " 24  rougher.state.floatbank10_a_level           5347 non-null   float64       \n",
      " 25  rougher.state.floatbank10_b_air             5347 non-null   float64       \n",
      " 26  rougher.state.floatbank10_b_level           5347 non-null   float64       \n",
      " 27  rougher.state.floatbank10_c_air             5347 non-null   float64       \n",
      " 28  rougher.state.floatbank10_c_level           5347 non-null   float64       \n",
      " 29  rougher.state.floatbank10_d_air             5347 non-null   float64       \n",
      " 30  rougher.state.floatbank10_d_level           5347 non-null   float64       \n",
      " 31  rougher.state.floatbank10_e_air             5347 non-null   float64       \n",
      " 32  rougher.state.floatbank10_e_level           5347 non-null   float64       \n",
      " 33  rougher.state.floatbank10_f_air             5347 non-null   float64       \n",
      " 34  rougher.state.floatbank10_f_level           5347 non-null   float64       \n",
      " 35  secondary_cleaner.state.floatbank2_a_air    5347 non-null   float64       \n",
      " 36  secondary_cleaner.state.floatbank2_a_level  5347 non-null   float64       \n",
      " 37  secondary_cleaner.state.floatbank2_b_air    5347 non-null   float64       \n",
      " 38  secondary_cleaner.state.floatbank2_b_level  5347 non-null   float64       \n",
      " 39  secondary_cleaner.state.floatbank3_a_air    5347 non-null   float64       \n",
      " 40  secondary_cleaner.state.floatbank3_a_level  5347 non-null   float64       \n",
      " 41  secondary_cleaner.state.floatbank3_b_air    5347 non-null   float64       \n",
      " 42  secondary_cleaner.state.floatbank3_b_level  5347 non-null   float64       \n",
      " 43  secondary_cleaner.state.floatbank4_a_air    5347 non-null   float64       \n",
      " 44  secondary_cleaner.state.floatbank4_a_level  5347 non-null   float64       \n",
      " 45  secondary_cleaner.state.floatbank4_b_air    5347 non-null   float64       \n",
      " 46  secondary_cleaner.state.floatbank4_b_level  5347 non-null   float64       \n",
      " 47  secondary_cleaner.state.floatbank5_a_air    5347 non-null   float64       \n",
      " 48  secondary_cleaner.state.floatbank5_a_level  5347 non-null   float64       \n",
      " 49  secondary_cleaner.state.floatbank5_b_air    5347 non-null   float64       \n",
      " 50  secondary_cleaner.state.floatbank5_b_level  5347 non-null   float64       \n",
      " 51  secondary_cleaner.state.floatbank6_a_air    5347 non-null   float64       \n",
      " 52  secondary_cleaner.state.floatbank6_a_level  5347 non-null   float64       \n",
      " 53  rougher.output.recovery                     5347 non-null   float64       \n",
      " 54  final.output.recovery                       5347 non-null   float64       \n",
      "dtypes: datetime64[ns](1), float64(54)\n",
      "memory usage: 2.3 MB\n",
      "None\n"
     ]
    }
   ],
   "source": [
    "#merge test set with missing target data\n",
    "df_test = df_test.merge(df_source[['date', 'rougher.output.recovery', 'final.output.recovery']], on='date', how='inner')\n",
    "print(df_test.shape)\n",
    "print()\n",
    "print(df_test.info())"
   ]
  },
  {
   "cell_type": "code",
   "execution_count": 14,
   "metadata": {},
   "outputs": [
    {
     "name": "stdout",
     "output_type": "stream",
     "text": [
      "(12927, 55)\n",
      "\n",
      "<class 'pandas.core.frame.DataFrame'>\n",
      "Int64Index: 12927 entries, 0 to 16859\n",
      "Data columns (total 55 columns):\n",
      " #   Column                                      Non-Null Count  Dtype         \n",
      "---  ------                                      --------------  -----         \n",
      " 0   date                                        12927 non-null  datetime64[ns]\n",
      " 1   primary_cleaner.input.sulfate               12927 non-null  float64       \n",
      " 2   primary_cleaner.input.depressant            12927 non-null  float64       \n",
      " 3   primary_cleaner.input.feed_size             12927 non-null  float64       \n",
      " 4   primary_cleaner.input.xanthate              12927 non-null  float64       \n",
      " 5   primary_cleaner.state.floatbank8_a_air      12927 non-null  float64       \n",
      " 6   primary_cleaner.state.floatbank8_a_level    12927 non-null  float64       \n",
      " 7   primary_cleaner.state.floatbank8_b_air      12927 non-null  float64       \n",
      " 8   primary_cleaner.state.floatbank8_b_level    12927 non-null  float64       \n",
      " 9   primary_cleaner.state.floatbank8_c_air      12927 non-null  float64       \n",
      " 10  primary_cleaner.state.floatbank8_c_level    12927 non-null  float64       \n",
      " 11  primary_cleaner.state.floatbank8_d_air      12927 non-null  float64       \n",
      " 12  primary_cleaner.state.floatbank8_d_level    12927 non-null  float64       \n",
      " 13  rougher.input.feed_ag                       12927 non-null  float64       \n",
      " 14  rougher.input.feed_pb                       12927 non-null  float64       \n",
      " 15  rougher.input.feed_rate                     12927 non-null  float64       \n",
      " 16  rougher.input.feed_size                     12927 non-null  float64       \n",
      " 17  rougher.input.feed_sol                      12927 non-null  float64       \n",
      " 18  rougher.input.feed_au                       12927 non-null  float64       \n",
      " 19  rougher.input.floatbank10_sulfate           12927 non-null  float64       \n",
      " 20  rougher.input.floatbank10_xanthate          12927 non-null  float64       \n",
      " 21  rougher.input.floatbank11_sulfate           12927 non-null  float64       \n",
      " 22  rougher.input.floatbank11_xanthate          12927 non-null  float64       \n",
      " 23  rougher.state.floatbank10_a_air             12927 non-null  float64       \n",
      " 24  rougher.state.floatbank10_a_level           12927 non-null  float64       \n",
      " 25  rougher.state.floatbank10_b_air             12927 non-null  float64       \n",
      " 26  rougher.state.floatbank10_b_level           12927 non-null  float64       \n",
      " 27  rougher.state.floatbank10_c_air             12927 non-null  float64       \n",
      " 28  rougher.state.floatbank10_c_level           12927 non-null  float64       \n",
      " 29  rougher.state.floatbank10_d_air             12927 non-null  float64       \n",
      " 30  rougher.state.floatbank10_d_level           12927 non-null  float64       \n",
      " 31  rougher.state.floatbank10_e_air             12927 non-null  float64       \n",
      " 32  rougher.state.floatbank10_e_level           12927 non-null  float64       \n",
      " 33  rougher.state.floatbank10_f_air             12927 non-null  float64       \n",
      " 34  rougher.state.floatbank10_f_level           12927 non-null  float64       \n",
      " 35  secondary_cleaner.state.floatbank2_a_air    12927 non-null  float64       \n",
      " 36  secondary_cleaner.state.floatbank2_a_level  12927 non-null  float64       \n",
      " 37  secondary_cleaner.state.floatbank2_b_air    12927 non-null  float64       \n",
      " 38  secondary_cleaner.state.floatbank2_b_level  12927 non-null  float64       \n",
      " 39  secondary_cleaner.state.floatbank3_a_air    12927 non-null  float64       \n",
      " 40  secondary_cleaner.state.floatbank3_a_level  12927 non-null  float64       \n",
      " 41  secondary_cleaner.state.floatbank3_b_air    12927 non-null  float64       \n",
      " 42  secondary_cleaner.state.floatbank3_b_level  12927 non-null  float64       \n",
      " 43  secondary_cleaner.state.floatbank4_a_air    12927 non-null  float64       \n",
      " 44  secondary_cleaner.state.floatbank4_a_level  12927 non-null  float64       \n",
      " 45  secondary_cleaner.state.floatbank4_b_air    12927 non-null  float64       \n",
      " 46  secondary_cleaner.state.floatbank4_b_level  12927 non-null  float64       \n",
      " 47  secondary_cleaner.state.floatbank5_a_air    12927 non-null  float64       \n",
      " 48  secondary_cleaner.state.floatbank5_a_level  12927 non-null  float64       \n",
      " 49  secondary_cleaner.state.floatbank5_b_air    12927 non-null  float64       \n",
      " 50  secondary_cleaner.state.floatbank5_b_level  12927 non-null  float64       \n",
      " 51  secondary_cleaner.state.floatbank6_a_air    12927 non-null  float64       \n",
      " 52  secondary_cleaner.state.floatbank6_a_level  12927 non-null  float64       \n",
      " 53  rougher.output.recovery                     12927 non-null  float64       \n",
      " 54  final.output.recovery                       12927 non-null  float64       \n",
      "dtypes: datetime64[ns](1), float64(54)\n",
      "memory usage: 5.5 MB\n",
      "None\n"
     ]
    }
   ],
   "source": [
    "#match train set features with test set features\n",
    "test_cols = df_test.columns.values.tolist()\n",
    "df_train = df_train[test_cols]\n",
    "print(df_train.shape)\n",
    "print()\n",
    "print(df_train.info())"
   ]
  },
  {
   "cell_type": "markdown",
   "metadata": {},
   "source": [
    "## Data Analysis"
   ]
  },
  {
   "cell_type": "markdown",
   "metadata": {},
   "source": [
    "### Change in concentration through the purification process by metal"
   ]
  },
  {
   "cell_type": "code",
   "execution_count": 15,
   "metadata": {},
   "outputs": [],
   "source": [
    "#function to visually compare Au, Ag, Pb through the purification process\n",
    "stages = ['rougher.input.feed_{}', \n",
    "          'rougher.output.concentrate_{}', \n",
    "          'primary_cleaner.output.concentrate_{}',\n",
    "          'final.output.concentrate_{}']\n",
    "\n",
    "def pure_metal(metal):\n",
    "    change = [i.format(metal) for i in stages]\n",
    "    for j in change:\n",
    "        df_source[j].hist(alpha=0.5, bins=30)\n",
    "    plt.legend(change)"
   ]
  },
  {
   "cell_type": "code",
   "execution_count": 16,
   "metadata": {},
   "outputs": [
    {
     "data": {
      "image/png": "[encoded data removed]",
      "text/plain": [
       "<Figure size 640x480 with 1 Axes>"
      ]
     },
     "metadata": {},
     "output_type": "display_data"
    },
    {
     "data": {
      "image/png": "[encoded data removed]",
      "text/plain": [
       "<Figure size 640x480 with 1 Axes>"
      ]
     },
     "metadata": {},
     "output_type": "display_data"
    },
    {
     "data": {
      "image/png": "[encoded data removed]",
      "text/plain": [
       "<Figure size 640x480 with 1 Axes>"
      ]
     },
     "metadata": {},
     "output_type": "display_data"
    }
   ],
   "source": [
    "#plot metal purification changes\n",
    "metals = {'Gold': 'au', 'Silver': 'ag', 'Lead': 'pb'}\n",
    "for key, value in metals.items():\n",
    "    pure_metal(value)\n",
    "    plt.title(f'{key} Concentration Change Through Purification')\n",
    "    plt.xlabel('Concentration')\n",
    "    plt.ylabel(key)\n",
    "    plt.show()"
   ]
  },
  {
   "cell_type": "markdown",
   "metadata": {},
   "source": [
    "### Compare distribution of particle feed size from the train and test sets"
   ]
  },
  {
   "cell_type": "code",
   "execution_count": 17,
   "metadata": {},
   "outputs": [
    {
     "data": {
      "image/png": "[encoded data removed]",
      "text/plain": [
       "<Figure size 800x600 with 1 Axes>"
      ]
     },
     "metadata": {},
     "output_type": "display_data"
    }
   ],
   "source": [
    "#compare feed size between train and test sets\n",
    "x = df_train['rougher.input.feed_size']\n",
    "y = df_test['rougher.input.feed_size']\n",
    "plt.figure(figsize=(8, 6))\n",
    "plt.hist([x, y], color=['y', 'r'], alpha=0.5, bins=50, density=True)\n",
    "plt.title('Distributions of Feed Size: Train vs. Test')\n",
    "plt.xlabel('Size')\n",
    "plt.ylabel('Density')\n",
    "plt.legend(['Train', 'Test'])\n",
    "plt.show()"
   ]
  },
  {
   "cell_type": "markdown",
   "metadata": {},
   "source": [
    "The particle feed size looks to have a relatively similar distribution among both the train and test sets. Model evaluation with respect to particle input size should not be thrown off to any significant degree. "
   ]
  },
  {
   "cell_type": "markdown",
   "metadata": {},
   "source": [
    "### Total concentration of substance by process stage"
   ]
  },
  {
   "cell_type": "code",
   "execution_count": 18,
   "metadata": {},
   "outputs": [],
   "source": [
    "#split up the stages of purification for all substances\n",
    "sub_input = ['rougher.input.feed_au',\n",
    "            'rougher.input.feed_ag',\n",
    "            'rougher.input.feed_pb',\n",
    "            'rougher.input.feed_sol']\n",
    "    \n",
    "sub_output = ['rougher.output.concentrate_au',\n",
    "             'rougher.output.concentrate_ag',\n",
    "             'rougher.output.concentrate_pb',\n",
    "             'rougher.output.concentrate_sol']\n",
    "\n",
    "sub_clean = ['primary_cleaner.output.concentrate_au', \n",
    "            'primary_cleaner.output.concentrate_ag',\n",
    "           'primary_cleaner.output.concentrate_pb',\n",
    "           'primary_cleaner.output.concentrate_sol']\n",
    "\n",
    "sub_final = ['final.output.concentrate_au',\n",
    "            'final.output.concentrate_ag',\n",
    "            'final.output.concentrate_pb',\n",
    "            'final.output.concentrate_sol']\n"
   ]
  },
  {
   "cell_type": "code",
   "execution_count": 19,
   "metadata": {
    "scrolled": false
   },
   "outputs": [
    {
     "data": {
      "image/png": "[encoded data removed]",
      "text/plain": [
       "<Figure size 800x600 with 1 Axes>"
      ]
     },
     "metadata": {},
     "output_type": "display_data"
    }
   ],
   "source": [
    "#plot distribution of concentrations of all substances by step\n",
    "plt.figure(figsize=(8, 6))\n",
    "plt.hist([df_source[sub_input].sum(axis=1), \n",
    "          df_source[sub_output].sum(axis=1),\n",
    "          df_source[sub_clean].sum(axis=1),\n",
    "          df_source[sub_final].sum(axis=1)],\n",
    "          bins=35, alpha=0.5)\n",
    "plt.legend(['Input', 'Output', 'Clean', 'Final'])          \n",
    "plt.title(f'Distribution of Substance Concentrations By Stage')\n",
    "plt.xlabel('Concentration')\n",
    "plt.ylabel('Frequency')\n",
    "plt.show()"
   ]
  },
  {
   "cell_type": "markdown",
   "metadata": {},
   "source": [
    "Looking at the substance concentrations throughout the refinement stages as well as each metal through the series process, we can see an abnormality in the zero range where, presumably, either particles were too small to measure, mismeasured, or missed all together. These outliers will need to be removed to prevent bias being intoduced into the model.  I will remove them from the train and test sets next, as those are the ones that will be used in model selection and training."
   ]
  },
  {
   "cell_type": "markdown",
   "metadata": {},
   "source": [
    "### Remove outliers"
   ]
  },
  {
   "cell_type": "code",
   "execution_count": 20,
   "metadata": {
    "scrolled": true
   },
   "outputs": [
    {
     "name": "stdout",
     "output_type": "stream",
     "text": [
      "(12836, 55) (5347, 55)\n"
     ]
    },
    {
     "data": {
      "text/html": [
       "<div>\n",
       "<style scoped>\n",
       "    .dataframe tbody tr th:only-of-type {\n",
       "        vertical-align: middle;\n",
       "    }\n",
       "\n",
       "    .dataframe tbody tr th {\n",
       "        vertical-align: top;\n",
       "    }\n",
       "\n",
       "    .dataframe thead th {\n",
       "        text-align: right;\n",
       "    }\n",
       "</style>\n",
       "<table border=\"1\" class=\"dataframe\">\n",
       "  <thead>\n",
       "    <tr style=\"text-align: right;\">\n",
       "      <th></th>\n",
       "      <th>date</th>\n",
       "      <th>primary_cleaner.input.sulfate</th>\n",
       "      <th>primary_cleaner.input.depressant</th>\n",
       "      <th>primary_cleaner.input.feed_size</th>\n",
       "      <th>primary_cleaner.input.xanthate</th>\n",
       "      <th>primary_cleaner.state.floatbank8_a_air</th>\n",
       "      <th>primary_cleaner.state.floatbank8_a_level</th>\n",
       "      <th>primary_cleaner.state.floatbank8_b_air</th>\n",
       "      <th>primary_cleaner.state.floatbank8_b_level</th>\n",
       "      <th>primary_cleaner.state.floatbank8_c_air</th>\n",
       "      <th>primary_cleaner.state.floatbank8_c_level</th>\n",
       "      <th>primary_cleaner.state.floatbank8_d_air</th>\n",
       "      <th>primary_cleaner.state.floatbank8_d_level</th>\n",
       "      <th>rougher.input.feed_ag</th>\n",
       "      <th>rougher.input.feed_pb</th>\n",
       "      <th>rougher.input.feed_rate</th>\n",
       "      <th>rougher.input.feed_size</th>\n",
       "      <th>rougher.input.feed_sol</th>\n",
       "      <th>rougher.input.feed_au</th>\n",
       "      <th>rougher.input.floatbank10_sulfate</th>\n",
       "      <th>rougher.input.floatbank10_xanthate</th>\n",
       "      <th>rougher.input.floatbank11_sulfate</th>\n",
       "      <th>rougher.input.floatbank11_xanthate</th>\n",
       "      <th>rougher.state.floatbank10_a_air</th>\n",
       "      <th>rougher.state.floatbank10_a_level</th>\n",
       "      <th>rougher.state.floatbank10_b_air</th>\n",
       "      <th>rougher.state.floatbank10_b_level</th>\n",
       "      <th>rougher.state.floatbank10_c_air</th>\n",
       "      <th>rougher.state.floatbank10_c_level</th>\n",
       "      <th>rougher.state.floatbank10_d_air</th>\n",
       "      <th>rougher.state.floatbank10_d_level</th>\n",
       "      <th>rougher.state.floatbank10_e_air</th>\n",
       "      <th>rougher.state.floatbank10_e_level</th>\n",
       "      <th>rougher.state.floatbank10_f_air</th>\n",
       "      <th>rougher.state.floatbank10_f_level</th>\n",
       "      <th>secondary_cleaner.state.floatbank2_a_air</th>\n",
       "      <th>secondary_cleaner.state.floatbank2_a_level</th>\n",
       "      <th>secondary_cleaner.state.floatbank2_b_air</th>\n",
       "      <th>secondary_cleaner.state.floatbank2_b_level</th>\n",
       "      <th>secondary_cleaner.state.floatbank3_a_air</th>\n",
       "      <th>secondary_cleaner.state.floatbank3_a_level</th>\n",
       "      <th>secondary_cleaner.state.floatbank3_b_air</th>\n",
       "      <th>secondary_cleaner.state.floatbank3_b_level</th>\n",
       "      <th>secondary_cleaner.state.floatbank4_a_air</th>\n",
       "      <th>secondary_cleaner.state.floatbank4_a_level</th>\n",
       "      <th>secondary_cleaner.state.floatbank4_b_air</th>\n",
       "      <th>secondary_cleaner.state.floatbank4_b_level</th>\n",
       "      <th>secondary_cleaner.state.floatbank5_a_air</th>\n",
       "      <th>secondary_cleaner.state.floatbank5_a_level</th>\n",
       "      <th>secondary_cleaner.state.floatbank5_b_air</th>\n",
       "      <th>secondary_cleaner.state.floatbank5_b_level</th>\n",
       "      <th>secondary_cleaner.state.floatbank6_a_air</th>\n",
       "      <th>secondary_cleaner.state.floatbank6_a_level</th>\n",
       "      <th>rougher.output.recovery</th>\n",
       "      <th>final.output.recovery</th>\n",
       "    </tr>\n",
       "  </thead>\n",
       "  <tbody>\n",
       "  </tbody>\n",
       "</table>\n",
       "</div>"
      ],
      "text/plain": [
       "Empty DataFrame\n",
       "Columns: [date, primary_cleaner.input.sulfate, primary_cleaner.input.depressant, primary_cleaner.input.feed_size, primary_cleaner.input.xanthate, primary_cleaner.state.floatbank8_a_air, primary_cleaner.state.floatbank8_a_level, primary_cleaner.state.floatbank8_b_air, primary_cleaner.state.floatbank8_b_level, primary_cleaner.state.floatbank8_c_air, primary_cleaner.state.floatbank8_c_level, primary_cleaner.state.floatbank8_d_air, primary_cleaner.state.floatbank8_d_level, rougher.input.feed_ag, rougher.input.feed_pb, rougher.input.feed_rate, rougher.input.feed_size, rougher.input.feed_sol, rougher.input.feed_au, rougher.input.floatbank10_sulfate, rougher.input.floatbank10_xanthate, rougher.input.floatbank11_sulfate, rougher.input.floatbank11_xanthate, rougher.state.floatbank10_a_air, rougher.state.floatbank10_a_level, rougher.state.floatbank10_b_air, rougher.state.floatbank10_b_level, rougher.state.floatbank10_c_air, rougher.state.floatbank10_c_level, rougher.state.floatbank10_d_air, rougher.state.floatbank10_d_level, rougher.state.floatbank10_e_air, rougher.state.floatbank10_e_level, rougher.state.floatbank10_f_air, rougher.state.floatbank10_f_level, secondary_cleaner.state.floatbank2_a_air, secondary_cleaner.state.floatbank2_a_level, secondary_cleaner.state.floatbank2_b_air, secondary_cleaner.state.floatbank2_b_level, secondary_cleaner.state.floatbank3_a_air, secondary_cleaner.state.floatbank3_a_level, secondary_cleaner.state.floatbank3_b_air, secondary_cleaner.state.floatbank3_b_level, secondary_cleaner.state.floatbank4_a_air, secondary_cleaner.state.floatbank4_a_level, secondary_cleaner.state.floatbank4_b_air, secondary_cleaner.state.floatbank4_b_level, secondary_cleaner.state.floatbank5_a_air, secondary_cleaner.state.floatbank5_a_level, secondary_cleaner.state.floatbank5_b_air, secondary_cleaner.state.floatbank5_b_level, secondary_cleaner.state.floatbank6_a_air, secondary_cleaner.state.floatbank6_a_level, rougher.output.recovery, final.output.recovery]\n",
       "Index: []"
      ]
     },
     "metadata": {},
     "output_type": "display_data"
    },
    {
     "data": {
      "text/html": [
       "<div>\n",
       "<style scoped>\n",
       "    .dataframe tbody tr th:only-of-type {\n",
       "        vertical-align: middle;\n",
       "    }\n",
       "\n",
       "    .dataframe tbody tr th {\n",
       "        vertical-align: top;\n",
       "    }\n",
       "\n",
       "    .dataframe thead th {\n",
       "        text-align: right;\n",
       "    }\n",
       "</style>\n",
       "<table border=\"1\" class=\"dataframe\">\n",
       "  <thead>\n",
       "    <tr style=\"text-align: right;\">\n",
       "      <th></th>\n",
       "      <th>date</th>\n",
       "      <th>primary_cleaner.input.sulfate</th>\n",
       "      <th>primary_cleaner.input.depressant</th>\n",
       "      <th>primary_cleaner.input.feed_size</th>\n",
       "      <th>primary_cleaner.input.xanthate</th>\n",
       "      <th>primary_cleaner.state.floatbank8_a_air</th>\n",
       "      <th>primary_cleaner.state.floatbank8_a_level</th>\n",
       "      <th>primary_cleaner.state.floatbank8_b_air</th>\n",
       "      <th>primary_cleaner.state.floatbank8_b_level</th>\n",
       "      <th>primary_cleaner.state.floatbank8_c_air</th>\n",
       "      <th>primary_cleaner.state.floatbank8_c_level</th>\n",
       "      <th>primary_cleaner.state.floatbank8_d_air</th>\n",
       "      <th>primary_cleaner.state.floatbank8_d_level</th>\n",
       "      <th>rougher.input.feed_ag</th>\n",
       "      <th>rougher.input.feed_pb</th>\n",
       "      <th>rougher.input.feed_rate</th>\n",
       "      <th>rougher.input.feed_size</th>\n",
       "      <th>rougher.input.feed_sol</th>\n",
       "      <th>rougher.input.feed_au</th>\n",
       "      <th>rougher.input.floatbank10_sulfate</th>\n",
       "      <th>rougher.input.floatbank10_xanthate</th>\n",
       "      <th>rougher.input.floatbank11_sulfate</th>\n",
       "      <th>rougher.input.floatbank11_xanthate</th>\n",
       "      <th>rougher.state.floatbank10_a_air</th>\n",
       "      <th>rougher.state.floatbank10_a_level</th>\n",
       "      <th>rougher.state.floatbank10_b_air</th>\n",
       "      <th>rougher.state.floatbank10_b_level</th>\n",
       "      <th>rougher.state.floatbank10_c_air</th>\n",
       "      <th>rougher.state.floatbank10_c_level</th>\n",
       "      <th>rougher.state.floatbank10_d_air</th>\n",
       "      <th>rougher.state.floatbank10_d_level</th>\n",
       "      <th>rougher.state.floatbank10_e_air</th>\n",
       "      <th>rougher.state.floatbank10_e_level</th>\n",
       "      <th>rougher.state.floatbank10_f_air</th>\n",
       "      <th>rougher.state.floatbank10_f_level</th>\n",
       "      <th>secondary_cleaner.state.floatbank2_a_air</th>\n",
       "      <th>secondary_cleaner.state.floatbank2_a_level</th>\n",
       "      <th>secondary_cleaner.state.floatbank2_b_air</th>\n",
       "      <th>secondary_cleaner.state.floatbank2_b_level</th>\n",
       "      <th>secondary_cleaner.state.floatbank3_a_air</th>\n",
       "      <th>secondary_cleaner.state.floatbank3_a_level</th>\n",
       "      <th>secondary_cleaner.state.floatbank3_b_air</th>\n",
       "      <th>secondary_cleaner.state.floatbank3_b_level</th>\n",
       "      <th>secondary_cleaner.state.floatbank4_a_air</th>\n",
       "      <th>secondary_cleaner.state.floatbank4_a_level</th>\n",
       "      <th>secondary_cleaner.state.floatbank4_b_air</th>\n",
       "      <th>secondary_cleaner.state.floatbank4_b_level</th>\n",
       "      <th>secondary_cleaner.state.floatbank5_a_air</th>\n",
       "      <th>secondary_cleaner.state.floatbank5_a_level</th>\n",
       "      <th>secondary_cleaner.state.floatbank5_b_air</th>\n",
       "      <th>secondary_cleaner.state.floatbank5_b_level</th>\n",
       "      <th>secondary_cleaner.state.floatbank6_a_air</th>\n",
       "      <th>secondary_cleaner.state.floatbank6_a_level</th>\n",
       "      <th>rougher.output.recovery</th>\n",
       "      <th>final.output.recovery</th>\n",
       "    </tr>\n",
       "  </thead>\n",
       "  <tbody>\n",
       "  </tbody>\n",
       "</table>\n",
       "</div>"
      ],
      "text/plain": [
       "Empty DataFrame\n",
       "Columns: [date, primary_cleaner.input.sulfate, primary_cleaner.input.depressant, primary_cleaner.input.feed_size, primary_cleaner.input.xanthate, primary_cleaner.state.floatbank8_a_air, primary_cleaner.state.floatbank8_a_level, primary_cleaner.state.floatbank8_b_air, primary_cleaner.state.floatbank8_b_level, primary_cleaner.state.floatbank8_c_air, primary_cleaner.state.floatbank8_c_level, primary_cleaner.state.floatbank8_d_air, primary_cleaner.state.floatbank8_d_level, rougher.input.feed_ag, rougher.input.feed_pb, rougher.input.feed_rate, rougher.input.feed_size, rougher.input.feed_sol, rougher.input.feed_au, rougher.input.floatbank10_sulfate, rougher.input.floatbank10_xanthate, rougher.input.floatbank11_sulfate, rougher.input.floatbank11_xanthate, rougher.state.floatbank10_a_air, rougher.state.floatbank10_a_level, rougher.state.floatbank10_b_air, rougher.state.floatbank10_b_level, rougher.state.floatbank10_c_air, rougher.state.floatbank10_c_level, rougher.state.floatbank10_d_air, rougher.state.floatbank10_d_level, rougher.state.floatbank10_e_air, rougher.state.floatbank10_e_level, rougher.state.floatbank10_f_air, rougher.state.floatbank10_f_level, secondary_cleaner.state.floatbank2_a_air, secondary_cleaner.state.floatbank2_a_level, secondary_cleaner.state.floatbank2_b_air, secondary_cleaner.state.floatbank2_b_level, secondary_cleaner.state.floatbank3_a_air, secondary_cleaner.state.floatbank3_a_level, secondary_cleaner.state.floatbank3_b_air, secondary_cleaner.state.floatbank3_b_level, secondary_cleaner.state.floatbank4_a_air, secondary_cleaner.state.floatbank4_a_level, secondary_cleaner.state.floatbank4_b_air, secondary_cleaner.state.floatbank4_b_level, secondary_cleaner.state.floatbank5_a_air, secondary_cleaner.state.floatbank5_a_level, secondary_cleaner.state.floatbank5_b_air, secondary_cleaner.state.floatbank5_b_level, secondary_cleaner.state.floatbank6_a_air, secondary_cleaner.state.floatbank6_a_level, rougher.output.recovery, final.output.recovery]\n",
       "Index: []"
      ]
     },
     "metadata": {},
     "output_type": "display_data"
    }
   ],
   "source": [
    "#remove outliers from train and test sets\n",
    "df_train = df_train[df_train[sub_input].sum(axis=1) > 0.5]\n",
    "df_test = df_test[df_test[sub_input].sum(axis=1) > 0.5]\n",
    "\n",
    "\n",
    "#see how many rows were removed and check that no outliers remain\n",
    "print(df_train.shape, df_test.shape)\n",
    "display(df_test[df_test[sub_input].sum(axis=1) < 0.5])\n",
    "display(df_train[df_train[sub_input].sum(axis=1) < 0.5])"
   ]
  },
  {
   "cell_type": "markdown",
   "metadata": {},
   "source": [
    "Only about 91 columns were removed as outliers from the train set, and it appears none were removed from the test set.  This makes sense seeing as how the only features in question shared by the two sets are the *rougher.input.feed_{}* columns, with the train set housing many more rows of data, and the other features represented in the plots above now only exist within the source dataframe.  It could be said that it might be more advantageous to split the source set at this point with all the later recorded data, after cleaning, to estimate more robust training and test sets."
   ]
  },
  {
   "cell_type": "markdown",
   "metadata": {},
   "source": [
    "## Model Selection"
   ]
  },
  {
   "cell_type": "markdown",
   "metadata": {},
   "source": [
    "### sMAPE\n",
    "\n",
    "**To evaluate the chosen model, we need to take into account the scale of both the target values and the predicted values equally. To do this we will use the symmetric Mean Absolute Percentage Error (sMAPE):**\n",
    "\n",
    "$$sMAPE = \\frac{1}{N} \\sum\\limits_{i=1} ^{N}\\frac{|{Y}_{i}-\\hat{Y}_{i}|}{(|{Y}_{i}|+|\\hat{Y}_{i}|) \\div2} \\times100$$\n",
    "\n",
    "**WHERE:**\n",
    "\n",
    "* ${Y}_{i}$ = Value of target for the observation with the i index in the sample used to measure quality.\n",
    "\n",
    "\n",
    "\n",
    "* $\\hat{Y}_{i}$ = Value of prediction for the observation with the i index, for example, in the test sample.\n",
    "\n",
    "\n",
    "\n",
    "* ${N}$ = Number of observations in the sample.\n",
    "\n",
    "\n",
    "\n",
    "* $\\sum\\limits_{i=1} ^{N}$ = Summation over all observations of the sample (i takes values from 1 to N).\n",
    "\n",
    "\n",
    "\n",
    "\n",
    "**We need to predict two values for the final sMAPE:**\n",
    "\n",
    "* rougher concentrate recovery rougher.output.recovery\n",
    "* final concentrate recovery final.output.recovery\n"
   ]
  },
  {
   "cell_type": "markdown",
   "metadata": {},
   "source": [
    "### Final sMAPE\n",
    "\n",
    "$$Final \\: sMAPE \\: =  \\: 25\\% \\: \\times \\: sMAPE(rougher) \\: + \\: 75\\% \\: \\times \\: sMAPE(final)$$\n"
   ]
  },
  {
   "cell_type": "code",
   "execution_count": 31,
   "metadata": {},
   "outputs": [],
   "source": [
    "#function for sMAPE of predicted target values\n",
    "def smape(ans, pred):\n",
    "    return 100 * np.mean((abs(ans-pred) / ((abs(ans) + abs(pred)) / 2)))"
   ]
  },
  {
   "cell_type": "code",
   "execution_count": 22,
   "metadata": {},
   "outputs": [],
   "source": [
    "smape_score = make_scorer(smape, greater_is_better=False)"
   ]
  },
  {
   "cell_type": "code",
   "execution_count": 39,
   "metadata": {},
   "outputs": [],
   "source": [
    "#function for final sMAPE\n",
    "def final_smape(rough_smape, final_smape):\n",
    "    return (0.25 * rough_smape + 0.75 * final_smape)\n",
    "    "
   ]
  },
  {
   "cell_type": "markdown",
   "metadata": {},
   "source": [
    "### Separate features from target"
   ]
  },
  {
   "cell_type": "code",
   "execution_count": 24,
   "metadata": {},
   "outputs": [
    {
     "name": "stdout",
     "output_type": "stream",
     "text": [
      "(12836, 52) (12836,) (12836,)\n",
      "\n",
      "(5347, 52) (5347,) (5347,)\n"
     ]
    }
   ],
   "source": [
    "#divide features and target for model training and tuning\n",
    "features_train = df_train.drop(['date', 'rougher.output.recovery', 'final.output.recovery'], axis=1)\n",
    "target_train_rough = df_train['rougher.output.recovery']\n",
    "target_train_final = df_train['final.output.recovery']\n",
    "\n",
    "features_test = df_test.drop(['date', 'rougher.output.recovery', 'final.output.recovery'], axis=1)\n",
    "target_test_rough = df_test['rougher.output.recovery']\n",
    "target_test_final = df_test['final.output.recovery']                           \n",
    "\n",
    "print(features_train.shape, target_train_rough.shape, target_train_final.shape)\n",
    "print()\n",
    "print(features_test.shape, target_test_rough.shape, target_test_final.shape)"
   ]
  },
  {
   "cell_type": "markdown",
   "metadata": {},
   "source": [
    "### Feature Scaling"
   ]
  },
  {
   "cell_type": "code",
   "execution_count": 25,
   "metadata": {},
   "outputs": [],
   "source": [
    "scaler = StandardScaler()\n",
    "scaler.fit(features_train)\n",
    "features_train = scaler.transform(features_train)\n",
    "features_test = scaler.transform(features_test)"
   ]
  },
  {
   "cell_type": "markdown",
   "metadata": {},
   "source": [
    "### Model training and tuning\n",
    "\n",
    "Here we will evaluate three regression models with cross verification, as well as tune some of their available hyperparameters, to try and achieve a better than random sMAPE score.  It should be noted that the Linear Regression model lacks the same hyperparameter cusomability of the other models."
   ]
  },
  {
   "cell_type": "markdown",
   "metadata": {},
   "source": [
    "#### Linear Regression model"
   ]
  },
  {
   "cell_type": "code",
   "execution_count": 26,
   "metadata": {},
   "outputs": [
    {
     "name": "stdout",
     "output_type": "stream",
     "text": [
      "{'copy_X': True, 'fit_intercept': True, 'normalize': True} {'copy_X': True, 'fit_intercept': True, 'normalize': True}\n",
      "\n",
      "Linear Regression final sMAPE score: -11.909289622057464\n"
     ]
    }
   ],
   "source": [
    "lr_model = LinearRegression()\n",
    "\n",
    "lr_params = [{'fit_intercept': [True, False],\n",
    "            'normalize': [True, False],\n",
    "            'copy_X': [True, False]\n",
    "            }]\n",
    "\n",
    "mod_1_rough = GridSearchCV(lr_model, lr_params, cv=5, scoring=smape_score)\n",
    "mod_1_final = GridSearchCV(lr_model, lr_params, cv=5, scoring=smape_score)\n",
    "mod_1_rough.fit(features_train, target_train_rough)\n",
    "mod_1_final.fit(features_train, target_train_final)\n",
    "print(mod_1_rough.best_params_, mod_1_final.best_params_)\n",
    "print()\n",
    "lr_score = final_smape(mod_1_rough.best_score_, mod_1_final.best_score_)\n",
    "print('Linear Regression final sMAPE score:', lr_score)"
   ]
  },
  {
   "cell_type": "markdown",
   "metadata": {},
   "source": [
    "#### Decision Tree Regressor model"
   ]
  },
  {
   "cell_type": "code",
   "execution_count": 27,
   "metadata": {
    "scrolled": true
   },
   "outputs": [
    {
     "name": "stdout",
     "output_type": "stream",
     "text": [
      "{'max_depth': 5, 'random_state': 12345} {'max_depth': 2, 'random_state': 12345}\n",
      "\n",
      "Decision Tree Regressor final sMAPE score: -11.078830932162205\n"
     ]
    }
   ],
   "source": [
    "dtr_model = DecisionTreeRegressor()\n",
    "\n",
    "dtr_params = [{'random_state': [12345], 'max_depth': list(range(1, 20))\n",
    "            }]\n",
    "\n",
    "mod_2_rough = GridSearchCV(dtr_model, dtr_params, cv=5, scoring=smape_score)\n",
    "mod_2_final = GridSearchCV(dtr_model, dtr_params, cv=5, scoring=smape_score)\n",
    "mod_2_rough.fit(features_train, target_train_rough)\n",
    "mod_2_final.fit(features_train, target_train_final)\n",
    "print(mod_2_rough.best_params_, mod_2_final.best_params_)\n",
    "print()\n",
    "dtr_score = final_smape(mod_2_rough.best_score_, mod_2_final.best_score_)\n",
    "print('Decision Tree Regressor final sMAPE score:', dtr_score)"
   ]
  },
  {
   "cell_type": "markdown",
   "metadata": {},
   "source": [
    "#### Random Forest Regressor model"
   ]
  },
  {
   "cell_type": "code",
   "execution_count": 28,
   "metadata": {},
   "outputs": [
    {
     "name": "stdout",
     "output_type": "stream",
     "text": [
      "{'max_depth': 5, 'n_estimators': 160, 'random_state': 12345} {'max_depth': 5, 'n_estimators': 80, 'random_state': 12345}\n",
      "\n",
      "Random Forest Regressor final sMAPE score: -10.860894062073717\n"
     ]
    }
   ],
   "source": [
    "rfr_model = RandomForestRegressor()\n",
    "\n",
    "rfr_params = [{'random_state': [12345], 'max_depth': [5, 10, 15],\n",
    "            'n_estimators': [30, 80, 160]\n",
    "            }]\n",
    "\n",
    "mod_3_rough = GridSearchCV(rfr_model, rfr_params, cv=5, scoring=smape_score)\n",
    "mod_3_final = GridSearchCV(rfr_model, rfr_params, cv=5, scoring=smape_score)\n",
    "mod_3_rough.fit(features_train, target_train_rough)\n",
    "mod_3_final.fit(features_train, target_train_final)\n",
    "print(mod_3_rough.best_params_, mod_3_final.best_params_)\n",
    "print()\n",
    "rfr_score = final_smape(mod_3_rough.best_score_, mod_3_final.best_score_)\n",
    "print('Random Forest Regressor final sMAPE score:', rfr_score)"
   ]
  },
  {
   "cell_type": "markdown",
   "metadata": {},
   "source": [
    "It appears that the Random Forest Regressor is the least error prone model, with the only final sMAPE under 11%.  We will move ahead with it as our final predictive model and test it with the test data that the model hasn't seen yet."
   ]
  },
  {
   "cell_type": "markdown",
   "metadata": {},
   "source": [
    "## Test the final model"
   ]
  },
  {
   "cell_type": "code",
   "execution_count": 41,
   "metadata": {},
   "outputs": [
    {
     "name": "stdout",
     "output_type": "stream",
     "text": [
      "Optimized model sMAPE: 10.168194173620568\n"
     ]
    }
   ],
   "source": [
    "r_model = RandomForestRegressor(random_state=12345, max_depth=5 , n_estimators=160 )\n",
    "f_model = RandomForestRegressor(random_state=12345, max_depth=5 , n_estimators=80 )\n",
    "\n",
    "r_model.fit(features_train, target_train_rough)\n",
    "f_model.fit(features_train, target_train_final)\n",
    "\n",
    "predict_rough = r_model.predict(features_test)\n",
    "predict_final = f_model.predict(features_test)\n",
    "\n",
    "ro_smape = smape(target_test_rough, predict_rough)\n",
    "fi_smape = smape(target_test_final, predict_final)\n",
    " \n",
    "print('Optimized model sMAPE:', final_smape(ro_smape, fi_smape))"
   ]
  },
  {
   "cell_type": "markdown",
   "metadata": {},
   "source": [
    "The score improved slightly from 10.86% to 10.17% on our final model.  To sanity check our model we'll use a dummy model populated with mean values to see if our final model predicts outcomes better than at random."
   ]
  },
  {
   "cell_type": "markdown",
   "metadata": {},
   "source": [
    "## Sanity Check model"
   ]
  },
  {
   "cell_type": "code",
   "execution_count": 43,
   "metadata": {},
   "outputs": [
    {
     "name": "stdout",
     "output_type": "stream",
     "text": [
      "Sanity check sMAPE score: 10.854787770605718\n"
     ]
    }
   ],
   "source": [
    "dummy_rough = DummyRegressor(strategy='median')\n",
    "dummy_final = DummyRegressor(strategy='median')\n",
    "\n",
    "dummy_rough.fit(features_train, target_train_rough)\n",
    "dummy_final.fit(features_train, target_train_final)\n",
    "\n",
    "pred_rough = dummy_rough.predict(features_test)\n",
    "pred_final = dummy_final.predict(features_test)\n",
    "\n",
    "r_smape = smape(target_test_rough, pred_rough)\n",
    "f_smape = smape(target_test_final, pred_final)\n",
    "\n",
    "s_smape = final_smape(r_smape, f_smape)\n",
    "print('Sanity check sMAPE score:', s_smape)"
   ]
  },
  {
   "cell_type": "markdown",
   "metadata": {},
   "source": [
    "It appears as though the final optimized Random Forest Regressor model is only slightly better than a model populated with mean values.  If I had the comupting power, it would likely be worth defining more hyperparameters in GridSearchCV to further fine tune our model and gain more accuracy."
   ]
  },
  {
   "cell_type": "markdown",
   "metadata": {},
   "source": [
    "## Conclusion\n",
    "\n",
    "Here, we zeroed in on and trained a machine learning regession model now apt to predict the measured extaction of gold from ore to a better-than-random degree. After verifying that the recovery data was calculated correctly using a custom built, industry-utilized equation function, we removed the missing values from the data and looked at various pertinent distributions of the data. From there we narrowed the data to two robust and balanced training and test sets.  Those at hand, we went ahead with model selection.\n",
    "\n",
    "In the model selection process we tested three separate regression models, evaluating and cross validating them with GridSearchCV, incorporating our custom sMAPE function to determine the best predictive model to use with our data. The sMAPE metric measures prediction deviations both above and below the actual values.  Our model score of 10.16 is just slightly better than the random model that came in just above that at 10.85.  While I don't know what Zyfra's model score threshold is, it would be worth an inquiry into which refinment metrics they rely on the most to perhaps build and tune a more efficient and accurate model around those values specifically."
   ]
  }
 ],
 "metadata": {
  "ExecuteTimeLog": [
   {
    "duration": 5529,
    "start_time": "2024-07-16T17:53:40.148Z"
   },
   {
    "duration": 1126,
    "start_time": "2024-07-16T17:53:45.681Z"
   },
   {
    "duration": 8,
    "start_time": "2024-07-16T17:53:46.810Z"
   },
   {
    "duration": 98,
    "start_time": "2024-07-16T17:55:01.771Z"
   },
   {
    "duration": 83,
    "start_time": "2024-07-16T17:55:46.924Z"
   },
   {
    "duration": 56,
    "start_time": "2024-07-16T17:56:11.507Z"
   },
   {
    "duration": 80,
    "start_time": "2024-07-16T17:56:21.591Z"
   },
   {
    "duration": 282,
    "start_time": "2024-07-16T18:04:12.396Z"
   },
   {
    "duration": 321,
    "start_time": "2024-07-16T18:04:44.506Z"
   },
   {
    "duration": 277,
    "start_time": "2024-07-16T18:07:04.962Z"
   },
   {
    "duration": 20,
    "start_time": "2024-07-16T18:23:52.306Z"
   },
   {
    "duration": 99,
    "start_time": "2024-07-16T18:24:03.784Z"
   },
   {
    "duration": 10,
    "start_time": "2024-07-16T18:31:42.352Z"
   },
   {
    "duration": 441,
    "start_time": "2024-07-16T18:31:54.653Z"
   },
   {
    "duration": 26,
    "start_time": "2024-07-16T18:32:06.407Z"
   },
   {
    "duration": 25,
    "start_time": "2024-07-16T18:32:19.615Z"
   },
   {
    "duration": 26,
    "start_time": "2024-07-16T18:33:44.085Z"
   },
   {
    "duration": 26,
    "start_time": "2024-07-16T18:35:23.863Z"
   },
   {
    "duration": 855,
    "start_time": "2024-07-16T18:41:25.010Z"
   },
   {
    "duration": 26,
    "start_time": "2024-07-16T18:42:32.491Z"
   },
   {
    "duration": 25,
    "start_time": "2024-07-16T18:47:57.420Z"
   },
   {
    "duration": 149,
    "start_time": "2024-07-16T18:54:12.663Z"
   },
   {
    "duration": 346,
    "start_time": "2024-07-16T19:04:04.662Z"
   },
   {
    "duration": 6,
    "start_time": "2024-07-16T19:09:19.513Z"
   },
   {
    "duration": 298,
    "start_time": "2024-07-16T19:09:26.720Z"
   },
   {
    "duration": 290,
    "start_time": "2024-07-16T19:09:51.856Z"
   },
   {
    "duration": 296,
    "start_time": "2024-07-16T19:12:03.890Z"
   },
   {
    "duration": 13,
    "start_time": "2024-07-17T18:29:55.774Z"
   },
   {
    "duration": 331,
    "start_time": "2024-07-17T18:29:58.274Z"
   },
   {
    "duration": 5366,
    "start_time": "2024-07-17T18:30:07.867Z"
   },
   {
    "duration": 1034,
    "start_time": "2024-07-17T18:30:13.237Z"
   },
   {
    "duration": 7,
    "start_time": "2024-07-17T18:30:14.275Z"
   },
   {
    "duration": 336,
    "start_time": "2024-07-17T18:30:14.287Z"
   },
   {
    "duration": 24,
    "start_time": "2024-07-17T18:30:14.627Z"
   },
   {
    "duration": 5,
    "start_time": "2024-07-17T18:30:14.655Z"
   },
   {
    "duration": 51,
    "start_time": "2024-07-17T18:30:14.664Z"
   },
   {
    "duration": 351,
    "start_time": "2024-07-17T18:30:14.718Z"
   },
   {
    "duration": 15,
    "start_time": "2024-07-17T18:30:59.662Z"
   },
   {
    "duration": 146,
    "start_time": "2024-07-17T18:48:56.658Z"
   },
   {
    "duration": 10,
    "start_time": "2024-07-17T18:49:33.759Z"
   },
   {
    "duration": 26,
    "start_time": "2024-07-17T18:52:35.610Z"
   },
   {
    "duration": 23,
    "start_time": "2024-07-17T18:53:26.887Z"
   },
   {
    "duration": 299,
    "start_time": "2024-07-17T19:28:45.190Z"
   },
   {
    "duration": 317,
    "start_time": "2024-07-17T19:29:49.549Z"
   },
   {
    "duration": 294,
    "start_time": "2024-07-17T19:34:10.954Z"
   },
   {
    "duration": 404,
    "start_time": "2024-07-17T19:34:59.162Z"
   },
   {
    "duration": 9,
    "start_time": "2024-07-17T19:40:29.897Z"
   },
   {
    "duration": 339,
    "start_time": "2024-07-17T19:40:36.126Z"
   },
   {
    "duration": 292,
    "start_time": "2024-07-17T19:45:41.695Z"
   },
   {
    "duration": 317,
    "start_time": "2024-07-17T20:09:17.444Z"
   },
   {
    "duration": 396,
    "start_time": "2024-07-17T20:09:28.040Z"
   },
   {
    "duration": 328,
    "start_time": "2024-07-17T20:09:59.303Z"
   },
   {
    "duration": 306,
    "start_time": "2024-07-17T20:15:03.471Z"
   },
   {
    "duration": 333,
    "start_time": "2024-07-17T20:18:45.230Z"
   },
   {
    "duration": 4,
    "start_time": "2024-07-17T20:57:13.097Z"
   },
   {
    "duration": 256,
    "start_time": "2024-07-17T20:57:14.551Z"
   },
   {
    "duration": 62,
    "start_time": "2024-07-17T20:58:20.360Z"
   },
   {
    "duration": 37,
    "start_time": "2024-07-17T21:02:59.118Z"
   },
   {
    "duration": 31,
    "start_time": "2024-07-17T21:04:27.950Z"
   },
   {
    "duration": 11,
    "start_time": "2024-07-17T21:07:36.600Z"
   },
   {
    "duration": 4,
    "start_time": "2024-07-17T21:07:44.290Z"
   },
   {
    "duration": 11,
    "start_time": "2024-07-17T21:07:46.445Z"
   },
   {
    "duration": 33,
    "start_time": "2024-07-17T21:07:54.712Z"
   },
   {
    "duration": 41,
    "start_time": "2024-07-17T21:08:05.042Z"
   },
   {
    "duration": 10,
    "start_time": "2024-07-17T21:08:13.763Z"
   },
   {
    "duration": 10,
    "start_time": "2024-07-17T21:12:27.657Z"
   },
   {
    "duration": 3,
    "start_time": "2024-07-17T21:12:30.121Z"
   },
   {
    "duration": 11,
    "start_time": "2024-07-17T21:12:31.943Z"
   },
   {
    "duration": 13,
    "start_time": "2024-07-17T21:17:27.447Z"
   },
   {
    "duration": 4,
    "start_time": "2024-07-17T21:17:29.922Z"
   },
   {
    "duration": 10,
    "start_time": "2024-07-17T21:17:32.044Z"
   },
   {
    "duration": 9,
    "start_time": "2024-07-17T21:17:48.696Z"
   },
   {
    "duration": 9,
    "start_time": "2024-07-17T21:18:26.267Z"
   },
   {
    "duration": 1469,
    "start_time": "2024-07-17T21:18:54.090Z"
   },
   {
    "duration": 40,
    "start_time": "2024-07-17T21:21:15.984Z"
   },
   {
    "duration": 96,
    "start_time": "2024-07-17T21:21:26.350Z"
   },
   {
    "duration": 82,
    "start_time": "2024-07-17T21:21:50.855Z"
   },
   {
    "duration": 197,
    "start_time": "2024-07-17T21:23:18.848Z"
   },
   {
    "duration": 149,
    "start_time": "2024-07-17T21:23:50.974Z"
   },
   {
    "duration": 156,
    "start_time": "2024-07-17T21:23:57.004Z"
   },
   {
    "duration": 154,
    "start_time": "2024-07-17T21:24:06.419Z"
   },
   {
    "duration": 153,
    "start_time": "2024-07-17T21:24:44.342Z"
   },
   {
    "duration": 37,
    "start_time": "2024-07-17T21:33:16.736Z"
   },
   {
    "duration": 21,
    "start_time": "2024-07-17T21:33:39.408Z"
   },
   {
    "duration": 19,
    "start_time": "2024-07-17T21:34:06.076Z"
   },
   {
    "duration": 440,
    "start_time": "2024-07-17T21:36:46.441Z"
   },
   {
    "duration": 92,
    "start_time": "2024-07-17T21:39:50.791Z"
   },
   {
    "duration": 89,
    "start_time": "2024-07-17T21:40:03.906Z"
   },
   {
    "duration": 36,
    "start_time": "2024-07-17T21:42:27.925Z"
   },
   {
    "duration": 52,
    "start_time": "2024-07-17T21:42:57.658Z"
   },
   {
    "duration": 322,
    "start_time": "2024-07-18T00:08:15.536Z"
   },
   {
    "duration": 5584,
    "start_time": "2024-07-18T00:08:28.961Z"
   },
   {
    "duration": 1234,
    "start_time": "2024-07-18T00:08:34.550Z"
   },
   {
    "duration": 8,
    "start_time": "2024-07-18T00:08:35.787Z"
   },
   {
    "duration": 350,
    "start_time": "2024-07-18T00:08:35.811Z"
   },
   {
    "duration": 49,
    "start_time": "2024-07-18T00:08:36.166Z"
   },
   {
    "duration": 6,
    "start_time": "2024-07-18T00:08:36.218Z"
   },
   {
    "duration": 21,
    "start_time": "2024-07-18T00:08:36.228Z"
   },
   {
    "duration": 56,
    "start_time": "2024-07-18T00:08:36.253Z"
   },
   {
    "duration": 383,
    "start_time": "2024-07-18T00:08:36.313Z"
   },
   {
    "duration": 10,
    "start_time": "2024-07-18T00:08:36.700Z"
   },
   {
    "duration": 1600,
    "start_time": "2024-07-18T00:08:36.714Z"
   },
   {
    "duration": 105,
    "start_time": "2024-07-18T00:10:23.882Z"
   },
   {
    "duration": 6,
    "start_time": "2024-07-18T00:10:46.718Z"
   },
   {
    "duration": 77,
    "start_time": "2024-07-18T00:10:49.514Z"
   },
   {
    "duration": 80,
    "start_time": "2024-07-18T00:11:22.638Z"
   },
   {
    "duration": 79,
    "start_time": "2024-07-18T00:12:31.904Z"
   },
   {
    "duration": 9,
    "start_time": "2024-07-18T00:12:38.046Z"
   },
   {
    "duration": 977,
    "start_time": "2024-07-18T00:12:38.060Z"
   },
   {
    "duration": 7,
    "start_time": "2024-07-18T00:12:39.040Z"
   },
   {
    "duration": 449,
    "start_time": "2024-07-18T00:12:39.051Z"
   },
   {
    "duration": 28,
    "start_time": "2024-07-18T00:12:39.517Z"
   },
   {
    "duration": 8,
    "start_time": "2024-07-18T00:12:39.549Z"
   },
   {
    "duration": 47,
    "start_time": "2024-07-18T00:12:39.562Z"
   },
   {
    "duration": 23,
    "start_time": "2024-07-18T00:12:39.612Z"
   },
   {
    "duration": 387,
    "start_time": "2024-07-18T00:12:39.639Z"
   },
   {
    "duration": 5,
    "start_time": "2024-07-18T00:12:40.030Z"
   },
   {
    "duration": 110,
    "start_time": "2024-07-18T00:12:40.039Z"
   },
   {
    "duration": 0,
    "start_time": "2024-07-18T00:12:40.153Z"
   },
   {
    "duration": 7,
    "start_time": "2024-07-18T00:14:35.647Z"
   },
   {
    "duration": 923,
    "start_time": "2024-07-18T00:14:35.658Z"
   },
   {
    "duration": 6,
    "start_time": "2024-07-18T00:14:36.585Z"
   },
   {
    "duration": 369,
    "start_time": "2024-07-18T00:14:36.610Z"
   },
   {
    "duration": 38,
    "start_time": "2024-07-18T00:14:36.985Z"
   },
   {
    "duration": 9,
    "start_time": "2024-07-18T00:14:37.027Z"
   },
   {
    "duration": 17,
    "start_time": "2024-07-18T00:14:37.040Z"
   },
   {
    "duration": 56,
    "start_time": "2024-07-18T00:14:37.060Z"
   },
   {
    "duration": 397,
    "start_time": "2024-07-18T00:14:37.121Z"
   },
   {
    "duration": 6,
    "start_time": "2024-07-18T00:14:37.521Z"
   },
   {
    "duration": 120,
    "start_time": "2024-07-18T00:14:37.531Z"
   },
   {
    "duration": 0,
    "start_time": "2024-07-18T00:14:37.655Z"
   },
   {
    "duration": 77,
    "start_time": "2024-07-18T00:17:39.175Z"
   },
   {
    "duration": 86,
    "start_time": "2024-07-18T00:19:32.799Z"
   },
   {
    "duration": 82,
    "start_time": "2024-07-18T00:19:57.066Z"
   },
   {
    "duration": 84,
    "start_time": "2024-07-18T00:20:58.429Z"
   },
   {
    "duration": 1742,
    "start_time": "2024-07-18T00:21:08.700Z"
   },
   {
    "duration": 910,
    "start_time": "2024-07-18T00:21:10.446Z"
   },
   {
    "duration": 10,
    "start_time": "2024-07-18T00:21:11.359Z"
   },
   {
    "duration": 356,
    "start_time": "2024-07-18T00:21:11.373Z"
   },
   {
    "duration": 29,
    "start_time": "2024-07-18T00:21:11.734Z"
   },
   {
    "duration": 5,
    "start_time": "2024-07-18T00:21:11.767Z"
   },
   {
    "duration": 44,
    "start_time": "2024-07-18T00:21:11.775Z"
   },
   {
    "duration": 23,
    "start_time": "2024-07-18T00:21:11.823Z"
   },
   {
    "duration": 404,
    "start_time": "2024-07-18T00:21:11.850Z"
   },
   {
    "duration": 5,
    "start_time": "2024-07-18T00:21:12.260Z"
   },
   {
    "duration": 2075,
    "start_time": "2024-07-18T00:21:12.269Z"
   },
   {
    "duration": 0,
    "start_time": "2024-07-18T00:21:14.350Z"
   },
   {
    "duration": 109,
    "start_time": "2024-07-18T00:22:36.784Z"
   },
   {
    "duration": 35,
    "start_time": "2024-07-18T00:23:35.705Z"
   },
   {
    "duration": 229,
    "start_time": "2024-07-18T00:24:26.286Z"
   },
   {
    "duration": 8,
    "start_time": "2024-07-18T00:24:38.567Z"
   },
   {
    "duration": 981,
    "start_time": "2024-07-18T00:24:38.582Z"
   },
   {
    "duration": 6,
    "start_time": "2024-07-18T00:24:39.569Z"
   },
   {
    "duration": 350,
    "start_time": "2024-07-18T00:24:39.580Z"
   },
   {
    "duration": 28,
    "start_time": "2024-07-18T00:24:39.934Z"
   },
   {
    "duration": 6,
    "start_time": "2024-07-18T00:24:39.966Z"
   },
   {
    "duration": 49,
    "start_time": "2024-07-18T00:24:39.976Z"
   },
   {
    "duration": 22,
    "start_time": "2024-07-18T00:24:40.030Z"
   },
   {
    "duration": 395,
    "start_time": "2024-07-18T00:24:40.056Z"
   },
   {
    "duration": 5,
    "start_time": "2024-07-18T00:24:40.458Z"
   },
   {
    "duration": 117,
    "start_time": "2024-07-18T00:24:40.467Z"
   },
   {
    "duration": 0,
    "start_time": "2024-07-18T00:24:40.588Z"
   },
   {
    "duration": 50,
    "start_time": "2024-07-18T00:35:33.449Z"
   },
   {
    "duration": 88,
    "start_time": "2024-07-18T00:35:52.582Z"
   },
   {
    "duration": 13,
    "start_time": "2024-07-18T00:37:45.459Z"
   },
   {
    "duration": 15,
    "start_time": "2024-07-18T00:38:21.979Z"
   },
   {
    "duration": 44,
    "start_time": "2024-07-18T00:38:32.536Z"
   },
   {
    "duration": 39,
    "start_time": "2024-07-18T00:38:35.962Z"
   },
   {
    "duration": 37,
    "start_time": "2024-07-18T00:39:12.569Z"
   },
   {
    "duration": 30,
    "start_time": "2024-07-18T00:39:46.912Z"
   },
   {
    "duration": 0,
    "start_time": "2024-07-18T00:45:44.304Z"
   },
   {
    "duration": 97,
    "start_time": "2024-07-18T00:45:52.926Z"
   },
   {
    "duration": 50,
    "start_time": "2024-07-18T00:46:21.617Z"
   },
   {
    "duration": 0,
    "start_time": "2024-07-18T00:47:36.313Z"
   },
   {
    "duration": 110,
    "start_time": "2024-07-18T00:48:11.900Z"
   },
   {
    "duration": 105,
    "start_time": "2024-07-18T00:49:41.360Z"
   },
   {
    "duration": 128,
    "start_time": "2024-07-18T00:50:06.608Z"
   },
   {
    "duration": 112,
    "start_time": "2024-07-18T00:50:30.960Z"
   },
   {
    "duration": 54,
    "start_time": "2024-07-18T00:50:37.510Z"
   },
   {
    "duration": 27,
    "start_time": "2024-07-18T00:54:42.960Z"
   },
   {
    "duration": 113,
    "start_time": "2024-07-18T00:59:44.948Z"
   },
   {
    "duration": 131,
    "start_time": "2024-07-18T01:00:16.901Z"
   },
   {
    "duration": 139,
    "start_time": "2024-07-18T01:00:34.455Z"
   },
   {
    "duration": 130,
    "start_time": "2024-07-18T01:01:05.207Z"
   },
   {
    "duration": 417,
    "start_time": "2024-07-18T01:14:29.276Z"
   },
   {
    "duration": 32,
    "start_time": "2024-07-18T01:23:14.232Z"
   },
   {
    "duration": 108,
    "start_time": "2024-07-18T01:24:56.889Z"
   },
   {
    "duration": 80,
    "start_time": "2024-07-18T01:27:29.521Z"
   },
   {
    "duration": 5,
    "start_time": "2024-07-18T01:27:40.252Z"
   },
   {
    "duration": 79,
    "start_time": "2024-07-18T01:27:42.487Z"
   },
   {
    "duration": 201,
    "start_time": "2024-07-18T01:28:05.744Z"
   },
   {
    "duration": 210,
    "start_time": "2024-07-18T01:28:40.423Z"
   },
   {
    "duration": 199,
    "start_time": "2024-07-18T01:29:46.432Z"
   },
   {
    "duration": 99,
    "start_time": "2024-07-18T01:43:18.947Z"
   },
   {
    "duration": 25,
    "start_time": "2024-07-18T01:44:11.535Z"
   },
   {
    "duration": 31,
    "start_time": "2024-07-18T01:44:47.574Z"
   },
   {
    "duration": 30,
    "start_time": "2024-07-18T01:48:59.945Z"
   },
   {
    "duration": 31,
    "start_time": "2024-07-18T01:49:25.819Z"
   },
   {
    "duration": 8,
    "start_time": "2024-07-18T01:50:17.627Z"
   },
   {
    "duration": 94,
    "start_time": "2024-07-18T01:50:26.737Z"
   },
   {
    "duration": 7,
    "start_time": "2024-07-18T01:50:30.434Z"
   },
   {
    "duration": 9,
    "start_time": "2024-07-18T01:51:30.908Z"
   },
   {
    "duration": 12,
    "start_time": "2024-07-18T01:53:28.938Z"
   },
   {
    "duration": 12,
    "start_time": "2024-07-18T01:53:32.549Z"
   },
   {
    "duration": 86,
    "start_time": "2024-07-18T01:53:54.760Z"
   },
   {
    "duration": 80,
    "start_time": "2024-07-18T01:54:26.002Z"
   },
   {
    "duration": 316,
    "start_time": "2024-07-18T05:23:35.397Z"
   },
   {
    "duration": 5805,
    "start_time": "2024-07-18T05:23:46.738Z"
   },
   {
    "duration": 1052,
    "start_time": "2024-07-18T05:23:52.547Z"
   },
   {
    "duration": 21,
    "start_time": "2024-07-18T05:23:53.602Z"
   },
   {
    "duration": 337,
    "start_time": "2024-07-18T05:23:53.625Z"
   },
   {
    "duration": 23,
    "start_time": "2024-07-18T05:23:53.966Z"
   },
   {
    "duration": 11,
    "start_time": "2024-07-18T05:23:53.992Z"
   },
   {
    "duration": 22,
    "start_time": "2024-07-18T05:23:54.023Z"
   },
   {
    "duration": 22,
    "start_time": "2024-07-18T05:23:54.048Z"
   },
   {
    "duration": 394,
    "start_time": "2024-07-18T05:23:54.073Z"
   },
   {
    "duration": 7,
    "start_time": "2024-07-18T05:23:54.470Z"
   },
   {
    "duration": 110,
    "start_time": "2024-07-18T05:23:54.480Z"
   },
   {
    "duration": 150,
    "start_time": "2024-07-18T05:28:52.095Z"
   },
   {
    "duration": 162,
    "start_time": "2024-07-18T05:29:03.071Z"
   },
   {
    "duration": 127,
    "start_time": "2024-07-18T05:30:44.385Z"
   },
   {
    "duration": 9,
    "start_time": "2024-07-18T05:36:59.463Z"
   },
   {
    "duration": 15,
    "start_time": "2024-07-18T05:38:31.815Z"
   },
   {
    "duration": 5196,
    "start_time": "2024-07-18T17:09:36.191Z"
   },
   {
    "duration": 1023,
    "start_time": "2024-07-18T17:09:41.392Z"
   },
   {
    "duration": 12,
    "start_time": "2024-07-18T17:09:42.418Z"
   },
   {
    "duration": 323,
    "start_time": "2024-07-18T17:09:42.433Z"
   },
   {
    "duration": 27,
    "start_time": "2024-07-18T17:09:42.764Z"
   },
   {
    "duration": 6,
    "start_time": "2024-07-18T17:09:42.794Z"
   },
   {
    "duration": 49,
    "start_time": "2024-07-18T17:09:42.803Z"
   },
   {
    "duration": 20,
    "start_time": "2024-07-18T17:09:42.855Z"
   },
   {
    "duration": 365,
    "start_time": "2024-07-18T17:09:42.877Z"
   },
   {
    "duration": 6,
    "start_time": "2024-07-18T17:09:43.244Z"
   },
   {
    "duration": 164,
    "start_time": "2024-07-18T17:09:43.253Z"
   },
   {
    "duration": 20,
    "start_time": "2024-07-18T17:09:43.420Z"
   },
   {
    "duration": 8,
    "start_time": "2024-07-18T17:09:43.443Z"
   },
   {
    "duration": 0,
    "start_time": "2024-07-18T17:09:43.454Z"
   },
   {
    "duration": 5,
    "start_time": "2024-07-18T17:09:55.479Z"
   },
   {
    "duration": 796,
    "start_time": "2024-07-18T17:09:58.425Z"
   },
   {
    "duration": 524,
    "start_time": "2024-07-18T17:10:45.321Z"
   },
   {
    "duration": 1688,
    "start_time": "2024-07-18T17:21:35.325Z"
   },
   {
    "duration": 4,
    "start_time": "2024-07-18T17:22:42.494Z"
   },
   {
    "duration": 1551,
    "start_time": "2024-07-18T17:22:44.074Z"
   },
   {
    "duration": 5,
    "start_time": "2024-07-18T17:22:55.406Z"
   },
   {
    "duration": 1632,
    "start_time": "2024-07-18T17:22:57.170Z"
   },
   {
    "duration": 7,
    "start_time": "2024-07-18T17:50:57.278Z"
   },
   {
    "duration": 6,
    "start_time": "2024-07-18T17:51:16.368Z"
   },
   {
    "duration": 13,
    "start_time": "2024-07-18T17:51:24.536Z"
   },
   {
    "duration": 1090,
    "start_time": "2024-07-18T17:51:35.620Z"
   },
   {
    "duration": 438,
    "start_time": "2024-07-18T17:52:41.613Z"
   },
   {
    "duration": 299,
    "start_time": "2024-07-18T17:52:58.571Z"
   },
   {
    "duration": 241,
    "start_time": "2024-07-18T17:53:30.710Z"
   },
   {
    "duration": 875,
    "start_time": "2024-07-18T17:55:10.342Z"
   },
   {
    "duration": 804,
    "start_time": "2024-07-18T17:55:21.579Z"
   },
   {
    "duration": 421,
    "start_time": "2024-07-18T17:56:43.527Z"
   },
   {
    "duration": 432,
    "start_time": "2024-07-18T17:57:30.964Z"
   },
   {
    "duration": 418,
    "start_time": "2024-07-18T17:57:49.660Z"
   },
   {
    "duration": 467,
    "start_time": "2024-07-18T17:58:50.263Z"
   },
   {
    "duration": 532,
    "start_time": "2024-07-18T17:59:47.015Z"
   },
   {
    "duration": 413,
    "start_time": "2024-07-18T18:00:55.659Z"
   },
   {
    "duration": 428,
    "start_time": "2024-07-18T18:02:03.078Z"
   },
   {
    "duration": 554,
    "start_time": "2024-07-18T18:02:31.136Z"
   },
   {
    "duration": 340,
    "start_time": "2024-07-18T18:06:17.148Z"
   },
   {
    "duration": 436,
    "start_time": "2024-07-18T18:06:25.083Z"
   },
   {
    "duration": 433,
    "start_time": "2024-07-18T18:08:04.777Z"
   },
   {
    "duration": 5,
    "start_time": "2024-07-18T18:28:02.953Z"
   },
   {
    "duration": 853,
    "start_time": "2024-07-18T18:34:28.112Z"
   },
   {
    "duration": 661,
    "start_time": "2024-07-18T18:37:45.940Z"
   },
   {
    "duration": 299,
    "start_time": "2024-07-18T18:37:58.485Z"
   },
   {
    "duration": 322,
    "start_time": "2024-07-18T18:38:08.063Z"
   },
   {
    "duration": 202,
    "start_time": "2024-07-18T18:38:37.513Z"
   },
   {
    "duration": 201,
    "start_time": "2024-07-18T18:39:22.690Z"
   },
   {
    "duration": 35,
    "start_time": "2024-07-18T18:39:52.133Z"
   },
   {
    "duration": 206,
    "start_time": "2024-07-18T18:40:03.021Z"
   },
   {
    "duration": 201,
    "start_time": "2024-07-18T18:40:19.741Z"
   },
   {
    "duration": 7,
    "start_time": "2024-07-18T18:46:32.319Z"
   },
   {
    "duration": 999,
    "start_time": "2024-07-18T18:46:37.934Z"
   },
   {
    "duration": 741,
    "start_time": "2024-07-18T18:47:17.953Z"
   },
   {
    "duration": 779,
    "start_time": "2024-07-18T18:52:17.790Z"
   },
   {
    "duration": 721,
    "start_time": "2024-07-18T18:53:16.280Z"
   },
   {
    "duration": 30,
    "start_time": "2024-07-18T18:56:26.026Z"
   },
   {
    "duration": 26,
    "start_time": "2024-07-18T19:01:49.528Z"
   },
   {
    "duration": 291,
    "start_time": "2024-07-18T19:02:13.359Z"
   },
   {
    "duration": 393,
    "start_time": "2024-07-18T19:02:32.480Z"
   },
   {
    "duration": 232,
    "start_time": "2024-07-18T19:02:43.898Z"
   },
   {
    "duration": 249,
    "start_time": "2024-07-18T19:03:09.804Z"
   },
   {
    "duration": 571,
    "start_time": "2024-07-18T19:03:16.394Z"
   },
   {
    "duration": 614,
    "start_time": "2024-07-18T19:03:36.663Z"
   },
   {
    "duration": 621,
    "start_time": "2024-07-18T19:03:44.125Z"
   },
   {
    "duration": 396,
    "start_time": "2024-07-18T19:03:56.195Z"
   },
   {
    "duration": 409,
    "start_time": "2024-07-18T19:04:02.615Z"
   },
   {
    "duration": 484,
    "start_time": "2024-07-18T19:04:32.900Z"
   },
   {
    "duration": 438,
    "start_time": "2024-07-18T19:04:59.199Z"
   },
   {
    "duration": 572,
    "start_time": "2024-07-18T19:05:12.187Z"
   },
   {
    "duration": 422,
    "start_time": "2024-07-18T19:07:24.758Z"
   },
   {
    "duration": 530,
    "start_time": "2024-07-18T19:08:58.458Z"
   },
   {
    "duration": 540,
    "start_time": "2024-07-18T19:14:52.912Z"
   },
   {
    "duration": 5,
    "start_time": "2024-07-18T19:26:16.506Z"
   },
   {
    "duration": 36,
    "start_time": "2024-07-18T19:26:18.935Z"
   },
   {
    "duration": 6,
    "start_time": "2024-07-18T19:26:37.488Z"
   },
   {
    "duration": 35,
    "start_time": "2024-07-18T19:26:39.170Z"
   },
   {
    "duration": 5,
    "start_time": "2024-07-18T19:27:19.404Z"
   },
   {
    "duration": 746,
    "start_time": "2024-07-18T19:27:20.798Z"
   },
   {
    "duration": 650,
    "start_time": "2024-07-18T19:27:39.427Z"
   },
   {
    "duration": 583,
    "start_time": "2024-07-18T19:30:39.626Z"
   },
   {
    "duration": 537,
    "start_time": "2024-07-18T19:30:53.340Z"
   },
   {
    "duration": 556,
    "start_time": "2024-07-18T19:31:04.832Z"
   },
   {
    "duration": 170,
    "start_time": "2024-07-18T19:50:21.996Z"
   },
   {
    "duration": 25,
    "start_time": "2024-07-18T19:53:50.561Z"
   },
   {
    "duration": 5,
    "start_time": "2024-07-18T19:55:10.463Z"
   },
   {
    "duration": 758,
    "start_time": "2024-07-18T19:55:10.474Z"
   },
   {
    "duration": 8,
    "start_time": "2024-07-18T19:55:11.234Z"
   },
   {
    "duration": 312,
    "start_time": "2024-07-18T19:55:11.247Z"
   },
   {
    "duration": 22,
    "start_time": "2024-07-18T19:55:11.563Z"
   },
   {
    "duration": 4,
    "start_time": "2024-07-18T19:55:11.589Z"
   },
   {
    "duration": 48,
    "start_time": "2024-07-18T19:55:11.596Z"
   },
   {
    "duration": 17,
    "start_time": "2024-07-18T19:55:11.647Z"
   },
   {
    "duration": 350,
    "start_time": "2024-07-18T19:55:11.669Z"
   },
   {
    "duration": 10,
    "start_time": "2024-07-18T19:55:12.022Z"
   },
   {
    "duration": 166,
    "start_time": "2024-07-18T19:55:12.036Z"
   },
   {
    "duration": 32,
    "start_time": "2024-07-18T19:55:12.205Z"
   },
   {
    "duration": 27,
    "start_time": "2024-07-18T19:55:12.242Z"
   },
   {
    "duration": 23,
    "start_time": "2024-07-18T19:55:12.272Z"
   },
   {
    "duration": 32,
    "start_time": "2024-07-18T19:55:12.298Z"
   },
   {
    "duration": 1706,
    "start_time": "2024-07-18T19:55:12.334Z"
   },
   {
    "duration": 449,
    "start_time": "2024-07-18T19:55:14.043Z"
   },
   {
    "duration": 5,
    "start_time": "2024-07-18T19:55:14.495Z"
   },
   {
    "duration": 703,
    "start_time": "2024-07-18T19:55:14.503Z"
   },
   {
    "duration": 321,
    "start_time": "2024-07-18T22:29:13.179Z"
   },
   {
    "duration": 4,
    "start_time": "2024-07-18T22:29:22.744Z"
   },
   {
    "duration": 25,
    "start_time": "2024-07-18T22:29:25.748Z"
   },
   {
    "duration": 5590,
    "start_time": "2024-07-18T22:29:30.820Z"
   },
   {
    "duration": 1113,
    "start_time": "2024-07-18T22:29:36.414Z"
   },
   {
    "duration": 7,
    "start_time": "2024-07-18T22:29:37.530Z"
   },
   {
    "duration": 342,
    "start_time": "2024-07-18T22:29:37.542Z"
   },
   {
    "duration": 41,
    "start_time": "2024-07-18T22:29:37.890Z"
   },
   {
    "duration": 6,
    "start_time": "2024-07-18T22:29:37.934Z"
   },
   {
    "duration": 20,
    "start_time": "2024-07-18T22:29:37.943Z"
   },
   {
    "duration": 18,
    "start_time": "2024-07-18T22:29:37.966Z"
   },
   {
    "duration": 372,
    "start_time": "2024-07-18T22:29:37.988Z"
   },
   {
    "duration": 4,
    "start_time": "2024-07-18T22:29:38.365Z"
   },
   {
    "duration": 174,
    "start_time": "2024-07-18T22:29:38.372Z"
   },
   {
    "duration": 17,
    "start_time": "2024-07-18T22:29:38.550Z"
   },
   {
    "duration": 27,
    "start_time": "2024-07-18T22:29:38.571Z"
   },
   {
    "duration": 53,
    "start_time": "2024-07-18T22:29:38.601Z"
   },
   {
    "duration": 5,
    "start_time": "2024-07-18T22:29:38.656Z"
   },
   {
    "duration": 1903,
    "start_time": "2024-07-18T22:29:38.664Z"
   },
   {
    "duration": 516,
    "start_time": "2024-07-18T22:29:40.570Z"
   },
   {
    "duration": 5,
    "start_time": "2024-07-18T22:29:41.093Z"
   },
   {
    "duration": 816,
    "start_time": "2024-07-18T22:29:41.102Z"
   },
   {
    "duration": 170,
    "start_time": "2024-07-18T22:29:41.921Z"
   },
   {
    "duration": 686,
    "start_time": "2024-07-18T22:30:03.112Z"
   },
   {
    "duration": 74,
    "start_time": "2024-07-18T22:33:13.947Z"
   },
   {
    "duration": 82,
    "start_time": "2024-07-18T22:34:17.627Z"
   },
   {
    "duration": 38,
    "start_time": "2024-07-18T22:48:09.185Z"
   },
   {
    "duration": 37,
    "start_time": "2024-07-18T22:48:54.684Z"
   },
   {
    "duration": 7,
    "start_time": "2024-07-18T22:50:21.589Z"
   },
   {
    "duration": 830,
    "start_time": "2024-07-18T22:50:21.601Z"
   },
   {
    "duration": 7,
    "start_time": "2024-07-18T22:50:22.434Z"
   },
   {
    "duration": 343,
    "start_time": "2024-07-18T22:50:22.446Z"
   },
   {
    "duration": 42,
    "start_time": "2024-07-18T22:50:22.792Z"
   },
   {
    "duration": 6,
    "start_time": "2024-07-18T22:50:22.837Z"
   },
   {
    "duration": 17,
    "start_time": "2024-07-18T22:50:22.846Z"
   },
   {
    "duration": 17,
    "start_time": "2024-07-18T22:50:22.866Z"
   },
   {
    "duration": 356,
    "start_time": "2024-07-18T22:50:22.888Z"
   },
   {
    "duration": 3,
    "start_time": "2024-07-18T22:50:23.250Z"
   },
   {
    "duration": 160,
    "start_time": "2024-07-18T22:50:23.257Z"
   },
   {
    "duration": 20,
    "start_time": "2024-07-18T22:50:23.420Z"
   },
   {
    "duration": 27,
    "start_time": "2024-07-18T22:50:23.443Z"
   },
   {
    "duration": 58,
    "start_time": "2024-07-18T22:50:23.473Z"
   },
   {
    "duration": 6,
    "start_time": "2024-07-18T22:50:23.534Z"
   },
   {
    "duration": 1691,
    "start_time": "2024-07-18T22:50:23.543Z"
   },
   {
    "duration": 442,
    "start_time": "2024-07-18T22:50:25.237Z"
   },
   {
    "duration": 5,
    "start_time": "2024-07-18T22:50:25.682Z"
   },
   {
    "duration": 727,
    "start_time": "2024-07-18T22:50:25.690Z"
   },
   {
    "duration": 45,
    "start_time": "2024-07-18T22:50:26.419Z"
   },
   {
    "duration": 615,
    "start_time": "2024-07-18T22:51:37.058Z"
   },
   {
    "duration": 19,
    "start_time": "2024-07-18T22:52:29.179Z"
   },
   {
    "duration": 43,
    "start_time": "2024-07-18T22:55:36.253Z"
   },
   {
    "duration": 225,
    "start_time": "2024-07-18T22:57:20.332Z"
   },
   {
    "duration": 521,
    "start_time": "2024-07-18T23:05:28.766Z"
   },
   {
    "duration": 33,
    "start_time": "2024-07-18T23:08:54.628Z"
   },
   {
    "duration": 33,
    "start_time": "2024-07-18T23:09:23.115Z"
   },
   {
    "duration": 34,
    "start_time": "2024-07-18T23:11:29.191Z"
   },
   {
    "duration": 6,
    "start_time": "2024-07-18T23:12:10.673Z"
   },
   {
    "duration": 80,
    "start_time": "2024-07-18T23:12:39.507Z"
   },
   {
    "duration": 23,
    "start_time": "2024-07-18T23:12:48.927Z"
   },
   {
    "duration": 33,
    "start_time": "2024-07-18T23:14:47.757Z"
   },
   {
    "duration": 36,
    "start_time": "2024-07-18T23:19:02.758Z"
   },
   {
    "duration": 1676,
    "start_time": "2024-07-18T23:22:47.775Z"
   },
   {
    "duration": 8,
    "start_time": "2024-07-18T23:28:22.879Z"
   },
   {
    "duration": 62,
    "start_time": "2024-07-18T23:28:28.643Z"
   },
   {
    "duration": 63,
    "start_time": "2024-07-18T23:30:40.336Z"
   },
   {
    "duration": 41,
    "start_time": "2024-07-18T23:32:27.119Z"
   },
   {
    "duration": 65,
    "start_time": "2024-07-18T23:34:07.657Z"
   },
   {
    "duration": 22,
    "start_time": "2024-07-18T23:44:50.100Z"
   },
   {
    "duration": 46,
    "start_time": "2024-07-18T23:45:33.961Z"
   },
   {
    "duration": 89,
    "start_time": "2024-07-18T23:50:52.558Z"
   },
   {
    "duration": 70,
    "start_time": "2024-07-18T23:51:46.444Z"
   },
   {
    "duration": 6,
    "start_time": "2024-07-18T23:52:01.219Z"
   },
   {
    "duration": 55,
    "start_time": "2024-07-19T00:04:23.511Z"
   },
   {
    "duration": 54,
    "start_time": "2024-07-19T00:05:13.007Z"
   },
   {
    "duration": 260,
    "start_time": "2024-07-19T00:11:06.691Z"
   },
   {
    "duration": 640,
    "start_time": "2024-07-19T00:13:40.305Z"
   },
   {
    "duration": 618,
    "start_time": "2024-07-19T00:17:12.571Z"
   },
   {
    "duration": 83,
    "start_time": "2024-07-19T00:19:14.763Z"
   },
   {
    "duration": 87,
    "start_time": "2024-07-19T00:19:21.403Z"
   },
   {
    "duration": 6,
    "start_time": "2024-07-19T00:21:10.305Z"
   },
   {
    "duration": 205,
    "start_time": "2024-07-19T00:23:10.214Z"
   },
   {
    "duration": 13,
    "start_time": "2024-07-19T00:24:12.685Z"
   },
   {
    "duration": 12,
    "start_time": "2024-07-19T00:32:24.764Z"
   },
   {
    "duration": 65,
    "start_time": "2024-07-19T00:34:48.155Z"
   },
   {
    "duration": 66,
    "start_time": "2024-07-19T00:34:55.467Z"
   },
   {
    "duration": 65,
    "start_time": "2024-07-19T00:35:45.779Z"
   },
   {
    "duration": 11,
    "start_time": "2024-07-19T00:35:51.157Z"
   },
   {
    "duration": 84,
    "start_time": "2024-07-19T00:38:33.183Z"
   },
   {
    "duration": 4,
    "start_time": "2024-07-19T00:39:06.658Z"
   },
   {
    "duration": 67,
    "start_time": "2024-07-19T00:39:10.422Z"
   },
   {
    "duration": 22,
    "start_time": "2024-07-19T00:45:22.642Z"
   },
   {
    "duration": 17,
    "start_time": "2024-07-19T00:47:55.980Z"
   },
   {
    "duration": 15,
    "start_time": "2024-07-19T00:48:09.805Z"
   },
   {
    "duration": 18,
    "start_time": "2024-07-19T00:49:12.049Z"
   },
   {
    "duration": 57,
    "start_time": "2024-07-19T00:51:58.964Z"
   },
   {
    "duration": 13,
    "start_time": "2024-07-19T01:05:12.174Z"
   },
   {
    "duration": 17,
    "start_time": "2024-07-19T01:06:12.845Z"
   },
   {
    "duration": 35,
    "start_time": "2024-07-19T01:06:36.178Z"
   },
   {
    "duration": 50,
    "start_time": "2024-07-19T01:07:14.087Z"
   },
   {
    "duration": 54,
    "start_time": "2024-07-19T01:07:38.614Z"
   },
   {
    "duration": 5288,
    "start_time": "2024-07-19T21:34:53.869Z"
   },
   {
    "duration": 493,
    "start_time": "2024-07-19T22:24:51.645Z"
   },
   {
    "duration": 7,
    "start_time": "2024-07-19T22:25:08.473Z"
   },
   {
    "duration": 966,
    "start_time": "2024-07-19T22:25:08.485Z"
   },
   {
    "duration": 7,
    "start_time": "2024-07-19T22:25:09.453Z"
   },
   {
    "duration": 320,
    "start_time": "2024-07-19T22:25:09.468Z"
   },
   {
    "duration": 22,
    "start_time": "2024-07-19T22:25:09.793Z"
   },
   {
    "duration": 5,
    "start_time": "2024-07-19T22:25:09.818Z"
   },
   {
    "duration": 51,
    "start_time": "2024-07-19T22:25:09.827Z"
   },
   {
    "duration": 18,
    "start_time": "2024-07-19T22:25:09.881Z"
   },
   {
    "duration": 358,
    "start_time": "2024-07-19T22:25:09.901Z"
   },
   {
    "duration": 4,
    "start_time": "2024-07-19T22:25:10.267Z"
   },
   {
    "duration": 163,
    "start_time": "2024-07-19T22:25:10.274Z"
   },
   {
    "duration": 28,
    "start_time": "2024-07-19T22:25:10.439Z"
   },
   {
    "duration": 27,
    "start_time": "2024-07-19T22:25:10.470Z"
   },
   {
    "duration": 21,
    "start_time": "2024-07-19T22:25:10.503Z"
   },
   {
    "duration": 5,
    "start_time": "2024-07-19T22:25:10.527Z"
   },
   {
    "duration": 1711,
    "start_time": "2024-07-19T22:25:10.567Z"
   },
   {
    "duration": 537,
    "start_time": "2024-07-19T22:25:12.282Z"
   },
   {
    "duration": 5,
    "start_time": "2024-07-19T22:25:12.822Z"
   },
   {
    "duration": 587,
    "start_time": "2024-07-19T22:25:12.830Z"
   },
   {
    "duration": 67,
    "start_time": "2024-07-19T22:25:13.419Z"
   },
   {
    "duration": 6,
    "start_time": "2024-07-19T22:25:13.489Z"
   },
   {
    "duration": 5,
    "start_time": "2024-07-19T22:25:13.499Z"
   },
   {
    "duration": 1380,
    "start_time": "2024-07-19T22:25:13.508Z"
   },
   {
    "duration": 6,
    "start_time": "2024-07-19T22:26:41.368Z"
   },
   {
    "duration": 9,
    "start_time": "2024-07-19T22:27:21.289Z"
   },
   {
    "duration": 13,
    "start_time": "2024-07-19T22:32:17.804Z"
   },
   {
    "duration": 9,
    "start_time": "2024-07-19T22:46:37.932Z"
   },
   {
    "duration": 22,
    "start_time": "2024-07-19T22:50:36.198Z"
   },
   {
    "duration": 7,
    "start_time": "2024-07-19T23:25:02.417Z"
   },
   {
    "duration": 764,
    "start_time": "2024-07-19T23:25:02.429Z"
   },
   {
    "duration": 6,
    "start_time": "2024-07-19T23:25:03.196Z"
   },
   {
    "duration": 427,
    "start_time": "2024-07-19T23:25:03.207Z"
   },
   {
    "duration": 38,
    "start_time": "2024-07-19T23:25:03.638Z"
   },
   {
    "duration": 6,
    "start_time": "2024-07-19T23:25:03.680Z"
   },
   {
    "duration": 19,
    "start_time": "2024-07-19T23:25:03.689Z"
   },
   {
    "duration": 17,
    "start_time": "2024-07-19T23:25:03.710Z"
   },
   {
    "duration": 339,
    "start_time": "2024-07-19T23:25:03.767Z"
   },
   {
    "duration": 5,
    "start_time": "2024-07-19T23:25:04.113Z"
   },
   {
    "duration": 167,
    "start_time": "2024-07-19T23:25:04.121Z"
   },
   {
    "duration": 17,
    "start_time": "2024-07-19T23:25:04.291Z"
   },
   {
    "duration": 55,
    "start_time": "2024-07-19T23:25:04.312Z"
   },
   {
    "duration": 23,
    "start_time": "2024-07-19T23:25:04.369Z"
   },
   {
    "duration": 6,
    "start_time": "2024-07-19T23:25:04.395Z"
   },
   {
    "duration": 1754,
    "start_time": "2024-07-19T23:25:04.404Z"
   },
   {
    "duration": 465,
    "start_time": "2024-07-19T23:25:06.170Z"
   },
   {
    "duration": 5,
    "start_time": "2024-07-19T23:25:06.638Z"
   },
   {
    "duration": 591,
    "start_time": "2024-07-19T23:25:06.647Z"
   },
   {
    "duration": 75,
    "start_time": "2024-07-19T23:25:07.242Z"
   },
   {
    "duration": 8,
    "start_time": "2024-07-19T23:25:07.323Z"
   },
   {
    "duration": 33,
    "start_time": "2024-07-19T23:25:07.334Z"
   },
   {
    "duration": 11,
    "start_time": "2024-07-19T23:25:07.371Z"
   },
   {
    "duration": 27,
    "start_time": "2024-07-19T23:25:07.385Z"
   },
   {
    "duration": 316,
    "start_time": "2024-07-19T23:25:07.415Z"
   },
   {
    "duration": 0,
    "start_time": "2024-07-19T23:25:07.734Z"
   },
   {
    "duration": 0,
    "start_time": "2024-07-19T23:25:07.736Z"
   },
   {
    "duration": 8,
    "start_time": "2024-07-19T23:28:37.738Z"
   },
   {
    "duration": 795,
    "start_time": "2024-07-19T23:28:37.750Z"
   },
   {
    "duration": 6,
    "start_time": "2024-07-19T23:28:38.548Z"
   },
   {
    "duration": 317,
    "start_time": "2024-07-19T23:28:38.569Z"
   },
   {
    "duration": 22,
    "start_time": "2024-07-19T23:28:38.892Z"
   },
   {
    "duration": 5,
    "start_time": "2024-07-19T23:28:38.917Z"
   },
   {
    "duration": 47,
    "start_time": "2024-07-19T23:28:38.925Z"
   },
   {
    "duration": 17,
    "start_time": "2024-07-19T23:28:38.976Z"
   },
   {
    "duration": 328,
    "start_time": "2024-07-19T23:28:38.996Z"
   },
   {
    "duration": 4,
    "start_time": "2024-07-19T23:28:39.327Z"
   },
   {
    "duration": 161,
    "start_time": "2024-07-19T23:28:39.334Z"
   },
   {
    "duration": 18,
    "start_time": "2024-07-19T23:28:39.497Z"
   },
   {
    "duration": 55,
    "start_time": "2024-07-19T23:28:39.519Z"
   },
   {
    "duration": 21,
    "start_time": "2024-07-19T23:28:39.580Z"
   },
   {
    "duration": 5,
    "start_time": "2024-07-19T23:28:39.604Z"
   },
   {
    "duration": 1683,
    "start_time": "2024-07-19T23:28:39.613Z"
   },
   {
    "duration": 464,
    "start_time": "2024-07-19T23:28:41.299Z"
   },
   {
    "duration": 6,
    "start_time": "2024-07-19T23:28:41.768Z"
   },
   {
    "duration": 619,
    "start_time": "2024-07-19T23:28:41.777Z"
   },
   {
    "duration": 71,
    "start_time": "2024-07-19T23:28:42.399Z"
   },
   {
    "duration": 4,
    "start_time": "2024-07-19T23:28:42.474Z"
   },
   {
    "duration": 6,
    "start_time": "2024-07-19T23:28:42.482Z"
   },
   {
    "duration": 11,
    "start_time": "2024-07-19T23:28:42.493Z"
   },
   {
    "duration": 61,
    "start_time": "2024-07-19T23:28:42.507Z"
   },
   {
    "duration": 713,
    "start_time": "2024-07-19T23:28:42.571Z"
   },
   {
    "duration": 0,
    "start_time": "2024-07-19T23:28:43.287Z"
   },
   {
    "duration": 0,
    "start_time": "2024-07-19T23:28:43.290Z"
   },
   {
    "duration": 7,
    "start_time": "2024-07-19T23:29:24.516Z"
   },
   {
    "duration": 766,
    "start_time": "2024-07-19T23:29:24.527Z"
   },
   {
    "duration": 6,
    "start_time": "2024-07-19T23:29:25.296Z"
   },
   {
    "duration": 310,
    "start_time": "2024-07-19T23:29:25.305Z"
   },
   {
    "duration": 24,
    "start_time": "2024-07-19T23:29:25.620Z"
   },
   {
    "duration": 4,
    "start_time": "2024-07-19T23:29:25.670Z"
   },
   {
    "duration": 18,
    "start_time": "2024-07-19T23:29:25.678Z"
   },
   {
    "duration": 18,
    "start_time": "2024-07-19T23:29:25.699Z"
   },
   {
    "duration": 383,
    "start_time": "2024-07-19T23:29:25.719Z"
   },
   {
    "duration": 5,
    "start_time": "2024-07-19T23:29:26.106Z"
   },
   {
    "duration": 178,
    "start_time": "2024-07-19T23:29:26.114Z"
   },
   {
    "duration": 16,
    "start_time": "2024-07-19T23:29:26.296Z"
   },
   {
    "duration": 54,
    "start_time": "2024-07-19T23:29:26.315Z"
   },
   {
    "duration": 22,
    "start_time": "2024-07-19T23:29:26.378Z"
   },
   {
    "duration": 6,
    "start_time": "2024-07-19T23:29:26.402Z"
   },
   {
    "duration": 1780,
    "start_time": "2024-07-19T23:29:26.412Z"
   },
   {
    "duration": 493,
    "start_time": "2024-07-19T23:29:28.196Z"
   },
   {
    "duration": 5,
    "start_time": "2024-07-19T23:29:28.695Z"
   },
   {
    "duration": 800,
    "start_time": "2024-07-19T23:29:28.703Z"
   },
   {
    "duration": 73,
    "start_time": "2024-07-19T23:29:29.506Z"
   },
   {
    "duration": 5,
    "start_time": "2024-07-19T23:29:29.581Z"
   },
   {
    "duration": 5,
    "start_time": "2024-07-19T23:29:29.590Z"
   },
   {
    "duration": 11,
    "start_time": "2024-07-19T23:29:29.599Z"
   },
   {
    "duration": 61,
    "start_time": "2024-07-19T23:29:29.613Z"
   },
   {
    "duration": 3405,
    "start_time": "2024-07-19T23:29:29.677Z"
   },
   {
    "duration": 312,
    "start_time": "2024-07-19T23:29:33.085Z"
   },
   {
    "duration": 0,
    "start_time": "2024-07-19T23:29:33.400Z"
   },
   {
    "duration": 2066,
    "start_time": "2024-07-19T23:30:17.614Z"
   },
   {
    "duration": 6,
    "start_time": "2024-07-19T23:33:27.977Z"
   },
   {
    "duration": 30,
    "start_time": "2024-07-19T23:39:07.649Z"
   },
   {
    "duration": 7,
    "start_time": "2024-07-19T23:39:14.021Z"
   },
   {
    "duration": 744,
    "start_time": "2024-07-19T23:39:14.031Z"
   },
   {
    "duration": 6,
    "start_time": "2024-07-19T23:39:14.778Z"
   },
   {
    "duration": 325,
    "start_time": "2024-07-19T23:39:14.789Z"
   },
   {
    "duration": 22,
    "start_time": "2024-07-19T23:39:15.118Z"
   },
   {
    "duration": 26,
    "start_time": "2024-07-19T23:39:15.143Z"
   },
   {
    "duration": 16,
    "start_time": "2024-07-19T23:39:15.173Z"
   },
   {
    "duration": 21,
    "start_time": "2024-07-19T23:39:15.192Z"
   },
   {
    "duration": 355,
    "start_time": "2024-07-19T23:39:15.220Z"
   },
   {
    "duration": 5,
    "start_time": "2024-07-19T23:39:15.578Z"
   },
   {
    "duration": 159,
    "start_time": "2024-07-19T23:39:15.586Z"
   },
   {
    "duration": 30,
    "start_time": "2024-07-19T23:39:15.748Z"
   },
   {
    "duration": 27,
    "start_time": "2024-07-19T23:39:15.782Z"
   },
   {
    "duration": 21,
    "start_time": "2024-07-19T23:39:15.812Z"
   },
   {
    "duration": 34,
    "start_time": "2024-07-19T23:39:15.836Z"
   },
   {
    "duration": 1752,
    "start_time": "2024-07-19T23:39:15.873Z"
   },
   {
    "duration": 474,
    "start_time": "2024-07-19T23:39:17.627Z"
   },
   {
    "duration": 5,
    "start_time": "2024-07-19T23:39:18.104Z"
   },
   {
    "duration": 604,
    "start_time": "2024-07-19T23:39:18.112Z"
   },
   {
    "duration": 70,
    "start_time": "2024-07-19T23:39:18.719Z"
   },
   {
    "duration": 10,
    "start_time": "2024-07-19T23:39:18.792Z"
   },
   {
    "duration": 6,
    "start_time": "2024-07-19T23:39:18.804Z"
   },
   {
    "duration": 4,
    "start_time": "2024-07-19T23:39:18.813Z"
   },
   {
    "duration": 45,
    "start_time": "2024-07-19T23:39:18.824Z"
   },
   {
    "duration": 24,
    "start_time": "2024-07-19T23:39:18.873Z"
   },
   {
    "duration": 6590,
    "start_time": "2024-07-19T23:39:18.900Z"
   },
   {
    "duration": 2176,
    "start_time": "2024-07-19T23:39:25.493Z"
   },
   {
    "duration": 1,
    "start_time": "2024-07-19T23:39:27.673Z"
   },
   {
    "duration": 10,
    "start_time": "2024-07-19T23:43:46.765Z"
   },
   {
    "duration": 38,
    "start_time": "2024-07-19T23:44:36.244Z"
   },
   {
    "duration": 10,
    "start_time": "2024-07-19T23:44:52.092Z"
   },
   {
    "duration": 6797,
    "start_time": "2024-07-20T00:00:29.973Z"
   },
   {
    "duration": 4,
    "start_time": "2024-07-20T00:03:00.908Z"
   },
   {
    "duration": 14514,
    "start_time": "2024-07-20T00:03:28.671Z"
   },
   {
    "duration": 13501,
    "start_time": "2024-07-20T00:11:08.581Z"
   },
   {
    "duration": 4,
    "start_time": "2024-07-20T00:11:39.327Z"
   },
   {
    "duration": 14940,
    "start_time": "2024-07-20T00:11:53.137Z"
   },
   {
    "duration": 4,
    "start_time": "2024-07-20T00:19:02.912Z"
   },
   {
    "duration": 14963,
    "start_time": "2024-07-20T00:19:12.304Z"
   },
   {
    "duration": 8,
    "start_time": "2024-07-20T00:36:57.370Z"
   },
   {
    "duration": 899,
    "start_time": "2024-07-20T00:36:57.382Z"
   },
   {
    "duration": 9,
    "start_time": "2024-07-20T00:36:58.285Z"
   },
   {
    "duration": 322,
    "start_time": "2024-07-20T00:36:58.300Z"
   },
   {
    "duration": 45,
    "start_time": "2024-07-20T00:36:58.626Z"
   },
   {
    "duration": 5,
    "start_time": "2024-07-20T00:36:58.674Z"
   },
   {
    "duration": 17,
    "start_time": "2024-07-20T00:36:58.683Z"
   },
   {
    "duration": 22,
    "start_time": "2024-07-20T00:36:58.703Z"
   },
   {
    "duration": 399,
    "start_time": "2024-07-20T00:36:58.729Z"
   },
   {
    "duration": 7,
    "start_time": "2024-07-20T00:36:59.135Z"
   },
   {
    "duration": 177,
    "start_time": "2024-07-20T00:36:59.148Z"
   },
   {
    "duration": 19,
    "start_time": "2024-07-20T00:36:59.328Z"
   },
   {
    "duration": 33,
    "start_time": "2024-07-20T00:36:59.367Z"
   },
   {
    "duration": 21,
    "start_time": "2024-07-20T00:36:59.407Z"
   },
   {
    "duration": 5,
    "start_time": "2024-07-20T00:36:59.431Z"
   },
   {
    "duration": 1753,
    "start_time": "2024-07-20T00:36:59.469Z"
   },
   {
    "duration": 492,
    "start_time": "2024-07-20T00:37:01.226Z"
   },
   {
    "duration": 6,
    "start_time": "2024-07-20T00:37:01.722Z"
   },
   {
    "duration": 594,
    "start_time": "2024-07-20T00:37:01.732Z"
   },
   {
    "duration": 71,
    "start_time": "2024-07-20T00:37:02.330Z"
   },
   {
    "duration": 4,
    "start_time": "2024-07-20T00:37:02.404Z"
   },
   {
    "duration": 5,
    "start_time": "2024-07-20T00:37:02.411Z"
   },
   {
    "duration": 4,
    "start_time": "2024-07-20T00:37:02.420Z"
   },
   {
    "duration": 47,
    "start_time": "2024-07-20T00:37:02.427Z"
   },
   {
    "duration": 27,
    "start_time": "2024-07-20T00:37:02.478Z"
   },
   {
    "duration": 11764,
    "start_time": "2024-07-20T00:37:02.509Z"
   },
   {
    "duration": 1571,
    "start_time": "2024-07-20T00:37:14.278Z"
   },
   {
    "duration": 0,
    "start_time": "2024-07-20T00:37:15.853Z"
   },
   {
    "duration": 259427,
    "start_time": "2024-07-20T00:42:44.826Z"
   },
   {
    "duration": 43,
    "start_time": "2024-07-20T00:48:30.263Z"
   },
   {
    "duration": 5603,
    "start_time": "2024-07-20T00:48:40.685Z"
   },
   {
    "duration": 14524,
    "start_time": "2024-07-20T00:49:04.279Z"
   },
   {
    "duration": 1733,
    "start_time": "2024-07-20T00:50:51.208Z"
   },
   {
    "duration": 845,
    "start_time": "2024-07-20T00:50:52.945Z"
   },
   {
    "duration": 11,
    "start_time": "2024-07-20T00:50:53.796Z"
   },
   {
    "duration": 338,
    "start_time": "2024-07-20T00:50:53.811Z"
   },
   {
    "duration": 25,
    "start_time": "2024-07-20T00:50:54.168Z"
   },
   {
    "duration": 5,
    "start_time": "2024-07-20T00:50:54.196Z"
   },
   {
    "duration": 20,
    "start_time": "2024-07-20T00:50:54.204Z"
   },
   {
    "duration": 50,
    "start_time": "2024-07-20T00:50:54.227Z"
   },
   {
    "duration": 361,
    "start_time": "2024-07-20T00:50:54.282Z"
   },
   {
    "duration": 16,
    "start_time": "2024-07-20T00:50:54.651Z"
   },
   {
    "duration": 162,
    "start_time": "2024-07-20T00:50:54.670Z"
   },
   {
    "duration": 31,
    "start_time": "2024-07-20T00:50:54.838Z"
   },
   {
    "duration": 36,
    "start_time": "2024-07-20T00:50:54.873Z"
   },
   {
    "duration": 22,
    "start_time": "2024-07-20T00:50:54.912Z"
   },
   {
    "duration": 32,
    "start_time": "2024-07-20T00:50:54.937Z"
   },
   {
    "duration": 1832,
    "start_time": "2024-07-20T00:50:54.973Z"
   },
   {
    "duration": 585,
    "start_time": "2024-07-20T00:50:56.809Z"
   },
   {
    "duration": 8,
    "start_time": "2024-07-20T00:50:57.408Z"
   },
   {
    "duration": 620,
    "start_time": "2024-07-20T00:50:57.421Z"
   },
   {
    "duration": 71,
    "start_time": "2024-07-20T00:50:58.046Z"
   },
   {
    "duration": 5,
    "start_time": "2024-07-20T00:50:58.121Z"
   },
   {
    "duration": 4,
    "start_time": "2024-07-20T00:50:58.130Z"
   },
   {
    "duration": 32,
    "start_time": "2024-07-20T00:50:58.136Z"
   },
   {
    "duration": 13,
    "start_time": "2024-07-20T00:50:58.172Z"
   },
   {
    "duration": 25,
    "start_time": "2024-07-20T00:50:58.189Z"
   },
   {
    "duration": 11945,
    "start_time": "2024-07-20T00:50:58.217Z"
   },
   {
    "duration": 0,
    "start_time": "2024-07-20T00:51:10.169Z"
   },
   {
    "duration": 0,
    "start_time": "2024-07-20T00:51:10.172Z"
   },
   {
    "duration": 9,
    "start_time": "2024-07-20T00:51:32.937Z"
   },
   {
    "duration": 887,
    "start_time": "2024-07-20T00:51:32.951Z"
   },
   {
    "duration": 7,
    "start_time": "2024-07-20T00:51:33.842Z"
   },
   {
    "duration": 334,
    "start_time": "2024-07-20T00:51:33.854Z"
   },
   {
    "duration": 23,
    "start_time": "2024-07-20T00:51:34.191Z"
   },
   {
    "duration": 6,
    "start_time": "2024-07-20T00:51:34.218Z"
   },
   {
    "duration": 53,
    "start_time": "2024-07-20T00:51:34.227Z"
   },
   {
    "duration": 22,
    "start_time": "2024-07-20T00:51:34.283Z"
   },
   {
    "duration": 376,
    "start_time": "2024-07-20T00:51:34.309Z"
   },
   {
    "duration": 4,
    "start_time": "2024-07-20T00:51:34.693Z"
   },
   {
    "duration": 169,
    "start_time": "2024-07-20T00:51:34.700Z"
   },
   {
    "duration": 20,
    "start_time": "2024-07-20T00:51:34.873Z"
   },
   {
    "duration": 29,
    "start_time": "2024-07-20T00:51:34.896Z"
   },
   {
    "duration": 67,
    "start_time": "2024-07-20T00:51:34.928Z"
   },
   {
    "duration": 7,
    "start_time": "2024-07-20T00:51:34.999Z"
   },
   {
    "duration": 1890,
    "start_time": "2024-07-20T00:51:35.012Z"
   },
   {
    "duration": 503,
    "start_time": "2024-07-20T00:51:36.906Z"
   },
   {
    "duration": 6,
    "start_time": "2024-07-20T00:51:37.412Z"
   },
   {
    "duration": 631,
    "start_time": "2024-07-20T00:51:37.422Z"
   },
   {
    "duration": 86,
    "start_time": "2024-07-20T00:51:38.058Z"
   },
   {
    "duration": 23,
    "start_time": "2024-07-20T00:51:38.148Z"
   },
   {
    "duration": 9,
    "start_time": "2024-07-20T00:51:38.183Z"
   },
   {
    "duration": 6,
    "start_time": "2024-07-20T00:51:38.198Z"
   },
   {
    "duration": 13,
    "start_time": "2024-07-20T00:51:38.208Z"
   },
   {
    "duration": 54,
    "start_time": "2024-07-20T00:51:38.224Z"
   },
   {
    "duration": 13914,
    "start_time": "2024-07-20T00:51:38.282Z"
   },
   {
    "duration": 259696,
    "start_time": "2024-07-20T00:51:52.275Z"
   },
   {
    "duration": 5124,
    "start_time": "2024-07-20T04:50:12.453Z"
   },
   {
    "duration": 990,
    "start_time": "2024-07-20T04:50:17.581Z"
   },
   {
    "duration": 7,
    "start_time": "2024-07-20T04:50:18.574Z"
   },
   {
    "duration": 378,
    "start_time": "2024-07-20T04:50:18.584Z"
   },
   {
    "duration": 21,
    "start_time": "2024-07-20T04:50:18.967Z"
   },
   {
    "duration": 5,
    "start_time": "2024-07-20T04:50:18.992Z"
   },
   {
    "duration": 18,
    "start_time": "2024-07-20T04:50:19.030Z"
   },
   {
    "duration": 20,
    "start_time": "2024-07-20T04:50:19.055Z"
   },
   {
    "duration": 363,
    "start_time": "2024-07-20T04:50:19.078Z"
   },
   {
    "duration": 6,
    "start_time": "2024-07-20T04:50:19.444Z"
   },
   {
    "duration": 170,
    "start_time": "2024-07-20T04:50:19.453Z"
   },
   {
    "duration": 16,
    "start_time": "2024-07-20T04:50:19.626Z"
   },
   {
    "duration": 26,
    "start_time": "2024-07-20T04:50:19.646Z"
   },
   {
    "duration": 57,
    "start_time": "2024-07-20T04:50:19.678Z"
   },
   {
    "duration": 5,
    "start_time": "2024-07-20T04:50:19.738Z"
   },
   {
    "duration": 1679,
    "start_time": "2024-07-20T04:50:19.746Z"
   },
   {
    "duration": 458,
    "start_time": "2024-07-20T04:50:21.431Z"
   },
   {
    "duration": 6,
    "start_time": "2024-07-20T04:50:21.892Z"
   },
   {
    "duration": 704,
    "start_time": "2024-07-20T04:50:21.901Z"
   },
   {
    "duration": 68,
    "start_time": "2024-07-20T04:50:22.608Z"
   },
   {
    "duration": 6,
    "start_time": "2024-07-20T04:50:22.679Z"
   },
   {
    "duration": 3,
    "start_time": "2024-07-20T04:50:22.689Z"
   },
   {
    "duration": 34,
    "start_time": "2024-07-20T04:50:22.696Z"
   },
   {
    "duration": 13,
    "start_time": "2024-07-20T04:50:22.733Z"
   },
   {
    "duration": 23,
    "start_time": "2024-07-20T04:50:22.749Z"
   },
   {
    "duration": 13571,
    "start_time": "2024-07-20T04:50:22.774Z"
   },
   {
    "duration": 255189,
    "start_time": "2024-07-20T04:50:36.351Z"
   },
   {
    "duration": 5658832,
    "start_time": "2024-07-20T04:54:51.543Z"
   },
   {
    "duration": 5896000,
    "start_time": "2024-07-20T06:29:18.030Z"
   },
   {
    "duration": 0,
    "start_time": "2024-07-20T08:07:34.036Z"
   },
   {
    "duration": 0,
    "start_time": "2024-07-20T08:07:34.038Z"
   },
   {
    "duration": 1551,
    "start_time": "2024-07-20T08:07:57.037Z"
   },
   {
    "duration": 780,
    "start_time": "2024-07-20T08:07:58.591Z"
   },
   {
    "duration": 6,
    "start_time": "2024-07-20T08:07:59.374Z"
   },
   {
    "duration": 315,
    "start_time": "2024-07-20T08:07:59.385Z"
   },
   {
    "duration": 33,
    "start_time": "2024-07-20T08:07:59.703Z"
   },
   {
    "duration": 4,
    "start_time": "2024-07-20T08:07:59.743Z"
   },
   {
    "duration": 23,
    "start_time": "2024-07-20T08:07:59.751Z"
   },
   {
    "duration": 54,
    "start_time": "2024-07-20T08:07:59.777Z"
   },
   {
    "duration": 334,
    "start_time": "2024-07-20T08:07:59.834Z"
   },
   {
    "duration": 4,
    "start_time": "2024-07-20T08:08:00.173Z"
   },
   {
    "duration": 171,
    "start_time": "2024-07-20T08:08:00.179Z"
   },
   {
    "duration": 16,
    "start_time": "2024-07-20T08:08:00.353Z"
   },
   {
    "duration": 27,
    "start_time": "2024-07-20T08:08:00.371Z"
   },
   {
    "duration": 22,
    "start_time": "2024-07-20T08:08:00.431Z"
   },
   {
    "duration": 5,
    "start_time": "2024-07-20T08:08:00.456Z"
   },
   {
    "duration": 1743,
    "start_time": "2024-07-20T08:08:00.465Z"
   },
   {
    "duration": 576,
    "start_time": "2024-07-20T08:08:02.211Z"
   },
   {
    "duration": 6,
    "start_time": "2024-07-20T08:08:02.790Z"
   },
   {
    "duration": 627,
    "start_time": "2024-07-20T08:08:02.799Z"
   },
   {
    "duration": 59,
    "start_time": "2024-07-20T08:08:03.434Z"
   },
   {
    "duration": 4,
    "start_time": "2024-07-20T08:08:03.496Z"
   },
   {
    "duration": 4,
    "start_time": "2024-07-20T08:08:03.530Z"
   },
   {
    "duration": 5,
    "start_time": "2024-07-20T08:08:03.537Z"
   },
   {
    "duration": 11,
    "start_time": "2024-07-20T08:08:03.545Z"
   },
   {
    "duration": 24,
    "start_time": "2024-07-20T08:08:03.560Z"
   },
   {
    "duration": 13248,
    "start_time": "2024-07-20T08:08:03.587Z"
   },
   {
    "duration": 13866,
    "start_time": "2024-07-20T08:08:16.838Z"
   },
   {
    "duration": 255420,
    "start_time": "2024-07-20T08:08:30.712Z"
   },
   {
    "duration": 5,
    "start_time": "2024-07-20T08:19:33.784Z"
   },
   {
    "duration": 765,
    "start_time": "2024-07-20T08:19:33.794Z"
   },
   {
    "duration": 6,
    "start_time": "2024-07-20T08:19:34.562Z"
   },
   {
    "duration": 303,
    "start_time": "2024-07-20T08:19:34.570Z"
   },
   {
    "duration": 21,
    "start_time": "2024-07-20T08:19:34.878Z"
   },
   {
    "duration": 30,
    "start_time": "2024-07-20T08:19:34.902Z"
   },
   {
    "duration": 15,
    "start_time": "2024-07-20T08:19:34.934Z"
   },
   {
    "duration": 18,
    "start_time": "2024-07-20T08:19:34.952Z"
   },
   {
    "duration": 336,
    "start_time": "2024-07-20T08:19:34.973Z"
   },
   {
    "duration": 4,
    "start_time": "2024-07-20T08:19:35.312Z"
   },
   {
    "duration": 154,
    "start_time": "2024-07-20T08:19:35.319Z"
   },
   {
    "duration": 16,
    "start_time": "2024-07-20T08:19:35.476Z"
   },
   {
    "duration": 50,
    "start_time": "2024-07-20T08:19:35.500Z"
   },
   {
    "duration": 29,
    "start_time": "2024-07-20T08:19:35.554Z"
   },
   {
    "duration": 8,
    "start_time": "2024-07-20T08:19:35.586Z"
   },
   {
    "duration": 1799,
    "start_time": "2024-07-20T08:19:35.598Z"
   },
   {
    "duration": 460,
    "start_time": "2024-07-20T08:19:37.400Z"
   },
   {
    "duration": 5,
    "start_time": "2024-07-20T08:19:37.863Z"
   },
   {
    "duration": 570,
    "start_time": "2024-07-20T08:19:37.872Z"
   },
   {
    "duration": 54,
    "start_time": "2024-07-20T08:19:38.445Z"
   },
   {
    "duration": 28,
    "start_time": "2024-07-20T08:19:38.503Z"
   },
   {
    "duration": 5,
    "start_time": "2024-07-20T08:19:38.534Z"
   },
   {
    "duration": 3,
    "start_time": "2024-07-20T08:19:38.543Z"
   },
   {
    "duration": 10,
    "start_time": "2024-07-20T08:19:38.549Z"
   },
   {
    "duration": 23,
    "start_time": "2024-07-20T08:19:38.562Z"
   },
   {
    "duration": 12001,
    "start_time": "2024-07-20T08:19:38.632Z"
   },
   {
    "duration": 130055,
    "start_time": "2024-07-20T08:19:50.635Z"
   },
   {
    "duration": 0,
    "start_time": "2024-07-20T08:22:00.692Z"
   },
   {
    "duration": 129408,
    "start_time": "2024-07-20T08:23:30.244Z"
   },
   {
    "duration": 129583,
    "start_time": "2024-07-20T08:25:58.190Z"
   },
   {
    "duration": 7,
    "start_time": "2024-07-20T08:30:10.751Z"
   },
   {
    "duration": 6910,
    "start_time": "2024-07-22T16:18:45.503Z"
   },
   {
    "duration": 0,
    "start_time": "2024-07-22T16:18:52.418Z"
   },
   {
    "duration": 0,
    "start_time": "2024-07-22T16:18:52.421Z"
   },
   {
    "duration": 0,
    "start_time": "2024-07-22T16:18:52.422Z"
   },
   {
    "duration": 0,
    "start_time": "2024-07-22T16:18:52.423Z"
   },
   {
    "duration": 0,
    "start_time": "2024-07-22T16:18:52.432Z"
   },
   {
    "duration": 0,
    "start_time": "2024-07-22T16:18:52.434Z"
   },
   {
    "duration": 0,
    "start_time": "2024-07-22T16:18:52.439Z"
   },
   {
    "duration": 0,
    "start_time": "2024-07-22T16:18:52.442Z"
   },
   {
    "duration": 0,
    "start_time": "2024-07-22T16:18:52.445Z"
   },
   {
    "duration": 0,
    "start_time": "2024-07-22T16:18:52.447Z"
   },
   {
    "duration": 0,
    "start_time": "2024-07-22T16:18:52.449Z"
   },
   {
    "duration": 0,
    "start_time": "2024-07-22T16:18:52.452Z"
   },
   {
    "duration": 0,
    "start_time": "2024-07-22T16:18:52.454Z"
   },
   {
    "duration": 0,
    "start_time": "2024-07-22T16:18:52.457Z"
   },
   {
    "duration": 0,
    "start_time": "2024-07-22T16:18:52.459Z"
   },
   {
    "duration": 0,
    "start_time": "2024-07-22T16:18:52.461Z"
   },
   {
    "duration": 0,
    "start_time": "2024-07-22T16:18:52.464Z"
   },
   {
    "duration": 0,
    "start_time": "2024-07-22T16:18:52.466Z"
   },
   {
    "duration": 0,
    "start_time": "2024-07-22T16:18:52.468Z"
   },
   {
    "duration": 0,
    "start_time": "2024-07-22T16:18:52.471Z"
   },
   {
    "duration": 0,
    "start_time": "2024-07-22T16:18:52.473Z"
   },
   {
    "duration": 0,
    "start_time": "2024-07-22T16:18:52.533Z"
   },
   {
    "duration": 0,
    "start_time": "2024-07-22T16:18:52.535Z"
   },
   {
    "duration": 0,
    "start_time": "2024-07-22T16:18:52.537Z"
   },
   {
    "duration": 0,
    "start_time": "2024-07-22T16:18:52.540Z"
   },
   {
    "duration": 0,
    "start_time": "2024-07-22T16:18:52.542Z"
   },
   {
    "duration": 0,
    "start_time": "2024-07-22T16:18:52.544Z"
   },
   {
    "duration": 0,
    "start_time": "2024-07-22T16:18:52.546Z"
   },
   {
    "duration": 0,
    "start_time": "2024-07-22T16:18:52.548Z"
   },
   {
    "duration": 221,
    "start_time": "2024-07-22T16:19:01.857Z"
   },
   {
    "duration": 1105,
    "start_time": "2024-07-22T16:19:02.082Z"
   },
   {
    "duration": 7,
    "start_time": "2024-07-22T16:19:03.193Z"
   },
   {
    "duration": 335,
    "start_time": "2024-07-22T16:19:03.203Z"
   },
   {
    "duration": 23,
    "start_time": "2024-07-22T16:19:03.543Z"
   },
   {
    "duration": 5,
    "start_time": "2024-07-22T16:19:03.568Z"
   },
   {
    "duration": 18,
    "start_time": "2024-07-22T16:19:03.576Z"
   },
   {
    "duration": 18,
    "start_time": "2024-07-22T16:19:03.634Z"
   },
   {
    "duration": 358,
    "start_time": "2024-07-22T16:19:03.656Z"
   },
   {
    "duration": 5,
    "start_time": "2024-07-22T16:19:04.016Z"
   },
   {
    "duration": 169,
    "start_time": "2024-07-22T16:19:04.034Z"
   },
   {
    "duration": 29,
    "start_time": "2024-07-22T16:19:04.205Z"
   },
   {
    "duration": 35,
    "start_time": "2024-07-22T16:19:04.238Z"
   },
   {
    "duration": 22,
    "start_time": "2024-07-22T16:19:04.279Z"
   },
   {
    "duration": 7,
    "start_time": "2024-07-22T16:19:04.335Z"
   },
   {
    "duration": 1832,
    "start_time": "2024-07-22T16:19:04.345Z"
   },
   {
    "duration": 485,
    "start_time": "2024-07-22T16:19:06.180Z"
   },
   {
    "duration": 6,
    "start_time": "2024-07-22T16:19:06.668Z"
   },
   {
    "duration": 611,
    "start_time": "2024-07-22T16:19:06.678Z"
   },
   {
    "duration": 78,
    "start_time": "2024-07-22T16:19:07.292Z"
   },
   {
    "duration": 6,
    "start_time": "2024-07-22T16:19:07.375Z"
   },
   {
    "duration": 7,
    "start_time": "2024-07-22T16:19:07.384Z"
   },
   {
    "duration": 5,
    "start_time": "2024-07-22T16:19:07.394Z"
   },
   {
    "duration": 36,
    "start_time": "2024-07-22T16:19:07.403Z"
   },
   {
    "duration": 31,
    "start_time": "2024-07-22T16:19:07.442Z"
   },
   {
    "duration": 10871,
    "start_time": "2024-07-22T16:19:07.477Z"
   },
   {
    "duration": 127985,
    "start_time": "2024-07-22T16:19:18.356Z"
   },
   {
    "duration": 3445161,
    "start_time": "2024-07-22T16:21:26.344Z"
   },
   {
    "duration": 5054,
    "start_time": "2024-07-22T19:06:41.638Z"
   },
   {
    "duration": 964,
    "start_time": "2024-07-22T19:06:46.697Z"
   },
   {
    "duration": 7,
    "start_time": "2024-07-22T19:06:47.664Z"
   },
   {
    "duration": 319,
    "start_time": "2024-07-22T19:06:47.675Z"
   },
   {
    "duration": 39,
    "start_time": "2024-07-22T19:06:48.000Z"
   },
   {
    "duration": 5,
    "start_time": "2024-07-22T19:06:48.041Z"
   },
   {
    "duration": 17,
    "start_time": "2024-07-22T19:06:48.049Z"
   },
   {
    "duration": 20,
    "start_time": "2024-07-22T19:06:48.069Z"
   },
   {
    "duration": 373,
    "start_time": "2024-07-22T19:06:48.092Z"
   },
   {
    "duration": 7,
    "start_time": "2024-07-22T19:06:48.468Z"
   },
   {
    "duration": 166,
    "start_time": "2024-07-22T19:06:48.477Z"
   },
   {
    "duration": 17,
    "start_time": "2024-07-22T19:06:48.647Z"
   },
   {
    "duration": 27,
    "start_time": "2024-07-22T19:06:48.666Z"
   },
   {
    "duration": 52,
    "start_time": "2024-07-22T19:06:48.699Z"
   },
   {
    "duration": 5,
    "start_time": "2024-07-22T19:06:48.754Z"
   },
   {
    "duration": 1751,
    "start_time": "2024-07-22T19:06:48.762Z"
   },
   {
    "duration": 440,
    "start_time": "2024-07-22T19:06:50.516Z"
   },
   {
    "duration": 6,
    "start_time": "2024-07-22T19:06:50.960Z"
   },
   {
    "duration": 594,
    "start_time": "2024-07-22T19:06:50.970Z"
   },
   {
    "duration": 74,
    "start_time": "2024-07-22T19:06:51.567Z"
   },
   {
    "duration": 6,
    "start_time": "2024-07-22T19:06:51.645Z"
   },
   {
    "duration": 4,
    "start_time": "2024-07-22T19:06:51.654Z"
   },
   {
    "duration": 7,
    "start_time": "2024-07-22T19:06:51.662Z"
   },
   {
    "duration": 12,
    "start_time": "2024-07-22T19:06:51.671Z"
   },
   {
    "duration": 64,
    "start_time": "2024-07-22T19:06:51.687Z"
   },
   {
    "duration": 12387,
    "start_time": "2024-07-22T19:06:51.754Z"
   },
   {
    "duration": 129225,
    "start_time": "2024-07-22T19:07:04.144Z"
   },
   {
    "duration": 3434548,
    "start_time": "2024-07-22T19:09:13.373Z"
   },
   {
    "duration": 72121,
    "start_time": "2024-07-22T21:51:26.086Z"
   },
   {
    "duration": 71399,
    "start_time": "2024-07-22T22:11:41.999Z"
   },
   {
    "duration": 4,
    "start_time": "2024-07-22T22:15:52.634Z"
   },
   {
    "duration": 3,
    "start_time": "2024-07-22T22:15:55.749Z"
   },
   {
    "duration": 71450,
    "start_time": "2024-07-22T22:16:00.251Z"
   },
   {
    "duration": 71353,
    "start_time": "2024-07-22T22:25:46.776Z"
   },
   {
    "duration": 71311,
    "start_time": "2024-07-22T22:34:08.793Z"
   },
   {
    "duration": 71461,
    "start_time": "2024-07-22T22:41:33.053Z"
   },
   {
    "duration": 24,
    "start_time": "2024-07-22T22:43:21.914Z"
   },
   {
    "duration": 4,
    "start_time": "2024-07-22T22:44:09.418Z"
   },
   {
    "duration": 4,
    "start_time": "2024-07-22T22:44:39.726Z"
   },
   {
    "duration": 8,
    "start_time": "2024-07-22T22:44:58.625Z"
   },
   {
    "duration": 72544,
    "start_time": "2024-07-22T22:47:45.190Z"
   },
   {
    "duration": 10,
    "start_time": "2024-07-22T22:49:18.411Z"
   },
   {
    "duration": 11,
    "start_time": "2024-07-22T22:49:33.317Z"
   },
   {
    "duration": 13,
    "start_time": "2024-07-23T11:50:10.980Z"
   },
   {
    "duration": 5,
    "start_time": "2024-07-23T11:54:23.099Z"
   }
  ],
  "kernelspec": {
   "display_name": "Python 3 (ipykernel)",
   "language": "python",
   "name": "python3"
  },
  "language_info": {
   "codemirror_mode": {
    "name": "ipython",
    "version": 3
   },
   "file_extension": ".py",
   "mimetype": "text/x-python",
   "name": "python",
   "nbconvert_exporter": "python",
   "pygments_lexer": "ipython3",
   "version": "3.9.19"
  },
  "toc": {
   "base_numbering": 1,
   "nav_menu": {},
   "number_sections": true,
   "sideBar": true,
   "skip_h1_title": true,
   "title_cell": "Table of Contents",
   "title_sidebar": "Contents",
   "toc_cell": false,
   "toc_position": {},
   "toc_section_display": true,
   "toc_window_display": false
  }
 },
 "nbformat": 4,
 "nbformat_minor": 2
}
